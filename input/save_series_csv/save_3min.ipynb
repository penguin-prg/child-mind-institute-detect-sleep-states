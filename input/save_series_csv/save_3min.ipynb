{
 "cells": [
  {
   "cell_type": "code",
   "execution_count": 1,
   "metadata": {},
   "outputs": [],
   "source": [
    "import numpy as np\n",
    "import pandas as pd\n",
    "import matplotlib.pyplot as plt\n",
    "import yaml\n",
    "import datetime\n",
    "from tqdm import tqdm\n",
    "import os\n",
    "\n",
    "import warnings\n",
    "warnings.filterwarnings('ignore')"
   ]
  },
  {
   "cell_type": "code",
   "execution_count": 2,
   "metadata": {},
   "outputs": [],
   "source": [
    "config = f\"\"\"\n",
    "dataset: \n",
    "    competition_dir: /kaggle/input/child-mind-institute-detect-sleep-states\n",
    "    cv_split_path: /kaggle/input/cv_split/train_folds.csv\n",
    "\n",
    "seed: 46\n",
    "\"\"\"\n",
    "\n",
    "CFG = yaml.load(config, Loader=yaml.SafeLoader)"
   ]
  },
  {
   "cell_type": "code",
   "execution_count": 3,
   "metadata": {},
   "outputs": [
    {
     "data": {
      "text/html": [
       "<div>\n",
       "<style scoped>\n",
       "    .dataframe tbody tr th:only-of-type {\n",
       "        vertical-align: middle;\n",
       "    }\n",
       "\n",
       "    .dataframe tbody tr th {\n",
       "        vertical-align: top;\n",
       "    }\n",
       "\n",
       "    .dataframe thead th {\n",
       "        text-align: right;\n",
       "    }\n",
       "</style>\n",
       "<table border=\"1\" class=\"dataframe\">\n",
       "  <thead>\n",
       "    <tr style=\"text-align: right;\">\n",
       "      <th></th>\n",
       "      <th>series_id</th>\n",
       "      <th>night</th>\n",
       "      <th>event</th>\n",
       "      <th>step</th>\n",
       "      <th>timestamp</th>\n",
       "      <th>safe</th>\n",
       "    </tr>\n",
       "  </thead>\n",
       "  <tbody>\n",
       "    <tr>\n",
       "      <th>0</th>\n",
       "      <td>038441c925bb</td>\n",
       "      <td>1</td>\n",
       "      <td>onset</td>\n",
       "      <td>4992.0</td>\n",
       "      <td>2018-08-14T22:26:00-0400</td>\n",
       "      <td>True</td>\n",
       "    </tr>\n",
       "    <tr>\n",
       "      <th>1</th>\n",
       "      <td>038441c925bb</td>\n",
       "      <td>1</td>\n",
       "      <td>wakeup</td>\n",
       "      <td>10932.0</td>\n",
       "      <td>2018-08-15T06:41:00-0400</td>\n",
       "      <td>True</td>\n",
       "    </tr>\n",
       "    <tr>\n",
       "      <th>2</th>\n",
       "      <td>038441c925bb</td>\n",
       "      <td>2</td>\n",
       "      <td>onset</td>\n",
       "      <td>20244.0</td>\n",
       "      <td>2018-08-15T19:37:00-0400</td>\n",
       "      <td>True</td>\n",
       "    </tr>\n",
       "    <tr>\n",
       "      <th>3</th>\n",
       "      <td>038441c925bb</td>\n",
       "      <td>2</td>\n",
       "      <td>wakeup</td>\n",
       "      <td>27492.0</td>\n",
       "      <td>2018-08-16T05:41:00-0400</td>\n",
       "      <td>True</td>\n",
       "    </tr>\n",
       "    <tr>\n",
       "      <th>4</th>\n",
       "      <td>038441c925bb</td>\n",
       "      <td>3</td>\n",
       "      <td>onset</td>\n",
       "      <td>39996.0</td>\n",
       "      <td>2018-08-16T23:03:00-0400</td>\n",
       "      <td>True</td>\n",
       "    </tr>\n",
       "  </tbody>\n",
       "</table>\n",
       "</div>"
      ],
      "text/plain": [
       "      series_id  night   event     step                 timestamp  safe\n",
       "0  038441c925bb      1   onset   4992.0  2018-08-14T22:26:00-0400  True\n",
       "1  038441c925bb      1  wakeup  10932.0  2018-08-15T06:41:00-0400  True\n",
       "2  038441c925bb      2   onset  20244.0  2018-08-15T19:37:00-0400  True\n",
       "3  038441c925bb      2  wakeup  27492.0  2018-08-16T05:41:00-0400  True\n",
       "4  038441c925bb      3   onset  39996.0  2018-08-16T23:03:00-0400  True"
      ]
     },
     "execution_count": 3,
     "metadata": {},
     "output_type": "execute_result"
    }
   ],
   "source": [
    "labels = pd.read_csv(os.path.join(CFG['dataset']['competition_dir'], 'train_events.csv'))\n",
    "\n",
    "# 朝と夜の両方がそろってるものだけを残す\n",
    "check = labels.groupby([\"series_id\", \"night\"])[\"step\"].count().reset_index()\n",
    "check[\"step\"] = check[\"step\"] == 2\n",
    "check.rename(columns={\"step\": \"safe\"}, inplace=True)\n",
    "labels = labels.merge(check, on=[\"series_id\", \"night\"], how=\"left\")\n",
    "labels = labels[labels[\"safe\"] == True]\n",
    "\n",
    "labels.head()"
   ]
  },
  {
   "cell_type": "code",
   "execution_count": 4,
   "metadata": {},
   "outputs": [
    {
     "data": {
      "text/html": [
       "<div>\n",
       "<style scoped>\n",
       "    .dataframe tbody tr th:only-of-type {\n",
       "        vertical-align: middle;\n",
       "    }\n",
       "\n",
       "    .dataframe tbody tr th {\n",
       "        vertical-align: top;\n",
       "    }\n",
       "\n",
       "    .dataframe thead th {\n",
       "        text-align: right;\n",
       "    }\n",
       "</style>\n",
       "<table border=\"1\" class=\"dataframe\">\n",
       "  <thead>\n",
       "    <tr style=\"text-align: right;\">\n",
       "      <th></th>\n",
       "      <th>series_id</th>\n",
       "      <th>step</th>\n",
       "      <th>timestamp</th>\n",
       "      <th>anglez</th>\n",
       "      <th>enmo</th>\n",
       "    </tr>\n",
       "  </thead>\n",
       "  <tbody>\n",
       "    <tr>\n",
       "      <th>0</th>\n",
       "      <td>038441c925bb</td>\n",
       "      <td>0</td>\n",
       "      <td>2018-08-14T15:30:00-0400</td>\n",
       "      <td>2.6367</td>\n",
       "      <td>0.0217</td>\n",
       "    </tr>\n",
       "    <tr>\n",
       "      <th>1</th>\n",
       "      <td>038441c925bb</td>\n",
       "      <td>1</td>\n",
       "      <td>2018-08-14T15:30:05-0400</td>\n",
       "      <td>2.6368</td>\n",
       "      <td>0.0215</td>\n",
       "    </tr>\n",
       "    <tr>\n",
       "      <th>2</th>\n",
       "      <td>038441c925bb</td>\n",
       "      <td>2</td>\n",
       "      <td>2018-08-14T15:30:10-0400</td>\n",
       "      <td>2.6370</td>\n",
       "      <td>0.0216</td>\n",
       "    </tr>\n",
       "    <tr>\n",
       "      <th>3</th>\n",
       "      <td>038441c925bb</td>\n",
       "      <td>3</td>\n",
       "      <td>2018-08-14T15:30:15-0400</td>\n",
       "      <td>2.6368</td>\n",
       "      <td>0.0213</td>\n",
       "    </tr>\n",
       "    <tr>\n",
       "      <th>4</th>\n",
       "      <td>038441c925bb</td>\n",
       "      <td>4</td>\n",
       "      <td>2018-08-14T15:30:20-0400</td>\n",
       "      <td>2.6368</td>\n",
       "      <td>0.0215</td>\n",
       "    </tr>\n",
       "  </tbody>\n",
       "</table>\n",
       "</div>"
      ],
      "text/plain": [
       "      series_id  step                 timestamp  anglez    enmo\n",
       "0  038441c925bb     0  2018-08-14T15:30:00-0400  2.6367  0.0217\n",
       "1  038441c925bb     1  2018-08-14T15:30:05-0400  2.6368  0.0215\n",
       "2  038441c925bb     2  2018-08-14T15:30:10-0400  2.6370  0.0216\n",
       "3  038441c925bb     3  2018-08-14T15:30:15-0400  2.6368  0.0213\n",
       "4  038441c925bb     4  2018-08-14T15:30:20-0400  2.6368  0.0215"
      ]
     },
     "execution_count": 4,
     "metadata": {},
     "output_type": "execute_result"
    }
   ],
   "source": [
    "train = pd.read_parquet(CFG[\"dataset\"][\"competition_dir\"] + \"/train_series.parquet\")\n",
    "train.head()"
   ]
  },
  {
   "cell_type": "code",
   "execution_count": 5,
   "metadata": {},
   "outputs": [
    {
     "name": "stderr",
     "output_type": "stream",
     "text": [
      "100%|██████████| 277/277 [01:38<00:00,  2.82it/s]\n"
     ]
    }
   ],
   "source": [
    "thresholds = (np.array([0, 12, 36, 60, 90, 120, 150, 180, 240, 300, 360]) // 12).astype(int)\n",
    "for series_id, df in tqdm(train.groupby(\"series_id\")):\n",
    "    df = df.reset_index(drop=True)\n",
    "\n",
    "    label_df = labels[labels[\"series_id\"] == series_id][[\"step\", \"event\"]]\n",
    "\n",
    "    # 目的変数（起床時：1, 就寝時：0）\n",
    "    df = df.merge(label_df, on=\"step\", how=\"left\")\n",
    "    df[\"target\"] = 0\n",
    "    df.loc[df[\"event\"] == \"onset\", \"target\"] = -1\n",
    "    df.loc[df[\"event\"] == \"wakeup\", \"target\"] = 1\n",
    "    df[\"target\"] = df[\"target\"].cumsum() + 1\n",
    "\n",
    "    # 目的変数（範囲内の閾値の個数）\n",
    "    if len(label_df) > 0:\n",
    "        label_dfs = []\n",
    "        for event, event_df in label_df[[\"step\", \"event\"]].groupby(\"event\"):\n",
    "            dfs = []\n",
    "            for i, thresh in enumerate(thresholds[::-1]):\n",
    "                for sign in [1, -1]:\n",
    "                    thresh_df = event_df.copy()\n",
    "                    thresh_df[\"step\"] = thresh_df[\"step\"] + thresh * sign\n",
    "                    thresh_df[f\"{event}_target\"] = i\n",
    "                    dfs.append(thresh_df)\n",
    "            event_df = pd.concat(dfs, axis=0).drop_duplicates(subset=[\"step\"], keep=\"first\")\n",
    "            label_dfs.append(event_df[[\"step\", f\"{event}_target\"]])\n",
    "        label_df = pd.merge(label_dfs[0], label_dfs[1], on=[\"step\"], how=\"outer\").sort_values(\"step\").reset_index(drop=True)\n",
    "        df = df.merge(label_df, on=\"step\", how=\"left\")\n",
    "        df[[\"onset_target\", \"wakeup_target\"]] = df[[\"onset_target\", \"wakeup_target\"]].interpolate(method=\"linear\", limit_direction=\"both\")\n",
    "    else:\n",
    "        df[\"onset_target\"] = 0\n",
    "        df[\"wakeup_target\"] = 0\n",
    "            \n",
    "    path = f\"/kaggle/input/save_series_csv/csvs_3min/{series_id}.parquet\"\n",
    "    os.makedirs(os.path.dirname(path), exist_ok=True)\n",
    "    df.to_parquet(path, index=False)"
   ]
  },
  {
   "cell_type": "code",
   "execution_count": 6,
   "metadata": {},
   "outputs": [
    {
     "data": {
      "text/plain": [
       "<AxesSubplot: >"
      ]
     },
     "execution_count": 6,
     "metadata": {},
     "output_type": "execute_result"
    },
    {
     "data": {
      "image/png": "[encoded data removed]",
      "text/plain": [
       "<Figure size 640x480 with 1 Axes>"
      ]
     },
     "metadata": {},
     "output_type": "display_data"
    }
   ],
   "source": [
    "df[\"onset_target\"][108000:108200].plot()"
   ]
  },
  {
   "cell_type": "code",
   "execution_count": null,
   "metadata": {},
   "outputs": [],
   "source": []
  }
 ],
 "metadata": {
  "kernelspec": {
   "display_name": "base",
   "language": "python",
   "name": "python3"
  },
  "language_info": {
   "codemirror_mode": {
    "name": "ipython",
    "version": 3
   },
   "file_extension": ".py",
   "mimetype": "text/x-python",
   "name": "python",
   "nbconvert_exporter": "python",
   "pygments_lexer": "ipython3",
   "version": "3.10.10"
  },
  "orig_nbformat": 4
 },
 "nbformat": 4,
 "nbformat_minor": 2
}
