{
 "cells": [
  {
   "cell_type": "code",
   "execution_count": 1,
   "id": "03c897c5",
   "metadata": {
    "execution": {
     "iopub.execute_input": "2023-11-05T15:39:17.727790Z",
     "iopub.status.busy": "2023-11-05T15:39:17.726873Z",
     "iopub.status.idle": "2023-11-05T15:39:17.738497Z",
     "shell.execute_reply": "2023-11-05T15:39:17.737433Z"
    },
    "papermill": {
     "duration": 0.02418,
     "end_time": "2023-11-05T15:39:17.741178",
     "exception": false,
     "start_time": "2023-11-05T15:39:17.716998",
     "status": "completed"
    },
    "tags": []
   },
   "outputs": [],
   "source": [
    "EVALUATE = True"
   ]
  },
  {
   "cell_type": "code",
   "execution_count": 2,
   "id": "ed29d35d",
   "metadata": {
    "_cell_guid": "b1076dfc-b9ad-4769-8c92-a6c4dae69d19",
    "_uuid": "8f2839f25d086af736a60e9eeb907d3b93b6e0e5",
    "execution": {
     "iopub.execute_input": "2023-11-05T15:39:17.759524Z",
     "iopub.status.busy": "2023-11-05T15:39:17.758764Z",
     "iopub.status.idle": "2023-11-05T15:39:18.023625Z",
     "shell.execute_reply": "2023-11-05T15:39:18.022254Z"
    },
    "papermill": {
     "duration": 0.276395,
     "end_time": "2023-11-05T15:39:18.026720",
     "exception": false,
     "start_time": "2023-11-05T15:39:17.750325",
     "status": "completed"
    },
    "tags": []
   },
   "outputs": [],
   "source": [
    "from datetime import datetime as dt\n",
    "from datetime import timedelta\n",
    "from pathlib import Path\n",
    "\n",
    "from matplotlib.dates import date2num\n",
    "import polars as pl\n",
    "from matplotlib import pyplot as plt\n",
    "\n",
    "plt.style.use(\"ggplot\")"
   ]
  },
  {
   "cell_type": "code",
   "execution_count": 3,
   "id": "fb894d25",
   "metadata": {
    "execution": {
     "iopub.execute_input": "2023-11-05T15:39:18.042975Z",
     "iopub.status.busy": "2023-11-05T15:39:18.042495Z",
     "iopub.status.idle": "2023-11-05T15:39:18.053440Z",
     "shell.execute_reply": "2023-11-05T15:39:18.052424Z"
    },
    "papermill": {
     "duration": 0.022258,
     "end_time": "2023-11-05T15:39:18.055987",
     "exception": false,
     "start_time": "2023-11-05T15:39:18.033729",
     "status": "completed"
    },
    "tags": []
   },
   "outputs": [],
   "source": [
    "DATA_PATH = Path(\"/kaggle/input/child-mind-institute-detect-sleep-states\")\n",
    "TRAIN_EVENTS_PATH = DATA_PATH / \"train_events.csv\"\n",
    "TRAIN_SERIES_PATH = DATA_PATH / \"train_series.parquet\"\n",
    "TEST_SERIES_PATH = DATA_PATH / \"test_series.parquet\"\n",
    "SAMPLE_SUBMISSION_PATH = DATA_PATH / \"sample_submission.csv\"\n",
    "# SLEEP_DATA_PATH = Path(\"/kaggle/input/sleep-data/sleep_time_probability.parquet\")\n",
    "\n",
    "for path in [\n",
    "    DATA_PATH,\n",
    "    TRAIN_EVENTS_PATH,\n",
    "    TRAIN_SERIES_PATH,\n",
    "    TEST_SERIES_PATH,\n",
    "    SAMPLE_SUBMISSION_PATH,\n",
    "    # SLEEP_DATA_PATH,\n",
    "]:\n",
    "    assert path.exists()"
   ]
  },
  {
   "cell_type": "code",
   "execution_count": 4,
   "id": "a5b1b7b2",
   "metadata": {
    "_kg_hide-input": true,
    "execution": {
     "iopub.execute_input": "2023-11-05T15:39:18.072812Z",
     "iopub.status.busy": "2023-11-05T15:39:18.071828Z",
     "iopub.status.idle": "2023-11-05T15:39:18.090429Z",
     "shell.execute_reply": "2023-11-05T15:39:18.089404Z"
    },
    "jupyter": {
     "source_hidden": true
    },
    "papermill": {
     "duration": 0.030027,
     "end_time": "2023-11-05T15:39:18.093096",
     "exception": false,
     "start_time": "2023-11-05T15:39:18.063069",
     "status": "completed"
    },
    "tags": []
   },
   "outputs": [],
   "source": [
    "import polars as pl\n",
    "\n",
    "\n",
    "def transform(df, night_offset=20):\n",
    "    return (\n",
    "        df.with_columns(\n",
    "            [\n",
    "                pl.col(\"timestamp\").str.slice(-5, 3).cast(pl.Int8).alias(\"tz_offset\"),\n",
    "            ]\n",
    "        )\n",
    "        .with_columns(\n",
    "            [\n",
    "                (pl.col(\"tz_offset\") == -4).alias(\"is_dst\"),\n",
    "            ]\n",
    "        )\n",
    "        .with_columns(\n",
    "            [\n",
    "                pl.col(\"timestamp\")\n",
    "                .str.strptime(pl.Datetime, format=\"%Y-%m-%dT%H:%M:%S%z\")\n",
    "                .alias(\"timestamp\"),\n",
    "            ]\n",
    "        )\n",
    "        .with_columns(\n",
    "            [\n",
    "                (pl.col(\"timestamp\").dt.year() - 2000).cast(pl.Int8).alias(\"year\"),\n",
    "                pl.col(\"timestamp\").dt.month().cast(pl.Int8).alias(\"month\"),\n",
    "                pl.col(\"timestamp\").dt.day().cast(pl.Int8).alias(\"day\"),\n",
    "                pl.col(\"timestamp\").dt.hour().cast(pl.Int8).alias(\"hour\"),\n",
    "                pl.col(\"timestamp\").dt.minute().cast(pl.Int8).alias(\"minute\"),\n",
    "                pl.col(\"timestamp\").dt.second().cast(pl.Int8).alias(\"second\"),\n",
    "                pl.col(\"timestamp\").dt.weekday().cast(pl.Int8).alias(\"weekday\"),\n",
    "            ]\n",
    "        )\n",
    "        .with_columns(  # 正午をまたいで日付を調整\n",
    "            pl.when(pl.col(\"hour\") < night_offset)\n",
    "            .then(pl.col(\"timestamp\"))\n",
    "            .otherwise(pl.col(\"timestamp\") + pl.duration(days=1))\n",
    "            .dt.date()\n",
    "            .alias(\"night_group\"),\n",
    "        )\n",
    "        .with_columns(\n",
    "            [\n",
    "                (\n",
    "                    pl.col(\"series_id\")\n",
    "                    + pl.lit(\"_\")\n",
    "                    + pl.col(\"night_group\").cast(pl.Datetime).dt.strftime(\"%Y%m%d\")\n",
    "                ).alias(\"group_id\"),\n",
    "            ]\n",
    "        )\n",
    "        .with_columns(\n",
    "            [\n",
    "                pl.col(\"timestamp\").cumcount().over(\"group_id\").alias(\"norm_step\"),\n",
    "            ]\n",
    "        )\n",
    "        .drop([\"night_group\"])\n",
    "    )\n",
    "\n",
    "\n",
    "def transform_series(df):\n",
    "    return transform(df).with_columns(\n",
    "        [\n",
    "            (pl.col(\"enmo\") == 0).alias(\"is_enmo_clipped\"),\n",
    "        ]\n",
    "    )\n",
    "\n",
    "\n",
    "def transform_events(df):\n",
    "    return (\n",
    "        transform(df)\n",
    "        .with_columns(\n",
    "            [\n",
    "                pl.col(\"night\").cast(pl.UInt32).alias(\"night\"),\n",
    "            ]\n",
    "        )\n",
    "        .pivot([\"step\", \"timestamp\", \"tz_offset\"], [\"series_id\", \"group_id\", \"night\"], \"event\")\n",
    "    )\n"
   ]
  },
  {
   "cell_type": "code",
   "execution_count": 5,
   "id": "63ae4419",
   "metadata": {
    "_kg_hide-input": true,
    "execution": {
     "iopub.execute_input": "2023-11-05T15:39:18.109180Z",
     "iopub.status.busy": "2023-11-05T15:39:18.108441Z",
     "iopub.status.idle": "2023-11-05T15:39:18.134107Z",
     "shell.execute_reply": "2023-11-05T15:39:18.132528Z"
    },
    "jupyter": {
     "source_hidden": true
    },
    "papermill": {
     "duration": 0.037356,
     "end_time": "2023-11-05T15:39:18.137418",
     "exception": false,
     "start_time": "2023-11-05T15:39:18.100062",
     "status": "completed"
    },
    "tags": []
   },
   "outputs": [],
   "source": [
    "def add_feature(\n",
    "    df,\n",
    "    group_col=\"series_id\",\n",
    "    day_group_col=\"group_id\",\n",
    "    term1=(5 * 60) // 5,\n",
    "    term2=(30 * 60) // 5,\n",
    "    term3=(60 * 60) // 5,\n",
    "    min_threshold=0.005,\n",
    "    max_threshold=0.04,\n",
    "    center=True,\n",
    "):\n",
    "    return (\n",
    "        df.with_columns(\n",
    "            [\n",
    "                pl.col(\"anglez\").diff(1).abs().over(group_col).alias(\"anglez_diff\"),\n",
    "                pl.col(\"enmo\").diff(1).abs().over(group_col).alias(\"enmo_diff\"),\n",
    "            ]\n",
    "        )\n",
    "        .with_columns(\n",
    "            [\n",
    "                pl.col(\"anglez_diff\")\n",
    "                .rolling_median(term1, center=center)  # 5 min window\n",
    "                .over(group_col)\n",
    "                .alias(\"anglez_diff_median_5min\"),\n",
    "                pl.col(\"enmo_diff\")\n",
    "                .rolling_median(term1, center=center)  # 5 min window\n",
    "                .over(group_col)\n",
    "                .alias(\"enmo_diff_median_5min\"),\n",
    "            ]\n",
    "        )\n",
    "        .with_columns(\n",
    "            [\n",
    "                pl.col(\"anglez_diff_median_5min\")\n",
    "                .quantile(0.1)\n",
    "                .clip(min_threshold, max_threshold)\n",
    "                .over(day_group_col)\n",
    "                .alias(\"critical_threshold\")\n",
    "            ]\n",
    "        )\n",
    "        .with_columns(\n",
    "            [\n",
    "                (pl.col(\"anglez_diff_median_5min\") < pl.col(\"critical_threshold\") * 15)\n",
    "                .over(group_col)\n",
    "                .alias(\"is_static\")\n",
    "            ]\n",
    "        )\n",
    "        .with_columns(\n",
    "            [\n",
    "                pl.col(\"is_static\")\n",
    "                .cast(pl.Int32)\n",
    "                .rolling_sum(term2, center=center)\n",
    "                .over(group_col)\n",
    "                .alias(\"is_static_sum_30min\"),\n",
    "            ]\n",
    "        )\n",
    "        .with_columns(\n",
    "            [(pl.col(\"is_static_sum_30min\") == ((30 * 60) // 5)).over(group_col).alias(\"tmp\")]\n",
    "        )\n",
    "        .with_columns(\n",
    "            [\n",
    "                pl.col(\"tmp\").shift(term2 // 2).over(group_col).alias(\"tmp_left\"),\n",
    "                pl.col(\"tmp\").shift(-(term2 // 2)).over(group_col).alias(\"tmp_right\"),\n",
    "            ]\n",
    "        )\n",
    "        .with_columns(\n",
    "            [\n",
    "                (pl.col(\"tmp_left\") | pl.col(\"tmp_right\")).alias(\"is_sleep_block\"),\n",
    "            ]\n",
    "        )\n",
    "        .drop([\"tmp\", \"tmp_left\", \"tmp_right\"])\n",
    "        .with_columns([pl.col(\"is_sleep_block\").not_().alias(\"is_gap\")])\n",
    "        .with_columns(\n",
    "            [\n",
    "                pl.col(\"is_gap\")\n",
    "                .cast(pl.Int32)\n",
    "                .rolling_sum(term3, center=center)\n",
    "                .over(group_col)\n",
    "                .alias(\"gap_length\")\n",
    "            ]\n",
    "        )\n",
    "        .with_columns([(pl.col(\"gap_length\") == term3).over(group_col).alias(\"tmp\")])\n",
    "        .with_columns(\n",
    "            [\n",
    "                pl.col(\"tmp\").shift(term3 // 2).over(group_col).alias(\"tmp_left\"),\n",
    "                pl.col(\"tmp\").shift(-(term3 // 2)).over(group_col).alias(\"tmp_right\"),\n",
    "            ]\n",
    "        )\n",
    "        .with_columns(\n",
    "            [\n",
    "                (pl.col(\"tmp_left\") | pl.col(\"tmp_right\")).alias(\"is_large_gap\"),\n",
    "            ]\n",
    "        )\n",
    "        .drop([\"tmp\", \"tmp_left\", \"tmp_right\"])\n",
    "        .with_columns([pl.col(\"is_large_gap\").not_().alias(\"is_sleep_episode\")])\n",
    "        #\n",
    "        # extract longest sleep episode\n",
    "        #\n",
    "        .with_columns(\n",
    "            [\n",
    "                # extract false->true transition\n",
    "                (\n",
    "                    (\n",
    "                        pl.col(\"is_sleep_episode\")\n",
    "                        & pl.col(\"is_sleep_episode\")\n",
    "                        .shift_and_fill(pl.lit(False), periods=1)\n",
    "                        .not_()\n",
    "                    )\n",
    "                    .cumsum()\n",
    "                    .over(\"group_id\")\n",
    "                ).alias(\"sleep_episode_id\")\n",
    "            ]\n",
    "        )\n",
    "        .with_columns(\n",
    "            [\n",
    "                pl.col(\"is_sleep_episode\")\n",
    "                .sum()\n",
    "                .over([\"group_id\", \"sleep_episode_id\"])\n",
    "                .alias(\"sleep_episode_length\")\n",
    "            ]\n",
    "        )\n",
    "        .with_columns(\n",
    "            [\n",
    "                pl.col(\"sleep_episode_length\")\n",
    "                .max()\n",
    "                .over([\"group_id\"])\n",
    "                .alias(\"max_sleep_episode_length\")\n",
    "            ]\n",
    "        )\n",
    "        .with_columns(\n",
    "            [\n",
    "                (\n",
    "                    pl.col(\"is_sleep_episode\")\n",
    "                    & (pl.col(\"sleep_episode_length\") == pl.col(\"max_sleep_episode_length\"))\n",
    "                ).alias(\"is_longest_sleep_episode\")\n",
    "            ]\n",
    "        )\n",
    "    )"
   ]
  },
  {
   "cell_type": "code",
   "execution_count": 6,
   "id": "541676ba",
   "metadata": {
    "execution": {
     "iopub.execute_input": "2023-11-05T15:39:18.153625Z",
     "iopub.status.busy": "2023-11-05T15:39:18.153194Z",
     "iopub.status.idle": "2023-11-05T15:45:17.990384Z",
     "shell.execute_reply": "2023-11-05T15:45:17.988419Z"
    },
    "papermill": {
     "duration": 359.861048,
     "end_time": "2023-11-05T15:45:18.005900",
     "exception": false,
     "start_time": "2023-11-05T15:39:18.144852",
     "status": "completed"
    },
    "tags": []
   },
   "outputs": [
    {
     "name": "stdout",
     "output_type": "stream",
     "text": [
      "#Events: 14508\n",
      "#Series: 277\n",
      "CPU times: user 11min 5s, sys: 38.3 s, total: 11min 43s\n",
      "Wall time: 1min 31s\n"
     ]
    }
   ],
   "source": [
    "%%time\n",
    "\n",
    "tr_events = pl.read_csv(TRAIN_EVENTS_PATH)\n",
    "tr_series = pl.read_parquet(TRAIN_SERIES_PATH)\n",
    "sample_submission = pl.read_csv(SAMPLE_SUBMISSION_PATH)\n",
    "\n",
    "series_ids = tr_events[\"series_id\"].unique()\n",
    "print(f\"#Events: {len(tr_events)}\")\n",
    "print(f\"#Series: {len(series_ids)}\")\n",
    "\n",
    "tr_series = transform_series(tr_series)\n",
    "tr_series = add_feature(tr_series)\n",
    "tr_events = transform_events(tr_events)"
   ]
  },
  {
   "cell_type": "code",
   "execution_count": 7,
   "metadata": {},
   "outputs": [
    {
     "data": {
      "text/html": [
       "<div><style>\n",
       ".dataframe > thead > tr > th,\n",
       ".dataframe > tbody > tr > td {\n",
       "  text-align: right;\n",
       "  white-space: pre-wrap;\n",
       "}\n",
       "</style>\n",
       "<small>shape: (5, 6)</small><table border=\"1\" class=\"dataframe\"><thead><tr><th>series_id</th><th>step</th><th>is_longest_sleep_episode</th><th>is_sleep_block</th><th>is_gap</th><th>is_large_gap</th></tr><tr><td>str</td><td>u32</td><td>bool</td><td>bool</td><td>bool</td><td>bool</td></tr></thead><tbody><tr><td>&quot;038441c925bb&quot;</td><td>0</td><td>false</td><td>false</td><td>false</td><td>false</td></tr><tr><td>&quot;038441c925bb&quot;</td><td>1</td><td>false</td><td>false</td><td>false</td><td>false</td></tr><tr><td>&quot;038441c925bb&quot;</td><td>2</td><td>false</td><td>false</td><td>false</td><td>false</td></tr><tr><td>&quot;038441c925bb&quot;</td><td>3</td><td>false</td><td>false</td><td>false</td><td>false</td></tr><tr><td>&quot;038441c925bb&quot;</td><td>4</td><td>false</td><td>false</td><td>false</td><td>false</td></tr></tbody></table></div>"
      ],
      "text/plain": [
       "shape: (5, 6)\n",
       "┌──────────────┬──────┬──────────────────────────┬────────────────┬────────┬──────────────┐\n",
       "│ series_id    ┆ step ┆ is_longest_sleep_episode ┆ is_sleep_block ┆ is_gap ┆ is_large_gap │\n",
       "│ ---          ┆ ---  ┆ ---                      ┆ ---            ┆ ---    ┆ ---          │\n",
       "│ str          ┆ u32  ┆ bool                     ┆ bool           ┆ bool   ┆ bool         │\n",
       "╞══════════════╪══════╪══════════════════════════╪════════════════╪════════╪══════════════╡\n",
       "│ 038441c925bb ┆ 0    ┆ false                    ┆ false          ┆ false  ┆ false        │\n",
       "│ 038441c925bb ┆ 1    ┆ false                    ┆ false          ┆ false  ┆ false        │\n",
       "│ 038441c925bb ┆ 2    ┆ false                    ┆ false          ┆ false  ┆ false        │\n",
       "│ 038441c925bb ┆ 3    ┆ false                    ┆ false          ┆ false  ┆ false        │\n",
       "│ 038441c925bb ┆ 4    ┆ false                    ┆ false          ┆ false  ┆ false        │\n",
       "└──────────────┴──────┴──────────────────────────┴────────────────┴────────┴──────────────┘"
      ]
     },
     "execution_count": 7,
     "metadata": {},
     "output_type": "execute_result"
    }
   ],
   "source": [
    "use_columns = [\"series_id\", \"step\", \"is_longest_sleep_episode\", \"is_sleep_block\", \"is_gap\", \"is_large_gap\"]\n",
    "tr_series = tr_series[use_columns].fill_null(False)\n",
    "tr_series.head()"
   ]
  },
  {
   "cell_type": "code",
   "execution_count": 10,
   "metadata": {},
   "outputs": [],
   "source": [
    "for sid, sdf in tr_series.group_by(\"series_id\"):\n",
    "    sdf = sdf.sort(\"step\")\n",
    "    path = Path(f\"heauristic_features/{sid}.parquet\")\n",
    "    path.parent.mkdir(parents=True, exist_ok=True)\n",
    "    sdf.write_parquet(path)"
   ]
  },
  {
   "cell_type": "code",
   "execution_count": null,
   "metadata": {},
   "outputs": [],
   "source": []
  },
  {
   "cell_type": "code",
   "execution_count": null,
   "metadata": {},
   "outputs": [],
   "source": []
  }
 ],
 "metadata": {
  "kernelspec": {
   "display_name": "Python 3",
   "language": "python",
   "name": "python3"
  },
  "language_info": {
   "codemirror_mode": {
    "name": "ipython",
    "version": 3
   },
   "file_extension": ".py",
   "mimetype": "text/x-python",
   "name": "python",
   "nbconvert_exporter": "python",
   "pygments_lexer": "ipython3",
   "version": "3.10.10"
  },
  "papermill": {
   "default_parameters": {},
   "duration": 588.106015,
   "end_time": "2023-11-05T15:49:01.919813",
   "environment_variables": {},
   "exception": null,
   "input_path": "__notebook__.ipynb",
   "output_path": "__notebook__.ipynb",
   "parameters": {},
   "start_time": "2023-11-05T15:39:13.813798",
   "version": "2.4.0"
  }
 },
 "nbformat": 4,
 "nbformat_minor": 5
}
