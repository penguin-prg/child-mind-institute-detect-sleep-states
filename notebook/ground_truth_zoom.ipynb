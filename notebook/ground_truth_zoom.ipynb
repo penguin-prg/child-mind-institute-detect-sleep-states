{
 "cells": [
  {
   "cell_type": "code",
   "execution_count": 2,
   "metadata": {},
   "outputs": [
    {
     "name": "stderr",
     "output_type": "stream",
     "text": [
      "/opt/conda/lib/python3.10/site-packages/scipy/__init__.py:146: UserWarning: A NumPy version >=1.16.5 and <1.23.0 is required for this version of SciPy (detected version 1.23.5\n",
      "  warnings.warn(f\"A NumPy version >={np_minversion} and <{np_maxversion}\"\n"
     ]
    }
   ],
   "source": [
    "import xgboost as xgb\n",
    "import numpy as np\n",
    "import pandas as pd\n",
    "import matplotlib.pyplot as plt\n",
    "import yaml\n",
    "import datetime\n",
    "import sys\n",
    "from tqdm import tqdm\n",
    "import os\n",
    "import random\n",
    "import pickle\n",
    "from glob import glob\n",
    "import gc\n",
    "from multiprocessing import Pool, cpu_count\n",
    "\n",
    "import warnings\n",
    "warnings.filterwarnings('ignore')\n"
   ]
  },
  {
   "cell_type": "code",
   "execution_count": 3,
   "metadata": {},
   "outputs": [],
   "source": [
    "config = f\"\"\"\n",
    "execution:\n",
    "    exp_id: exp_015\n",
    "    debug: False\n",
    "    submit: False\n",
    "    multiprocessing: True\n",
    "\n",
    "dataset: \n",
    "    competition_dir: /kaggle/input/child-mind-institute-detect-sleep-states\n",
    "    cv_split_path: /kaggle/input/cv_split/train_folds.csv\n",
    "    train_base_path: /kaggle/input/train_base/train_base.csv\n",
    "    step_csv_dir: /kaggle/input/save_series_csv/csvs\n",
    "\n",
    "feature:\n",
    "    agg_freq: 24 # [step]\n",
    "\n",
    "xgboost:    \n",
    "    objective: \"binary:logistic\"\n",
    "    learning_rate: 0.1  # 0.01で固定。学習時間とのトレードオフ\n",
    "    reg_alpha: 0.02  # L1正則化。0.1が推奨。\n",
    "    reg_lambda: 0.2  # L2正則化。0.1が推奨\n",
    "    random_state: 42\n",
    "    max_depth: 5  # 3-8。7くらいでいい。\n",
    "    colsample_bytree: 0.7  # カラムが多い時は少なめ(0.4とか)にする。\n",
    "    \n",
    "seed: 46\n",
    "\"\"\"\n",
    "\n",
    "CFG = yaml.load(config, Loader=yaml.SafeLoader)\n",
    "\n",
    "CFG[\"output_dir\"] = f\"/kaggle/output/{CFG['execution']['exp_id']}\"\n",
    "os.makedirs(CFG[\"output_dir\"], exist_ok=True)"
   ]
  },
  {
   "cell_type": "code",
   "execution_count": 4,
   "metadata": {},
   "outputs": [
    {
     "data": {
      "text/html": [
       "<div>\n",
       "<style scoped>\n",
       "    .dataframe tbody tr th:only-of-type {\n",
       "        vertical-align: middle;\n",
       "    }\n",
       "\n",
       "    .dataframe tbody tr th {\n",
       "        vertical-align: top;\n",
       "    }\n",
       "\n",
       "    .dataframe thead th {\n",
       "        text-align: right;\n",
       "    }\n",
       "</style>\n",
       "<table border=\"1\" class=\"dataframe\">\n",
       "  <thead>\n",
       "    <tr style=\"text-align: right;\">\n",
       "      <th></th>\n",
       "      <th>series_id</th>\n",
       "      <th>night</th>\n",
       "      <th>event</th>\n",
       "      <th>step</th>\n",
       "      <th>timestamp</th>\n",
       "    </tr>\n",
       "  </thead>\n",
       "  <tbody>\n",
       "    <tr>\n",
       "      <th>0</th>\n",
       "      <td>038441c925bb</td>\n",
       "      <td>1</td>\n",
       "      <td>onset</td>\n",
       "      <td>4992.0</td>\n",
       "      <td>2018-08-14T22:26:00-0400</td>\n",
       "    </tr>\n",
       "    <tr>\n",
       "      <th>1</th>\n",
       "      <td>038441c925bb</td>\n",
       "      <td>1</td>\n",
       "      <td>wakeup</td>\n",
       "      <td>10932.0</td>\n",
       "      <td>2018-08-15T06:41:00-0400</td>\n",
       "    </tr>\n",
       "    <tr>\n",
       "      <th>2</th>\n",
       "      <td>038441c925bb</td>\n",
       "      <td>2</td>\n",
       "      <td>onset</td>\n",
       "      <td>20244.0</td>\n",
       "      <td>2018-08-15T19:37:00-0400</td>\n",
       "    </tr>\n",
       "    <tr>\n",
       "      <th>3</th>\n",
       "      <td>038441c925bb</td>\n",
       "      <td>2</td>\n",
       "      <td>wakeup</td>\n",
       "      <td>27492.0</td>\n",
       "      <td>2018-08-16T05:41:00-0400</td>\n",
       "    </tr>\n",
       "    <tr>\n",
       "      <th>4</th>\n",
       "      <td>038441c925bb</td>\n",
       "      <td>3</td>\n",
       "      <td>onset</td>\n",
       "      <td>39996.0</td>\n",
       "      <td>2018-08-16T23:03:00-0400</td>\n",
       "    </tr>\n",
       "  </tbody>\n",
       "</table>\n",
       "</div>"
      ],
      "text/plain": [
       "      series_id  night   event     step                 timestamp\n",
       "0  038441c925bb      1   onset   4992.0  2018-08-14T22:26:00-0400\n",
       "1  038441c925bb      1  wakeup  10932.0  2018-08-15T06:41:00-0400\n",
       "2  038441c925bb      2   onset  20244.0  2018-08-15T19:37:00-0400\n",
       "3  038441c925bb      2  wakeup  27492.0  2018-08-16T05:41:00-0400\n",
       "4  038441c925bb      3   onset  39996.0  2018-08-16T23:03:00-0400"
      ]
     },
     "execution_count": 4,
     "metadata": {},
     "output_type": "execute_result"
    }
   ],
   "source": [
    "labels = pd.read_csv(f\"{CFG['dataset']['competition_dir']}/train_events.csv\").dropna()\n",
    "labels.head()"
   ]
  },
  {
   "cell_type": "code",
   "execution_count": 5,
   "metadata": {},
   "outputs": [
    {
     "name": "stderr",
     "output_type": "stream",
     "text": [
      " 37%|███▋      | 99/269 [23:29<43:27, 15.34s/it]  "
     ]
    }
   ],
   "source": [
    "dfs = []\n",
    "for series_id, label_df in tqdm(labels.groupby(\"series_id\")):\n",
    "    df = pd.read_csv(f\"{CFG['dataset']['step_csv_dir']}/{series_id}.csv\")\n",
    "    \n",
    "    for i, (step, event) in enumerate(label_df[[\"step\", \"event\"]].values):\n",
    "        start_step = step - 100\n",
    "        end_step = step + 100\n",
    "        group_df = df[(df[\"step\"] >= start_step) & (df[\"step\"] <= end_step)]\n",
    "\n",
    "        ticks = group_df[group_df[\"step\"] % 12 == 0][\"step\"].values\n",
    "\n",
    "        fig, axs = plt.subplots(4, 1, figsize=(20, 12))\n",
    "        axs[0].plot(group_df[\"step\"], group_df[\"enmo\"])\n",
    "        axs[0].axvline(step, color=\"red\")\n",
    "        axs[0].set_ylabel(\"enmo\")\n",
    "        axs[0].set_xticks(ticks)\n",
    "        axs[0].grid()\n",
    "        axs[1].plot(group_df[\"step\"], group_df[\"anglez\"])\n",
    "        axs[1].axvline(step, color=\"red\")\n",
    "        axs[1].set_ylabel(\"anglez\")\n",
    "        axs[1].set_xticks(ticks)\n",
    "        axs[1].grid()\n",
    "        axs[2].plot(group_df[\"step\"], group_df[\"anglez\"].diff()==0)\n",
    "        axs[2].axvline(step, color=\"red\")\n",
    "        axs[2].set_ylabel(\"anglez diff==0\")\n",
    "        axs[2].set_xticks(ticks)\n",
    "        axs[2].grid()\n",
    "        y = group_df[\"anglez\"].diff().abs()\n",
    "        y[y > 5] = 5\n",
    "        axs[3].plot(group_df[\"step\"], y)\n",
    "        axs[3].axvline(step, color=\"red\")\n",
    "        axs[3].set_ylabel(\"anglez diff abs\")\n",
    "        axs[3].set_xticks(ticks)\n",
    "        axs[3].grid()\n",
    "\n",
    "        plt.suptitle(f\"series_id: {series_id} ({event})\")\n",
    "        plt.tight_layout()\n",
    "\n",
    "        savepath = f\"/kaggle/notebook/gt_images_zoom/{series_id}_{start_step:06}-{end_step:06}.png\"\n",
    "        os.makedirs(os.path.dirname(savepath), exist_ok=True)\n",
    "        # plt.show()\n",
    "        plt.savefig(savepath)\n",
    "        plt.close()\n",
    "    #     break\n",
    "    # break"
   ]
  },
  {
   "cell_type": "code",
   "execution_count": null,
   "metadata": {},
   "outputs": [],
   "source": []
  },
  {
   "cell_type": "code",
   "execution_count": null,
   "metadata": {},
   "outputs": [],
   "source": []
  },
  {
   "cell_type": "code",
   "execution_count": null,
   "metadata": {},
   "outputs": [],
   "source": []
  },
  {
   "cell_type": "code",
   "execution_count": null,
   "metadata": {},
   "outputs": [],
   "source": []
  }
 ],
 "metadata": {
  "kernelspec": {
   "display_name": "base",
   "language": "python",
   "name": "python3"
  },
  "language_info": {
   "codemirror_mode": {
    "name": "ipython",
    "version": 3
   },
   "file_extension": ".py",
   "mimetype": "text/x-python",
   "name": "python",
   "nbconvert_exporter": "python",
   "pygments_lexer": "ipython3",
   "version": "3.10.10"
  },
  "orig_nbformat": 4
 },
 "nbformat": 4,
 "nbformat_minor": 2
}
