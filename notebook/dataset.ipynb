{
 "cells": [
  {
   "cell_type": "code",
   "execution_count": 2,
   "metadata": {},
   "outputs": [],
   "source": [
    "import numpy as np\n",
    "import pandas as pd\n",
    "import matplotlib.pyplot as plt\n",
    "import yaml\n",
    "\n",
    "\n",
    "import warnings\n",
    "warnings.filterwarnings('ignore')"
   ]
  },
  {
   "cell_type": "code",
   "execution_count": 3,
   "metadata": {},
   "outputs": [],
   "source": [
    "config = f\"\"\"\n",
    "dataset: \n",
    "    base_path: /kaggle/input/child-mind-institute-detect-sleep-states\n",
    "\n",
    "seed: 46\n",
    "\"\"\"\n",
    "\n",
    "CFG = yaml.load(config, Loader=yaml.SafeLoader)"
   ]
  },
  {
   "cell_type": "code",
   "execution_count": 4,
   "metadata": {},
   "outputs": [],
   "source": [
    "STEPS_PER_DAY = int(60 * 60 * 24 / 5) # 5秒で1step"
   ]
  },
  {
   "cell_type": "code",
   "execution_count": 5,
   "metadata": {},
   "outputs": [
    {
     "data": {
      "text/html": [
       "<div>\n",
       "<style scoped>\n",
       "    .dataframe tbody tr th:only-of-type {\n",
       "        vertical-align: middle;\n",
       "    }\n",
       "\n",
       "    .dataframe tbody tr th {\n",
       "        vertical-align: top;\n",
       "    }\n",
       "\n",
       "    .dataframe thead th {\n",
       "        text-align: right;\n",
       "    }\n",
       "</style>\n",
       "<table border=\"1\" class=\"dataframe\">\n",
       "  <thead>\n",
       "    <tr style=\"text-align: right;\">\n",
       "      <th></th>\n",
       "      <th>series_id</th>\n",
       "      <th>step</th>\n",
       "      <th>timestamp</th>\n",
       "      <th>anglez</th>\n",
       "      <th>enmo</th>\n",
       "    </tr>\n",
       "  </thead>\n",
       "  <tbody>\n",
       "    <tr>\n",
       "      <th>0</th>\n",
       "      <td>038441c925bb</td>\n",
       "      <td>0</td>\n",
       "      <td>2018-08-14T15:30:00-0400</td>\n",
       "      <td>2.636700</td>\n",
       "      <td>0.0217</td>\n",
       "    </tr>\n",
       "    <tr>\n",
       "      <th>1</th>\n",
       "      <td>038441c925bb</td>\n",
       "      <td>1</td>\n",
       "      <td>2018-08-14T15:30:05-0400</td>\n",
       "      <td>2.636800</td>\n",
       "      <td>0.0215</td>\n",
       "    </tr>\n",
       "    <tr>\n",
       "      <th>2</th>\n",
       "      <td>038441c925bb</td>\n",
       "      <td>2</td>\n",
       "      <td>2018-08-14T15:30:10-0400</td>\n",
       "      <td>2.637000</td>\n",
       "      <td>0.0216</td>\n",
       "    </tr>\n",
       "    <tr>\n",
       "      <th>3</th>\n",
       "      <td>038441c925bb</td>\n",
       "      <td>3</td>\n",
       "      <td>2018-08-14T15:30:15-0400</td>\n",
       "      <td>2.636800</td>\n",
       "      <td>0.0213</td>\n",
       "    </tr>\n",
       "    <tr>\n",
       "      <th>4</th>\n",
       "      <td>038441c925bb</td>\n",
       "      <td>4</td>\n",
       "      <td>2018-08-14T15:30:20-0400</td>\n",
       "      <td>2.636800</td>\n",
       "      <td>0.0215</td>\n",
       "    </tr>\n",
       "    <tr>\n",
       "      <th>...</th>\n",
       "      <td>...</td>\n",
       "      <td>...</td>\n",
       "      <td>...</td>\n",
       "      <td>...</td>\n",
       "      <td>...</td>\n",
       "    </tr>\n",
       "    <tr>\n",
       "      <th>127946335</th>\n",
       "      <td>fe90110788d2</td>\n",
       "      <td>592375</td>\n",
       "      <td>2017-09-08T00:14:35-0400</td>\n",
       "      <td>-27.277500</td>\n",
       "      <td>0.0204</td>\n",
       "    </tr>\n",
       "    <tr>\n",
       "      <th>127946336</th>\n",
       "      <td>fe90110788d2</td>\n",
       "      <td>592376</td>\n",
       "      <td>2017-09-08T00:14:40-0400</td>\n",
       "      <td>-27.032499</td>\n",
       "      <td>0.0233</td>\n",
       "    </tr>\n",
       "    <tr>\n",
       "      <th>127946337</th>\n",
       "      <td>fe90110788d2</td>\n",
       "      <td>592377</td>\n",
       "      <td>2017-09-08T00:14:45-0400</td>\n",
       "      <td>-26.841200</td>\n",
       "      <td>0.0202</td>\n",
       "    </tr>\n",
       "    <tr>\n",
       "      <th>127946338</th>\n",
       "      <td>fe90110788d2</td>\n",
       "      <td>592378</td>\n",
       "      <td>2017-09-08T00:14:50-0400</td>\n",
       "      <td>-26.723900</td>\n",
       "      <td>0.0199</td>\n",
       "    </tr>\n",
       "    <tr>\n",
       "      <th>127946339</th>\n",
       "      <td>fe90110788d2</td>\n",
       "      <td>592379</td>\n",
       "      <td>2017-09-08T00:14:55-0400</td>\n",
       "      <td>-31.521601</td>\n",
       "      <td>0.0205</td>\n",
       "    </tr>\n",
       "  </tbody>\n",
       "</table>\n",
       "<p>127946340 rows × 5 columns</p>\n",
       "</div>"
      ],
      "text/plain": [
       "              series_id    step                 timestamp     anglez    enmo\n",
       "0          038441c925bb       0  2018-08-14T15:30:00-0400   2.636700  0.0217\n",
       "1          038441c925bb       1  2018-08-14T15:30:05-0400   2.636800  0.0215\n",
       "2          038441c925bb       2  2018-08-14T15:30:10-0400   2.637000  0.0216\n",
       "3          038441c925bb       3  2018-08-14T15:30:15-0400   2.636800  0.0213\n",
       "4          038441c925bb       4  2018-08-14T15:30:20-0400   2.636800  0.0215\n",
       "...                 ...     ...                       ...        ...     ...\n",
       "127946335  fe90110788d2  592375  2017-09-08T00:14:35-0400 -27.277500  0.0204\n",
       "127946336  fe90110788d2  592376  2017-09-08T00:14:40-0400 -27.032499  0.0233\n",
       "127946337  fe90110788d2  592377  2017-09-08T00:14:45-0400 -26.841200  0.0202\n",
       "127946338  fe90110788d2  592378  2017-09-08T00:14:50-0400 -26.723900  0.0199\n",
       "127946339  fe90110788d2  592379  2017-09-08T00:14:55-0400 -31.521601  0.0205\n",
       "\n",
       "[127946340 rows x 5 columns]"
      ]
     },
     "execution_count": 5,
     "metadata": {},
     "output_type": "execute_result"
    }
   ],
   "source": [
    "train = pd.read_parquet(f'{CFG[\"dataset\"][\"base_path\"]}/train_series.parquet')\n",
    "train"
   ]
  },
  {
   "cell_type": "code",
   "execution_count": 6,
   "metadata": {},
   "outputs": [
    {
     "data": {
      "text/plain": [
       "277"
      ]
     },
     "execution_count": 6,
     "metadata": {},
     "output_type": "execute_result"
    }
   ],
   "source": [
    "train[\"series_id\"].nunique()"
   ]
  },
  {
   "cell_type": "markdown",
   "metadata": {},
   "source": [
    "シリーズの個数は277個"
   ]
  },
  {
   "cell_type": "code",
   "execution_count": 7,
   "metadata": {},
   "outputs": [
    {
     "data": {
      "text/html": [
       "<div>\n",
       "<style scoped>\n",
       "    .dataframe tbody tr th:only-of-type {\n",
       "        vertical-align: middle;\n",
       "    }\n",
       "\n",
       "    .dataframe tbody tr th {\n",
       "        vertical-align: top;\n",
       "    }\n",
       "\n",
       "    .dataframe thead th {\n",
       "        text-align: right;\n",
       "    }\n",
       "</style>\n",
       "<table border=\"1\" class=\"dataframe\">\n",
       "  <thead>\n",
       "    <tr style=\"text-align: right;\">\n",
       "      <th></th>\n",
       "      <th>series_id</th>\n",
       "      <th>night</th>\n",
       "      <th>event</th>\n",
       "      <th>step</th>\n",
       "      <th>timestamp</th>\n",
       "    </tr>\n",
       "  </thead>\n",
       "  <tbody>\n",
       "    <tr>\n",
       "      <th>0</th>\n",
       "      <td>038441c925bb</td>\n",
       "      <td>1</td>\n",
       "      <td>onset</td>\n",
       "      <td>4992.0</td>\n",
       "      <td>2018-08-14T22:26:00-0400</td>\n",
       "    </tr>\n",
       "    <tr>\n",
       "      <th>1</th>\n",
       "      <td>038441c925bb</td>\n",
       "      <td>1</td>\n",
       "      <td>wakeup</td>\n",
       "      <td>10932.0</td>\n",
       "      <td>2018-08-15T06:41:00-0400</td>\n",
       "    </tr>\n",
       "    <tr>\n",
       "      <th>2</th>\n",
       "      <td>038441c925bb</td>\n",
       "      <td>2</td>\n",
       "      <td>onset</td>\n",
       "      <td>20244.0</td>\n",
       "      <td>2018-08-15T19:37:00-0400</td>\n",
       "    </tr>\n",
       "    <tr>\n",
       "      <th>3</th>\n",
       "      <td>038441c925bb</td>\n",
       "      <td>2</td>\n",
       "      <td>wakeup</td>\n",
       "      <td>27492.0</td>\n",
       "      <td>2018-08-16T05:41:00-0400</td>\n",
       "    </tr>\n",
       "    <tr>\n",
       "      <th>4</th>\n",
       "      <td>038441c925bb</td>\n",
       "      <td>3</td>\n",
       "      <td>onset</td>\n",
       "      <td>39996.0</td>\n",
       "      <td>2018-08-16T23:03:00-0400</td>\n",
       "    </tr>\n",
       "    <tr>\n",
       "      <th>...</th>\n",
       "      <td>...</td>\n",
       "      <td>...</td>\n",
       "      <td>...</td>\n",
       "      <td>...</td>\n",
       "      <td>...</td>\n",
       "    </tr>\n",
       "    <tr>\n",
       "      <th>14505</th>\n",
       "      <td>fe90110788d2</td>\n",
       "      <td>33</td>\n",
       "      <td>wakeup</td>\n",
       "      <td>560604.0</td>\n",
       "      <td>2017-09-06T04:07:00-0400</td>\n",
       "    </tr>\n",
       "    <tr>\n",
       "      <th>14506</th>\n",
       "      <td>fe90110788d2</td>\n",
       "      <td>34</td>\n",
       "      <td>onset</td>\n",
       "      <td>574620.0</td>\n",
       "      <td>2017-09-06T23:35:00-0400</td>\n",
       "    </tr>\n",
       "    <tr>\n",
       "      <th>14507</th>\n",
       "      <td>fe90110788d2</td>\n",
       "      <td>34</td>\n",
       "      <td>wakeup</td>\n",
       "      <td>581604.0</td>\n",
       "      <td>2017-09-07T09:17:00-0400</td>\n",
       "    </tr>\n",
       "    <tr>\n",
       "      <th>14508</th>\n",
       "      <td>fe90110788d2</td>\n",
       "      <td>35</td>\n",
       "      <td>onset</td>\n",
       "      <td>NaN</td>\n",
       "      <td>NaN</td>\n",
       "    </tr>\n",
       "    <tr>\n",
       "      <th>14509</th>\n",
       "      <td>fe90110788d2</td>\n",
       "      <td>35</td>\n",
       "      <td>wakeup</td>\n",
       "      <td>NaN</td>\n",
       "      <td>NaN</td>\n",
       "    </tr>\n",
       "  </tbody>\n",
       "</table>\n",
       "<p>14510 rows × 5 columns</p>\n",
       "</div>"
      ],
      "text/plain": [
       "          series_id  night   event      step                 timestamp\n",
       "0      038441c925bb      1   onset    4992.0  2018-08-14T22:26:00-0400\n",
       "1      038441c925bb      1  wakeup   10932.0  2018-08-15T06:41:00-0400\n",
       "2      038441c925bb      2   onset   20244.0  2018-08-15T19:37:00-0400\n",
       "3      038441c925bb      2  wakeup   27492.0  2018-08-16T05:41:00-0400\n",
       "4      038441c925bb      3   onset   39996.0  2018-08-16T23:03:00-0400\n",
       "...             ...    ...     ...       ...                       ...\n",
       "14505  fe90110788d2     33  wakeup  560604.0  2017-09-06T04:07:00-0400\n",
       "14506  fe90110788d2     34   onset  574620.0  2017-09-06T23:35:00-0400\n",
       "14507  fe90110788d2     34  wakeup  581604.0  2017-09-07T09:17:00-0400\n",
       "14508  fe90110788d2     35   onset       NaN                       NaN\n",
       "14509  fe90110788d2     35  wakeup       NaN                       NaN\n",
       "\n",
       "[14510 rows x 5 columns]"
      ]
     },
     "execution_count": 7,
     "metadata": {},
     "output_type": "execute_result"
    }
   ],
   "source": [
    "train_events = pd.read_csv(f'{CFG[\"dataset\"][\"base_path\"]}/train_events.csv')\n",
    "train_events"
   ]
  },
  {
   "cell_type": "code",
   "execution_count": 8,
   "metadata": {},
   "outputs": [
    {
     "data": {
      "text/plain": [
       "0.33928325292901446"
      ]
     },
     "execution_count": 8,
     "metadata": {},
     "output_type": "execute_result"
    }
   ],
   "source": [
    "train_events[\"step\"].isna().mean()"
   ]
  },
  {
   "cell_type": "markdown",
   "metadata": {},
   "source": [
    "34%くらいは正解ラベルが欠損してる"
   ]
  },
  {
   "cell_type": "code",
   "execution_count": 20,
   "metadata": {},
   "outputs": [
    {
     "data": {
      "text/plain": [
       "7259"
      ]
     },
     "execution_count": 20,
     "metadata": {},
     "output_type": "execute_result"
    }
   ],
   "source": [
    "train_events.groupby(\"series_id\")[\"night\"].max().sum()"
   ]
  },
  {
   "cell_type": "markdown",
   "metadata": {},
   "source": [
    "7200日分くらいのデータがある。"
   ]
  },
  {
   "cell_type": "code",
   "execution_count": null,
   "metadata": {},
   "outputs": [],
   "source": []
  },
  {
   "cell_type": "code",
   "execution_count": 9,
   "metadata": {},
   "outputs": [],
   "source": [
    "train = train.merge(train_events[[\"series_id\", \"step\", \"event\"]], on=[\"series_id\", \"step\"], how=\"left\")"
   ]
  },
  {
   "cell_type": "code",
   "execution_count": 10,
   "metadata": {},
   "outputs": [
    {
     "data": {
      "text/html": [
       "<div>\n",
       "<style scoped>\n",
       "    .dataframe tbody tr th:only-of-type {\n",
       "        vertical-align: middle;\n",
       "    }\n",
       "\n",
       "    .dataframe tbody tr th {\n",
       "        vertical-align: top;\n",
       "    }\n",
       "\n",
       "    .dataframe thead th {\n",
       "        text-align: right;\n",
       "    }\n",
       "</style>\n",
       "<table border=\"1\" class=\"dataframe\">\n",
       "  <thead>\n",
       "    <tr style=\"text-align: right;\">\n",
       "      <th></th>\n",
       "      <th>series_id</th>\n",
       "      <th>step</th>\n",
       "      <th>timestamp</th>\n",
       "      <th>anglez</th>\n",
       "      <th>enmo</th>\n",
       "      <th>event</th>\n",
       "    </tr>\n",
       "  </thead>\n",
       "  <tbody>\n",
       "    <tr>\n",
       "      <th>0</th>\n",
       "      <td>038441c925bb</td>\n",
       "      <td>0</td>\n",
       "      <td>2018-08-14T15:30:00-0400</td>\n",
       "      <td>2.636700</td>\n",
       "      <td>0.0217</td>\n",
       "      <td>NaN</td>\n",
       "    </tr>\n",
       "    <tr>\n",
       "      <th>1</th>\n",
       "      <td>038441c925bb</td>\n",
       "      <td>1</td>\n",
       "      <td>2018-08-14T15:30:05-0400</td>\n",
       "      <td>2.636800</td>\n",
       "      <td>0.0215</td>\n",
       "      <td>NaN</td>\n",
       "    </tr>\n",
       "    <tr>\n",
       "      <th>2</th>\n",
       "      <td>038441c925bb</td>\n",
       "      <td>2</td>\n",
       "      <td>2018-08-14T15:30:10-0400</td>\n",
       "      <td>2.637000</td>\n",
       "      <td>0.0216</td>\n",
       "      <td>NaN</td>\n",
       "    </tr>\n",
       "    <tr>\n",
       "      <th>3</th>\n",
       "      <td>038441c925bb</td>\n",
       "      <td>3</td>\n",
       "      <td>2018-08-14T15:30:15-0400</td>\n",
       "      <td>2.636800</td>\n",
       "      <td>0.0213</td>\n",
       "      <td>NaN</td>\n",
       "    </tr>\n",
       "    <tr>\n",
       "      <th>4</th>\n",
       "      <td>038441c925bb</td>\n",
       "      <td>4</td>\n",
       "      <td>2018-08-14T15:30:20-0400</td>\n",
       "      <td>2.636800</td>\n",
       "      <td>0.0215</td>\n",
       "      <td>NaN</td>\n",
       "    </tr>\n",
       "    <tr>\n",
       "      <th>...</th>\n",
       "      <td>...</td>\n",
       "      <td>...</td>\n",
       "      <td>...</td>\n",
       "      <td>...</td>\n",
       "      <td>...</td>\n",
       "      <td>...</td>\n",
       "    </tr>\n",
       "    <tr>\n",
       "      <th>127946335</th>\n",
       "      <td>fe90110788d2</td>\n",
       "      <td>592375</td>\n",
       "      <td>2017-09-08T00:14:35-0400</td>\n",
       "      <td>-27.277500</td>\n",
       "      <td>0.0204</td>\n",
       "      <td>NaN</td>\n",
       "    </tr>\n",
       "    <tr>\n",
       "      <th>127946336</th>\n",
       "      <td>fe90110788d2</td>\n",
       "      <td>592376</td>\n",
       "      <td>2017-09-08T00:14:40-0400</td>\n",
       "      <td>-27.032499</td>\n",
       "      <td>0.0233</td>\n",
       "      <td>NaN</td>\n",
       "    </tr>\n",
       "    <tr>\n",
       "      <th>127946337</th>\n",
       "      <td>fe90110788d2</td>\n",
       "      <td>592377</td>\n",
       "      <td>2017-09-08T00:14:45-0400</td>\n",
       "      <td>-26.841200</td>\n",
       "      <td>0.0202</td>\n",
       "      <td>NaN</td>\n",
       "    </tr>\n",
       "    <tr>\n",
       "      <th>127946338</th>\n",
       "      <td>fe90110788d2</td>\n",
       "      <td>592378</td>\n",
       "      <td>2017-09-08T00:14:50-0400</td>\n",
       "      <td>-26.723900</td>\n",
       "      <td>0.0199</td>\n",
       "      <td>NaN</td>\n",
       "    </tr>\n",
       "    <tr>\n",
       "      <th>127946339</th>\n",
       "      <td>fe90110788d2</td>\n",
       "      <td>592379</td>\n",
       "      <td>2017-09-08T00:14:55-0400</td>\n",
       "      <td>-31.521601</td>\n",
       "      <td>0.0205</td>\n",
       "      <td>NaN</td>\n",
       "    </tr>\n",
       "  </tbody>\n",
       "</table>\n",
       "<p>127946340 rows × 6 columns</p>\n",
       "</div>"
      ],
      "text/plain": [
       "              series_id    step                 timestamp     anglez    enmo  \\\n",
       "0          038441c925bb       0  2018-08-14T15:30:00-0400   2.636700  0.0217   \n",
       "1          038441c925bb       1  2018-08-14T15:30:05-0400   2.636800  0.0215   \n",
       "2          038441c925bb       2  2018-08-14T15:30:10-0400   2.637000  0.0216   \n",
       "3          038441c925bb       3  2018-08-14T15:30:15-0400   2.636800  0.0213   \n",
       "4          038441c925bb       4  2018-08-14T15:30:20-0400   2.636800  0.0215   \n",
       "...                 ...     ...                       ...        ...     ...   \n",
       "127946335  fe90110788d2  592375  2017-09-08T00:14:35-0400 -27.277500  0.0204   \n",
       "127946336  fe90110788d2  592376  2017-09-08T00:14:40-0400 -27.032499  0.0233   \n",
       "127946337  fe90110788d2  592377  2017-09-08T00:14:45-0400 -26.841200  0.0202   \n",
       "127946338  fe90110788d2  592378  2017-09-08T00:14:50-0400 -26.723900  0.0199   \n",
       "127946339  fe90110788d2  592379  2017-09-08T00:14:55-0400 -31.521601  0.0205   \n",
       "\n",
       "          event  \n",
       "0           NaN  \n",
       "1           NaN  \n",
       "2           NaN  \n",
       "3           NaN  \n",
       "4           NaN  \n",
       "...         ...  \n",
       "127946335   NaN  \n",
       "127946336   NaN  \n",
       "127946337   NaN  \n",
       "127946338   NaN  \n",
       "127946339   NaN  \n",
       "\n",
       "[127946340 rows x 6 columns]"
      ]
     },
     "execution_count": 10,
     "metadata": {},
     "output_type": "execute_result"
    }
   ],
   "source": [
    "train"
   ]
  },
  {
   "cell_type": "code",
   "execution_count": 13,
   "metadata": {},
   "outputs": [],
   "source": [
    "train[\"hour\"] = train[\"timestamp\"].str[-13:-11].astype(int)\n",
    "train[\"minute\"] = train[\"timestamp\"].str[-10:-8].astype(int)\n",
    "train[\"second\"] = train[\"timestamp\"].str[-7:-5].astype(int)"
   ]
  },
  {
   "cell_type": "code",
   "execution_count": 15,
   "metadata": {},
   "outputs": [],
   "source": [
    "train[\"step_of_day\"] = train[\"hour\"] * 60 * 60 // 5 + train[\"minute\"] * 60 // 5 + train[\"second\"] // 5"
   ]
  },
  {
   "cell_type": "code",
   "execution_count": 16,
   "metadata": {},
   "outputs": [
    {
     "data": {
      "text/plain": [
       "wakeup    4794\n",
       "onset     4793\n",
       "Name: event, dtype: int64"
      ]
     },
     "execution_count": 16,
     "metadata": {},
     "output_type": "execute_result"
    }
   ],
   "source": [
    "train[\"event\"].value_counts()"
   ]
  },
  {
   "cell_type": "code",
   "execution_count": 18,
   "metadata": {},
   "outputs": [
    {
     "data": {
      "image/png": "[encoded data removed]",
      "text/plain": [
       "<Figure size 640x480 with 1 Axes>"
      ]
     },
     "metadata": {},
     "output_type": "display_data"
    }
   ],
   "source": [
    "train_wakeup = train[train[\"event\"] == \"wakeup\"]\n",
    "plt.hist(train_wakeup[\"step_of_day\"], bins=100)\n",
    "plt.show()"
   ]
  },
  {
   "cell_type": "code",
   "execution_count": 19,
   "metadata": {},
   "outputs": [
    {
     "data": {
      "image/png": "[encoded data removed]",
      "text/plain": [
       "<Figure size 640x480 with 1 Axes>"
      ]
     },
     "metadata": {},
     "output_type": "display_data"
    }
   ],
   "source": [
    "train_onset = train[train[\"event\"] == \"onset\"]\n",
    "plt.hist(train_onset[\"step_of_day\"], bins=100)\n",
    "plt.show()"
   ]
  },
  {
   "cell_type": "code",
   "execution_count": null,
   "metadata": {},
   "outputs": [],
   "source": []
  },
  {
   "cell_type": "code",
   "execution_count": null,
   "metadata": {},
   "outputs": [],
   "source": []
  },
  {
   "cell_type": "code",
   "execution_count": null,
   "metadata": {},
   "outputs": [],
   "source": []
  },
  {
   "cell_type": "code",
   "execution_count": null,
   "metadata": {},
   "outputs": [],
   "source": []
  }
 ],
 "metadata": {
  "kernelspec": {
   "display_name": "base",
   "language": "python",
   "name": "python3"
  },
  "language_info": {
   "codemirror_mode": {
    "name": "ipython",
    "version": 3
   },
   "file_extension": ".py",
   "mimetype": "text/x-python",
   "name": "python",
   "nbconvert_exporter": "python",
   "pygments_lexer": "ipython3",
   "version": "3.10.10"
  },
  "orig_nbformat": 4
 },
 "nbformat": 4,
 "nbformat_minor": 2
}
