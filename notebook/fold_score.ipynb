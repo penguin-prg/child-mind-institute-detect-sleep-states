{
 "cells": [
  {
   "cell_type": "code",
   "execution_count": 1,
   "metadata": {},
   "outputs": [
    {
     "name": "stderr",
     "output_type": "stream",
     "text": [
      "/opt/conda/lib/python3.10/site-packages/scipy/__init__.py:146: UserWarning: A NumPy version >=1.16.5 and <1.23.0 is required for this version of SciPy (detected version 1.23.5\n",
      "  warnings.warn(f\"A NumPy version >={np_minversion} and <{np_maxversion}\"\n"
     ]
    }
   ],
   "source": [
    "import xgboost as xgb\n",
    "import numpy as np\n",
    "import pandas as pd\n",
    "import matplotlib.pyplot as plt\n",
    "import yaml\n",
    "import datetime\n",
    "import sys\n",
    "from tqdm import tqdm\n",
    "import os\n",
    "import random\n",
    "import pickle\n",
    "from glob import glob\n",
    "import gc\n",
    "from multiprocessing import Pool, cpu_count\n",
    "\n",
    "import warnings\n",
    "warnings.filterwarnings('ignore')\n",
    "\n",
    "sys.path.append('/kaggle/src')\n",
    "from utils.xgb import fit_xgb, inference_xgb\n",
    "from utils.metric import compute_comptetition_metric\n",
    "from utils.feature_contena import Features\n",
    "from utils.pandas_utils import reduce_mem_usage"
   ]
  },
  {
   "cell_type": "code",
   "execution_count": 9,
   "metadata": {},
   "outputs": [],
   "source": [
    "config = f\"\"\"\n",
    "execution:\n",
    "    exp_id: exp_046\n",
    "    debug: False\n",
    "    submit: False\n",
    "    multiprocessing: True\n",
    "\n",
    "dataset: \n",
    "    competition_dir: /kaggle/input/child-mind-institute-detect-sleep-states\n",
    "    cv_split_path: /kaggle/input/cv-split/train_folds.csv\n",
    "    train_base_path: /kaggle/input/train_base/train_base.csv\n",
    "    step_csv_dir: /kaggle/input/save_series_csv/csvs\n",
    "\n",
    "feature:\n",
    "    agg_freq: 24 # [step]\n",
    "\n",
    "xgboost:    \n",
    "    objective: \"binary:logistic\"\n",
    "    learning_rate: 0.1  # 0.01で固定。学習時間とのトレードオフ\n",
    "    reg_alpha: 0.02  # L1正則化。0.1が推奨。\n",
    "    reg_lambda: 0.2  # L2正則化。0.1が推奨\n",
    "    random_state: 42\n",
    "    max_depth: 5  # 3-8。7くらいでいい。\n",
    "    colsample_bytree: 0.7  # カラムが多い時は少なめ(0.4とか)にする。\n",
    "    \n",
    "seed: 46\n",
    "\"\"\"\n",
    "\n",
    "CFG = yaml.load(config, Loader=yaml.SafeLoader)\n",
    "\n",
    "CFG[\"output_dir\"] = f\"/kaggle/output/{CFG['execution']['exp_id']}\"\n",
    "os.makedirs(CFG[\"output_dir\"], exist_ok=True)"
   ]
  },
  {
   "cell_type": "code",
   "execution_count": 3,
   "metadata": {},
   "outputs": [],
   "source": [
    "sub = pd.read_csv(os.path.join(CFG[\"output_dir\"], \"submission.csv\"))"
   ]
  },
  {
   "cell_type": "code",
   "execution_count": 4,
   "metadata": {},
   "outputs": [
    {
     "data": {
      "text/html": [
       "<div>\n",
       "<style scoped>\n",
       "    .dataframe tbody tr th:only-of-type {\n",
       "        vertical-align: middle;\n",
       "    }\n",
       "\n",
       "    .dataframe tbody tr th {\n",
       "        vertical-align: top;\n",
       "    }\n",
       "\n",
       "    .dataframe thead th {\n",
       "        text-align: right;\n",
       "    }\n",
       "</style>\n",
       "<table border=\"1\" class=\"dataframe\">\n",
       "  <thead>\n",
       "    <tr style=\"text-align: right;\">\n",
       "      <th></th>\n",
       "      <th>score</th>\n",
       "      <th>key_step</th>\n",
       "      <th>step</th>\n",
       "      <th>event</th>\n",
       "      <th>level</th>\n",
       "      <th>series_id</th>\n",
       "    </tr>\n",
       "  </thead>\n",
       "  <tbody>\n",
       "    <tr>\n",
       "      <th>0</th>\n",
       "      <td>0.023660</td>\n",
       "      <td>4331.5</td>\n",
       "      <td>4275</td>\n",
       "      <td>onset</td>\n",
       "      <td>5.0</td>\n",
       "      <td>038441c925bb</td>\n",
       "    </tr>\n",
       "    <tr>\n",
       "      <th>1</th>\n",
       "      <td>0.007944</td>\n",
       "      <td>4691.5</td>\n",
       "      <td>4635</td>\n",
       "      <td>onset</td>\n",
       "      <td>3.0</td>\n",
       "      <td>038441c925bb</td>\n",
       "    </tr>\n",
       "    <tr>\n",
       "      <th>2</th>\n",
       "      <td>0.113175</td>\n",
       "      <td>4931.5</td>\n",
       "      <td>4875</td>\n",
       "      <td>onset</td>\n",
       "      <td>1.0</td>\n",
       "      <td>038441c925bb</td>\n",
       "    </tr>\n",
       "    <tr>\n",
       "      <th>3</th>\n",
       "      <td>9.007933</td>\n",
       "      <td>5051.5</td>\n",
       "      <td>4995</td>\n",
       "      <td>onset</td>\n",
       "      <td>0.0</td>\n",
       "      <td>038441c925bb</td>\n",
       "    </tr>\n",
       "    <tr>\n",
       "      <th>4</th>\n",
       "      <td>0.252198</td>\n",
       "      <td>5171.5</td>\n",
       "      <td>5115</td>\n",
       "      <td>onset</td>\n",
       "      <td>2.0</td>\n",
       "      <td>038441c925bb</td>\n",
       "    </tr>\n",
       "    <tr>\n",
       "      <th>...</th>\n",
       "      <td>...</td>\n",
       "      <td>...</td>\n",
       "      <td>...</td>\n",
       "      <td>...</td>\n",
       "      <td>...</td>\n",
       "      <td>...</td>\n",
       "    </tr>\n",
       "    <tr>\n",
       "      <th>73486</th>\n",
       "      <td>4.763826</td>\n",
       "      <td>581603.5</td>\n",
       "      <td>581530</td>\n",
       "      <td>wakeup</td>\n",
       "      <td>1.0</td>\n",
       "      <td>fe90110788d2</td>\n",
       "    </tr>\n",
       "    <tr>\n",
       "      <th>73487</th>\n",
       "      <td>2.630256</td>\n",
       "      <td>581723.5</td>\n",
       "      <td>581650</td>\n",
       "      <td>wakeup</td>\n",
       "      <td>0.0</td>\n",
       "      <td>fe90110788d2</td>\n",
       "    </tr>\n",
       "    <tr>\n",
       "      <th>73488</th>\n",
       "      <td>2.769964</td>\n",
       "      <td>581843.5</td>\n",
       "      <td>581770</td>\n",
       "      <td>wakeup</td>\n",
       "      <td>2.0</td>\n",
       "      <td>fe90110788d2</td>\n",
       "    </tr>\n",
       "    <tr>\n",
       "      <th>73489</th>\n",
       "      <td>0.134013</td>\n",
       "      <td>582083.5</td>\n",
       "      <td>582010</td>\n",
       "      <td>wakeup</td>\n",
       "      <td>4.0</td>\n",
       "      <td>fe90110788d2</td>\n",
       "    </tr>\n",
       "    <tr>\n",
       "      <th>73490</th>\n",
       "      <td>0.026159</td>\n",
       "      <td>582443.5</td>\n",
       "      <td>582370</td>\n",
       "      <td>wakeup</td>\n",
       "      <td>6.0</td>\n",
       "      <td>fe90110788d2</td>\n",
       "    </tr>\n",
       "  </tbody>\n",
       "</table>\n",
       "<p>73491 rows × 6 columns</p>\n",
       "</div>"
      ],
      "text/plain": [
       "          score  key_step    step   event  level     series_id\n",
       "0      0.023660    4331.5    4275   onset    5.0  038441c925bb\n",
       "1      0.007944    4691.5    4635   onset    3.0  038441c925bb\n",
       "2      0.113175    4931.5    4875   onset    1.0  038441c925bb\n",
       "3      9.007933    5051.5    4995   onset    0.0  038441c925bb\n",
       "4      0.252198    5171.5    5115   onset    2.0  038441c925bb\n",
       "...         ...       ...     ...     ...    ...           ...\n",
       "73486  4.763826  581603.5  581530  wakeup    1.0  fe90110788d2\n",
       "73487  2.630256  581723.5  581650  wakeup    0.0  fe90110788d2\n",
       "73488  2.769964  581843.5  581770  wakeup    2.0  fe90110788d2\n",
       "73489  0.134013  582083.5  582010  wakeup    4.0  fe90110788d2\n",
       "73490  0.026159  582443.5  582370  wakeup    6.0  fe90110788d2\n",
       "\n",
       "[73491 rows x 6 columns]"
      ]
     },
     "execution_count": 4,
     "metadata": {},
     "output_type": "execute_result"
    }
   ],
   "source": [
    "sub"
   ]
  },
  {
   "cell_type": "code",
   "execution_count": 5,
   "metadata": {},
   "outputs": [
    {
     "data": {
      "text/html": [
       "<div>\n",
       "<style scoped>\n",
       "    .dataframe tbody tr th:only-of-type {\n",
       "        vertical-align: middle;\n",
       "    }\n",
       "\n",
       "    .dataframe tbody tr th {\n",
       "        vertical-align: top;\n",
       "    }\n",
       "\n",
       "    .dataframe thead th {\n",
       "        text-align: right;\n",
       "    }\n",
       "</style>\n",
       "<table border=\"1\" class=\"dataframe\">\n",
       "  <thead>\n",
       "    <tr style=\"text-align: right;\">\n",
       "      <th></th>\n",
       "      <th>series_id</th>\n",
       "      <th>night</th>\n",
       "      <th>event</th>\n",
       "      <th>step</th>\n",
       "      <th>timestamp</th>\n",
       "    </tr>\n",
       "  </thead>\n",
       "  <tbody>\n",
       "    <tr>\n",
       "      <th>0</th>\n",
       "      <td>038441c925bb</td>\n",
       "      <td>1</td>\n",
       "      <td>onset</td>\n",
       "      <td>4992.0</td>\n",
       "      <td>2018-08-14T22:26:00-0400</td>\n",
       "    </tr>\n",
       "    <tr>\n",
       "      <th>1</th>\n",
       "      <td>038441c925bb</td>\n",
       "      <td>1</td>\n",
       "      <td>wakeup</td>\n",
       "      <td>10932.0</td>\n",
       "      <td>2018-08-15T06:41:00-0400</td>\n",
       "    </tr>\n",
       "    <tr>\n",
       "      <th>2</th>\n",
       "      <td>038441c925bb</td>\n",
       "      <td>2</td>\n",
       "      <td>onset</td>\n",
       "      <td>20244.0</td>\n",
       "      <td>2018-08-15T19:37:00-0400</td>\n",
       "    </tr>\n",
       "    <tr>\n",
       "      <th>3</th>\n",
       "      <td>038441c925bb</td>\n",
       "      <td>2</td>\n",
       "      <td>wakeup</td>\n",
       "      <td>27492.0</td>\n",
       "      <td>2018-08-16T05:41:00-0400</td>\n",
       "    </tr>\n",
       "    <tr>\n",
       "      <th>4</th>\n",
       "      <td>038441c925bb</td>\n",
       "      <td>3</td>\n",
       "      <td>onset</td>\n",
       "      <td>39996.0</td>\n",
       "      <td>2018-08-16T23:03:00-0400</td>\n",
       "    </tr>\n",
       "  </tbody>\n",
       "</table>\n",
       "</div>"
      ],
      "text/plain": [
       "      series_id  night   event     step                 timestamp\n",
       "0  038441c925bb      1   onset   4992.0  2018-08-14T22:26:00-0400\n",
       "1  038441c925bb      1  wakeup  10932.0  2018-08-15T06:41:00-0400\n",
       "2  038441c925bb      2   onset  20244.0  2018-08-15T19:37:00-0400\n",
       "3  038441c925bb      2  wakeup  27492.0  2018-08-16T05:41:00-0400\n",
       "4  038441c925bb      3   onset  39996.0  2018-08-16T23:03:00-0400"
      ]
     },
     "execution_count": 5,
     "metadata": {},
     "output_type": "execute_result"
    }
   ],
   "source": [
    "labels = pd.read_csv(f\"{CFG['dataset']['competition_dir']}/train_events.csv\").dropna()\n",
    "labels.head()"
   ]
  },
  {
   "cell_type": "code",
   "execution_count": 6,
   "metadata": {},
   "outputs": [
    {
     "name": "stderr",
     "output_type": "stream",
     "text": [
      "100%|██████████| 10/10 [04:51<00:00, 29.15s/it]\n"
     ]
    }
   ],
   "source": [
    "scores = []\n",
    "for _ in tqdm(range(10)):\n",
    "    size = 50\n",
    "    series_ids = random.sample(list(labels[\"series_id\"].unique()), size)\n",
    "    labels_sample = labels[labels[\"series_id\"].isin(series_ids)]\n",
    "    sub_sample = sub[sub[\"series_id\"].isin(series_ids)]\n",
    "\n",
    "    score = compute_comptetition_metric(labels_sample, sub_sample)[0]\n",
    "    scores.append(score)"
   ]
  },
  {
   "cell_type": "code",
   "execution_count": 7,
   "metadata": {},
   "outputs": [
    {
     "data": {
      "image/png": "[encoded data removed]",
      "text/plain": [
       "<Figure size 640x480 with 1 Axes>"
      ]
     },
     "metadata": {},
     "output_type": "display_data"
    }
   ],
   "source": [
    "plt.hist(scores, bins=10, rwidth=0.8)\n",
    "plt.grid()\n",
    "plt.show()"
   ]
  },
  {
   "cell_type": "code",
   "execution_count": 11,
   "metadata": {},
   "outputs": [],
   "source": [
    "cv_split = pd.read_csv(CFG['dataset']['cv_split_path'])\n",
    "sub[\"fold\"] = sub[\"series_id\"].map(cv_split.set_index(\"series_id\")[\"fold\"])\n",
    "sub = sub[sub[\"fold\"] == 0].reset_index(drop=True)"
   ]
  },
  {
   "cell_type": "code",
   "execution_count": 12,
   "metadata": {},
   "outputs": [
    {
     "data": {
      "text/plain": [
       "0.732529961318986"
      ]
     },
     "execution_count": 12,
     "metadata": {},
     "output_type": "execute_result"
    }
   ],
   "source": [
    "series_ids = sub[\"series_id\"].unique()\n",
    "labels_sample = labels[labels[\"series_id\"].isin(series_ids)]\n",
    "sub_sample = sub[sub[\"series_id\"].isin(series_ids)]\n",
    "compute_comptetition_metric(labels_sample, sub_sample)[0]"
   ]
  },
  {
   "cell_type": "code",
   "execution_count": null,
   "metadata": {},
   "outputs": [],
   "source": []
  },
  {
   "cell_type": "code",
   "execution_count": null,
   "metadata": {},
   "outputs": [],
   "source": []
  },
  {
   "cell_type": "code",
   "execution_count": null,
   "metadata": {},
   "outputs": [],
   "source": []
  }
 ],
 "metadata": {
  "kernelspec": {
   "display_name": "base",
   "language": "python",
   "name": "python3"
  },
  "language_info": {
   "codemirror_mode": {
    "name": "ipython",
    "version": 3
   },
   "file_extension": ".py",
   "mimetype": "text/x-python",
   "name": "python",
   "nbconvert_exporter": "python",
   "pygments_lexer": "ipython3",
   "version": "3.10.10"
  },
  "orig_nbformat": 4
 },
 "nbformat": 4,
 "nbformat_minor": 2
}
