{
 "cells": [
  {
   "cell_type": "code",
   "execution_count": 1,
   "metadata": {},
   "outputs": [
    {
     "name": "stderr",
     "output_type": "stream",
     "text": [
      "/opt/conda/lib/python3.10/site-packages/scipy/__init__.py:146: UserWarning: A NumPy version >=1.16.5 and <1.23.0 is required for this version of SciPy (detected version 1.23.5\n",
      "  warnings.warn(f\"A NumPy version >={np_minversion} and <{np_maxversion}\"\n"
     ]
    }
   ],
   "source": [
    "import xgboost as xgb\n",
    "import numpy as np\n",
    "import pandas as pd\n",
    "import matplotlib.pyplot as plt\n",
    "import yaml\n",
    "import datetime\n",
    "import sys\n",
    "from tqdm import tqdm\n",
    "import os\n",
    "import random\n",
    "import pickle\n",
    "from glob import glob\n",
    "import gc\n",
    "from multiprocessing import Pool, cpu_count\n",
    "\n",
    "import warnings\n",
    "warnings.filterwarnings('ignore')\n",
    "\n",
    "sys.path.append('/kaggle')\n",
    "from utils.xgb import fit_xgb, inference_xgb\n",
    "from utils.metric import compute_comptetition_metric\n",
    "from utils.feature_contena import Features\n",
    "from utils.pandas_utils import reduce_mem_usage"
   ]
  },
  {
   "cell_type": "code",
   "execution_count": null,
   "metadata": {},
   "outputs": [],
   "source": [
    "config = f\"\"\"\n",
    "execution:\n",
    "    exp_id: exp_012\n",
    "    debug: False\n",
    "    submit: False\n",
    "    multiprocessing: True\n",
    "\n",
    "dataset: \n",
    "    competition_dir: /kaggle/input/child-mind-institute-detect-sleep-states\n",
    "    cv_split_path: /kaggle/input/cv_split/train_folds.csv\n",
    "    train_base_path: /kaggle/input/train_base/train_base.csv\n",
    "    step_csv_dir: /kaggle/input/save_series_csv/csvs\n",
    "\n",
    "feature:\n",
    "    agg_freq: 24 # [step]\n",
    "\n",
    "xgboost:    \n",
    "    objective: \"binary:logistic\"\n",
    "    learning_rate: 0.1  # 0.01で固定。学習時間とのトレードオフ\n",
    "    reg_alpha: 0.02  # L1正則化。0.1が推奨。\n",
    "    reg_lambda: 0.2  # L2正則化。0.1が推奨\n",
    "    random_state: 42\n",
    "    max_depth: 5  # 3-8。7くらいでいい。\n",
    "    colsample_bytree: 0.7  # カラムが多い時は少なめ(0.4とか)にする。\n",
    "    \n",
    "seed: 46\n",
    "\"\"\"\n",
    "\n",
    "CFG = yaml.load(config, Loader=yaml.SafeLoader)\n",
    "\n",
    "CFG[\"output_dir\"] = f\"/kaggle/output/{CFG['execution']['exp_id']}\"\n",
    "os.makedirs(CFG[\"output_dir\"], exist_ok=True)"
   ]
  },
  {
   "cell_type": "code",
   "execution_count": null,
   "metadata": {},
   "outputs": [],
   "source": [
    "train = pd.read_csv(CFG[\"execution\"][\"exp_id\"])\n",
    "train.head()"
   ]
  },
  {
   "cell_type": "code",
   "execution_count": null,
   "metadata": {},
   "outputs": [],
   "source": [
    "for idx, (series_id, df) in enumerate(train.groupby(\"series_id\")):\n",
    "    df = df.reset_index(drop=True)\n",
    "    df[\"raw_oof\"] = df[\"oof\"]\n",
    "    df[\"oof\"] = df[\"oof\"].rolling(24, center=True).mean()\n",
    "    wakeup_index = np.array([i for i in range(1, len(df[\"oof\"])) if df[\"oof\"][i-1] < 0.5 and df[\"oof\"][i] >= 0.5])\n",
    "    onset_index = np.array([i for i in range(1, len(df[\"oof\"])) if df[\"oof\"][i-1] > 0.5 and df[\"oof\"][i] <= 0.5])\n",
    "\n",
    "    sub = pd.concat([\n",
    "        pd.DataFrame({\n",
    "            \"series_id\": series_id,\n",
    "            \"step\": df[\"step\"].values[wakeup_index] - CFG[\"feature\"][\"agg_freq\"] // 2,\n",
    "            \"event\": \"wakeup\",\n",
    "            \"score\": 1,\n",
    "        }) if len(wakeup_index) > 0 else pd.DataFrame(),\n",
    "        pd.DataFrame({\n",
    "            \"series_id\": series_id,\n",
    "            \"step\": df[\"step\"].values[onset_index] - CFG[\"feature\"][\"agg_freq\"] // 2,\n",
    "            \"event\": \"onset\",\n",
    "            \"score\": 1,\n",
    "        }) if len(onset_index) > 0 else pd.DataFrame(),\n",
    "    ])\n",
    "\n",
    "    if idx < 25:\n",
    "        fig, axs = plt.subplots(3, 1, figsize=(20, 7))\n",
    "        axs[0].plot(df[\"oof\"])\n",
    "        axs[0].plot(df[\"target\"])\n",
    "        axs[0].scatter(wakeup_index, [0.5 for _ in wakeup_index], c=\"red\")\n",
    "        axs[0].scatter(onset_index, [0.5 for _ in onset_index], c=\"green\")\n",
    "        df = pd.read_csv(f\"{CFG['dataset']['step_csv_dir']}/{df['series_id'].values[0]}.csv\")\n",
    "        axs[1].plot(df[\"enmo\"])\n",
    "        axs[2].plot(df[\"anglez\"])\n",
    "        plt.suptitle(f\"series_id: {series_id}\")\n",
    "        plt.tight_layout()\n",
    "        plt.show()"
   ]
  },
  {
   "cell_type": "code",
   "execution_count": null,
   "metadata": {},
   "outputs": [],
   "source": []
  },
  {
   "cell_type": "code",
   "execution_count": null,
   "metadata": {},
   "outputs": [],
   "source": []
  },
  {
   "cell_type": "code",
   "execution_count": null,
   "metadata": {},
   "outputs": [],
   "source": []
  },
  {
   "cell_type": "code",
   "execution_count": null,
   "metadata": {},
   "outputs": [],
   "source": []
  },
  {
   "cell_type": "code",
   "execution_count": null,
   "metadata": {},
   "outputs": [],
   "source": []
  },
  {
   "cell_type": "code",
   "execution_count": null,
   "metadata": {},
   "outputs": [],
   "source": []
  }
 ],
 "metadata": {
  "kernelspec": {
   "display_name": "base",
   "language": "python",
   "name": "python3"
  },
  "language_info": {
   "codemirror_mode": {
    "name": "ipython",
    "version": 3
   },
   "file_extension": ".py",
   "mimetype": "text/x-python",
   "name": "python",
   "nbconvert_exporter": "python",
   "pygments_lexer": "ipython3",
   "version": "3.10.10"
  },
  "orig_nbformat": 4
 },
 "nbformat": 4,
 "nbformat_minor": 2
}
