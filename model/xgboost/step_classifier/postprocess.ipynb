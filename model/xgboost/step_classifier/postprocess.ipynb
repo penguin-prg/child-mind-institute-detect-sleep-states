{
 "cells": [
  {
   "cell_type": "code",
   "execution_count": 1,
   "metadata": {},
   "outputs": [
    {
     "name": "stderr",
     "output_type": "stream",
     "text": [
      "/opt/conda/lib/python3.10/site-packages/scipy/__init__.py:146: UserWarning: A NumPy version >=1.16.5 and <1.23.0 is required for this version of SciPy (detected version 1.23.5\n",
      "  warnings.warn(f\"A NumPy version >={np_minversion} and <{np_maxversion}\"\n"
     ]
    }
   ],
   "source": [
    "import xgboost as xgb\n",
    "import numpy as np\n",
    "import pandas as pd\n",
    "import matplotlib.pyplot as plt\n",
    "import yaml\n",
    "import datetime\n",
    "import sys\n",
    "from tqdm import tqdm\n",
    "import os\n",
    "import random\n",
    "import pickle\n",
    "from glob import glob\n",
    "import gc\n",
    "from multiprocessing import Pool, cpu_count\n",
    "\n",
    "import warnings\n",
    "warnings.filterwarnings('ignore')\n",
    "\n",
    "sys.path.append('/kaggle')\n",
    "from utils.xgb import fit_xgb, inference_xgb\n",
    "from utils.metric import compute_comptetition_metric\n",
    "from utils.feature_contena import Features\n",
    "from utils.pandas_utils import reduce_mem_usage"
   ]
  },
  {
   "cell_type": "code",
   "execution_count": 2,
   "metadata": {},
   "outputs": [],
   "source": [
    "config = f\"\"\"\n",
    "execution:\n",
    "    exp_id: exp_036\n",
    "    debug: False\n",
    "    submit: False\n",
    "    multiprocessing: True\n",
    "\n",
    "dataset: \n",
    "    competition_dir: /kaggle/input/child-mind-institute-detect-sleep-states\n",
    "    cv_split_path: /kaggle/input/cv_split/train_folds.csv\n",
    "    train_base_path: /kaggle/input/train_base/train_base.csv\n",
    "    step_csv_dir: /kaggle/input/save_series_csv/csvs\n",
    "\n",
    "feature:\n",
    "    agg_freq: 24 # [step]\n",
    "\n",
    "xgboost:    \n",
    "    objective: \"binary:logistic\"\n",
    "    learning_rate: 0.1  # 0.01で固定。学習時間とのトレードオフ\n",
    "    reg_alpha: 0.02  # L1正則化。0.1が推奨。\n",
    "    reg_lambda: 0.2  # L2正則化。0.1が推奨\n",
    "    random_state: 42\n",
    "    max_depth: 5  # 3-8。7くらいでいい。\n",
    "    colsample_bytree: 0.7  # カラムが多い時は少なめ(0.4とか)にする。\n",
    "    \n",
    "seed: 46\n",
    "\"\"\"\n",
    "\n",
    "CFG = yaml.load(config, Loader=yaml.SafeLoader)\n",
    "\n",
    "CFG[\"output_dir\"] = f\"/kaggle/output/{CFG['execution']['exp_id']}\"\n",
    "os.makedirs(CFG[\"output_dir\"], exist_ok=True)"
   ]
  },
  {
   "cell_type": "code",
   "execution_count": 3,
   "metadata": {},
   "outputs": [
    {
     "data": {
      "text/html": [
       "<div>\n",
       "<style scoped>\n",
       "    .dataframe tbody tr th:only-of-type {\n",
       "        vertical-align: middle;\n",
       "    }\n",
       "\n",
       "    .dataframe tbody tr th {\n",
       "        vertical-align: top;\n",
       "    }\n",
       "\n",
       "    .dataframe thead th {\n",
       "        text-align: right;\n",
       "    }\n",
       "</style>\n",
       "<table border=\"1\" class=\"dataframe\">\n",
       "  <thead>\n",
       "    <tr style=\"text-align: right;\">\n",
       "      <th></th>\n",
       "      <th>target</th>\n",
       "      <th>step</th>\n",
       "      <th>series_id</th>\n",
       "      <th>fold</th>\n",
       "      <th>oof_stage1</th>\n",
       "      <th>STAGE_stage1</th>\n",
       "      <th>raw_oof</th>\n",
       "      <th>oof_stage2</th>\n",
       "      <th>STAGE_stage2</th>\n",
       "      <th>minutes</th>\n",
       "      <th>oof</th>\n",
       "    </tr>\n",
       "  </thead>\n",
       "  <tbody>\n",
       "    <tr>\n",
       "      <th>0</th>\n",
       "      <td>1</td>\n",
       "      <td>11.5</td>\n",
       "      <td>038441c925bb</td>\n",
       "      <td>2</td>\n",
       "      <td>NaN</td>\n",
       "      <td>2</td>\n",
       "      <td>0.999819</td>\n",
       "      <td>NaN</td>\n",
       "      <td>NaN</td>\n",
       "      <td>NaN</td>\n",
       "      <td>1.0</td>\n",
       "    </tr>\n",
       "    <tr>\n",
       "      <th>1</th>\n",
       "      <td>1</td>\n",
       "      <td>35.5</td>\n",
       "      <td>038441c925bb</td>\n",
       "      <td>2</td>\n",
       "      <td>NaN</td>\n",
       "      <td>2</td>\n",
       "      <td>0.999644</td>\n",
       "      <td>NaN</td>\n",
       "      <td>NaN</td>\n",
       "      <td>NaN</td>\n",
       "      <td>1.0</td>\n",
       "    </tr>\n",
       "    <tr>\n",
       "      <th>2</th>\n",
       "      <td>1</td>\n",
       "      <td>59.5</td>\n",
       "      <td>038441c925bb</td>\n",
       "      <td>2</td>\n",
       "      <td>NaN</td>\n",
       "      <td>2</td>\n",
       "      <td>0.993865</td>\n",
       "      <td>NaN</td>\n",
       "      <td>NaN</td>\n",
       "      <td>NaN</td>\n",
       "      <td>1.0</td>\n",
       "    </tr>\n",
       "    <tr>\n",
       "      <th>3</th>\n",
       "      <td>1</td>\n",
       "      <td>83.5</td>\n",
       "      <td>038441c925bb</td>\n",
       "      <td>2</td>\n",
       "      <td>NaN</td>\n",
       "      <td>2</td>\n",
       "      <td>0.995005</td>\n",
       "      <td>NaN</td>\n",
       "      <td>NaN</td>\n",
       "      <td>NaN</td>\n",
       "      <td>1.0</td>\n",
       "    </tr>\n",
       "    <tr>\n",
       "      <th>4</th>\n",
       "      <td>1</td>\n",
       "      <td>107.5</td>\n",
       "      <td>038441c925bb</td>\n",
       "      <td>2</td>\n",
       "      <td>NaN</td>\n",
       "      <td>2</td>\n",
       "      <td>0.994551</td>\n",
       "      <td>NaN</td>\n",
       "      <td>NaN</td>\n",
       "      <td>NaN</td>\n",
       "      <td>1.0</td>\n",
       "    </tr>\n",
       "  </tbody>\n",
       "</table>\n",
       "</div>"
      ],
      "text/plain": [
       "   target   step     series_id  fold  oof_stage1  STAGE_stage1   raw_oof  \\\n",
       "0       1   11.5  038441c925bb     2         NaN             2  0.999819   \n",
       "1       1   35.5  038441c925bb     2         NaN             2  0.999644   \n",
       "2       1   59.5  038441c925bb     2         NaN             2  0.993865   \n",
       "3       1   83.5  038441c925bb     2         NaN             2  0.995005   \n",
       "4       1  107.5  038441c925bb     2         NaN             2  0.994551   \n",
       "\n",
       "   oof_stage2  STAGE_stage2  minutes  oof  \n",
       "0         NaN           NaN      NaN  1.0  \n",
       "1         NaN           NaN      NaN  1.0  \n",
       "2         NaN           NaN      NaN  1.0  \n",
       "3         NaN           NaN      NaN  1.0  \n",
       "4         NaN           NaN      NaN  1.0  "
      ]
     },
     "execution_count": 3,
     "metadata": {},
     "output_type": "execute_result"
    }
   ],
   "source": [
    "train = pd.read_csv(os.path.join(\"/kaggle/output\", os.path.join(CFG[\"execution\"][\"exp_id\"], \"oof.csv\")))\n",
    "train[\"oof\"] = train[\"oof\"].fillna(1)\n",
    "train.head()"
   ]
  },
  {
   "cell_type": "code",
   "execution_count": 4,
   "metadata": {},
   "outputs": [
    {
     "name": "stderr",
     "output_type": "stream",
     "text": [
      "100%|██████████| 277/277 [00:46<00:00,  6.01it/s]\n"
     ]
    },
    {
     "data": {
      "text/html": [
       "<div>\n",
       "<style scoped>\n",
       "    .dataframe tbody tr th:only-of-type {\n",
       "        vertical-align: middle;\n",
       "    }\n",
       "\n",
       "    .dataframe tbody tr th {\n",
       "        vertical-align: top;\n",
       "    }\n",
       "\n",
       "    .dataframe thead th {\n",
       "        text-align: right;\n",
       "    }\n",
       "</style>\n",
       "<table border=\"1\" class=\"dataframe\">\n",
       "  <thead>\n",
       "    <tr style=\"text-align: right;\">\n",
       "      <th></th>\n",
       "      <th>series_id</th>\n",
       "      <th>raw_step</th>\n",
       "      <th>event</th>\n",
       "      <th>score</th>\n",
       "      <th>step</th>\n",
       "    </tr>\n",
       "  </thead>\n",
       "  <tbody>\n",
       "    <tr>\n",
       "      <th>0</th>\n",
       "      <td>038441c925bb</td>\n",
       "      <td>10931.5</td>\n",
       "      <td>wakeup</td>\n",
       "      <td>0.812971</td>\n",
       "      <td>10919</td>\n",
       "    </tr>\n",
       "    <tr>\n",
       "      <th>1</th>\n",
       "      <td>038441c925bb</td>\n",
       "      <td>23987.5</td>\n",
       "      <td>wakeup</td>\n",
       "      <td>-0.095061</td>\n",
       "      <td>23975</td>\n",
       "    </tr>\n",
       "    <tr>\n",
       "      <th>2</th>\n",
       "      <td>038441c925bb</td>\n",
       "      <td>27467.5</td>\n",
       "      <td>wakeup</td>\n",
       "      <td>0.883293</td>\n",
       "      <td>27455</td>\n",
       "    </tr>\n",
       "    <tr>\n",
       "      <th>3</th>\n",
       "      <td>038441c925bb</td>\n",
       "      <td>43979.5</td>\n",
       "      <td>wakeup</td>\n",
       "      <td>0.422262</td>\n",
       "      <td>43967</td>\n",
       "    </tr>\n",
       "    <tr>\n",
       "      <th>4</th>\n",
       "      <td>038441c925bb</td>\n",
       "      <td>61091.5</td>\n",
       "      <td>wakeup</td>\n",
       "      <td>0.647474</td>\n",
       "      <td>61079</td>\n",
       "    </tr>\n",
       "  </tbody>\n",
       "</table>\n",
       "</div>"
      ],
      "text/plain": [
       "      series_id  raw_step   event     score   step\n",
       "0  038441c925bb   10931.5  wakeup  0.812971  10919\n",
       "1  038441c925bb   23987.5  wakeup -0.095061  23975\n",
       "2  038441c925bb   27467.5  wakeup  0.883293  27455\n",
       "3  038441c925bb   43979.5  wakeup  0.422262  43967\n",
       "4  038441c925bb   61091.5  wakeup  0.647474  61079"
      ]
     },
     "execution_count": 4,
     "metadata": {},
     "output_type": "execute_result"
    }
   ],
   "source": [
    "dfs = []\n",
    "for series_id, df in tqdm(train.groupby(\"series_id\")):\n",
    "    df = df.reset_index(drop=True)\n",
    "    wakeup_index = np.array([i for i in range(1, len(df[\"oof\"])) if df[\"oof\"][i-1] < 0.5 and df[\"oof\"][i] >= 0.5])\n",
    "    onset_index = np.array([i for i in range(1, len(df[\"oof\"])) if df[\"oof\"][i-1] > 0.5 and df[\"oof\"][i] <= 0.5])\n",
    "\n",
    "    sub_idxs = []\n",
    "    for i in range(len(wakeup_index)):\n",
    "        idx_diff = wakeup_index[i] - (onset_index[i] if i < len(onset_index) else 0)\n",
    "        if idx_diff >= 15 or idx_diff < 0:\n",
    "            sub_idxs.append(i)\n",
    "    wakeup_index = wakeup_index[sub_idxs]\n",
    "    onset_index = onset_index[[idx for idx in sub_idxs if idx < len(onset_index)]]\n",
    "\n",
    "    SCORE_DURATION = 12\n",
    "    wakeup_scores = []\n",
    "    for idx in wakeup_index:\n",
    "        wakeup_scores.append(df[\"oof\"].values[min(idx + SCORE_DURATION, len(df) - 1)] - df[\"oof\"].values[max(0, idx - SCORE_DURATION)])\n",
    "    onset_scores = []\n",
    "    for idx in onset_index:\n",
    "        onset_scores.append(-df[\"oof\"].values[min(idx + SCORE_DURATION, len(df) - 1)] + df[\"oof\"].values[max(0, idx - SCORE_DURATION)])\n",
    "\n",
    "    sub = pd.concat([\n",
    "        pd.DataFrame({\n",
    "            \"series_id\": series_id,\n",
    "            \"raw_step\": df[\"step\"].values[wakeup_index],\n",
    "            \"event\": \"wakeup\",\n",
    "            \"score\": wakeup_scores,\n",
    "        }) if len(wakeup_index) > 0 else pd.DataFrame(),\n",
    "        pd.DataFrame({\n",
    "            \"series_id\": series_id,\n",
    "            \"raw_step\": df[\"step\"].values[onset_index],\n",
    "            \"event\": \"onset\",\n",
    "            \"score\": onset_scores,\n",
    "        }) if len(onset_index) > 0 else pd.DataFrame(),\n",
    "    ])\n",
    "    if len(sub) > 0:\n",
    "        sub[\"step\"] = (sub[\"raw_step\"] - CFG[\"feature\"][\"agg_freq\"] // 2).astype(int)\n",
    "        dfs.append(sub)\n",
    "\n",
    "    if False:\n",
    "        fig, axs = plt.subplots(3, 1, figsize=(20, 7))\n",
    "        axs[0].plot(df[\"oof\"])\n",
    "        axs[0].plot(df[\"target\"])\n",
    "        axs[0].scatter(wakeup_index, [0.5 for _ in wakeup_index], c=\"red\")\n",
    "        axs[0].scatter(onset_index, [0.5 for _ in onset_index], c=\"green\")\n",
    "        df = pd.read_csv(f\"{CFG['dataset']['step_csv_dir']}/{df['series_id'].values[0]}.csv\")\n",
    "        axs[1].plot(df[\"enmo\"])\n",
    "        axs[2].plot(df[\"anglez\"])\n",
    "        plt.suptitle(f\"series_id: {series_id}\")\n",
    "        plt.tight_layout()\n",
    "        path = os.path.join(CFG[\"output_dir\"], f\"series_graph/{series_id}.png\")\n",
    "        os.makedirs(os.path.dirname(path), exist_ok=True)\n",
    "        plt.savefig(path)\n",
    "        plt.close()\n",
    "sub = pd.concat(dfs).reset_index(drop=True)\n",
    "sub.to_csv(os.path.join(CFG[\"output_dir\"], \"submission.csv\"), index=False)\n",
    "sub.head()"
   ]
  },
  {
   "cell_type": "code",
   "execution_count": 5,
   "metadata": {},
   "outputs": [
    {
     "name": "stdout",
     "output_type": "stream",
     "text": [
      "score: 0.6422\n"
     ]
    },
    {
     "data": {
      "text/plain": [
       "event   tolerance\n",
       "onset   12           0.055581\n",
       "        36           0.321672\n",
       "        60           0.504637\n",
       "        90           0.623880\n",
       "        120          0.711564\n",
       "        150          0.755652\n",
       "        180          0.783137\n",
       "        240          0.815259\n",
       "        300          0.836540\n",
       "        360          0.848971\n",
       "wakeup  12           0.094732\n",
       "        36           0.380331\n",
       "        60           0.543274\n",
       "        90           0.666327\n",
       "        120          0.726407\n",
       "        150          0.771679\n",
       "        180          0.803737\n",
       "        240          0.841947\n",
       "        300          0.871667\n",
       "        360          0.886395\n",
       "dtype: float64"
      ]
     },
     "metadata": {},
     "output_type": "display_data"
    },
    {
     "data": {
      "image/png": "[encoded data removed]",
      "text/plain": [
       "<Figure size 640x480 with 1 Axes>"
      ]
     },
     "metadata": {},
     "output_type": "display_data"
    }
   ],
   "source": [
    "labels = pd.read_csv(f\"{CFG['dataset']['competition_dir']}/train_events.csv\").dropna()\n",
    "score, ap_table = compute_comptetition_metric(labels, sub)\n",
    "print(f\"score: {score:.4f}\")\n",
    "display(ap_table)\n",
    "plt.hist(train[\"oof\"], bins=np.linspace(0, 1, 50), alpha=0.5)\n",
    "plt.hist(train[\"target\"], bins=np.linspace(0, 1, 50), alpha=0.5)\n",
    "plt.show()"
   ]
  },
  {
   "cell_type": "code",
   "execution_count": 6,
   "metadata": {},
   "outputs": [
    {
     "data": {
      "text/plain": [
       "(10700, 9585)"
      ]
     },
     "execution_count": 6,
     "metadata": {},
     "output_type": "execute_result"
    }
   ],
   "source": [
    "len(sub), len(labels)"
   ]
  },
  {
   "cell_type": "code",
   "execution_count": 7,
   "metadata": {},
   "outputs": [
    {
     "data": {
      "text/plain": [
       "0"
      ]
     },
     "execution_count": 7,
     "metadata": {},
     "output_type": "execute_result"
    }
   ],
   "source": [
    "sub.duplicated().sum()"
   ]
  },
  {
   "cell_type": "code",
   "execution_count": null,
   "metadata": {},
   "outputs": [],
   "source": []
  },
  {
   "cell_type": "code",
   "execution_count": null,
   "metadata": {},
   "outputs": [],
   "source": []
  },
  {
   "cell_type": "code",
   "execution_count": null,
   "metadata": {},
   "outputs": [],
   "source": []
  },
  {
   "cell_type": "code",
   "execution_count": null,
   "metadata": {},
   "outputs": [],
   "source": []
  }
 ],
 "metadata": {
  "kernelspec": {
   "display_name": "base",
   "language": "python",
   "name": "python3"
  },
  "language_info": {
   "codemirror_mode": {
    "name": "ipython",
    "version": 3
   },
   "file_extension": ".py",
   "mimetype": "text/x-python",
   "name": "python",
   "nbconvert_exporter": "python",
   "pygments_lexer": "ipython3",
   "version": "3.10.10"
  },
  "orig_nbformat": 4
 },
 "nbformat": 4,
 "nbformat_minor": 2
}
