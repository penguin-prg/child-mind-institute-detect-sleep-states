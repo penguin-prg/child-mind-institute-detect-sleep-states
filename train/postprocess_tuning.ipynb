{
 "cells": [
  {
   "cell_type": "code",
   "execution_count": 1,
   "metadata": {},
   "outputs": [
    {
     "name": "stderr",
     "output_type": "stream",
     "text": [
      "2023-11-05 15:50:26.196387: I tensorflow/core/platform/cpu_feature_guard.cc:193] This TensorFlow binary is optimized with oneAPI Deep Neural Network Library (oneDNN) to use the following CPU instructions in performance-critical operations:  AVX2 AVX_VNNI FMA\n",
      "To enable them in other operations, rebuild TensorFlow with the appropriate compiler flags.\n",
      "2023-11-05 15:50:26.646034: I tensorflow/core/util/port.cc:104] oneDNN custom operations are on. You may see slightly different numerical results due to floating-point round-off errors from different computation orders. To turn them off, set the environment variable `TF_ENABLE_ONEDNN_OPTS=0`.\n",
      "2023-11-05 15:50:28.075785: W tensorflow/compiler/xla/stream_executor/platform/default/dso_loader.cc:64] Could not load dynamic library 'libnvinfer.so.7'; dlerror: libnvinfer.so.7: cannot open shared object file: No such file or directory; LD_LIBRARY_PATH: /usr/local/cuda/lib64:/usr/local/cuda/lib:/usr/local/lib/x86_64-linux-gnu:/usr/local/nvidia/lib:/usr/local/nvidia/lib64:/usr/local/nvidia/lib:/usr/local/nvidia/lib64:/opt/conda/lib\n",
      "2023-11-05 15:50:28.076663: W tensorflow/compiler/xla/stream_executor/platform/default/dso_loader.cc:64] Could not load dynamic library 'libnvinfer_plugin.so.7'; dlerror: libnvinfer_plugin.so.7: cannot open shared object file: No such file or directory; LD_LIBRARY_PATH: /usr/local/cuda/lib64:/usr/local/cuda/lib:/usr/local/lib/x86_64-linux-gnu:/usr/local/nvidia/lib:/usr/local/nvidia/lib64:/usr/local/nvidia/lib:/usr/local/nvidia/lib64:/opt/conda/lib\n",
      "2023-11-05 15:50:28.076670: W tensorflow/compiler/tf2tensorrt/utils/py_utils.cc:38] TF-TRT Warning: Cannot dlopen some TensorRT libraries. If you would like to use Nvidia GPU with TensorRT, please make sure the missing libraries mentioned above are installed properly.\n"
     ]
    }
   ],
   "source": [
    "import pandas as pd\n",
    "import yaml\n",
    "import sys\n",
    "import os\n",
    "from glob import glob\n",
    "from pathlib import Path\n",
    "from tqdm import tqdm\n",
    "import gc\n",
    "import pickle\n",
    "\n",
    "import warnings\n",
    "warnings.filterwarnings('ignore')\n",
    "\n",
    "sys.path.append('/kaggle/src')\n",
    "from utils.xgb import fit_xgb\n",
    "from utils.metric import compute_comptetition_metric\n",
    "from utils.postprocess import dynamic_range_nms\n",
    "from utils.set_seed import seed_base\n",
    "\n",
    "PACKAGE_DIR = Path(\"/kaggle/src\")\n",
    "CFG = yaml.safe_load(open(PACKAGE_DIR / \"config.yaml\", \"r\"))\n",
    "seed_base(CFG[\"env\"][\"seed\"])"
   ]
  },
  {
   "cell_type": "code",
   "execution_count": 2,
   "metadata": {},
   "outputs": [
    {
     "data": {
      "text/html": [
       "<div>\n",
       "<style scoped>\n",
       "    .dataframe tbody tr th:only-of-type {\n",
       "        vertical-align: middle;\n",
       "    }\n",
       "\n",
       "    .dataframe tbody tr th {\n",
       "        vertical-align: top;\n",
       "    }\n",
       "\n",
       "    .dataframe thead th {\n",
       "        text-align: right;\n",
       "    }\n",
       "</style>\n",
       "<table border=\"1\" class=\"dataframe\">\n",
       "  <thead>\n",
       "    <tr style=\"text-align: right;\">\n",
       "      <th></th>\n",
       "      <th>series_id</th>\n",
       "      <th>step</th>\n",
       "      <th>score</th>\n",
       "      <th>event</th>\n",
       "    </tr>\n",
       "  </thead>\n",
       "  <tbody>\n",
       "    <tr>\n",
       "      <th>0</th>\n",
       "      <td>038441c925bb</td>\n",
       "      <td>11</td>\n",
       "      <td>-0.024772</td>\n",
       "      <td>wakeup</td>\n",
       "    </tr>\n",
       "    <tr>\n",
       "      <th>1</th>\n",
       "      <td>038441c925bb</td>\n",
       "      <td>11</td>\n",
       "      <td>0.032804</td>\n",
       "      <td>onset</td>\n",
       "    </tr>\n",
       "    <tr>\n",
       "      <th>2</th>\n",
       "      <td>038441c925bb</td>\n",
       "      <td>35</td>\n",
       "      <td>-0.021789</td>\n",
       "      <td>wakeup</td>\n",
       "    </tr>\n",
       "    <tr>\n",
       "      <th>3</th>\n",
       "      <td>038441c925bb</td>\n",
       "      <td>35</td>\n",
       "      <td>0.035017</td>\n",
       "      <td>onset</td>\n",
       "    </tr>\n",
       "    <tr>\n",
       "      <th>4</th>\n",
       "      <td>038441c925bb</td>\n",
       "      <td>59</td>\n",
       "      <td>-0.004671</td>\n",
       "      <td>wakeup</td>\n",
       "    </tr>\n",
       "  </tbody>\n",
       "</table>\n",
       "</div>"
      ],
      "text/plain": [
       "      series_id  step     score   event\n",
       "0  038441c925bb    11 -0.024772  wakeup\n",
       "1  038441c925bb    11  0.032804   onset\n",
       "2  038441c925bb    35 -0.021789  wakeup\n",
       "3  038441c925bb    35  0.035017   onset\n",
       "4  038441c925bb    59 -0.004671  wakeup"
      ]
     },
     "execution_count": 2,
     "metadata": {},
     "output_type": "execute_result"
    }
   ],
   "source": [
    "# oof_df = pd.read_parquet(f'/kaggle/output/{CFG[\"stacking\"][\"execution\"][\"best_exp_id\"]}/oof.parquet')\n",
    "oof_df = pd.read_csv(f'/kaggle/output/{CFG[\"xgb_model\"][\"execution\"][\"exp_id\"]}/oof.csv')\n",
    "# oof_df = oof_df[oof_df[\"series_id\"].isin(oof_df[\"series_id\"].unique()[:50])]\n",
    "oof_df.head()"
   ]
  },
  {
   "cell_type": "code",
   "execution_count": 3,
   "metadata": {},
   "outputs": [
    {
     "data": {
      "text/plain": [
       "461966"
      ]
     },
     "execution_count": 3,
     "metadata": {},
     "output_type": "execute_result"
    }
   ],
   "source": [
    "train = oof_df[oof_df[\"score\"] > 0.01].reset_index(drop=True)\n",
    "len(train)"
   ]
  },
  {
   "cell_type": "code",
   "execution_count": 4,
   "metadata": {},
   "outputs": [],
   "source": [
    "# dfs = []\n",
    "# df = oof_df[[\"series_id\", \"step\", \"wakeup_oof\"]]\n",
    "# df = df[df[\"wakeup_oof\"] > 0.1]\n",
    "# df[\"event\"] = \"wakeup\"\n",
    "# df[\"score\"] = df[\"wakeup_oof\"]\n",
    "# dfs.append(df[['series_id', 'step', 'event', 'score']])\n",
    "\n",
    "# df = oof_df[[\"series_id\", \"step\", \"onset_oof\"]]\n",
    "# df = df[df[\"onset_oof\"] > 0.1]\n",
    "# df[\"event\"] = \"onset\"\n",
    "# df[\"score\"] = df[\"onset_oof\"]\n",
    "# dfs.append(df[['series_id', 'step', 'event', 'score']])\n",
    "\n",
    "# train = pd.concat(dfs).reset_index(drop=True)\n",
    "# train[\"step\"] = train[\"step\"].astype(int)\n",
    "# train[\"score\"].hist()\n",
    "# len(train)"
   ]
  },
  {
   "cell_type": "code",
   "execution_count": 5,
   "metadata": {},
   "outputs": [],
   "source": [
    "from tqdm import tqdm\n",
    "import pandas as pd\n",
    "import numpy as np\n",
    "import os\n",
    "import sys\n",
    "import yaml\n",
    "import matplotlib.pyplot as plt\n",
    "import gc\n",
    "from typing import Optional\n",
    "from scipy.interpolate import interp1d\n",
    "\n",
    "\n",
    "RANGE = 917\n",
    "COEFF = 11\n",
    "EXP = 5\n",
    "\n",
    "def dynamic_range_nms(df: pd.DataFrame) -> pd.DataFrame:\n",
    "    \"\"\"Dynamic-Range NMS\n",
    "\n",
    "    Parameters\n",
    "    ----------\n",
    "    df : pd.DataFrame\n",
    "        単一のseries_idに対する提出形式\n",
    "    \"\"\"\n",
    "    df = df.sort_values(\"score\", ascending=False).reset_index(drop=True)\n",
    "    used = []\n",
    "    used_scores = []\n",
    "    reduce_rate = np.ones(df[\"step\"].max() + 1000)\n",
    "    for _ in range(min(len(df), 100)):\n",
    "        df[\"reduced_score\"] = df[\"score\"] / reduce_rate[df[\"step\"]]\n",
    "        best_score = df[\"reduced_score\"].max()\n",
    "        best_idx = df[\"reduced_score\"].idxmax()\n",
    "        best_step = df.loc[best_idx, \"step\"]\n",
    "        used.append(best_idx)\n",
    "        used_scores.append(best_score)\n",
    "\n",
    "        for r in range(1, int(RANGE)):\n",
    "            reduce = ((RANGE - r) / RANGE) ** EXP * COEFF\n",
    "            reduce_rate[best_step + r] += reduce\n",
    "            if best_step - r >= 0:\n",
    "                reduce_rate[best_step - r] += reduce\n",
    "        reduce_rate[best_step] = 1e10\n",
    "    df = df.iloc[used].copy()\n",
    "    df[\"reduced_score\"] = used_scores\n",
    "    return df\n"
   ]
  },
  {
   "cell_type": "code",
   "execution_count": 6,
   "metadata": {},
   "outputs": [
    {
     "name": "stderr",
     "output_type": "stream",
     "text": [
      "\u001b[32m[I 2023-11-05 15:50:32,103]\u001b[0m A new study created in memory with name: no-name-70b04904-b9ae-4589-a47d-463217979fe0\u001b[0m\n",
      "\u001b[32m[I 2023-11-05 15:50:39,792]\u001b[0m Trial 0 finished with value: 0.7588319851878103 and parameters: {'RANGE': 261, 'COEFF': 28, 'EXP': 5}. Best is trial 0 with value: 0.7588319851878103.\u001b[0m\n",
      "\u001b[32m[I 2023-11-05 15:50:48,056]\u001b[0m Trial 1 finished with value: 0.7510447143699892 and parameters: {'RANGE': 917, 'COEFF': 11, 'EXP': 5}. Best is trial 0 with value: 0.7588319851878103.\u001b[0m\n",
      "\u001b[32m[I 2023-11-05 15:50:55,952]\u001b[0m Trial 2 finished with value: 0.748962852100429 and parameters: {'RANGE': 695, 'COEFF': 14, 'EXP': 3}. Best is trial 0 with value: 0.7588319851878103.\u001b[0m\n",
      "\u001b[32m[I 2023-11-05 15:51:03,723]\u001b[0m Trial 3 finished with value: 0.7544816397316039 and parameters: {'RANGE': 360, 'COEFF': 10, 'EXP': 2}. Best is trial 0 with value: 0.7588319851878103.\u001b[0m\n",
      "\u001b[32m[I 2023-11-05 15:51:11,692]\u001b[0m Trial 4 finished with value: 0.7498460879660015 and parameters: {'RANGE': 638, 'COEFF': 17, 'EXP': 3}. Best is trial 0 with value: 0.7588319851878103.\u001b[0m\n",
      "\u001b[32m[I 2023-11-05 15:51:19,488]\u001b[0m Trial 5 finished with value: 0.7476237276775111 and parameters: {'RANGE': 570, 'COEFF': 5, 'EXP': 3}. Best is trial 0 with value: 0.7588319851878103.\u001b[0m\n",
      "\u001b[32m[I 2023-11-05 15:51:27,503]\u001b[0m Trial 6 finished with value: 0.7217228876461159 and parameters: {'RANGE': 477, 'COEFF': 2, 'EXP': 9}. Best is trial 0 with value: 0.7588319851878103.\u001b[0m\n",
      "\u001b[32m[I 2023-11-05 15:51:35,099]\u001b[0m Trial 7 finished with value: 0.7288261610273056 and parameters: {'RANGE': 262, 'COEFF': 7, 'EXP': 10}. Best is trial 0 with value: 0.7588319851878103.\u001b[0m\n",
      "\u001b[32m[I 2023-11-05 15:51:42,730]\u001b[0m Trial 8 finished with value: 0.7517289168016301 and parameters: {'RANGE': 225, 'COEFF': 11, 'EXP': 5}. Best is trial 0 with value: 0.7588319851878103.\u001b[0m\n",
      "\u001b[32m[I 2023-11-05 15:51:50,758]\u001b[0m Trial 9 finished with value: 0.7544651974745753 and parameters: {'RANGE': 569, 'COEFF': 9, 'EXP': 10}. Best is trial 0 with value: 0.7588319851878103.\u001b[0m\n",
      "\u001b[32m[I 2023-11-05 15:51:58,431]\u001b[0m Trial 10 finished with value: 0.7103953651981303 and parameters: {'RANGE': 108, 'COEFF': 30, 'EXP': 7}. Best is trial 0 with value: 0.7588319851878103.\u001b[0m\n",
      "\u001b[32m[I 2023-11-05 15:52:06,054]\u001b[0m Trial 11 finished with value: 0.7486647383518277 and parameters: {'RANGE': 355, 'COEFF': 21, 'EXP': 1}. Best is trial 0 with value: 0.7588319851878103.\u001b[0m\n",
      "\u001b[32m[I 2023-11-05 15:52:13,759]\u001b[0m Trial 12 finished with value: 0.7468845556336037 and parameters: {'RANGE': 371, 'COEFF': 29, 'EXP': 1}. Best is trial 0 with value: 0.7588319851878103.\u001b[0m\n",
      "\u001b[32m[I 2023-11-05 15:52:21,321]\u001b[0m Trial 13 finished with value: 0.709913849521521 and parameters: {'RANGE': 113, 'COEFF': 23, 'EXP': 7}. Best is trial 0 with value: 0.7588319851878103.\u001b[0m\n",
      "\u001b[32m[I 2023-11-05 15:52:29,145]\u001b[0m Trial 14 finished with value: 0.7572040540247287 and parameters: {'RANGE': 387, 'COEFF': 24, 'EXP': 4}. Best is trial 0 with value: 0.7588319851878103.\u001b[0m\n",
      "\u001b[32m[I 2023-11-05 15:52:37,296]\u001b[0m Trial 15 finished with value: 0.752684149977127 and parameters: {'RANGE': 821, 'COEFF': 25, 'EXP': 6}. Best is trial 0 with value: 0.7588319851878103.\u001b[0m\n",
      "\u001b[32m[I 2023-11-05 15:52:45,297]\u001b[0m Trial 16 finished with value: 0.7560193374580024 and parameters: {'RANGE': 438, 'COEFF': 26, 'EXP': 4}. Best is trial 0 with value: 0.7588319851878103.\u001b[0m\n",
      "\u001b[32m[I 2023-11-05 15:52:52,967]\u001b[0m Trial 17 finished with value: 0.7524300414953908 and parameters: {'RANGE': 236, 'COEFF': 20, 'EXP': 7}. Best is trial 0 with value: 0.7588319851878103.\u001b[0m\n",
      "\u001b[32m[I 2023-11-05 15:53:00,893]\u001b[0m Trial 18 finished with value: 0.7557323763315829 and parameters: {'RANGE': 453, 'COEFF': 26, 'EXP': 4}. Best is trial 0 with value: 0.7588319851878103.\u001b[0m\n",
      "\u001b[32m[I 2023-11-05 15:53:08,570]\u001b[0m Trial 19 finished with value: 0.7565199256451802 and parameters: {'RANGE': 290, 'COEFF': 17, 'EXP': 6}. Best is trial 0 with value: 0.7588319851878103.\u001b[0m\n",
      "\u001b[32m[I 2023-11-05 15:53:16,348]\u001b[0m Trial 20 finished with value: 0.7353365593904388 and parameters: {'RANGE': 170, 'COEFF': 20, 'EXP': 8}. Best is trial 0 with value: 0.7588319851878103.\u001b[0m\n",
      "\u001b[32m[I 2023-11-05 15:53:24,138]\u001b[0m Trial 21 finished with value: 0.7563126316556388 and parameters: {'RANGE': 297, 'COEFF': 16, 'EXP': 6}. Best is trial 0 with value: 0.7588319851878103.\u001b[0m\n",
      "\u001b[32m[I 2023-11-05 15:53:31,602]\u001b[0m Trial 22 finished with value: 0.7586825713503427 and parameters: {'RANGE': 301, 'COEFF': 28, 'EXP': 4}. Best is trial 0 with value: 0.7588319851878103.\u001b[0m\n",
      "\u001b[32m[I 2023-11-05 15:53:39,361]\u001b[0m Trial 23 finished with value: 0.7566342549963685 and parameters: {'RANGE': 405, 'COEFF': 28, 'EXP': 4}. Best is trial 0 with value: 0.7588319851878103.\u001b[0m\n",
      "\u001b[32m[I 2023-11-05 15:53:47,243]\u001b[0m Trial 24 finished with value: 0.7569017430706053 and parameters: {'RANGE': 506, 'COEFF': 23, 'EXP': 5}. Best is trial 0 with value: 0.7588319851878103.\u001b[0m\n",
      "\u001b[32m[I 2023-11-05 15:53:54,704]\u001b[0m Trial 25 finished with value: 0.758491258212407 and parameters: {'RANGE': 178, 'COEFF': 28, 'EXP': 2}. Best is trial 0 with value: 0.7588319851878103.\u001b[0m\n",
      "\u001b[32m[I 2023-11-05 15:54:02,478]\u001b[0m Trial 26 finished with value: 0.758498159844269 and parameters: {'RANGE': 174, 'COEFF': 28, 'EXP': 2}. Best is trial 0 with value: 0.7588319851878103.\u001b[0m\n",
      "\u001b[32m[I 2023-11-05 15:54:10,132]\u001b[0m Trial 27 finished with value: 0.758333733229038 and parameters: {'RANGE': 168, 'COEFF': 27, 'EXP': 2}. Best is trial 0 with value: 0.7588319851878103.\u001b[0m\n",
      "\u001b[32m[I 2023-11-05 15:54:17,899]\u001b[0m Trial 28 finished with value: 0.7583862056443437 and parameters: {'RANGE': 284, 'COEFF': 22, 'EXP': 3}. Best is trial 0 with value: 0.7588319851878103.\u001b[0m\n",
      "\u001b[32m[I 2023-11-05 15:54:26,043]\u001b[0m Trial 29 finished with value: 0.749416597078176 and parameters: {'RANGE': 812, 'COEFF': 30, 'EXP': 5}. Best is trial 0 with value: 0.7588319851878103.\u001b[0m\n",
      "\u001b[32m[I 2023-11-05 15:54:34,339]\u001b[0m Trial 30 finished with value: 0.7395898667697529 and parameters: {'RANGE': 987, 'COEFF': 25, 'EXP': 2}. Best is trial 0 with value: 0.7588319851878103.\u001b[0m\n",
      "\u001b[32m[I 2023-11-05 15:54:42,173]\u001b[0m Trial 31 finished with value: 0.7568379470927491 and parameters: {'RANGE': 181, 'COEFF': 28, 'EXP': 1}. Best is trial 0 with value: 0.7588319851878103.\u001b[0m\n",
      "\u001b[32m[I 2023-11-05 15:54:50,041]\u001b[0m Trial 32 finished with value: 0.7585889297739457 and parameters: {'RANGE': 186, 'COEFF': 28, 'EXP': 2}. Best is trial 0 with value: 0.7588319851878103.\u001b[0m\n"
     ]
    }
   ],
   "source": [
    "from multiprocessing import Pool\n",
    "import optuna\n",
    "\n",
    "def objective(trial):\n",
    "    global RANGE, COEFF, EXP\n",
    "    RANGE = trial.suggest_int(\"RANGE\", 100, 1000)\n",
    "    COEFF = trial.suggest_int(\"COEFF\", 1, 30)\n",
    "    EXP = trial.suggest_int(\"EXP\", 1, 10)        \n",
    "\n",
    "    groups = [group for _, group in train.groupby(\"series_id\")]\n",
    "    with Pool(30) as p:  \n",
    "        results = list(p.imap(dynamic_range_nms, groups))\n",
    "    sub = pd.concat(results)\n",
    "    sub[\"score\"] = sub[\"reduced_score\"]\n",
    "\n",
    "    # スコア計算\n",
    "    labels = pd.read_csv(f\"{CFG['dataset']['competition_dir']}/train_events.csv\").dropna()\n",
    "    # labels = labels[labels[\"series_id\"].isin(sub[\"series_id\"].unique())].reset_index(drop=True)\n",
    "    score, ap_table = compute_comptetition_metric(labels, sub)\n",
    "    return score\n",
    "\n",
    "\n",
    "study = optuna.create_study(direction=\"maximize\")\n",
    "study.enqueue_trial({\"RANGE\": 261, \"COEFF\": 28, \"EXP\": 5})\n",
    "study.enqueue_trial({\"RANGE\": 917, \"COEFF\": 11, \"EXP\": 5})\n",
    "study.enqueue_trial({\"RANGE\": 695, \"COEFF\": 14, \"EXP\": 3})\n",
    "study.enqueue_trial({\"RANGE\": 360, \"COEFF\": 10, \"EXP\": 2})\n",
    "study.enqueue_trial({\"RANGE\": 638, \"COEFF\": 17, \"EXP\": 3})\n",
    "study.enqueue_trial({\"RANGE\": 570, \"COEFF\": 5, \"EXP\": 3})\n",
    "study.optimize(objective, n_trials=60)\n",
    "print(study.best_params)"
   ]
  },
  {
   "cell_type": "markdown",
   "metadata": {},
   "source": [
    "---"
   ]
  },
  {
   "cell_type": "code",
   "execution_count": null,
   "metadata": {},
   "outputs": [
    {
     "name": "stdout",
     "output_type": "stream",
     "text": [
      "0.7790080201168637\n"
     ]
    },
    {
     "data": {
      "text/plain": [
       "event   tolerance\n",
       "onset   12           0.263531\n",
       "        36           0.676661\n",
       "        60           0.772403\n",
       "        90           0.820726\n",
       "        120          0.840973\n",
       "        150          0.857832\n",
       "        180          0.867965\n",
       "        240          0.883518\n",
       "        300          0.889090\n",
       "        360          0.893921\n",
       "wakeup  12           0.223737\n",
       "        36           0.694710\n",
       "        60           0.780328\n",
       "        90           0.822538\n",
       "        120          0.847852\n",
       "        150          0.863858\n",
       "        180          0.875253\n",
       "        240          0.891365\n",
       "        300          0.901725\n",
       "        360          0.912176\n",
       "dtype: float64"
      ]
     },
     "execution_count": 8,
     "metadata": {},
     "output_type": "execute_result"
    }
   ],
   "source": [
    "RANGE = 523\n",
    "COEFF = 27\n",
    "EXP = 7\n",
    "\n",
    "def dynamic_range_nms(df: pd.DataFrame) -> pd.DataFrame:\n",
    "    \"\"\"Dynamic-Range NMS\n",
    "\n",
    "    Parameters\n",
    "    ----------\n",
    "    df : pd.DataFrame\n",
    "        単一のseries_idに対する提出形式\n",
    "    \"\"\"\n",
    "    df = df.sort_values(\"score\", ascending=False).reset_index(drop=True)\n",
    "    used = []\n",
    "    used_scores = []\n",
    "    reduce_rate = np.ones(df[\"step\"].max() + 1000)\n",
    "    for _ in range(min(len(df), 1000)):\n",
    "        df[\"reduced_score\"] = df[\"score\"] / reduce_rate[df[\"step\"]]\n",
    "        best_score = df[\"reduced_score\"].max()\n",
    "        best_idx = df[\"reduced_score\"].idxmax()\n",
    "        best_step = df.loc[best_idx, \"step\"]\n",
    "        used.append(best_idx)\n",
    "        used_scores.append(best_score)\n",
    "\n",
    "        for r in range(1, int(RANGE)):\n",
    "            reduce = ((RANGE - r) / RANGE) ** EXP * COEFF\n",
    "            reduce_rate[best_step + r] += reduce\n",
    "            if best_step - r >= 0:\n",
    "                reduce_rate[best_step - r] += reduce\n",
    "        reduce_rate[best_step] = 1e10\n",
    "    df = df.iloc[used].copy()\n",
    "    df[\"reduced_score\"] = used_scores\n",
    "    return df\n",
    "\n",
    "\n",
    "train = oof_df[oof_df[\"score\"] > 0.005].reset_index(drop=True)\n",
    "groups = [group for _, group in train.groupby(\"series_id\")]\n",
    "with Pool(30) as p:  \n",
    "    results = list(p.imap(dynamic_range_nms, groups))\n",
    "sub = pd.concat(results)\n",
    "sub[\"score\"] = sub[\"reduced_score\"]\n",
    "\n",
    "# スコア計算\n",
    "labels = pd.read_csv(f\"{CFG['dataset']['competition_dir']}/train_events.csv\").dropna()\n",
    "# labels = labels[labels[\"series_id\"].isin(sub[\"series_id\"].unique())].reset_index(drop=True)\n",
    "score, ap_table = compute_comptetition_metric(labels, sub)\n",
    "print(score)\n",
    "ap_table"
   ]
  },
  {
   "cell_type": "code",
   "execution_count": null,
   "metadata": {},
   "outputs": [],
   "source": []
  },
  {
   "cell_type": "code",
   "execution_count": null,
   "metadata": {},
   "outputs": [],
   "source": []
  },
  {
   "cell_type": "code",
   "execution_count": null,
   "metadata": {},
   "outputs": [],
   "source": []
  }
 ],
 "metadata": {
  "kernelspec": {
   "display_name": "base",
   "language": "python",
   "name": "python3"
  },
  "language_info": {
   "codemirror_mode": {
    "name": "ipython",
    "version": 3
   },
   "file_extension": ".py",
   "mimetype": "text/x-python",
   "name": "python",
   "nbconvert_exporter": "python",
   "pygments_lexer": "ipython3",
   "version": "3.10.10"
  }
 },
 "nbformat": 4,
 "nbformat_minor": 2
}
