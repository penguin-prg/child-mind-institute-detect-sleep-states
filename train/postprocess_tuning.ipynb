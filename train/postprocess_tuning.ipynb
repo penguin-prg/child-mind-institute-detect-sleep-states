{
 "cells": [
  {
   "cell_type": "code",
   "execution_count": 1,
   "metadata": {},
   "outputs": [
    {
     "name": "stderr",
     "output_type": "stream",
     "text": [
      "2023-11-19 21:08:46.972840: I tensorflow/core/platform/cpu_feature_guard.cc:193] This TensorFlow binary is optimized with oneAPI Deep Neural Network Library (oneDNN) to use the following CPU instructions in performance-critical operations:  AVX2 AVX_VNNI FMA\n",
      "To enable them in other operations, rebuild TensorFlow with the appropriate compiler flags.\n",
      "2023-11-19 21:08:47.043802: I tensorflow/core/util/port.cc:104] oneDNN custom operations are on. You may see slightly different numerical results due to floating-point round-off errors from different computation orders. To turn them off, set the environment variable `TF_ENABLE_ONEDNN_OPTS=0`.\n",
      "2023-11-19 21:08:47.529045: W tensorflow/compiler/xla/stream_executor/platform/default/dso_loader.cc:64] Could not load dynamic library 'libnvinfer.so.7'; dlerror: libnvinfer.so.7: cannot open shared object file: No such file or directory; LD_LIBRARY_PATH: /usr/local/cuda/lib64:/usr/local/cuda/lib:/usr/local/lib/x86_64-linux-gnu:/usr/local/nvidia/lib:/usr/local/nvidia/lib64:/usr/local/nvidia/lib:/usr/local/nvidia/lib64:/opt/conda/lib\n",
      "2023-11-19 21:08:47.529137: W tensorflow/compiler/xla/stream_executor/platform/default/dso_loader.cc:64] Could not load dynamic library 'libnvinfer_plugin.so.7'; dlerror: libnvinfer_plugin.so.7: cannot open shared object file: No such file or directory; LD_LIBRARY_PATH: /usr/local/cuda/lib64:/usr/local/cuda/lib:/usr/local/lib/x86_64-linux-gnu:/usr/local/nvidia/lib:/usr/local/nvidia/lib64:/usr/local/nvidia/lib:/usr/local/nvidia/lib64:/opt/conda/lib\n",
      "2023-11-19 21:08:47.529143: W tensorflow/compiler/tf2tensorrt/utils/py_utils.cc:38] TF-TRT Warning: Cannot dlopen some TensorRT libraries. If you would like to use Nvidia GPU with TensorRT, please make sure the missing libraries mentioned above are installed properly.\n"
     ]
    }
   ],
   "source": [
    "import pandas as pd\n",
    "import yaml\n",
    "import sys\n",
    "import os\n",
    "from glob import glob\n",
    "from pathlib import Path\n",
    "from tqdm import tqdm\n",
    "import gc\n",
    "import pickle\n",
    "\n",
    "import warnings\n",
    "warnings.filterwarnings('ignore')\n",
    "\n",
    "sys.path.append('/kaggle/src')\n",
    "from utils.xgb import fit_xgb\n",
    "from utils.metric import compute_comptetition_metric\n",
    "from utils.postprocess import dynamic_range_nms\n",
    "from utils.set_seed import seed_base\n",
    "\n",
    "PACKAGE_DIR = Path(\"/kaggle/src\")\n",
    "CFG = yaml.safe_load(open(PACKAGE_DIR / \"config.yaml\", \"r\"))\n",
    "seed_base(CFG[\"env\"][\"seed\"])"
   ]
  },
  {
   "cell_type": "code",
   "execution_count": 2,
   "metadata": {},
   "outputs": [
    {
     "data": {
      "text/html": [
       "<div>\n",
       "<style scoped>\n",
       "    .dataframe tbody tr th:only-of-type {\n",
       "        vertical-align: middle;\n",
       "    }\n",
       "\n",
       "    .dataframe tbody tr th {\n",
       "        vertical-align: top;\n",
       "    }\n",
       "\n",
       "    .dataframe thead th {\n",
       "        text-align: right;\n",
       "    }\n",
       "</style>\n",
       "<table border=\"1\" class=\"dataframe\">\n",
       "  <thead>\n",
       "    <tr style=\"text-align: right;\">\n",
       "      <th></th>\n",
       "      <th>series_id</th>\n",
       "      <th>step</th>\n",
       "      <th>wakeup_oof</th>\n",
       "      <th>onset_oof</th>\n",
       "    </tr>\n",
       "  </thead>\n",
       "  <tbody>\n",
       "    <tr>\n",
       "      <th>0</th>\n",
       "      <td>05e1944c3818</td>\n",
       "      <td>6</td>\n",
       "      <td>0.471227</td>\n",
       "      <td>0.033161</td>\n",
       "    </tr>\n",
       "    <tr>\n",
       "      <th>1</th>\n",
       "      <td>05e1944c3818</td>\n",
       "      <td>18</td>\n",
       "      <td>0.413462</td>\n",
       "      <td>-0.152193</td>\n",
       "    </tr>\n",
       "    <tr>\n",
       "      <th>2</th>\n",
       "      <td>05e1944c3818</td>\n",
       "      <td>30</td>\n",
       "      <td>0.376909</td>\n",
       "      <td>-0.293997</td>\n",
       "    </tr>\n",
       "    <tr>\n",
       "      <th>3</th>\n",
       "      <td>05e1944c3818</td>\n",
       "      <td>42</td>\n",
       "      <td>0.309498</td>\n",
       "      <td>-0.360509</td>\n",
       "    </tr>\n",
       "    <tr>\n",
       "      <th>4</th>\n",
       "      <td>05e1944c3818</td>\n",
       "      <td>54</td>\n",
       "      <td>0.275670</td>\n",
       "      <td>-0.367290</td>\n",
       "    </tr>\n",
       "  </tbody>\n",
       "</table>\n",
       "</div>"
      ],
      "text/plain": [
       "      series_id  step  wakeup_oof  onset_oof\n",
       "0  05e1944c3818     6    0.471227   0.033161\n",
       "1  05e1944c3818    18    0.413462  -0.152193\n",
       "2  05e1944c3818    30    0.376909  -0.293997\n",
       "3  05e1944c3818    42    0.309498  -0.360509\n",
       "4  05e1944c3818    54    0.275670  -0.367290"
      ]
     },
     "execution_count": 2,
     "metadata": {},
     "output_type": "execute_result"
    }
   ],
   "source": [
    "oof_df = pd.read_parquet(f'/kaggle/output/{CFG[\"patch_transformer_gru\"][\"execution\"][\"exp_id\"]}/oof.parquet')\n",
    "# oof_df = pd.read_csv(f'/kaggle/output/{CFG[\"xgb_model\"][\"execution\"][\"exp_id\"]}/oof.csv')\n",
    "# oof_df = oof_df[oof_df[\"series_id\"].isin(oof_df[\"series_id\"].unique()[:50])]\n",
    "oof_df.head()"
   ]
  },
  {
   "cell_type": "code",
   "execution_count": 3,
   "metadata": {},
   "outputs": [],
   "source": [
    "# train = oof_df[oof_df[\"score\"] > 0.01].reset_index(drop=True)\n",
    "# len(train)"
   ]
  },
  {
   "cell_type": "code",
   "execution_count": 4,
   "metadata": {},
   "outputs": [
    {
     "data": {
      "text/plain": [
       "13922239"
      ]
     },
     "execution_count": 4,
     "metadata": {},
     "output_type": "execute_result"
    },
    {
     "data": {
      "image/png": "[encoded data removed]",
      "text/plain": [
       "<Figure size 640x480 with 1 Axes>"
      ]
     },
     "metadata": {},
     "output_type": "display_data"
    }
   ],
   "source": [
    "dfs = []\n",
    "df = oof_df[[\"series_id\", \"step\", \"wakeup_oof\"]]\n",
    "df = df[df[\"wakeup_oof\"] > 0.001]\n",
    "df[\"event\"] = \"wakeup\"\n",
    "df[\"score\"] = df[\"wakeup_oof\"]\n",
    "dfs.append(df[['series_id', 'step', 'event', 'score']])\n",
    "\n",
    "df = oof_df[[\"series_id\", \"step\", \"onset_oof\"]]\n",
    "df = df[df[\"onset_oof\"] > 0.001]\n",
    "df[\"event\"] = \"onset\"\n",
    "df[\"score\"] = df[\"onset_oof\"]\n",
    "dfs.append(df[['series_id', 'step', 'event', 'score']])\n",
    "\n",
    "train = pd.concat(dfs).reset_index(drop=True)\n",
    "train[\"step\"] = train[\"step\"].astype(int)\n",
    "train[\"score\"].hist()\n",
    "len(train)"
   ]
  },
  {
   "cell_type": "code",
   "execution_count": 5,
   "metadata": {},
   "outputs": [],
   "source": [
    "from tqdm import tqdm\n",
    "import pandas as pd\n",
    "import numpy as np\n",
    "import os\n",
    "import sys\n",
    "import yaml\n",
    "import matplotlib.pyplot as plt\n",
    "import gc\n",
    "from typing import Optional\n",
    "from scipy.interpolate import interp1d\n",
    "\n",
    "\n",
    "RANGE = 261\n",
    "COEFF = 28\n",
    "EXP = 5\n",
    "\n",
    "def dynamic_range_nms(df: pd.DataFrame) -> pd.DataFrame:\n",
    "    \"\"\"Dynamic-Range NMS\n",
    "\n",
    "    Parameters\n",
    "    ----------\n",
    "    df : pd.DataFrame\n",
    "        単一のseries_idに対する提出形式\n",
    "    \"\"\"\n",
    "    df = df.sort_values(\"score\", ascending=False).reset_index(drop=True)\n",
    "    used = []\n",
    "    used_scores = []\n",
    "    reduce_rate = np.ones(df[\"step\"].max() + 1000)\n",
    "    for _ in range(min(len(df), 1000)):\n",
    "        df[\"reduced_score\"] = df[\"score\"] / reduce_rate[df[\"step\"]]\n",
    "        best_score = df[\"reduced_score\"].max()\n",
    "        best_idx = df[\"reduced_score\"].idxmax()\n",
    "        best_step = df.loc[best_idx, \"step\"]\n",
    "        used.append(best_idx)\n",
    "        used_scores.append(best_score)\n",
    "\n",
    "        for r in range(1, int(RANGE)):\n",
    "            reduce = ((RANGE - r) / RANGE) ** EXP * COEFF\n",
    "            reduce_rate[best_step + r] += reduce\n",
    "            if best_step - r >= 0:\n",
    "                reduce_rate[best_step - r] += reduce\n",
    "        reduce_rate[best_step] = 1e10\n",
    "    df = df.iloc[used].copy()\n",
    "    df[\"reduced_score\"] = used_scores\n",
    "    return df\n"
   ]
  },
  {
   "cell_type": "code",
   "execution_count": 6,
   "metadata": {},
   "outputs": [
    {
     "name": "stderr",
     "output_type": "stream",
     "text": [
      "\u001b[32m[I 2023-11-19 21:08:52,093]\u001b[0m A new study created in memory with name: no-name-34ab348a-b9a2-436e-9140-def319f2ddfa\u001b[0m\n",
      "\u001b[32m[I 2023-11-19 21:09:44,549]\u001b[0m Trial 0 finished with value: 0.7997343243224229 and parameters: {'RANGE': 261, 'COEFF': 28, 'EXP': 5}. Best is trial 0 with value: 0.7997343243224229.\u001b[0m\n",
      "\u001b[32m[I 2023-11-19 21:10:39,354]\u001b[0m Trial 1 finished with value: 0.7902205807710989 and parameters: {'RANGE': 917, 'COEFF': 11, 'EXP': 5}. Best is trial 0 with value: 0.7997343243224229.\u001b[0m\n",
      "\u001b[32m[I 2023-11-19 21:11:35,022]\u001b[0m Trial 2 finished with value: 0.7849836389604073 and parameters: {'RANGE': 695, 'COEFF': 14, 'EXP': 3}. Best is trial 0 with value: 0.7997343243224229.\u001b[0m\n",
      "\u001b[32m[I 2023-11-19 21:12:30,536]\u001b[0m Trial 3 finished with value: 0.7941050206792067 and parameters: {'RANGE': 360, 'COEFF': 10, 'EXP': 2}. Best is trial 0 with value: 0.7997343243224229.\u001b[0m\n",
      "\u001b[32m[I 2023-11-19 21:13:25,409]\u001b[0m Trial 4 finished with value: 0.7844644520019877 and parameters: {'RANGE': 638, 'COEFF': 17, 'EXP': 3}. Best is trial 0 with value: 0.7997343243224229.\u001b[0m\n",
      "\u001b[32m[I 2023-11-19 21:14:20,411]\u001b[0m Trial 5 finished with value: 0.795841569391585 and parameters: {'RANGE': 570, 'COEFF': 5, 'EXP': 3}. Best is trial 0 with value: 0.7997343243224229.\u001b[0m\n",
      "\u001b[32m[I 2023-11-19 21:15:16,000]\u001b[0m Trial 6 finished with value: 0.7874578266583028 and parameters: {'RANGE': 900, 'COEFF': 19, 'EXP': 6}. Best is trial 0 with value: 0.7997343243224229.\u001b[0m\n",
      "\u001b[32m[I 2023-11-19 21:16:11,207]\u001b[0m Trial 7 finished with value: 0.7944978776864171 and parameters: {'RANGE': 760, 'COEFF': 23, 'EXP': 9}. Best is trial 0 with value: 0.7997343243224229.\u001b[0m\n",
      "\u001b[32m[I 2023-11-19 21:17:06,878]\u001b[0m Trial 8 finished with value: 0.8024826664620816 and parameters: {'RANGE': 555, 'COEFF': 3, 'EXP': 8}. Best is trial 8 with value: 0.8024826664620816.\u001b[0m\n",
      "\u001b[32m[I 2023-11-19 21:18:01,756]\u001b[0m Trial 9 finished with value: 0.8005697253451615 and parameters: {'RANGE': 221, 'COEFF': 16, 'EXP': 3}. Best is trial 8 with value: 0.8024826664620816.\u001b[0m\n",
      "\u001b[32m[I 2023-11-19 21:18:57,251]\u001b[0m Trial 10 finished with value: 0.7659138650269213 and parameters: {'RANGE': 456, 'COEFF': 1, 'EXP': 10}. Best is trial 8 with value: 0.8024826664620816.\u001b[0m\n",
      "\u001b[32m[I 2023-11-19 21:19:52,186]\u001b[0m Trial 11 finished with value: 0.756867357804472 and parameters: {'RANGE': 114, 'COEFF': 7, 'EXP': 8}. Best is trial 8 with value: 0.8024826664620816.\u001b[0m\n",
      "\u001b[32m[I 2023-11-19 21:20:47,946]\u001b[0m Trial 12 finished with value: 0.7996270506025135 and parameters: {'RANGE': 425, 'COEFF': 21, 'EXP': 7}. Best is trial 8 with value: 0.8024826664620816.\u001b[0m\n",
      "\u001b[32m[I 2023-11-19 21:21:43,089]\u001b[0m Trial 13 finished with value: 0.7745149590003799 and parameters: {'RANGE': 265, 'COEFF': 1, 'EXP': 1}. Best is trial 8 with value: 0.8024826664620816.\u001b[0m\n",
      "\u001b[32m[I 2023-11-19 21:22:38,188]\u001b[0m Trial 14 finished with value: 0.7889419635818014 and parameters: {'RANGE': 135, 'COEFF': 14, 'EXP': 7}. Best is trial 8 with value: 0.8024826664620816.\u001b[0m\n",
      "\u001b[32m[I 2023-11-19 21:23:33,938]\u001b[0m Trial 15 finished with value: 0.7888032161230656 and parameters: {'RANGE': 485, 'COEFF': 27, 'EXP': 4}. Best is trial 8 with value: 0.8024826664620816.\u001b[0m\n",
      "\u001b[32m[I 2023-11-19 21:24:29,846]\u001b[0m Trial 16 finished with value: 0.8046530232036473 and parameters: {'RANGE': 769, 'COEFF': 6, 'EXP': 10}. Best is trial 16 with value: 0.8046530232036473.\u001b[0m\n",
      "\u001b[32m[I 2023-11-19 21:25:26,600]\u001b[0m Trial 17 finished with value: 0.8041607278869534 and parameters: {'RANGE': 788, 'COEFF': 4, 'EXP': 10}. Best is trial 16 with value: 0.8046530232036473.\u001b[0m\n",
      "\u001b[32m[I 2023-11-19 21:26:23,146]\u001b[0m Trial 18 finished with value: 0.8032945956607621 and parameters: {'RANGE': 805, 'COEFF': 8, 'EXP': 10}. Best is trial 16 with value: 0.8046530232036473.\u001b[0m\n",
      "\u001b[32m[I 2023-11-19 21:27:20,061]\u001b[0m Trial 19 finished with value: 0.801202466776229 and parameters: {'RANGE': 991, 'COEFF': 6, 'EXP': 9}. Best is trial 16 with value: 0.8046530232036473.\u001b[0m\n",
      "\u001b[32m[I 2023-11-19 21:28:15,596]\u001b[0m Trial 20 finished with value: 0.8015441390656696 and parameters: {'RANGE': 836, 'COEFF': 10, 'EXP': 10}. Best is trial 16 with value: 0.8046530232036473.\u001b[0m\n",
      "\u001b[32m[I 2023-11-19 21:29:11,468]\u001b[0m Trial 21 finished with value: 0.8036721946309737 and parameters: {'RANGE': 771, 'COEFF': 8, 'EXP': 10}. Best is trial 16 with value: 0.8046530232036473.\u001b[0m\n",
      "\u001b[32m[I 2023-11-19 21:30:07,475]\u001b[0m Trial 22 finished with value: 0.8042399487731473 and parameters: {'RANGE': 707, 'COEFF': 4, 'EXP': 9}. Best is trial 16 with value: 0.8046530232036473.\u001b[0m\n",
      "\u001b[32m[I 2023-11-19 21:31:03,324]\u001b[0m Trial 23 finished with value: 0.8045221563828342 and parameters: {'RANGE': 646, 'COEFF': 4, 'EXP': 9}. Best is trial 16 with value: 0.8046530232036473.\u001b[0m\n",
      "\u001b[32m[I 2023-11-19 21:31:59,377]\u001b[0m Trial 24 finished with value: 0.7962079601368492 and parameters: {'RANGE': 611, 'COEFF': 2, 'EXP': 8}. Best is trial 16 with value: 0.8046530232036473.\u001b[0m\n",
      "\u001b[32m[I 2023-11-19 21:32:54,360]\u001b[0m Trial 25 finished with value: 0.8044488740135216 and parameters: {'RANGE': 671, 'COEFF': 4, 'EXP': 9}. Best is trial 16 with value: 0.8046530232036473.\u001b[0m\n",
      "\u001b[32m[I 2023-11-19 21:33:47,201]\u001b[0m Trial 26 finished with value: 0.8028365943865499 and parameters: {'RANGE': 679, 'COEFF': 6, 'EXP': 7}. Best is trial 16 with value: 0.8046530232036473.\u001b[0m\n",
      "\u001b[32m[I 2023-11-19 21:34:41,388]\u001b[0m Trial 27 finished with value: 0.8021411574863835 and parameters: {'RANGE': 625, 'COEFF': 12, 'EXP': 9}. Best is trial 16 with value: 0.8046530232036473.\u001b[0m\n",
      "\u001b[32m[I 2023-11-19 21:35:34,884]\u001b[0m Trial 28 finished with value: 0.7997121034875028 and parameters: {'RANGE': 849, 'COEFF': 9, 'EXP': 8}. Best is trial 16 with value: 0.8046530232036473.\u001b[0m\n",
      "\u001b[32m[I 2023-11-19 21:36:29,395]\u001b[0m Trial 29 finished with value: 0.8021205338124147 and parameters: {'RANGE': 514, 'COEFF': 3, 'EXP': 6}. Best is trial 16 with value: 0.8046530232036473.\u001b[0m\n"
     ]
    }
   ],
   "source": [
    "from multiprocessing import Pool\n",
    "import optuna\n",
    "\n",
    "def objective(trial):\n",
    "    global RANGE, COEFF, EXP\n",
    "    RANGE = trial.suggest_int(\"RANGE\", 100, 1000)\n",
    "    COEFF = trial.suggest_int(\"COEFF\", 1, 30)\n",
    "    EXP = trial.suggest_int(\"EXP\", 1, 10)        \n",
    "\n",
    "    groups = [group for _, group in train.groupby(\"series_id\")]\n",
    "    with Pool(30) as p:  \n",
    "        results = list(p.imap(dynamic_range_nms, groups))\n",
    "    sub = pd.concat(results)\n",
    "    sub[\"score\"] = sub[\"reduced_score\"]\n",
    "\n",
    "    # スコア計算\n",
    "    labels = pd.read_csv(f\"{CFG['dataset']['competition_dir']}/train_events.csv\").dropna()\n",
    "    # labels = labels[labels[\"series_id\"].isin(sub[\"series_id\"].unique())].reset_index(drop=True)\n",
    "    score, ap_table = compute_comptetition_metric(labels, sub)\n",
    "    return score\n",
    "\n",
    "\n",
    "study = optuna.create_study(direction=\"maximize\")\n",
    "study.enqueue_trial({\"RANGE\": 261, \"COEFF\": 28, \"EXP\": 5})\n",
    "study.enqueue_trial({\"RANGE\": 917, \"COEFF\": 11, \"EXP\": 5})\n",
    "study.enqueue_trial({\"RANGE\": 695, \"COEFF\": 14, \"EXP\": 3})\n",
    "study.enqueue_trial({\"RANGE\": 360, \"COEFF\": 10, \"EXP\": 2})\n",
    "study.enqueue_trial({\"RANGE\": 638, \"COEFF\": 17, \"EXP\": 3})\n",
    "study.enqueue_trial({\"RANGE\": 570, \"COEFF\": 5, \"EXP\": 3})\n",
    "study.optimize(objective, n_trials=60)\n",
    "print(study.best_params)"
   ]
  },
  {
   "cell_type": "markdown",
   "metadata": {},
   "source": [
    "---"
   ]
  },
  {
   "cell_type": "code",
   "execution_count": null,
   "metadata": {},
   "outputs": [],
   "source": []
  },
  {
   "cell_type": "code",
   "execution_count": null,
   "metadata": {},
   "outputs": [],
   "source": []
  },
  {
   "cell_type": "code",
   "execution_count": null,
   "metadata": {},
   "outputs": [],
   "source": []
  }
 ],
 "metadata": {
  "kernelspec": {
   "display_name": "base",
   "language": "python",
   "name": "python3"
  },
  "language_info": {
   "codemirror_mode": {
    "name": "ipython",
    "version": 3
   },
   "file_extension": ".py",
   "mimetype": "text/x-python",
   "name": "python",
   "nbconvert_exporter": "python",
   "pygments_lexer": "ipython3",
   "version": "3.10.10"
  }
 },
 "nbformat": 4,
 "nbformat_minor": 2
}
