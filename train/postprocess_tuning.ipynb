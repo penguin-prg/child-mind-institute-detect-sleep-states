{
 "cells": [
  {
   "cell_type": "code",
   "execution_count": 2,
   "metadata": {},
   "outputs": [],
   "source": [
    "import pandas as pd\n",
    "import yaml\n",
    "import sys\n",
    "import os\n",
    "from glob import glob\n",
    "from pathlib import Path\n",
    "from tqdm import tqdm\n",
    "import gc\n",
    "import pickle\n",
    "\n",
    "import warnings\n",
    "warnings.filterwarnings('ignore')\n",
    "\n",
    "sys.path.append('/kaggle/src')\n",
    "from utils.xgb import fit_xgb\n",
    "from utils.metric import compute_comptetition_metric\n",
    "from utils.postprocess import dynamic_range_nms\n",
    "from utils.set_seed import seed_base\n",
    "\n",
    "PACKAGE_DIR = Path(\"/kaggle/src\")\n",
    "CFG = yaml.safe_load(open(PACKAGE_DIR / \"config.yaml\", \"r\"))\n",
    "seed_base(CFG[\"env\"][\"seed\"])"
   ]
  },
  {
   "cell_type": "code",
   "execution_count": 3,
   "metadata": {},
   "outputs": [
    {
     "data": {
      "text/html": [
       "<div>\n",
       "<style scoped>\n",
       "    .dataframe tbody tr th:only-of-type {\n",
       "        vertical-align: middle;\n",
       "    }\n",
       "\n",
       "    .dataframe tbody tr th {\n",
       "        vertical-align: top;\n",
       "    }\n",
       "\n",
       "    .dataframe thead th {\n",
       "        text-align: right;\n",
       "    }\n",
       "</style>\n",
       "<table border=\"1\" class=\"dataframe\">\n",
       "  <thead>\n",
       "    <tr style=\"text-align: right;\">\n",
       "      <th></th>\n",
       "      <th>series_id</th>\n",
       "      <th>step</th>\n",
       "      <th>wakeup_oof</th>\n",
       "      <th>onset_oof</th>\n",
       "    </tr>\n",
       "  </thead>\n",
       "  <tbody>\n",
       "    <tr>\n",
       "      <th>0</th>\n",
       "      <td>05e1944c3818</td>\n",
       "      <td>6</td>\n",
       "      <td>0.004084</td>\n",
       "      <td>0.002020</td>\n",
       "    </tr>\n",
       "    <tr>\n",
       "      <th>1</th>\n",
       "      <td>05e1944c3818</td>\n",
       "      <td>18</td>\n",
       "      <td>0.003406</td>\n",
       "      <td>0.001832</td>\n",
       "    </tr>\n",
       "    <tr>\n",
       "      <th>2</th>\n",
       "      <td>05e1944c3818</td>\n",
       "      <td>30</td>\n",
       "      <td>0.003180</td>\n",
       "      <td>0.001751</td>\n",
       "    </tr>\n",
       "    <tr>\n",
       "      <th>3</th>\n",
       "      <td>05e1944c3818</td>\n",
       "      <td>42</td>\n",
       "      <td>0.003114</td>\n",
       "      <td>0.001701</td>\n",
       "    </tr>\n",
       "    <tr>\n",
       "      <th>4</th>\n",
       "      <td>05e1944c3818</td>\n",
       "      <td>54</td>\n",
       "      <td>0.003104</td>\n",
       "      <td>0.001665</td>\n",
       "    </tr>\n",
       "  </tbody>\n",
       "</table>\n",
       "</div>"
      ],
      "text/plain": [
       "      series_id  step  wakeup_oof  onset_oof\n",
       "0  05e1944c3818     6    0.004084   0.002020\n",
       "1  05e1944c3818    18    0.003406   0.001832\n",
       "2  05e1944c3818    30    0.003180   0.001751\n",
       "3  05e1944c3818    42    0.003114   0.001701\n",
       "4  05e1944c3818    54    0.003104   0.001665"
      ]
     },
     "execution_count": 3,
     "metadata": {},
     "output_type": "execute_result"
    }
   ],
   "source": [
    "oof_df = pd.read_parquet(f'/kaggle/output/{CFG[\"stacking\"][\"execution\"][\"best_exp_id\"]}/oof.parquet')\n",
    "# oof_df = oof_df[oof_df[\"series_id\"].isin(oof_df[\"series_id\"].unique()[:50])]\n",
    "oof_df.head()"
   ]
  },
  {
   "cell_type": "code",
   "execution_count": 4,
   "metadata": {},
   "outputs": [
    {
     "data": {
      "text/plain": [
       "886404"
      ]
     },
     "execution_count": 4,
     "metadata": {},
     "output_type": "execute_result"
    },
    {
     "data": {
      "image/png": "[encoded data removed]",
      "text/plain": [
       "<Figure size 640x480 with 1 Axes>"
      ]
     },
     "metadata": {},
     "output_type": "display_data"
    }
   ],
   "source": [
    "dfs = []\n",
    "df = oof_df[[\"series_id\", \"step\", \"wakeup_oof\"]]\n",
    "df = df[df[\"wakeup_oof\"] > 0.1]\n",
    "df[\"event\"] = \"wakeup\"\n",
    "df[\"score\"] = df[\"wakeup_oof\"]\n",
    "dfs.append(df[['series_id', 'step', 'event', 'score']])\n",
    "\n",
    "df = oof_df[[\"series_id\", \"step\", \"onset_oof\"]]\n",
    "df = df[df[\"onset_oof\"] > 0.1]\n",
    "df[\"event\"] = \"onset\"\n",
    "df[\"score\"] = df[\"onset_oof\"]\n",
    "dfs.append(df[['series_id', 'step', 'event', 'score']])\n",
    "\n",
    "train = pd.concat(dfs).reset_index(drop=True)\n",
    "train[\"step\"] = train[\"step\"].astype(int)\n",
    "train[\"score\"].hist()\n",
    "len(train)"
   ]
  },
  {
   "cell_type": "code",
   "execution_count": 5,
   "metadata": {},
   "outputs": [],
   "source": [
    "from tqdm import tqdm\n",
    "import pandas as pd\n",
    "import numpy as np\n",
    "import os\n",
    "import sys\n",
    "import yaml\n",
    "import matplotlib.pyplot as plt\n",
    "import gc\n",
    "from typing import Optional\n",
    "from scipy.interpolate import interp1d\n",
    "\n",
    "\n",
    "RANGE = 917\n",
    "COEFF = 11\n",
    "EXP = 5\n",
    "\n",
    "def dynamic_range_nms(df: pd.DataFrame) -> pd.DataFrame:\n",
    "    \"\"\"Dynamic-Range NMS\n",
    "\n",
    "    Parameters\n",
    "    ----------\n",
    "    df : pd.DataFrame\n",
    "        単一のseries_idに対する提出形式\n",
    "    \"\"\"\n",
    "    df = df.sort_values(\"score\", ascending=False).reset_index(drop=True)\n",
    "    used = []\n",
    "    used_scores = []\n",
    "    reduce_rate = np.ones(df[\"step\"].max() + 1000)\n",
    "    for _ in range(min(len(df), 100)):\n",
    "        df[\"reduced_score\"] = df[\"score\"] / reduce_rate[df[\"step\"]]\n",
    "        best_score = df[\"reduced_score\"].max()\n",
    "        best_idx = df[\"reduced_score\"].idxmax()\n",
    "        best_step = df.loc[best_idx, \"step\"]\n",
    "        used.append(best_idx)\n",
    "        used_scores.append(best_score)\n",
    "\n",
    "        for r in range(1, int(RANGE)):\n",
    "            reduce = ((RANGE - r) / RANGE) ** EXP * COEFF\n",
    "            reduce_rate[best_step + r] += reduce\n",
    "            if best_step - r >= 0:\n",
    "                reduce_rate[best_step - r] += reduce\n",
    "        reduce_rate[best_step] = 1e10\n",
    "    df = df.iloc[used].copy()\n",
    "    df[\"reduced_score\"] = used_scores\n",
    "    return df\n"
   ]
  },
  {
   "cell_type": "code",
   "execution_count": 6,
   "metadata": {},
   "outputs": [
    {
     "name": "stderr",
     "output_type": "stream",
     "text": [
      "\u001b[32m[I 2023-11-02 05:06:54,736]\u001b[0m A new study created in memory with name: no-name-64fc5157-860b-4998-a377-d435f4b5d93c\u001b[0m\n",
      "\u001b[32m[I 2023-11-02 05:07:59,555]\u001b[0m Trial 0 finished with value: 0.7441074565524878 and parameters: {'RANGE': 917, 'COEFF': 11, 'EXP': 5}. Best is trial 0 with value: 0.7441074565524878.\u001b[0m\n",
      "\u001b[32m[I 2023-11-02 05:09:03,916]\u001b[0m Trial 1 finished with value: 0.7448459517374002 and parameters: {'RANGE': 695, 'COEFF': 14, 'EXP': 3}. Best is trial 1 with value: 0.7448459517374002.\u001b[0m\n",
      "\u001b[32m[I 2023-11-02 05:10:08,246]\u001b[0m Trial 2 finished with value: 0.7375279050429273 and parameters: {'RANGE': 360, 'COEFF': 10, 'EXP': 2}. Best is trial 1 with value: 0.7448459517374002.\u001b[0m\n",
      "\u001b[32m[I 2023-11-02 05:11:11,591]\u001b[0m Trial 3 finished with value: 0.7446015760834106 and parameters: {'RANGE': 638, 'COEFF': 17, 'EXP': 3}. Best is trial 1 with value: 0.7448459517374002.\u001b[0m\n",
      "\u001b[32m[I 2023-11-02 05:12:14,696]\u001b[0m Trial 4 finished with value: 0.7402673926818919 and parameters: {'RANGE': 570, 'COEFF': 5, 'EXP': 3}. Best is trial 1 with value: 0.7448459517374002.\u001b[0m\n",
      "\u001b[32m[I 2023-11-02 05:13:17,905]\u001b[0m Trial 5 finished with value: 0.7442150017108609 and parameters: {'RANGE': 760, 'COEFF': 18, 'EXP': 3}. Best is trial 1 with value: 0.7448459517374002.\u001b[0m\n",
      "\u001b[32m[I 2023-11-02 05:14:21,134]\u001b[0m Trial 6 finished with value: 0.7444012933883755 and parameters: {'RANGE': 817, 'COEFF': 25, 'EXP': 4}. Best is trial 1 with value: 0.7448459517374002.\u001b[0m\n",
      "\u001b[32m[I 2023-11-02 05:15:24,181]\u001b[0m Trial 7 finished with value: 0.740472372944724 and parameters: {'RANGE': 390, 'COEFF': 29, 'EXP': 1}. Best is trial 1 with value: 0.7448459517374002.\u001b[0m\n",
      "\u001b[32m[I 2023-11-02 05:16:27,438]\u001b[0m Trial 8 finished with value: 0.7442158335054481 and parameters: {'RANGE': 810, 'COEFF': 11, 'EXP': 4}. Best is trial 1 with value: 0.7448459517374002.\u001b[0m\n",
      "\u001b[32m[I 2023-11-02 05:17:30,393]\u001b[0m Trial 9 finished with value: 0.7054298294636783 and parameters: {'RANGE': 127, 'COEFF': 26, 'EXP': 1}. Best is trial 1 with value: 0.7448459517374002.\u001b[0m\n",
      "\u001b[32m[I 2023-11-02 05:18:33,941]\u001b[0m Trial 10 finished with value: 0.713382748704473 and parameters: {'RANGE': 996, 'COEFF': 1, 'EXP': 5}. Best is trial 1 with value: 0.7448459517374002.\u001b[0m\n",
      "\u001b[32m[I 2023-11-02 05:19:37,101]\u001b[0m Trial 11 finished with value: 0.7426655731236951 and parameters: {'RANGE': 610, 'COEFF': 19, 'EXP': 2}. Best is trial 1 with value: 0.7448459517374002.\u001b[0m\n",
      "\u001b[32m[I 2023-11-02 05:20:40,018]\u001b[0m Trial 12 finished with value: 0.7417779082112146 and parameters: {'RANGE': 665, 'COEFF': 21, 'EXP': 2}. Best is trial 1 with value: 0.7448459517374002.\u001b[0m\n",
      "\u001b[32m[I 2023-11-02 05:21:43,258]\u001b[0m Trial 13 finished with value: 0.735817582324847 and parameters: {'RANGE': 450, 'COEFF': 14, 'EXP': 4}. Best is trial 1 with value: 0.7448459517374002.\u001b[0m\n",
      "\u001b[32m[I 2023-11-02 05:22:46,533]\u001b[0m Trial 14 finished with value: 0.7447721724034667 and parameters: {'RANGE': 682, 'COEFF': 15, 'EXP': 3}. Best is trial 1 with value: 0.7448459517374002.\u001b[0m\n",
      "\u001b[32m[I 2023-11-02 05:23:49,576]\u001b[0m Trial 15 finished with value: 0.7346637677981458 and parameters: {'RANGE': 468, 'COEFF': 7, 'EXP': 4}. Best is trial 1 with value: 0.7448459517374002.\u001b[0m\n",
      "\u001b[32m[I 2023-11-02 05:24:52,774]\u001b[0m Trial 16 finished with value: 0.7404620882445156 and parameters: {'RANGE': 725, 'COEFF': 14, 'EXP': 2}. Best is trial 1 with value: 0.7448459517374002.\u001b[0m\n",
      "\u001b[32m[I 2023-11-02 05:25:55,578]\u001b[0m Trial 17 finished with value: 0.7220892970724297 and parameters: {'RANGE': 218, 'COEFF': 22, 'EXP': 3}. Best is trial 1 with value: 0.7448459517374002.\u001b[0m\n",
      "\u001b[32m[I 2023-11-02 05:26:58,756]\u001b[0m Trial 18 finished with value: 0.7422703480291966 and parameters: {'RANGE': 871, 'COEFF': 14, 'EXP': 3}. Best is trial 1 with value: 0.7448459517374002.\u001b[0m\n",
      "\u001b[32m[I 2023-11-02 05:28:02,033]\u001b[0m Trial 19 finished with value: 0.7422193578033351 and parameters: {'RANGE': 706, 'COEFF': 7, 'EXP': 4}. Best is trial 1 with value: 0.7448459517374002.\u001b[0m\n",
      "\u001b[32m[I 2023-11-02 05:29:05,170]\u001b[0m Trial 20 finished with value: 0.7435524380352773 and parameters: {'RANGE': 509, 'COEFF': 22, 'EXP': 2}. Best is trial 1 with value: 0.7448459517374002.\u001b[0m\n",
      "\u001b[32m[I 2023-11-02 05:30:08,875]\u001b[0m Trial 21 finished with value: 0.744672096678416 and parameters: {'RANGE': 626, 'COEFF': 16, 'EXP': 3}. Best is trial 1 with value: 0.7448459517374002.\u001b[0m\n",
      "\u001b[32m[I 2023-11-02 05:31:12,219]\u001b[0m Trial 22 finished with value: 0.7438518886201813 and parameters: {'RANGE': 586, 'COEFF': 15, 'EXP': 3}. Best is trial 1 with value: 0.7448459517374002.\u001b[0m\n"
     ]
    }
   ],
   "source": [
    "from multiprocessing import Pool\n",
    "import optuna\n",
    "\n",
    "def objective(trial):\n",
    "    global RANGE, COEFF, EXP\n",
    "    RANGE = trial.suggest_int(\"RANGE\", 100, 1000)\n",
    "    COEFF = trial.suggest_int(\"COEFF\", 1, 30)\n",
    "    EXP = trial.suggest_int(\"EXP\", 1, 5)        \n",
    "\n",
    "    groups = [group for _, group in train.groupby(\"series_id\")]\n",
    "    with Pool(30) as p:  \n",
    "        results = list(p.imap(dynamic_range_nms, groups))\n",
    "    sub = pd.concat(results)\n",
    "    sub[\"score\"] = sub[\"reduced_score\"]\n",
    "\n",
    "    # スコア計算\n",
    "    labels = pd.read_csv(f\"{CFG['dataset']['competition_dir']}/train_events.csv\").dropna()\n",
    "    # labels = labels[labels[\"series_id\"].isin(sub[\"series_id\"].unique())].reset_index(drop=True)\n",
    "    score, ap_table = compute_comptetition_metric(labels, sub)\n",
    "    return score\n",
    "\n",
    "\n",
    "study = optuna.create_study(direction=\"maximize\")\n",
    "study.enqueue_trial({\"RANGE\": 917, \"COEFF\": 11, \"EXP\": 5})\n",
    "study.enqueue_trial({\"RANGE\": 695, \"COEFF\": 14, \"EXP\": 3})\n",
    "study.enqueue_trial({\"RANGE\": 360, \"COEFF\": 10, \"EXP\": 2})\n",
    "study.enqueue_trial({\"RANGE\": 638, \"COEFF\": 17, \"EXP\": 3})\n",
    "study.enqueue_trial({\"RANGE\": 570, \"COEFF\": 5, \"EXP\": 3})\n",
    "study.optimize(objective, n_trials=60)\n",
    "print(study.best_params)"
   ]
  },
  {
   "cell_type": "markdown",
   "metadata": {},
   "source": [
    "---"
   ]
  },
  {
   "cell_type": "code",
   "execution_count": null,
   "metadata": {},
   "outputs": [],
   "source": []
  },
  {
   "cell_type": "code",
   "execution_count": null,
   "metadata": {},
   "outputs": [],
   "source": []
  },
  {
   "cell_type": "code",
   "execution_count": null,
   "metadata": {},
   "outputs": [],
   "source": []
  },
  {
   "cell_type": "code",
   "execution_count": null,
   "metadata": {},
   "outputs": [],
   "source": []
  },
  {
   "cell_type": "code",
   "execution_count": null,
   "metadata": {},
   "outputs": [],
   "source": []
  },
  {
   "cell_type": "code",
   "execution_count": null,
   "metadata": {},
   "outputs": [],
   "source": []
  }
 ],
 "metadata": {
  "kernelspec": {
   "display_name": "base",
   "language": "python",
   "name": "python3"
  },
  "language_info": {
   "codemirror_mode": {
    "name": "ipython",
    "version": 3
   },
   "file_extension": ".py",
   "mimetype": "text/x-python",
   "name": "python",
   "nbconvert_exporter": "python",
   "pygments_lexer": "ipython3",
   "version": "3.10.10"
  }
 },
 "nbformat": 4,
 "nbformat_minor": 2
}
