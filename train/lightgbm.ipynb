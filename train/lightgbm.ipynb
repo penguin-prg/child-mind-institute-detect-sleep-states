{
 "cells": [
  {
   "cell_type": "code",
   "execution_count": 1,
   "metadata": {},
   "outputs": [
    {
     "name": "stderr",
     "output_type": "stream",
     "text": [
      "2023-11-09 07:18:35.508935: I tensorflow/core/platform/cpu_feature_guard.cc:193] This TensorFlow binary is optimized with oneAPI Deep Neural Network Library (oneDNN) to use the following CPU instructions in performance-critical operations:  AVX2 AVX_VNNI FMA\n",
      "To enable them in other operations, rebuild TensorFlow with the appropriate compiler flags.\n",
      "2023-11-09 07:18:36.014194: I tensorflow/core/util/port.cc:104] oneDNN custom operations are on. You may see slightly different numerical results due to floating-point round-off errors from different computation orders. To turn them off, set the environment variable `TF_ENABLE_ONEDNN_OPTS=0`.\n",
      "2023-11-09 07:18:37.758631: W tensorflow/compiler/xla/stream_executor/platform/default/dso_loader.cc:64] Could not load dynamic library 'libnvinfer.so.7'; dlerror: libnvinfer.so.7: cannot open shared object file: No such file or directory; LD_LIBRARY_PATH: /usr/local/cuda/lib64:/usr/local/cuda/lib:/usr/local/lib/x86_64-linux-gnu:/usr/local/nvidia/lib:/usr/local/nvidia/lib64:/usr/local/nvidia/lib:/usr/local/nvidia/lib64:/opt/conda/lib\n",
      "2023-11-09 07:18:37.759532: W tensorflow/compiler/xla/stream_executor/platform/default/dso_loader.cc:64] Could not load dynamic library 'libnvinfer_plugin.so.7'; dlerror: libnvinfer_plugin.so.7: cannot open shared object file: No such file or directory; LD_LIBRARY_PATH: /usr/local/cuda/lib64:/usr/local/cuda/lib:/usr/local/lib/x86_64-linux-gnu:/usr/local/nvidia/lib:/usr/local/nvidia/lib64:/usr/local/nvidia/lib:/usr/local/nvidia/lib64:/opt/conda/lib\n",
      "2023-11-09 07:18:37.759538: W tensorflow/compiler/tf2tensorrt/utils/py_utils.cc:38] TF-TRT Warning: Cannot dlopen some TensorRT libraries. If you would like to use Nvidia GPU with TensorRT, please make sure the missing libraries mentioned above are installed properly.\n"
     ]
    },
    {
     "name": "stdout",
     "output_type": "stream",
     "text": [
      "exp_130\n"
     ]
    }
   ],
   "source": [
    "import pandas as pd\n",
    "import yaml\n",
    "import sys\n",
    "import os\n",
    "from glob import glob\n",
    "from pathlib import Path\n",
    "import gc\n",
    "import pickle\n",
    "import joblib\n",
    "\n",
    "import warnings\n",
    "warnings.filterwarnings('ignore')\n",
    "\n",
    "sys.path.append('/kaggle/src')\n",
    "from utils.lgb import fit_lgb\n",
    "from utils.metric import compute_comptetition_metric\n",
    "from utils.set_seed import seed_base\n",
    "from feature_engineering.fe_xgb import generate_features\n",
    "\n",
    "MODEL_NAME = \"lgb_model\"\n",
    "PACKAGE_DIR = Path(\"/kaggle/src\")\n",
    "CFG = yaml.safe_load(open(PACKAGE_DIR / \"config.yaml\", \"r\"))\n",
    "print(CFG[MODEL_NAME][\"execution\"][\"exp_id\"])\n",
    "\n",
    "CFG[\"output_dir\"] = f\"/kaggle/output/{CFG[MODEL_NAME]['execution']['exp_id']}\"\n",
    "!rm -r {CFG[\"output_dir\"]}\n",
    "os.makedirs(CFG[\"output_dir\"], exist_ok=True)\n",
    "\n",
    "seed_base(CFG[\"env\"][\"seed\"])"
   ]
  },
  {
   "cell_type": "code",
   "execution_count": 2,
   "metadata": {},
   "outputs": [
    {
     "name": "stderr",
     "output_type": "stream",
     "text": [
      "generate features: 100%|██████████| 277/277 [04:40<00:00,  1.01s/it]\n"
     ]
    },
    {
     "data": {
      "text/html": [
       "<div>\n",
       "<style scoped>\n",
       "    .dataframe tbody tr th:only-of-type {\n",
       "        vertical-align: middle;\n",
       "    }\n",
       "\n",
       "    .dataframe tbody tr th {\n",
       "        vertical-align: top;\n",
       "    }\n",
       "\n",
       "    .dataframe thead th {\n",
       "        text-align: right;\n",
       "    }\n",
       "</style>\n",
       "<table border=\"1\" class=\"dataframe\">\n",
       "  <thead>\n",
       "    <tr style=\"text-align: right;\">\n",
       "      <th></th>\n",
       "      <th>anglez</th>\n",
       "      <th>anglez_diff_abs</th>\n",
       "      <th>anglez_diff_abs_clip5</th>\n",
       "      <th>anglez_mean</th>\n",
       "      <th>enmo</th>\n",
       "      <th>enmo_diff_abs</th>\n",
       "      <th>enmo_mean</th>\n",
       "      <th>minutes</th>\n",
       "      <th>same_count</th>\n",
       "      <th>total_seconds</th>\n",
       "      <th>...</th>\n",
       "      <th>enmo_rolling_median_100_shift_1000</th>\n",
       "      <th>anglez_diff_abs_clip5_rolling_median_100_shift_1000</th>\n",
       "      <th>enmo_std_rolling_median_100_shift_1000</th>\n",
       "      <th>anglez_diff_abs_clip5_std_rolling_median_100_shift_1000</th>\n",
       "      <th>enmo_rolling_square_mean_100_shift_1000</th>\n",
       "      <th>anglez_diff_abs_clip5_rolling_square_mean_100_shift_1000</th>\n",
       "      <th>enmo_std_rolling_square_mean_100_shift_1000</th>\n",
       "      <th>anglez_diff_abs_clip5_std_rolling_square_mean_100_shift_1000</th>\n",
       "      <th>reduce_step</th>\n",
       "      <th>fold</th>\n",
       "    </tr>\n",
       "  </thead>\n",
       "  <tbody>\n",
       "    <tr>\n",
       "      <th>29</th>\n",
       "      <td>-89.259064</td>\n",
       "      <td>0.057546</td>\n",
       "      <td>0.057546</td>\n",
       "      <td>-10.070161</td>\n",
       "      <td>0.029858</td>\n",
       "      <td>0.000262</td>\n",
       "      <td>0.104063</td>\n",
       "      <td>837.5</td>\n",
       "      <td>0.0</td>\n",
       "      <td>47637.5</td>\n",
       "      <td>...</td>\n",
       "      <td>NaN</td>\n",
       "      <td>NaN</td>\n",
       "      <td>NaN</td>\n",
       "      <td>NaN</td>\n",
       "      <td>NaN</td>\n",
       "      <td>NaN</td>\n",
       "      <td>NaN</td>\n",
       "      <td>NaN</td>\n",
       "      <td>707</td>\n",
       "      <td>3</td>\n",
       "    </tr>\n",
       "    <tr>\n",
       "      <th>30</th>\n",
       "      <td>-87.457848</td>\n",
       "      <td>0.147454</td>\n",
       "      <td>0.147454</td>\n",
       "      <td>-0.726222</td>\n",
       "      <td>0.029458</td>\n",
       "      <td>0.000533</td>\n",
       "      <td>0.095024</td>\n",
       "      <td>957.5</td>\n",
       "      <td>0.0</td>\n",
       "      <td>47757.5</td>\n",
       "      <td>...</td>\n",
       "      <td>NaN</td>\n",
       "      <td>NaN</td>\n",
       "      <td>NaN</td>\n",
       "      <td>NaN</td>\n",
       "      <td>NaN</td>\n",
       "      <td>NaN</td>\n",
       "      <td>NaN</td>\n",
       "      <td>NaN</td>\n",
       "      <td>731</td>\n",
       "      <td>3</td>\n",
       "    </tr>\n",
       "    <tr>\n",
       "      <th>31</th>\n",
       "      <td>-86.225922</td>\n",
       "      <td>0.169739</td>\n",
       "      <td>0.169739</td>\n",
       "      <td>-5.723403</td>\n",
       "      <td>0.030287</td>\n",
       "      <td>0.001758</td>\n",
       "      <td>0.092043</td>\n",
       "      <td>1077.5</td>\n",
       "      <td>0.0</td>\n",
       "      <td>47877.5</td>\n",
       "      <td>...</td>\n",
       "      <td>NaN</td>\n",
       "      <td>NaN</td>\n",
       "      <td>NaN</td>\n",
       "      <td>NaN</td>\n",
       "      <td>NaN</td>\n",
       "      <td>NaN</td>\n",
       "      <td>NaN</td>\n",
       "      <td>NaN</td>\n",
       "      <td>755</td>\n",
       "      <td>3</td>\n",
       "    </tr>\n",
       "    <tr>\n",
       "      <th>32</th>\n",
       "      <td>-75.722588</td>\n",
       "      <td>5.349769</td>\n",
       "      <td>2.968245</td>\n",
       "      <td>-4.199389</td>\n",
       "      <td>0.083004</td>\n",
       "      <td>0.049383</td>\n",
       "      <td>0.083214</td>\n",
       "      <td>1197.5</td>\n",
       "      <td>0.0</td>\n",
       "      <td>47997.5</td>\n",
       "      <td>...</td>\n",
       "      <td>NaN</td>\n",
       "      <td>NaN</td>\n",
       "      <td>NaN</td>\n",
       "      <td>NaN</td>\n",
       "      <td>NaN</td>\n",
       "      <td>NaN</td>\n",
       "      <td>NaN</td>\n",
       "      <td>NaN</td>\n",
       "      <td>779</td>\n",
       "      <td>3</td>\n",
       "    </tr>\n",
       "    <tr>\n",
       "      <th>33</th>\n",
       "      <td>-0.061125</td>\n",
       "      <td>3.569804</td>\n",
       "      <td>1.781771</td>\n",
       "      <td>2.269062</td>\n",
       "      <td>0.021142</td>\n",
       "      <td>0.006329</td>\n",
       "      <td>0.088176</td>\n",
       "      <td>1317.5</td>\n",
       "      <td>0.0</td>\n",
       "      <td>48117.5</td>\n",
       "      <td>...</td>\n",
       "      <td>NaN</td>\n",
       "      <td>NaN</td>\n",
       "      <td>NaN</td>\n",
       "      <td>NaN</td>\n",
       "      <td>NaN</td>\n",
       "      <td>NaN</td>\n",
       "      <td>NaN</td>\n",
       "      <td>NaN</td>\n",
       "      <td>803</td>\n",
       "      <td>3</td>\n",
       "    </tr>\n",
       "  </tbody>\n",
       "</table>\n",
       "<p>5 rows × 1307 columns</p>\n",
       "</div>"
      ],
      "text/plain": [
       "       anglez  anglez_diff_abs  anglez_diff_abs_clip5  anglez_mean      enmo  \\\n",
       "29 -89.259064         0.057546               0.057546   -10.070161  0.029858   \n",
       "30 -87.457848         0.147454               0.147454    -0.726222  0.029458   \n",
       "31 -86.225922         0.169739               0.169739    -5.723403  0.030287   \n",
       "32 -75.722588         5.349769               2.968245    -4.199389  0.083004   \n",
       "33  -0.061125         3.569804               1.781771     2.269062  0.021142   \n",
       "\n",
       "    enmo_diff_abs  enmo_mean  minutes  same_count  total_seconds  ...  \\\n",
       "29       0.000262   0.104063    837.5         0.0        47637.5  ...   \n",
       "30       0.000533   0.095024    957.5         0.0        47757.5  ...   \n",
       "31       0.001758   0.092043   1077.5         0.0        47877.5  ...   \n",
       "32       0.049383   0.083214   1197.5         0.0        47997.5  ...   \n",
       "33       0.006329   0.088176   1317.5         0.0        48117.5  ...   \n",
       "\n",
       "    enmo_rolling_median_100_shift_1000  \\\n",
       "29                                 NaN   \n",
       "30                                 NaN   \n",
       "31                                 NaN   \n",
       "32                                 NaN   \n",
       "33                                 NaN   \n",
       "\n",
       "    anglez_diff_abs_clip5_rolling_median_100_shift_1000  \\\n",
       "29                                                NaN     \n",
       "30                                                NaN     \n",
       "31                                                NaN     \n",
       "32                                                NaN     \n",
       "33                                                NaN     \n",
       "\n",
       "    enmo_std_rolling_median_100_shift_1000  \\\n",
       "29                                     NaN   \n",
       "30                                     NaN   \n",
       "31                                     NaN   \n",
       "32                                     NaN   \n",
       "33                                     NaN   \n",
       "\n",
       "    anglez_diff_abs_clip5_std_rolling_median_100_shift_1000  \\\n",
       "29                                                NaN         \n",
       "30                                                NaN         \n",
       "31                                                NaN         \n",
       "32                                                NaN         \n",
       "33                                                NaN         \n",
       "\n",
       "    enmo_rolling_square_mean_100_shift_1000  \\\n",
       "29                                      NaN   \n",
       "30                                      NaN   \n",
       "31                                      NaN   \n",
       "32                                      NaN   \n",
       "33                                      NaN   \n",
       "\n",
       "    anglez_diff_abs_clip5_rolling_square_mean_100_shift_1000  \\\n",
       "29                                                NaN          \n",
       "30                                                NaN          \n",
       "31                                                NaN          \n",
       "32                                                NaN          \n",
       "33                                                NaN          \n",
       "\n",
       "    enmo_std_rolling_square_mean_100_shift_1000  \\\n",
       "29                                          NaN   \n",
       "30                                          NaN   \n",
       "31                                          NaN   \n",
       "32                                          NaN   \n",
       "33                                          NaN   \n",
       "\n",
       "    anglez_diff_abs_clip5_std_rolling_square_mean_100_shift_1000  reduce_step  \\\n",
       "29                                                NaN                     707   \n",
       "30                                                NaN                     731   \n",
       "31                                                NaN                     755   \n",
       "32                                                NaN                     779   \n",
       "33                                                NaN                     803   \n",
       "\n",
       "    fold  \n",
       "29     3  \n",
       "30     3  \n",
       "31     3  \n",
       "32     3  \n",
       "33     3  \n",
       "\n",
       "[5 rows x 1307 columns]"
      ]
     },
     "metadata": {},
     "output_type": "display_data"
    },
    {
     "data": {
      "text/plain": [
       "(493733, 1307)"
      ]
     },
     "execution_count": 2,
     "metadata": {},
     "output_type": "execute_result"
    }
   ],
   "source": [
    "# 特徴生成\n",
    "files = glob(f\"{CFG['dataset']['step_csv_dir']}/*.parquet\")\n",
    "train, features = generate_features(files)\n",
    "\n",
    "# cv splitとマージ\n",
    "cv_split = pd.read_csv(CFG['dataset']['cv_split_path'])\n",
    "train[\"fold\"] = train[\"series_id\"].map(cv_split.set_index(\"series_id\")[\"fold\"])\n",
    "display(train.head(5))\n",
    "train.shape"
   ]
  },
  {
   "cell_type": "code",
   "execution_count": 3,
   "metadata": {},
   "outputs": [
    {
     "name": "stderr",
     "output_type": "stream",
     "text": [
      "  0%|          | 0/5 [00:00<?, ?it/s]"
     ]
    },
    {
     "name": "stdout",
     "output_type": "stream",
     "text": [
      "== fold 0 ==\n",
      "[100]\tvalid_0's rmse: 1.15478\tvalid_0's l2: 1.33351\n",
      "[200]\tvalid_0's rmse: 1.04527\tvalid_0's l2: 1.09259\n",
      "[300]\tvalid_0's rmse: 1.01846\tvalid_0's l2: 1.03726\n",
      "[400]\tvalid_0's rmse: 1.0121\tvalid_0's l2: 1.02435\n",
      "[500]\tvalid_0's rmse: 1.00954\tvalid_0's l2: 1.01918\n",
      "[600]\tvalid_0's rmse: 1.00872\tvalid_0's l2: 1.01752\n",
      "[700]\tvalid_0's rmse: 1.00841\tvalid_0's l2: 1.01689\n",
      "[800]\tvalid_0's rmse: 1.00798\tvalid_0's l2: 1.01602\n",
      "[900]\tvalid_0's rmse: 1.00779\tvalid_0's l2: 1.01563\n",
      "[1000]\tvalid_0's rmse: 1.00754\tvalid_0's l2: 1.01513\n",
      "[1100]\tvalid_0's rmse: 1.00716\tvalid_0's l2: 1.01437\n",
      "[1200]\tvalid_0's rmse: 1.00683\tvalid_0's l2: 1.01371\n",
      "[1300]\tvalid_0's rmse: 1.0066\tvalid_0's l2: 1.01324\n",
      "[1400]\tvalid_0's rmse: 1.00628\tvalid_0's l2: 1.01259\n",
      "[1500]\tvalid_0's rmse: 1.00602\tvalid_0's l2: 1.01208\n",
      "[1600]\tvalid_0's rmse: 1.00588\tvalid_0's l2: 1.0118\n",
      "[1700]\tvalid_0's rmse: 1.00577\tvalid_0's l2: 1.01157\n",
      "[1800]\tvalid_0's rmse: 1.00565\tvalid_0's l2: 1.01133\n",
      "[1900]\tvalid_0's rmse: 1.00558\tvalid_0's l2: 1.0112\n",
      "[2000]\tvalid_0's rmse: 1.00531\tvalid_0's l2: 1.01065\n",
      "[2100]\tvalid_0's rmse: 1.00522\tvalid_0's l2: 1.01047\n"
     ]
    },
    {
     "name": "stderr",
     "output_type": "stream",
     "text": [
      " 20%|██        | 1/5 [02:36<10:27, 156.82s/it]"
     ]
    },
    {
     "name": "stdout",
     "output_type": "stream",
     "text": [
      "== fold 1 ==\n",
      "[100]\tvalid_0's rmse: 1.07683\tvalid_0's l2: 1.15957\n",
      "[200]\tvalid_0's rmse: 0.979862\tvalid_0's l2: 0.96013\n",
      "[300]\tvalid_0's rmse: 0.954567\tvalid_0's l2: 0.911198\n",
      "[400]\tvalid_0's rmse: 0.947028\tvalid_0's l2: 0.896863\n",
      "[500]\tvalid_0's rmse: 0.944039\tvalid_0's l2: 0.89121\n",
      "[600]\tvalid_0's rmse: 0.942263\tvalid_0's l2: 0.887859\n",
      "[700]\tvalid_0's rmse: 0.941133\tvalid_0's l2: 0.885732\n",
      "[800]\tvalid_0's rmse: 0.940691\tvalid_0's l2: 0.884899\n",
      "[900]\tvalid_0's rmse: 0.940174\tvalid_0's l2: 0.883928\n",
      "[1000]\tvalid_0's rmse: 0.939832\tvalid_0's l2: 0.883285\n",
      "[1100]\tvalid_0's rmse: 0.939513\tvalid_0's l2: 0.882684\n",
      "[1200]\tvalid_0's rmse: 0.93925\tvalid_0's l2: 0.88219\n",
      "[1300]\tvalid_0's rmse: 0.938877\tvalid_0's l2: 0.881491\n",
      "[1400]\tvalid_0's rmse: 0.938524\tvalid_0's l2: 0.880827\n",
      "[1500]\tvalid_0's rmse: 0.938348\tvalid_0's l2: 0.880496\n",
      "[1600]\tvalid_0's rmse: 0.938116\tvalid_0's l2: 0.880062\n",
      "[1700]\tvalid_0's rmse: 0.937787\tvalid_0's l2: 0.879445\n",
      "[1800]\tvalid_0's rmse: 0.937673\tvalid_0's l2: 0.879231\n",
      "[1900]\tvalid_0's rmse: 0.937521\tvalid_0's l2: 0.878946\n",
      "[2000]\tvalid_0's rmse: 0.937225\tvalid_0's l2: 0.878392\n",
      "[2100]\tvalid_0's rmse: 0.93718\tvalid_0's l2: 0.878307\n"
     ]
    },
    {
     "name": "stderr",
     "output_type": "stream",
     "text": [
      " 40%|████      | 2/5 [04:55<07:18, 146.20s/it]"
     ]
    },
    {
     "name": "stdout",
     "output_type": "stream",
     "text": [
      "== fold 2 ==\n",
      "[100]\tvalid_0's rmse: 1.076\tvalid_0's l2: 1.15777\n",
      "[200]\tvalid_0's rmse: 0.985705\tvalid_0's l2: 0.971615\n",
      "[300]\tvalid_0's rmse: 0.96179\tvalid_0's l2: 0.92504\n",
      "[400]\tvalid_0's rmse: 0.954708\tvalid_0's l2: 0.911467\n",
      "[500]\tvalid_0's rmse: 0.952567\tvalid_0's l2: 0.907384\n",
      "[600]\tvalid_0's rmse: 0.951441\tvalid_0's l2: 0.905241\n",
      "[700]\tvalid_0's rmse: 0.950879\tvalid_0's l2: 0.904171\n",
      "[800]\tvalid_0's rmse: 0.950478\tvalid_0's l2: 0.903408\n",
      "[900]\tvalid_0's rmse: 0.950137\tvalid_0's l2: 0.902761\n",
      "[1000]\tvalid_0's rmse: 0.949753\tvalid_0's l2: 0.902031\n",
      "[1100]\tvalid_0's rmse: 0.949534\tvalid_0's l2: 0.901616\n",
      "[1200]\tvalid_0's rmse: 0.949297\tvalid_0's l2: 0.901164\n",
      "[1300]\tvalid_0's rmse: 0.94903\tvalid_0's l2: 0.900659\n",
      "[1400]\tvalid_0's rmse: 0.948811\tvalid_0's l2: 0.900242\n",
      "[1500]\tvalid_0's rmse: 0.948758\tvalid_0's l2: 0.900142\n",
      "[1600]\tvalid_0's rmse: 0.948722\tvalid_0's l2: 0.900074\n"
     ]
    },
    {
     "name": "stderr",
     "output_type": "stream",
     "text": [
      " 60%|██████    | 3/5 [06:41<04:15, 127.91s/it]"
     ]
    },
    {
     "name": "stdout",
     "output_type": "stream",
     "text": [
      "== fold 3 ==\n",
      "[100]\tvalid_0's rmse: 1.15823\tvalid_0's l2: 1.3415\n",
      "[200]\tvalid_0's rmse: 1.04899\tvalid_0's l2: 1.10038\n",
      "[300]\tvalid_0's rmse: 1.02261\tvalid_0's l2: 1.04573\n",
      "[400]\tvalid_0's rmse: 1.0166\tvalid_0's l2: 1.03347\n",
      "[500]\tvalid_0's rmse: 1.01461\tvalid_0's l2: 1.02943\n",
      "[600]\tvalid_0's rmse: 1.01339\tvalid_0's l2: 1.02696\n",
      "[700]\tvalid_0's rmse: 1.01275\tvalid_0's l2: 1.02565\n",
      "[800]\tvalid_0's rmse: 1.01235\tvalid_0's l2: 1.02485\n",
      "[900]\tvalid_0's rmse: 1.01208\tvalid_0's l2: 1.02431\n",
      "[1000]\tvalid_0's rmse: 1.0118\tvalid_0's l2: 1.02373\n",
      "[1100]\tvalid_0's rmse: 1.01148\tvalid_0's l2: 1.0231\n",
      "[1200]\tvalid_0's rmse: 1.01133\tvalid_0's l2: 1.0228\n",
      "[1300]\tvalid_0's rmse: 1.01111\tvalid_0's l2: 1.02234\n",
      "[1400]\tvalid_0's rmse: 1.0108\tvalid_0's l2: 1.02171\n",
      "[1500]\tvalid_0's rmse: 1.01064\tvalid_0's l2: 1.02139\n",
      "[1600]\tvalid_0's rmse: 1.01039\tvalid_0's l2: 1.02089\n",
      "[1700]\tvalid_0's rmse: 1.01028\tvalid_0's l2: 1.02066\n",
      "[1800]\tvalid_0's rmse: 1.01005\tvalid_0's l2: 1.02021\n",
      "[1900]\tvalid_0's rmse: 1.00971\tvalid_0's l2: 1.01952\n",
      "[2000]\tvalid_0's rmse: 1.0095\tvalid_0's l2: 1.01909\n",
      "[2100]\tvalid_0's rmse: 1.00942\tvalid_0's l2: 1.01893\n",
      "[2200]\tvalid_0's rmse: 1.00929\tvalid_0's l2: 1.01867\n",
      "[2300]\tvalid_0's rmse: 1.00911\tvalid_0's l2: 1.01829\n",
      "[2400]\tvalid_0's rmse: 1.00893\tvalid_0's l2: 1.01795\n",
      "[2500]\tvalid_0's rmse: 1.0087\tvalid_0's l2: 1.01748\n",
      "[2600]\tvalid_0's rmse: 1.0086\tvalid_0's l2: 1.01727\n",
      "[2700]\tvalid_0's rmse: 1.00853\tvalid_0's l2: 1.01714\n"
     ]
    },
    {
     "name": "stderr",
     "output_type": "stream",
     "text": [
      " 80%|████████  | 4/5 [09:22<02:20, 140.98s/it]"
     ]
    },
    {
     "name": "stdout",
     "output_type": "stream",
     "text": [
      "== fold 4 ==\n",
      "[100]\tvalid_0's rmse: 1.19411\tvalid_0's l2: 1.4259\n",
      "[200]\tvalid_0's rmse: 1.09292\tvalid_0's l2: 1.19448\n",
      "[300]\tvalid_0's rmse: 1.06769\tvalid_0's l2: 1.13996\n",
      "[400]\tvalid_0's rmse: 1.0616\tvalid_0's l2: 1.127\n",
      "[500]\tvalid_0's rmse: 1.05897\tvalid_0's l2: 1.12143\n",
      "[600]\tvalid_0's rmse: 1.05772\tvalid_0's l2: 1.11877\n",
      "[700]\tvalid_0's rmse: 1.05727\tvalid_0's l2: 1.11782\n",
      "[800]\tvalid_0's rmse: 1.0568\tvalid_0's l2: 1.11683\n",
      "[900]\tvalid_0's rmse: 1.05639\tvalid_0's l2: 1.11597\n",
      "[1000]\tvalid_0's rmse: 1.05628\tvalid_0's l2: 1.11572\n",
      "[1100]\tvalid_0's rmse: 1.05611\tvalid_0's l2: 1.11536\n",
      "[1200]\tvalid_0's rmse: 1.05601\tvalid_0's l2: 1.11516\n",
      "[1300]\tvalid_0's rmse: 1.05588\tvalid_0's l2: 1.11489\n",
      "[1400]\tvalid_0's rmse: 1.05574\tvalid_0's l2: 1.11459\n",
      "[1500]\tvalid_0's rmse: 1.05579\tvalid_0's l2: 1.11468\n"
     ]
    },
    {
     "name": "stderr",
     "output_type": "stream",
     "text": [
      "100%|██████████| 5/5 [11:11<00:00, 134.39s/it]\n",
      "  0%|          | 0/5 [00:00<?, ?it/s]"
     ]
    },
    {
     "name": "stdout",
     "output_type": "stream",
     "text": [
      "== fold 0 ==\n",
      "[100]\tvalid_0's rmse: 1.14568\tvalid_0's l2: 1.31258\n",
      "[200]\tvalid_0's rmse: 1.03701\tvalid_0's l2: 1.07539\n",
      "[300]\tvalid_0's rmse: 1.0083\tvalid_0's l2: 1.01668\n",
      "[400]\tvalid_0's rmse: 1.00046\tvalid_0's l2: 1.00091\n",
      "[500]\tvalid_0's rmse: 0.997613\tvalid_0's l2: 0.995232\n",
      "[600]\tvalid_0's rmse: 0.99668\tvalid_0's l2: 0.99337\n",
      "[700]\tvalid_0's rmse: 0.995938\tvalid_0's l2: 0.991892\n",
      "[800]\tvalid_0's rmse: 0.995418\tvalid_0's l2: 0.990857\n",
      "[900]\tvalid_0's rmse: 0.994914\tvalid_0's l2: 0.989854\n",
      "[1000]\tvalid_0's rmse: 0.994481\tvalid_0's l2: 0.988992\n",
      "[1100]\tvalid_0's rmse: 0.994196\tvalid_0's l2: 0.988425\n",
      "[1200]\tvalid_0's rmse: 0.993937\tvalid_0's l2: 0.987911\n",
      "[1300]\tvalid_0's rmse: 0.993671\tvalid_0's l2: 0.987382\n",
      "[1400]\tvalid_0's rmse: 0.993616\tvalid_0's l2: 0.987272\n",
      "[1500]\tvalid_0's rmse: 0.993462\tvalid_0's l2: 0.986967\n",
      "[1600]\tvalid_0's rmse: 0.993294\tvalid_0's l2: 0.986633\n",
      "[1700]\tvalid_0's rmse: 0.993287\tvalid_0's l2: 0.986619\n"
     ]
    },
    {
     "name": "stderr",
     "output_type": "stream",
     "text": [
      " 20%|██        | 1/5 [02:04<08:16, 124.16s/it]"
     ]
    },
    {
     "name": "stdout",
     "output_type": "stream",
     "text": [
      "== fold 1 ==\n",
      "[100]\tvalid_0's rmse: 1.04694\tvalid_0's l2: 1.09608\n",
      "[200]\tvalid_0's rmse: 0.941039\tvalid_0's l2: 0.885554\n",
      "[300]\tvalid_0's rmse: 0.911276\tvalid_0's l2: 0.830424\n",
      "[400]\tvalid_0's rmse: 0.901532\tvalid_0's l2: 0.81276\n",
      "[500]\tvalid_0's rmse: 0.897875\tvalid_0's l2: 0.80618\n",
      "[600]\tvalid_0's rmse: 0.896406\tvalid_0's l2: 0.803543\n",
      "[700]\tvalid_0's rmse: 0.895414\tvalid_0's l2: 0.801766\n",
      "[800]\tvalid_0's rmse: 0.894921\tvalid_0's l2: 0.800883\n",
      "[900]\tvalid_0's rmse: 0.894394\tvalid_0's l2: 0.799941\n",
      "[1000]\tvalid_0's rmse: 0.89398\tvalid_0's l2: 0.7992\n",
      "[1100]\tvalid_0's rmse: 0.893657\tvalid_0's l2: 0.798622\n",
      "[1200]\tvalid_0's rmse: 0.89336\tvalid_0's l2: 0.798092\n",
      "[1300]\tvalid_0's rmse: 0.893304\tvalid_0's l2: 0.797992\n",
      "[1400]\tvalid_0's rmse: 0.893222\tvalid_0's l2: 0.797846\n",
      "[1500]\tvalid_0's rmse: 0.893093\tvalid_0's l2: 0.797614\n",
      "[1600]\tvalid_0's rmse: 0.892937\tvalid_0's l2: 0.797337\n",
      "[1700]\tvalid_0's rmse: 0.892861\tvalid_0's l2: 0.797202\n",
      "[1800]\tvalid_0's rmse: 0.89285\tvalid_0's l2: 0.797182\n",
      "[1900]\tvalid_0's rmse: 0.892759\tvalid_0's l2: 0.797019\n"
     ]
    },
    {
     "name": "stderr",
     "output_type": "stream",
     "text": [
      " 40%|████      | 2/5 [04:16<06:26, 128.85s/it]"
     ]
    },
    {
     "name": "stdout",
     "output_type": "stream",
     "text": [
      "== fold 2 ==\n",
      "[100]\tvalid_0's rmse: 1.06773\tvalid_0's l2: 1.14006\n",
      "[200]\tvalid_0's rmse: 0.972068\tvalid_0's l2: 0.944916\n",
      "[300]\tvalid_0's rmse: 0.945133\tvalid_0's l2: 0.893277\n",
      "[400]\tvalid_0's rmse: 0.936924\tvalid_0's l2: 0.877827\n",
      "[500]\tvalid_0's rmse: 0.933911\tvalid_0's l2: 0.87219\n",
      "[600]\tvalid_0's rmse: 0.932656\tvalid_0's l2: 0.869848\n",
      "[700]\tvalid_0's rmse: 0.931712\tvalid_0's l2: 0.868087\n",
      "[800]\tvalid_0's rmse: 0.931188\tvalid_0's l2: 0.867112\n",
      "[900]\tvalid_0's rmse: 0.930854\tvalid_0's l2: 0.866489\n",
      "[1000]\tvalid_0's rmse: 0.930493\tvalid_0's l2: 0.865818\n",
      "[1100]\tvalid_0's rmse: 0.930307\tvalid_0's l2: 0.865471\n",
      "[1200]\tvalid_0's rmse: 0.929975\tvalid_0's l2: 0.864853\n",
      "[1300]\tvalid_0's rmse: 0.929932\tvalid_0's l2: 0.864774\n"
     ]
    },
    {
     "name": "stderr",
     "output_type": "stream",
     "text": [
      " 60%|██████    | 3/5 [05:59<03:54, 117.10s/it]"
     ]
    },
    {
     "name": "stdout",
     "output_type": "stream",
     "text": [
      "== fold 3 ==\n",
      "[100]\tvalid_0's rmse: 1.17999\tvalid_0's l2: 1.39239\n",
      "[200]\tvalid_0's rmse: 1.08947\tvalid_0's l2: 1.18694\n",
      "[300]\tvalid_0's rmse: 1.06939\tvalid_0's l2: 1.14359\n",
      "[400]\tvalid_0's rmse: 1.06436\tvalid_0's l2: 1.13286\n",
      "[500]\tvalid_0's rmse: 1.06232\tvalid_0's l2: 1.12853\n",
      "[600]\tvalid_0's rmse: 1.06181\tvalid_0's l2: 1.12745\n",
      "[700]\tvalid_0's rmse: 1.06149\tvalid_0's l2: 1.12675\n",
      "[800]\tvalid_0's rmse: 1.06128\tvalid_0's l2: 1.12632\n",
      "[900]\tvalid_0's rmse: 1.06128\tvalid_0's l2: 1.12631\n"
     ]
    },
    {
     "name": "stderr",
     "output_type": "stream",
     "text": [
      " 80%|████████  | 4/5 [07:25<01:44, 104.71s/it]"
     ]
    },
    {
     "name": "stdout",
     "output_type": "stream",
     "text": [
      "== fold 4 ==\n",
      "[100]\tvalid_0's rmse: 1.19772\tvalid_0's l2: 1.43453\n",
      "[200]\tvalid_0's rmse: 1.10443\tvalid_0's l2: 1.21976\n",
      "[300]\tvalid_0's rmse: 1.08109\tvalid_0's l2: 1.16875\n",
      "[400]\tvalid_0's rmse: 1.07428\tvalid_0's l2: 1.15407\n",
      "[500]\tvalid_0's rmse: 1.07132\tvalid_0's l2: 1.14772\n",
      "[600]\tvalid_0's rmse: 1.07026\tvalid_0's l2: 1.14545\n",
      "[700]\tvalid_0's rmse: 1.06943\tvalid_0's l2: 1.14367\n",
      "[800]\tvalid_0's rmse: 1.0687\tvalid_0's l2: 1.14211\n",
      "[900]\tvalid_0's rmse: 1.06818\tvalid_0's l2: 1.14101\n",
      "[1000]\tvalid_0's rmse: 1.06761\tvalid_0's l2: 1.13978\n",
      "[1100]\tvalid_0's rmse: 1.06727\tvalid_0's l2: 1.13907\n",
      "[1200]\tvalid_0's rmse: 1.06708\tvalid_0's l2: 1.13866\n",
      "[1300]\tvalid_0's rmse: 1.06675\tvalid_0's l2: 1.13796\n",
      "[1400]\tvalid_0's rmse: 1.06647\tvalid_0's l2: 1.13736\n",
      "[1500]\tvalid_0's rmse: 1.06619\tvalid_0's l2: 1.13675\n",
      "[1600]\tvalid_0's rmse: 1.06599\tvalid_0's l2: 1.13633\n",
      "[1700]\tvalid_0's rmse: 1.06578\tvalid_0's l2: 1.13588\n",
      "[1800]\tvalid_0's rmse: 1.06564\tvalid_0's l2: 1.13559\n",
      "[1900]\tvalid_0's rmse: 1.06529\tvalid_0's l2: 1.13484\n",
      "[2000]\tvalid_0's rmse: 1.0651\tvalid_0's l2: 1.13443\n",
      "[2100]\tvalid_0's rmse: 1.06495\tvalid_0's l2: 1.13411\n",
      "[2200]\tvalid_0's rmse: 1.06481\tvalid_0's l2: 1.13381\n",
      "[2300]\tvalid_0's rmse: 1.06465\tvalid_0's l2: 1.13348\n",
      "[2400]\tvalid_0's rmse: 1.06453\tvalid_0's l2: 1.13323\n",
      "[2500]\tvalid_0's rmse: 1.06441\tvalid_0's l2: 1.13298\n",
      "[2600]\tvalid_0's rmse: 1.06427\tvalid_0's l2: 1.13266\n",
      "[2700]\tvalid_0's rmse: 1.06405\tvalid_0's l2: 1.1322\n",
      "[2800]\tvalid_0's rmse: 1.06372\tvalid_0's l2: 1.1315\n",
      "[2900]\tvalid_0's rmse: 1.06359\tvalid_0's l2: 1.13123\n",
      "[3000]\tvalid_0's rmse: 1.06341\tvalid_0's l2: 1.13084\n",
      "[3100]\tvalid_0's rmse: 1.06331\tvalid_0's l2: 1.13063\n",
      "[3200]\tvalid_0's rmse: 1.06323\tvalid_0's l2: 1.13046\n"
     ]
    },
    {
     "name": "stderr",
     "output_type": "stream",
     "text": [
      "100%|██████████| 5/5 [10:22<00:00, 124.48s/it]\n"
     ]
    }
   ],
   "source": [
    "# 学習\n",
    "dfs = []\n",
    "for event in [\"wakeup\", \"onset\"]:\n",
    "    trn_oof, models = fit_lgb(\n",
    "        X=train, \n",
    "        y=train[f\"{event}_target\"], \n",
    "        folds=train[\"fold\"].astype(int), \n",
    "        features=features.all_features(),\n",
    "        params=CFG[MODEL_NAME][\"lightgbm\"], \n",
    "        es_rounds=100,\n",
    "    )\n",
    "    train[\"score\"] = trn_oof\n",
    "    train[\"event\"] = event\n",
    "    dfs.append(train[[\"series_id\", \"step\", \"score\", \"event\"]])\n",
    "\n",
    "    # 保存\n",
    "    for i, model in enumerate(models):\n",
    "        joblib.dump(model, os.path.join(CFG[\"output_dir\"], f'lgb_{event}_fold_{i}.pkl'))\n",
    "del train\n",
    "gc.collect()\n",
    "train = pd.concat(dfs, axis=0)\n",
    "train[\"step\"] = train[\"step\"].astype(int)\n",
    "train = train.sort_values([\"series_id\", \"step\"]).reset_index(drop=True)\n",
    "\n",
    "with open(os.path.join(CFG[\"output_dir\"], \"features.pkl\"), \"wb\") as f:\n",
    "    pickle.dump(features, f)\n",
    "train.to_csv(os.path.join(CFG[\"output_dir\"], \"oof.csv\"), index=False)"
   ]
  },
  {
   "cell_type": "markdown",
   "metadata": {},
   "source": [
    "## Dynamic-Range NMS"
   ]
  },
  {
   "cell_type": "code",
   "execution_count": 4,
   "metadata": {},
   "outputs": [
    {
     "data": {
      "text/plain": [
       "<AxesSubplot: >"
      ]
     },
     "execution_count": 4,
     "metadata": {},
     "output_type": "execute_result"
    },
    {
     "data": {
      "image/png": "[encoded data removed]",
      "text/plain": [
       "<Figure size 640x480 with 1 Axes>"
      ]
     },
     "metadata": {},
     "output_type": "display_data"
    }
   ],
   "source": [
    "train = train[train[\"score\"] > 0.005]\n",
    "train[\"score\"].hist()"
   ]
  },
  {
   "cell_type": "code",
   "execution_count": 5,
   "metadata": {},
   "outputs": [
    {
     "name": "stderr",
     "output_type": "stream",
     "text": [
      "100%|██████████| 277/277 [00:05<00:00, 53.05it/s]\n"
     ]
    }
   ],
   "source": [
    "from utils.postprocess import dynamic_range_nms\n",
    "from multiprocessing import Pool\n",
    "from tqdm import tqdm\n",
    "\n",
    "train[\"step\"] = train[\"step\"].astype(int)\n",
    "\n",
    "groups = [group for _, group in train.groupby(\"series_id\")]\n",
    "with Pool(30) as p:  \n",
    "    results = list(tqdm(p.imap(dynamic_range_nms, groups), total=len(groups)))\n",
    "sub = pd.concat(results)\n",
    "sub[\"score\"] = sub[\"reduced_score\"]"
   ]
  },
  {
   "cell_type": "code",
   "execution_count": 6,
   "metadata": {},
   "outputs": [
    {
     "name": "stdout",
     "output_type": "stream",
     "text": [
      "score: 0.7815\n"
     ]
    },
    {
     "data": {
      "text/plain": [
       "event   tolerance\n",
       "onset   12           0.252465\n",
       "        36           0.691401\n",
       "        60           0.786997\n",
       "        90           0.829135\n",
       "        120          0.846033\n",
       "        150          0.860220\n",
       "        180          0.868528\n",
       "        240          0.882359\n",
       "        300          0.888509\n",
       "        360          0.893883\n",
       "wakeup  12           0.208435\n",
       "        36           0.710890\n",
       "        60           0.794229\n",
       "        90           0.831542\n",
       "        120          0.849876\n",
       "        150          0.863791\n",
       "        180          0.873747\n",
       "        240          0.889119\n",
       "        300          0.899122\n",
       "        360          0.909438\n",
       "dtype: float64"
      ]
     },
     "metadata": {},
     "output_type": "display_data"
    }
   ],
   "source": [
    "# スコア計算\n",
    "labels = pd.read_csv(f\"{CFG['dataset']['competition_dir']}/train_events.csv\").dropna()\n",
    "score, ap_table = compute_comptetition_metric(labels, sub)\n",
    "\n",
    "print(f\"score: {score:.4f}\")\n",
    "display(ap_table)\n",
    "sub.to_csv(os.path.join(CFG[\"output_dir\"], \"submission_after_nms.csv\"), index=False)"
   ]
  },
  {
   "cell_type": "code",
   "execution_count": null,
   "metadata": {},
   "outputs": [],
   "source": []
  },
  {
   "cell_type": "code",
   "execution_count": null,
   "metadata": {},
   "outputs": [],
   "source": []
  }
 ],
 "metadata": {
  "kernelspec": {
   "display_name": "base",
   "language": "python",
   "name": "python3"
  },
  "language_info": {
   "codemirror_mode": {
    "name": "ipython",
    "version": 3
   },
   "file_extension": ".py",
   "mimetype": "text/x-python",
   "name": "python",
   "nbconvert_exporter": "python",
   "pygments_lexer": "ipython3",
   "version": "3.10.10"
  },
  "orig_nbformat": 4
 },
 "nbformat": 4,
 "nbformat_minor": 2
}
