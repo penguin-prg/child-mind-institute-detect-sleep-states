{
 "cells": [
  {
   "cell_type": "code",
   "execution_count": 1,
   "metadata": {},
   "outputs": [
    {
     "name": "stderr",
     "output_type": "stream",
     "text": [
      "2023-11-29 10:12:51.780768: I tensorflow/core/platform/cpu_feature_guard.cc:193] This TensorFlow binary is optimized with oneAPI Deep Neural Network Library (oneDNN) to use the following CPU instructions in performance-critical operations:  AVX2 AVX_VNNI FMA\n",
      "To enable them in other operations, rebuild TensorFlow with the appropriate compiler flags.\n",
      "2023-11-29 10:12:52.311857: I tensorflow/core/util/port.cc:104] oneDNN custom operations are on. You may see slightly different numerical results due to floating-point round-off errors from different computation orders. To turn them off, set the environment variable `TF_ENABLE_ONEDNN_OPTS=0`.\n",
      "2023-11-29 10:12:54.157498: W tensorflow/compiler/xla/stream_executor/platform/default/dso_loader.cc:64] Could not load dynamic library 'libnvinfer.so.7'; dlerror: libnvinfer.so.7: cannot open shared object file: No such file or directory; LD_LIBRARY_PATH: /usr/local/cuda/lib64:/usr/local/cuda/lib:/usr/local/lib/x86_64-linux-gnu:/usr/local/nvidia/lib:/usr/local/nvidia/lib64:/usr/local/nvidia/lib:/usr/local/nvidia/lib64:/opt/conda/lib\n",
      "2023-11-29 10:12:54.158598: W tensorflow/compiler/xla/stream_executor/platform/default/dso_loader.cc:64] Could not load dynamic library 'libnvinfer_plugin.so.7'; dlerror: libnvinfer_plugin.so.7: cannot open shared object file: No such file or directory; LD_LIBRARY_PATH: /usr/local/cuda/lib64:/usr/local/cuda/lib:/usr/local/lib/x86_64-linux-gnu:/usr/local/nvidia/lib:/usr/local/nvidia/lib64:/usr/local/nvidia/lib:/usr/local/nvidia/lib64:/opt/conda/lib\n",
      "2023-11-29 10:12:54.158605: W tensorflow/compiler/tf2tensorrt/utils/py_utils.cc:38] TF-TRT Warning: Cannot dlopen some TensorRT libraries. If you would like to use Nvidia GPU with TensorRT, please make sure the missing libraries mentioned above are installed properly.\n"
     ]
    },
    {
     "name": "stdout",
     "output_type": "stream",
     "text": [
      "exp_154\n",
      "rm: cannot remove '/kaggle/output/exp_154': No such file or directory\n"
     ]
    }
   ],
   "source": [
    "import pandas as pd\n",
    "import yaml\n",
    "import sys\n",
    "import os\n",
    "from glob import glob\n",
    "from pathlib import Path\n",
    "import gc\n",
    "import pickle\n",
    "import joblib\n",
    "\n",
    "import warnings\n",
    "warnings.filterwarnings('ignore')\n",
    "\n",
    "sys.path.append('/kaggle/src')\n",
    "from utils.lgb import fit_lgb\n",
    "from utils.metric import compute_comptetition_metric\n",
    "from utils.set_seed import seed_base\n",
    "from feature_engineering.fe_xgb import generate_features\n",
    "\n",
    "MODEL_NAME = \"lgb_model\"\n",
    "PACKAGE_DIR = Path(\"/kaggle/src\")\n",
    "CFG = yaml.safe_load(open(PACKAGE_DIR / \"config.yaml\", \"r\"))\n",
    "print(CFG[MODEL_NAME][\"execution\"][\"exp_id\"])\n",
    "\n",
    "CFG[\"output_dir\"] = f\"/kaggle/output/{CFG[MODEL_NAME]['execution']['exp_id']}\"\n",
    "!rm -r {CFG[\"output_dir\"]}\n",
    "os.makedirs(CFG[\"output_dir\"], exist_ok=True)\n",
    "\n",
    "seed_base(CFG[\"env\"][\"seed\"])"
   ]
  },
  {
   "cell_type": "code",
   "execution_count": 2,
   "metadata": {},
   "outputs": [
    {
     "name": "stderr",
     "output_type": "stream",
     "text": [
      "generate features: 100%|██████████| 277/277 [18:10<00:00,  3.94s/it] \n"
     ]
    },
    {
     "data": {
      "text/html": [
       "<div>\n",
       "<style scoped>\n",
       "    .dataframe tbody tr th:only-of-type {\n",
       "        vertical-align: middle;\n",
       "    }\n",
       "\n",
       "    .dataframe tbody tr th {\n",
       "        vertical-align: top;\n",
       "    }\n",
       "\n",
       "    .dataframe thead th {\n",
       "        text-align: right;\n",
       "    }\n",
       "</style>\n",
       "<table border=\"1\" class=\"dataframe\">\n",
       "  <thead>\n",
       "    <tr style=\"text-align: right;\">\n",
       "      <th></th>\n",
       "      <th>anglez</th>\n",
       "      <th>anglez_diff_abs</th>\n",
       "      <th>anglez_diff_abs_clip5</th>\n",
       "      <th>anglez_mean</th>\n",
       "      <th>enmo</th>\n",
       "      <th>enmo_diff_abs</th>\n",
       "      <th>enmo_mean</th>\n",
       "      <th>minutes</th>\n",
       "      <th>same_count</th>\n",
       "      <th>total_seconds</th>\n",
       "      <th>...</th>\n",
       "      <th>is_sleep_block_rolling_mean_5_shift_-2</th>\n",
       "      <th>is_sleep_block_rolling_mean_5_shift_-25</th>\n",
       "      <th>is_sleep_block_rolling_mean_5_shift_-5</th>\n",
       "      <th>is_sleep_block_rolling_mean_5_shift_-50</th>\n",
       "      <th>is_sleep_block_rolling_mean_5_shift_10</th>\n",
       "      <th>is_sleep_block_rolling_mean_5_shift_2</th>\n",
       "      <th>is_sleep_block_rolling_mean_5_shift_25</th>\n",
       "      <th>is_sleep_block_rolling_mean_5_shift_5</th>\n",
       "      <th>is_sleep_block_rolling_mean_5_shift_50</th>\n",
       "      <th>fold</th>\n",
       "    </tr>\n",
       "  </thead>\n",
       "  <tbody>\n",
       "    <tr>\n",
       "      <th>32</th>\n",
       "      <td>-83.1250</td>\n",
       "      <td>0.432373</td>\n",
       "      <td>0.432373</td>\n",
       "      <td>-6.062500</td>\n",
       "      <td>0.015564</td>\n",
       "      <td>0.001191</td>\n",
       "      <td>0.064697</td>\n",
       "      <td>147.5</td>\n",
       "      <td>0.0</td>\n",
       "      <td>57747.5</td>\n",
       "      <td>...</td>\n",
       "      <td>0.883301</td>\n",
       "      <td>0.0</td>\n",
       "      <td>1.0</td>\n",
       "      <td>0.0</td>\n",
       "      <td>0.399902</td>\n",
       "      <td>0.083313</td>\n",
       "      <td>1.0</td>\n",
       "      <td>0.000000</td>\n",
       "      <td>NaN</td>\n",
       "      <td>2</td>\n",
       "    </tr>\n",
       "    <tr>\n",
       "      <th>33</th>\n",
       "      <td>-83.5625</td>\n",
       "      <td>0.067688</td>\n",
       "      <td>0.067688</td>\n",
       "      <td>-7.804688</td>\n",
       "      <td>0.014847</td>\n",
       "      <td>0.000298</td>\n",
       "      <td>0.051178</td>\n",
       "      <td>207.5</td>\n",
       "      <td>0.0</td>\n",
       "      <td>57807.5</td>\n",
       "      <td>...</td>\n",
       "      <td>1.000000</td>\n",
       "      <td>0.0</td>\n",
       "      <td>1.0</td>\n",
       "      <td>0.0</td>\n",
       "      <td>0.199951</td>\n",
       "      <td>0.283447</td>\n",
       "      <td>1.0</td>\n",
       "      <td>0.000000</td>\n",
       "      <td>NaN</td>\n",
       "      <td>2</td>\n",
       "    </tr>\n",
       "    <tr>\n",
       "      <th>34</th>\n",
       "      <td>-83.6250</td>\n",
       "      <td>0.067688</td>\n",
       "      <td>0.067688</td>\n",
       "      <td>-5.238281</td>\n",
       "      <td>0.015167</td>\n",
       "      <td>0.000435</td>\n",
       "      <td>0.078796</td>\n",
       "      <td>267.5</td>\n",
       "      <td>0.0</td>\n",
       "      <td>57867.5</td>\n",
       "      <td>...</td>\n",
       "      <td>1.000000</td>\n",
       "      <td>0.0</td>\n",
       "      <td>1.0</td>\n",
       "      <td>0.0</td>\n",
       "      <td>0.000000</td>\n",
       "      <td>0.483398</td>\n",
       "      <td>1.0</td>\n",
       "      <td>0.000000</td>\n",
       "      <td>NaN</td>\n",
       "      <td>2</td>\n",
       "    </tr>\n",
       "    <tr>\n",
       "      <th>35</th>\n",
       "      <td>-83.5000</td>\n",
       "      <td>0.114563</td>\n",
       "      <td>0.114563</td>\n",
       "      <td>-9.828125</td>\n",
       "      <td>0.014633</td>\n",
       "      <td>0.000310</td>\n",
       "      <td>0.057922</td>\n",
       "      <td>327.5</td>\n",
       "      <td>0.0</td>\n",
       "      <td>57927.5</td>\n",
       "      <td>...</td>\n",
       "      <td>1.000000</td>\n",
       "      <td>0.0</td>\n",
       "      <td>1.0</td>\n",
       "      <td>0.0</td>\n",
       "      <td>0.000000</td>\n",
       "      <td>0.683105</td>\n",
       "      <td>1.0</td>\n",
       "      <td>0.083313</td>\n",
       "      <td>NaN</td>\n",
       "      <td>2</td>\n",
       "    </tr>\n",
       "    <tr>\n",
       "      <th>36</th>\n",
       "      <td>-83.0625</td>\n",
       "      <td>0.072937</td>\n",
       "      <td>0.072937</td>\n",
       "      <td>-13.796875</td>\n",
       "      <td>0.017395</td>\n",
       "      <td>0.007259</td>\n",
       "      <td>0.055939</td>\n",
       "      <td>387.5</td>\n",
       "      <td>0.0</td>\n",
       "      <td>57987.5</td>\n",
       "      <td>...</td>\n",
       "      <td>1.000000</td>\n",
       "      <td>0.0</td>\n",
       "      <td>1.0</td>\n",
       "      <td>0.0</td>\n",
       "      <td>0.000000</td>\n",
       "      <td>0.883301</td>\n",
       "      <td>1.0</td>\n",
       "      <td>0.283447</td>\n",
       "      <td>NaN</td>\n",
       "      <td>2</td>\n",
       "    </tr>\n",
       "  </tbody>\n",
       "</table>\n",
       "<p>5 rows × 1735 columns</p>\n",
       "</div>"
      ],
      "text/plain": [
       "     anglez  anglez_diff_abs  anglez_diff_abs_clip5  anglez_mean      enmo  \\\n",
       "32 -83.1250         0.432373               0.432373    -6.062500  0.015564   \n",
       "33 -83.5625         0.067688               0.067688    -7.804688  0.014847   \n",
       "34 -83.6250         0.067688               0.067688    -5.238281  0.015167   \n",
       "35 -83.5000         0.114563               0.114563    -9.828125  0.014633   \n",
       "36 -83.0625         0.072937               0.072937   -13.796875  0.017395   \n",
       "\n",
       "    enmo_diff_abs  enmo_mean  minutes  same_count  total_seconds  ...  \\\n",
       "32       0.001191   0.064697    147.5         0.0        57747.5  ...   \n",
       "33       0.000298   0.051178    207.5         0.0        57807.5  ...   \n",
       "34       0.000435   0.078796    267.5         0.0        57867.5  ...   \n",
       "35       0.000310   0.057922    327.5         0.0        57927.5  ...   \n",
       "36       0.007259   0.055939    387.5         0.0        57987.5  ...   \n",
       "\n",
       "    is_sleep_block_rolling_mean_5_shift_-2  \\\n",
       "32                                0.883301   \n",
       "33                                1.000000   \n",
       "34                                1.000000   \n",
       "35                                1.000000   \n",
       "36                                1.000000   \n",
       "\n",
       "    is_sleep_block_rolling_mean_5_shift_-25  \\\n",
       "32                                      0.0   \n",
       "33                                      0.0   \n",
       "34                                      0.0   \n",
       "35                                      0.0   \n",
       "36                                      0.0   \n",
       "\n",
       "    is_sleep_block_rolling_mean_5_shift_-5  \\\n",
       "32                                     1.0   \n",
       "33                                     1.0   \n",
       "34                                     1.0   \n",
       "35                                     1.0   \n",
       "36                                     1.0   \n",
       "\n",
       "    is_sleep_block_rolling_mean_5_shift_-50  \\\n",
       "32                                      0.0   \n",
       "33                                      0.0   \n",
       "34                                      0.0   \n",
       "35                                      0.0   \n",
       "36                                      0.0   \n",
       "\n",
       "    is_sleep_block_rolling_mean_5_shift_10  \\\n",
       "32                                0.399902   \n",
       "33                                0.199951   \n",
       "34                                0.000000   \n",
       "35                                0.000000   \n",
       "36                                0.000000   \n",
       "\n",
       "    is_sleep_block_rolling_mean_5_shift_2  \\\n",
       "32                               0.083313   \n",
       "33                               0.283447   \n",
       "34                               0.483398   \n",
       "35                               0.683105   \n",
       "36                               0.883301   \n",
       "\n",
       "    is_sleep_block_rolling_mean_5_shift_25  \\\n",
       "32                                     1.0   \n",
       "33                                     1.0   \n",
       "34                                     1.0   \n",
       "35                                     1.0   \n",
       "36                                     1.0   \n",
       "\n",
       "    is_sleep_block_rolling_mean_5_shift_5  \\\n",
       "32                               0.000000   \n",
       "33                               0.000000   \n",
       "34                               0.000000   \n",
       "35                               0.083313   \n",
       "36                               0.283447   \n",
       "\n",
       "    is_sleep_block_rolling_mean_5_shift_50  fold  \n",
       "32                                     NaN     2  \n",
       "33                                     NaN     2  \n",
       "34                                     NaN     2  \n",
       "35                                     NaN     2  \n",
       "36                                     NaN     2  \n",
       "\n",
       "[5 rows x 1735 columns]"
      ]
     },
     "metadata": {},
     "output_type": "display_data"
    },
    {
     "data": {
      "text/plain": [
       "(993599, 1735)"
      ]
     },
     "execution_count": 2,
     "metadata": {},
     "output_type": "execute_result"
    }
   ],
   "source": [
    "# 特徴生成\n",
    "files = sorted(list(glob(f\"{CFG['dataset']['step_csv_dir']}/*.parquet\")))\n",
    "f_files = sorted(list(glob(\"/kaggle/input/heauristic_features/heauristic_features/*.parquet\")))\n",
    "files = [(f, ff) for f, ff in zip(files, f_files)]\n",
    "train, features = generate_features(files)\n",
    "\n",
    "# cv splitとマージ\n",
    "cv_split = pd.read_csv(CFG['dataset']['cv_split_path'])\n",
    "train[\"fold\"] = train[\"series_id\"].map(cv_split.set_index(\"series_id\")[\"fold\"])\n",
    "display(train.head(5))\n",
    "train.shape"
   ]
  },
  {
   "cell_type": "code",
   "execution_count": 3,
   "metadata": {},
   "outputs": [
    {
     "name": "stderr",
     "output_type": "stream",
     "text": [
      "  0%|          | 0/5 [00:00<?, ?it/s]"
     ]
    },
    {
     "name": "stdout",
     "output_type": "stream",
     "text": [
      "== fold 0 ==\n",
      "[100]\tvalid_0's rmse: 1.03017\tvalid_0's l2: 1.06124\n",
      "[200]\tvalid_0's rmse: 0.924858\tvalid_0's l2: 0.855363\n",
      "[300]\tvalid_0's rmse: 0.8987\tvalid_0's l2: 0.807661\n",
      "[400]\tvalid_0's rmse: 0.891062\tvalid_0's l2: 0.793991\n",
      "[500]\tvalid_0's rmse: 0.888703\tvalid_0's l2: 0.789794\n",
      "[600]\tvalid_0's rmse: 0.887616\tvalid_0's l2: 0.787863\n",
      "[700]\tvalid_0's rmse: 0.887306\tvalid_0's l2: 0.787312\n",
      "[800]\tvalid_0's rmse: 0.886856\tvalid_0's l2: 0.786513\n",
      "[900]\tvalid_0's rmse: 0.886452\tvalid_0's l2: 0.785797\n",
      "[1000]\tvalid_0's rmse: 0.886067\tvalid_0's l2: 0.785114\n",
      "[1100]\tvalid_0's rmse: 0.885757\tvalid_0's l2: 0.784565\n",
      "[1200]\tvalid_0's rmse: 0.88553\tvalid_0's l2: 0.784163\n",
      "[1300]\tvalid_0's rmse: 0.885299\tvalid_0's l2: 0.783753\n",
      "[1400]\tvalid_0's rmse: 0.885064\tvalid_0's l2: 0.783339\n",
      "[1500]\tvalid_0's rmse: 0.884974\tvalid_0's l2: 0.783179\n",
      "[1600]\tvalid_0's rmse: 0.884839\tvalid_0's l2: 0.782941\n",
      "[1700]\tvalid_0's rmse: 0.884697\tvalid_0's l2: 0.782689\n",
      "[1800]\tvalid_0's rmse: 0.884533\tvalid_0's l2: 0.782398\n",
      "[1900]\tvalid_0's rmse: 0.884605\tvalid_0's l2: 0.782526\n"
     ]
    },
    {
     "name": "stderr",
     "output_type": "stream",
     "text": [
      " 20%|██        | 1/5 [04:32<18:09, 272.37s/it]"
     ]
    },
    {
     "name": "stdout",
     "output_type": "stream",
     "text": [
      "== fold 1 ==\n",
      "[100]\tvalid_0's rmse: 1.07627\tvalid_0's l2: 1.15837\n",
      "[200]\tvalid_0's rmse: 0.978551\tvalid_0's l2: 0.957563\n",
      "[300]\tvalid_0's rmse: 0.952309\tvalid_0's l2: 0.906892\n",
      "[400]\tvalid_0's rmse: 0.944906\tvalid_0's l2: 0.892847\n",
      "[500]\tvalid_0's rmse: 0.941807\tvalid_0's l2: 0.887001\n",
      "[600]\tvalid_0's rmse: 0.940426\tvalid_0's l2: 0.884401\n",
      "[700]\tvalid_0's rmse: 0.939733\tvalid_0's l2: 0.883099\n",
      "[800]\tvalid_0's rmse: 0.938986\tvalid_0's l2: 0.881695\n",
      "[900]\tvalid_0's rmse: 0.938373\tvalid_0's l2: 0.880543\n",
      "[1000]\tvalid_0's rmse: 0.93797\tvalid_0's l2: 0.879788\n",
      "[1100]\tvalid_0's rmse: 0.937529\tvalid_0's l2: 0.87896\n",
      "[1200]\tvalid_0's rmse: 0.937291\tvalid_0's l2: 0.878515\n",
      "[1300]\tvalid_0's rmse: 0.936977\tvalid_0's l2: 0.877925\n",
      "[1400]\tvalid_0's rmse: 0.936788\tvalid_0's l2: 0.877572\n",
      "[1500]\tvalid_0's rmse: 0.936575\tvalid_0's l2: 0.877173\n",
      "[1600]\tvalid_0's rmse: 0.936349\tvalid_0's l2: 0.87675\n",
      "[1700]\tvalid_0's rmse: 0.936104\tvalid_0's l2: 0.876291\n",
      "[1800]\tvalid_0's rmse: 0.93588\tvalid_0's l2: 0.875871\n",
      "[1900]\tvalid_0's rmse: 0.935689\tvalid_0's l2: 0.875513\n",
      "[2000]\tvalid_0's rmse: 0.935328\tvalid_0's l2: 0.874839\n",
      "[2100]\tvalid_0's rmse: 0.935113\tvalid_0's l2: 0.874436\n",
      "[2200]\tvalid_0's rmse: 0.935086\tvalid_0's l2: 0.874385\n",
      "[2300]\tvalid_0's rmse: 0.934952\tvalid_0's l2: 0.874136\n",
      "[2400]\tvalid_0's rmse: 0.93475\tvalid_0's l2: 0.873758\n",
      "[2500]\tvalid_0's rmse: 0.934581\tvalid_0's l2: 0.873441\n",
      "[2600]\tvalid_0's rmse: 0.93451\tvalid_0's l2: 0.873308\n",
      "[2700]\tvalid_0's rmse: 0.934461\tvalid_0's l2: 0.873218\n",
      "[2800]\tvalid_0's rmse: 0.93434\tvalid_0's l2: 0.872992\n"
     ]
    },
    {
     "name": "stderr",
     "output_type": "stream",
     "text": [
      " 40%|████      | 2/5 [10:39<16:24, 328.01s/it]"
     ]
    },
    {
     "name": "stdout",
     "output_type": "stream",
     "text": [
      "== fold 2 ==\n",
      "[100]\tvalid_0's rmse: 1.17946\tvalid_0's l2: 1.39113\n",
      "[200]\tvalid_0's rmse: 1.07718\tvalid_0's l2: 1.16031\n",
      "[300]\tvalid_0's rmse: 1.0486\tvalid_0's l2: 1.09957\n",
      "[400]\tvalid_0's rmse: 1.04042\tvalid_0's l2: 1.08248\n",
      "[500]\tvalid_0's rmse: 1.03771\tvalid_0's l2: 1.07685\n",
      "[600]\tvalid_0's rmse: 1.03656\tvalid_0's l2: 1.07445\n",
      "[700]\tvalid_0's rmse: 1.03565\tvalid_0's l2: 1.07258\n",
      "[800]\tvalid_0's rmse: 1.03491\tvalid_0's l2: 1.07104\n",
      "[900]\tvalid_0's rmse: 1.03443\tvalid_0's l2: 1.07005\n",
      "[1000]\tvalid_0's rmse: 1.03411\tvalid_0's l2: 1.06938\n",
      "[1100]\tvalid_0's rmse: 1.03368\tvalid_0's l2: 1.0685\n",
      "[1200]\tvalid_0's rmse: 1.03352\tvalid_0's l2: 1.06816\n",
      "[1300]\tvalid_0's rmse: 1.03335\tvalid_0's l2: 1.06782\n",
      "[1400]\tvalid_0's rmse: 1.03312\tvalid_0's l2: 1.06734\n",
      "[1500]\tvalid_0's rmse: 1.03301\tvalid_0's l2: 1.06711\n",
      "[1600]\tvalid_0's rmse: 1.03283\tvalid_0's l2: 1.06674\n",
      "[1700]\tvalid_0's rmse: 1.03275\tvalid_0's l2: 1.06658\n",
      "[1800]\tvalid_0's rmse: 1.03266\tvalid_0's l2: 1.06638\n",
      "[1900]\tvalid_0's rmse: 1.03259\tvalid_0's l2: 1.06624\n",
      "[2000]\tvalid_0's rmse: 1.03249\tvalid_0's l2: 1.06604\n",
      "[2100]\tvalid_0's rmse: 1.03253\tvalid_0's l2: 1.06611\n"
     ]
    },
    {
     "name": "stderr",
     "output_type": "stream",
     "text": [
      " 60%|██████    | 3/5 [15:42<10:33, 316.76s/it]"
     ]
    },
    {
     "name": "stdout",
     "output_type": "stream",
     "text": [
      "== fold 3 ==\n",
      "[100]\tvalid_0's rmse: 1.22282\tvalid_0's l2: 1.4953\n",
      "[200]\tvalid_0's rmse: 1.10657\tvalid_0's l2: 1.2245\n",
      "[300]\tvalid_0's rmse: 1.07789\tvalid_0's l2: 1.16184\n",
      "[400]\tvalid_0's rmse: 1.06958\tvalid_0's l2: 1.14401\n",
      "[500]\tvalid_0's rmse: 1.06665\tvalid_0's l2: 1.13775\n",
      "[600]\tvalid_0's rmse: 1.06525\tvalid_0's l2: 1.13476\n",
      "[700]\tvalid_0's rmse: 1.06455\tvalid_0's l2: 1.13326\n",
      "[800]\tvalid_0's rmse: 1.06374\tvalid_0's l2: 1.13155\n",
      "[900]\tvalid_0's rmse: 1.06282\tvalid_0's l2: 1.12959\n",
      "[1000]\tvalid_0's rmse: 1.06238\tvalid_0's l2: 1.12865\n",
      "[1100]\tvalid_0's rmse: 1.06204\tvalid_0's l2: 1.12794\n",
      "[1200]\tvalid_0's rmse: 1.06157\tvalid_0's l2: 1.12692\n",
      "[1300]\tvalid_0's rmse: 1.06124\tvalid_0's l2: 1.12624\n",
      "[1400]\tvalid_0's rmse: 1.06104\tvalid_0's l2: 1.12581\n",
      "[1500]\tvalid_0's rmse: 1.06074\tvalid_0's l2: 1.12518\n",
      "[1600]\tvalid_0's rmse: 1.06067\tvalid_0's l2: 1.12502\n",
      "[1700]\tvalid_0's rmse: 1.06043\tvalid_0's l2: 1.12451\n",
      "[1800]\tvalid_0's rmse: 1.06033\tvalid_0's l2: 1.12429\n",
      "[1900]\tvalid_0's rmse: 1.06024\tvalid_0's l2: 1.1241\n",
      "[2000]\tvalid_0's rmse: 1.06006\tvalid_0's l2: 1.12372\n",
      "[2100]\tvalid_0's rmse: 1.06\tvalid_0's l2: 1.1236\n",
      "[2200]\tvalid_0's rmse: 1.05994\tvalid_0's l2: 1.12348\n",
      "[2300]\tvalid_0's rmse: 1.06005\tvalid_0's l2: 1.12371\n"
     ]
    },
    {
     "name": "stderr",
     "output_type": "stream",
     "text": [
      " 80%|████████  | 4/5 [20:54<05:14, 314.70s/it]"
     ]
    },
    {
     "name": "stdout",
     "output_type": "stream",
     "text": [
      "== fold 4 ==\n",
      "[100]\tvalid_0's rmse: 1.13805\tvalid_0's l2: 1.29517\n",
      "[200]\tvalid_0's rmse: 1.03567\tvalid_0's l2: 1.0726\n",
      "[300]\tvalid_0's rmse: 1.0107\tvalid_0's l2: 1.02152\n",
      "[400]\tvalid_0's rmse: 1.00453\tvalid_0's l2: 1.00908\n",
      "[500]\tvalid_0's rmse: 1.00218\tvalid_0's l2: 1.00437\n",
      "[600]\tvalid_0's rmse: 1.00148\tvalid_0's l2: 1.00296\n",
      "[700]\tvalid_0's rmse: 1.00111\tvalid_0's l2: 1.00223\n",
      "[800]\tvalid_0's rmse: 1.00056\tvalid_0's l2: 1.00112\n",
      "[900]\tvalid_0's rmse: 1.00022\tvalid_0's l2: 1.00043\n",
      "[1000]\tvalid_0's rmse: 0.999993\tvalid_0's l2: 0.999986\n",
      "[1100]\tvalid_0's rmse: 0.999816\tvalid_0's l2: 0.999633\n",
      "[1200]\tvalid_0's rmse: 0.999606\tvalid_0's l2: 0.999212\n",
      "[1300]\tvalid_0's rmse: 0.999409\tvalid_0's l2: 0.998819\n",
      "[1400]\tvalid_0's rmse: 0.999262\tvalid_0's l2: 0.998524\n",
      "[1500]\tvalid_0's rmse: 0.999111\tvalid_0's l2: 0.998224\n",
      "[1600]\tvalid_0's rmse: 0.998861\tvalid_0's l2: 0.997724\n",
      "[1700]\tvalid_0's rmse: 0.998854\tvalid_0's l2: 0.997708\n",
      "[1800]\tvalid_0's rmse: 0.998914\tvalid_0's l2: 0.99783\n"
     ]
    },
    {
     "name": "stderr",
     "output_type": "stream",
     "text": [
      "100%|██████████| 5/5 [25:07<00:00, 301.42s/it]\n",
      "  0%|          | 0/5 [00:00<?, ?it/s]"
     ]
    },
    {
     "name": "stdout",
     "output_type": "stream",
     "text": [
      "== fold 0 ==\n",
      "[100]\tvalid_0's rmse: 1.02796\tvalid_0's l2: 1.05671\n",
      "[200]\tvalid_0's rmse: 0.920446\tvalid_0's l2: 0.847221\n",
      "[300]\tvalid_0's rmse: 0.894357\tvalid_0's l2: 0.799874\n",
      "[400]\tvalid_0's rmse: 0.887091\tvalid_0's l2: 0.78693\n",
      "[500]\tvalid_0's rmse: 0.885189\tvalid_0's l2: 0.78356\n",
      "[600]\tvalid_0's rmse: 0.884687\tvalid_0's l2: 0.782672\n",
      "[700]\tvalid_0's rmse: 0.884143\tvalid_0's l2: 0.781708\n",
      "[800]\tvalid_0's rmse: 0.883787\tvalid_0's l2: 0.78108\n",
      "[900]\tvalid_0's rmse: 0.883576\tvalid_0's l2: 0.780706\n",
      "[1000]\tvalid_0's rmse: 0.883197\tvalid_0's l2: 0.780037\n",
      "[1100]\tvalid_0's rmse: 0.883089\tvalid_0's l2: 0.779846\n",
      "[1200]\tvalid_0's rmse: 0.882876\tvalid_0's l2: 0.779469\n",
      "[1300]\tvalid_0's rmse: 0.882819\tvalid_0's l2: 0.77937\n",
      "[1400]\tvalid_0's rmse: 0.882656\tvalid_0's l2: 0.779081\n",
      "[1500]\tvalid_0's rmse: 0.882581\tvalid_0's l2: 0.77895\n",
      "[1600]\tvalid_0's rmse: 0.882399\tvalid_0's l2: 0.778628\n",
      "[1700]\tvalid_0's rmse: 0.88229\tvalid_0's l2: 0.778436\n",
      "[1800]\tvalid_0's rmse: 0.882292\tvalid_0's l2: 0.778439\n",
      "[1900]\tvalid_0's rmse: 0.88227\tvalid_0's l2: 0.7784\n"
     ]
    },
    {
     "name": "stderr",
     "output_type": "stream",
     "text": [
      " 20%|██        | 1/5 [04:04<16:18, 244.60s/it]"
     ]
    },
    {
     "name": "stdout",
     "output_type": "stream",
     "text": [
      "== fold 1 ==\n",
      "[100]\tvalid_0's rmse: 1.04374\tvalid_0's l2: 1.08938\n",
      "[200]\tvalid_0's rmse: 0.93222\tvalid_0's l2: 0.869034\n",
      "[300]\tvalid_0's rmse: 0.902393\tvalid_0's l2: 0.814313\n",
      "[400]\tvalid_0's rmse: 0.89174\tvalid_0's l2: 0.7952\n",
      "[500]\tvalid_0's rmse: 0.88799\tvalid_0's l2: 0.788526\n",
      "[600]\tvalid_0's rmse: 0.886367\tvalid_0's l2: 0.785646\n",
      "[700]\tvalid_0's rmse: 0.885459\tvalid_0's l2: 0.784037\n",
      "[800]\tvalid_0's rmse: 0.884839\tvalid_0's l2: 0.782941\n",
      "[900]\tvalid_0's rmse: 0.884259\tvalid_0's l2: 0.781915\n",
      "[1000]\tvalid_0's rmse: 0.883895\tvalid_0's l2: 0.78127\n",
      "[1100]\tvalid_0's rmse: 0.883556\tvalid_0's l2: 0.780671\n",
      "[1200]\tvalid_0's rmse: 0.883129\tvalid_0's l2: 0.779917\n",
      "[1300]\tvalid_0's rmse: 0.88285\tvalid_0's l2: 0.779425\n",
      "[1400]\tvalid_0's rmse: 0.882638\tvalid_0's l2: 0.77905\n",
      "[1500]\tvalid_0's rmse: 0.882425\tvalid_0's l2: 0.778674\n",
      "[1600]\tvalid_0's rmse: 0.882296\tvalid_0's l2: 0.778447\n",
      "[1700]\tvalid_0's rmse: 0.88219\tvalid_0's l2: 0.778259\n",
      "[1800]\tvalid_0's rmse: 0.88217\tvalid_0's l2: 0.778224\n"
     ]
    },
    {
     "name": "stderr",
     "output_type": "stream",
     "text": [
      " 40%|████      | 2/5 [07:58<11:54, 238.21s/it]"
     ]
    },
    {
     "name": "stdout",
     "output_type": "stream",
     "text": [
      "== fold 2 ==\n",
      "[100]\tvalid_0's rmse: 1.16553\tvalid_0's l2: 1.35846\n",
      "[200]\tvalid_0's rmse: 1.06158\tvalid_0's l2: 1.12695\n",
      "[300]\tvalid_0's rmse: 1.03462\tvalid_0's l2: 1.07044\n",
      "[400]\tvalid_0's rmse: 1.02639\tvalid_0's l2: 1.05348\n",
      "[500]\tvalid_0's rmse: 1.02354\tvalid_0's l2: 1.04764\n",
      "[600]\tvalid_0's rmse: 1.02258\tvalid_0's l2: 1.04566\n",
      "[700]\tvalid_0's rmse: 1.02167\tvalid_0's l2: 1.04381\n",
      "[800]\tvalid_0's rmse: 1.02123\tvalid_0's l2: 1.04291\n",
      "[900]\tvalid_0's rmse: 1.02064\tvalid_0's l2: 1.04171\n",
      "[1000]\tvalid_0's rmse: 1.02027\tvalid_0's l2: 1.04096\n",
      "[1100]\tvalid_0's rmse: 1.02004\tvalid_0's l2: 1.04048\n",
      "[1200]\tvalid_0's rmse: 1.01968\tvalid_0's l2: 1.03975\n",
      "[1300]\tvalid_0's rmse: 1.01949\tvalid_0's l2: 1.03935\n",
      "[1400]\tvalid_0's rmse: 1.01927\tvalid_0's l2: 1.03892\n",
      "[1500]\tvalid_0's rmse: 1.01904\tvalid_0's l2: 1.03845\n",
      "[1600]\tvalid_0's rmse: 1.01899\tvalid_0's l2: 1.03834\n",
      "[1700]\tvalid_0's rmse: 1.01886\tvalid_0's l2: 1.03808\n",
      "[1800]\tvalid_0's rmse: 1.01881\tvalid_0's l2: 1.03798\n",
      "[1900]\tvalid_0's rmse: 1.01867\tvalid_0's l2: 1.03769\n",
      "[2000]\tvalid_0's rmse: 1.01853\tvalid_0's l2: 1.0374\n",
      "[2100]\tvalid_0's rmse: 1.01829\tvalid_0's l2: 1.03692\n",
      "[2200]\tvalid_0's rmse: 1.01824\tvalid_0's l2: 1.03681\n",
      "[2300]\tvalid_0's rmse: 1.01815\tvalid_0's l2: 1.03663\n",
      "[2400]\tvalid_0's rmse: 1.0181\tvalid_0's l2: 1.03652\n",
      "[2500]\tvalid_0's rmse: 1.018\tvalid_0's l2: 1.03632\n",
      "[2600]\tvalid_0's rmse: 1.01789\tvalid_0's l2: 1.0361\n",
      "[2700]\tvalid_0's rmse: 1.01782\tvalid_0's l2: 1.03596\n",
      "[2800]\tvalid_0's rmse: 1.01768\tvalid_0's l2: 1.03566\n",
      "[2900]\tvalid_0's rmse: 1.01754\tvalid_0's l2: 1.03538\n",
      "[3000]\tvalid_0's rmse: 1.01755\tvalid_0's l2: 1.03541\n"
     ]
    },
    {
     "name": "stderr",
     "output_type": "stream",
     "text": [
      " 60%|██████    | 3/5 [13:36<09:27, 283.94s/it]"
     ]
    },
    {
     "name": "stdout",
     "output_type": "stream",
     "text": [
      "== fold 3 ==\n",
      "[100]\tvalid_0's rmse: 1.23439\tvalid_0's l2: 1.52371\n",
      "[200]\tvalid_0's rmse: 1.13114\tvalid_0's l2: 1.27947\n",
      "[300]\tvalid_0's rmse: 1.11137\tvalid_0's l2: 1.23513\n",
      "[400]\tvalid_0's rmse: 1.10607\tvalid_0's l2: 1.22339\n",
      "[500]\tvalid_0's rmse: 1.1044\tvalid_0's l2: 1.2197\n",
      "[600]\tvalid_0's rmse: 1.10346\tvalid_0's l2: 1.21762\n",
      "[700]\tvalid_0's rmse: 1.10312\tvalid_0's l2: 1.21687\n",
      "[800]\tvalid_0's rmse: 1.10289\tvalid_0's l2: 1.21636\n",
      "[900]\tvalid_0's rmse: 1.10294\tvalid_0's l2: 1.21647\n"
     ]
    },
    {
     "name": "stderr",
     "output_type": "stream",
     "text": [
      " 80%|████████  | 4/5 [16:35<04:02, 242.37s/it]"
     ]
    },
    {
     "name": "stdout",
     "output_type": "stream",
     "text": [
      "== fold 4 ==\n",
      "[100]\tvalid_0's rmse: 1.14743\tvalid_0's l2: 1.3166\n",
      "[200]\tvalid_0's rmse: 1.05201\tvalid_0's l2: 1.10672\n",
      "[300]\tvalid_0's rmse: 1.03026\tvalid_0's l2: 1.06143\n",
      "[400]\tvalid_0's rmse: 1.02391\tvalid_0's l2: 1.04839\n",
      "[500]\tvalid_0's rmse: 1.02141\tvalid_0's l2: 1.04328\n",
      "[600]\tvalid_0's rmse: 1.02064\tvalid_0's l2: 1.0417\n",
      "[700]\tvalid_0's rmse: 1.02018\tvalid_0's l2: 1.04078\n",
      "[800]\tvalid_0's rmse: 1.01994\tvalid_0's l2: 1.04028\n",
      "[900]\tvalid_0's rmse: 1.01982\tvalid_0's l2: 1.04002\n",
      "[1000]\tvalid_0's rmse: 1.01937\tvalid_0's l2: 1.03912\n",
      "[1100]\tvalid_0's rmse: 1.01915\tvalid_0's l2: 1.03867\n",
      "[1200]\tvalid_0's rmse: 1.01898\tvalid_0's l2: 1.03832\n",
      "[1300]\tvalid_0's rmse: 1.01876\tvalid_0's l2: 1.03788\n",
      "[1400]\tvalid_0's rmse: 1.0184\tvalid_0's l2: 1.03714\n",
      "[1500]\tvalid_0's rmse: 1.01813\tvalid_0's l2: 1.03659\n",
      "[1600]\tvalid_0's rmse: 1.01812\tvalid_0's l2: 1.03657\n",
      "[1700]\tvalid_0's rmse: 1.01806\tvalid_0's l2: 1.03645\n",
      "[1800]\tvalid_0's rmse: 1.01793\tvalid_0's l2: 1.03618\n",
      "[1900]\tvalid_0's rmse: 1.0179\tvalid_0's l2: 1.03612\n",
      "[2000]\tvalid_0's rmse: 1.01784\tvalid_0's l2: 1.036\n",
      "[2100]\tvalid_0's rmse: 1.01775\tvalid_0's l2: 1.03582\n"
     ]
    },
    {
     "name": "stderr",
     "output_type": "stream",
     "text": [
      "100%|██████████| 5/5 [21:12<00:00, 254.56s/it]\n"
     ]
    }
   ],
   "source": [
    "# 学習\n",
    "dfs = []\n",
    "for event in [\"wakeup\", \"onset\"]:\n",
    "    trn_oof, models = fit_lgb(\n",
    "        X=train, \n",
    "        y=train[f\"{event}_target\"], \n",
    "        folds=train[\"fold\"].astype(int), \n",
    "        features=features.all_features(),\n",
    "        params=CFG[MODEL_NAME][\"lightgbm\"], \n",
    "        es_rounds=100,\n",
    "    )\n",
    "    train[\"score\"] = trn_oof\n",
    "    train[\"event\"] = event\n",
    "    dfs.append(train[[\"series_id\", \"step\", \"score\", \"event\"]])\n",
    "\n",
    "    # 保存\n",
    "    for i, model in enumerate(models):\n",
    "        joblib.dump(model, os.path.join(CFG[\"output_dir\"], f'lgb_{event}_fold_{i}.pkl'))\n",
    "del train\n",
    "gc.collect()\n",
    "train = pd.concat(dfs, axis=0)\n",
    "train[\"step\"] = train[\"step\"].astype(int)\n",
    "train = train.sort_values([\"series_id\", \"step\"]).reset_index(drop=True)\n",
    "\n",
    "with open(os.path.join(CFG[\"output_dir\"], \"features.pkl\"), \"wb\") as f:\n",
    "    pickle.dump(features, f)\n",
    "train.to_csv(os.path.join(CFG[\"output_dir\"], \"oof.csv\"), index=False)"
   ]
  },
  {
   "cell_type": "markdown",
   "metadata": {},
   "source": [
    "## Dynamic-Range NMS"
   ]
  },
  {
   "cell_type": "code",
   "execution_count": 4,
   "metadata": {},
   "outputs": [
    {
     "data": {
      "text/plain": [
       "<AxesSubplot: >"
      ]
     },
     "execution_count": 4,
     "metadata": {},
     "output_type": "execute_result"
    },
    {
     "data": {
      "image/png": "[encoded data removed]",
      "text/plain": [
       "<Figure size 640x480 with 1 Axes>"
      ]
     },
     "metadata": {},
     "output_type": "display_data"
    }
   ],
   "source": [
    "train = train[train[\"score\"] > 0.005]\n",
    "train[\"score\"].hist()"
   ]
  },
  {
   "cell_type": "code",
   "execution_count": 5,
   "metadata": {},
   "outputs": [
    {
     "name": "stderr",
     "output_type": "stream",
     "text": [
      "100%|██████████| 277/277 [00:05<00:00, 49.65it/s]\n"
     ]
    }
   ],
   "source": [
    "from utils.postprocess import dynamic_range_nms\n",
    "from multiprocessing import Pool\n",
    "from tqdm import tqdm\n",
    "\n",
    "train[\"step\"] = train[\"step\"].astype(int)\n",
    "\n",
    "groups = [group for _, group in train.groupby(\"series_id\")]\n",
    "with Pool(30) as p:  \n",
    "    results = list(tqdm(p.imap(dynamic_range_nms, groups), total=len(groups)))\n",
    "sub = pd.concat(results)\n",
    "sub[\"score\"] = sub[\"reduced_score\"]"
   ]
  },
  {
   "cell_type": "code",
   "execution_count": 6,
   "metadata": {},
   "outputs": [
    {
     "name": "stdout",
     "output_type": "stream",
     "text": [
      "score: 0.7978\n"
     ]
    },
    {
     "data": {
      "text/plain": [
       "event   tolerance\n",
       "onset   12           0.282671\n",
       "        36           0.711922\n",
       "        60           0.800657\n",
       "        90           0.838835\n",
       "        120          0.860459\n",
       "        150          0.869028\n",
       "        180          0.877030\n",
       "        240          0.890318\n",
       "        300          0.895175\n",
       "        360          0.901497\n",
       "wakeup  12           0.323276\n",
       "        36           0.726743\n",
       "        60           0.804683\n",
       "        90           0.843810\n",
       "        120          0.861211\n",
       "        150          0.872236\n",
       "        180          0.882230\n",
       "        240          0.894879\n",
       "        300          0.905941\n",
       "        360          0.914262\n",
       "dtype: float64"
      ]
     },
     "metadata": {},
     "output_type": "display_data"
    }
   ],
   "source": [
    "# スコア計算\n",
    "labels = pd.read_csv(f\"{CFG['dataset']['competition_dir']}/train_events.csv\").dropna()\n",
    "score, ap_table = compute_comptetition_metric(labels, sub)\n",
    "\n",
    "print(f\"score: {score:.4f}\")\n",
    "display(ap_table)\n",
    "sub.to_csv(os.path.join(CFG[\"output_dir\"], \"submission_after_nms.csv\"), index=False)"
   ]
  },
  {
   "cell_type": "code",
   "execution_count": null,
   "metadata": {},
   "outputs": [],
   "source": []
  },
  {
   "cell_type": "code",
   "execution_count": null,
   "metadata": {},
   "outputs": [],
   "source": []
  }
 ],
 "metadata": {
  "kernelspec": {
   "display_name": "base",
   "language": "python",
   "name": "python3"
  },
  "language_info": {
   "codemirror_mode": {
    "name": "ipython",
    "version": 3
   },
   "file_extension": ".py",
   "mimetype": "text/x-python",
   "name": "python",
   "nbconvert_exporter": "python",
   "pygments_lexer": "ipython3",
   "version": "3.10.10"
  },
  "orig_nbformat": 4
 },
 "nbformat": 4,
 "nbformat_minor": 2
}
