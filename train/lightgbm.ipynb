{
 "cells": [
  {
   "cell_type": "code",
   "execution_count": 1,
   "metadata": {},
   "outputs": [
    {
     "name": "stderr",
     "output_type": "stream",
     "text": [
      "2023-11-05 15:16:35.496130: I tensorflow/core/platform/cpu_feature_guard.cc:193] This TensorFlow binary is optimized with oneAPI Deep Neural Network Library (oneDNN) to use the following CPU instructions in performance-critical operations:  AVX2 AVX_VNNI FMA\n",
      "To enable them in other operations, rebuild TensorFlow with the appropriate compiler flags.\n",
      "2023-11-05 15:16:35.915959: I tensorflow/core/util/port.cc:104] oneDNN custom operations are on. You may see slightly different numerical results due to floating-point round-off errors from different computation orders. To turn them off, set the environment variable `TF_ENABLE_ONEDNN_OPTS=0`.\n",
      "2023-11-05 15:16:37.235974: W tensorflow/compiler/xla/stream_executor/platform/default/dso_loader.cc:64] Could not load dynamic library 'libnvinfer.so.7'; dlerror: libnvinfer.so.7: cannot open shared object file: No such file or directory; LD_LIBRARY_PATH: /usr/local/cuda/lib64:/usr/local/cuda/lib:/usr/local/lib/x86_64-linux-gnu:/usr/local/nvidia/lib:/usr/local/nvidia/lib64:/usr/local/nvidia/lib:/usr/local/nvidia/lib64:/opt/conda/lib\n",
      "2023-11-05 15:16:37.236089: W tensorflow/compiler/xla/stream_executor/platform/default/dso_loader.cc:64] Could not load dynamic library 'libnvinfer_plugin.so.7'; dlerror: libnvinfer_plugin.so.7: cannot open shared object file: No such file or directory; LD_LIBRARY_PATH: /usr/local/cuda/lib64:/usr/local/cuda/lib:/usr/local/lib/x86_64-linux-gnu:/usr/local/nvidia/lib:/usr/local/nvidia/lib64:/usr/local/nvidia/lib:/usr/local/nvidia/lib64:/opt/conda/lib\n",
      "2023-11-05 15:16:37.236095: W tensorflow/compiler/tf2tensorrt/utils/py_utils.cc:38] TF-TRT Warning: Cannot dlopen some TensorRT libraries. If you would like to use Nvidia GPU with TensorRT, please make sure the missing libraries mentioned above are installed properly.\n"
     ]
    },
    {
     "name": "stdout",
     "output_type": "stream",
     "text": [
      "exp_120\n"
     ]
    }
   ],
   "source": [
    "import pandas as pd\n",
    "import yaml\n",
    "import sys\n",
    "import os\n",
    "from glob import glob\n",
    "from pathlib import Path\n",
    "import gc\n",
    "import pickle\n",
    "import joblib\n",
    "\n",
    "import warnings\n",
    "warnings.filterwarnings('ignore')\n",
    "\n",
    "sys.path.append('/kaggle/src')\n",
    "from utils.lgb import fit_lgb\n",
    "from utils.metric import compute_comptetition_metric\n",
    "from utils.set_seed import seed_base\n",
    "from feature_engineering.fe_xgb import generate_features\n",
    "\n",
    "MODEL_NAME = \"lgb_model\"\n",
    "PACKAGE_DIR = Path(\"/kaggle/src\")\n",
    "CFG = yaml.safe_load(open(PACKAGE_DIR / \"config.yaml\", \"r\"))\n",
    "print(CFG[MODEL_NAME][\"execution\"][\"exp_id\"])\n",
    "\n",
    "CFG[\"output_dir\"] = f\"/kaggle/output/{CFG[MODEL_NAME]['execution']['exp_id']}\"\n",
    "!rm -r {CFG[\"output_dir\"]}\n",
    "os.makedirs(CFG[\"output_dir\"], exist_ok=True)\n",
    "\n",
    "seed_base(CFG[\"env\"][\"seed\"])"
   ]
  },
  {
   "cell_type": "code",
   "execution_count": 2,
   "metadata": {},
   "outputs": [
    {
     "name": "stderr",
     "output_type": "stream",
     "text": [
      "generate features: 100%|██████████| 277/277 [04:30<00:00,  1.03it/s]\n"
     ]
    },
    {
     "data": {
      "text/html": [
       "<div>\n",
       "<style scoped>\n",
       "    .dataframe tbody tr th:only-of-type {\n",
       "        vertical-align: middle;\n",
       "    }\n",
       "\n",
       "    .dataframe tbody tr th {\n",
       "        vertical-align: top;\n",
       "    }\n",
       "\n",
       "    .dataframe thead th {\n",
       "        text-align: right;\n",
       "    }\n",
       "</style>\n",
       "<table border=\"1\" class=\"dataframe\">\n",
       "  <thead>\n",
       "    <tr style=\"text-align: right;\">\n",
       "      <th></th>\n",
       "      <th>anglez</th>\n",
       "      <th>anglez_diff_abs</th>\n",
       "      <th>anglez_diff_abs_clip5</th>\n",
       "      <th>anglez_mean</th>\n",
       "      <th>enmo</th>\n",
       "      <th>enmo_diff_abs</th>\n",
       "      <th>enmo_mean</th>\n",
       "      <th>minutes</th>\n",
       "      <th>same_count</th>\n",
       "      <th>total_seconds</th>\n",
       "      <th>...</th>\n",
       "      <th>enmo_rolling_median_100_shift_1000</th>\n",
       "      <th>anglez_diff_abs_clip5_rolling_median_100_shift_1000</th>\n",
       "      <th>enmo_std_rolling_median_100_shift_1000</th>\n",
       "      <th>anglez_diff_abs_clip5_std_rolling_median_100_shift_1000</th>\n",
       "      <th>enmo_rolling_square_mean_100_shift_1000</th>\n",
       "      <th>anglez_diff_abs_clip5_rolling_square_mean_100_shift_1000</th>\n",
       "      <th>enmo_std_rolling_square_mean_100_shift_1000</th>\n",
       "      <th>anglez_diff_abs_clip5_std_rolling_square_mean_100_shift_1000</th>\n",
       "      <th>reduce_step</th>\n",
       "      <th>fold</th>\n",
       "    </tr>\n",
       "  </thead>\n",
       "  <tbody>\n",
       "    <tr>\n",
       "      <th>0</th>\n",
       "      <td>-86.521141</td>\n",
       "      <td>0.484678</td>\n",
       "      <td>0.484678</td>\n",
       "      <td>-11.018268</td>\n",
       "      <td>0.028438</td>\n",
       "      <td>0.001370</td>\n",
       "      <td>0.049629</td>\n",
       "      <td>957.5</td>\n",
       "      <td>0.0</td>\n",
       "      <td>44157.5</td>\n",
       "      <td>...</td>\n",
       "      <td>NaN</td>\n",
       "      <td>NaN</td>\n",
       "      <td>NaN</td>\n",
       "      <td>NaN</td>\n",
       "      <td>NaN</td>\n",
       "      <td>NaN</td>\n",
       "      <td>NaN</td>\n",
       "      <td>NaN</td>\n",
       "      <td>11</td>\n",
       "      <td>3</td>\n",
       "    </tr>\n",
       "    <tr>\n",
       "      <th>1</th>\n",
       "      <td>-87.261871</td>\n",
       "      <td>0.062595</td>\n",
       "      <td>0.062595</td>\n",
       "      <td>-10.602463</td>\n",
       "      <td>0.028079</td>\n",
       "      <td>0.000292</td>\n",
       "      <td>0.032782</td>\n",
       "      <td>1077.5</td>\n",
       "      <td>0.0</td>\n",
       "      <td>44277.5</td>\n",
       "      <td>...</td>\n",
       "      <td>NaN</td>\n",
       "      <td>NaN</td>\n",
       "      <td>NaN</td>\n",
       "      <td>NaN</td>\n",
       "      <td>NaN</td>\n",
       "      <td>NaN</td>\n",
       "      <td>NaN</td>\n",
       "      <td>NaN</td>\n",
       "      <td>35</td>\n",
       "      <td>3</td>\n",
       "    </tr>\n",
       "    <tr>\n",
       "      <th>18</th>\n",
       "      <td>-89.950226</td>\n",
       "      <td>0.048220</td>\n",
       "      <td>0.048220</td>\n",
       "      <td>-5.167186</td>\n",
       "      <td>0.028175</td>\n",
       "      <td>0.000229</td>\n",
       "      <td>0.047287</td>\n",
       "      <td>3117.5</td>\n",
       "      <td>0.0</td>\n",
       "      <td>46317.5</td>\n",
       "      <td>...</td>\n",
       "      <td>NaN</td>\n",
       "      <td>NaN</td>\n",
       "      <td>NaN</td>\n",
       "      <td>NaN</td>\n",
       "      <td>NaN</td>\n",
       "      <td>NaN</td>\n",
       "      <td>NaN</td>\n",
       "      <td>NaN</td>\n",
       "      <td>443</td>\n",
       "      <td>3</td>\n",
       "    </tr>\n",
       "    <tr>\n",
       "      <th>19</th>\n",
       "      <td>-89.891479</td>\n",
       "      <td>0.075483</td>\n",
       "      <td>0.075483</td>\n",
       "      <td>-4.354149</td>\n",
       "      <td>0.028121</td>\n",
       "      <td>0.000196</td>\n",
       "      <td>0.030720</td>\n",
       "      <td>3237.5</td>\n",
       "      <td>0.0</td>\n",
       "      <td>46437.5</td>\n",
       "      <td>...</td>\n",
       "      <td>NaN</td>\n",
       "      <td>NaN</td>\n",
       "      <td>NaN</td>\n",
       "      <td>NaN</td>\n",
       "      <td>NaN</td>\n",
       "      <td>NaN</td>\n",
       "      <td>NaN</td>\n",
       "      <td>NaN</td>\n",
       "      <td>467</td>\n",
       "      <td>3</td>\n",
       "    </tr>\n",
       "    <tr>\n",
       "      <th>20</th>\n",
       "      <td>-90.000000</td>\n",
       "      <td>0.000000</td>\n",
       "      <td>0.000000</td>\n",
       "      <td>-5.594111</td>\n",
       "      <td>0.028292</td>\n",
       "      <td>0.000242</td>\n",
       "      <td>0.024401</td>\n",
       "      <td>3357.5</td>\n",
       "      <td>0.0</td>\n",
       "      <td>46557.5</td>\n",
       "      <td>...</td>\n",
       "      <td>NaN</td>\n",
       "      <td>NaN</td>\n",
       "      <td>NaN</td>\n",
       "      <td>NaN</td>\n",
       "      <td>NaN</td>\n",
       "      <td>NaN</td>\n",
       "      <td>NaN</td>\n",
       "      <td>NaN</td>\n",
       "      <td>491</td>\n",
       "      <td>3</td>\n",
       "    </tr>\n",
       "  </tbody>\n",
       "</table>\n",
       "<p>5 rows × 1307 columns</p>\n",
       "</div>"
      ],
      "text/plain": [
       "       anglez  anglez_diff_abs  anglez_diff_abs_clip5  anglez_mean      enmo  \\\n",
       "0  -86.521141         0.484678               0.484678   -11.018268  0.028438   \n",
       "1  -87.261871         0.062595               0.062595   -10.602463  0.028079   \n",
       "18 -89.950226         0.048220               0.048220    -5.167186  0.028175   \n",
       "19 -89.891479         0.075483               0.075483    -4.354149  0.028121   \n",
       "20 -90.000000         0.000000               0.000000    -5.594111  0.028292   \n",
       "\n",
       "    enmo_diff_abs  enmo_mean  minutes  same_count  total_seconds  ...  \\\n",
       "0        0.001370   0.049629    957.5         0.0        44157.5  ...   \n",
       "1        0.000292   0.032782   1077.5         0.0        44277.5  ...   \n",
       "18       0.000229   0.047287   3117.5         0.0        46317.5  ...   \n",
       "19       0.000196   0.030720   3237.5         0.0        46437.5  ...   \n",
       "20       0.000242   0.024401   3357.5         0.0        46557.5  ...   \n",
       "\n",
       "    enmo_rolling_median_100_shift_1000  \\\n",
       "0                                  NaN   \n",
       "1                                  NaN   \n",
       "18                                 NaN   \n",
       "19                                 NaN   \n",
       "20                                 NaN   \n",
       "\n",
       "    anglez_diff_abs_clip5_rolling_median_100_shift_1000  \\\n",
       "0                                                 NaN     \n",
       "1                                                 NaN     \n",
       "18                                                NaN     \n",
       "19                                                NaN     \n",
       "20                                                NaN     \n",
       "\n",
       "    enmo_std_rolling_median_100_shift_1000  \\\n",
       "0                                      NaN   \n",
       "1                                      NaN   \n",
       "18                                     NaN   \n",
       "19                                     NaN   \n",
       "20                                     NaN   \n",
       "\n",
       "    anglez_diff_abs_clip5_std_rolling_median_100_shift_1000  \\\n",
       "0                                                 NaN         \n",
       "1                                                 NaN         \n",
       "18                                                NaN         \n",
       "19                                                NaN         \n",
       "20                                                NaN         \n",
       "\n",
       "    enmo_rolling_square_mean_100_shift_1000  \\\n",
       "0                                       NaN   \n",
       "1                                       NaN   \n",
       "18                                      NaN   \n",
       "19                                      NaN   \n",
       "20                                      NaN   \n",
       "\n",
       "    anglez_diff_abs_clip5_rolling_square_mean_100_shift_1000  \\\n",
       "0                                                 NaN          \n",
       "1                                                 NaN          \n",
       "18                                                NaN          \n",
       "19                                                NaN          \n",
       "20                                                NaN          \n",
       "\n",
       "    enmo_std_rolling_square_mean_100_shift_1000  \\\n",
       "0                                           NaN   \n",
       "1                                           NaN   \n",
       "18                                          NaN   \n",
       "19                                          NaN   \n",
       "20                                          NaN   \n",
       "\n",
       "    anglez_diff_abs_clip5_std_rolling_square_mean_100_shift_1000  reduce_step  \\\n",
       "0                                                 NaN                      11   \n",
       "1                                                 NaN                      35   \n",
       "18                                                NaN                     443   \n",
       "19                                                NaN                     467   \n",
       "20                                                NaN                     491   \n",
       "\n",
       "    fold  \n",
       "0      3  \n",
       "1      3  \n",
       "18     3  \n",
       "19     3  \n",
       "20     3  \n",
       "\n",
       "[5 rows x 1307 columns]"
      ]
     },
     "metadata": {},
     "output_type": "display_data"
    },
    {
     "data": {
      "text/plain": [
       "(537520, 1307)"
      ]
     },
     "execution_count": 2,
     "metadata": {},
     "output_type": "execute_result"
    }
   ],
   "source": [
    "# 特徴生成\n",
    "files = glob(f\"{CFG['dataset']['step_csv_dir']}/*.parquet\")\n",
    "train, features = generate_features(files)\n",
    "\n",
    "# cv splitとマージ\n",
    "cv_split = pd.read_csv(CFG['dataset']['cv_split_path'])\n",
    "train[\"fold\"] = train[\"series_id\"].map(cv_split.set_index(\"series_id\")[\"fold\"])\n",
    "display(train.head(5))\n",
    "train.shape"
   ]
  },
  {
   "cell_type": "code",
   "execution_count": 3,
   "metadata": {},
   "outputs": [
    {
     "name": "stderr",
     "output_type": "stream",
     "text": [
      "  0%|          | 0/5 [00:00<?, ?it/s]"
     ]
    },
    {
     "name": "stdout",
     "output_type": "stream",
     "text": [
      "== fold 0 ==\n",
      "[100]\tvalid_0's rmse: 1.1532\tvalid_0's l2: 1.32986\n",
      "[200]\tvalid_0's rmse: 1.04647\tvalid_0's l2: 1.0951\n",
      "[300]\tvalid_0's rmse: 1.0188\tvalid_0's l2: 1.03796\n",
      "[400]\tvalid_0's rmse: 1.01105\tvalid_0's l2: 1.02223\n",
      "[500]\tvalid_0's rmse: 1.00881\tvalid_0's l2: 1.0177\n",
      "[600]\tvalid_0's rmse: 1.00794\tvalid_0's l2: 1.01595\n",
      "[700]\tvalid_0's rmse: 1.00717\tvalid_0's l2: 1.01439\n",
      "[800]\tvalid_0's rmse: 1.00666\tvalid_0's l2: 1.01337\n",
      "[900]\tvalid_0's rmse: 1.00638\tvalid_0's l2: 1.01279\n",
      "[1000]\tvalid_0's rmse: 1.00621\tvalid_0's l2: 1.01246\n",
      "[1100]\tvalid_0's rmse: 1.00592\tvalid_0's l2: 1.01187\n",
      "[1200]\tvalid_0's rmse: 1.00577\tvalid_0's l2: 1.01156\n",
      "[1300]\tvalid_0's rmse: 1.00568\tvalid_0's l2: 1.01139\n",
      "[1400]\tvalid_0's rmse: 1.00549\tvalid_0's l2: 1.01101\n",
      "[1500]\tvalid_0's rmse: 1.00547\tvalid_0's l2: 1.01097\n",
      "[1600]\tvalid_0's rmse: 1.00521\tvalid_0's l2: 1.01044\n",
      "[1700]\tvalid_0's rmse: 1.00509\tvalid_0's l2: 1.01021\n"
     ]
    },
    {
     "name": "stderr",
     "output_type": "stream",
     "text": [
      " 20%|██        | 1/5 [03:15<13:00, 195.12s/it]"
     ]
    },
    {
     "name": "stdout",
     "output_type": "stream",
     "text": [
      "== fold 1 ==\n",
      "[100]\tvalid_0's rmse: 1.04384\tvalid_0's l2: 1.0896\n",
      "[200]\tvalid_0's rmse: 0.956049\tvalid_0's l2: 0.91403\n",
      "[300]\tvalid_0's rmse: 0.931864\tvalid_0's l2: 0.86837\n",
      "[400]\tvalid_0's rmse: 0.924286\tvalid_0's l2: 0.854305\n",
      "[500]\tvalid_0's rmse: 0.920852\tvalid_0's l2: 0.847968\n",
      "[600]\tvalid_0's rmse: 0.919518\tvalid_0's l2: 0.845514\n",
      "[700]\tvalid_0's rmse: 0.918705\tvalid_0's l2: 0.844019\n",
      "[800]\tvalid_0's rmse: 0.917985\tvalid_0's l2: 0.842696\n",
      "[900]\tvalid_0's rmse: 0.917406\tvalid_0's l2: 0.841633\n",
      "[1000]\tvalid_0's rmse: 0.91698\tvalid_0's l2: 0.840853\n",
      "[1100]\tvalid_0's rmse: 0.916395\tvalid_0's l2: 0.83978\n",
      "[1200]\tvalid_0's rmse: 0.915991\tvalid_0's l2: 0.83904\n",
      "[1300]\tvalid_0's rmse: 0.915715\tvalid_0's l2: 0.838535\n",
      "[1400]\tvalid_0's rmse: 0.915578\tvalid_0's l2: 0.838282\n",
      "[1500]\tvalid_0's rmse: 0.915293\tvalid_0's l2: 0.837762\n",
      "[1600]\tvalid_0's rmse: 0.915163\tvalid_0's l2: 0.837524\n",
      "[1700]\tvalid_0's rmse: 0.915041\tvalid_0's l2: 0.8373\n",
      "[1800]\tvalid_0's rmse: 0.914931\tvalid_0's l2: 0.837099\n",
      "[1900]\tvalid_0's rmse: 0.914858\tvalid_0's l2: 0.836966\n",
      "[2000]\tvalid_0's rmse: 0.914808\tvalid_0's l2: 0.836874\n"
     ]
    },
    {
     "name": "stderr",
     "output_type": "stream",
     "text": [
      " 40%|████      | 2/5 [06:34<09:52, 197.59s/it]"
     ]
    },
    {
     "name": "stdout",
     "output_type": "stream",
     "text": [
      "== fold 2 ==\n",
      "[100]\tvalid_0's rmse: 1.0577\tvalid_0's l2: 1.11873\n",
      "[200]\tvalid_0's rmse: 0.971948\tvalid_0's l2: 0.944683\n",
      "[300]\tvalid_0's rmse: 0.94973\tvalid_0's l2: 0.901987\n",
      "[400]\tvalid_0's rmse: 0.942407\tvalid_0's l2: 0.888131\n",
      "[500]\tvalid_0's rmse: 0.939459\tvalid_0's l2: 0.882584\n",
      "[600]\tvalid_0's rmse: 0.938061\tvalid_0's l2: 0.879959\n",
      "[700]\tvalid_0's rmse: 0.937472\tvalid_0's l2: 0.878854\n",
      "[800]\tvalid_0's rmse: 0.936848\tvalid_0's l2: 0.877684\n",
      "[900]\tvalid_0's rmse: 0.936583\tvalid_0's l2: 0.877188\n",
      "[1000]\tvalid_0's rmse: 0.936345\tvalid_0's l2: 0.876743\n",
      "[1100]\tvalid_0's rmse: 0.936146\tvalid_0's l2: 0.876369\n",
      "[1200]\tvalid_0's rmse: 0.936003\tvalid_0's l2: 0.876102\n",
      "[1300]\tvalid_0's rmse: 0.935825\tvalid_0's l2: 0.875769\n",
      "[1400]\tvalid_0's rmse: 0.935698\tvalid_0's l2: 0.875531\n",
      "[1500]\tvalid_0's rmse: 0.935606\tvalid_0's l2: 0.875358\n",
      "[1600]\tvalid_0's rmse: 0.935492\tvalid_0's l2: 0.875146\n",
      "[1700]\tvalid_0's rmse: 0.935436\tvalid_0's l2: 0.87504\n",
      "[1800]\tvalid_0's rmse: 0.935329\tvalid_0's l2: 0.87484\n",
      "[1900]\tvalid_0's rmse: 0.935281\tvalid_0's l2: 0.874751\n",
      "[2000]\tvalid_0's rmse: 0.935201\tvalid_0's l2: 0.874601\n"
     ]
    },
    {
     "name": "stderr",
     "output_type": "stream",
     "text": [
      " 60%|██████    | 3/5 [09:55<06:38, 199.19s/it]"
     ]
    },
    {
     "name": "stdout",
     "output_type": "stream",
     "text": [
      "== fold 3 ==\n",
      "[100]\tvalid_0's rmse: 1.1265\tvalid_0's l2: 1.26899\n",
      "[200]\tvalid_0's rmse: 1.02365\tvalid_0's l2: 1.04785\n",
      "[300]\tvalid_0's rmse: 0.999124\tvalid_0's l2: 0.998249\n",
      "[400]\tvalid_0's rmse: 0.992737\tvalid_0's l2: 0.985527\n",
      "[500]\tvalid_0's rmse: 0.990405\tvalid_0's l2: 0.980902\n",
      "[600]\tvalid_0's rmse: 0.989086\tvalid_0's l2: 0.978291\n",
      "[700]\tvalid_0's rmse: 0.988318\tvalid_0's l2: 0.976772\n",
      "[800]\tvalid_0's rmse: 0.987734\tvalid_0's l2: 0.975618\n",
      "[900]\tvalid_0's rmse: 0.987421\tvalid_0's l2: 0.974999\n",
      "[1000]\tvalid_0's rmse: 0.987145\tvalid_0's l2: 0.974455\n",
      "[1100]\tvalid_0's rmse: 0.986754\tvalid_0's l2: 0.973683\n",
      "[1200]\tvalid_0's rmse: 0.986673\tvalid_0's l2: 0.973525\n",
      "[1300]\tvalid_0's rmse: 0.986657\tvalid_0's l2: 0.973491\n",
      "[1400]\tvalid_0's rmse: 0.986594\tvalid_0's l2: 0.973368\n"
     ]
    },
    {
     "name": "stderr",
     "output_type": "stream",
     "text": [
      " 80%|████████  | 4/5 [12:30<03:01, 181.62s/it]"
     ]
    },
    {
     "name": "stdout",
     "output_type": "stream",
     "text": [
      "== fold 4 ==\n",
      "[100]\tvalid_0's rmse: 1.05568\tvalid_0's l2: 1.11446\n",
      "[200]\tvalid_0's rmse: 0.967963\tvalid_0's l2: 0.936952\n",
      "[300]\tvalid_0's rmse: 0.945628\tvalid_0's l2: 0.894211\n",
      "[400]\tvalid_0's rmse: 0.938956\tvalid_0's l2: 0.881639\n",
      "[500]\tvalid_0's rmse: 0.936756\tvalid_0's l2: 0.877511\n",
      "[600]\tvalid_0's rmse: 0.93579\tvalid_0's l2: 0.875703\n",
      "[700]\tvalid_0's rmse: 0.935206\tvalid_0's l2: 0.87461\n",
      "[800]\tvalid_0's rmse: 0.934915\tvalid_0's l2: 0.874066\n",
      "[900]\tvalid_0's rmse: 0.934636\tvalid_0's l2: 0.873545\n",
      "[1000]\tvalid_0's rmse: 0.934398\tvalid_0's l2: 0.8731\n",
      "[1100]\tvalid_0's rmse: 0.934326\tvalid_0's l2: 0.872965\n",
      "[1200]\tvalid_0's rmse: 0.934214\tvalid_0's l2: 0.872757\n",
      "[1300]\tvalid_0's rmse: 0.934188\tvalid_0's l2: 0.872707\n",
      "[1400]\tvalid_0's rmse: 0.934025\tvalid_0's l2: 0.872403\n"
     ]
    },
    {
     "name": "stderr",
     "output_type": "stream",
     "text": [
      "100%|██████████| 5/5 [15:12<00:00, 182.59s/it]\n",
      "  0%|          | 0/5 [00:00<?, ?it/s]"
     ]
    },
    {
     "name": "stdout",
     "output_type": "stream",
     "text": [
      "== fold 0 ==\n",
      "[100]\tvalid_0's rmse: 1.15216\tvalid_0's l2: 1.32748\n",
      "[200]\tvalid_0's rmse: 1.04354\tvalid_0's l2: 1.08898\n",
      "[300]\tvalid_0's rmse: 1.01688\tvalid_0's l2: 1.03405\n",
      "[400]\tvalid_0's rmse: 1.00902\tvalid_0's l2: 1.01813\n",
      "[500]\tvalid_0's rmse: 1.00619\tvalid_0's l2: 1.01242\n",
      "[600]\tvalid_0's rmse: 1.00496\tvalid_0's l2: 1.00995\n",
      "[700]\tvalid_0's rmse: 1.00441\tvalid_0's l2: 1.00884\n",
      "[800]\tvalid_0's rmse: 1.00407\tvalid_0's l2: 1.00816\n",
      "[900]\tvalid_0's rmse: 1.0035\tvalid_0's l2: 1.00701\n",
      "[1000]\tvalid_0's rmse: 1.00333\tvalid_0's l2: 1.00666\n"
     ]
    },
    {
     "name": "stderr",
     "output_type": "stream",
     "text": [
      " 20%|██        | 1/5 [02:05<08:22, 125.70s/it]"
     ]
    },
    {
     "name": "stdout",
     "output_type": "stream",
     "text": [
      "== fold 1 ==\n",
      "[100]\tvalid_0's rmse: 1.0105\tvalid_0's l2: 1.0211\n",
      "[200]\tvalid_0's rmse: 0.910133\tvalid_0's l2: 0.828342\n",
      "[300]\tvalid_0's rmse: 0.882363\tvalid_0's l2: 0.778564\n",
      "[400]\tvalid_0's rmse: 0.872547\tvalid_0's l2: 0.761338\n",
      "[500]\tvalid_0's rmse: 0.869243\tvalid_0's l2: 0.755583\n",
      "[600]\tvalid_0's rmse: 0.867876\tvalid_0's l2: 0.753209\n",
      "[700]\tvalid_0's rmse: 0.866867\tvalid_0's l2: 0.751459\n",
      "[800]\tvalid_0's rmse: 0.866404\tvalid_0's l2: 0.750655\n",
      "[900]\tvalid_0's rmse: 0.865957\tvalid_0's l2: 0.749881\n",
      "[1000]\tvalid_0's rmse: 0.865569\tvalid_0's l2: 0.749209\n",
      "[1100]\tvalid_0's rmse: 0.865321\tvalid_0's l2: 0.748781\n",
      "[1200]\tvalid_0's rmse: 0.865233\tvalid_0's l2: 0.748629\n",
      "[1300]\tvalid_0's rmse: 0.864932\tvalid_0's l2: 0.748108\n",
      "[1400]\tvalid_0's rmse: 0.86468\tvalid_0's l2: 0.747672\n",
      "[1500]\tvalid_0's rmse: 0.864484\tvalid_0's l2: 0.747333\n",
      "[1600]\tvalid_0's rmse: 0.864454\tvalid_0's l2: 0.747281\n"
     ]
    },
    {
     "name": "stderr",
     "output_type": "stream",
     "text": [
      " 40%|████      | 2/5 [04:56<07:37, 152.36s/it]"
     ]
    },
    {
     "name": "stdout",
     "output_type": "stream",
     "text": [
      "== fold 2 ==\n",
      "[100]\tvalid_0's rmse: 1.044\tvalid_0's l2: 1.08994\n",
      "[200]\tvalid_0's rmse: 0.952673\tvalid_0's l2: 0.907585\n",
      "[300]\tvalid_0's rmse: 0.926529\tvalid_0's l2: 0.858456\n",
      "[400]\tvalid_0's rmse: 0.91793\tvalid_0's l2: 0.842595\n",
      "[500]\tvalid_0's rmse: 0.915024\tvalid_0's l2: 0.837269\n",
      "[600]\tvalid_0's rmse: 0.91341\tvalid_0's l2: 0.834317\n",
      "[700]\tvalid_0's rmse: 0.912879\tvalid_0's l2: 0.833348\n",
      "[800]\tvalid_0's rmse: 0.912484\tvalid_0's l2: 0.832627\n",
      "[900]\tvalid_0's rmse: 0.912394\tvalid_0's l2: 0.832462\n",
      "[1000]\tvalid_0's rmse: 0.912193\tvalid_0's l2: 0.832096\n",
      "[1100]\tvalid_0's rmse: 0.912078\tvalid_0's l2: 0.831887\n",
      "[1200]\tvalid_0's rmse: 0.911903\tvalid_0's l2: 0.831568\n",
      "[1300]\tvalid_0's rmse: 0.911802\tvalid_0's l2: 0.831383\n",
      "[1400]\tvalid_0's rmse: 0.911611\tvalid_0's l2: 0.831035\n",
      "[1500]\tvalid_0's rmse: 0.911636\tvalid_0's l2: 0.831081\n"
     ]
    },
    {
     "name": "stderr",
     "output_type": "stream",
     "text": [
      " 60%|██████    | 3/5 [07:41<05:15, 157.94s/it]"
     ]
    },
    {
     "name": "stdout",
     "output_type": "stream",
     "text": [
      "== fold 3 ==\n",
      "[100]\tvalid_0's rmse: 1.13651\tvalid_0's l2: 1.29165\n",
      "[200]\tvalid_0's rmse: 1.04999\tvalid_0's l2: 1.10248\n",
      "[300]\tvalid_0's rmse: 1.03192\tvalid_0's l2: 1.06485\n",
      "[400]\tvalid_0's rmse: 1.02719\tvalid_0's l2: 1.05513\n",
      "[500]\tvalid_0's rmse: 1.02558\tvalid_0's l2: 1.05182\n",
      "[600]\tvalid_0's rmse: 1.0251\tvalid_0's l2: 1.05083\n",
      "[700]\tvalid_0's rmse: 1.02474\tvalid_0's l2: 1.05009\n",
      "[800]\tvalid_0's rmse: 1.02444\tvalid_0's l2: 1.04948\n",
      "[900]\tvalid_0's rmse: 1.02442\tvalid_0's l2: 1.04944\n"
     ]
    },
    {
     "name": "stderr",
     "output_type": "stream",
     "text": [
      " 80%|████████  | 4/5 [09:44<02:24, 144.04s/it]"
     ]
    },
    {
     "name": "stdout",
     "output_type": "stream",
     "text": [
      "== fold 4 ==\n",
      "[100]\tvalid_0's rmse: 1.05431\tvalid_0's l2: 1.11158\n",
      "[200]\tvalid_0's rmse: 0.971837\tvalid_0's l2: 0.944467\n",
      "[300]\tvalid_0's rmse: 0.952771\tvalid_0's l2: 0.907772\n",
      "[400]\tvalid_0's rmse: 0.947382\tvalid_0's l2: 0.897533\n",
      "[500]\tvalid_0's rmse: 0.944905\tvalid_0's l2: 0.892846\n",
      "[600]\tvalid_0's rmse: 0.943824\tvalid_0's l2: 0.890804\n",
      "[700]\tvalid_0's rmse: 0.943327\tvalid_0's l2: 0.889866\n",
      "[800]\tvalid_0's rmse: 0.942914\tvalid_0's l2: 0.889087\n",
      "[900]\tvalid_0's rmse: 0.942768\tvalid_0's l2: 0.888811\n",
      "[1000]\tvalid_0's rmse: 0.942802\tvalid_0's l2: 0.888875\n"
     ]
    },
    {
     "name": "stderr",
     "output_type": "stream",
     "text": [
      "100%|██████████| 5/5 [11:51<00:00, 142.36s/it]\n"
     ]
    }
   ],
   "source": [
    "# 学習\n",
    "dfs = []\n",
    "for event in [\"wakeup\", \"onset\"]:\n",
    "    trn_oof, models = fit_lgb(\n",
    "        X=train, \n",
    "        y=train[f\"{event}_target\"], \n",
    "        folds=train[\"fold\"].astype(int), \n",
    "        features=features.all_features(),\n",
    "        params=CFG[MODEL_NAME][\"lightgbm\"], \n",
    "        es_rounds=100,\n",
    "    )\n",
    "    train[\"score\"] = trn_oof\n",
    "    train[\"event\"] = event\n",
    "    dfs.append(train[[\"series_id\", \"step\", \"score\", \"event\"]])\n",
    "\n",
    "    # 保存\n",
    "    for i, model in enumerate(models):\n",
    "        joblib.dump(model, os.path.join(CFG[\"output_dir\"], f'lgb_{event}_fold_{i}.pkl'))\n",
    "del train\n",
    "gc.collect()\n",
    "train = pd.concat(dfs, axis=0)\n",
    "train[\"step\"] = train[\"step\"].astype(int)\n",
    "train = train.sort_values([\"series_id\", \"step\"]).reset_index(drop=True)\n",
    "\n",
    "with open(os.path.join(CFG[\"output_dir\"], \"features.pkl\"), \"wb\") as f:\n",
    "    pickle.dump(features, f)\n",
    "train.to_csv(os.path.join(CFG[\"output_dir\"], \"oof.csv\"), index=False)"
   ]
  },
  {
   "cell_type": "markdown",
   "metadata": {},
   "source": [
    "## Dynamic-Range NMS"
   ]
  },
  {
   "cell_type": "code",
   "execution_count": 4,
   "metadata": {},
   "outputs": [
    {
     "data": {
      "text/plain": [
       "<AxesSubplot: >"
      ]
     },
     "execution_count": 4,
     "metadata": {},
     "output_type": "execute_result"
    },
    {
     "data": {
      "image/png": "[encoded data removed]",
      "text/plain": [
       "<Figure size 640x480 with 1 Axes>"
      ]
     },
     "metadata": {},
     "output_type": "display_data"
    }
   ],
   "source": [
    "train = train[train[\"score\"] > 0.005]\n",
    "train[\"score\"].hist()"
   ]
  },
  {
   "cell_type": "code",
   "execution_count": 5,
   "metadata": {},
   "outputs": [
    {
     "name": "stderr",
     "output_type": "stream",
     "text": [
      "100%|██████████| 277/277 [00:07<00:00, 38.53it/s]\n"
     ]
    }
   ],
   "source": [
    "from utils.postprocess import dynamic_range_nms\n",
    "from multiprocessing import Pool\n",
    "from tqdm import tqdm\n",
    "\n",
    "train[\"step\"] = train[\"step\"].astype(int)\n",
    "\n",
    "groups = [group for _, group in train.groupby(\"series_id\")]\n",
    "with Pool(30) as p:  \n",
    "    results = list(tqdm(p.imap(dynamic_range_nms, groups), total=len(groups)))\n",
    "sub = pd.concat(results)\n",
    "sub[\"score\"] = sub[\"reduced_score\"]"
   ]
  },
  {
   "cell_type": "code",
   "execution_count": 6,
   "metadata": {},
   "outputs": [
    {
     "name": "stdout",
     "output_type": "stream",
     "text": [
      "score: 0.7794\n"
     ]
    },
    {
     "data": {
      "text/plain": [
       "event   tolerance\n",
       "onset   12           0.265397\n",
       "        36           0.680145\n",
       "        60           0.775276\n",
       "        90           0.820197\n",
       "        120          0.840884\n",
       "        150          0.857922\n",
       "        180          0.868338\n",
       "        240          0.884345\n",
       "        300          0.891084\n",
       "        360          0.895848\n",
       "wakeup  12           0.226673\n",
       "        36           0.695482\n",
       "        60           0.780604\n",
       "        90           0.821417\n",
       "        120          0.846029\n",
       "        150          0.861029\n",
       "        180          0.872442\n",
       "        240          0.890673\n",
       "        300          0.901294\n",
       "        360          0.912289\n",
       "dtype: float64"
      ]
     },
     "metadata": {},
     "output_type": "display_data"
    }
   ],
   "source": [
    "# スコア計算\n",
    "labels = pd.read_csv(f\"{CFG['dataset']['competition_dir']}/train_events.csv\").dropna()\n",
    "score, ap_table = compute_comptetition_metric(labels, sub)\n",
    "\n",
    "print(f\"score: {score:.4f}\")\n",
    "display(ap_table)\n",
    "sub.to_csv(os.path.join(CFG[\"output_dir\"], \"submission_after_nms.csv\"), index=False)"
   ]
  },
  {
   "cell_type": "code",
   "execution_count": null,
   "metadata": {},
   "outputs": [],
   "source": []
  },
  {
   "cell_type": "code",
   "execution_count": null,
   "metadata": {},
   "outputs": [],
   "source": []
  }
 ],
 "metadata": {
  "kernelspec": {
   "display_name": "base",
   "language": "python",
   "name": "python3"
  },
  "language_info": {
   "codemirror_mode": {
    "name": "ipython",
    "version": 3
   },
   "file_extension": ".py",
   "mimetype": "text/x-python",
   "name": "python",
   "nbconvert_exporter": "python",
   "pygments_lexer": "ipython3",
   "version": "3.10.10"
  },
  "orig_nbformat": 4
 },
 "nbformat": 4,
 "nbformat_minor": 2
}
