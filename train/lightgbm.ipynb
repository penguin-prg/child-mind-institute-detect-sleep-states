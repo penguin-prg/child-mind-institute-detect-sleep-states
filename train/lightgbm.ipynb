{
 "cells": [
  {
   "cell_type": "code",
   "execution_count": 1,
   "metadata": {},
   "outputs": [
    {
     "name": "stderr",
     "output_type": "stream",
     "text": [
      "2023-11-15 16:53:11.619284: I tensorflow/core/platform/cpu_feature_guard.cc:193] This TensorFlow binary is optimized with oneAPI Deep Neural Network Library (oneDNN) to use the following CPU instructions in performance-critical operations:  AVX2 AVX_VNNI FMA\n",
      "To enable them in other operations, rebuild TensorFlow with the appropriate compiler flags.\n",
      "2023-11-15 16:53:12.080975: I tensorflow/core/util/port.cc:104] oneDNN custom operations are on. You may see slightly different numerical results due to floating-point round-off errors from different computation orders. To turn them off, set the environment variable `TF_ENABLE_ONEDNN_OPTS=0`.\n",
      "2023-11-15 16:53:13.734962: W tensorflow/compiler/xla/stream_executor/platform/default/dso_loader.cc:64] Could not load dynamic library 'libnvinfer.so.7'; dlerror: libnvinfer.so.7: cannot open shared object file: No such file or directory; LD_LIBRARY_PATH: /usr/local/cuda/lib64:/usr/local/cuda/lib:/usr/local/lib/x86_64-linux-gnu:/usr/local/nvidia/lib:/usr/local/nvidia/lib64:/usr/local/nvidia/lib:/usr/local/nvidia/lib64:/opt/conda/lib\n",
      "2023-11-15 16:53:13.735675: W tensorflow/compiler/xla/stream_executor/platform/default/dso_loader.cc:64] Could not load dynamic library 'libnvinfer_plugin.so.7'; dlerror: libnvinfer_plugin.so.7: cannot open shared object file: No such file or directory; LD_LIBRARY_PATH: /usr/local/cuda/lib64:/usr/local/cuda/lib:/usr/local/lib/x86_64-linux-gnu:/usr/local/nvidia/lib:/usr/local/nvidia/lib64:/usr/local/nvidia/lib:/usr/local/nvidia/lib64:/opt/conda/lib\n",
      "2023-11-15 16:53:13.735683: W tensorflow/compiler/tf2tensorrt/utils/py_utils.cc:38] TF-TRT Warning: Cannot dlopen some TensorRT libraries. If you would like to use Nvidia GPU with TensorRT, please make sure the missing libraries mentioned above are installed properly.\n"
     ]
    },
    {
     "name": "stdout",
     "output_type": "stream",
     "text": [
      "exp_139\n"
     ]
    }
   ],
   "source": [
    "import pandas as pd\n",
    "import yaml\n",
    "import sys\n",
    "import os\n",
    "from glob import glob\n",
    "from pathlib import Path\n",
    "import gc\n",
    "import pickle\n",
    "import joblib\n",
    "\n",
    "import warnings\n",
    "warnings.filterwarnings('ignore')\n",
    "\n",
    "sys.path.append('/kaggle/src')\n",
    "from utils.lgb import fit_lgb\n",
    "from utils.metric import compute_comptetition_metric\n",
    "from utils.set_seed import seed_base\n",
    "from feature_engineering.fe_xgb import generate_features\n",
    "\n",
    "MODEL_NAME = \"lgb_model\"\n",
    "PACKAGE_DIR = Path(\"/kaggle/src\")\n",
    "CFG = yaml.safe_load(open(PACKAGE_DIR / \"config.yaml\", \"r\"))\n",
    "print(CFG[MODEL_NAME][\"execution\"][\"exp_id\"])\n",
    "\n",
    "CFG[\"output_dir\"] = f\"/kaggle/output/{CFG[MODEL_NAME]['execution']['exp_id']}\"\n",
    "!rm -r {CFG[\"output_dir\"]}\n",
    "os.makedirs(CFG[\"output_dir\"], exist_ok=True)\n",
    "\n",
    "seed_base(CFG[\"env\"][\"seed\"])"
   ]
  },
  {
   "cell_type": "code",
   "execution_count": 2,
   "metadata": {},
   "outputs": [
    {
     "name": "stderr",
     "output_type": "stream",
     "text": [
      "generate features: 100%|██████████| 277/277 [16:31<00:00,  3.58s/it]\n"
     ]
    },
    {
     "data": {
      "text/html": [
       "<div>\n",
       "<style scoped>\n",
       "    .dataframe tbody tr th:only-of-type {\n",
       "        vertical-align: middle;\n",
       "    }\n",
       "\n",
       "    .dataframe tbody tr th {\n",
       "        vertical-align: top;\n",
       "    }\n",
       "\n",
       "    .dataframe thead th {\n",
       "        text-align: right;\n",
       "    }\n",
       "</style>\n",
       "<table border=\"1\" class=\"dataframe\">\n",
       "  <thead>\n",
       "    <tr style=\"text-align: right;\">\n",
       "      <th></th>\n",
       "      <th>anglez</th>\n",
       "      <th>anglez_diff_abs</th>\n",
       "      <th>anglez_diff_abs_clip5</th>\n",
       "      <th>anglez_mean</th>\n",
       "      <th>enmo</th>\n",
       "      <th>enmo_diff_abs</th>\n",
       "      <th>enmo_mean</th>\n",
       "      <th>minutes</th>\n",
       "      <th>same_count</th>\n",
       "      <th>total_seconds</th>\n",
       "      <th>...</th>\n",
       "      <th>enmo_std_rolling_median_100_shift_1000</th>\n",
       "      <th>anglez_diff_abs_clip5_std_rolling_median_100_shift_1000</th>\n",
       "      <th>same_count_rolling_median_100_shift_1000</th>\n",
       "      <th>enmo_rolling_square_mean_100_shift_1000</th>\n",
       "      <th>anglez_diff_abs_clip5_rolling_square_mean_100_shift_1000</th>\n",
       "      <th>enmo_std_rolling_square_mean_100_shift_1000</th>\n",
       "      <th>anglez_diff_abs_clip5_std_rolling_square_mean_100_shift_1000</th>\n",
       "      <th>same_count_rolling_square_mean_100_shift_1000</th>\n",
       "      <th>reduce_step</th>\n",
       "      <th>fold</th>\n",
       "    </tr>\n",
       "  </thead>\n",
       "  <tbody>\n",
       "    <tr>\n",
       "      <th>55</th>\n",
       "      <td>-88.1250</td>\n",
       "      <td>0.067688</td>\n",
       "      <td>0.067688</td>\n",
       "      <td>-13.195312</td>\n",
       "      <td>0.028885</td>\n",
       "      <td>0.000187</td>\n",
       "      <td>0.031830</td>\n",
       "      <td>627.5</td>\n",
       "      <td>0.0</td>\n",
       "      <td>47427.5</td>\n",
       "      <td>...</td>\n",
       "      <td>NaN</td>\n",
       "      <td>NaN</td>\n",
       "      <td>NaN</td>\n",
       "      <td>NaN</td>\n",
       "      <td>NaN</td>\n",
       "      <td>NaN</td>\n",
       "      <td>NaN</td>\n",
       "      <td>NaN</td>\n",
       "      <td>665</td>\n",
       "      <td>3</td>\n",
       "    </tr>\n",
       "    <tr>\n",
       "      <th>56</th>\n",
       "      <td>-88.1250</td>\n",
       "      <td>0.062500</td>\n",
       "      <td>0.062500</td>\n",
       "      <td>-13.039062</td>\n",
       "      <td>0.028732</td>\n",
       "      <td>0.000293</td>\n",
       "      <td>0.025177</td>\n",
       "      <td>687.5</td>\n",
       "      <td>0.0</td>\n",
       "      <td>47487.5</td>\n",
       "      <td>...</td>\n",
       "      <td>NaN</td>\n",
       "      <td>NaN</td>\n",
       "      <td>NaN</td>\n",
       "      <td>NaN</td>\n",
       "      <td>NaN</td>\n",
       "      <td>NaN</td>\n",
       "      <td>NaN</td>\n",
       "      <td>NaN</td>\n",
       "      <td>677</td>\n",
       "      <td>3</td>\n",
       "    </tr>\n",
       "    <tr>\n",
       "      <th>57</th>\n",
       "      <td>-88.8750</td>\n",
       "      <td>0.140625</td>\n",
       "      <td>0.140625</td>\n",
       "      <td>-2.054688</td>\n",
       "      <td>0.029480</td>\n",
       "      <td>0.000575</td>\n",
       "      <td>0.077698</td>\n",
       "      <td>747.5</td>\n",
       "      <td>0.0</td>\n",
       "      <td>47547.5</td>\n",
       "      <td>...</td>\n",
       "      <td>NaN</td>\n",
       "      <td>NaN</td>\n",
       "      <td>NaN</td>\n",
       "      <td>NaN</td>\n",
       "      <td>NaN</td>\n",
       "      <td>NaN</td>\n",
       "      <td>NaN</td>\n",
       "      <td>NaN</td>\n",
       "      <td>689</td>\n",
       "      <td>3</td>\n",
       "    </tr>\n",
       "    <tr>\n",
       "      <th>58</th>\n",
       "      <td>-89.3125</td>\n",
       "      <td>0.000000</td>\n",
       "      <td>0.000000</td>\n",
       "      <td>-14.140625</td>\n",
       "      <td>0.029739</td>\n",
       "      <td>0.000210</td>\n",
       "      <td>0.109192</td>\n",
       "      <td>807.5</td>\n",
       "      <td>0.0</td>\n",
       "      <td>47607.5</td>\n",
       "      <td>...</td>\n",
       "      <td>NaN</td>\n",
       "      <td>NaN</td>\n",
       "      <td>NaN</td>\n",
       "      <td>NaN</td>\n",
       "      <td>NaN</td>\n",
       "      <td>NaN</td>\n",
       "      <td>NaN</td>\n",
       "      <td>NaN</td>\n",
       "      <td>701</td>\n",
       "      <td>3</td>\n",
       "    </tr>\n",
       "    <tr>\n",
       "      <th>59</th>\n",
       "      <td>-89.2500</td>\n",
       "      <td>0.104187</td>\n",
       "      <td>0.104187</td>\n",
       "      <td>-6.000000</td>\n",
       "      <td>0.029984</td>\n",
       "      <td>0.000322</td>\n",
       "      <td>0.098938</td>\n",
       "      <td>867.5</td>\n",
       "      <td>0.0</td>\n",
       "      <td>47667.5</td>\n",
       "      <td>...</td>\n",
       "      <td>NaN</td>\n",
       "      <td>NaN</td>\n",
       "      <td>NaN</td>\n",
       "      <td>NaN</td>\n",
       "      <td>NaN</td>\n",
       "      <td>NaN</td>\n",
       "      <td>NaN</td>\n",
       "      <td>NaN</td>\n",
       "      <td>713</td>\n",
       "      <td>3</td>\n",
       "    </tr>\n",
       "  </tbody>\n",
       "</table>\n",
       "<p>5 rows × 1627 columns</p>\n",
       "</div>"
      ],
      "text/plain": [
       "     anglez  anglez_diff_abs  anglez_diff_abs_clip5  anglez_mean      enmo  \\\n",
       "55 -88.1250         0.067688               0.067688   -13.195312  0.028885   \n",
       "56 -88.1250         0.062500               0.062500   -13.039062  0.028732   \n",
       "57 -88.8750         0.140625               0.140625    -2.054688  0.029480   \n",
       "58 -89.3125         0.000000               0.000000   -14.140625  0.029739   \n",
       "59 -89.2500         0.104187               0.104187    -6.000000  0.029984   \n",
       "\n",
       "    enmo_diff_abs  enmo_mean  minutes  same_count  total_seconds  ...  \\\n",
       "55       0.000187   0.031830    627.5         0.0        47427.5  ...   \n",
       "56       0.000293   0.025177    687.5         0.0        47487.5  ...   \n",
       "57       0.000575   0.077698    747.5         0.0        47547.5  ...   \n",
       "58       0.000210   0.109192    807.5         0.0        47607.5  ...   \n",
       "59       0.000322   0.098938    867.5         0.0        47667.5  ...   \n",
       "\n",
       "    enmo_std_rolling_median_100_shift_1000  \\\n",
       "55                                     NaN   \n",
       "56                                     NaN   \n",
       "57                                     NaN   \n",
       "58                                     NaN   \n",
       "59                                     NaN   \n",
       "\n",
       "    anglez_diff_abs_clip5_std_rolling_median_100_shift_1000  \\\n",
       "55                                                NaN         \n",
       "56                                                NaN         \n",
       "57                                                NaN         \n",
       "58                                                NaN         \n",
       "59                                                NaN         \n",
       "\n",
       "    same_count_rolling_median_100_shift_1000  \\\n",
       "55                                       NaN   \n",
       "56                                       NaN   \n",
       "57                                       NaN   \n",
       "58                                       NaN   \n",
       "59                                       NaN   \n",
       "\n",
       "    enmo_rolling_square_mean_100_shift_1000  \\\n",
       "55                                      NaN   \n",
       "56                                      NaN   \n",
       "57                                      NaN   \n",
       "58                                      NaN   \n",
       "59                                      NaN   \n",
       "\n",
       "    anglez_diff_abs_clip5_rolling_square_mean_100_shift_1000  \\\n",
       "55                                                NaN          \n",
       "56                                                NaN          \n",
       "57                                                NaN          \n",
       "58                                                NaN          \n",
       "59                                                NaN          \n",
       "\n",
       "    enmo_std_rolling_square_mean_100_shift_1000  \\\n",
       "55                                          NaN   \n",
       "56                                          NaN   \n",
       "57                                          NaN   \n",
       "58                                          NaN   \n",
       "59                                          NaN   \n",
       "\n",
       "    anglez_diff_abs_clip5_std_rolling_square_mean_100_shift_1000  \\\n",
       "55                                                NaN              \n",
       "56                                                NaN              \n",
       "57                                                NaN              \n",
       "58                                                NaN              \n",
       "59                                                NaN              \n",
       "\n",
       "    same_count_rolling_square_mean_100_shift_1000  reduce_step  fold  \n",
       "55                                            NaN          665     3  \n",
       "56                                            NaN          677     3  \n",
       "57                                            NaN          689     3  \n",
       "58                                            NaN          701     3  \n",
       "59                                            NaN          713     3  \n",
       "\n",
       "[5 rows x 1627 columns]"
      ]
     },
     "metadata": {},
     "output_type": "display_data"
    },
    {
     "data": {
      "text/plain": [
       "(948910, 1627)"
      ]
     },
     "execution_count": 2,
     "metadata": {},
     "output_type": "execute_result"
    }
   ],
   "source": [
    "# 特徴生成\n",
    "files = glob(f\"{CFG['dataset']['step_csv_dir']}/*.parquet\")\n",
    "train, features = generate_features(files)\n",
    "\n",
    "# cv splitとマージ\n",
    "cv_split = pd.read_csv(CFG['dataset']['cv_split_path'])\n",
    "train[\"fold\"] = train[\"series_id\"].map(cv_split.set_index(\"series_id\")[\"fold\"])\n",
    "display(train.head(5))\n",
    "train.shape"
   ]
  },
  {
   "cell_type": "code",
   "execution_count": 3,
   "metadata": {},
   "outputs": [
    {
     "name": "stderr",
     "output_type": "stream",
     "text": [
      "  0%|          | 0/5 [00:00<?, ?it/s]"
     ]
    },
    {
     "name": "stdout",
     "output_type": "stream",
     "text": [
      "== fold 0 ==\n",
      "[100]\tvalid_0's rmse: 1.12144\tvalid_0's l2: 1.25763\n",
      "[200]\tvalid_0's rmse: 1.01057\tvalid_0's l2: 1.02126\n",
      "[300]\tvalid_0's rmse: 0.982432\tvalid_0's l2: 0.965173\n",
      "[400]\tvalid_0's rmse: 0.974073\tvalid_0's l2: 0.948819\n",
      "[500]\tvalid_0's rmse: 0.971195\tvalid_0's l2: 0.943219\n",
      "[600]\tvalid_0's rmse: 0.969985\tvalid_0's l2: 0.940871\n",
      "[700]\tvalid_0's rmse: 0.969231\tvalid_0's l2: 0.93941\n",
      "[800]\tvalid_0's rmse: 0.968628\tvalid_0's l2: 0.938241\n",
      "[900]\tvalid_0's rmse: 0.968122\tvalid_0's l2: 0.937261\n",
      "[1000]\tvalid_0's rmse: 0.967818\tvalid_0's l2: 0.936671\n",
      "[1100]\tvalid_0's rmse: 0.967355\tvalid_0's l2: 0.935775\n",
      "[1200]\tvalid_0's rmse: 0.96707\tvalid_0's l2: 0.935224\n",
      "[1300]\tvalid_0's rmse: 0.966893\tvalid_0's l2: 0.934883\n",
      "[1400]\tvalid_0's rmse: 0.966399\tvalid_0's l2: 0.933927\n",
      "[1500]\tvalid_0's rmse: 0.966131\tvalid_0's l2: 0.933408\n",
      "[1600]\tvalid_0's rmse: 0.965994\tvalid_0's l2: 0.933144\n",
      "[1700]\tvalid_0's rmse: 0.965763\tvalid_0's l2: 0.932699\n",
      "[1800]\tvalid_0's rmse: 0.965678\tvalid_0's l2: 0.932534\n",
      "[1900]\tvalid_0's rmse: 0.965499\tvalid_0's l2: 0.932188\n",
      "[2000]\tvalid_0's rmse: 0.965261\tvalid_0's l2: 0.931729\n",
      "[2100]\tvalid_0's rmse: 0.965118\tvalid_0's l2: 0.931452\n",
      "[2200]\tvalid_0's rmse: 0.964925\tvalid_0's l2: 0.931081\n",
      "[2300]\tvalid_0's rmse: 0.964834\tvalid_0's l2: 0.930904\n",
      "[2400]\tvalid_0's rmse: 0.964743\tvalid_0's l2: 0.930729\n",
      "[2500]\tvalid_0's rmse: 0.964713\tvalid_0's l2: 0.930671\n"
     ]
    },
    {
     "name": "stderr",
     "output_type": "stream",
     "text": [
      " 20%|██        | 1/5 [04:54<19:38, 294.51s/it]"
     ]
    },
    {
     "name": "stdout",
     "output_type": "stream",
     "text": [
      "== fold 1 ==\n",
      "[100]\tvalid_0's rmse: 1.13835\tvalid_0's l2: 1.29585\n",
      "[200]\tvalid_0's rmse: 1.03342\tvalid_0's l2: 1.06796\n",
      "[300]\tvalid_0's rmse: 1.00533\tvalid_0's l2: 1.01068\n",
      "[400]\tvalid_0's rmse: 0.997023\tvalid_0's l2: 0.994054\n",
      "[500]\tvalid_0's rmse: 0.99344\tvalid_0's l2: 0.986923\n",
      "[600]\tvalid_0's rmse: 0.992212\tvalid_0's l2: 0.984485\n",
      "[700]\tvalid_0's rmse: 0.991202\tvalid_0's l2: 0.982482\n",
      "[800]\tvalid_0's rmse: 0.990595\tvalid_0's l2: 0.981278\n",
      "[900]\tvalid_0's rmse: 0.989963\tvalid_0's l2: 0.980026\n",
      "[1000]\tvalid_0's rmse: 0.989383\tvalid_0's l2: 0.978878\n",
      "[1100]\tvalid_0's rmse: 0.98911\tvalid_0's l2: 0.978338\n",
      "[1200]\tvalid_0's rmse: 0.988774\tvalid_0's l2: 0.977675\n",
      "[1300]\tvalid_0's rmse: 0.988499\tvalid_0's l2: 0.977131\n",
      "[1400]\tvalid_0's rmse: 0.988184\tvalid_0's l2: 0.976507\n",
      "[1500]\tvalid_0's rmse: 0.988106\tvalid_0's l2: 0.976354\n",
      "[1600]\tvalid_0's rmse: 0.987856\tvalid_0's l2: 0.97586\n",
      "[1700]\tvalid_0's rmse: 0.987682\tvalid_0's l2: 0.975516\n",
      "[1800]\tvalid_0's rmse: 0.987398\tvalid_0's l2: 0.974955\n",
      "[1900]\tvalid_0's rmse: 0.987203\tvalid_0's l2: 0.97457\n",
      "[2000]\tvalid_0's rmse: 0.987157\tvalid_0's l2: 0.974479\n",
      "[2100]\tvalid_0's rmse: 0.987079\tvalid_0's l2: 0.974325\n",
      "[2200]\tvalid_0's rmse: 0.986962\tvalid_0's l2: 0.974095\n",
      "[2300]\tvalid_0's rmse: 0.986782\tvalid_0's l2: 0.973738\n",
      "[2400]\tvalid_0's rmse: 0.986706\tvalid_0's l2: 0.973589\n",
      "[2500]\tvalid_0's rmse: 0.986638\tvalid_0's l2: 0.973455\n",
      "[2600]\tvalid_0's rmse: 0.98645\tvalid_0's l2: 0.973084\n",
      "[2700]\tvalid_0's rmse: 0.986329\tvalid_0's l2: 0.972845\n",
      "[2800]\tvalid_0's rmse: 0.986165\tvalid_0's l2: 0.972521\n",
      "[2900]\tvalid_0's rmse: 0.98602\tvalid_0's l2: 0.972235\n",
      "[3000]\tvalid_0's rmse: 0.985871\tvalid_0's l2: 0.971941\n",
      "[3100]\tvalid_0's rmse: 0.985668\tvalid_0's l2: 0.97154\n",
      "[3200]\tvalid_0's rmse: 0.985631\tvalid_0's l2: 0.971469\n",
      "[3300]\tvalid_0's rmse: 0.985677\tvalid_0's l2: 0.971559\n"
     ]
    },
    {
     "name": "stderr",
     "output_type": "stream",
     "text": [
      " 40%|████      | 2/5 [10:54<16:39, 333.21s/it]"
     ]
    },
    {
     "name": "stdout",
     "output_type": "stream",
     "text": [
      "== fold 2 ==\n",
      "[100]\tvalid_0's rmse: 1.203\tvalid_0's l2: 1.44721\n",
      "[200]\tvalid_0's rmse: 1.09764\tvalid_0's l2: 1.2048\n",
      "[300]\tvalid_0's rmse: 1.06848\tvalid_0's l2: 1.14165\n",
      "[400]\tvalid_0's rmse: 1.05951\tvalid_0's l2: 1.12256\n",
      "[500]\tvalid_0's rmse: 1.05621\tvalid_0's l2: 1.11559\n",
      "[600]\tvalid_0's rmse: 1.05474\tvalid_0's l2: 1.11247\n",
      "[700]\tvalid_0's rmse: 1.0538\tvalid_0's l2: 1.11049\n",
      "[800]\tvalid_0's rmse: 1.05327\tvalid_0's l2: 1.10937\n",
      "[900]\tvalid_0's rmse: 1.05287\tvalid_0's l2: 1.10854\n",
      "[1000]\tvalid_0's rmse: 1.05235\tvalid_0's l2: 1.10744\n",
      "[1100]\tvalid_0's rmse: 1.05219\tvalid_0's l2: 1.10711\n",
      "[1200]\tvalid_0's rmse: 1.05184\tvalid_0's l2: 1.10637\n",
      "[1300]\tvalid_0's rmse: 1.05161\tvalid_0's l2: 1.10589\n",
      "[1400]\tvalid_0's rmse: 1.0514\tvalid_0's l2: 1.10545\n",
      "[1500]\tvalid_0's rmse: 1.05125\tvalid_0's l2: 1.10513\n",
      "[1600]\tvalid_0's rmse: 1.05117\tvalid_0's l2: 1.10495\n",
      "[1700]\tvalid_0's rmse: 1.05103\tvalid_0's l2: 1.10466\n",
      "[1800]\tvalid_0's rmse: 1.05099\tvalid_0's l2: 1.10458\n",
      "[1900]\tvalid_0's rmse: 1.05084\tvalid_0's l2: 1.10427\n",
      "[2000]\tvalid_0's rmse: 1.05072\tvalid_0's l2: 1.10401\n",
      "[2100]\tvalid_0's rmse: 1.05052\tvalid_0's l2: 1.10359\n",
      "[2200]\tvalid_0's rmse: 1.05051\tvalid_0's l2: 1.10358\n"
     ]
    },
    {
     "name": "stderr",
     "output_type": "stream",
     "text": [
      " 60%|██████    | 3/5 [20:20<14:38, 439.45s/it]"
     ]
    },
    {
     "name": "stdout",
     "output_type": "stream",
     "text": [
      "== fold 3 ==\n",
      "[100]\tvalid_0's rmse: 1.1534\tvalid_0's l2: 1.33032\n",
      "[200]\tvalid_0's rmse: 1.04547\tvalid_0's l2: 1.09302\n",
      "[300]\tvalid_0's rmse: 1.01863\tvalid_0's l2: 1.0376\n",
      "[400]\tvalid_0's rmse: 1.01143\tvalid_0's l2: 1.02298\n",
      "[500]\tvalid_0's rmse: 1.00843\tvalid_0's l2: 1.01692\n",
      "[600]\tvalid_0's rmse: 1.007\tvalid_0's l2: 1.01406\n",
      "[700]\tvalid_0's rmse: 1.00567\tvalid_0's l2: 1.01137\n",
      "[800]\tvalid_0's rmse: 1.00495\tvalid_0's l2: 1.00993\n",
      "[900]\tvalid_0's rmse: 1.00446\tvalid_0's l2: 1.00894\n",
      "[1000]\tvalid_0's rmse: 1.00378\tvalid_0's l2: 1.00757\n",
      "[1100]\tvalid_0's rmse: 1.0034\tvalid_0's l2: 1.00682\n",
      "[1200]\tvalid_0's rmse: 1.00315\tvalid_0's l2: 1.00632\n",
      "[1300]\tvalid_0's rmse: 1.00278\tvalid_0's l2: 1.00557\n",
      "[1400]\tvalid_0's rmse: 1.00257\tvalid_0's l2: 1.00514\n",
      "[1500]\tvalid_0's rmse: 1.00231\tvalid_0's l2: 1.00462\n",
      "[1600]\tvalid_0's rmse: 1.00227\tvalid_0's l2: 1.00455\n",
      "[1700]\tvalid_0's rmse: 1.00219\tvalid_0's l2: 1.00438\n",
      "[1800]\tvalid_0's rmse: 1.00198\tvalid_0's l2: 1.00396\n"
     ]
    },
    {
     "name": "stderr",
     "output_type": "stream",
     "text": [
      " 80%|████████  | 4/5 [24:24<06:02, 362.39s/it]"
     ]
    },
    {
     "name": "stdout",
     "output_type": "stream",
     "text": [
      "== fold 4 ==\n",
      "[100]\tvalid_0's rmse: 1.17712\tvalid_0's l2: 1.3856\n",
      "[200]\tvalid_0's rmse: 1.07086\tvalid_0's l2: 1.14673\n",
      "[300]\tvalid_0's rmse: 1.04448\tvalid_0's l2: 1.09093\n",
      "[400]\tvalid_0's rmse: 1.03804\tvalid_0's l2: 1.07753\n",
      "[500]\tvalid_0's rmse: 1.03564\tvalid_0's l2: 1.07255\n",
      "[600]\tvalid_0's rmse: 1.03464\tvalid_0's l2: 1.07048\n",
      "[700]\tvalid_0's rmse: 1.034\tvalid_0's l2: 1.06915\n",
      "[800]\tvalid_0's rmse: 1.03338\tvalid_0's l2: 1.06787\n",
      "[900]\tvalid_0's rmse: 1.03297\tvalid_0's l2: 1.06703\n",
      "[1000]\tvalid_0's rmse: 1.03251\tvalid_0's l2: 1.06607\n",
      "[1100]\tvalid_0's rmse: 1.0324\tvalid_0's l2: 1.06585\n",
      "[1200]\tvalid_0's rmse: 1.03204\tvalid_0's l2: 1.06511\n",
      "[1300]\tvalid_0's rmse: 1.03175\tvalid_0's l2: 1.0645\n",
      "[1400]\tvalid_0's rmse: 1.03161\tvalid_0's l2: 1.06421\n",
      "[1500]\tvalid_0's rmse: 1.03154\tvalid_0's l2: 1.06408\n"
     ]
    },
    {
     "name": "stderr",
     "output_type": "stream",
     "text": [
      "100%|██████████| 5/5 [37:14<00:00, 446.92s/it]\n",
      "  0%|          | 0/5 [00:00<?, ?it/s]"
     ]
    },
    {
     "name": "stdout",
     "output_type": "stream",
     "text": [
      "== fold 0 ==\n",
      "[100]\tvalid_0's rmse: 1.11099\tvalid_0's l2: 1.23429\n",
      "[200]\tvalid_0's rmse: 0.998509\tvalid_0's l2: 0.99702\n",
      "[300]\tvalid_0's rmse: 0.970794\tvalid_0's l2: 0.942441\n",
      "[400]\tvalid_0's rmse: 0.962614\tvalid_0's l2: 0.926626\n",
      "[500]\tvalid_0's rmse: 0.959879\tvalid_0's l2: 0.921368\n",
      "[600]\tvalid_0's rmse: 0.958997\tvalid_0's l2: 0.919676\n",
      "[700]\tvalid_0's rmse: 0.958565\tvalid_0's l2: 0.918847\n",
      "[800]\tvalid_0's rmse: 0.958049\tvalid_0's l2: 0.917858\n",
      "[900]\tvalid_0's rmse: 0.957521\tvalid_0's l2: 0.916846\n",
      "[1000]\tvalid_0's rmse: 0.957029\tvalid_0's l2: 0.915904\n",
      "[1100]\tvalid_0's rmse: 0.956726\tvalid_0's l2: 0.915324\n",
      "[1200]\tvalid_0's rmse: 0.956379\tvalid_0's l2: 0.914661\n",
      "[1300]\tvalid_0's rmse: 0.956031\tvalid_0's l2: 0.913996\n",
      "[1400]\tvalid_0's rmse: 0.955953\tvalid_0's l2: 0.913846\n",
      "[1500]\tvalid_0's rmse: 0.955741\tvalid_0's l2: 0.913441\n",
      "[1600]\tvalid_0's rmse: 0.955571\tvalid_0's l2: 0.913116\n",
      "[1700]\tvalid_0's rmse: 0.955423\tvalid_0's l2: 0.912834\n",
      "[1800]\tvalid_0's rmse: 0.955244\tvalid_0's l2: 0.912492\n",
      "[1900]\tvalid_0's rmse: 0.955072\tvalid_0's l2: 0.912162\n",
      "[2000]\tvalid_0's rmse: 0.955005\tvalid_0's l2: 0.912035\n",
      "[2100]\tvalid_0's rmse: 0.95488\tvalid_0's l2: 0.911796\n",
      "[2200]\tvalid_0's rmse: 0.954779\tvalid_0's l2: 0.911602\n",
      "[2300]\tvalid_0's rmse: 0.954714\tvalid_0's l2: 0.911478\n",
      "[2400]\tvalid_0's rmse: 0.954685\tvalid_0's l2: 0.911424\n"
     ]
    },
    {
     "name": "stderr",
     "output_type": "stream",
     "text": [
      " 20%|██        | 1/5 [18:01<1:12:06, 1081.64s/it]"
     ]
    },
    {
     "name": "stdout",
     "output_type": "stream",
     "text": [
      "== fold 1 ==\n",
      "[100]\tvalid_0's rmse: 1.10957\tvalid_0's l2: 1.23114\n",
      "[200]\tvalid_0's rmse: 0.993764\tvalid_0's l2: 0.987566\n",
      "[300]\tvalid_0's rmse: 0.96074\tvalid_0's l2: 0.923021\n",
      "[400]\tvalid_0's rmse: 0.947554\tvalid_0's l2: 0.897858\n",
      "[500]\tvalid_0's rmse: 0.943811\tvalid_0's l2: 0.890779\n",
      "[600]\tvalid_0's rmse: 0.94222\tvalid_0's l2: 0.887779\n",
      "[700]\tvalid_0's rmse: 0.94094\tvalid_0's l2: 0.885369\n",
      "[800]\tvalid_0's rmse: 0.94013\tvalid_0's l2: 0.883844\n",
      "[900]\tvalid_0's rmse: 0.939318\tvalid_0's l2: 0.882318\n",
      "[1000]\tvalid_0's rmse: 0.938797\tvalid_0's l2: 0.881341\n",
      "[1100]\tvalid_0's rmse: 0.938632\tvalid_0's l2: 0.881031\n",
      "[1200]\tvalid_0's rmse: 0.938263\tvalid_0's l2: 0.880338\n",
      "[1300]\tvalid_0's rmse: 0.938019\tvalid_0's l2: 0.879879\n",
      "[1400]\tvalid_0's rmse: 0.937791\tvalid_0's l2: 0.879452\n",
      "[1500]\tvalid_0's rmse: 0.937756\tvalid_0's l2: 0.879387\n",
      "[1600]\tvalid_0's rmse: 0.937637\tvalid_0's l2: 0.879163\n"
     ]
    },
    {
     "name": "stderr",
     "output_type": "stream",
     "text": [
      " 40%|████      | 2/5 [21:53<29:05, 581.88s/it]   "
     ]
    },
    {
     "name": "stdout",
     "output_type": "stream",
     "text": [
      "== fold 2 ==\n",
      "[100]\tvalid_0's rmse: 1.19569\tvalid_0's l2: 1.42967\n",
      "[200]\tvalid_0's rmse: 1.08836\tvalid_0's l2: 1.18453\n",
      "[300]\tvalid_0's rmse: 1.05811\tvalid_0's l2: 1.11961\n",
      "[400]\tvalid_0's rmse: 1.04824\tvalid_0's l2: 1.09881\n",
      "[500]\tvalid_0's rmse: 1.04526\tvalid_0's l2: 1.09258\n",
      "[600]\tvalid_0's rmse: 1.04415\tvalid_0's l2: 1.09025\n",
      "[700]\tvalid_0's rmse: 1.04329\tvalid_0's l2: 1.08845\n",
      "[800]\tvalid_0's rmse: 1.04275\tvalid_0's l2: 1.08732\n",
      "[900]\tvalid_0's rmse: 1.04221\tvalid_0's l2: 1.0862\n",
      "[1000]\tvalid_0's rmse: 1.04176\tvalid_0's l2: 1.08527\n",
      "[1100]\tvalid_0's rmse: 1.04154\tvalid_0's l2: 1.08481\n",
      "[1200]\tvalid_0's rmse: 1.04117\tvalid_0's l2: 1.08404\n",
      "[1300]\tvalid_0's rmse: 1.04092\tvalid_0's l2: 1.08351\n",
      "[1400]\tvalid_0's rmse: 1.0406\tvalid_0's l2: 1.08284\n",
      "[1500]\tvalid_0's rmse: 1.04051\tvalid_0's l2: 1.08267\n",
      "[1600]\tvalid_0's rmse: 1.04032\tvalid_0's l2: 1.08226\n",
      "[1700]\tvalid_0's rmse: 1.04025\tvalid_0's l2: 1.08211\n",
      "[1800]\tvalid_0's rmse: 1.04017\tvalid_0's l2: 1.08196\n",
      "[1900]\tvalid_0's rmse: 1.0399\tvalid_0's l2: 1.08139\n",
      "[2000]\tvalid_0's rmse: 1.03974\tvalid_0's l2: 1.08106\n",
      "[2100]\tvalid_0's rmse: 1.03958\tvalid_0's l2: 1.08073\n",
      "[2200]\tvalid_0's rmse: 1.03944\tvalid_0's l2: 1.08043\n",
      "[2300]\tvalid_0's rmse: 1.03938\tvalid_0's l2: 1.08031\n",
      "[2400]\tvalid_0's rmse: 1.03931\tvalid_0's l2: 1.08017\n"
     ]
    },
    {
     "name": "stderr",
     "output_type": "stream",
     "text": [
      " 60%|██████    | 3/5 [26:49<15:02, 451.16s/it]"
     ]
    },
    {
     "name": "stdout",
     "output_type": "stream",
     "text": [
      "== fold 3 ==\n",
      "[100]\tvalid_0's rmse: 1.15571\tvalid_0's l2: 1.33566\n",
      "[200]\tvalid_0's rmse: 1.06248\tvalid_0's l2: 1.12887\n",
      "[300]\tvalid_0's rmse: 1.04298\tvalid_0's l2: 1.0878\n",
      "[400]\tvalid_0's rmse: 1.03745\tvalid_0's l2: 1.07629\n",
      "[500]\tvalid_0's rmse: 1.03534\tvalid_0's l2: 1.07193\n",
      "[600]\tvalid_0's rmse: 1.03449\tvalid_0's l2: 1.07017\n",
      "[700]\tvalid_0's rmse: 1.03388\tvalid_0's l2: 1.06891\n",
      "[800]\tvalid_0's rmse: 1.03358\tvalid_0's l2: 1.06829\n",
      "[900]\tvalid_0's rmse: 1.03346\tvalid_0's l2: 1.06804\n",
      "[1000]\tvalid_0's rmse: 1.03322\tvalid_0's l2: 1.06754\n",
      "[1100]\tvalid_0's rmse: 1.03335\tvalid_0's l2: 1.06781\n"
     ]
    },
    {
     "name": "stderr",
     "output_type": "stream",
     "text": [
      " 80%|████████  | 4/5 [30:00<05:48, 348.70s/it]"
     ]
    },
    {
     "name": "stdout",
     "output_type": "stream",
     "text": [
      "== fold 4 ==\n",
      "[100]\tvalid_0's rmse: 1.18123\tvalid_0's l2: 1.39531\n",
      "[200]\tvalid_0's rmse: 1.08571\tvalid_0's l2: 1.17878\n",
      "[300]\tvalid_0's rmse: 1.06185\tvalid_0's l2: 1.12752\n",
      "[400]\tvalid_0's rmse: 1.05445\tvalid_0's l2: 1.11187\n",
      "[500]\tvalid_0's rmse: 1.05225\tvalid_0's l2: 1.10723\n",
      "[600]\tvalid_0's rmse: 1.05092\tvalid_0's l2: 1.10443\n",
      "[700]\tvalid_0's rmse: 1.05002\tvalid_0's l2: 1.10253\n",
      "[800]\tvalid_0's rmse: 1.04946\tvalid_0's l2: 1.10136\n",
      "[900]\tvalid_0's rmse: 1.04895\tvalid_0's l2: 1.10029\n",
      "[1000]\tvalid_0's rmse: 1.04867\tvalid_0's l2: 1.0997\n",
      "[1100]\tvalid_0's rmse: 1.04837\tvalid_0's l2: 1.09908\n",
      "[1200]\tvalid_0's rmse: 1.04801\tvalid_0's l2: 1.09832\n",
      "[1300]\tvalid_0's rmse: 1.04759\tvalid_0's l2: 1.09744\n",
      "[1400]\tvalid_0's rmse: 1.04741\tvalid_0's l2: 1.09706\n",
      "[1500]\tvalid_0's rmse: 1.04716\tvalid_0's l2: 1.09654\n",
      "[1600]\tvalid_0's rmse: 1.04686\tvalid_0's l2: 1.09592\n",
      "[1700]\tvalid_0's rmse: 1.04672\tvalid_0's l2: 1.09562\n",
      "[1800]\tvalid_0's rmse: 1.04671\tvalid_0's l2: 1.0956\n",
      "[1900]\tvalid_0's rmse: 1.04653\tvalid_0's l2: 1.09523\n",
      "[2000]\tvalid_0's rmse: 1.04629\tvalid_0's l2: 1.09472\n",
      "[2100]\tvalid_0's rmse: 1.04602\tvalid_0's l2: 1.09415\n",
      "[2200]\tvalid_0's rmse: 1.04571\tvalid_0's l2: 1.0935\n",
      "[2300]\tvalid_0's rmse: 1.04566\tvalid_0's l2: 1.0934\n",
      "[2400]\tvalid_0's rmse: 1.04543\tvalid_0's l2: 1.09292\n",
      "[2500]\tvalid_0's rmse: 1.04541\tvalid_0's l2: 1.09288\n"
     ]
    },
    {
     "name": "stderr",
     "output_type": "stream",
     "text": [
      "100%|██████████| 5/5 [34:43<00:00, 416.69s/it]\n"
     ]
    }
   ],
   "source": [
    "# 学習\n",
    "dfs = []\n",
    "for event in [\"wakeup\", \"onset\"]:\n",
    "    trn_oof, models = fit_lgb(\n",
    "        X=train, \n",
    "        y=train[f\"{event}_target\"], \n",
    "        folds=train[\"fold\"].astype(int), \n",
    "        features=features.all_features(),\n",
    "        params=CFG[MODEL_NAME][\"lightgbm\"], \n",
    "        es_rounds=100,\n",
    "    )\n",
    "    train[\"score\"] = trn_oof\n",
    "    train[\"event\"] = event\n",
    "    dfs.append(train[[\"series_id\", \"step\", \"score\", \"event\"]])\n",
    "\n",
    "    # 保存\n",
    "    for i, model in enumerate(models):\n",
    "        joblib.dump(model, os.path.join(CFG[\"output_dir\"], f'lgb_{event}_fold_{i}.pkl'))\n",
    "del train\n",
    "gc.collect()\n",
    "train = pd.concat(dfs, axis=0)\n",
    "train[\"step\"] = train[\"step\"].astype(int)\n",
    "train = train.sort_values([\"series_id\", \"step\"]).reset_index(drop=True)\n",
    "\n",
    "with open(os.path.join(CFG[\"output_dir\"], \"features.pkl\"), \"wb\") as f:\n",
    "    pickle.dump(features, f)\n",
    "train.to_csv(os.path.join(CFG[\"output_dir\"], \"oof.csv\"), index=False)"
   ]
  },
  {
   "cell_type": "markdown",
   "metadata": {},
   "source": [
    "## Dynamic-Range NMS"
   ]
  },
  {
   "cell_type": "code",
   "execution_count": 4,
   "metadata": {},
   "outputs": [
    {
     "data": {
      "text/plain": [
       "<AxesSubplot: >"
      ]
     },
     "execution_count": 4,
     "metadata": {},
     "output_type": "execute_result"
    },
    {
     "data": {
      "image/png": "[encoded data removed]",
      "text/plain": [
       "<Figure size 640x480 with 1 Axes>"
      ]
     },
     "metadata": {},
     "output_type": "display_data"
    }
   ],
   "source": [
    "train = train[train[\"score\"] > 0.005]\n",
    "train[\"score\"].hist()"
   ]
  },
  {
   "cell_type": "code",
   "execution_count": 5,
   "metadata": {},
   "outputs": [
    {
     "name": "stderr",
     "output_type": "stream",
     "text": [
      "100%|██████████| 277/277 [00:05<00:00, 48.31it/s]\n"
     ]
    }
   ],
   "source": [
    "from utils.postprocess import dynamic_range_nms\n",
    "from multiprocessing import Pool\n",
    "from tqdm import tqdm\n",
    "\n",
    "train[\"step\"] = train[\"step\"].astype(int)\n",
    "\n",
    "groups = [group for _, group in train.groupby(\"series_id\")]\n",
    "with Pool(30) as p:  \n",
    "    results = list(tqdm(p.imap(dynamic_range_nms, groups), total=len(groups)))\n",
    "sub = pd.concat(results)\n",
    "sub[\"score\"] = sub[\"reduced_score\"]"
   ]
  },
  {
   "cell_type": "code",
   "execution_count": 6,
   "metadata": {},
   "outputs": [
    {
     "name": "stdout",
     "output_type": "stream",
     "text": [
      "score: 0.7934\n"
     ]
    },
    {
     "data": {
      "text/plain": [
       "event   tolerance\n",
       "onset   12           0.275481\n",
       "        36           0.704665\n",
       "        60           0.793876\n",
       "        90           0.830553\n",
       "        120          0.854164\n",
       "        150          0.862944\n",
       "        180          0.871999\n",
       "        240          0.885382\n",
       "        300          0.890276\n",
       "        360          0.896683\n",
       "wakeup  12           0.326584\n",
       "        36           0.716976\n",
       "        60           0.801461\n",
       "        90           0.840804\n",
       "        120          0.856604\n",
       "        150          0.869176\n",
       "        180          0.879450\n",
       "        240          0.892564\n",
       "        300          0.904544\n",
       "        360          0.913195\n",
       "dtype: float64"
      ]
     },
     "metadata": {},
     "output_type": "display_data"
    }
   ],
   "source": [
    "# スコア計算\n",
    "labels = pd.read_csv(f\"{CFG['dataset']['competition_dir']}/train_events.csv\").dropna()\n",
    "score, ap_table = compute_comptetition_metric(labels, sub)\n",
    "\n",
    "print(f\"score: {score:.4f}\")\n",
    "display(ap_table)\n",
    "sub.to_csv(os.path.join(CFG[\"output_dir\"], \"submission_after_nms.csv\"), index=False)"
   ]
  },
  {
   "cell_type": "code",
   "execution_count": null,
   "metadata": {},
   "outputs": [],
   "source": []
  },
  {
   "cell_type": "code",
   "execution_count": null,
   "metadata": {},
   "outputs": [],
   "source": []
  }
 ],
 "metadata": {
  "kernelspec": {
   "display_name": "base",
   "language": "python",
   "name": "python3"
  },
  "language_info": {
   "codemirror_mode": {
    "name": "ipython",
    "version": 3
   },
   "file_extension": ".py",
   "mimetype": "text/x-python",
   "name": "python",
   "nbconvert_exporter": "python",
   "pygments_lexer": "ipython3",
   "version": "3.10.10"
  },
  "orig_nbformat": 4
 },
 "nbformat": 4,
 "nbformat_minor": 2
}
