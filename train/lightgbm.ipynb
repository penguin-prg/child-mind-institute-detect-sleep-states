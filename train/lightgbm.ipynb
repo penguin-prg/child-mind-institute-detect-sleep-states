{
 "cells": [
  {
   "cell_type": "code",
   "execution_count": 1,
   "metadata": {},
   "outputs": [
    {
     "name": "stderr",
     "output_type": "stream",
     "text": [
      "2023-10-31 00:18:30.916342: I tensorflow/core/platform/cpu_feature_guard.cc:193] This TensorFlow binary is optimized with oneAPI Deep Neural Network Library (oneDNN) to use the following CPU instructions in performance-critical operations:  AVX2 AVX_VNNI FMA\n",
      "To enable them in other operations, rebuild TensorFlow with the appropriate compiler flags.\n",
      "2023-10-31 00:18:31.394790: I tensorflow/core/util/port.cc:104] oneDNN custom operations are on. You may see slightly different numerical results due to floating-point round-off errors from different computation orders. To turn them off, set the environment variable `TF_ENABLE_ONEDNN_OPTS=0`.\n",
      "2023-10-31 00:18:33.082335: W tensorflow/compiler/xla/stream_executor/platform/default/dso_loader.cc:64] Could not load dynamic library 'libnvinfer.so.7'; dlerror: libnvinfer.so.7: cannot open shared object file: No such file or directory; LD_LIBRARY_PATH: /usr/local/cuda/lib64:/usr/local/cuda/lib:/usr/local/lib/x86_64-linux-gnu:/usr/local/nvidia/lib:/usr/local/nvidia/lib64:/usr/local/nvidia/lib:/usr/local/nvidia/lib64:/opt/conda/lib\n",
      "2023-10-31 00:18:33.083397: W tensorflow/compiler/xla/stream_executor/platform/default/dso_loader.cc:64] Could not load dynamic library 'libnvinfer_plugin.so.7'; dlerror: libnvinfer_plugin.so.7: cannot open shared object file: No such file or directory; LD_LIBRARY_PATH: /usr/local/cuda/lib64:/usr/local/cuda/lib:/usr/local/lib/x86_64-linux-gnu:/usr/local/nvidia/lib:/usr/local/nvidia/lib64:/usr/local/nvidia/lib:/usr/local/nvidia/lib64:/opt/conda/lib\n",
      "2023-10-31 00:18:33.083412: W tensorflow/compiler/tf2tensorrt/utils/py_utils.cc:38] TF-TRT Warning: Cannot dlopen some TensorRT libraries. If you would like to use Nvidia GPU with TensorRT, please make sure the missing libraries mentioned above are installed properly.\n"
     ]
    },
    {
     "name": "stdout",
     "output_type": "stream",
     "text": [
      "exp_110\n"
     ]
    }
   ],
   "source": [
    "import pandas as pd\n",
    "import yaml\n",
    "import sys\n",
    "import os\n",
    "from glob import glob\n",
    "from pathlib import Path\n",
    "import gc\n",
    "import pickle\n",
    "import joblib\n",
    "\n",
    "import warnings\n",
    "warnings.filterwarnings('ignore')\n",
    "\n",
    "sys.path.append('/kaggle/src')\n",
    "from utils.lgb import fit_lgb\n",
    "from utils.metric import compute_comptetition_metric\n",
    "from utils.postprocess import post_process\n",
    "from utils.set_seed import seed_base\n",
    "from feature_engineering.fe_xgb import generate_features\n",
    "\n",
    "MODEL_NAME = \"lgb_model\"\n",
    "PACKAGE_DIR = Path(\"/kaggle/src\")\n",
    "CFG = yaml.safe_load(open(PACKAGE_DIR / \"config.yaml\", \"r\"))\n",
    "print(CFG[MODEL_NAME][\"execution\"][\"exp_id\"])\n",
    "\n",
    "CFG[\"output_dir\"] = f\"/kaggle/output/{CFG[MODEL_NAME]['execution']['exp_id']}\"\n",
    "!rm -r {CFG[\"output_dir\"]}\n",
    "os.makedirs(CFG[\"output_dir\"], exist_ok=True)\n",
    "\n",
    "seed_base(CFG[\"env\"][\"seed\"])"
   ]
  },
  {
   "cell_type": "code",
   "execution_count": 2,
   "metadata": {},
   "outputs": [
    {
     "name": "stderr",
     "output_type": "stream",
     "text": [
      "generate features: 100%|██████████| 277/277 [04:13<00:00,  1.09it/s]\n"
     ]
    },
    {
     "data": {
      "text/html": [
       "<div>\n",
       "<style scoped>\n",
       "    .dataframe tbody tr th:only-of-type {\n",
       "        vertical-align: middle;\n",
       "    }\n",
       "\n",
       "    .dataframe tbody tr th {\n",
       "        vertical-align: top;\n",
       "    }\n",
       "\n",
       "    .dataframe thead th {\n",
       "        text-align: right;\n",
       "    }\n",
       "</style>\n",
       "<table border=\"1\" class=\"dataframe\">\n",
       "  <thead>\n",
       "    <tr style=\"text-align: right;\">\n",
       "      <th></th>\n",
       "      <th>anglez</th>\n",
       "      <th>anglez_diff_abs</th>\n",
       "      <th>anglez_diff_abs_clip5</th>\n",
       "      <th>anglez_mean</th>\n",
       "      <th>enmo</th>\n",
       "      <th>enmo_diff_abs</th>\n",
       "      <th>enmo_mean</th>\n",
       "      <th>minutes</th>\n",
       "      <th>same_count</th>\n",
       "      <th>total_seconds</th>\n",
       "      <th>...</th>\n",
       "      <th>enmo_rolling_median_100_shift_1000</th>\n",
       "      <th>anglez_diff_abs_clip5_rolling_median_100_shift_1000</th>\n",
       "      <th>enmo_std_rolling_median_100_shift_1000</th>\n",
       "      <th>anglez_diff_abs_clip5_std_rolling_median_100_shift_1000</th>\n",
       "      <th>enmo_rolling_square_mean_100_shift_1000</th>\n",
       "      <th>anglez_diff_abs_clip5_rolling_square_mean_100_shift_1000</th>\n",
       "      <th>enmo_std_rolling_square_mean_100_shift_1000</th>\n",
       "      <th>anglez_diff_abs_clip5_std_rolling_square_mean_100_shift_1000</th>\n",
       "      <th>reduce_step</th>\n",
       "      <th>fold</th>\n",
       "    </tr>\n",
       "  </thead>\n",
       "  <tbody>\n",
       "    <tr>\n",
       "      <th>27</th>\n",
       "      <td>-88.181526</td>\n",
       "      <td>0.078712</td>\n",
       "      <td>0.078712</td>\n",
       "      <td>-12.090329</td>\n",
       "      <td>0.029175</td>\n",
       "      <td>0.000292</td>\n",
       "      <td>0.030480</td>\n",
       "      <td>597.5</td>\n",
       "      <td>0.0</td>\n",
       "      <td>47397.5</td>\n",
       "      <td>...</td>\n",
       "      <td>NaN</td>\n",
       "      <td>NaN</td>\n",
       "      <td>NaN</td>\n",
       "      <td>NaN</td>\n",
       "      <td>NaN</td>\n",
       "      <td>NaN</td>\n",
       "      <td>NaN</td>\n",
       "      <td>NaN</td>\n",
       "      <td>659</td>\n",
       "      <td>3</td>\n",
       "    </tr>\n",
       "    <tr>\n",
       "      <th>28</th>\n",
       "      <td>-88.507393</td>\n",
       "      <td>0.106242</td>\n",
       "      <td>0.106242</td>\n",
       "      <td>-7.547437</td>\n",
       "      <td>0.029108</td>\n",
       "      <td>0.000433</td>\n",
       "      <td>0.051443</td>\n",
       "      <td>717.5</td>\n",
       "      <td>0.0</td>\n",
       "      <td>47517.5</td>\n",
       "      <td>...</td>\n",
       "      <td>NaN</td>\n",
       "      <td>NaN</td>\n",
       "      <td>NaN</td>\n",
       "      <td>NaN</td>\n",
       "      <td>NaN</td>\n",
       "      <td>NaN</td>\n",
       "      <td>NaN</td>\n",
       "      <td>NaN</td>\n",
       "      <td>683</td>\n",
       "      <td>3</td>\n",
       "    </tr>\n",
       "    <tr>\n",
       "      <th>29</th>\n",
       "      <td>-89.259064</td>\n",
       "      <td>0.057546</td>\n",
       "      <td>0.057546</td>\n",
       "      <td>-10.070161</td>\n",
       "      <td>0.029858</td>\n",
       "      <td>0.000262</td>\n",
       "      <td>0.104063</td>\n",
       "      <td>837.5</td>\n",
       "      <td>0.0</td>\n",
       "      <td>47637.5</td>\n",
       "      <td>...</td>\n",
       "      <td>NaN</td>\n",
       "      <td>NaN</td>\n",
       "      <td>NaN</td>\n",
       "      <td>NaN</td>\n",
       "      <td>NaN</td>\n",
       "      <td>NaN</td>\n",
       "      <td>NaN</td>\n",
       "      <td>NaN</td>\n",
       "      <td>707</td>\n",
       "      <td>3</td>\n",
       "    </tr>\n",
       "    <tr>\n",
       "      <th>30</th>\n",
       "      <td>-87.457848</td>\n",
       "      <td>0.147454</td>\n",
       "      <td>0.147454</td>\n",
       "      <td>-0.726222</td>\n",
       "      <td>0.029458</td>\n",
       "      <td>0.000533</td>\n",
       "      <td>0.095024</td>\n",
       "      <td>957.5</td>\n",
       "      <td>0.0</td>\n",
       "      <td>47757.5</td>\n",
       "      <td>...</td>\n",
       "      <td>NaN</td>\n",
       "      <td>NaN</td>\n",
       "      <td>NaN</td>\n",
       "      <td>NaN</td>\n",
       "      <td>NaN</td>\n",
       "      <td>NaN</td>\n",
       "      <td>NaN</td>\n",
       "      <td>NaN</td>\n",
       "      <td>731</td>\n",
       "      <td>3</td>\n",
       "    </tr>\n",
       "    <tr>\n",
       "      <th>31</th>\n",
       "      <td>-86.225922</td>\n",
       "      <td>0.169739</td>\n",
       "      <td>0.169739</td>\n",
       "      <td>-5.723403</td>\n",
       "      <td>0.030287</td>\n",
       "      <td>0.001758</td>\n",
       "      <td>0.092043</td>\n",
       "      <td>1077.5</td>\n",
       "      <td>0.0</td>\n",
       "      <td>47877.5</td>\n",
       "      <td>...</td>\n",
       "      <td>NaN</td>\n",
       "      <td>NaN</td>\n",
       "      <td>NaN</td>\n",
       "      <td>NaN</td>\n",
       "      <td>NaN</td>\n",
       "      <td>NaN</td>\n",
       "      <td>NaN</td>\n",
       "      <td>NaN</td>\n",
       "      <td>755</td>\n",
       "      <td>3</td>\n",
       "    </tr>\n",
       "  </tbody>\n",
       "</table>\n",
       "<p>5 rows × 1307 columns</p>\n",
       "</div>"
      ],
      "text/plain": [
       "       anglez  anglez_diff_abs  anglez_diff_abs_clip5  anglez_mean      enmo  \\\n",
       "27 -88.181526         0.078712               0.078712   -12.090329  0.029175   \n",
       "28 -88.507393         0.106242               0.106242    -7.547437  0.029108   \n",
       "29 -89.259064         0.057546               0.057546   -10.070161  0.029858   \n",
       "30 -87.457848         0.147454               0.147454    -0.726222  0.029458   \n",
       "31 -86.225922         0.169739               0.169739    -5.723403  0.030287   \n",
       "\n",
       "    enmo_diff_abs  enmo_mean  minutes  same_count  total_seconds  ...  \\\n",
       "27       0.000292   0.030480    597.5         0.0        47397.5  ...   \n",
       "28       0.000433   0.051443    717.5         0.0        47517.5  ...   \n",
       "29       0.000262   0.104063    837.5         0.0        47637.5  ...   \n",
       "30       0.000533   0.095024    957.5         0.0        47757.5  ...   \n",
       "31       0.001758   0.092043   1077.5         0.0        47877.5  ...   \n",
       "\n",
       "    enmo_rolling_median_100_shift_1000  \\\n",
       "27                                 NaN   \n",
       "28                                 NaN   \n",
       "29                                 NaN   \n",
       "30                                 NaN   \n",
       "31                                 NaN   \n",
       "\n",
       "    anglez_diff_abs_clip5_rolling_median_100_shift_1000  \\\n",
       "27                                                NaN     \n",
       "28                                                NaN     \n",
       "29                                                NaN     \n",
       "30                                                NaN     \n",
       "31                                                NaN     \n",
       "\n",
       "    enmo_std_rolling_median_100_shift_1000  \\\n",
       "27                                     NaN   \n",
       "28                                     NaN   \n",
       "29                                     NaN   \n",
       "30                                     NaN   \n",
       "31                                     NaN   \n",
       "\n",
       "    anglez_diff_abs_clip5_std_rolling_median_100_shift_1000  \\\n",
       "27                                                NaN         \n",
       "28                                                NaN         \n",
       "29                                                NaN         \n",
       "30                                                NaN         \n",
       "31                                                NaN         \n",
       "\n",
       "    enmo_rolling_square_mean_100_shift_1000  \\\n",
       "27                                      NaN   \n",
       "28                                      NaN   \n",
       "29                                      NaN   \n",
       "30                                      NaN   \n",
       "31                                      NaN   \n",
       "\n",
       "    anglez_diff_abs_clip5_rolling_square_mean_100_shift_1000  \\\n",
       "27                                                NaN          \n",
       "28                                                NaN          \n",
       "29                                                NaN          \n",
       "30                                                NaN          \n",
       "31                                                NaN          \n",
       "\n",
       "    enmo_std_rolling_square_mean_100_shift_1000  \\\n",
       "27                                          NaN   \n",
       "28                                          NaN   \n",
       "29                                          NaN   \n",
       "30                                          NaN   \n",
       "31                                          NaN   \n",
       "\n",
       "    anglez_diff_abs_clip5_std_rolling_square_mean_100_shift_1000  reduce_step  \\\n",
       "27                                                NaN                     659   \n",
       "28                                                NaN                     683   \n",
       "29                                                NaN                     707   \n",
       "30                                                NaN                     731   \n",
       "31                                                NaN                     755   \n",
       "\n",
       "    fold  \n",
       "27     3  \n",
       "28     3  \n",
       "29     3  \n",
       "30     3  \n",
       "31     3  \n",
       "\n",
       "[5 rows x 1307 columns]"
      ]
     },
     "metadata": {},
     "output_type": "display_data"
    },
    {
     "data": {
      "text/plain": [
       "(515056, 1307)"
      ]
     },
     "execution_count": 2,
     "metadata": {},
     "output_type": "execute_result"
    }
   ],
   "source": [
    "# 特徴生成\n",
    "files = glob(f\"{CFG['dataset']['step_csv_dir']}/*.parquet\")\n",
    "train, features = generate_features(files)\n",
    "\n",
    "# cv splitとマージ\n",
    "cv_split = pd.read_csv(CFG['dataset']['cv_split_path'])\n",
    "train[\"fold\"] = train[\"series_id\"].map(cv_split.set_index(\"series_id\")[\"fold\"])\n",
    "display(train.head(5))\n",
    "train.shape"
   ]
  },
  {
   "cell_type": "code",
   "execution_count": 3,
   "metadata": {},
   "outputs": [
    {
     "name": "stderr",
     "output_type": "stream",
     "text": [
      "  0%|          | 0/5 [00:00<?, ?it/s]"
     ]
    },
    {
     "name": "stdout",
     "output_type": "stream",
     "text": [
      "== fold 0 ==\n",
      "[100]\tvalid_0's rmse: 1.34647\tvalid_0's l2: 1.81299\n",
      "[200]\tvalid_0's rmse: 1.15841\tvalid_0's l2: 1.34192\n",
      "[300]\tvalid_0's rmse: 1.11962\tvalid_0's l2: 1.25354\n",
      "[400]\tvalid_0's rmse: 1.11074\tvalid_0's l2: 1.23374\n",
      "[500]\tvalid_0's rmse: 1.108\tvalid_0's l2: 1.22767\n",
      "[600]\tvalid_0's rmse: 1.10693\tvalid_0's l2: 1.2253\n",
      "[700]\tvalid_0's rmse: 1.1063\tvalid_0's l2: 1.22391\n",
      "[800]\tvalid_0's rmse: 1.10588\tvalid_0's l2: 1.22297\n",
      "[900]\tvalid_0's rmse: 1.10571\tvalid_0's l2: 1.22259\n",
      "[1000]\tvalid_0's rmse: 1.10529\tvalid_0's l2: 1.22166\n",
      "[1100]\tvalid_0's rmse: 1.10485\tvalid_0's l2: 1.22069\n",
      "[1200]\tvalid_0's rmse: 1.10488\tvalid_0's l2: 1.22076\n"
     ]
    },
    {
     "name": "stderr",
     "output_type": "stream",
     "text": [
      " 20%|██        | 1/5 [02:33<10:15, 153.85s/it]"
     ]
    },
    {
     "name": "stdout",
     "output_type": "stream",
     "text": [
      "== fold 1 ==\n",
      "[100]\tvalid_0's rmse: 1.38098\tvalid_0's l2: 1.90712\n",
      "[200]\tvalid_0's rmse: 1.18295\tvalid_0's l2: 1.39938\n",
      "[300]\tvalid_0's rmse: 1.13924\tvalid_0's l2: 1.29788\n",
      "[400]\tvalid_0's rmse: 1.12836\tvalid_0's l2: 1.27319\n",
      "[500]\tvalid_0's rmse: 1.12512\tvalid_0's l2: 1.2659\n",
      "[600]\tvalid_0's rmse: 1.12344\tvalid_0's l2: 1.26211\n",
      "[700]\tvalid_0's rmse: 1.12245\tvalid_0's l2: 1.2599\n",
      "[800]\tvalid_0's rmse: 1.12163\tvalid_0's l2: 1.25806\n",
      "[900]\tvalid_0's rmse: 1.12125\tvalid_0's l2: 1.2572\n",
      "[1000]\tvalid_0's rmse: 1.1207\tvalid_0's l2: 1.25596\n",
      "[1100]\tvalid_0's rmse: 1.1204\tvalid_0's l2: 1.25529\n",
      "[1200]\tvalid_0's rmse: 1.12018\tvalid_0's l2: 1.2548\n",
      "[1300]\tvalid_0's rmse: 1.12004\tvalid_0's l2: 1.25448\n",
      "[1400]\tvalid_0's rmse: 1.11995\tvalid_0's l2: 1.25429\n",
      "[1500]\tvalid_0's rmse: 1.11979\tvalid_0's l2: 1.25393\n",
      "[1600]\tvalid_0's rmse: 1.11997\tvalid_0's l2: 1.25434\n"
     ]
    },
    {
     "name": "stderr",
     "output_type": "stream",
     "text": [
      " 40%|████      | 2/5 [05:44<08:46, 175.43s/it]"
     ]
    },
    {
     "name": "stdout",
     "output_type": "stream",
     "text": [
      "== fold 2 ==\n",
      "[100]\tvalid_0's rmse: 1.38906\tvalid_0's l2: 1.92949\n",
      "[200]\tvalid_0's rmse: 1.20659\tvalid_0's l2: 1.45586\n",
      "[300]\tvalid_0's rmse: 1.16477\tvalid_0's l2: 1.3567\n",
      "[400]\tvalid_0's rmse: 1.1548\tvalid_0's l2: 1.33357\n",
      "[500]\tvalid_0's rmse: 1.15104\tvalid_0's l2: 1.32488\n",
      "[600]\tvalid_0's rmse: 1.14963\tvalid_0's l2: 1.32166\n",
      "[700]\tvalid_0's rmse: 1.14924\tvalid_0's l2: 1.32076\n",
      "[800]\tvalid_0's rmse: 1.14925\tvalid_0's l2: 1.32077\n",
      "[900]\tvalid_0's rmse: 1.1487\tvalid_0's l2: 1.31951\n",
      "[1000]\tvalid_0's rmse: 1.14837\tvalid_0's l2: 1.31875\n",
      "[1100]\tvalid_0's rmse: 1.14834\tvalid_0's l2: 1.31869\n",
      "[1200]\tvalid_0's rmse: 1.14817\tvalid_0's l2: 1.31829\n",
      "[1300]\tvalid_0's rmse: 1.14798\tvalid_0's l2: 1.31785\n",
      "[1400]\tvalid_0's rmse: 1.14799\tvalid_0's l2: 1.31788\n",
      "[1500]\tvalid_0's rmse: 1.1479\tvalid_0's l2: 1.31768\n",
      "[1600]\tvalid_0's rmse: 1.14795\tvalid_0's l2: 1.3178\n"
     ]
    },
    {
     "name": "stderr",
     "output_type": "stream",
     "text": [
      " 60%|██████    | 3/5 [08:53<06:03, 181.87s/it]"
     ]
    },
    {
     "name": "stdout",
     "output_type": "stream",
     "text": [
      "== fold 3 ==\n",
      "[100]\tvalid_0's rmse: 1.33347\tvalid_0's l2: 1.77815\n",
      "[200]\tvalid_0's rmse: 1.13118\tvalid_0's l2: 1.27958\n",
      "[300]\tvalid_0's rmse: 1.08642\tvalid_0's l2: 1.18031\n",
      "[400]\tvalid_0's rmse: 1.07495\tvalid_0's l2: 1.15552\n",
      "[500]\tvalid_0's rmse: 1.07169\tvalid_0's l2: 1.14852\n",
      "[600]\tvalid_0's rmse: 1.0707\tvalid_0's l2: 1.14641\n",
      "[700]\tvalid_0's rmse: 1.06999\tvalid_0's l2: 1.14489\n",
      "[800]\tvalid_0's rmse: 1.07002\tvalid_0's l2: 1.14494\n"
     ]
    },
    {
     "name": "stderr",
     "output_type": "stream",
     "text": [
      " 80%|████████  | 4/5 [10:52<02:36, 156.74s/it]"
     ]
    },
    {
     "name": "stdout",
     "output_type": "stream",
     "text": [
      "== fold 4 ==\n",
      "[100]\tvalid_0's rmse: 1.43367\tvalid_0's l2: 2.05542\n",
      "[200]\tvalid_0's rmse: 1.23998\tvalid_0's l2: 1.53756\n",
      "[300]\tvalid_0's rmse: 1.20035\tvalid_0's l2: 1.44083\n",
      "[400]\tvalid_0's rmse: 1.19077\tvalid_0's l2: 1.41793\n",
      "[500]\tvalid_0's rmse: 1.18745\tvalid_0's l2: 1.41003\n",
      "[600]\tvalid_0's rmse: 1.18615\tvalid_0's l2: 1.40695\n",
      "[700]\tvalid_0's rmse: 1.1855\tvalid_0's l2: 1.40541\n",
      "[800]\tvalid_0's rmse: 1.18527\tvalid_0's l2: 1.40488\n",
      "[900]\tvalid_0's rmse: 1.18505\tvalid_0's l2: 1.40434\n",
      "[1000]\tvalid_0's rmse: 1.18483\tvalid_0's l2: 1.40382\n"
     ]
    },
    {
     "name": "stderr",
     "output_type": "stream",
     "text": [
      "100%|██████████| 5/5 [13:11<00:00, 158.36s/it]\n",
      "  0%|          | 0/5 [00:00<?, ?it/s]"
     ]
    },
    {
     "name": "stdout",
     "output_type": "stream",
     "text": [
      "== fold 0 ==\n",
      "[100]\tvalid_0's rmse: 1.37446\tvalid_0's l2: 1.88915\n",
      "[200]\tvalid_0's rmse: 1.18216\tvalid_0's l2: 1.39749\n",
      "[300]\tvalid_0's rmse: 1.13643\tvalid_0's l2: 1.29148\n",
      "[400]\tvalid_0's rmse: 1.12357\tvalid_0's l2: 1.26241\n",
      "[500]\tvalid_0's rmse: 1.11993\tvalid_0's l2: 1.25423\n",
      "[600]\tvalid_0's rmse: 1.11845\tvalid_0's l2: 1.25094\n",
      "[700]\tvalid_0's rmse: 1.11782\tvalid_0's l2: 1.24953\n",
      "[800]\tvalid_0's rmse: 1.11733\tvalid_0's l2: 1.24843\n"
     ]
    },
    {
     "name": "stderr",
     "output_type": "stream",
     "text": [
      " 20%|██        | 1/5 [01:58<07:55, 118.96s/it]"
     ]
    },
    {
     "name": "stdout",
     "output_type": "stream",
     "text": [
      "== fold 1 ==\n",
      "[100]\tvalid_0's rmse: 1.39751\tvalid_0's l2: 1.95302\n",
      "[200]\tvalid_0's rmse: 1.19244\tvalid_0's l2: 1.42192\n",
      "[300]\tvalid_0's rmse: 1.14055\tvalid_0's l2: 1.30086\n",
      "[400]\tvalid_0's rmse: 1.12423\tvalid_0's l2: 1.2639\n",
      "[500]\tvalid_0's rmse: 1.11847\tvalid_0's l2: 1.25097\n",
      "[600]\tvalid_0's rmse: 1.1165\tvalid_0's l2: 1.24657\n",
      "[700]\tvalid_0's rmse: 1.1159\tvalid_0's l2: 1.24523\n",
      "[800]\tvalid_0's rmse: 1.11568\tvalid_0's l2: 1.24474\n",
      "[900]\tvalid_0's rmse: 1.11498\tvalid_0's l2: 1.24319\n",
      "[1000]\tvalid_0's rmse: 1.11485\tvalid_0's l2: 1.2429\n"
     ]
    },
    {
     "name": "stderr",
     "output_type": "stream",
     "text": [
      " 40%|████      | 2/5 [04:17<06:30, 130.29s/it]"
     ]
    },
    {
     "name": "stdout",
     "output_type": "stream",
     "text": [
      "== fold 2 ==\n",
      "[100]\tvalid_0's rmse: 1.38356\tvalid_0's l2: 1.91425\n",
      "[200]\tvalid_0's rmse: 1.19166\tvalid_0's l2: 1.42006\n",
      "[300]\tvalid_0's rmse: 1.14736\tvalid_0's l2: 1.31643\n",
      "[400]\tvalid_0's rmse: 1.13496\tvalid_0's l2: 1.28813\n",
      "[500]\tvalid_0's rmse: 1.13094\tvalid_0's l2: 1.27903\n",
      "[600]\tvalid_0's rmse: 1.12954\tvalid_0's l2: 1.27585\n",
      "[700]\tvalid_0's rmse: 1.12814\tvalid_0's l2: 1.2727\n",
      "[800]\tvalid_0's rmse: 1.12687\tvalid_0's l2: 1.26984\n",
      "[900]\tvalid_0's rmse: 1.12651\tvalid_0's l2: 1.26902\n",
      "[1000]\tvalid_0's rmse: 1.12615\tvalid_0's l2: 1.26821\n",
      "[1100]\tvalid_0's rmse: 1.126\tvalid_0's l2: 1.26788\n",
      "[1200]\tvalid_0's rmse: 1.12576\tvalid_0's l2: 1.26734\n",
      "[1300]\tvalid_0's rmse: 1.12562\tvalid_0's l2: 1.26702\n",
      "[1400]\tvalid_0's rmse: 1.12526\tvalid_0's l2: 1.26621\n",
      "[1500]\tvalid_0's rmse: 1.12523\tvalid_0's l2: 1.26614\n",
      "[1600]\tvalid_0's rmse: 1.12507\tvalid_0's l2: 1.26578\n",
      "[1700]\tvalid_0's rmse: 1.12455\tvalid_0's l2: 1.26462\n",
      "[1800]\tvalid_0's rmse: 1.12429\tvalid_0's l2: 1.26403\n",
      "[1900]\tvalid_0's rmse: 1.12397\tvalid_0's l2: 1.26332\n",
      "[2000]\tvalid_0's rmse: 1.12389\tvalid_0's l2: 1.26312\n"
     ]
    },
    {
     "name": "stderr",
     "output_type": "stream",
     "text": [
      " 60%|██████    | 3/5 [07:49<05:35, 167.81s/it]"
     ]
    },
    {
     "name": "stdout",
     "output_type": "stream",
     "text": [
      "== fold 3 ==\n",
      "[100]\tvalid_0's rmse: 1.412\tvalid_0's l2: 1.99374\n",
      "[200]\tvalid_0's rmse: 1.24459\tvalid_0's l2: 1.54899\n",
      "[300]\tvalid_0's rmse: 1.21232\tvalid_0's l2: 1.46972\n",
      "[400]\tvalid_0's rmse: 1.20427\tvalid_0's l2: 1.45027\n",
      "[500]\tvalid_0's rmse: 1.20132\tvalid_0's l2: 1.44317\n",
      "[600]\tvalid_0's rmse: 1.20054\tvalid_0's l2: 1.4413\n",
      "[700]\tvalid_0's rmse: 1.19993\tvalid_0's l2: 1.43984\n",
      "[800]\tvalid_0's rmse: 1.19946\tvalid_0's l2: 1.4387\n",
      "[900]\tvalid_0's rmse: 1.19925\tvalid_0's l2: 1.4382\n",
      "[1000]\tvalid_0's rmse: 1.19893\tvalid_0's l2: 1.43744\n",
      "[1100]\tvalid_0's rmse: 1.19898\tvalid_0's l2: 1.43756\n"
     ]
    },
    {
     "name": "stderr",
     "output_type": "stream",
     "text": [
      " 80%|████████  | 4/5 [10:03<02:34, 154.49s/it]"
     ]
    },
    {
     "name": "stdout",
     "output_type": "stream",
     "text": [
      "== fold 4 ==\n",
      "[100]\tvalid_0's rmse: 1.49193\tvalid_0's l2: 2.22586\n",
      "[200]\tvalid_0's rmse: 1.31875\tvalid_0's l2: 1.73909\n",
      "[300]\tvalid_0's rmse: 1.27761\tvalid_0's l2: 1.6323\n",
      "[400]\tvalid_0's rmse: 1.26404\tvalid_0's l2: 1.59779\n",
      "[500]\tvalid_0's rmse: 1.25905\tvalid_0's l2: 1.58522\n",
      "[600]\tvalid_0's rmse: 1.25749\tvalid_0's l2: 1.58127\n",
      "[700]\tvalid_0's rmse: 1.25696\tvalid_0's l2: 1.57994\n",
      "[800]\tvalid_0's rmse: 1.25638\tvalid_0's l2: 1.57848\n",
      "[900]\tvalid_0's rmse: 1.2558\tvalid_0's l2: 1.57703\n",
      "[1000]\tvalid_0's rmse: 1.25517\tvalid_0's l2: 1.57544\n",
      "[1100]\tvalid_0's rmse: 1.25476\tvalid_0's l2: 1.57442\n",
      "[1200]\tvalid_0's rmse: 1.25433\tvalid_0's l2: 1.57335\n",
      "[1300]\tvalid_0's rmse: 1.25383\tvalid_0's l2: 1.57208\n",
      "[1400]\tvalid_0's rmse: 1.25338\tvalid_0's l2: 1.57097\n",
      "[1500]\tvalid_0's rmse: 1.2533\tvalid_0's l2: 1.57077\n",
      "[1600]\tvalid_0's rmse: 1.253\tvalid_0's l2: 1.57002\n",
      "[1700]\tvalid_0's rmse: 1.25294\tvalid_0's l2: 1.56985\n"
     ]
    },
    {
     "name": "stderr",
     "output_type": "stream",
     "text": [
      "100%|██████████| 5/5 [12:59<00:00, 155.97s/it]\n"
     ]
    }
   ],
   "source": [
    "# 学習\n",
    "dfs = []\n",
    "for event in [\"wakeup\", \"onset\"]:\n",
    "    trn_oof, models = fit_lgb(\n",
    "        X=train, \n",
    "        y=train[f\"{event}_target\"], \n",
    "        folds=train[\"fold\"].astype(int), \n",
    "        features=features.all_features(),\n",
    "        params=CFG[MODEL_NAME][\"lightgbm\"], \n",
    "        es_rounds=100,\n",
    "    )\n",
    "    train[\"score\"] = trn_oof\n",
    "    train[\"event\"] = event\n",
    "    dfs.append(train[[\"series_id\", \"step\", \"score\", \"event\"]])\n",
    "\n",
    "    # 保存\n",
    "    for i, model in enumerate(models):\n",
    "        joblib.dump(model, os.path.join(CFG[\"output_dir\"], f'lgb_{event}_fold_{i}.pkl'))\n",
    "del train\n",
    "gc.collect()\n",
    "train = pd.concat(dfs, axis=0)\n",
    "train[\"step\"] = train[\"step\"].astype(int)\n",
    "train = train.sort_values([\"series_id\", \"step\"]).reset_index(drop=True)\n",
    "\n",
    "with open(os.path.join(CFG[\"output_dir\"], \"features.pkl\"), \"wb\") as f:\n",
    "    pickle.dump(features, f)\n",
    "train.to_csv(os.path.join(CFG[\"output_dir\"], \"oof.csv\"), index=False)"
   ]
  },
  {
   "cell_type": "markdown",
   "metadata": {},
   "source": [
    "## Dynamic-Range NMS"
   ]
  },
  {
   "cell_type": "code",
   "execution_count": 4,
   "metadata": {},
   "outputs": [
    {
     "data": {
      "text/plain": [
       "<AxesSubplot: >"
      ]
     },
     "execution_count": 4,
     "metadata": {},
     "output_type": "execute_result"
    },
    {
     "data": {
      "image/png": "[encoded data removed]",
      "text/plain": [
       "<Figure size 640x480 with 1 Axes>"
      ]
     },
     "metadata": {},
     "output_type": "display_data"
    }
   ],
   "source": [
    "train = train[train[\"score\"] > 0.1]\n",
    "train[\"score\"].hist()"
   ]
  },
  {
   "cell_type": "code",
   "execution_count": 5,
   "metadata": {},
   "outputs": [
    {
     "name": "stderr",
     "output_type": "stream",
     "text": [
      "100%|██████████| 277/277 [00:10<00:00, 26.80it/s]\n"
     ]
    }
   ],
   "source": [
    "from utils.postprocess import dynamic_range_nms\n",
    "from multiprocessing import Pool\n",
    "from tqdm import tqdm\n",
    "\n",
    "train[\"step\"] = train[\"step\"].astype(int)\n",
    "\n",
    "groups = [group for _, group in train.groupby(\"series_id\")]\n",
    "with Pool(30) as p:  \n",
    "    results = list(tqdm(p.imap(dynamic_range_nms, groups), total=len(groups)))\n",
    "sub = pd.concat(results)\n",
    "sub[\"score\"] = sub[\"reduced_score\"]"
   ]
  },
  {
   "cell_type": "code",
   "execution_count": 6,
   "metadata": {},
   "outputs": [
    {
     "name": "stdout",
     "output_type": "stream",
     "text": [
      "score: 0.7655\n"
     ]
    },
    {
     "data": {
      "text/plain": [
       "event   tolerance\n",
       "onset   12           0.178401\n",
       "        36           0.595004\n",
       "        60           0.749942\n",
       "        90           0.817291\n",
       "        120          0.845138\n",
       "        150          0.866046\n",
       "        180          0.877200\n",
       "        240          0.895186\n",
       "        300          0.902194\n",
       "        360          0.909206\n",
       "wakeup  12           0.172684\n",
       "        36           0.619187\n",
       "        60           0.746441\n",
       "        90           0.811219\n",
       "        120          0.843908\n",
       "        150          0.867002\n",
       "        180          0.881572\n",
       "        240          0.900625\n",
       "        300          0.911554\n",
       "        360          0.920557\n",
       "dtype: float64"
      ]
     },
     "metadata": {},
     "output_type": "display_data"
    }
   ],
   "source": [
    "# スコア計算\n",
    "labels = pd.read_csv(f\"{CFG['dataset']['competition_dir']}/train_events.csv\").dropna()\n",
    "score, ap_table = compute_comptetition_metric(labels, sub)\n",
    "\n",
    "print(f\"score: {score:.4f}\")\n",
    "display(ap_table)\n",
    "sub.to_csv(os.path.join(CFG[\"output_dir\"], \"submission_after_nms.csv\"), index=False)"
   ]
  },
  {
   "cell_type": "code",
   "execution_count": null,
   "metadata": {},
   "outputs": [],
   "source": []
  },
  {
   "cell_type": "code",
   "execution_count": null,
   "metadata": {},
   "outputs": [],
   "source": []
  }
 ],
 "metadata": {
  "kernelspec": {
   "display_name": "base",
   "language": "python",
   "name": "python3"
  },
  "language_info": {
   "codemirror_mode": {
    "name": "ipython",
    "version": 3
   },
   "file_extension": ".py",
   "mimetype": "text/x-python",
   "name": "python",
   "nbconvert_exporter": "python",
   "pygments_lexer": "ipython3",
   "version": "3.10.10"
  },
  "orig_nbformat": 4
 },
 "nbformat": 4,
 "nbformat_minor": 2
}
