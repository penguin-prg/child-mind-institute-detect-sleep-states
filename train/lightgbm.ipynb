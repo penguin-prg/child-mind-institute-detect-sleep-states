{
 "cells": [
  {
   "cell_type": "code",
   "execution_count": 1,
   "metadata": {},
   "outputs": [
    {
     "name": "stderr",
     "output_type": "stream",
     "text": [
      "2023-11-03 02:02:12.928807: I tensorflow/core/platform/cpu_feature_guard.cc:193] This TensorFlow binary is optimized with oneAPI Deep Neural Network Library (oneDNN) to use the following CPU instructions in performance-critical operations:  AVX2 AVX_VNNI FMA\n",
      "To enable them in other operations, rebuild TensorFlow with the appropriate compiler flags.\n",
      "2023-11-03 02:02:13.003635: I tensorflow/core/util/port.cc:104] oneDNN custom operations are on. You may see slightly different numerical results due to floating-point round-off errors from different computation orders. To turn them off, set the environment variable `TF_ENABLE_ONEDNN_OPTS=0`.\n",
      "2023-11-03 02:02:13.538697: W tensorflow/compiler/xla/stream_executor/platform/default/dso_loader.cc:64] Could not load dynamic library 'libnvinfer.so.7'; dlerror: libnvinfer.so.7: cannot open shared object file: No such file or directory; LD_LIBRARY_PATH: /usr/local/cuda/lib64:/usr/local/cuda/lib:/usr/local/lib/x86_64-linux-gnu:/usr/local/nvidia/lib:/usr/local/nvidia/lib64:/usr/local/nvidia/lib:/usr/local/nvidia/lib64:/opt/conda/lib\n",
      "2023-11-03 02:02:13.538770: W tensorflow/compiler/xla/stream_executor/platform/default/dso_loader.cc:64] Could not load dynamic library 'libnvinfer_plugin.so.7'; dlerror: libnvinfer_plugin.so.7: cannot open shared object file: No such file or directory; LD_LIBRARY_PATH: /usr/local/cuda/lib64:/usr/local/cuda/lib:/usr/local/lib/x86_64-linux-gnu:/usr/local/nvidia/lib:/usr/local/nvidia/lib64:/usr/local/nvidia/lib:/usr/local/nvidia/lib64:/opt/conda/lib\n",
      "2023-11-03 02:02:13.538774: W tensorflow/compiler/tf2tensorrt/utils/py_utils.cc:38] TF-TRT Warning: Cannot dlopen some TensorRT libraries. If you would like to use Nvidia GPU with TensorRT, please make sure the missing libraries mentioned above are installed properly.\n"
     ]
    },
    {
     "name": "stdout",
     "output_type": "stream",
     "text": [
      "exp_117\n"
     ]
    }
   ],
   "source": [
    "import pandas as pd\n",
    "import yaml\n",
    "import sys\n",
    "import os\n",
    "from glob import glob\n",
    "from pathlib import Path\n",
    "import gc\n",
    "import pickle\n",
    "import joblib\n",
    "\n",
    "import warnings\n",
    "warnings.filterwarnings('ignore')\n",
    "\n",
    "sys.path.append('/kaggle/src')\n",
    "from utils.lgb import fit_lgb\n",
    "from utils.metric import compute_comptetition_metric\n",
    "from utils.set_seed import seed_base\n",
    "from feature_engineering.fe_xgb import generate_features\n",
    "\n",
    "MODEL_NAME = \"lgb_model\"\n",
    "PACKAGE_DIR = Path(\"/kaggle/src\")\n",
    "CFG = yaml.safe_load(open(PACKAGE_DIR / \"config.yaml\", \"r\"))\n",
    "print(CFG[MODEL_NAME][\"execution\"][\"exp_id\"])\n",
    "\n",
    "CFG[\"output_dir\"] = f\"/kaggle/output/{CFG[MODEL_NAME]['execution']['exp_id']}\"\n",
    "!rm -r {CFG[\"output_dir\"]}\n",
    "os.makedirs(CFG[\"output_dir\"], exist_ok=True)\n",
    "\n",
    "seed_base(CFG[\"env\"][\"seed\"])"
   ]
  },
  {
   "cell_type": "code",
   "execution_count": 2,
   "metadata": {},
   "outputs": [
    {
     "name": "stderr",
     "output_type": "stream",
     "text": [
      "generate features: 100%|██████████| 277/277 [04:29<00:00,  1.03it/s]\n"
     ]
    },
    {
     "data": {
      "text/html": [
       "<div>\n",
       "<style scoped>\n",
       "    .dataframe tbody tr th:only-of-type {\n",
       "        vertical-align: middle;\n",
       "    }\n",
       "\n",
       "    .dataframe tbody tr th {\n",
       "        vertical-align: top;\n",
       "    }\n",
       "\n",
       "    .dataframe thead th {\n",
       "        text-align: right;\n",
       "    }\n",
       "</style>\n",
       "<table border=\"1\" class=\"dataframe\">\n",
       "  <thead>\n",
       "    <tr style=\"text-align: right;\">\n",
       "      <th></th>\n",
       "      <th>anglez</th>\n",
       "      <th>anglez_diff_abs</th>\n",
       "      <th>anglez_diff_abs_clip5</th>\n",
       "      <th>anglez_mean</th>\n",
       "      <th>enmo</th>\n",
       "      <th>enmo_diff_abs</th>\n",
       "      <th>enmo_mean</th>\n",
       "      <th>minutes</th>\n",
       "      <th>same_count</th>\n",
       "      <th>total_seconds</th>\n",
       "      <th>...</th>\n",
       "      <th>enmo_rolling_median_100_shift_1000</th>\n",
       "      <th>anglez_diff_abs_clip5_rolling_median_100_shift_1000</th>\n",
       "      <th>enmo_std_rolling_median_100_shift_1000</th>\n",
       "      <th>anglez_diff_abs_clip5_std_rolling_median_100_shift_1000</th>\n",
       "      <th>enmo_rolling_square_mean_100_shift_1000</th>\n",
       "      <th>anglez_diff_abs_clip5_rolling_square_mean_100_shift_1000</th>\n",
       "      <th>enmo_std_rolling_square_mean_100_shift_1000</th>\n",
       "      <th>anglez_diff_abs_clip5_std_rolling_square_mean_100_shift_1000</th>\n",
       "      <th>reduce_step</th>\n",
       "      <th>fold</th>\n",
       "    </tr>\n",
       "  </thead>\n",
       "  <tbody>\n",
       "    <tr>\n",
       "      <th>926</th>\n",
       "      <td>21.070280</td>\n",
       "      <td>21.889490</td>\n",
       "      <td>4.451904</td>\n",
       "      <td>-20.794807</td>\n",
       "      <td>0.027129</td>\n",
       "      <td>0.014742</td>\n",
       "      <td>0.037067</td>\n",
       "      <td>477.5</td>\n",
       "      <td>0.0</td>\n",
       "      <td>68877.5</td>\n",
       "      <td>...</td>\n",
       "      <td>NaN</td>\n",
       "      <td>NaN</td>\n",
       "      <td>NaN</td>\n",
       "      <td>NaN</td>\n",
       "      <td>NaN</td>\n",
       "      <td>NaN</td>\n",
       "      <td>NaN</td>\n",
       "      <td>NaN</td>\n",
       "      <td>22235</td>\n",
       "      <td>3</td>\n",
       "    </tr>\n",
       "    <tr>\n",
       "      <th>927</th>\n",
       "      <td>-2.156629</td>\n",
       "      <td>17.598087</td>\n",
       "      <td>3.993946</td>\n",
       "      <td>-21.465599</td>\n",
       "      <td>0.091583</td>\n",
       "      <td>0.079287</td>\n",
       "      <td>0.072814</td>\n",
       "      <td>597.5</td>\n",
       "      <td>0.0</td>\n",
       "      <td>68997.5</td>\n",
       "      <td>...</td>\n",
       "      <td>NaN</td>\n",
       "      <td>NaN</td>\n",
       "      <td>NaN</td>\n",
       "      <td>NaN</td>\n",
       "      <td>NaN</td>\n",
       "      <td>NaN</td>\n",
       "      <td>NaN</td>\n",
       "      <td>NaN</td>\n",
       "      <td>22259</td>\n",
       "      <td>3</td>\n",
       "    </tr>\n",
       "    <tr>\n",
       "      <th>928</th>\n",
       "      <td>6.870979</td>\n",
       "      <td>16.874817</td>\n",
       "      <td>4.571238</td>\n",
       "      <td>-17.906569</td>\n",
       "      <td>0.048471</td>\n",
       "      <td>0.023354</td>\n",
       "      <td>0.085562</td>\n",
       "      <td>717.5</td>\n",
       "      <td>0.0</td>\n",
       "      <td>69117.5</td>\n",
       "      <td>...</td>\n",
       "      <td>NaN</td>\n",
       "      <td>NaN</td>\n",
       "      <td>NaN</td>\n",
       "      <td>NaN</td>\n",
       "      <td>NaN</td>\n",
       "      <td>NaN</td>\n",
       "      <td>NaN</td>\n",
       "      <td>NaN</td>\n",
       "      <td>22283</td>\n",
       "      <td>3</td>\n",
       "    </tr>\n",
       "    <tr>\n",
       "      <th>929</th>\n",
       "      <td>11.430203</td>\n",
       "      <td>8.910088</td>\n",
       "      <td>3.756421</td>\n",
       "      <td>-5.006313</td>\n",
       "      <td>0.029496</td>\n",
       "      <td>0.013204</td>\n",
       "      <td>0.031394</td>\n",
       "      <td>837.5</td>\n",
       "      <td>0.0</td>\n",
       "      <td>69237.5</td>\n",
       "      <td>...</td>\n",
       "      <td>NaN</td>\n",
       "      <td>NaN</td>\n",
       "      <td>NaN</td>\n",
       "      <td>NaN</td>\n",
       "      <td>NaN</td>\n",
       "      <td>NaN</td>\n",
       "      <td>NaN</td>\n",
       "      <td>NaN</td>\n",
       "      <td>22307</td>\n",
       "      <td>3</td>\n",
       "    </tr>\n",
       "    <tr>\n",
       "      <th>930</th>\n",
       "      <td>10.291650</td>\n",
       "      <td>2.129946</td>\n",
       "      <td>1.981583</td>\n",
       "      <td>-21.022831</td>\n",
       "      <td>0.003008</td>\n",
       "      <td>0.001954</td>\n",
       "      <td>0.058677</td>\n",
       "      <td>957.5</td>\n",
       "      <td>0.0</td>\n",
       "      <td>69357.5</td>\n",
       "      <td>...</td>\n",
       "      <td>NaN</td>\n",
       "      <td>NaN</td>\n",
       "      <td>NaN</td>\n",
       "      <td>NaN</td>\n",
       "      <td>NaN</td>\n",
       "      <td>NaN</td>\n",
       "      <td>NaN</td>\n",
       "      <td>NaN</td>\n",
       "      <td>22331</td>\n",
       "      <td>3</td>\n",
       "    </tr>\n",
       "  </tbody>\n",
       "</table>\n",
       "<p>5 rows × 1307 columns</p>\n",
       "</div>"
      ],
      "text/plain": [
       "        anglez  anglez_diff_abs  anglez_diff_abs_clip5  anglez_mean      enmo  \\\n",
       "926  21.070280        21.889490               4.451904   -20.794807  0.027129   \n",
       "927  -2.156629        17.598087               3.993946   -21.465599  0.091583   \n",
       "928   6.870979        16.874817               4.571238   -17.906569  0.048471   \n",
       "929  11.430203         8.910088               3.756421    -5.006313  0.029496   \n",
       "930  10.291650         2.129946               1.981583   -21.022831  0.003008   \n",
       "\n",
       "     enmo_diff_abs  enmo_mean  minutes  same_count  total_seconds  ...  \\\n",
       "926       0.014742   0.037067    477.5         0.0        68877.5  ...   \n",
       "927       0.079287   0.072814    597.5         0.0        68997.5  ...   \n",
       "928       0.023354   0.085562    717.5         0.0        69117.5  ...   \n",
       "929       0.013204   0.031394    837.5         0.0        69237.5  ...   \n",
       "930       0.001954   0.058677    957.5         0.0        69357.5  ...   \n",
       "\n",
       "     enmo_rolling_median_100_shift_1000  \\\n",
       "926                                 NaN   \n",
       "927                                 NaN   \n",
       "928                                 NaN   \n",
       "929                                 NaN   \n",
       "930                                 NaN   \n",
       "\n",
       "     anglez_diff_abs_clip5_rolling_median_100_shift_1000  \\\n",
       "926                                                NaN     \n",
       "927                                                NaN     \n",
       "928                                                NaN     \n",
       "929                                                NaN     \n",
       "930                                                NaN     \n",
       "\n",
       "     enmo_std_rolling_median_100_shift_1000  \\\n",
       "926                                     NaN   \n",
       "927                                     NaN   \n",
       "928                                     NaN   \n",
       "929                                     NaN   \n",
       "930                                     NaN   \n",
       "\n",
       "     anglez_diff_abs_clip5_std_rolling_median_100_shift_1000  \\\n",
       "926                                                NaN         \n",
       "927                                                NaN         \n",
       "928                                                NaN         \n",
       "929                                                NaN         \n",
       "930                                                NaN         \n",
       "\n",
       "     enmo_rolling_square_mean_100_shift_1000  \\\n",
       "926                                      NaN   \n",
       "927                                      NaN   \n",
       "928                                      NaN   \n",
       "929                                      NaN   \n",
       "930                                      NaN   \n",
       "\n",
       "     anglez_diff_abs_clip5_rolling_square_mean_100_shift_1000  \\\n",
       "926                                                NaN          \n",
       "927                                                NaN          \n",
       "928                                                NaN          \n",
       "929                                                NaN          \n",
       "930                                                NaN          \n",
       "\n",
       "     enmo_std_rolling_square_mean_100_shift_1000  \\\n",
       "926                                          NaN   \n",
       "927                                          NaN   \n",
       "928                                          NaN   \n",
       "929                                          NaN   \n",
       "930                                          NaN   \n",
       "\n",
       "     anglez_diff_abs_clip5_std_rolling_square_mean_100_shift_1000  \\\n",
       "926                                                NaN              \n",
       "927                                                NaN              \n",
       "928                                                NaN              \n",
       "929                                                NaN              \n",
       "930                                                NaN              \n",
       "\n",
       "     reduce_step  fold  \n",
       "926        22235     3  \n",
       "927        22259     3  \n",
       "928        22283     3  \n",
       "929        22307     3  \n",
       "930        22331     3  \n",
       "\n",
       "[5 rows x 1307 columns]"
      ]
     },
     "metadata": {},
     "output_type": "display_data"
    },
    {
     "data": {
      "text/plain": [
       "(494843, 1307)"
      ]
     },
     "execution_count": 2,
     "metadata": {},
     "output_type": "execute_result"
    }
   ],
   "source": [
    "# 特徴生成\n",
    "files = glob(f\"{CFG['dataset']['step_csv_dir']}/*.parquet\")\n",
    "train, features = generate_features(files)\n",
    "\n",
    "# cv splitとマージ\n",
    "cv_split = pd.read_csv(CFG['dataset']['cv_split_path'])\n",
    "train[\"fold\"] = train[\"series_id\"].map(cv_split.set_index(\"series_id\")[\"fold\"])\n",
    "display(train.head(5))\n",
    "train.shape"
   ]
  },
  {
   "cell_type": "code",
   "execution_count": 3,
   "metadata": {},
   "outputs": [
    {
     "name": "stderr",
     "output_type": "stream",
     "text": [
      "  0%|          | 0/5 [00:00<?, ?it/s]"
     ]
    },
    {
     "name": "stdout",
     "output_type": "stream",
     "text": [
      "== fold 0 ==\n",
      "[100]\tvalid_0's rmse: 0.953821\tvalid_0's l2: 0.909774\n",
      "[200]\tvalid_0's rmse: 0.858676\tvalid_0's l2: 0.737324\n",
      "[300]\tvalid_0's rmse: 0.836508\tvalid_0's l2: 0.699745\n",
      "[400]\tvalid_0's rmse: 0.830416\tvalid_0's l2: 0.689591\n",
      "[500]\tvalid_0's rmse: 0.827641\tvalid_0's l2: 0.68499\n",
      "[600]\tvalid_0's rmse: 0.826564\tvalid_0's l2: 0.683208\n",
      "[700]\tvalid_0's rmse: 0.825988\tvalid_0's l2: 0.682256\n",
      "[800]\tvalid_0's rmse: 0.825526\tvalid_0's l2: 0.681493\n",
      "[900]\tvalid_0's rmse: 0.825142\tvalid_0's l2: 0.680859\n",
      "[1000]\tvalid_0's rmse: 0.824745\tvalid_0's l2: 0.680204\n",
      "[1100]\tvalid_0's rmse: 0.824485\tvalid_0's l2: 0.679776\n",
      "[1200]\tvalid_0's rmse: 0.824306\tvalid_0's l2: 0.679481\n",
      "[1300]\tvalid_0's rmse: 0.824162\tvalid_0's l2: 0.679243\n",
      "[1400]\tvalid_0's rmse: 0.82404\tvalid_0's l2: 0.679042\n"
     ]
    },
    {
     "name": "stderr",
     "output_type": "stream",
     "text": [
      " 20%|██        | 1/5 [03:11<12:47, 191.77s/it]"
     ]
    },
    {
     "name": "stdout",
     "output_type": "stream",
     "text": [
      "== fold 1 ==\n",
      "[100]\tvalid_0's rmse: 1.02436\tvalid_0's l2: 1.04931\n",
      "[200]\tvalid_0's rmse: 0.928837\tvalid_0's l2: 0.862738\n",
      "[300]\tvalid_0's rmse: 0.906652\tvalid_0's l2: 0.822019\n",
      "[400]\tvalid_0's rmse: 0.899513\tvalid_0's l2: 0.809124\n",
      "[500]\tvalid_0's rmse: 0.896203\tvalid_0's l2: 0.803179\n",
      "[600]\tvalid_0's rmse: 0.894687\tvalid_0's l2: 0.800465\n",
      "[700]\tvalid_0's rmse: 0.893855\tvalid_0's l2: 0.798977\n",
      "[800]\tvalid_0's rmse: 0.893178\tvalid_0's l2: 0.797767\n",
      "[900]\tvalid_0's rmse: 0.892627\tvalid_0's l2: 0.796783\n",
      "[1000]\tvalid_0's rmse: 0.892256\tvalid_0's l2: 0.79612\n",
      "[1100]\tvalid_0's rmse: 0.891792\tvalid_0's l2: 0.795294\n",
      "[1200]\tvalid_0's rmse: 0.89145\tvalid_0's l2: 0.794684\n",
      "[1300]\tvalid_0's rmse: 0.891163\tvalid_0's l2: 0.794172\n",
      "[1400]\tvalid_0's rmse: 0.890871\tvalid_0's l2: 0.793651\n",
      "[1500]\tvalid_0's rmse: 0.890612\tvalid_0's l2: 0.79319\n",
      "[1600]\tvalid_0's rmse: 0.890452\tvalid_0's l2: 0.792905\n",
      "[1700]\tvalid_0's rmse: 0.890343\tvalid_0's l2: 0.79271\n",
      "[1800]\tvalid_0's rmse: 0.890246\tvalid_0's l2: 0.792538\n",
      "[1900]\tvalid_0's rmse: 0.890098\tvalid_0's l2: 0.792274\n",
      "[2000]\tvalid_0's rmse: 0.889945\tvalid_0's l2: 0.792002\n"
     ]
    },
    {
     "name": "stderr",
     "output_type": "stream",
     "text": [
      " 40%|████      | 2/5 [07:01<10:41, 213.87s/it]"
     ]
    },
    {
     "name": "stdout",
     "output_type": "stream",
     "text": [
      "== fold 2 ==\n",
      "[100]\tvalid_0's rmse: 1.02165\tvalid_0's l2: 1.04376\n",
      "[200]\tvalid_0's rmse: 0.933645\tvalid_0's l2: 0.871693\n",
      "[300]\tvalid_0's rmse: 0.912131\tvalid_0's l2: 0.831983\n",
      "[400]\tvalid_0's rmse: 0.904729\tvalid_0's l2: 0.818534\n",
      "[500]\tvalid_0's rmse: 0.901931\tvalid_0's l2: 0.813479\n",
      "[600]\tvalid_0's rmse: 0.901121\tvalid_0's l2: 0.812018\n",
      "[700]\tvalid_0's rmse: 0.900572\tvalid_0's l2: 0.811031\n",
      "[800]\tvalid_0's rmse: 0.900176\tvalid_0's l2: 0.810318\n",
      "[900]\tvalid_0's rmse: 0.899983\tvalid_0's l2: 0.809969\n",
      "[1000]\tvalid_0's rmse: 0.899608\tvalid_0's l2: 0.809294\n",
      "[1100]\tvalid_0's rmse: 0.899572\tvalid_0's l2: 0.809229\n",
      "[1200]\tvalid_0's rmse: 0.899481\tvalid_0's l2: 0.809065\n",
      "[1300]\tvalid_0's rmse: 0.899411\tvalid_0's l2: 0.808939\n"
     ]
    },
    {
     "name": "stderr",
     "output_type": "stream",
     "text": [
      " 60%|██████    | 3/5 [09:44<06:21, 190.81s/it]"
     ]
    },
    {
     "name": "stdout",
     "output_type": "stream",
     "text": [
      "== fold 3 ==\n",
      "[100]\tvalid_0's rmse: 0.965971\tvalid_0's l2: 0.9331\n",
      "[200]\tvalid_0's rmse: 0.870728\tvalid_0's l2: 0.758168\n",
      "[300]\tvalid_0's rmse: 0.848733\tvalid_0's l2: 0.720348\n",
      "[400]\tvalid_0's rmse: 0.844029\tvalid_0's l2: 0.712385\n",
      "[500]\tvalid_0's rmse: 0.841715\tvalid_0's l2: 0.708484\n",
      "[600]\tvalid_0's rmse: 0.840789\tvalid_0's l2: 0.706926\n",
      "[700]\tvalid_0's rmse: 0.840204\tvalid_0's l2: 0.705944\n",
      "[800]\tvalid_0's rmse: 0.839872\tvalid_0's l2: 0.705385\n",
      "[900]\tvalid_0's rmse: 0.839621\tvalid_0's l2: 0.704964\n",
      "[1000]\tvalid_0's rmse: 0.839405\tvalid_0's l2: 0.7046\n",
      "[1100]\tvalid_0's rmse: 0.839306\tvalid_0's l2: 0.704435\n",
      "[1200]\tvalid_0's rmse: 0.83899\tvalid_0's l2: 0.703903\n",
      "[1300]\tvalid_0's rmse: 0.839074\tvalid_0's l2: 0.704045\n"
     ]
    },
    {
     "name": "stderr",
     "output_type": "stream",
     "text": [
      " 80%|████████  | 4/5 [12:23<02:58, 178.29s/it]"
     ]
    },
    {
     "name": "stdout",
     "output_type": "stream",
     "text": [
      "== fold 4 ==\n",
      "[100]\tvalid_0's rmse: 0.967728\tvalid_0's l2: 0.936497\n",
      "[200]\tvalid_0's rmse: 0.880353\tvalid_0's l2: 0.775021\n",
      "[300]\tvalid_0's rmse: 0.860811\tvalid_0's l2: 0.740996\n",
      "[400]\tvalid_0's rmse: 0.855166\tvalid_0's l2: 0.731309\n",
      "[500]\tvalid_0's rmse: 0.853033\tvalid_0's l2: 0.727665\n",
      "[600]\tvalid_0's rmse: 0.851689\tvalid_0's l2: 0.725373\n",
      "[700]\tvalid_0's rmse: 0.850825\tvalid_0's l2: 0.723904\n",
      "[800]\tvalid_0's rmse: 0.850462\tvalid_0's l2: 0.723286\n",
      "[900]\tvalid_0's rmse: 0.850122\tvalid_0's l2: 0.722707\n",
      "[1000]\tvalid_0's rmse: 0.850017\tvalid_0's l2: 0.722528\n",
      "[1100]\tvalid_0's rmse: 0.849995\tvalid_0's l2: 0.722491\n",
      "[1200]\tvalid_0's rmse: 0.849851\tvalid_0's l2: 0.722247\n"
     ]
    },
    {
     "name": "stderr",
     "output_type": "stream",
     "text": [
      "100%|██████████| 5/5 [14:54<00:00, 178.99s/it]\n",
      "  0%|          | 0/5 [00:00<?, ?it/s]"
     ]
    },
    {
     "name": "stdout",
     "output_type": "stream",
     "text": [
      "== fold 0 ==\n",
      "[100]\tvalid_0's rmse: 0.945344\tvalid_0's l2: 0.893676\n",
      "[200]\tvalid_0's rmse: 0.846683\tvalid_0's l2: 0.716872\n",
      "[300]\tvalid_0's rmse: 0.823681\tvalid_0's l2: 0.678451\n",
      "[400]\tvalid_0's rmse: 0.816678\tvalid_0's l2: 0.666964\n",
      "[500]\tvalid_0's rmse: 0.814312\tvalid_0's l2: 0.663104\n",
      "[600]\tvalid_0's rmse: 0.81344\tvalid_0's l2: 0.661685\n",
      "[700]\tvalid_0's rmse: 0.813229\tvalid_0's l2: 0.661342\n",
      "[800]\tvalid_0's rmse: 0.812999\tvalid_0's l2: 0.660968\n"
     ]
    },
    {
     "name": "stderr",
     "output_type": "stream",
     "text": [
      " 20%|██        | 1/5 [01:58<07:54, 118.75s/it]"
     ]
    },
    {
     "name": "stdout",
     "output_type": "stream",
     "text": [
      "== fold 1 ==\n",
      "[100]\tvalid_0's rmse: 0.992306\tvalid_0's l2: 0.984672\n",
      "[200]\tvalid_0's rmse: 0.884759\tvalid_0's l2: 0.782799\n",
      "[300]\tvalid_0's rmse: 0.857912\tvalid_0's l2: 0.736013\n",
      "[400]\tvalid_0's rmse: 0.847512\tvalid_0's l2: 0.718277\n",
      "[500]\tvalid_0's rmse: 0.843329\tvalid_0's l2: 0.711204\n",
      "[600]\tvalid_0's rmse: 0.841798\tvalid_0's l2: 0.708623\n",
      "[700]\tvalid_0's rmse: 0.841362\tvalid_0's l2: 0.70789\n",
      "[800]\tvalid_0's rmse: 0.840688\tvalid_0's l2: 0.706756\n",
      "[900]\tvalid_0's rmse: 0.84022\tvalid_0's l2: 0.705969\n",
      "[1000]\tvalid_0's rmse: 0.840129\tvalid_0's l2: 0.705816\n",
      "[1100]\tvalid_0's rmse: 0.839771\tvalid_0's l2: 0.705216\n",
      "[1200]\tvalid_0's rmse: 0.83943\tvalid_0's l2: 0.704643\n",
      "[1300]\tvalid_0's rmse: 0.839234\tvalid_0's l2: 0.704313\n",
      "[1400]\tvalid_0's rmse: 0.839101\tvalid_0's l2: 0.70409\n",
      "[1500]\tvalid_0's rmse: 0.838975\tvalid_0's l2: 0.703878\n",
      "[1600]\tvalid_0's rmse: 0.838887\tvalid_0's l2: 0.703731\n",
      "[1700]\tvalid_0's rmse: 0.838774\tvalid_0's l2: 0.703542\n",
      "[1800]\tvalid_0's rmse: 0.838787\tvalid_0's l2: 0.703564\n",
      "[1900]\tvalid_0's rmse: 0.838555\tvalid_0's l2: 0.703174\n",
      "[2000]\tvalid_0's rmse: 0.838428\tvalid_0's l2: 0.702962\n",
      "[2100]\tvalid_0's rmse: 0.838404\tvalid_0's l2: 0.702922\n"
     ]
    },
    {
     "name": "stderr",
     "output_type": "stream",
     "text": [
      " 40%|████      | 2/5 [05:39<08:56, 178.70s/it]"
     ]
    },
    {
     "name": "stdout",
     "output_type": "stream",
     "text": [
      "== fold 2 ==\n",
      "[100]\tvalid_0's rmse: 0.994806\tvalid_0's l2: 0.98964\n",
      "[200]\tvalid_0's rmse: 0.898662\tvalid_0's l2: 0.807594\n",
      "[300]\tvalid_0's rmse: 0.874745\tvalid_0's l2: 0.76518\n",
      "[400]\tvalid_0's rmse: 0.867285\tvalid_0's l2: 0.752183\n",
      "[500]\tvalid_0's rmse: 0.864788\tvalid_0's l2: 0.747858\n",
      "[600]\tvalid_0's rmse: 0.863712\tvalid_0's l2: 0.745998\n",
      "[700]\tvalid_0's rmse: 0.863131\tvalid_0's l2: 0.744996\n",
      "[800]\tvalid_0's rmse: 0.862702\tvalid_0's l2: 0.744256\n",
      "[900]\tvalid_0's rmse: 0.862575\tvalid_0's l2: 0.744036\n"
     ]
    },
    {
     "name": "stderr",
     "output_type": "stream",
     "text": [
      " 60%|██████    | 3/5 [08:00<05:23, 161.59s/it]"
     ]
    },
    {
     "name": "stdout",
     "output_type": "stream",
     "text": [
      "== fold 3 ==\n",
      "[100]\tvalid_0's rmse: 0.978347\tvalid_0's l2: 0.957164\n",
      "[200]\tvalid_0's rmse: 0.898416\tvalid_0's l2: 0.807152\n",
      "[300]\tvalid_0's rmse: 0.882986\tvalid_0's l2: 0.779664\n",
      "[400]\tvalid_0's rmse: 0.879228\tvalid_0's l2: 0.773042\n",
      "[500]\tvalid_0's rmse: 0.877908\tvalid_0's l2: 0.770723\n",
      "[600]\tvalid_0's rmse: 0.877501\tvalid_0's l2: 0.770008\n",
      "[700]\tvalid_0's rmse: 0.87704\tvalid_0's l2: 0.7692\n",
      "[800]\tvalid_0's rmse: 0.876809\tvalid_0's l2: 0.768794\n",
      "[900]\tvalid_0's rmse: 0.8766\tvalid_0's l2: 0.768427\n",
      "[1000]\tvalid_0's rmse: 0.876615\tvalid_0's l2: 0.768453\n"
     ]
    },
    {
     "name": "stderr",
     "output_type": "stream",
     "text": [
      " 80%|████████  | 4/5 [10:17<02:31, 151.68s/it]"
     ]
    },
    {
     "name": "stdout",
     "output_type": "stream",
     "text": [
      "== fold 4 ==\n",
      "[100]\tvalid_0's rmse: 0.972169\tvalid_0's l2: 0.945113\n",
      "[200]\tvalid_0's rmse: 0.886079\tvalid_0's l2: 0.785135\n",
      "[300]\tvalid_0's rmse: 0.867412\tvalid_0's l2: 0.752403\n",
      "[400]\tvalid_0's rmse: 0.861683\tvalid_0's l2: 0.742497\n",
      "[500]\tvalid_0's rmse: 0.859573\tvalid_0's l2: 0.738866\n",
      "[600]\tvalid_0's rmse: 0.858721\tvalid_0's l2: 0.737401\n",
      "[700]\tvalid_0's rmse: 0.858259\tvalid_0's l2: 0.736608\n",
      "[800]\tvalid_0's rmse: 0.857965\tvalid_0's l2: 0.736105\n",
      "[900]\tvalid_0's rmse: 0.857641\tvalid_0's l2: 0.735547\n",
      "[1000]\tvalid_0's rmse: 0.857555\tvalid_0's l2: 0.7354\n",
      "[1100]\tvalid_0's rmse: 0.857493\tvalid_0's l2: 0.735295\n",
      "[1200]\tvalid_0's rmse: 0.857403\tvalid_0's l2: 0.735139\n",
      "[1300]\tvalid_0's rmse: 0.857254\tvalid_0's l2: 0.734885\n",
      "[1400]\tvalid_0's rmse: 0.857243\tvalid_0's l2: 0.734865\n"
     ]
    },
    {
     "name": "stderr",
     "output_type": "stream",
     "text": [
      "100%|██████████| 5/5 [13:01<00:00, 156.27s/it]\n"
     ]
    }
   ],
   "source": [
    "# 学習\n",
    "dfs = []\n",
    "for event in [\"wakeup\", \"onset\"]:\n",
    "    trn_oof, models = fit_lgb(\n",
    "        X=train, \n",
    "        y=train[f\"{event}_target\"], \n",
    "        folds=train[\"fold\"].astype(int), \n",
    "        features=features.all_features(),\n",
    "        params=CFG[MODEL_NAME][\"lightgbm\"], \n",
    "        es_rounds=100,\n",
    "    )\n",
    "    train[\"score\"] = trn_oof\n",
    "    train[\"event\"] = event\n",
    "    dfs.append(train[[\"series_id\", \"step\", \"score\", \"event\"]])\n",
    "\n",
    "    # 保存\n",
    "    for i, model in enumerate(models):\n",
    "        joblib.dump(model, os.path.join(CFG[\"output_dir\"], f'lgb_{event}_fold_{i}.pkl'))\n",
    "del train\n",
    "gc.collect()\n",
    "train = pd.concat(dfs, axis=0)\n",
    "train[\"step\"] = train[\"step\"].astype(int)\n",
    "train = train.sort_values([\"series_id\", \"step\"]).reset_index(drop=True)\n",
    "\n",
    "with open(os.path.join(CFG[\"output_dir\"], \"features.pkl\"), \"wb\") as f:\n",
    "    pickle.dump(features, f)\n",
    "train.to_csv(os.path.join(CFG[\"output_dir\"], \"oof.csv\"), index=False)"
   ]
  },
  {
   "cell_type": "markdown",
   "metadata": {},
   "source": [
    "## Dynamic-Range NMS"
   ]
  },
  {
   "cell_type": "code",
   "execution_count": 4,
   "metadata": {},
   "outputs": [
    {
     "data": {
      "text/plain": [
       "<AxesSubplot: >"
      ]
     },
     "execution_count": 4,
     "metadata": {},
     "output_type": "execute_result"
    },
    {
     "data": {
      "image/png": "[encoded data removed]",
      "text/plain": [
       "<Figure size 640x480 with 1 Axes>"
      ]
     },
     "metadata": {},
     "output_type": "display_data"
    }
   ],
   "source": [
    "train = train[train[\"score\"] > 0.005]\n",
    "train[\"score\"].hist()"
   ]
  },
  {
   "cell_type": "code",
   "execution_count": 5,
   "metadata": {},
   "outputs": [
    {
     "name": "stderr",
     "output_type": "stream",
     "text": [
      "100%|██████████| 277/277 [00:07<00:00, 39.37it/s]\n"
     ]
    }
   ],
   "source": [
    "from utils.postprocess import dynamic_range_nms\n",
    "from multiprocessing import Pool\n",
    "from tqdm import tqdm\n",
    "\n",
    "train[\"step\"] = train[\"step\"].astype(int)\n",
    "\n",
    "groups = [group for _, group in train.groupby(\"series_id\")]\n",
    "with Pool(30) as p:  \n",
    "    results = list(tqdm(p.imap(dynamic_range_nms, groups), total=len(groups)))\n",
    "sub = pd.concat(results)\n",
    "sub[\"score\"] = sub[\"reduced_score\"]"
   ]
  },
  {
   "cell_type": "code",
   "execution_count": 6,
   "metadata": {},
   "outputs": [
    {
     "name": "stdout",
     "output_type": "stream",
     "text": [
      "score: 0.7831\n"
     ]
    },
    {
     "data": {
      "text/plain": [
       "event   tolerance\n",
       "onset   12           0.265584\n",
       "        36           0.683226\n",
       "        60           0.779602\n",
       "        90           0.826249\n",
       "        120          0.846644\n",
       "        150          0.863596\n",
       "        180          0.874068\n",
       "        240          0.889241\n",
       "        300          0.894927\n",
       "        360          0.899833\n",
       "wakeup  12           0.226525\n",
       "        36           0.699517\n",
       "        60           0.783603\n",
       "        90           0.826248\n",
       "        120          0.849456\n",
       "        150          0.865043\n",
       "        180          0.877675\n",
       "        240          0.893335\n",
       "        300          0.903621\n",
       "        360          0.913649\n",
       "dtype: float64"
      ]
     },
     "metadata": {},
     "output_type": "display_data"
    }
   ],
   "source": [
    "# スコア計算\n",
    "labels = pd.read_csv(f\"{CFG['dataset']['competition_dir']}/train_events.csv\").dropna()\n",
    "score, ap_table = compute_comptetition_metric(labels, sub)\n",
    "\n",
    "print(f\"score: {score:.4f}\")\n",
    "display(ap_table)\n",
    "sub.to_csv(os.path.join(CFG[\"output_dir\"], \"submission_after_nms.csv\"), index=False)"
   ]
  },
  {
   "cell_type": "code",
   "execution_count": null,
   "metadata": {},
   "outputs": [],
   "source": []
  },
  {
   "cell_type": "code",
   "execution_count": null,
   "metadata": {},
   "outputs": [],
   "source": []
  }
 ],
 "metadata": {
  "kernelspec": {
   "display_name": "base",
   "language": "python",
   "name": "python3"
  },
  "language_info": {
   "codemirror_mode": {
    "name": "ipython",
    "version": 3
   },
   "file_extension": ".py",
   "mimetype": "text/x-python",
   "name": "python",
   "nbconvert_exporter": "python",
   "pygments_lexer": "ipython3",
   "version": "3.10.10"
  },
  "orig_nbformat": 4
 },
 "nbformat": 4,
 "nbformat_minor": 2
}
