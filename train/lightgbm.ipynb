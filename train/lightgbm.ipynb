{
 "cells": [
  {
   "cell_type": "code",
   "execution_count": 1,
   "metadata": {},
   "outputs": [
    {
     "name": "stderr",
     "output_type": "stream",
     "text": [
      "2023-11-13 03:54:31.683374: I tensorflow/core/platform/cpu_feature_guard.cc:193] This TensorFlow binary is optimized with oneAPI Deep Neural Network Library (oneDNN) to use the following CPU instructions in performance-critical operations:  AVX2 AVX_VNNI FMA\n",
      "To enable them in other operations, rebuild TensorFlow with the appropriate compiler flags.\n",
      "2023-11-13 03:54:34.510885: I tensorflow/core/util/port.cc:104] oneDNN custom operations are on. You may see slightly different numerical results due to floating-point round-off errors from different computation orders. To turn them off, set the environment variable `TF_ENABLE_ONEDNN_OPTS=0`.\n",
      "2023-11-13 03:54:43.741719: W tensorflow/compiler/xla/stream_executor/platform/default/dso_loader.cc:64] Could not load dynamic library 'libnvinfer.so.7'; dlerror: libnvinfer.so.7: cannot open shared object file: No such file or directory; LD_LIBRARY_PATH: /usr/local/cuda/lib64:/usr/local/cuda/lib:/usr/local/lib/x86_64-linux-gnu:/usr/local/nvidia/lib:/usr/local/nvidia/lib64:/usr/local/nvidia/lib:/usr/local/nvidia/lib64:/opt/conda/lib\n",
      "2023-11-13 03:54:43.741886: W tensorflow/compiler/xla/stream_executor/platform/default/dso_loader.cc:64] Could not load dynamic library 'libnvinfer_plugin.so.7'; dlerror: libnvinfer_plugin.so.7: cannot open shared object file: No such file or directory; LD_LIBRARY_PATH: /usr/local/cuda/lib64:/usr/local/cuda/lib:/usr/local/lib/x86_64-linux-gnu:/usr/local/nvidia/lib:/usr/local/nvidia/lib64:/usr/local/nvidia/lib:/usr/local/nvidia/lib64:/opt/conda/lib\n",
      "2023-11-13 03:54:43.741893: W tensorflow/compiler/tf2tensorrt/utils/py_utils.cc:38] TF-TRT Warning: Cannot dlopen some TensorRT libraries. If you would like to use Nvidia GPU with TensorRT, please make sure the missing libraries mentioned above are installed properly.\n"
     ]
    },
    {
     "name": "stdout",
     "output_type": "stream",
     "text": [
      "exp_136\n",
      "rm: cannot remove '/kaggle/output/exp_136': No such file or directory\n"
     ]
    }
   ],
   "source": [
    "import pandas as pd\n",
    "import yaml\n",
    "import sys\n",
    "import os\n",
    "from glob import glob\n",
    "from pathlib import Path\n",
    "import gc\n",
    "import pickle\n",
    "import joblib\n",
    "\n",
    "import warnings\n",
    "warnings.filterwarnings('ignore')\n",
    "\n",
    "sys.path.append('/kaggle/src')\n",
    "from utils.lgb import fit_lgb\n",
    "from utils.metric import compute_comptetition_metric\n",
    "from utils.set_seed import seed_base\n",
    "from feature_engineering.fe_xgb import generate_features\n",
    "\n",
    "MODEL_NAME = \"lgb_model\"\n",
    "PACKAGE_DIR = Path(\"/kaggle/src\")\n",
    "CFG = yaml.safe_load(open(PACKAGE_DIR / \"config.yaml\", \"r\"))\n",
    "print(CFG[MODEL_NAME][\"execution\"][\"exp_id\"])\n",
    "\n",
    "CFG[\"output_dir\"] = f\"/kaggle/output/{CFG[MODEL_NAME]['execution']['exp_id']}\"\n",
    "!rm -r {CFG[\"output_dir\"]}\n",
    "os.makedirs(CFG[\"output_dir\"], exist_ok=True)\n",
    "\n",
    "seed_base(CFG[\"env\"][\"seed\"])"
   ]
  },
  {
   "cell_type": "code",
   "execution_count": 2,
   "metadata": {},
   "outputs": [
    {
     "name": "stderr",
     "output_type": "stream",
     "text": [
      "generate features: 100%|██████████| 277/277 [05:04<00:00,  1.10s/it]\n"
     ]
    },
    {
     "data": {
      "text/html": [
       "<div>\n",
       "<style scoped>\n",
       "    .dataframe tbody tr th:only-of-type {\n",
       "        vertical-align: middle;\n",
       "    }\n",
       "\n",
       "    .dataframe tbody tr th {\n",
       "        vertical-align: top;\n",
       "    }\n",
       "\n",
       "    .dataframe thead th {\n",
       "        text-align: right;\n",
       "    }\n",
       "</style>\n",
       "<table border=\"1\" class=\"dataframe\">\n",
       "  <thead>\n",
       "    <tr style=\"text-align: right;\">\n",
       "      <th></th>\n",
       "      <th>anglez</th>\n",
       "      <th>anglez_diff_abs</th>\n",
       "      <th>anglez_diff_abs_clip5</th>\n",
       "      <th>anglez_mean</th>\n",
       "      <th>enmo</th>\n",
       "      <th>enmo_diff_abs</th>\n",
       "      <th>enmo_mean</th>\n",
       "      <th>minutes</th>\n",
       "      <th>same_count</th>\n",
       "      <th>total_seconds</th>\n",
       "      <th>...</th>\n",
       "      <th>enmo_std_rolling_median_100_shift_1000</th>\n",
       "      <th>anglez_diff_abs_clip5_std_rolling_median_100_shift_1000</th>\n",
       "      <th>same_count_rolling_median_100_shift_1000</th>\n",
       "      <th>enmo_rolling_square_mean_100_shift_1000</th>\n",
       "      <th>anglez_diff_abs_clip5_rolling_square_mean_100_shift_1000</th>\n",
       "      <th>enmo_std_rolling_square_mean_100_shift_1000</th>\n",
       "      <th>anglez_diff_abs_clip5_std_rolling_square_mean_100_shift_1000</th>\n",
       "      <th>same_count_rolling_square_mean_100_shift_1000</th>\n",
       "      <th>reduce_step</th>\n",
       "      <th>fold</th>\n",
       "    </tr>\n",
       "  </thead>\n",
       "  <tbody>\n",
       "    <tr>\n",
       "      <th>27</th>\n",
       "      <td>-88.181526</td>\n",
       "      <td>0.078712</td>\n",
       "      <td>0.078712</td>\n",
       "      <td>-12.090329</td>\n",
       "      <td>0.029175</td>\n",
       "      <td>0.000292</td>\n",
       "      <td>0.030480</td>\n",
       "      <td>597.5</td>\n",
       "      <td>0.0</td>\n",
       "      <td>47397.5</td>\n",
       "      <td>...</td>\n",
       "      <td>NaN</td>\n",
       "      <td>NaN</td>\n",
       "      <td>NaN</td>\n",
       "      <td>NaN</td>\n",
       "      <td>NaN</td>\n",
       "      <td>NaN</td>\n",
       "      <td>NaN</td>\n",
       "      <td>NaN</td>\n",
       "      <td>659</td>\n",
       "      <td>3</td>\n",
       "    </tr>\n",
       "    <tr>\n",
       "      <th>28</th>\n",
       "      <td>-88.507393</td>\n",
       "      <td>0.106242</td>\n",
       "      <td>0.106242</td>\n",
       "      <td>-7.547437</td>\n",
       "      <td>0.029108</td>\n",
       "      <td>0.000433</td>\n",
       "      <td>0.051443</td>\n",
       "      <td>717.5</td>\n",
       "      <td>0.0</td>\n",
       "      <td>47517.5</td>\n",
       "      <td>...</td>\n",
       "      <td>NaN</td>\n",
       "      <td>NaN</td>\n",
       "      <td>NaN</td>\n",
       "      <td>NaN</td>\n",
       "      <td>NaN</td>\n",
       "      <td>NaN</td>\n",
       "      <td>NaN</td>\n",
       "      <td>NaN</td>\n",
       "      <td>683</td>\n",
       "      <td>3</td>\n",
       "    </tr>\n",
       "    <tr>\n",
       "      <th>29</th>\n",
       "      <td>-89.259064</td>\n",
       "      <td>0.057546</td>\n",
       "      <td>0.057546</td>\n",
       "      <td>-10.070161</td>\n",
       "      <td>0.029858</td>\n",
       "      <td>0.000262</td>\n",
       "      <td>0.104063</td>\n",
       "      <td>837.5</td>\n",
       "      <td>0.0</td>\n",
       "      <td>47637.5</td>\n",
       "      <td>...</td>\n",
       "      <td>NaN</td>\n",
       "      <td>NaN</td>\n",
       "      <td>NaN</td>\n",
       "      <td>NaN</td>\n",
       "      <td>NaN</td>\n",
       "      <td>NaN</td>\n",
       "      <td>NaN</td>\n",
       "      <td>NaN</td>\n",
       "      <td>707</td>\n",
       "      <td>3</td>\n",
       "    </tr>\n",
       "    <tr>\n",
       "      <th>30</th>\n",
       "      <td>-87.457848</td>\n",
       "      <td>0.147454</td>\n",
       "      <td>0.147454</td>\n",
       "      <td>-0.726222</td>\n",
       "      <td>0.029458</td>\n",
       "      <td>0.000533</td>\n",
       "      <td>0.095024</td>\n",
       "      <td>957.5</td>\n",
       "      <td>0.0</td>\n",
       "      <td>47757.5</td>\n",
       "      <td>...</td>\n",
       "      <td>NaN</td>\n",
       "      <td>NaN</td>\n",
       "      <td>NaN</td>\n",
       "      <td>NaN</td>\n",
       "      <td>NaN</td>\n",
       "      <td>NaN</td>\n",
       "      <td>NaN</td>\n",
       "      <td>NaN</td>\n",
       "      <td>731</td>\n",
       "      <td>3</td>\n",
       "    </tr>\n",
       "    <tr>\n",
       "      <th>31</th>\n",
       "      <td>-86.225922</td>\n",
       "      <td>0.169739</td>\n",
       "      <td>0.169739</td>\n",
       "      <td>-5.723403</td>\n",
       "      <td>0.030287</td>\n",
       "      <td>0.001758</td>\n",
       "      <td>0.092043</td>\n",
       "      <td>1077.5</td>\n",
       "      <td>0.0</td>\n",
       "      <td>47877.5</td>\n",
       "      <td>...</td>\n",
       "      <td>NaN</td>\n",
       "      <td>NaN</td>\n",
       "      <td>NaN</td>\n",
       "      <td>NaN</td>\n",
       "      <td>NaN</td>\n",
       "      <td>NaN</td>\n",
       "      <td>NaN</td>\n",
       "      <td>NaN</td>\n",
       "      <td>755</td>\n",
       "      <td>3</td>\n",
       "    </tr>\n",
       "  </tbody>\n",
       "</table>\n",
       "<p>5 rows × 1627 columns</p>\n",
       "</div>"
      ],
      "text/plain": [
       "       anglez  anglez_diff_abs  anglez_diff_abs_clip5  anglez_mean      enmo  \\\n",
       "27 -88.181526         0.078712               0.078712   -12.090329  0.029175   \n",
       "28 -88.507393         0.106242               0.106242    -7.547437  0.029108   \n",
       "29 -89.259064         0.057546               0.057546   -10.070161  0.029858   \n",
       "30 -87.457848         0.147454               0.147454    -0.726222  0.029458   \n",
       "31 -86.225922         0.169739               0.169739    -5.723403  0.030287   \n",
       "\n",
       "    enmo_diff_abs  enmo_mean  minutes  same_count  total_seconds  ...  \\\n",
       "27       0.000292   0.030480    597.5         0.0        47397.5  ...   \n",
       "28       0.000433   0.051443    717.5         0.0        47517.5  ...   \n",
       "29       0.000262   0.104063    837.5         0.0        47637.5  ...   \n",
       "30       0.000533   0.095024    957.5         0.0        47757.5  ...   \n",
       "31       0.001758   0.092043   1077.5         0.0        47877.5  ...   \n",
       "\n",
       "    enmo_std_rolling_median_100_shift_1000  \\\n",
       "27                                     NaN   \n",
       "28                                     NaN   \n",
       "29                                     NaN   \n",
       "30                                     NaN   \n",
       "31                                     NaN   \n",
       "\n",
       "    anglez_diff_abs_clip5_std_rolling_median_100_shift_1000  \\\n",
       "27                                                NaN         \n",
       "28                                                NaN         \n",
       "29                                                NaN         \n",
       "30                                                NaN         \n",
       "31                                                NaN         \n",
       "\n",
       "    same_count_rolling_median_100_shift_1000  \\\n",
       "27                                       NaN   \n",
       "28                                       NaN   \n",
       "29                                       NaN   \n",
       "30                                       NaN   \n",
       "31                                       NaN   \n",
       "\n",
       "    enmo_rolling_square_mean_100_shift_1000  \\\n",
       "27                                      NaN   \n",
       "28                                      NaN   \n",
       "29                                      NaN   \n",
       "30                                      NaN   \n",
       "31                                      NaN   \n",
       "\n",
       "    anglez_diff_abs_clip5_rolling_square_mean_100_shift_1000  \\\n",
       "27                                                NaN          \n",
       "28                                                NaN          \n",
       "29                                                NaN          \n",
       "30                                                NaN          \n",
       "31                                                NaN          \n",
       "\n",
       "    enmo_std_rolling_square_mean_100_shift_1000  \\\n",
       "27                                          NaN   \n",
       "28                                          NaN   \n",
       "29                                          NaN   \n",
       "30                                          NaN   \n",
       "31                                          NaN   \n",
       "\n",
       "    anglez_diff_abs_clip5_std_rolling_square_mean_100_shift_1000  \\\n",
       "27                                                NaN              \n",
       "28                                                NaN              \n",
       "29                                                NaN              \n",
       "30                                                NaN              \n",
       "31                                                NaN              \n",
       "\n",
       "    same_count_rolling_square_mean_100_shift_1000  reduce_step  fold  \n",
       "27                                            NaN          659     3  \n",
       "28                                            NaN          683     3  \n",
       "29                                            NaN          707     3  \n",
       "30                                            NaN          731     3  \n",
       "31                                            NaN          755     3  \n",
       "\n",
       "[5 rows x 1627 columns]"
      ]
     },
     "metadata": {},
     "output_type": "display_data"
    },
    {
     "data": {
      "text/plain": [
       "(471955, 1627)"
      ]
     },
     "execution_count": 2,
     "metadata": {},
     "output_type": "execute_result"
    }
   ],
   "source": [
    "# 特徴生成\n",
    "files = glob(f\"{CFG['dataset']['step_csv_dir']}/*.parquet\")\n",
    "train, features = generate_features(files)\n",
    "\n",
    "# cv splitとマージ\n",
    "cv_split = pd.read_csv(CFG['dataset']['cv_split_path'])\n",
    "train[\"fold\"] = train[\"series_id\"].map(cv_split.set_index(\"series_id\")[\"fold\"])\n",
    "display(train.head(5))\n",
    "train.shape"
   ]
  },
  {
   "cell_type": "code",
   "execution_count": 3,
   "metadata": {},
   "outputs": [
    {
     "name": "stderr",
     "output_type": "stream",
     "text": [
      "  0%|          | 0/5 [00:00<?, ?it/s]"
     ]
    },
    {
     "name": "stdout",
     "output_type": "stream",
     "text": [
      "== fold 0 ==\n",
      "[100]\tvalid_0's rmse: 1.11014\tvalid_0's l2: 1.23241\n",
      "[200]\tvalid_0's rmse: 1.00239\tvalid_0's l2: 1.00478\n",
      "[300]\tvalid_0's rmse: 0.977229\tvalid_0's l2: 0.954977\n",
      "[400]\tvalid_0's rmse: 0.97075\tvalid_0's l2: 0.942356\n",
      "[500]\tvalid_0's rmse: 0.968267\tvalid_0's l2: 0.937541\n",
      "[600]\tvalid_0's rmse: 0.967211\tvalid_0's l2: 0.935496\n",
      "[700]\tvalid_0's rmse: 0.966669\tvalid_0's l2: 0.934449\n",
      "[800]\tvalid_0's rmse: 0.966392\tvalid_0's l2: 0.933914\n",
      "[900]\tvalid_0's rmse: 0.966296\tvalid_0's l2: 0.933727\n",
      "[1000]\tvalid_0's rmse: 0.966157\tvalid_0's l2: 0.933459\n",
      "[1100]\tvalid_0's rmse: 0.965973\tvalid_0's l2: 0.933103\n",
      "[1200]\tvalid_0's rmse: 0.965945\tvalid_0's l2: 0.933049\n",
      "[1300]\tvalid_0's rmse: 0.965768\tvalid_0's l2: 0.932709\n",
      "[1400]\tvalid_0's rmse: 0.965562\tvalid_0's l2: 0.93231\n",
      "[1500]\tvalid_0's rmse: 0.965556\tvalid_0's l2: 0.932299\n",
      "[1600]\tvalid_0's rmse: 0.965446\tvalid_0's l2: 0.932086\n",
      "[1700]\tvalid_0's rmse: 0.965309\tvalid_0's l2: 0.931822\n",
      "[1800]\tvalid_0's rmse: 0.965246\tvalid_0's l2: 0.9317\n",
      "[1900]\tvalid_0's rmse: 0.965015\tvalid_0's l2: 0.931254\n",
      "[2000]\tvalid_0's rmse: 0.96512\tvalid_0's l2: 0.931456\n"
     ]
    },
    {
     "name": "stderr",
     "output_type": "stream",
     "text": [
      " 20%|██        | 1/5 [05:27<21:48, 327.09s/it]"
     ]
    },
    {
     "name": "stdout",
     "output_type": "stream",
     "text": [
      "== fold 1 ==\n",
      "[100]\tvalid_0's rmse: 1.12251\tvalid_0's l2: 1.26002\n",
      "[200]\tvalid_0's rmse: 1.02175\tvalid_0's l2: 1.04397\n",
      "[300]\tvalid_0's rmse: 0.996048\tvalid_0's l2: 0.992111\n",
      "[400]\tvalid_0's rmse: 0.98836\tvalid_0's l2: 0.976856\n",
      "[500]\tvalid_0's rmse: 0.985188\tvalid_0's l2: 0.970596\n",
      "[600]\tvalid_0's rmse: 0.983594\tvalid_0's l2: 0.967456\n",
      "[700]\tvalid_0's rmse: 0.982682\tvalid_0's l2: 0.965663\n",
      "[800]\tvalid_0's rmse: 0.981998\tvalid_0's l2: 0.964321\n",
      "[900]\tvalid_0's rmse: 0.981558\tvalid_0's l2: 0.963456\n",
      "[1000]\tvalid_0's rmse: 0.981215\tvalid_0's l2: 0.962784\n",
      "[1100]\tvalid_0's rmse: 0.980966\tvalid_0's l2: 0.962294\n",
      "[1200]\tvalid_0's rmse: 0.980852\tvalid_0's l2: 0.96207\n",
      "[1300]\tvalid_0's rmse: 0.98066\tvalid_0's l2: 0.961695\n",
      "[1400]\tvalid_0's rmse: 0.980525\tvalid_0's l2: 0.96143\n",
      "[1500]\tvalid_0's rmse: 0.980306\tvalid_0's l2: 0.960999\n",
      "[1600]\tvalid_0's rmse: 0.980025\tvalid_0's l2: 0.960449\n",
      "[1700]\tvalid_0's rmse: 0.97971\tvalid_0's l2: 0.959832\n",
      "[1800]\tvalid_0's rmse: 0.979454\tvalid_0's l2: 0.95933\n",
      "[1900]\tvalid_0's rmse: 0.979308\tvalid_0's l2: 0.959044\n",
      "[2000]\tvalid_0's rmse: 0.979318\tvalid_0's l2: 0.959063\n",
      "[2100]\tvalid_0's rmse: 0.97909\tvalid_0's l2: 0.958617\n",
      "[2200]\tvalid_0's rmse: 0.978936\tvalid_0's l2: 0.958316\n",
      "[2300]\tvalid_0's rmse: 0.978992\tvalid_0's l2: 0.958425\n",
      "[2400]\tvalid_0's rmse: 0.978775\tvalid_0's l2: 0.958\n",
      "[2500]\tvalid_0's rmse: 0.978765\tvalid_0's l2: 0.95798\n",
      "[2600]\tvalid_0's rmse: 0.978629\tvalid_0's l2: 0.957714\n",
      "[2700]\tvalid_0's rmse: 0.978603\tvalid_0's l2: 0.957663\n"
     ]
    },
    {
     "name": "stderr",
     "output_type": "stream",
     "text": [
      " 40%|████      | 2/5 [09:17<13:31, 270.42s/it]"
     ]
    },
    {
     "name": "stdout",
     "output_type": "stream",
     "text": [
      "== fold 2 ==\n",
      "[100]\tvalid_0's rmse: 1.18939\tvalid_0's l2: 1.41465\n",
      "[200]\tvalid_0's rmse: 1.09131\tvalid_0's l2: 1.19096\n",
      "[300]\tvalid_0's rmse: 1.06519\tvalid_0's l2: 1.13462\n",
      "[400]\tvalid_0's rmse: 1.05791\tvalid_0's l2: 1.11918\n",
      "[500]\tvalid_0's rmse: 1.05512\tvalid_0's l2: 1.11328\n",
      "[600]\tvalid_0's rmse: 1.05391\tvalid_0's l2: 1.11073\n",
      "[700]\tvalid_0's rmse: 1.05327\tvalid_0's l2: 1.10938\n",
      "[800]\tvalid_0's rmse: 1.05279\tvalid_0's l2: 1.10837\n",
      "[900]\tvalid_0's rmse: 1.0522\tvalid_0's l2: 1.10713\n",
      "[1000]\tvalid_0's rmse: 1.05183\tvalid_0's l2: 1.10634\n",
      "[1100]\tvalid_0's rmse: 1.05153\tvalid_0's l2: 1.10571\n",
      "[1200]\tvalid_0's rmse: 1.05132\tvalid_0's l2: 1.10527\n",
      "[1300]\tvalid_0's rmse: 1.05114\tvalid_0's l2: 1.10489\n",
      "[1400]\tvalid_0's rmse: 1.05102\tvalid_0's l2: 1.10464\n",
      "[1500]\tvalid_0's rmse: 1.05091\tvalid_0's l2: 1.10442\n",
      "[1600]\tvalid_0's rmse: 1.05078\tvalid_0's l2: 1.10413\n",
      "[1700]\tvalid_0's rmse: 1.05055\tvalid_0's l2: 1.10366\n",
      "[1800]\tvalid_0's rmse: 1.05051\tvalid_0's l2: 1.10358\n"
     ]
    },
    {
     "name": "stderr",
     "output_type": "stream",
     "text": [
      " 60%|██████    | 3/5 [11:34<06:58, 209.25s/it]"
     ]
    },
    {
     "name": "stdout",
     "output_type": "stream",
     "text": [
      "== fold 3 ==\n",
      "[100]\tvalid_0's rmse: 1.13988\tvalid_0's l2: 1.29932\n",
      "[200]\tvalid_0's rmse: 1.03714\tvalid_0's l2: 1.07567\n",
      "[300]\tvalid_0's rmse: 1.0133\tvalid_0's l2: 1.02678\n",
      "[400]\tvalid_0's rmse: 1.00733\tvalid_0's l2: 1.01472\n",
      "[500]\tvalid_0's rmse: 1.00536\tvalid_0's l2: 1.01075\n",
      "[600]\tvalid_0's rmse: 1.0043\tvalid_0's l2: 1.00861\n",
      "[700]\tvalid_0's rmse: 1.00363\tvalid_0's l2: 1.00728\n",
      "[800]\tvalid_0's rmse: 1.0027\tvalid_0's l2: 1.0054\n",
      "[900]\tvalid_0's rmse: 1.00206\tvalid_0's l2: 1.00413\n",
      "[1000]\tvalid_0's rmse: 1.00141\tvalid_0's l2: 1.00282\n",
      "[1100]\tvalid_0's rmse: 1.001\tvalid_0's l2: 1.002\n",
      "[1200]\tvalid_0's rmse: 1.00073\tvalid_0's l2: 1.00146\n",
      "[1300]\tvalid_0's rmse: 1.00063\tvalid_0's l2: 1.00125\n",
      "[1400]\tvalid_0's rmse: 1.00048\tvalid_0's l2: 1.00096\n",
      "[1500]\tvalid_0's rmse: 0.999996\tvalid_0's l2: 0.999991\n",
      "[1600]\tvalid_0's rmse: 0.999593\tvalid_0's l2: 0.999186\n",
      "[1700]\tvalid_0's rmse: 0.999405\tvalid_0's l2: 0.998811\n",
      "[1800]\tvalid_0's rmse: 0.999115\tvalid_0's l2: 0.99823\n",
      "[1900]\tvalid_0's rmse: 0.99889\tvalid_0's l2: 0.997781\n",
      "[2000]\tvalid_0's rmse: 0.998634\tvalid_0's l2: 0.99727\n",
      "[2100]\tvalid_0's rmse: 0.998563\tvalid_0's l2: 0.997127\n",
      "[2200]\tvalid_0's rmse: 0.998416\tvalid_0's l2: 0.996835\n",
      "[2300]\tvalid_0's rmse: 0.998317\tvalid_0's l2: 0.996637\n",
      "[2400]\tvalid_0's rmse: 0.998311\tvalid_0's l2: 0.996624\n",
      "[2500]\tvalid_0's rmse: 0.998071\tvalid_0's l2: 0.996147\n",
      "[2600]\tvalid_0's rmse: 0.997992\tvalid_0's l2: 0.995987\n",
      "[2700]\tvalid_0's rmse: 0.997981\tvalid_0's l2: 0.995966\n"
     ]
    },
    {
     "name": "stderr",
     "output_type": "stream",
     "text": [
      " 80%|████████  | 4/5 [14:42<03:21, 201.03s/it]"
     ]
    },
    {
     "name": "stdout",
     "output_type": "stream",
     "text": [
      "== fold 4 ==\n",
      "[100]\tvalid_0's rmse: 1.16494\tvalid_0's l2: 1.35708\n",
      "[200]\tvalid_0's rmse: 1.0666\tvalid_0's l2: 1.13763\n",
      "[300]\tvalid_0's rmse: 1.04208\tvalid_0's l2: 1.08593\n",
      "[400]\tvalid_0's rmse: 1.0364\tvalid_0's l2: 1.07413\n",
      "[500]\tvalid_0's rmse: 1.03447\tvalid_0's l2: 1.07014\n",
      "[600]\tvalid_0's rmse: 1.03332\tvalid_0's l2: 1.06776\n",
      "[700]\tvalid_0's rmse: 1.03304\tvalid_0's l2: 1.06716\n",
      "[800]\tvalid_0's rmse: 1.03273\tvalid_0's l2: 1.06652\n",
      "[900]\tvalid_0's rmse: 1.03262\tvalid_0's l2: 1.06629\n",
      "[1000]\tvalid_0's rmse: 1.03244\tvalid_0's l2: 1.06594\n",
      "[1100]\tvalid_0's rmse: 1.03214\tvalid_0's l2: 1.06531\n",
      "[1200]\tvalid_0's rmse: 1.03206\tvalid_0's l2: 1.06515\n"
     ]
    },
    {
     "name": "stderr",
     "output_type": "stream",
     "text": [
      "100%|██████████| 5/5 [16:34<00:00, 198.81s/it]\n",
      "  0%|          | 0/5 [00:00<?, ?it/s]"
     ]
    },
    {
     "name": "stdout",
     "output_type": "stream",
     "text": [
      "== fold 0 ==\n",
      "[100]\tvalid_0's rmse: 1.0984\tvalid_0's l2: 1.20649\n",
      "[200]\tvalid_0's rmse: 0.990536\tvalid_0's l2: 0.981161\n",
      "[300]\tvalid_0's rmse: 0.96403\tvalid_0's l2: 0.929354\n",
      "[400]\tvalid_0's rmse: 0.956433\tvalid_0's l2: 0.914765\n",
      "[500]\tvalid_0's rmse: 0.954418\tvalid_0's l2: 0.910913\n",
      "[600]\tvalid_0's rmse: 0.953829\tvalid_0's l2: 0.90979\n",
      "[700]\tvalid_0's rmse: 0.953443\tvalid_0's l2: 0.909054\n",
      "[800]\tvalid_0's rmse: 0.953307\tvalid_0's l2: 0.908795\n",
      "[900]\tvalid_0's rmse: 0.953235\tvalid_0's l2: 0.908658\n",
      "[1000]\tvalid_0's rmse: 0.953235\tvalid_0's l2: 0.908656\n",
      "[1100]\tvalid_0's rmse: 0.953035\tvalid_0's l2: 0.908275\n",
      "[1200]\tvalid_0's rmse: 0.95303\tvalid_0's l2: 0.908266\n",
      "[1300]\tvalid_0's rmse: 0.952941\tvalid_0's l2: 0.908097\n",
      "[1400]\tvalid_0's rmse: 0.952824\tvalid_0's l2: 0.907873\n",
      "[1500]\tvalid_0's rmse: 0.952603\tvalid_0's l2: 0.907452\n",
      "[1600]\tvalid_0's rmse: 0.95251\tvalid_0's l2: 0.907275\n",
      "[1700]\tvalid_0's rmse: 0.952421\tvalid_0's l2: 0.907106\n",
      "[1800]\tvalid_0's rmse: 0.952335\tvalid_0's l2: 0.906942\n"
     ]
    },
    {
     "name": "stderr",
     "output_type": "stream",
     "text": [
      " 20%|██        | 1/5 [02:25<09:41, 145.35s/it]"
     ]
    },
    {
     "name": "stdout",
     "output_type": "stream",
     "text": [
      "== fold 1 ==\n",
      "[100]\tvalid_0's rmse: 1.08955\tvalid_0's l2: 1.18713\n",
      "[200]\tvalid_0's rmse: 0.978122\tvalid_0's l2: 0.956723\n",
      "[300]\tvalid_0's rmse: 0.948565\tvalid_0's l2: 0.899775\n",
      "[400]\tvalid_0's rmse: 0.937579\tvalid_0's l2: 0.879055\n",
      "[500]\tvalid_0's rmse: 0.933595\tvalid_0's l2: 0.8716\n",
      "[600]\tvalid_0's rmse: 0.932124\tvalid_0's l2: 0.868856\n",
      "[700]\tvalid_0's rmse: 0.931313\tvalid_0's l2: 0.867343\n",
      "[800]\tvalid_0's rmse: 0.930962\tvalid_0's l2: 0.86669\n",
      "[900]\tvalid_0's rmse: 0.930628\tvalid_0's l2: 0.866069\n",
      "[1000]\tvalid_0's rmse: 0.930348\tvalid_0's l2: 0.865548\n",
      "[1100]\tvalid_0's rmse: 0.930152\tvalid_0's l2: 0.865183\n",
      "[1200]\tvalid_0's rmse: 0.929961\tvalid_0's l2: 0.864827\n",
      "[1300]\tvalid_0's rmse: 0.9298\tvalid_0's l2: 0.864528\n",
      "[1400]\tvalid_0's rmse: 0.92956\tvalid_0's l2: 0.864081\n",
      "[1500]\tvalid_0's rmse: 0.929371\tvalid_0's l2: 0.86373\n",
      "[1600]\tvalid_0's rmse: 0.929346\tvalid_0's l2: 0.863684\n",
      "[1700]\tvalid_0's rmse: 0.929374\tvalid_0's l2: 0.863735\n"
     ]
    },
    {
     "name": "stderr",
     "output_type": "stream",
     "text": [
      " 40%|████      | 2/5 [04:48<07:12, 144.24s/it]"
     ]
    },
    {
     "name": "stdout",
     "output_type": "stream",
     "text": [
      "== fold 2 ==\n",
      "[100]\tvalid_0's rmse: 1.17922\tvalid_0's l2: 1.39056\n",
      "[200]\tvalid_0's rmse: 1.07347\tvalid_0's l2: 1.15234\n",
      "[300]\tvalid_0's rmse: 1.0468\tvalid_0's l2: 1.09579\n",
      "[400]\tvalid_0's rmse: 1.03833\tvalid_0's l2: 1.07814\n",
      "[500]\tvalid_0's rmse: 1.03543\tvalid_0's l2: 1.07212\n",
      "[600]\tvalid_0's rmse: 1.03373\tvalid_0's l2: 1.0686\n",
      "[700]\tvalid_0's rmse: 1.0328\tvalid_0's l2: 1.06667\n",
      "[800]\tvalid_0's rmse: 1.03223\tvalid_0's l2: 1.0655\n",
      "[900]\tvalid_0's rmse: 1.03195\tvalid_0's l2: 1.06492\n",
      "[1000]\tvalid_0's rmse: 1.03171\tvalid_0's l2: 1.06442\n",
      "[1100]\tvalid_0's rmse: 1.03137\tvalid_0's l2: 1.06373\n",
      "[1200]\tvalid_0's rmse: 1.03111\tvalid_0's l2: 1.06319\n",
      "[1300]\tvalid_0's rmse: 1.0309\tvalid_0's l2: 1.06275\n",
      "[1400]\tvalid_0's rmse: 1.03069\tvalid_0's l2: 1.06233\n",
      "[1500]\tvalid_0's rmse: 1.03057\tvalid_0's l2: 1.06208\n",
      "[1600]\tvalid_0's rmse: 1.03034\tvalid_0's l2: 1.06159\n",
      "[1700]\tvalid_0's rmse: 1.03023\tvalid_0's l2: 1.06138\n",
      "[1800]\tvalid_0's rmse: 1.03013\tvalid_0's l2: 1.06116\n"
     ]
    },
    {
     "name": "stderr",
     "output_type": "stream",
     "text": [
      " 60%|██████    | 3/5 [07:31<05:05, 152.64s/it]"
     ]
    },
    {
     "name": "stdout",
     "output_type": "stream",
     "text": [
      "== fold 3 ==\n",
      "[100]\tvalid_0's rmse: 1.143\tvalid_0's l2: 1.30644\n",
      "[200]\tvalid_0's rmse: 1.053\tvalid_0's l2: 1.10882\n",
      "[300]\tvalid_0's rmse: 1.03466\tvalid_0's l2: 1.07053\n",
      "[400]\tvalid_0's rmse: 1.02957\tvalid_0's l2: 1.06001\n",
      "[500]\tvalid_0's rmse: 1.02788\tvalid_0's l2: 1.05653\n",
      "[600]\tvalid_0's rmse: 1.02751\tvalid_0's l2: 1.05577\n",
      "[700]\tvalid_0's rmse: 1.02725\tvalid_0's l2: 1.05525\n",
      "[800]\tvalid_0's rmse: 1.02709\tvalid_0's l2: 1.05491\n",
      "[900]\tvalid_0's rmse: 1.02711\tvalid_0's l2: 1.05496\n"
     ]
    },
    {
     "name": "stderr",
     "output_type": "stream",
     "text": [
      " 80%|████████  | 4/5 [09:13<02:12, 132.81s/it]"
     ]
    },
    {
     "name": "stdout",
     "output_type": "stream",
     "text": [
      "== fold 4 ==\n",
      "[100]\tvalid_0's rmse: 1.16966\tvalid_0's l2: 1.36811\n",
      "[200]\tvalid_0's rmse: 1.07537\tvalid_0's l2: 1.15643\n",
      "[300]\tvalid_0's rmse: 1.05199\tvalid_0's l2: 1.10667\n",
      "[400]\tvalid_0's rmse: 1.04501\tvalid_0's l2: 1.09205\n",
      "[500]\tvalid_0's rmse: 1.04305\tvalid_0's l2: 1.08796\n",
      "[600]\tvalid_0's rmse: 1.04233\tvalid_0's l2: 1.08646\n",
      "[700]\tvalid_0's rmse: 1.04183\tvalid_0's l2: 1.08541\n",
      "[800]\tvalid_0's rmse: 1.04141\tvalid_0's l2: 1.08453\n",
      "[900]\tvalid_0's rmse: 1.04092\tvalid_0's l2: 1.08352\n",
      "[1000]\tvalid_0's rmse: 1.04061\tvalid_0's l2: 1.08288\n",
      "[1100]\tvalid_0's rmse: 1.04035\tvalid_0's l2: 1.08232\n",
      "[1200]\tvalid_0's rmse: 1.04012\tvalid_0's l2: 1.08186\n",
      "[1300]\tvalid_0's rmse: 1.03991\tvalid_0's l2: 1.08141\n",
      "[1400]\tvalid_0's rmse: 1.03976\tvalid_0's l2: 1.0811\n",
      "[1500]\tvalid_0's rmse: 1.03962\tvalid_0's l2: 1.08081\n"
     ]
    },
    {
     "name": "stderr",
     "output_type": "stream",
     "text": [
      "100%|██████████| 5/5 [11:33<00:00, 138.67s/it]\n"
     ]
    }
   ],
   "source": [
    "# 学習\n",
    "dfs = []\n",
    "for event in [\"wakeup\", \"onset\"]:\n",
    "    trn_oof, models = fit_lgb(\n",
    "        X=train, \n",
    "        y=train[f\"{event}_target\"], \n",
    "        folds=train[\"fold\"].astype(int), \n",
    "        features=features.all_features(),\n",
    "        params=CFG[MODEL_NAME][\"lightgbm\"], \n",
    "        es_rounds=100,\n",
    "    )\n",
    "    train[\"score\"] = trn_oof\n",
    "    train[\"event\"] = event\n",
    "    dfs.append(train[[\"series_id\", \"step\", \"score\", \"event\"]])\n",
    "\n",
    "    # 保存\n",
    "    for i, model in enumerate(models):\n",
    "        joblib.dump(model, os.path.join(CFG[\"output_dir\"], f'lgb_{event}_fold_{i}.pkl'))\n",
    "del train\n",
    "gc.collect()\n",
    "train = pd.concat(dfs, axis=0)\n",
    "train[\"step\"] = train[\"step\"].astype(int)\n",
    "train = train.sort_values([\"series_id\", \"step\"]).reset_index(drop=True)\n",
    "\n",
    "with open(os.path.join(CFG[\"output_dir\"], \"features.pkl\"), \"wb\") as f:\n",
    "    pickle.dump(features, f)\n",
    "train.to_csv(os.path.join(CFG[\"output_dir\"], \"oof.csv\"), index=False)"
   ]
  },
  {
   "cell_type": "markdown",
   "metadata": {},
   "source": [
    "## Dynamic-Range NMS"
   ]
  },
  {
   "cell_type": "code",
   "execution_count": 4,
   "metadata": {},
   "outputs": [
    {
     "data": {
      "text/plain": [
       "<AxesSubplot: >"
      ]
     },
     "execution_count": 4,
     "metadata": {},
     "output_type": "execute_result"
    },
    {
     "data": {
      "image/png": "[encoded data removed]",
      "text/plain": [
       "<Figure size 640x480 with 1 Axes>"
      ]
     },
     "metadata": {},
     "output_type": "display_data"
    }
   ],
   "source": [
    "train = train[train[\"score\"] > 0.005]\n",
    "train[\"score\"].hist()"
   ]
  },
  {
   "cell_type": "code",
   "execution_count": 5,
   "metadata": {},
   "outputs": [
    {
     "name": "stderr",
     "output_type": "stream",
     "text": [
      "100%|██████████| 277/277 [00:05<00:00, 51.14it/s]\n"
     ]
    }
   ],
   "source": [
    "from utils.postprocess import dynamic_range_nms\n",
    "from multiprocessing import Pool\n",
    "from tqdm import tqdm\n",
    "\n",
    "train[\"step\"] = train[\"step\"].astype(int)\n",
    "\n",
    "groups = [group for _, group in train.groupby(\"series_id\")]\n",
    "with Pool(30) as p:  \n",
    "    results = list(tqdm(p.imap(dynamic_range_nms, groups), total=len(groups)))\n",
    "sub = pd.concat(results)\n",
    "sub[\"score\"] = sub[\"reduced_score\"]"
   ]
  },
  {
   "cell_type": "code",
   "execution_count": 6,
   "metadata": {},
   "outputs": [
    {
     "name": "stdout",
     "output_type": "stream",
     "text": [
      "score: 0.7866\n"
     ]
    },
    {
     "data": {
      "text/plain": [
       "event   tolerance\n",
       "onset   12           0.256142\n",
       "        36           0.698234\n",
       "        60           0.792406\n",
       "        90           0.835000\n",
       "        120          0.850896\n",
       "        150          0.865500\n",
       "        180          0.873739\n",
       "        240          0.887351\n",
       "        300          0.893478\n",
       "        360          0.898525\n",
       "wakeup  12           0.210973\n",
       "        36           0.715118\n",
       "        60           0.800520\n",
       "        90           0.836694\n",
       "        120          0.855837\n",
       "        150          0.868667\n",
       "        180          0.879395\n",
       "        240          0.894223\n",
       "        300          0.904786\n",
       "        360          0.915049\n",
       "dtype: float64"
      ]
     },
     "metadata": {},
     "output_type": "display_data"
    }
   ],
   "source": [
    "# スコア計算\n",
    "labels = pd.read_csv(f\"{CFG['dataset']['competition_dir']}/train_events.csv\").dropna()\n",
    "score, ap_table = compute_comptetition_metric(labels, sub)\n",
    "\n",
    "print(f\"score: {score:.4f}\")\n",
    "display(ap_table)\n",
    "sub.to_csv(os.path.join(CFG[\"output_dir\"], \"submission_after_nms.csv\"), index=False)"
   ]
  },
  {
   "cell_type": "code",
   "execution_count": null,
   "metadata": {},
   "outputs": [],
   "source": []
  },
  {
   "cell_type": "code",
   "execution_count": null,
   "metadata": {},
   "outputs": [],
   "source": []
  }
 ],
 "metadata": {
  "kernelspec": {
   "display_name": "base",
   "language": "python",
   "name": "python3"
  },
  "language_info": {
   "codemirror_mode": {
    "name": "ipython",
    "version": 3
   },
   "file_extension": ".py",
   "mimetype": "text/x-python",
   "name": "python",
   "nbconvert_exporter": "python",
   "pygments_lexer": "ipython3",
   "version": "3.10.10"
  },
  "orig_nbformat": 4
 },
 "nbformat": 4,
 "nbformat_minor": 2
}
