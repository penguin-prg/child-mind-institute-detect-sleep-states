{
 "cells": [
  {
   "cell_type": "code",
   "execution_count": 1,
   "metadata": {},
   "outputs": [
    {
     "name": "stderr",
     "output_type": "stream",
     "text": [
      "2023-11-01 05:32:19.990826: I tensorflow/core/platform/cpu_feature_guard.cc:193] This TensorFlow binary is optimized with oneAPI Deep Neural Network Library (oneDNN) to use the following CPU instructions in performance-critical operations:  AVX2 AVX_VNNI FMA\n",
      "To enable them in other operations, rebuild TensorFlow with the appropriate compiler flags.\n",
      "2023-11-01 05:32:20.392508: I tensorflow/core/util/port.cc:104] oneDNN custom operations are on. You may see slightly different numerical results due to floating-point round-off errors from different computation orders. To turn them off, set the environment variable `TF_ENABLE_ONEDNN_OPTS=0`.\n",
      "2023-11-01 05:32:21.928073: W tensorflow/compiler/xla/stream_executor/platform/default/dso_loader.cc:64] Could not load dynamic library 'libnvinfer.so.7'; dlerror: libnvinfer.so.7: cannot open shared object file: No such file or directory; LD_LIBRARY_PATH: /usr/local/cuda/lib64:/usr/local/cuda/lib:/usr/local/lib/x86_64-linux-gnu:/usr/local/nvidia/lib:/usr/local/nvidia/lib64:/usr/local/nvidia/lib:/usr/local/nvidia/lib64:/opt/conda/lib\n",
      "2023-11-01 05:32:21.929106: W tensorflow/compiler/xla/stream_executor/platform/default/dso_loader.cc:64] Could not load dynamic library 'libnvinfer_plugin.so.7'; dlerror: libnvinfer_plugin.so.7: cannot open shared object file: No such file or directory; LD_LIBRARY_PATH: /usr/local/cuda/lib64:/usr/local/cuda/lib:/usr/local/lib/x86_64-linux-gnu:/usr/local/nvidia/lib:/usr/local/nvidia/lib64:/usr/local/nvidia/lib:/usr/local/nvidia/lib64:/opt/conda/lib\n",
      "2023-11-01 05:32:21.929112: W tensorflow/compiler/tf2tensorrt/utils/py_utils.cc:38] TF-TRT Warning: Cannot dlopen some TensorRT libraries. If you would like to use Nvidia GPU with TensorRT, please make sure the missing libraries mentioned above are installed properly.\n"
     ]
    },
    {
     "name": "stdout",
     "output_type": "stream",
     "text": [
      "exp_110\n"
     ]
    }
   ],
   "source": [
    "import pandas as pd\n",
    "import yaml\n",
    "import sys\n",
    "import os\n",
    "from glob import glob\n",
    "from pathlib import Path\n",
    "import gc\n",
    "import pickle\n",
    "import joblib\n",
    "\n",
    "import warnings\n",
    "warnings.filterwarnings('ignore')\n",
    "\n",
    "sys.path.append('/kaggle/src')\n",
    "from utils.lgb import fit_lgb\n",
    "from utils.metric import compute_comptetition_metric\n",
    "from utils.postprocess import post_process\n",
    "from utils.set_seed import seed_base\n",
    "from feature_engineering.fe_xgb import generate_features\n",
    "\n",
    "MODEL_NAME = \"lgb_model\"\n",
    "PACKAGE_DIR = Path(\"/kaggle/src\")\n",
    "CFG = yaml.safe_load(open(PACKAGE_DIR / \"config.yaml\", \"r\"))\n",
    "print(CFG[MODEL_NAME][\"execution\"][\"exp_id\"])\n",
    "\n",
    "CFG[\"output_dir\"] = f\"/kaggle/output/{CFG[MODEL_NAME]['execution']['exp_id']}\"\n",
    "!rm -r {CFG[\"output_dir\"]}\n",
    "os.makedirs(CFG[\"output_dir\"], exist_ok=True)\n",
    "\n",
    "seed_base(CFG[\"env\"][\"seed\"])"
   ]
  },
  {
   "cell_type": "code",
   "execution_count": 2,
   "metadata": {},
   "outputs": [
    {
     "name": "stderr",
     "output_type": "stream",
     "text": [
      "generate features: 100%|██████████| 277/277 [04:14<00:00,  1.09it/s]\n"
     ]
    },
    {
     "data": {
      "text/html": [
       "<div>\n",
       "<style scoped>\n",
       "    .dataframe tbody tr th:only-of-type {\n",
       "        vertical-align: middle;\n",
       "    }\n",
       "\n",
       "    .dataframe tbody tr th {\n",
       "        vertical-align: top;\n",
       "    }\n",
       "\n",
       "    .dataframe thead th {\n",
       "        text-align: right;\n",
       "    }\n",
       "</style>\n",
       "<table border=\"1\" class=\"dataframe\">\n",
       "  <thead>\n",
       "    <tr style=\"text-align: right;\">\n",
       "      <th></th>\n",
       "      <th>anglez</th>\n",
       "      <th>anglez_diff_abs</th>\n",
       "      <th>anglez_diff_abs_clip5</th>\n",
       "      <th>anglez_mean</th>\n",
       "      <th>enmo</th>\n",
       "      <th>enmo_diff_abs</th>\n",
       "      <th>enmo_mean</th>\n",
       "      <th>minutes</th>\n",
       "      <th>same_count</th>\n",
       "      <th>total_seconds</th>\n",
       "      <th>...</th>\n",
       "      <th>enmo_rolling_median_100_shift_1000</th>\n",
       "      <th>anglez_diff_abs_clip5_rolling_median_100_shift_1000</th>\n",
       "      <th>enmo_std_rolling_median_100_shift_1000</th>\n",
       "      <th>anglez_diff_abs_clip5_std_rolling_median_100_shift_1000</th>\n",
       "      <th>enmo_rolling_square_mean_100_shift_1000</th>\n",
       "      <th>anglez_diff_abs_clip5_rolling_square_mean_100_shift_1000</th>\n",
       "      <th>enmo_std_rolling_square_mean_100_shift_1000</th>\n",
       "      <th>anglez_diff_abs_clip5_std_rolling_square_mean_100_shift_1000</th>\n",
       "      <th>reduce_step</th>\n",
       "      <th>fold</th>\n",
       "    </tr>\n",
       "  </thead>\n",
       "  <tbody>\n",
       "    <tr>\n",
       "      <th>926</th>\n",
       "      <td>21.070280</td>\n",
       "      <td>21.889490</td>\n",
       "      <td>4.451904</td>\n",
       "      <td>-20.794807</td>\n",
       "      <td>0.027129</td>\n",
       "      <td>0.014742</td>\n",
       "      <td>0.037067</td>\n",
       "      <td>477.5</td>\n",
       "      <td>0.0</td>\n",
       "      <td>68877.5</td>\n",
       "      <td>...</td>\n",
       "      <td>NaN</td>\n",
       "      <td>NaN</td>\n",
       "      <td>NaN</td>\n",
       "      <td>NaN</td>\n",
       "      <td>NaN</td>\n",
       "      <td>NaN</td>\n",
       "      <td>NaN</td>\n",
       "      <td>NaN</td>\n",
       "      <td>22235</td>\n",
       "      <td>3</td>\n",
       "    </tr>\n",
       "    <tr>\n",
       "      <th>927</th>\n",
       "      <td>-2.156629</td>\n",
       "      <td>17.598087</td>\n",
       "      <td>3.993946</td>\n",
       "      <td>-21.465599</td>\n",
       "      <td>0.091583</td>\n",
       "      <td>0.079287</td>\n",
       "      <td>0.072814</td>\n",
       "      <td>597.5</td>\n",
       "      <td>0.0</td>\n",
       "      <td>68997.5</td>\n",
       "      <td>...</td>\n",
       "      <td>NaN</td>\n",
       "      <td>NaN</td>\n",
       "      <td>NaN</td>\n",
       "      <td>NaN</td>\n",
       "      <td>NaN</td>\n",
       "      <td>NaN</td>\n",
       "      <td>NaN</td>\n",
       "      <td>NaN</td>\n",
       "      <td>22259</td>\n",
       "      <td>3</td>\n",
       "    </tr>\n",
       "    <tr>\n",
       "      <th>928</th>\n",
       "      <td>6.870979</td>\n",
       "      <td>16.874817</td>\n",
       "      <td>4.571238</td>\n",
       "      <td>-17.906569</td>\n",
       "      <td>0.048471</td>\n",
       "      <td>0.023354</td>\n",
       "      <td>0.085562</td>\n",
       "      <td>717.5</td>\n",
       "      <td>0.0</td>\n",
       "      <td>69117.5</td>\n",
       "      <td>...</td>\n",
       "      <td>NaN</td>\n",
       "      <td>NaN</td>\n",
       "      <td>NaN</td>\n",
       "      <td>NaN</td>\n",
       "      <td>NaN</td>\n",
       "      <td>NaN</td>\n",
       "      <td>NaN</td>\n",
       "      <td>NaN</td>\n",
       "      <td>22283</td>\n",
       "      <td>3</td>\n",
       "    </tr>\n",
       "    <tr>\n",
       "      <th>929</th>\n",
       "      <td>11.430203</td>\n",
       "      <td>8.910088</td>\n",
       "      <td>3.756421</td>\n",
       "      <td>-5.006313</td>\n",
       "      <td>0.029496</td>\n",
       "      <td>0.013204</td>\n",
       "      <td>0.031394</td>\n",
       "      <td>837.5</td>\n",
       "      <td>0.0</td>\n",
       "      <td>69237.5</td>\n",
       "      <td>...</td>\n",
       "      <td>NaN</td>\n",
       "      <td>NaN</td>\n",
       "      <td>NaN</td>\n",
       "      <td>NaN</td>\n",
       "      <td>NaN</td>\n",
       "      <td>NaN</td>\n",
       "      <td>NaN</td>\n",
       "      <td>NaN</td>\n",
       "      <td>22307</td>\n",
       "      <td>3</td>\n",
       "    </tr>\n",
       "    <tr>\n",
       "      <th>930</th>\n",
       "      <td>10.291650</td>\n",
       "      <td>2.129946</td>\n",
       "      <td>1.981583</td>\n",
       "      <td>-21.022831</td>\n",
       "      <td>0.003008</td>\n",
       "      <td>0.001954</td>\n",
       "      <td>0.058677</td>\n",
       "      <td>957.5</td>\n",
       "      <td>0.0</td>\n",
       "      <td>69357.5</td>\n",
       "      <td>...</td>\n",
       "      <td>NaN</td>\n",
       "      <td>NaN</td>\n",
       "      <td>NaN</td>\n",
       "      <td>NaN</td>\n",
       "      <td>NaN</td>\n",
       "      <td>NaN</td>\n",
       "      <td>NaN</td>\n",
       "      <td>NaN</td>\n",
       "      <td>22331</td>\n",
       "      <td>3</td>\n",
       "    </tr>\n",
       "  </tbody>\n",
       "</table>\n",
       "<p>5 rows × 1307 columns</p>\n",
       "</div>"
      ],
      "text/plain": [
       "        anglez  anglez_diff_abs  anglez_diff_abs_clip5  anglez_mean      enmo  \\\n",
       "926  21.070280        21.889490               4.451904   -20.794807  0.027129   \n",
       "927  -2.156629        17.598087               3.993946   -21.465599  0.091583   \n",
       "928   6.870979        16.874817               4.571238   -17.906569  0.048471   \n",
       "929  11.430203         8.910088               3.756421    -5.006313  0.029496   \n",
       "930  10.291650         2.129946               1.981583   -21.022831  0.003008   \n",
       "\n",
       "     enmo_diff_abs  enmo_mean  minutes  same_count  total_seconds  ...  \\\n",
       "926       0.014742   0.037067    477.5         0.0        68877.5  ...   \n",
       "927       0.079287   0.072814    597.5         0.0        68997.5  ...   \n",
       "928       0.023354   0.085562    717.5         0.0        69117.5  ...   \n",
       "929       0.013204   0.031394    837.5         0.0        69237.5  ...   \n",
       "930       0.001954   0.058677    957.5         0.0        69357.5  ...   \n",
       "\n",
       "     enmo_rolling_median_100_shift_1000  \\\n",
       "926                                 NaN   \n",
       "927                                 NaN   \n",
       "928                                 NaN   \n",
       "929                                 NaN   \n",
       "930                                 NaN   \n",
       "\n",
       "     anglez_diff_abs_clip5_rolling_median_100_shift_1000  \\\n",
       "926                                                NaN     \n",
       "927                                                NaN     \n",
       "928                                                NaN     \n",
       "929                                                NaN     \n",
       "930                                                NaN     \n",
       "\n",
       "     enmo_std_rolling_median_100_shift_1000  \\\n",
       "926                                     NaN   \n",
       "927                                     NaN   \n",
       "928                                     NaN   \n",
       "929                                     NaN   \n",
       "930                                     NaN   \n",
       "\n",
       "     anglez_diff_abs_clip5_std_rolling_median_100_shift_1000  \\\n",
       "926                                                NaN         \n",
       "927                                                NaN         \n",
       "928                                                NaN         \n",
       "929                                                NaN         \n",
       "930                                                NaN         \n",
       "\n",
       "     enmo_rolling_square_mean_100_shift_1000  \\\n",
       "926                                      NaN   \n",
       "927                                      NaN   \n",
       "928                                      NaN   \n",
       "929                                      NaN   \n",
       "930                                      NaN   \n",
       "\n",
       "     anglez_diff_abs_clip5_rolling_square_mean_100_shift_1000  \\\n",
       "926                                                NaN          \n",
       "927                                                NaN          \n",
       "928                                                NaN          \n",
       "929                                                NaN          \n",
       "930                                                NaN          \n",
       "\n",
       "     enmo_std_rolling_square_mean_100_shift_1000  \\\n",
       "926                                          NaN   \n",
       "927                                          NaN   \n",
       "928                                          NaN   \n",
       "929                                          NaN   \n",
       "930                                          NaN   \n",
       "\n",
       "     anglez_diff_abs_clip5_std_rolling_square_mean_100_shift_1000  \\\n",
       "926                                                NaN              \n",
       "927                                                NaN              \n",
       "928                                                NaN              \n",
       "929                                                NaN              \n",
       "930                                                NaN              \n",
       "\n",
       "     reduce_step  fold  \n",
       "926        22235     3  \n",
       "927        22259     3  \n",
       "928        22283     3  \n",
       "929        22307     3  \n",
       "930        22331     3  \n",
       "\n",
       "[5 rows x 1307 columns]"
      ]
     },
     "metadata": {},
     "output_type": "display_data"
    },
    {
     "data": {
      "text/plain": [
       "(494843, 1307)"
      ]
     },
     "execution_count": 2,
     "metadata": {},
     "output_type": "execute_result"
    }
   ],
   "source": [
    "# 特徴生成\n",
    "files = glob(f\"{CFG['dataset']['step_csv_dir']}/*.parquet\")\n",
    "train, features = generate_features(files)\n",
    "\n",
    "# cv splitとマージ\n",
    "cv_split = pd.read_csv(CFG['dataset']['cv_split_path'])\n",
    "train[\"fold\"] = train[\"series_id\"].map(cv_split.set_index(\"series_id\")[\"fold\"])\n",
    "display(train.head(5))\n",
    "train.shape"
   ]
  },
  {
   "cell_type": "code",
   "execution_count": 3,
   "metadata": {},
   "outputs": [
    {
     "name": "stderr",
     "output_type": "stream",
     "text": [
      "  0%|          | 0/5 [00:00<?, ?it/s]"
     ]
    },
    {
     "name": "stdout",
     "output_type": "stream",
     "text": [
      "== fold 0 ==\n",
      "[100]\tvalid_0's rmse: 1.36847\tvalid_0's l2: 1.87272\n",
      "[200]\tvalid_0's rmse: 1.17982\tvalid_0's l2: 1.39198\n",
      "[300]\tvalid_0's rmse: 1.13943\tvalid_0's l2: 1.2983\n",
      "[400]\tvalid_0's rmse: 1.12859\tvalid_0's l2: 1.27372\n",
      "[500]\tvalid_0's rmse: 1.12576\tvalid_0's l2: 1.26733\n",
      "[600]\tvalid_0's rmse: 1.12452\tvalid_0's l2: 1.26453\n",
      "[700]\tvalid_0's rmse: 1.12389\tvalid_0's l2: 1.26312\n",
      "[800]\tvalid_0's rmse: 1.12359\tvalid_0's l2: 1.26245\n",
      "[900]\tvalid_0's rmse: 1.12311\tvalid_0's l2: 1.26137\n",
      "[1000]\tvalid_0's rmse: 1.12271\tvalid_0's l2: 1.26049\n",
      "[1100]\tvalid_0's rmse: 1.12216\tvalid_0's l2: 1.25925\n",
      "[1200]\tvalid_0's rmse: 1.12191\tvalid_0's l2: 1.25869\n",
      "[1300]\tvalid_0's rmse: 1.12177\tvalid_0's l2: 1.25838\n",
      "[1400]\tvalid_0's rmse: 1.12164\tvalid_0's l2: 1.25807\n"
     ]
    },
    {
     "name": "stderr",
     "output_type": "stream",
     "text": [
      " 20%|██        | 1/5 [02:42<10:50, 162.69s/it]"
     ]
    },
    {
     "name": "stdout",
     "output_type": "stream",
     "text": [
      "== fold 1 ==\n",
      "[100]\tvalid_0's rmse: 1.44684\tvalid_0's l2: 2.09335\n",
      "[200]\tvalid_0's rmse: 1.24867\tvalid_0's l2: 1.55917\n",
      "[300]\tvalid_0's rmse: 1.20464\tvalid_0's l2: 1.45116\n",
      "[400]\tvalid_0's rmse: 1.19227\tvalid_0's l2: 1.42152\n",
      "[500]\tvalid_0's rmse: 1.18812\tvalid_0's l2: 1.41164\n",
      "[600]\tvalid_0's rmse: 1.18695\tvalid_0's l2: 1.40884\n",
      "[700]\tvalid_0's rmse: 1.18664\tvalid_0's l2: 1.40812\n",
      "[800]\tvalid_0's rmse: 1.18639\tvalid_0's l2: 1.40752\n",
      "[900]\tvalid_0's rmse: 1.18609\tvalid_0's l2: 1.4068\n",
      "[1000]\tvalid_0's rmse: 1.18608\tvalid_0's l2: 1.40678\n",
      "[1100]\tvalid_0's rmse: 1.18585\tvalid_0's l2: 1.40625\n"
     ]
    },
    {
     "name": "stderr",
     "output_type": "stream",
     "text": [
      " 40%|████      | 2/5 [05:09<07:40, 153.55s/it]"
     ]
    },
    {
     "name": "stdout",
     "output_type": "stream",
     "text": [
      "== fold 2 ==\n",
      "[100]\tvalid_0's rmse: 1.46243\tvalid_0's l2: 2.1387\n",
      "[200]\tvalid_0's rmse: 1.2755\tvalid_0's l2: 1.62691\n",
      "[300]\tvalid_0's rmse: 1.23423\tvalid_0's l2: 1.52332\n",
      "[400]\tvalid_0's rmse: 1.22482\tvalid_0's l2: 1.50018\n",
      "[500]\tvalid_0's rmse: 1.22104\tvalid_0's l2: 1.49095\n",
      "[600]\tvalid_0's rmse: 1.22031\tvalid_0's l2: 1.48916\n",
      "[700]\tvalid_0's rmse: 1.21972\tvalid_0's l2: 1.48772\n",
      "[800]\tvalid_0's rmse: 1.21966\tvalid_0's l2: 1.48756\n",
      "[900]\tvalid_0's rmse: 1.2192\tvalid_0's l2: 1.48645\n",
      "[1000]\tvalid_0's rmse: 1.21918\tvalid_0's l2: 1.4864\n",
      "[1100]\tvalid_0's rmse: 1.21881\tvalid_0's l2: 1.48549\n",
      "[1200]\tvalid_0's rmse: 1.21866\tvalid_0's l2: 1.48514\n",
      "[1300]\tvalid_0's rmse: 1.21873\tvalid_0's l2: 1.48531\n"
     ]
    },
    {
     "name": "stderr",
     "output_type": "stream",
     "text": [
      " 60%|██████    | 3/5 [07:52<05:15, 157.92s/it]"
     ]
    },
    {
     "name": "stdout",
     "output_type": "stream",
     "text": [
      "== fold 3 ==\n",
      "[100]\tvalid_0's rmse: 1.36465\tvalid_0's l2: 1.86227\n",
      "[200]\tvalid_0's rmse: 1.16232\tvalid_0's l2: 1.35099\n",
      "[300]\tvalid_0's rmse: 1.11859\tvalid_0's l2: 1.25124\n",
      "[400]\tvalid_0's rmse: 1.10768\tvalid_0's l2: 1.22696\n",
      "[500]\tvalid_0's rmse: 1.10422\tvalid_0's l2: 1.21931\n",
      "[600]\tvalid_0's rmse: 1.10346\tvalid_0's l2: 1.21763\n",
      "[700]\tvalid_0's rmse: 1.10312\tvalid_0's l2: 1.21686\n",
      "[800]\tvalid_0's rmse: 1.10295\tvalid_0's l2: 1.21649\n"
     ]
    },
    {
     "name": "stderr",
     "output_type": "stream",
     "text": [
      " 80%|████████  | 4/5 [10:05<02:27, 147.96s/it]"
     ]
    },
    {
     "name": "stdout",
     "output_type": "stream",
     "text": [
      "== fold 4 ==\n",
      "[100]\tvalid_0's rmse: 1.39236\tvalid_0's l2: 1.93867\n",
      "[200]\tvalid_0's rmse: 1.20892\tvalid_0's l2: 1.46148\n",
      "[300]\tvalid_0's rmse: 1.17171\tvalid_0's l2: 1.37291\n",
      "[400]\tvalid_0's rmse: 1.16442\tvalid_0's l2: 1.35587\n",
      "[500]\tvalid_0's rmse: 1.16072\tvalid_0's l2: 1.34728\n",
      "[600]\tvalid_0's rmse: 1.15941\tvalid_0's l2: 1.34423\n",
      "[700]\tvalid_0's rmse: 1.15881\tvalid_0's l2: 1.34285\n",
      "[800]\tvalid_0's rmse: 1.15861\tvalid_0's l2: 1.34238\n",
      "[900]\tvalid_0's rmse: 1.15842\tvalid_0's l2: 1.34194\n",
      "[1000]\tvalid_0's rmse: 1.15824\tvalid_0's l2: 1.34151\n",
      "[1100]\tvalid_0's rmse: 1.15827\tvalid_0's l2: 1.34159\n"
     ]
    },
    {
     "name": "stderr",
     "output_type": "stream",
     "text": [
      "100%|██████████| 5/5 [12:30<00:00, 150.02s/it]\n",
      "  0%|          | 0/5 [00:00<?, ?it/s]"
     ]
    },
    {
     "name": "stdout",
     "output_type": "stream",
     "text": [
      "== fold 0 ==\n",
      "[100]\tvalid_0's rmse: 1.38944\tvalid_0's l2: 1.93053\n",
      "[200]\tvalid_0's rmse: 1.19396\tvalid_0's l2: 1.42555\n",
      "[300]\tvalid_0's rmse: 1.14735\tvalid_0's l2: 1.31641\n",
      "[400]\tvalid_0's rmse: 1.13526\tvalid_0's l2: 1.28881\n",
      "[500]\tvalid_0's rmse: 1.13222\tvalid_0's l2: 1.28193\n",
      "[600]\tvalid_0's rmse: 1.13028\tvalid_0's l2: 1.27753\n",
      "[700]\tvalid_0's rmse: 1.12946\tvalid_0's l2: 1.27569\n",
      "[800]\tvalid_0's rmse: 1.12899\tvalid_0's l2: 1.27462\n",
      "[900]\tvalid_0's rmse: 1.12875\tvalid_0's l2: 1.27407\n",
      "[1000]\tvalid_0's rmse: 1.12836\tvalid_0's l2: 1.27319\n",
      "[1100]\tvalid_0's rmse: 1.12805\tvalid_0's l2: 1.2725\n",
      "[1200]\tvalid_0's rmse: 1.12782\tvalid_0's l2: 1.27198\n",
      "[1300]\tvalid_0's rmse: 1.12773\tvalid_0's l2: 1.27177\n",
      "[1400]\tvalid_0's rmse: 1.12783\tvalid_0's l2: 1.27199\n"
     ]
    },
    {
     "name": "stderr",
     "output_type": "stream",
     "text": [
      " 20%|██        | 1/5 [02:42<10:50, 162.59s/it]"
     ]
    },
    {
     "name": "stdout",
     "output_type": "stream",
     "text": [
      "== fold 1 ==\n",
      "[100]\tvalid_0's rmse: 1.44614\tvalid_0's l2: 2.09132\n",
      "[200]\tvalid_0's rmse: 1.23435\tvalid_0's l2: 1.52361\n",
      "[300]\tvalid_0's rmse: 1.17994\tvalid_0's l2: 1.39227\n",
      "[400]\tvalid_0's rmse: 1.16384\tvalid_0's l2: 1.35453\n",
      "[500]\tvalid_0's rmse: 1.15864\tvalid_0's l2: 1.34244\n",
      "[600]\tvalid_0's rmse: 1.1565\tvalid_0's l2: 1.3375\n",
      "[700]\tvalid_0's rmse: 1.15561\tvalid_0's l2: 1.33544\n",
      "[800]\tvalid_0's rmse: 1.15485\tvalid_0's l2: 1.33367\n",
      "[900]\tvalid_0's rmse: 1.15432\tvalid_0's l2: 1.33246\n",
      "[1000]\tvalid_0's rmse: 1.1539\tvalid_0's l2: 1.33148\n",
      "[1100]\tvalid_0's rmse: 1.15366\tvalid_0's l2: 1.33093\n",
      "[1200]\tvalid_0's rmse: 1.15348\tvalid_0's l2: 1.33051\n",
      "[1300]\tvalid_0's rmse: 1.15321\tvalid_0's l2: 1.32989\n",
      "[1400]\tvalid_0's rmse: 1.1531\tvalid_0's l2: 1.32965\n",
      "[1500]\tvalid_0's rmse: 1.15282\tvalid_0's l2: 1.32898\n"
     ]
    },
    {
     "name": "stderr",
     "output_type": "stream",
     "text": [
      " 40%|████      | 2/5 [05:41<08:36, 172.21s/it]"
     ]
    },
    {
     "name": "stdout",
     "output_type": "stream",
     "text": [
      "== fold 2 ==\n",
      "[100]\tvalid_0's rmse: 1.43409\tvalid_0's l2: 2.05662\n",
      "[200]\tvalid_0's rmse: 1.23157\tvalid_0's l2: 1.51677\n",
      "[300]\tvalid_0's rmse: 1.18498\tvalid_0's l2: 1.40417\n",
      "[400]\tvalid_0's rmse: 1.17155\tvalid_0's l2: 1.37252\n",
      "[500]\tvalid_0's rmse: 1.16744\tvalid_0's l2: 1.36291\n",
      "[600]\tvalid_0's rmse: 1.16634\tvalid_0's l2: 1.36034\n",
      "[700]\tvalid_0's rmse: 1.16536\tvalid_0's l2: 1.35807\n",
      "[800]\tvalid_0's rmse: 1.16456\tvalid_0's l2: 1.35621\n",
      "[900]\tvalid_0's rmse: 1.1644\tvalid_0's l2: 1.35583\n",
      "[1000]\tvalid_0's rmse: 1.16426\tvalid_0's l2: 1.35549\n",
      "[1100]\tvalid_0's rmse: 1.16395\tvalid_0's l2: 1.35478\n",
      "[1200]\tvalid_0's rmse: 1.1634\tvalid_0's l2: 1.3535\n",
      "[1300]\tvalid_0's rmse: 1.16315\tvalid_0's l2: 1.35293\n",
      "[1400]\tvalid_0's rmse: 1.16297\tvalid_0's l2: 1.3525\n"
     ]
    },
    {
     "name": "stderr",
     "output_type": "stream",
     "text": [
      " 60%|██████    | 3/5 [08:27<05:38, 169.38s/it]"
     ]
    },
    {
     "name": "stdout",
     "output_type": "stream",
     "text": [
      "== fold 3 ==\n",
      "[100]\tvalid_0's rmse: 1.42117\tvalid_0's l2: 2.01971\n",
      "[200]\tvalid_0's rmse: 1.24982\tvalid_0's l2: 1.56204\n",
      "[300]\tvalid_0's rmse: 1.21578\tvalid_0's l2: 1.47812\n",
      "[400]\tvalid_0's rmse: 1.20792\tvalid_0's l2: 1.45907\n",
      "[500]\tvalid_0's rmse: 1.20421\tvalid_0's l2: 1.45012\n",
      "[600]\tvalid_0's rmse: 1.20371\tvalid_0's l2: 1.44892\n",
      "[700]\tvalid_0's rmse: 1.20313\tvalid_0's l2: 1.44753\n",
      "[800]\tvalid_0's rmse: 1.20289\tvalid_0's l2: 1.44694\n",
      "[900]\tvalid_0's rmse: 1.2029\tvalid_0's l2: 1.44697\n"
     ]
    },
    {
     "name": "stderr",
     "output_type": "stream",
     "text": [
      " 80%|████████  | 4/5 [10:53<02:40, 160.10s/it]"
     ]
    },
    {
     "name": "stdout",
     "output_type": "stream",
     "text": [
      "== fold 4 ==\n",
      "[100]\tvalid_0's rmse: 1.42938\tvalid_0's l2: 2.04314\n",
      "[200]\tvalid_0's rmse: 1.26129\tvalid_0's l2: 1.59085\n",
      "[300]\tvalid_0's rmse: 1.22366\tvalid_0's l2: 1.49735\n",
      "[400]\tvalid_0's rmse: 1.21081\tvalid_0's l2: 1.46606\n",
      "[500]\tvalid_0's rmse: 1.20584\tvalid_0's l2: 1.45405\n",
      "[600]\tvalid_0's rmse: 1.20455\tvalid_0's l2: 1.45094\n",
      "[700]\tvalid_0's rmse: 1.20375\tvalid_0's l2: 1.44902\n",
      "[800]\tvalid_0's rmse: 1.20318\tvalid_0's l2: 1.44764\n",
      "[900]\tvalid_0's rmse: 1.20244\tvalid_0's l2: 1.44586\n",
      "[1000]\tvalid_0's rmse: 1.20192\tvalid_0's l2: 1.4446\n",
      "[1100]\tvalid_0's rmse: 1.20179\tvalid_0's l2: 1.44431\n",
      "[1200]\tvalid_0's rmse: 1.20168\tvalid_0's l2: 1.44403\n",
      "[1300]\tvalid_0's rmse: 1.2015\tvalid_0's l2: 1.44361\n",
      "[1400]\tvalid_0's rmse: 1.2015\tvalid_0's l2: 1.4436\n"
     ]
    },
    {
     "name": "stderr",
     "output_type": "stream",
     "text": [
      "100%|██████████| 5/5 [14:05<00:00, 169.17s/it]\n"
     ]
    }
   ],
   "source": [
    "# 学習\n",
    "dfs = []\n",
    "for event in [\"wakeup\", \"onset\"]:\n",
    "    trn_oof, models = fit_lgb(\n",
    "        X=train, \n",
    "        y=train[f\"{event}_target\"], \n",
    "        folds=train[\"fold\"].astype(int), \n",
    "        features=features.all_features(),\n",
    "        params=CFG[MODEL_NAME][\"lightgbm\"], \n",
    "        es_rounds=100,\n",
    "    )\n",
    "    train[\"score\"] = trn_oof\n",
    "    train[\"event\"] = event\n",
    "    dfs.append(train[[\"series_id\", \"step\", \"score\", \"event\"]])\n",
    "\n",
    "    # 保存\n",
    "    for i, model in enumerate(models):\n",
    "        joblib.dump(model, os.path.join(CFG[\"output_dir\"], f'lgb_{event}_fold_{i}.pkl'))\n",
    "del train\n",
    "gc.collect()\n",
    "train = pd.concat(dfs, axis=0)\n",
    "train[\"step\"] = train[\"step\"].astype(int)\n",
    "train = train.sort_values([\"series_id\", \"step\"]).reset_index(drop=True)\n",
    "\n",
    "with open(os.path.join(CFG[\"output_dir\"], \"features.pkl\"), \"wb\") as f:\n",
    "    pickle.dump(features, f)\n",
    "train.to_csv(os.path.join(CFG[\"output_dir\"], \"oof.csv\"), index=False)"
   ]
  },
  {
   "cell_type": "markdown",
   "metadata": {},
   "source": [
    "## Dynamic-Range NMS"
   ]
  },
  {
   "cell_type": "code",
   "execution_count": 4,
   "metadata": {},
   "outputs": [
    {
     "data": {
      "text/plain": [
       "<AxesSubplot: >"
      ]
     },
     "execution_count": 4,
     "metadata": {},
     "output_type": "execute_result"
    },
    {
     "data": {
      "image/png": "[encoded data removed]",
      "text/plain": [
       "<Figure size 640x480 with 1 Axes>"
      ]
     },
     "metadata": {},
     "output_type": "display_data"
    }
   ],
   "source": [
    "train = train[train[\"score\"] > 0.1]\n",
    "train[\"score\"].hist()"
   ]
  },
  {
   "cell_type": "code",
   "execution_count": 5,
   "metadata": {},
   "outputs": [
    {
     "name": "stderr",
     "output_type": "stream",
     "text": [
      "100%|██████████| 277/277 [00:10<00:00, 26.15it/s]\n"
     ]
    }
   ],
   "source": [
    "from utils.postprocess import dynamic_range_nms\n",
    "from multiprocessing import Pool\n",
    "from tqdm import tqdm\n",
    "\n",
    "train[\"step\"] = train[\"step\"].astype(int)\n",
    "\n",
    "groups = [group for _, group in train.groupby(\"series_id\")]\n",
    "with Pool(30) as p:  \n",
    "    results = list(tqdm(p.imap(dynamic_range_nms, groups), total=len(groups)))\n",
    "sub = pd.concat(results)\n",
    "sub[\"score\"] = sub[\"reduced_score\"]"
   ]
  },
  {
   "cell_type": "code",
   "execution_count": 6,
   "metadata": {},
   "outputs": [
    {
     "name": "stdout",
     "output_type": "stream",
     "text": [
      "score: 0.7659\n"
     ]
    },
    {
     "data": {
      "text/plain": [
       "event   tolerance\n",
       "onset   12           0.184294\n",
       "        36           0.605758\n",
       "        60           0.750205\n",
       "        90           0.818199\n",
       "        120          0.844954\n",
       "        150          0.864319\n",
       "        180          0.877525\n",
       "        240          0.896082\n",
       "        300          0.902463\n",
       "        360          0.908306\n",
       "wakeup  12           0.173917\n",
       "        36           0.615770\n",
       "        60           0.746965\n",
       "        90           0.809229\n",
       "        120          0.841480\n",
       "        150          0.865264\n",
       "        180          0.879518\n",
       "        240          0.900505\n",
       "        300          0.911373\n",
       "        360          0.921728\n",
       "dtype: float64"
      ]
     },
     "metadata": {},
     "output_type": "display_data"
    }
   ],
   "source": [
    "# スコア計算\n",
    "labels = pd.read_csv(f\"{CFG['dataset']['competition_dir']}/train_events.csv\").dropna()\n",
    "score, ap_table = compute_comptetition_metric(labels, sub)\n",
    "\n",
    "print(f\"score: {score:.4f}\")\n",
    "display(ap_table)\n",
    "sub.to_csv(os.path.join(CFG[\"output_dir\"], \"submission_after_nms.csv\"), index=False)"
   ]
  },
  {
   "cell_type": "code",
   "execution_count": null,
   "metadata": {},
   "outputs": [],
   "source": []
  },
  {
   "cell_type": "code",
   "execution_count": null,
   "metadata": {},
   "outputs": [],
   "source": []
  }
 ],
 "metadata": {
  "kernelspec": {
   "display_name": "base",
   "language": "python",
   "name": "python3"
  },
  "language_info": {
   "codemirror_mode": {
    "name": "ipython",
    "version": 3
   },
   "file_extension": ".py",
   "mimetype": "text/x-python",
   "name": "python",
   "nbconvert_exporter": "python",
   "pygments_lexer": "ipython3",
   "version": "3.10.10"
  },
  "orig_nbformat": 4
 },
 "nbformat": 4,
 "nbformat_minor": 2
}
