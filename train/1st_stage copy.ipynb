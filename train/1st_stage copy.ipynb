{
 "cells": [
  {
   "cell_type": "code",
   "execution_count": 1,
   "metadata": {},
   "outputs": [
    {
     "name": "stderr",
     "output_type": "stream",
     "text": [
      "2023-10-11 00:39:59.560835: I tensorflow/core/platform/cpu_feature_guard.cc:193] This TensorFlow binary is optimized with oneAPI Deep Neural Network Library (oneDNN) to use the following CPU instructions in performance-critical operations:  AVX2 AVX_VNNI FMA\n",
      "To enable them in other operations, rebuild TensorFlow with the appropriate compiler flags.\n",
      "2023-10-11 00:39:59.952975: I tensorflow/core/util/port.cc:104] oneDNN custom operations are on. You may see slightly different numerical results due to floating-point round-off errors from different computation orders. To turn them off, set the environment variable `TF_ENABLE_ONEDNN_OPTS=0`.\n",
      "2023-10-11 00:40:01.213740: W tensorflow/compiler/xla/stream_executor/platform/default/dso_loader.cc:64] Could not load dynamic library 'libnvinfer.so.7'; dlerror: libnvinfer.so.7: cannot open shared object file: No such file or directory; LD_LIBRARY_PATH: /usr/local/cuda/lib64:/usr/local/cuda/lib:/usr/local/lib/x86_64-linux-gnu:/usr/local/nvidia/lib:/usr/local/nvidia/lib64:/usr/local/nvidia/lib:/usr/local/nvidia/lib64:/opt/conda/lib\n",
      "2023-10-11 00:40:01.214141: W tensorflow/compiler/xla/stream_executor/platform/default/dso_loader.cc:64] Could not load dynamic library 'libnvinfer_plugin.so.7'; dlerror: libnvinfer_plugin.so.7: cannot open shared object file: No such file or directory; LD_LIBRARY_PATH: /usr/local/cuda/lib64:/usr/local/cuda/lib:/usr/local/lib/x86_64-linux-gnu:/usr/local/nvidia/lib:/usr/local/nvidia/lib64:/usr/local/nvidia/lib:/usr/local/nvidia/lib64:/opt/conda/lib\n",
      "2023-10-11 00:40:01.214147: W tensorflow/compiler/tf2tensorrt/utils/py_utils.cc:38] TF-TRT Warning: Cannot dlopen some TensorRT libraries. If you would like to use Nvidia GPU with TensorRT, please make sure the missing libraries mentioned above are installed properly.\n"
     ]
    },
    {
     "name": "stdout",
     "output_type": "stream",
     "text": [
      "exp_077\n"
     ]
    }
   ],
   "source": [
    "import numpy as np\n",
    "import pandas as pd\n",
    "import yaml\n",
    "import sys\n",
    "import os\n",
    "import pickle\n",
    "from glob import glob\n",
    "from pathlib import Path\n",
    "from tqdm import tqdm\n",
    "import pickle\n",
    "import gc\n",
    "import warnings\n",
    "warnings.filterwarnings('ignore')\n",
    "\n",
    "sys.path.append('/kaggle/src')\n",
    "from utils.xgb import fit_xgb, inference_xgb, plot_importances\n",
    "from utils.metric import compute_comptetition_metric\n",
    "from utils.postprocess import post_process\n",
    "from utils.set_seed import seed_base\n",
    "from feature_engineering.stage2 import generate_2nd_stage_features\n",
    "\n",
    "PACKAGE_DIR = Path(\"/kaggle/src\")\n",
    "CFG = yaml.safe_load(open(PACKAGE_DIR / \"config.yaml\", \"r\"))\n",
    "print(CFG[\"2nd_stage\"][\"execution\"][\"exp_id\"])\n",
    "\n",
    "CFG[\"output_dir\"] = f\"/kaggle/output/{CFG['2nd_stage']['execution']['exp_id']}\"\n",
    "!rm -r {CFG[\"output_dir\"]}\n",
    "os.makedirs(CFG[\"output_dir\"], exist_ok=True)\n",
    "\n",
    "seed_base(CFG[\"env\"][\"seed\"])"
   ]
  },
  {
   "cell_type": "code",
   "execution_count": 2,
   "metadata": {},
   "outputs": [],
   "source": [
    "cand_path = os.path.join(\"/kaggle/output\", CFG[\"1st_stage\"][\"execution\"][\"best_exp_id\"], \"next_cands.pkl\")\n",
    "with open(cand_path, \"rb\") as f:\n",
    "    next_cands = pickle.load(f)"
   ]
  },
  {
   "cell_type": "code",
   "execution_count": 3,
   "metadata": {},
   "outputs": [
    {
     "name": "stderr",
     "output_type": "stream",
     "text": [
      "generate features:   2%|▏         | 1/50 [02:26<2:00:00, 146.96s/it]"
     ]
    }
   ],
   "source": [
    "# 特徴生成\n",
    "files = glob(f\"{CFG['dataset']['step_csv_dir']}/*.csv\")[:50]\n",
    "train, features = generate_2nd_stage_features(files, downsample_rate=CFG[\"2nd_stage\"][\"execution\"][\"downsample_rate\"])\n",
    "\n",
    "# cv splitとマージ\n",
    "cv_split = pd.read_csv(CFG['dataset']['cv_split_path'])\n",
    "train[\"fold\"] = train[\"series_id\"].map(cv_split.set_index(\"series_id\")[\"fold\"])\n",
    "print(train.shape)"
   ]
  },
  {
   "cell_type": "code",
   "execution_count": null,
   "metadata": {},
   "outputs": [
    {
     "name": "stderr",
     "output_type": "stream",
     "text": [
      "  0%|          | 0/4 [00:00<?, ?it/s]"
     ]
    },
    {
     "name": "stdout",
     "output_type": "stream",
     "text": [
      "== fold 0 ==\n",
      "[00:34:37] WARNING: ../src/learner.cc:1517: Empty dataset at worker: 0\n",
      "[00:34:37] WARNING: ../src/learner.cc:1517: Empty dataset at worker: 0\n",
      "[0]\teval-logloss:0.00000\n",
      "[00:34:37] WARNING: ../src/learner.cc:1517: Empty dataset at worker: 0\n",
      "[00:34:37] WARNING: ../src/learner.cc:1517: Empty dataset at worker: 0\n",
      "[00:34:37] WARNING: ../src/learner.cc:1517: Empty dataset at worker: 0\n",
      "[00:34:37] WARNING: ../src/learner.cc:1517: Empty dataset at worker: 0\n",
      "[00:34:37] WARNING: ../src/learner.cc:1517: Empty dataset at worker: 0\n",
      "[00:34:37] WARNING: ../src/learner.cc:1517: Empty dataset at worker: 0\n",
      "[00:34:37] WARNING: ../src/learner.cc:1517: Empty dataset at worker: 0\n",
      "[00:34:37] WARNING: ../src/learner.cc:1517: Empty dataset at worker: 0\n",
      "[00:34:37] WARNING: ../src/learner.cc:1517: Empty dataset at worker: 0\n",
      "[00:34:37] WARNING: ../src/learner.cc:1517: Empty dataset at worker: 0\n",
      "[00:34:37] WARNING: ../src/learner.cc:1517: Empty dataset at worker: 0\n",
      "[00:34:37] WARNING: ../src/learner.cc:1517: Empty dataset at worker: 0\n",
      "[00:34:37] WARNING: ../src/learner.cc:1517: Empty dataset at worker: 0\n",
      "[00:34:37] WARNING: ../src/learner.cc:1517: Empty dataset at worker: 0\n",
      "[00:34:37] WARNING: ../src/learner.cc:1517: Empty dataset at worker: 0\n",
      "[00:34:37] WARNING: ../src/learner.cc:1517: Empty dataset at worker: 0\n",
      "[00:34:37] WARNING: ../src/learner.cc:1517: Empty dataset at worker: 0\n",
      "[00:34:37] WARNING: ../src/learner.cc:1517: Empty dataset at worker: 0\n",
      "[00:34:37] WARNING: ../src/learner.cc:1517: Empty dataset at worker: 0\n",
      "[00:34:37] WARNING: ../src/learner.cc:1517: Empty dataset at worker: 0\n",
      "[00:34:37] WARNING: ../src/learner.cc:1517: Empty dataset at worker: 0\n",
      "[00:34:37] WARNING: ../src/learner.cc:1517: Empty dataset at worker: 0\n",
      "[00:34:37] WARNING: ../src/learner.cc:1517: Empty dataset at worker: 0\n",
      "[00:34:37] WARNING: ../src/learner.cc:1517: Empty dataset at worker: 0\n",
      "[00:34:37] WARNING: ../src/learner.cc:1517: Empty dataset at worker: 0\n",
      "[00:34:37] WARNING: ../src/learner.cc:1517: Empty dataset at worker: 0\n",
      "[00:34:37] WARNING: ../src/learner.cc:1517: Empty dataset at worker: 0\n",
      "[00:34:37] WARNING: ../src/learner.cc:1517: Empty dataset at worker: 0\n",
      "[00:34:37] WARNING: ../src/learner.cc:1517: Empty dataset at worker: 0\n",
      "[00:34:37] WARNING: ../src/learner.cc:1517: Empty dataset at worker: 0\n",
      "[00:34:37] WARNING: ../src/learner.cc:1517: Empty dataset at worker: 0\n",
      "[00:34:37] WARNING: ../src/learner.cc:1517: Empty dataset at worker: 0\n",
      "[00:34:37] WARNING: ../src/learner.cc:1517: Empty dataset at worker: 0\n",
      "[00:34:37] WARNING: ../src/learner.cc:1517: Empty dataset at worker: 0\n",
      "[00:34:37] WARNING: ../src/learner.cc:1517: Empty dataset at worker: 0\n",
      "[00:34:37] WARNING: ../src/learner.cc:1517: Empty dataset at worker: 0\n",
      "[00:34:37] WARNING: ../src/learner.cc:1517: Empty dataset at worker: 0\n",
      "[00:34:37] WARNING: ../src/learner.cc:1517: Empty dataset at worker: 0\n",
      "[00:34:37] WARNING: ../src/learner.cc:1517: Empty dataset at worker: 0\n",
      "[00:34:37] WARNING: ../src/learner.cc:1517: Empty dataset at worker: 0\n",
      "[00:34:37] WARNING: ../src/learner.cc:1517: Empty dataset at worker: 0\n",
      "[00:34:37] WARNING: ../src/learner.cc:1517: Empty dataset at worker: 0\n",
      "[00:34:37] WARNING: ../src/learner.cc:1517: Empty dataset at worker: 0\n",
      "[00:34:37] WARNING: ../src/learner.cc:1517: Empty dataset at worker: 0\n",
      "[00:34:37] WARNING: ../src/learner.cc:1517: Empty dataset at worker: 0\n",
      "[00:34:37] WARNING: ../src/learner.cc:1517: Empty dataset at worker: 0\n",
      "[00:34:37] WARNING: ../src/learner.cc:1517: Empty dataset at worker: 0\n",
      "[00:34:37] WARNING: ../src/learner.cc:1517: Empty dataset at worker: 0\n",
      "[00:34:37] WARNING: ../src/learner.cc:1517: Empty dataset at worker: 0\n",
      "[00:34:37] WARNING: ../src/learner.cc:1517: Empty dataset at worker: 0\n",
      "[00:34:37] WARNING: ../src/learner.cc:1517: Empty dataset at worker: 0\n",
      "[00:34:37] WARNING: ../src/learner.cc:1517: Empty dataset at worker: 0\n",
      "[00:34:37] WARNING: ../src/learner.cc:1517: Empty dataset at worker: 0\n",
      "[00:34:37] WARNING: ../src/learner.cc:1517: Empty dataset at worker: 0\n",
      "[00:34:37] WARNING: ../src/learner.cc:1517: Empty dataset at worker: 0\n",
      "[00:34:37] WARNING: ../src/learner.cc:1517: Empty dataset at worker: 0\n",
      "[00:34:37] WARNING: ../src/learner.cc:1517: Empty dataset at worker: 0\n",
      "[00:34:37] WARNING: ../src/learner.cc:1517: Empty dataset at worker: 0\n",
      "[00:34:37] WARNING: ../src/learner.cc:1517: Empty dataset at worker: 0\n",
      "[00:34:37] WARNING: ../src/learner.cc:1517: Empty dataset at worker: 0\n",
      "[00:34:37] WARNING: ../src/learner.cc:1517: Empty dataset at worker: 0\n",
      "[00:34:37] WARNING: ../src/learner.cc:1517: Empty dataset at worker: 0\n",
      "[00:34:37] WARNING: ../src/learner.cc:1517: Empty dataset at worker: 0\n",
      "[00:34:37] WARNING: ../src/learner.cc:1517: Empty dataset at worker: 0\n",
      "[00:34:37] WARNING: ../src/learner.cc:1517: Empty dataset at worker: 0\n",
      "[00:34:37] WARNING: ../src/learner.cc:1517: Empty dataset at worker: 0\n",
      "[00:34:37] WARNING: ../src/learner.cc:1517: Empty dataset at worker: 0\n",
      "[00:34:37] WARNING: ../src/learner.cc:1517: Empty dataset at worker: 0\n",
      "[00:34:37] WARNING: ../src/learner.cc:1517: Empty dataset at worker: 0\n",
      "[00:34:37] WARNING: ../src/learner.cc:1517: Empty dataset at worker: 0\n",
      "[00:34:37] WARNING: ../src/learner.cc:1517: Empty dataset at worker: 0\n",
      "[00:34:37] WARNING: ../src/learner.cc:1517: Empty dataset at worker: 0\n",
      "[00:34:37] WARNING: ../src/learner.cc:1517: Empty dataset at worker: 0\n",
      "[00:34:37] WARNING: ../src/learner.cc:1517: Empty dataset at worker: 0\n",
      "[00:34:37] WARNING: ../src/learner.cc:1517: Empty dataset at worker: 0\n",
      "[00:34:37] WARNING: ../src/learner.cc:1517: Empty dataset at worker: 0\n",
      "[00:34:37] WARNING: ../src/learner.cc:1517: Empty dataset at worker: 0\n",
      "[00:34:37] WARNING: ../src/learner.cc:1517: Empty dataset at worker: 0\n",
      "[00:34:37] WARNING: ../src/learner.cc:1517: Empty dataset at worker: 0\n",
      "[00:34:37] WARNING: ../src/learner.cc:1517: Empty dataset at worker: 0\n",
      "[00:34:37] WARNING: ../src/learner.cc:1517: Empty dataset at worker: 0\n",
      "[00:34:37] WARNING: ../src/learner.cc:1517: Empty dataset at worker: 0\n",
      "[00:34:37] WARNING: ../src/learner.cc:1517: Empty dataset at worker: 0\n",
      "[00:34:37] WARNING: ../src/learner.cc:1517: Empty dataset at worker: 0\n",
      "[00:34:37] WARNING: ../src/learner.cc:1517: Empty dataset at worker: 0\n",
      "[00:34:37] WARNING: ../src/learner.cc:1517: Empty dataset at worker: 0\n",
      "[00:34:37] WARNING: ../src/learner.cc:1517: Empty dataset at worker: 0\n",
      "[00:34:37] WARNING: ../src/learner.cc:1517: Empty dataset at worker: 0\n",
      "[00:34:37] WARNING: ../src/learner.cc:1517: Empty dataset at worker: 0\n",
      "[00:34:37] WARNING: ../src/learner.cc:1517: Empty dataset at worker: 0\n",
      "[00:34:37] WARNING: ../src/learner.cc:1517: Empty dataset at worker: 0\n",
      "[00:34:37] WARNING: ../src/learner.cc:1517: Empty dataset at worker: 0\n",
      "[00:34:37] WARNING: ../src/learner.cc:1517: Empty dataset at worker: 0\n",
      "[00:34:37] WARNING: ../src/learner.cc:1517: Empty dataset at worker: 0\n",
      "[00:34:37] WARNING: ../src/learner.cc:1517: Empty dataset at worker: 0\n",
      "[00:34:37] WARNING: ../src/learner.cc:1517: Empty dataset at worker: 0\n",
      "[00:34:38] WARNING: ../src/learner.cc:1517: Empty dataset at worker: 0\n",
      "[00:34:38] WARNING: ../src/learner.cc:1517: Empty dataset at worker: 0\n",
      "[00:34:38] WARNING: ../src/learner.cc:1517: Empty dataset at worker: 0\n",
      "[00:34:38] WARNING: ../src/learner.cc:1517: Empty dataset at worker: 0\n",
      "[00:34:38] WARNING: ../src/learner.cc:1517: Empty dataset at worker: 0\n",
      "[00:34:38] WARNING: ../src/learner.cc:1517: Empty dataset at worker: 0\n",
      "[00:34:38] WARNING: ../src/learner.cc:1517: Empty dataset at worker: 0\n",
      "[00:34:38] WARNING: ../src/learner.cc:1517: Empty dataset at worker: 0\n",
      "[00:34:38] WARNING: ../src/learner.cc:1517: Empty dataset at worker: 0\n",
      "[00:34:38] WARNING: ../src/learner.cc:1517: Empty dataset at worker: 0\n",
      "[00:34:38] WARNING: ../src/learner.cc:1517: Empty dataset at worker: 0\n",
      "[00:34:38] WARNING: ../src/learner.cc:1517: Empty dataset at worker: 0\n",
      "[00:34:38] WARNING: ../src/learner.cc:1517: Empty dataset at worker: 0\n",
      "[00:34:38] WARNING: ../src/learner.cc:1517: Empty dataset at worker: 0\n",
      "[00:34:38] WARNING: ../src/learner.cc:1517: Empty dataset at worker: 0\n",
      "[00:34:38] WARNING: ../src/learner.cc:1517: Empty dataset at worker: 0\n",
      "[00:34:38] WARNING: ../src/learner.cc:1517: Empty dataset at worker: 0\n",
      "[00:34:38] WARNING: ../src/learner.cc:1517: Empty dataset at worker: 0\n",
      "[00:34:38] WARNING: ../src/learner.cc:1517: Empty dataset at worker: 0\n",
      "[00:34:38] WARNING: ../src/learner.cc:1517: Empty dataset at worker: 0\n",
      "[00:34:38] WARNING: ../src/learner.cc:1517: Empty dataset at worker: 0\n",
      "[00:34:38] WARNING: ../src/learner.cc:1517: Empty dataset at worker: 0\n",
      "[00:34:38] WARNING: ../src/learner.cc:1517: Empty dataset at worker: 0\n",
      "[00:34:38] WARNING: ../src/learner.cc:1517: Empty dataset at worker: 0\n",
      "[00:34:38] WARNING: ../src/learner.cc:1517: Empty dataset at worker: 0\n",
      "[00:34:38] WARNING: ../src/learner.cc:1517: Empty dataset at worker: 0\n",
      "[00:34:38] WARNING: ../src/learner.cc:1517: Empty dataset at worker: 0\n",
      "[00:34:38] WARNING: ../src/learner.cc:1517: Empty dataset at worker: 0\n",
      "[00:34:38] WARNING: ../src/learner.cc:1517: Empty dataset at worker: 0\n",
      "[00:34:38] WARNING: ../src/learner.cc:1517: Empty dataset at worker: 0\n",
      "[00:34:38] WARNING: ../src/learner.cc:1517: Empty dataset at worker: 0\n",
      "[00:34:38] WARNING: ../src/learner.cc:1517: Empty dataset at worker: 0\n",
      "[00:34:38] WARNING: ../src/learner.cc:1517: Empty dataset at worker: 0\n",
      "[00:34:38] WARNING: ../src/learner.cc:1517: Empty dataset at worker: 0\n",
      "[00:34:38] WARNING: ../src/learner.cc:1517: Empty dataset at worker: 0\n",
      "[00:34:38] WARNING: ../src/learner.cc:1517: Empty dataset at worker: 0\n",
      "[00:34:38] WARNING: ../src/learner.cc:1517: Empty dataset at worker: 0\n",
      "[00:34:38] WARNING: ../src/learner.cc:1517: Empty dataset at worker: 0\n",
      "[00:34:38] WARNING: ../src/learner.cc:1517: Empty dataset at worker: 0\n",
      "[00:34:38] WARNING: ../src/learner.cc:1517: Empty dataset at worker: 0\n",
      "[00:34:38] WARNING: ../src/learner.cc:1517: Empty dataset at worker: 0\n",
      "[00:34:38] WARNING: ../src/learner.cc:1517: Empty dataset at worker: 0\n",
      "[00:34:38] WARNING: ../src/learner.cc:1517: Empty dataset at worker: 0\n",
      "[00:34:38] WARNING: ../src/learner.cc:1517: Empty dataset at worker: 0\n",
      "[00:34:38] WARNING: ../src/learner.cc:1517: Empty dataset at worker: 0\n",
      "[00:34:38] WARNING: ../src/learner.cc:1517: Empty dataset at worker: 0\n",
      "[00:34:38] WARNING: ../src/learner.cc:1517: Empty dataset at worker: 0\n",
      "[00:34:38] WARNING: ../src/learner.cc:1517: Empty dataset at worker: 0\n",
      "[00:34:38] WARNING: ../src/learner.cc:1517: Empty dataset at worker: 0\n",
      "[00:34:38] WARNING: ../src/learner.cc:1517: Empty dataset at worker: 0\n",
      "[00:34:38] WARNING: ../src/learner.cc:1517: Empty dataset at worker: 0\n",
      "[00:34:38] WARNING: ../src/learner.cc:1517: Empty dataset at worker: 0\n",
      "[00:34:38] WARNING: ../src/learner.cc:1517: Empty dataset at worker: 0\n",
      "[00:34:38] WARNING: ../src/learner.cc:1517: Empty dataset at worker: 0\n",
      "[00:34:38] WARNING: ../src/learner.cc:1517: Empty dataset at worker: 0\n",
      "[00:34:38] WARNING: ../src/learner.cc:1517: Empty dataset at worker: 0\n",
      "[00:34:38] WARNING: ../src/learner.cc:1517: Empty dataset at worker: 0\n",
      "[00:34:38] WARNING: ../src/learner.cc:1517: Empty dataset at worker: 0\n",
      "[00:34:38] WARNING: ../src/learner.cc:1517: Empty dataset at worker: 0\n",
      "[00:34:38] WARNING: ../src/learner.cc:1517: Empty dataset at worker: 0\n",
      "[00:34:38] WARNING: ../src/learner.cc:1517: Empty dataset at worker: 0\n",
      "[00:34:38] WARNING: ../src/learner.cc:1517: Empty dataset at worker: 0\n",
      "[00:34:38] WARNING: ../src/learner.cc:1517: Empty dataset at worker: 0\n",
      "[00:34:38] WARNING: ../src/learner.cc:1517: Empty dataset at worker: 0\n",
      "[00:34:38] WARNING: ../src/learner.cc:1517: Empty dataset at worker: 0\n",
      "[00:34:38] WARNING: ../src/learner.cc:1517: Empty dataset at worker: 0\n",
      "[00:34:38] WARNING: ../src/learner.cc:1517: Empty dataset at worker: 0\n",
      "[00:34:38] WARNING: ../src/learner.cc:1517: Empty dataset at worker: 0\n",
      "[00:34:38] WARNING: ../src/learner.cc:1517: Empty dataset at worker: 0\n",
      "[00:34:38] WARNING: ../src/learner.cc:1517: Empty dataset at worker: 0\n",
      "[00:34:38] WARNING: ../src/learner.cc:1517: Empty dataset at worker: 0\n",
      "[00:34:38] WARNING: ../src/learner.cc:1517: Empty dataset at worker: 0\n",
      "[00:34:38] WARNING: ../src/learner.cc:1517: Empty dataset at worker: 0\n",
      "[00:34:38] WARNING: ../src/learner.cc:1517: Empty dataset at worker: 0\n",
      "[00:34:38] WARNING: ../src/learner.cc:1517: Empty dataset at worker: 0\n",
      "[00:34:38] WARNING: ../src/learner.cc:1517: Empty dataset at worker: 0\n",
      "[00:34:38] WARNING: ../src/learner.cc:1517: Empty dataset at worker: 0\n",
      "[00:34:38] WARNING: ../src/learner.cc:1517: Empty dataset at worker: 0\n",
      "[00:34:38] WARNING: ../src/learner.cc:1517: Empty dataset at worker: 0\n",
      "[00:34:38] WARNING: ../src/learner.cc:1517: Empty dataset at worker: 0\n",
      "[00:34:38] WARNING: ../src/learner.cc:1517: Empty dataset at worker: 0\n",
      "[00:34:38] WARNING: ../src/learner.cc:1517: Empty dataset at worker: 0\n",
      "[00:34:38] WARNING: ../src/learner.cc:1517: Empty dataset at worker: 0\n",
      "[00:34:38] WARNING: ../src/learner.cc:1517: Empty dataset at worker: 0\n",
      "[00:34:38] WARNING: ../src/learner.cc:1517: Empty dataset at worker: 0\n",
      "[00:34:38] WARNING: ../src/learner.cc:1517: Empty dataset at worker: 0\n",
      "[00:34:38] WARNING: ../src/learner.cc:1517: Empty dataset at worker: 0\n",
      "[00:34:38] WARNING: ../src/learner.cc:1517: Empty dataset at worker: 0\n",
      "[00:34:38] WARNING: ../src/learner.cc:1517: Empty dataset at worker: 0\n",
      "[00:34:38] WARNING: ../src/learner.cc:1517: Empty dataset at worker: 0\n",
      "[00:34:38] WARNING: ../src/learner.cc:1517: Empty dataset at worker: 0\n",
      "[00:34:38] WARNING: ../src/learner.cc:1517: Empty dataset at worker: 0\n",
      "[00:34:38] WARNING: ../src/learner.cc:1517: Empty dataset at worker: 0\n",
      "[00:34:38] WARNING: ../src/learner.cc:1517: Empty dataset at worker: 0\n",
      "[00:34:38] WARNING: ../src/learner.cc:1517: Empty dataset at worker: 0\n",
      "[00:34:38] WARNING: ../src/learner.cc:1517: Empty dataset at worker: 0\n",
      "[00:34:38] WARNING: ../src/learner.cc:1517: Empty dataset at worker: 0\n",
      "[00:34:38] WARNING: ../src/learner.cc:1517: Empty dataset at worker: 0\n",
      "[00:34:38] WARNING: ../src/learner.cc:1517: Empty dataset at worker: 0\n",
      "[00:34:38] WARNING: ../src/learner.cc:1517: Empty dataset at worker: 0\n",
      "[00:34:38] WARNING: ../src/learner.cc:1517: Empty dataset at worker: 0\n",
      "[00:34:38] WARNING: ../src/learner.cc:1517: Empty dataset at worker: 0\n",
      "[00:34:38] WARNING: ../src/learner.cc:1517: Empty dataset at worker: 0\n",
      "[00:34:38] WARNING: ../src/learner.cc:1517: Empty dataset at worker: 0\n",
      "[100]\teval-logloss:0.00000\n"
     ]
    },
    {
     "name": "stderr",
     "output_type": "stream",
     "text": [
      "  0%|          | 0/4 [00:02<?, ?it/s]"
     ]
    },
    {
     "name": "stdout",
     "output_type": "stream",
     "text": [
      "[00:34:38] WARNING: ../src/learner.cc:1517: Empty dataset at worker: 0\n"
     ]
    },
    {
     "name": "stderr",
     "output_type": "stream",
     "text": [
      "\n"
     ]
    },
    {
     "ename": "TypeError",
     "evalue": "NumPy boolean array indexing assignment requires a 0 or 1-dimensional input, input has 2 dimensions",
     "output_type": "error",
     "traceback": [
      "\u001b[0;31m---------------------------------------------------------------------------\u001b[0m",
      "\u001b[0;31mTypeError\u001b[0m                                 Traceback (most recent call last)",
      "\u001b[1;32m/kaggle/train/1st_stage copy.ipynb Cell 4\u001b[0m line \u001b[0;36m2\n\u001b[1;32m      <a href='vscode-notebook-cell://dev-container%2B7b22686f737450617468223a225c5c5c5c77736c2e6c6f63616c686f73745c5c5562756e74755c5c686f6d655c5c6b6167676c655c5c6368696c642d6d696e642d696e737469747574652d6465746563742d736c6565702d737461746573222c226c6f63616c446f636b6572223a66616c73652c22636f6e66696746696c65223a7b22246d6964223a312c2270617468223a222f686f6d652f6b6167676c652f6368696c642d6d696e642d696e737469747574652d6465746563742d736c6565702d7374617465732f2e646576636f6e7461696e65722f646576636f6e7461696e65722e6a736f6e222c22736368656d65223a227673636f64652d66696c65486f7374227d7d/kaggle/train/1st_stage%20copy.ipynb#W2sdnNjb2RlLXJlbW90ZQ%3D%3D?line=0'>1</a>\u001b[0m \u001b[39m# 学習\u001b[39;00m\n\u001b[0;32m----> <a href='vscode-notebook-cell://dev-container%2B7b22686f737450617468223a225c5c5c5c77736c2e6c6f63616c686f73745c5c5562756e74755c5c686f6d655c5c6b6167676c655c5c6368696c642d6d696e642d696e737469747574652d6465746563742d736c6565702d737461746573222c226c6f63616c446f636b6572223a66616c73652c22636f6e66696746696c65223a7b22246d6964223a312c2270617468223a222f686f6d652f6b6167676c652f6368696c642d6d696e642d696e737469747574652d6465746563742d736c6565702d7374617465732f2e646576636f6e7461696e65722f646576636f6e7461696e65722e6a736f6e222c22736368656d65223a227673636f64652d66696c65486f7374227d7d/kaggle/train/1st_stage%20copy.ipynb#W2sdnNjb2RlLXJlbW90ZQ%3D%3D?line=1'>2</a>\u001b[0m trn_oof, models \u001b[39m=\u001b[39m fit_xgb(\n\u001b[1;32m      <a href='vscode-notebook-cell://dev-container%2B7b22686f737450617468223a225c5c5c5c77736c2e6c6f63616c686f73745c5c5562756e74755c5c686f6d655c5c6b6167676c655c5c6368696c642d6d696e642d696e737469747574652d6465746563742d736c6565702d737461746573222c226c6f63616c446f636b6572223a66616c73652c22636f6e66696746696c65223a7b22246d6964223a312c2270617468223a222f686f6d652f6b6167676c652f6368696c642d6d696e642d696e737469747574652d6465746563742d736c6565702d7374617465732f2e646576636f6e7461696e65722f646576636f6e7461696e65722e6a736f6e222c22736368656d65223a227673636f64652d66696c65486f7374227d7d/kaggle/train/1st_stage%20copy.ipynb#W2sdnNjb2RlLXJlbW90ZQ%3D%3D?line=2'>3</a>\u001b[0m     X\u001b[39m=\u001b[39;49mtrain, \n\u001b[1;32m      <a href='vscode-notebook-cell://dev-container%2B7b22686f737450617468223a225c5c5c5c77736c2e6c6f63616c686f73745c5c5562756e74755c5c686f6d655c5c6b6167676c655c5c6368696c642d6d696e642d696e737469747574652d6465746563742d736c6565702d737461746573222c226c6f63616c446f636b6572223a66616c73652c22636f6e66696746696c65223a7b22246d6964223a312c2270617468223a222f686f6d652f6b6167676c652f6368696c642d6d696e642d696e737469747574652d6465746563742d736c6565702d7374617465732f2e646576636f6e7461696e65722f646576636f6e7461696e65722e6a736f6e222c22736368656d65223a227673636f64652d66696c65486f7374227d7d/kaggle/train/1st_stage%20copy.ipynb#W2sdnNjb2RlLXJlbW90ZQ%3D%3D?line=3'>4</a>\u001b[0m     y\u001b[39m=\u001b[39;49mtrain[\u001b[39m\"\u001b[39;49m\u001b[39mtarget\u001b[39;49m\u001b[39m\"\u001b[39;49m], \n\u001b[1;32m      <a href='vscode-notebook-cell://dev-container%2B7b22686f737450617468223a225c5c5c5c77736c2e6c6f63616c686f73745c5c5562756e74755c5c686f6d655c5c6b6167676c655c5c6368696c642d6d696e642d696e737469747574652d6465746563742d736c6565702d737461746573222c226c6f63616c446f636b6572223a66616c73652c22636f6e66696746696c65223a7b22246d6964223a312c2270617468223a222f686f6d652f6b6167676c652f6368696c642d6d696e642d696e737469747574652d6465746563742d736c6565702d7374617465732f2e646576636f6e7461696e65722f646576636f6e7461696e65722e6a736f6e222c22736368656d65223a227673636f64652d66696c65486f7374227d7d/kaggle/train/1st_stage%20copy.ipynb#W2sdnNjb2RlLXJlbW90ZQ%3D%3D?line=4'>5</a>\u001b[0m     folds\u001b[39m=\u001b[39;49mtrain[\u001b[39m\"\u001b[39;49m\u001b[39mfold\u001b[39;49m\u001b[39m\"\u001b[39;49m]\u001b[39m.\u001b[39;49mastype(\u001b[39mint\u001b[39;49m), \n\u001b[1;32m      <a href='vscode-notebook-cell://dev-container%2B7b22686f737450617468223a225c5c5c5c77736c2e6c6f63616c686f73745c5c5562756e74755c5c686f6d655c5c6b6167676c655c5c6368696c642d6d696e642d696e737469747574652d6465746563742d736c6565702d737461746573222c226c6f63616c446f636b6572223a66616c73652c22636f6e66696746696c65223a7b22246d6964223a312c2270617468223a222f686f6d652f6b6167676c652f6368696c642d6d696e642d696e737469747574652d6465746563742d736c6565702d7374617465732f2e646576636f6e7461696e65722f646576636f6e7461696e65722e6a736f6e222c22736368656d65223a227673636f64652d66696c65486f7374227d7d/kaggle/train/1st_stage%20copy.ipynb#W2sdnNjb2RlLXJlbW90ZQ%3D%3D?line=5'>6</a>\u001b[0m     features\u001b[39m=\u001b[39;49mfeatures\u001b[39m.\u001b[39;49mall_features(),\n\u001b[1;32m      <a href='vscode-notebook-cell://dev-container%2B7b22686f737450617468223a225c5c5c5c77736c2e6c6f63616c686f73745c5c5562756e74755c5c686f6d655c5c6b6167676c655c5c6368696c642d6d696e642d696e737469747574652d6465746563742d736c6565702d737461746573222c226c6f63616c446f636b6572223a66616c73652c22636f6e66696746696c65223a7b22246d6964223a312c2270617468223a222f686f6d652f6b6167676c652f6368696c642d6d696e642d696e737469747574652d6465746563742d736c6565702d7374617465732f2e646576636f6e7461696e65722f646576636f6e7461696e65722e6a736f6e222c22736368656d65223a227673636f64652d66696c65486f7374227d7d/kaggle/train/1st_stage%20copy.ipynb#W2sdnNjb2RlLXJlbW90ZQ%3D%3D?line=6'>7</a>\u001b[0m     params\u001b[39m=\u001b[39;49mCFG[\u001b[39m\"\u001b[39;49m\u001b[39m2nd_stage\u001b[39;49m\u001b[39m\"\u001b[39;49m][\u001b[39m\"\u001b[39;49m\u001b[39mxgboost\u001b[39;49m\u001b[39m\"\u001b[39;49m], \n\u001b[1;32m      <a href='vscode-notebook-cell://dev-container%2B7b22686f737450617468223a225c5c5c5c77736c2e6c6f63616c686f73745c5c5562756e74755c5c686f6d655c5c6b6167676c655c5c6368696c642d6d696e642d696e737469747574652d6465746563742d736c6565702d737461746573222c226c6f63616c446f636b6572223a66616c73652c22636f6e66696746696c65223a7b22246d6964223a312c2270617468223a222f686f6d652f6b6167676c652f6368696c642d6d696e642d696e737469747574652d6465746563742d736c6565702d7374617465732f2e646576636f6e7461696e65722f646576636f6e7461696e65722e6a736f6e222c22736368656d65223a227673636f64652d66696c65486f7374227d7d/kaggle/train/1st_stage%20copy.ipynb#W2sdnNjb2RlLXJlbW90ZQ%3D%3D?line=7'>8</a>\u001b[0m     es_rounds\u001b[39m=\u001b[39;49m\u001b[39m100\u001b[39;49m,\n\u001b[1;32m      <a href='vscode-notebook-cell://dev-container%2B7b22686f737450617468223a225c5c5c5c77736c2e6c6f63616c686f73745c5c5562756e74755c5c686f6d655c5c6b6167676c655c5c6368696c642d6d696e642d696e737469747574652d6465746563742d736c6565702d737461746573222c226c6f63616c446f636b6572223a66616c73652c22636f6e66696746696c65223a7b22246d6964223a312c2270617468223a222f686f6d652f6b6167676c652f6368696c642d6d696e642d696e737469747574652d6465746563742d736c6565702d7374617465732f2e646576636f6e7461696e65722f646576636f6e7461696e65722e6a736f6e222c22736368656d65223a227673636f64652d66696c65486f7374227d7d/kaggle/train/1st_stage%20copy.ipynb#W2sdnNjb2RlLXJlbW90ZQ%3D%3D?line=8'>9</a>\u001b[0m )\n\u001b[1;32m     <a href='vscode-notebook-cell://dev-container%2B7b22686f737450617468223a225c5c5c5c77736c2e6c6f63616c686f73745c5c5562756e74755c5c686f6d655c5c6b6167676c655c5c6368696c642d6d696e642d696e737469747574652d6465746563742d736c6565702d737461746573222c226c6f63616c446f636b6572223a66616c73652c22636f6e66696746696c65223a7b22246d6964223a312c2270617468223a222f686f6d652f6b6167676c652f6368696c642d6d696e642d696e737469747574652d6465746563742d736c6565702d7374617465732f2e646576636f6e7461696e65722f646576636f6e7461696e65722e6a736f6e222c22736368656d65223a227673636f64652d66696c65486f7374227d7d/kaggle/train/1st_stage%20copy.ipynb#W2sdnNjb2RlLXJlbW90ZQ%3D%3D?line=9'>10</a>\u001b[0m train[\u001b[39m\"\u001b[39m\u001b[39moof\u001b[39m\u001b[39m\"\u001b[39m] \u001b[39m=\u001b[39m trn_oof\n\u001b[1;32m     <a href='vscode-notebook-cell://dev-container%2B7b22686f737450617468223a225c5c5c5c77736c2e6c6f63616c686f73745c5c5562756e74755c5c686f6d655c5c6b6167676c655c5c6368696c642d6d696e642d696e737469747574652d6465746563742d736c6565702d737461746573222c226c6f63616c446f636b6572223a66616c73652c22636f6e66696746696c65223a7b22246d6964223a312c2270617468223a222f686f6d652f6b6167676c652f6368696c642d6d696e642d696e737469747574652d6465746563742d736c6565702d7374617465732f2e646576636f6e7461696e65722f646576636f6e7461696e65722e6a736f6e222c22736368656d65223a227673636f64652d66696c65486f7374227d7d/kaggle/train/1st_stage%20copy.ipynb#W2sdnNjb2RlLXJlbW90ZQ%3D%3D?line=10'>11</a>\u001b[0m train \u001b[39m=\u001b[39m train\u001b[39m.\u001b[39mdrop(columns\u001b[39m=\u001b[39m\u001b[39mlist\u001b[39m(\u001b[39mset\u001b[39m(features\u001b[39m.\u001b[39mall_features()) \u001b[39m-\u001b[39m \u001b[39mset\u001b[39m([\u001b[39m\"\u001b[39m\u001b[39mminutes\u001b[39m\u001b[39m\"\u001b[39m])))\n",
      "File \u001b[0;32m/kaggle/src/utils/xgb.py:47\u001b[0m, in \u001b[0;36mfit_xgb\u001b[0;34m(X, y, folds, features, params, es_rounds, verbose, log)\u001b[0m\n\u001b[1;32m     38\u001b[0m model \u001b[39m=\u001b[39m xgb\u001b[39m.\u001b[39mtrain(\n\u001b[1;32m     39\u001b[0m     params,\n\u001b[1;32m     40\u001b[0m     dtrain,\n\u001b[0;32m   (...)\u001b[0m\n\u001b[1;32m     44\u001b[0m     verbose_eval\u001b[39m=\u001b[39mverbose,\n\u001b[1;32m     45\u001b[0m )\n\u001b[1;32m     46\u001b[0m valid_pred \u001b[39m=\u001b[39m model\u001b[39m.\u001b[39mpredict(dvalid)\n\u001b[0;32m---> 47\u001b[0m oof[val_idx] \u001b[39m=\u001b[39m valid_pred\n\u001b[1;32m     48\u001b[0m models\u001b[39m.\u001b[39mappend(model)\n\u001b[1;32m     50\u001b[0m \u001b[39mdel\u001b[39;00m dtrain, dvalid, valid_pred\n",
      "\u001b[0;31mTypeError\u001b[0m: NumPy boolean array indexing assignment requires a 0 or 1-dimensional input, input has 2 dimensions"
     ]
    }
   ],
   "source": [
    "# 学習\n",
    "trn_oof, models = fit_xgb(\n",
    "    X=train, \n",
    "    y=train[\"target\"], \n",
    "    folds=train[\"fold\"].astype(int), \n",
    "    features=features.all_features(),\n",
    "    params=CFG[\"2nd_stage\"][\"xgboost\"], \n",
    "    es_rounds=100,\n",
    ")\n",
    "train[\"oof\"] = trn_oof\n",
    "train = train.drop(columns=list(set(features.all_features()) - set([\"minutes\"])))\n",
    "train = train.sort_values([\"series_id\", \"step\"]).reset_index(drop=True)\n",
    "\n",
    "# 保存\n",
    "for i, model in enumerate(models):\n",
    "    model.save_model(os.path.join(CFG[\"output_dir\"], f'xgb_fold{i}.model'))\n",
    "with open(os.path.join(CFG[\"output_dir\"], \"features.pkl\"), \"wb\") as f:\n",
    "    pickle.dump(features, f)\n",
    "\n",
    "del train\n",
    "gc.collect()"
   ]
  },
  {
   "cell_type": "code",
   "execution_count": null,
   "metadata": {},
   "outputs": [
    {
     "name": "stderr",
     "output_type": "stream",
     "text": [
      "100%|██████████| 7/7 [03:53<00:00, 33.35s/it]\n",
      "100%|██████████| 7/7 [03:46<00:00, 32.40s/it]\n",
      "100%|██████████| 7/7 [03:52<00:00, 33.28s/it]\n",
      "100%|██████████| 7/7 [03:50<00:00, 32.93s/it]\n",
      "100%|██████████| 7/7 [04:00<00:00, 34.41s/it]\n"
     ]
    }
   ],
   "source": [
    "# 推論\n",
    "dfs = []\n",
    "for fold, fold_df in cv_split.groupby(\"fold\"):\n",
    "    fold_df.reset_index(drop=True, inplace=True)\n",
    "    stride = 8\n",
    "    for start in tqdm(range(0, len(fold_df), stride)):\n",
    "        end = min(start + stride, len(fold_df))\n",
    "        series_ids = fold_df.iloc[start:end][\"series_id\"].values\n",
    "        files = [f\"{CFG['dataset']['step_csv_dir']}/{series_id}.csv\" for series_id in series_ids]\n",
    "\n",
    "        # 特徴生成\n",
    "        train, features = generate_2nd_stage_features(files, pbar=False)\n",
    "\n",
    "        # 推論\n",
    "        model = models[fold]\n",
    "        preds = inference_xgb([model], train[features.all_features()])\n",
    "        train[\"oof\"] = preds\n",
    "        train.drop(columns=features.all_features(), inplace=True)\n",
    "        dfs.append(train)\n",
    "\n",
    "train = pd.concat(dfs, axis=0).reset_index(drop=True)\n",
    "del dfs\n",
    "gc.collect()\n",
    "\n",
    "# 1st stage\n",
    "cand_path = os.path.join(\"/kaggle/output\", CFG[\"1st_stage\"][\"execution\"][\"best_exp_id\"], \"oof.parquet\")\n",
    "last_train = pd.read_parquet(cand_path).rename(columns={\"oof\": \"oof_1st\"})\n",
    "train = last_train[[\"series_id\", \"oof_1st\", \"step\"]].merge(\n",
    "    train[[\"series_id\", \"oof\", \"step\", \"minutes\"]], \n",
    "    on=[\"series_id\", \"step\"], \n",
    "    how=\"left\")\n",
    "train[\"oof\"] = train[\"oof\"].fillna(train[\"oof_1st\"])\n",
    "train = train.sort_values([\"series_id\", \"step\"]).reset_index(drop=True)\n",
    "\n",
    "# oofの保存\n",
    "train = train[[\"series_id\", \"step\", \"oof\", \"target\", \"minutes\"]]\n",
    "train.to_parquet(os.path.join(CFG[\"output_dir\"], \"oof.parquet\"))"
   ]
  },
  {
   "cell_type": "code",
   "execution_count": null,
   "metadata": {},
   "outputs": [
    {
     "data": {
      "application/vnd.jupyter.widget-view+json": {
       "model_id": "3aeaccc01c4440f1bc38739017d1fcdc",
       "version_major": 2,
       "version_minor": 0
      },
      "text/plain": [
       "Processing series:   0%|          | 0/277 [00:00<?, ?it/s]"
      ]
     },
     "metadata": {},
     "output_type": "display_data"
    },
    {
     "name": "stdout",
     "output_type": "stream",
     "text": [
      "score: 0.5224\n"
     ]
    },
    {
     "data": {
      "text/plain": [
       "event   tolerance\n",
       "onset   12           0.008861\n",
       "        36           0.091589\n",
       "        60           0.267211\n",
       "        90           0.477007\n",
       "        120          0.593797\n",
       "        150          0.647902\n",
       "        180          0.677465\n",
       "        240          0.707337\n",
       "        300          0.734636\n",
       "        360          0.750056\n",
       "wakeup  12           0.021398\n",
       "        36           0.193058\n",
       "        60           0.371167\n",
       "        90           0.532530\n",
       "        120          0.632525\n",
       "        150          0.686993\n",
       "        180          0.715681\n",
       "        240          0.752416\n",
       "        300          0.781686\n",
       "        360          0.804758\n",
       "dtype: float64"
      ]
     },
     "metadata": {},
     "output_type": "display_data"
    }
   ],
   "source": [
    "# 後処理\n",
    "sub = post_process(train)\n",
    "sub.to_csv(os.path.join(CFG[\"output_dir\"], \"submission.csv\"), index=False)\n",
    "\n",
    "# スコア計算\n",
    "labels = pd.read_csv(f\"{CFG['dataset']['competition_dir']}/train_events.csv\").dropna()\n",
    "score, ap_table = compute_comptetition_metric(labels, sub)\n",
    "print(f\"score: {score:.4f}\")\n",
    "display(ap_table)"
   ]
  },
  {
   "cell_type": "code",
   "execution_count": null,
   "metadata": {},
   "outputs": [],
   "source": [
    "importances = plot_importances(models, save_path=f\"{CFG['output_dir']}/importances.png\")"
   ]
  },
  {
   "cell_type": "code",
   "execution_count": null,
   "metadata": {},
   "outputs": [],
   "source": []
  },
  {
   "cell_type": "code",
   "execution_count": null,
   "metadata": {},
   "outputs": [],
   "source": []
  }
 ],
 "metadata": {
  "kernelspec": {
   "display_name": "base",
   "language": "python",
   "name": "python3"
  },
  "language_info": {
   "codemirror_mode": {
    "name": "ipython",
    "version": 3
   },
   "file_extension": ".py",
   "mimetype": "text/x-python",
   "name": "python",
   "nbconvert_exporter": "python",
   "pygments_lexer": "ipython3",
   "version": "3.10.10"
  },
  "orig_nbformat": 4
 },
 "nbformat": 4,
 "nbformat_minor": 2
}
