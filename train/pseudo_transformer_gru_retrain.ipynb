{
 "cells": [
  {
   "cell_type": "code",
   "execution_count": 1,
   "metadata": {},
   "outputs": [
    {
     "name": "stdout",
     "output_type": "stream",
     "text": [
      "/kaggle/working\n"
     ]
    }
   ],
   "source": [
    "%cd /kaggle/working\n",
    "%rm -rf /kaggle/working/*"
   ]
  },
  {
   "cell_type": "code",
   "execution_count": 2,
   "metadata": {},
   "outputs": [
    {
     "name": "stderr",
     "output_type": "stream",
     "text": [
      "2023-10-25 05:01:07.984440: W tensorflow/compiler/xla/stream_executor/platform/default/dso_loader.cc:64] Could not load dynamic library 'libnvinfer.so.7'; dlerror: libnvinfer.so.7: cannot open shared object file: No such file or directory; LD_LIBRARY_PATH: /usr/local/cuda/lib64:/usr/local/cuda/lib:/usr/local/lib/x86_64-linux-gnu:/usr/local/nvidia/lib:/usr/local/nvidia/lib64:/usr/local/nvidia/lib:/usr/local/nvidia/lib64:/opt/conda/lib\n",
      "2023-10-25 05:01:07.985371: W tensorflow/compiler/xla/stream_executor/platform/default/dso_loader.cc:64] Could not load dynamic library 'libnvinfer_plugin.so.7'; dlerror: libnvinfer_plugin.so.7: cannot open shared object file: No such file or directory; LD_LIBRARY_PATH: /usr/local/cuda/lib64:/usr/local/cuda/lib:/usr/local/lib/x86_64-linux-gnu:/usr/local/nvidia/lib:/usr/local/nvidia/lib64:/usr/local/nvidia/lib:/usr/local/nvidia/lib64:/opt/conda/lib\n",
      "2023-10-25 05:01:07.985377: W tensorflow/compiler/tf2tensorrt/utils/py_utils.cc:38] TF-TRT Warning: Cannot dlopen some TensorRT libraries. If you would like to use Nvidia GPU with TensorRT, please make sure the missing libraries mentioned above are installed properly.\n"
     ]
    },
    {
     "name": "stdout",
     "output_type": "stream",
     "text": [
      "exp_0105\n"
     ]
    }
   ],
   "source": [
    "import pandas as pd\n",
    "import yaml\n",
    "import sys\n",
    "import os\n",
    "from glob import glob\n",
    "import gc\n",
    "from pathlib import Path\n",
    "import pickle\n",
    "from tqdm import tqdm\n",
    "import numpy as np\n",
    "\n",
    "import warnings\n",
    "warnings.filterwarnings('ignore')\n",
    "\n",
    "import torch\n",
    "import torch.nn as nn\n",
    "import torch.cuda.amp as amp\n",
    "import torch.nn.functional as F\n",
    "from torch.utils.data import DataLoader, Dataset\n",
    "import torch.optim as optim\n",
    "from torch.optim import lr_scheduler\n",
    "from torch.autograd import Variable\n",
    "from torch.optim.lr_scheduler import ReduceLROnPlateau\n",
    "\n",
    "import pytorch_lightning as pl\n",
    "from torchmetrics import MetricCollection, MeanSquaredError\n",
    "from pytorch_lightning.callbacks import ModelCheckpoint, EarlyStopping\n",
    "\n",
    "\n",
    "sys.path.append('/kaggle/src')\n",
    "from utils.metric import compute_comptetition_metric\n",
    "from utils.set_seed import seed_base_torch\n",
    "from utils.feature_contena import Features\n",
    "from utils.lightning_utils import MyLightningDataModule\n",
    "from utils.postprocess import dynamic_range_nms\n",
    "from multiprocessing import Pool\n",
    "from consts import ANGLEZ_MEAN, ANGLEZ_STD, ENMO_MEAN, ENMO_STD\n",
    "from torch_model.dataset import ZzzPatchDataset\n",
    "from torch_model.gru_model import ZzzTransformerGRUModule\n",
    "\n",
    "MODEL_NAME = \"pseudo_labeling_retrain\"\n",
    "\n",
    "PACKAGE_DIR = Path(\"/kaggle/src\")\n",
    "CFG = yaml.safe_load(open(PACKAGE_DIR / \"config.yaml\", \"r\"))\n",
    "print(CFG[MODEL_NAME][\"execution\"][\"exp_id\"])\n",
    "\n",
    "CFG[\"output_dir\"] = f\"/kaggle/output/{CFG[MODEL_NAME]['execution']['exp_id']}\"\n",
    "!rm -r {CFG[\"output_dir\"]}\n",
    "os.makedirs(CFG[\"output_dir\"], exist_ok=True)\n",
    "\n",
    "seed_base_torch(CFG[\"env\"][\"seed\"])\n",
    "\n",
    "BLOCK_SIZE = CFG[MODEL_NAME][\"execution\"][\"block_size\"]"
   ]
  },
  {
   "cell_type": "code",
   "execution_count": 3,
   "metadata": {},
   "outputs": [],
   "source": [
    "# cv splitとマージ\n",
    "cv_split = pd.read_csv(CFG['dataset']['cv_split_path'])\n",
    "cv_split.loc[cv_split[\"fold\"].isin([0, 1, 2]), \"fold\"] = 0\n",
    "cv_split.loc[cv_split[\"fold\"].isin([3, 4]), \"fold\"] = 1\n",
    "series_id2fold = dict(zip(cv_split[\"series_id\"], cv_split[\"fold\"]))"
   ]
  },
  {
   "cell_type": "code",
   "execution_count": 4,
   "metadata": {},
   "outputs": [
    {
     "name": "stderr",
     "output_type": "stream",
     "text": [
      "100%|██████████| 277/277 [01:15<00:00,  3.67it/s]\n"
     ]
    }
   ],
   "source": [
    "files = glob(f\"{CFG['dataset']['step_csv_dir']}/*.parquet\")\n",
    "dfs = []\n",
    "for file in tqdm(files):\n",
    "    df = pd.read_parquet(file)\n",
    "    series_id = df[\"series_id\"].unique()[0]\n",
    "    fold = series_id2fold[series_id]\n",
    "    df[\"fold\"] = fold\n",
    "    if fold == 1:\n",
    "        oof = pd.read_parquet(os.path.join(\"/kaggle/output\", CFG[\"pseudo_labeling\"][\"execution\"][\"best_exp_id\"], \"oof.parquet\"), filters=[('series_id','=',series_id)])\n",
    "        df = df.merge(oof, on=[\"series_id\", \"step\"], how=\"left\")        \n",
    "        df[[\"wakeup_target\", \"onset_target\"]] = df[[\"wakeup_oof\", \"onset_oof\"]]\n",
    "        df[[\"wakeup_target\", \"onset_target\"]] = df[[\"wakeup_target\", \"onset_target\"]].interpolate(method=\"linear\", limit_direction=\"both\")\n",
    "        df = df.drop([\"wakeup_oof\", \"onset_oof\"], axis=1)\n",
    "    dfs.append(df)\n",
    "train = pd.concat(dfs, axis=0).reset_index(drop=True)"
   ]
  },
  {
   "cell_type": "code",
   "execution_count": 5,
   "metadata": {},
   "outputs": [],
   "source": [
    "# 標準化\n",
    "train[\"anglez\"] = (train[\"anglez\"] - ANGLEZ_MEAN) / ANGLEZ_STD\n",
    "train[\"enmo\"] = (train[\"enmo\"] - ENMO_MEAN) / ENMO_STD\n",
    "train[\"anglez_diff\"] = train[\"anglez\"].diff().fillna(0)\n",
    "train[\"enmo_diff\"] = train[\"enmo\"].diff().fillna(0)\n",
    "\n",
    "# targetは01にする\n",
    "train[\"onset_target\"] = train[\"onset_target\"] / 10\n",
    "train[\"wakeup_target\"] = train[\"wakeup_target\"] / 10"
   ]
  },
  {
   "cell_type": "code",
   "execution_count": 6,
   "metadata": {},
   "outputs": [
    {
     "name": "stderr",
     "output_type": "stream",
     "text": [
      "100%|██████████| 277/277 [00:30<00:00,  9.17it/s]\n"
     ]
    },
    {
     "data": {
      "text/plain": [
       "((1600, 48), (1600, 2))"
      ]
     },
     "execution_count": 6,
     "metadata": {},
     "output_type": "execute_result"
    }
   ],
   "source": [
    "# BLOCK_SIZE ごとに分割\n",
    "dfs = []\n",
    "for series_id, df in tqdm(train.groupby(\"series_id\")):\n",
    "    df = df.sort_values(\"step\").reset_index(drop=True)\n",
    "\n",
    "    for start in range(0, len(df), BLOCK_SIZE // 8):\n",
    "        end = start + BLOCK_SIZE\n",
    "        if end > len(df):\n",
    "            # endをlen(df)未満の最大のpsの倍数にする\n",
    "            end = len(df) - len(df) % CFG[MODEL_NAME][\"execution\"][\"patch_size\"]\n",
    "            start = end - BLOCK_SIZE\n",
    "            assert start >= 0\n",
    "        assert df.iloc[start][\"step\"] % CFG[MODEL_NAME][\"execution\"][\"patch_size\"] == 0\n",
    "        dfs.append(df.iloc[start: end])\n",
    "gc.collect()\n",
    "\n",
    "features = Features()\n",
    "features.add_num_features([\"anglez\", \"enmo\"])\n",
    "features.add_num_features([\"anglez_diff\", \"enmo_diff\"])\n",
    "dataset_oof = ZzzPatchDataset(dfs, 'train', features, patch_size=CFG[MODEL_NAME][\"execution\"][\"patch_size\"])\n",
    "feats, targets = dataset_oof[0]\n",
    "feats.shape, targets.shape"
   ]
  },
  {
   "cell_type": "code",
   "execution_count": 7,
   "metadata": {},
   "outputs": [
    {
     "name": "stdout",
     "output_type": "stream",
     "text": [
      "rm: cannot remove 'logs': No such file or directory\n"
     ]
    }
   ],
   "source": [
    "!rm -r logs"
   ]
  },
  {
   "cell_type": "code",
   "execution_count": 9,
   "metadata": {},
   "outputs": [
    {
     "name": "stdout",
     "output_type": "stream",
     "text": [
      "== fold 1 ==\n"
     ]
    },
    {
     "data": {
      "application/vnd.jupyter.widget-view+json": {
       "model_id": "381156dd64e34928b79db48830050f6e",
       "version_major": 2,
       "version_minor": 0
      },
      "text/plain": [
       "Sanity Checking: 0it [00:00, ?it/s]"
      ]
     },
     "metadata": {},
     "output_type": "display_data"
    },
    {
     "name": "stdout",
     "output_type": "stream",
     "text": [
      "[epoch 0] valid: BCEWithLogitsLoss=0.8019, \n"
     ]
    },
    {
     "data": {
      "application/vnd.jupyter.widget-view+json": {
       "model_id": "19eff9043856423f9101cf5629d665e5",
       "version_major": 2,
       "version_minor": 0
      },
      "text/plain": [
       "Training: 0it [00:00, ?it/s]"
      ]
     },
     "metadata": {},
     "output_type": "display_data"
    },
    {
     "data": {
      "application/vnd.jupyter.widget-view+json": {
       "model_id": "da65248ddaa94515ad854846d595dd59",
       "version_major": 2,
       "version_minor": 0
      },
      "text/plain": [
       "Validation: 0it [00:00, ?it/s]"
      ]
     },
     "metadata": {},
     "output_type": "display_data"
    },
    {
     "name": "stdout",
     "output_type": "stream",
     "text": [
      "[epoch 0] valid: BCEWithLogitsLoss=0.0571, \n"
     ]
    },
    {
     "data": {
      "application/vnd.jupyter.widget-view+json": {
       "model_id": "cd5c79cdf6344327ad7559199509776e",
       "version_major": 2,
       "version_minor": 0
      },
      "text/plain": [
       "Validation: 0it [00:00, ?it/s]"
      ]
     },
     "metadata": {},
     "output_type": "display_data"
    },
    {
     "name": "stdout",
     "output_type": "stream",
     "text": [
      "[epoch 0] valid: BCEWithLogitsLoss=0.0219, \n"
     ]
    },
    {
     "data": {
      "application/vnd.jupyter.widget-view+json": {
       "model_id": "bf01508c761c4dfcbabd2f69ae6f1482",
       "version_major": 2,
       "version_minor": 0
      },
      "text/plain": [
       "Validation: 0it [00:00, ?it/s]"
      ]
     },
     "metadata": {},
     "output_type": "display_data"
    },
    {
     "name": "stdout",
     "output_type": "stream",
     "text": [
      "[epoch 0] valid: BCEWithLogitsLoss=0.0215, \n"
     ]
    },
    {
     "data": {
      "application/vnd.jupyter.widget-view+json": {
       "model_id": "d80c16930fcd434b87304cf4a586fed3",
       "version_major": 2,
       "version_minor": 0
      },
      "text/plain": [
       "Validation: 0it [00:00, ?it/s]"
      ]
     },
     "metadata": {},
     "output_type": "display_data"
    },
    {
     "name": "stdout",
     "output_type": "stream",
     "text": [
      "[epoch 0] valid: BCEWithLogitsLoss=0.0213, \n"
     ]
    },
    {
     "data": {
      "application/vnd.jupyter.widget-view+json": {
       "model_id": "a86c1ce0a9514ab3a0f54b870b437764",
       "version_major": 2,
       "version_minor": 0
      },
      "text/plain": [
       "Validation: 0it [00:00, ?it/s]"
      ]
     },
     "metadata": {},
     "output_type": "display_data"
    },
    {
     "name": "stdout",
     "output_type": "stream",
     "text": [
      "[epoch 1] valid: BCEWithLogitsLoss=0.0214, \n"
     ]
    },
    {
     "data": {
      "application/vnd.jupyter.widget-view+json": {
       "model_id": "fde30f39285d4980ab2b4e2a977ce8c7",
       "version_major": 2,
       "version_minor": 0
      },
      "text/plain": [
       "Validation: 0it [00:00, ?it/s]"
      ]
     },
     "metadata": {},
     "output_type": "display_data"
    },
    {
     "name": "stdout",
     "output_type": "stream",
     "text": [
      "[epoch 1] valid: BCEWithLogitsLoss=0.0213, \n"
     ]
    },
    {
     "data": {
      "application/vnd.jupyter.widget-view+json": {
       "model_id": "d93b026bfdb749b593f987fa887b2cdc",
       "version_major": 2,
       "version_minor": 0
      },
      "text/plain": [
       "Validation: 0it [00:00, ?it/s]"
      ]
     },
     "metadata": {},
     "output_type": "display_data"
    },
    {
     "name": "stdout",
     "output_type": "stream",
     "text": [
      "[epoch 1] valid: BCEWithLogitsLoss=0.0212, \n"
     ]
    },
    {
     "data": {
      "application/vnd.jupyter.widget-view+json": {
       "model_id": "5b34673821ad48e3addd54d28b6f9540",
       "version_major": 2,
       "version_minor": 0
      },
      "text/plain": [
       "Validation: 0it [00:00, ?it/s]"
      ]
     },
     "metadata": {},
     "output_type": "display_data"
    },
    {
     "name": "stdout",
     "output_type": "stream",
     "text": [
      "[epoch 1] valid: BCEWithLogitsLoss=0.0214, \n"
     ]
    },
    {
     "data": {
      "application/vnd.jupyter.widget-view+json": {
       "model_id": "4338c82812604947a927f9ba93b39fc5",
       "version_major": 2,
       "version_minor": 0
      },
      "text/plain": [
       "Validation: 0it [00:00, ?it/s]"
      ]
     },
     "metadata": {},
     "output_type": "display_data"
    },
    {
     "name": "stdout",
     "output_type": "stream",
     "text": [
      "[epoch 2] valid: BCEWithLogitsLoss=0.0212, \n"
     ]
    },
    {
     "data": {
      "application/vnd.jupyter.widget-view+json": {
       "model_id": "a50883cbdb51481baeb35e88632cf19e",
       "version_major": 2,
       "version_minor": 0
      },
      "text/plain": [
       "Validation: 0it [00:00, ?it/s]"
      ]
     },
     "metadata": {},
     "output_type": "display_data"
    },
    {
     "name": "stdout",
     "output_type": "stream",
     "text": [
      "[epoch 2] valid: BCEWithLogitsLoss=0.0213, \n"
     ]
    },
    {
     "data": {
      "application/vnd.jupyter.widget-view+json": {
       "model_id": "5c1e70c3b06742d783afedd3e271ed08",
       "version_major": 2,
       "version_minor": 0
      },
      "text/plain": [
       "Validation: 0it [00:00, ?it/s]"
      ]
     },
     "metadata": {},
     "output_type": "display_data"
    },
    {
     "name": "stdout",
     "output_type": "stream",
     "text": [
      "[epoch 2] valid: BCEWithLogitsLoss=0.0213, \n"
     ]
    },
    {
     "data": {
      "application/vnd.jupyter.widget-view+json": {
       "model_id": "6db4c69ccb774c9b9c1fee44a9a79245",
       "version_major": 2,
       "version_minor": 0
      },
      "text/plain": [
       "Validation: 0it [00:00, ?it/s]"
      ]
     },
     "metadata": {},
     "output_type": "display_data"
    },
    {
     "name": "stdout",
     "output_type": "stream",
     "text": [
      "[epoch 2] valid: BCEWithLogitsLoss=0.0213, \n"
     ]
    },
    {
     "data": {
      "application/vnd.jupyter.widget-view+json": {
       "model_id": "35157a64c6254e7ea7be68701e60d727",
       "version_major": 2,
       "version_minor": 0
      },
      "text/plain": [
       "Validation: 0it [00:00, ?it/s]"
      ]
     },
     "metadata": {},
     "output_type": "display_data"
    },
    {
     "name": "stdout",
     "output_type": "stream",
     "text": [
      "[epoch 3] valid: BCEWithLogitsLoss=0.0218, \n"
     ]
    },
    {
     "data": {
      "application/vnd.jupyter.widget-view+json": {
       "model_id": "9cfa42d065064cd798b346aaedcfe0e9",
       "version_major": 2,
       "version_minor": 0
      },
      "text/plain": [
       "Validation: 0it [00:00, ?it/s]"
      ]
     },
     "metadata": {},
     "output_type": "display_data"
    },
    {
     "name": "stdout",
     "output_type": "stream",
     "text": [
      "[epoch 3] valid: BCEWithLogitsLoss=0.0214, \n"
     ]
    },
    {
     "data": {
      "application/vnd.jupyter.widget-view+json": {
       "model_id": "b558c283f1b146d6aa2c4b97d406e792",
       "version_major": 2,
       "version_minor": 0
      },
      "text/plain": [
       "Validation: 0it [00:00, ?it/s]"
      ]
     },
     "metadata": {},
     "output_type": "display_data"
    },
    {
     "name": "stdout",
     "output_type": "stream",
     "text": [
      "[epoch 3] valid: BCEWithLogitsLoss=0.0214, \n"
     ]
    },
    {
     "data": {
      "application/vnd.jupyter.widget-view+json": {
       "model_id": "cc384eb4c5194d03b1076aefde38cd0b",
       "version_major": 2,
       "version_minor": 0
      },
      "text/plain": [
       "Validation: 0it [00:00, ?it/s]"
      ]
     },
     "metadata": {},
     "output_type": "display_data"
    },
    {
     "name": "stdout",
     "output_type": "stream",
     "text": [
      "[epoch 3] valid: BCEWithLogitsLoss=0.0217, \n"
     ]
    },
    {
     "data": {
      "application/vnd.jupyter.widget-view+json": {
       "model_id": "80c474a08a344419b9e48a27971536f8",
       "version_major": 2,
       "version_minor": 0
      },
      "text/plain": [
       "Validation: 0it [00:00, ?it/s]"
      ]
     },
     "metadata": {},
     "output_type": "display_data"
    },
    {
     "name": "stdout",
     "output_type": "stream",
     "text": [
      "CPU times: user 1h 23min, sys: 3min 9s, total: 1h 26min 10s\n",
      "Wall time: 36min 23s\n"
     ]
    },
    {
     "data": {
      "text/plain": [
       "0"
      ]
     },
     "execution_count": 9,
     "metadata": {},
     "output_type": "execute_result"
    }
   ],
   "source": [
    "%%time\n",
    "\n",
    "fold_oof_dfs = []\n",
    "fold = 1\n",
    "print(f\"== fold {fold} ==\")\n",
    "\n",
    "# 学習・評価データ\n",
    "train_dfs = dfs\n",
    "valid_dfs = [df for df in dfs if df[\"fold\"].unique()[0] == fold]\n",
    "train_dataset = ZzzPatchDataset(train_dfs, mode=\"train\", features=features, patch_size=CFG[MODEL_NAME][\"execution\"][\"patch_size\"])\n",
    "valid_dataset = ZzzPatchDataset(valid_dfs, mode=\"train\", features=features, patch_size=CFG[MODEL_NAME][\"execution\"][\"patch_size\"])\n",
    "data_module = MyLightningDataModule(train_dataset, valid_dataset, batch_size=32)\n",
    "\n",
    "# モデル\n",
    "num_training_steps = len(train_dataset) // 32 * 10\n",
    "model = ZzzTransformerGRUModule(\n",
    "    max_len=BLOCK_SIZE // CFG[MODEL_NAME][\"execution\"][\"patch_size\"],\n",
    "    input_numerical_size=len(features.all_features()) * CFG[MODEL_NAME][\"execution\"][\"patch_size\"],\n",
    "    **CFG[MODEL_NAME][\"params\"],\n",
    "    lr=0.001, \n",
    "    dropout=0.0, \n",
    "    loss_fn=nn.BCEWithLogitsLoss(),\n",
    "    num_training_steps=num_training_steps,\n",
    "    )\n",
    "\n",
    "# コールバック\n",
    "cp_callback = ModelCheckpoint(\n",
    "    \"logs/\", \n",
    "    filename=f\"best_model_fold{fold}\",\n",
    "    monitor=\"val_loss\",\n",
    "    mode=\"min\",\n",
    "    save_top_k=1,\n",
    "    save_last=False,\n",
    ")\n",
    "es_callback = EarlyStopping(\n",
    "    monitor=\"val_loss\",\n",
    "    mode=\"min\",\n",
    "    patience=8,\n",
    ")\n",
    "\n",
    "# 学習\n",
    "trainer = pl.Trainer(\n",
    "    callbacks=[cp_callback, es_callback],\n",
    "    deterministic=True,\n",
    "    val_check_interval=0.25,\n",
    "    )\n",
    "trainer.fit(model, datamodule=data_module)\n",
    "\n",
    "# 推論\n",
    "model = ZzzTransformerGRUModule.load_from_checkpoint(\n",
    "    f\"logs/best_model_fold{fold}.ckpt\", \n",
    "    max_len=BLOCK_SIZE // CFG[MODEL_NAME][\"execution\"][\"patch_size\"],\n",
    "    input_numerical_size=len(features.all_features()) * CFG[MODEL_NAME][\"execution\"][\"patch_size\"],\n",
    "    **CFG[MODEL_NAME][\"params\"],\n",
    "    loss_fn=nn.BCEWithLogitsLoss()).to(\"cuda\")\n",
    "model.eval()\n",
    "preds = []\n",
    "with torch.no_grad():\n",
    "    for X, y in data_module.val_dataloader():\n",
    "        pred = torch.sigmoid(model(X.to(\"cuda\"))).detach().cpu().numpy() * 10\n",
    "        preds.append(pred)\n",
    "\n",
    "oof_dfs = []\n",
    "for pred, df in zip(np.vstack(preds), valid_dfs):\n",
    "    df = df.iloc[CFG[MODEL_NAME][\"execution\"][\"patch_size\"] // 2: len(df): CFG[MODEL_NAME][\"execution\"][\"patch_size\"]].reset_index(drop=True)\n",
    "    df[[\"wakeup_oof\", \"onset_oof\"]] = pred\n",
    "    oof_dfs.append(df)\n",
    "\n",
    "oof_df = pd.concat(oof_dfs)\n",
    "oof_df = oof_df.groupby([\"series_id\", \"step\"]).mean().reset_index().sort_values([\"series_id\", \"step\"])\n",
    "fold_oof_dfs.append(oof_df[[\"series_id\", \"step\", \"wakeup_oof\", \"onset_oof\"]])\n",
    "\n",
    "del model, preds, oof_df, oof_dfs\n",
    "gc.collect()\n",
    "# break\n",
    "\n",
    "train = pd.concat(fold_oof_dfs)\n",
    "train.to_parquet(f\"{CFG['output_dir']}/oof.parquet\", index=False)\n",
    "del fold_oof_dfs\n",
    "gc.collect()"
   ]
  },
  {
   "cell_type": "code",
   "execution_count": 10,
   "metadata": {},
   "outputs": [
    {
     "data": {
      "text/plain": [
       "415001"
      ]
     },
     "execution_count": 10,
     "metadata": {},
     "output_type": "execute_result"
    },
    {
     "data": {
      "image/png": "[encoded data removed]",
      "text/plain": [
       "<Figure size 640x480 with 1 Axes>"
      ]
     },
     "metadata": {},
     "output_type": "display_data"
    }
   ],
   "source": [
    "dfs = []\n",
    "df = train[[\"series_id\", \"step\", \"wakeup_oof\"]].copy()\n",
    "df[\"event\"] = \"wakeup\"\n",
    "df[\"score\"] = df[\"wakeup_oof\"]\n",
    "dfs.append(df[['series_id', 'step', 'event', 'score']])\n",
    "\n",
    "df = train[[\"series_id\", \"step\", \"onset_oof\"]].copy()\n",
    "df[\"event\"] = \"onset\"\n",
    "df[\"score\"] = df[\"onset_oof\"]\n",
    "dfs.append(df[['series_id', 'step', 'event', 'score']])\n",
    "\n",
    "train = pd.concat(dfs)\n",
    "train = train[train[\"score\"]>0.1].reset_index(drop=True)\n",
    "train[\"score\"].hist()\n",
    "len(train)"
   ]
  },
  {
   "cell_type": "markdown",
   "metadata": {},
   "source": [
    "## Dynamic-Range NMS"
   ]
  },
  {
   "cell_type": "code",
   "execution_count": 11,
   "metadata": {},
   "outputs": [
    {
     "name": "stderr",
     "output_type": "stream",
     "text": [
      "\n",
      "\u001b[A\n",
      "\u001b[A\n",
      "\u001b[A\n",
      "\u001b[A\n",
      "\u001b[A\n",
      "\u001b[A\n",
      "\u001b[A\n",
      "\u001b[A\n",
      "\u001b[A\n",
      "100%|██████████| 111/111 [00:02<00:00, 42.82it/s]\n"
     ]
    }
   ],
   "source": [
    "train[\"step\"] = train[\"step\"].astype(int)\n",
    "\n",
    "groups = [group for _, group in train.groupby(\"series_id\")]\n",
    "with Pool(30) as p:  \n",
    "    results = list(tqdm(p.imap(dynamic_range_nms, groups), total=len(groups)))\n",
    "sub = pd.concat(results)\n",
    "sub[\"score\"] = sub[\"reduced_score\"]"
   ]
  },
  {
   "cell_type": "code",
   "execution_count": 12,
   "metadata": {},
   "outputs": [
    {
     "name": "stdout",
     "output_type": "stream",
     "text": [
      "score: 0.7408\n"
     ]
    },
    {
     "data": {
      "text/plain": [
       "event   tolerance\n",
       "onset   12           0.228170\n",
       "        36           0.599294\n",
       "        60           0.704555\n",
       "        90           0.756267\n",
       "        120          0.798595\n",
       "        150          0.820218\n",
       "        180          0.838613\n",
       "        240          0.850874\n",
       "        300          0.858548\n",
       "        360          0.864297\n",
       "wakeup  12           0.233256\n",
       "        36           0.636783\n",
       "        60           0.726831\n",
       "        90           0.774552\n",
       "        120          0.816894\n",
       "        150          0.831326\n",
       "        180          0.849032\n",
       "        240          0.865376\n",
       "        300          0.877680\n",
       "        360          0.884877\n",
       "dtype: float64"
      ]
     },
     "metadata": {},
     "output_type": "display_data"
    }
   ],
   "source": [
    "# スコア計算\n",
    "labels = pd.read_csv(f\"{CFG['dataset']['competition_dir']}/train_events.csv\").dropna()\n",
    "labels = labels[labels[\"series_id\"].isin(sub[\"series_id\"].unique())]\n",
    "score, ap_table = compute_comptetition_metric(labels, sub)\n",
    "\n",
    "print(f\"score: {score:.4f}\")\n",
    "display(ap_table)\n",
    "sub.to_csv(os.path.join(CFG[\"output_dir\"], \"submission.csv\"), index=False)"
   ]
  },
  {
   "cell_type": "code",
   "execution_count": 13,
   "metadata": {},
   "outputs": [],
   "source": [
    "%cp -r logs {CFG[\"output_dir\"]}"
   ]
  },
  {
   "cell_type": "code",
   "execution_count": 14,
   "metadata": {},
   "outputs": [
    {
     "data": {
      "text/html": [
       "<div>\n",
       "<style scoped>\n",
       "    .dataframe tbody tr th:only-of-type {\n",
       "        vertical-align: middle;\n",
       "    }\n",
       "\n",
       "    .dataframe tbody tr th {\n",
       "        vertical-align: top;\n",
       "    }\n",
       "\n",
       "    .dataframe thead th {\n",
       "        text-align: right;\n",
       "    }\n",
       "</style>\n",
       "<table border=\"1\" class=\"dataframe\">\n",
       "  <thead>\n",
       "    <tr style=\"text-align: right;\">\n",
       "      <th></th>\n",
       "      <th>series_id</th>\n",
       "      <th>step</th>\n",
       "      <th>event</th>\n",
       "      <th>score</th>\n",
       "    </tr>\n",
       "  </thead>\n",
       "  <tbody>\n",
       "    <tr>\n",
       "      <th>0</th>\n",
       "      <td>03d92c9f6f8a</td>\n",
       "      <td>30</td>\n",
       "      <td>wakeup</td>\n",
       "      <td>0.119386</td>\n",
       "    </tr>\n",
       "    <tr>\n",
       "      <th>1</th>\n",
       "      <td>03d92c9f6f8a</td>\n",
       "      <td>42</td>\n",
       "      <td>wakeup</td>\n",
       "      <td>0.123000</td>\n",
       "    </tr>\n",
       "    <tr>\n",
       "      <th>2</th>\n",
       "      <td>03d92c9f6f8a</td>\n",
       "      <td>54</td>\n",
       "      <td>wakeup</td>\n",
       "      <td>0.123484</td>\n",
       "    </tr>\n",
       "    <tr>\n",
       "      <th>3</th>\n",
       "      <td>03d92c9f6f8a</td>\n",
       "      <td>66</td>\n",
       "      <td>wakeup</td>\n",
       "      <td>0.120225</td>\n",
       "    </tr>\n",
       "    <tr>\n",
       "      <th>4</th>\n",
       "      <td>03d92c9f6f8a</td>\n",
       "      <td>78</td>\n",
       "      <td>wakeup</td>\n",
       "      <td>0.115870</td>\n",
       "    </tr>\n",
       "    <tr>\n",
       "      <th>...</th>\n",
       "      <td>...</td>\n",
       "      <td>...</td>\n",
       "      <td>...</td>\n",
       "      <td>...</td>\n",
       "    </tr>\n",
       "    <tr>\n",
       "      <th>414996</th>\n",
       "      <td>fcca183903b7</td>\n",
       "      <td>619698</td>\n",
       "      <td>onset</td>\n",
       "      <td>0.143950</td>\n",
       "    </tr>\n",
       "    <tr>\n",
       "      <th>414997</th>\n",
       "      <td>fcca183903b7</td>\n",
       "      <td>619710</td>\n",
       "      <td>onset</td>\n",
       "      <td>0.133418</td>\n",
       "    </tr>\n",
       "    <tr>\n",
       "      <th>414998</th>\n",
       "      <td>fcca183903b7</td>\n",
       "      <td>619722</td>\n",
       "      <td>onset</td>\n",
       "      <td>0.122847</td>\n",
       "    </tr>\n",
       "    <tr>\n",
       "      <th>414999</th>\n",
       "      <td>fcca183903b7</td>\n",
       "      <td>619734</td>\n",
       "      <td>onset</td>\n",
       "      <td>0.111910</td>\n",
       "    </tr>\n",
       "    <tr>\n",
       "      <th>415000</th>\n",
       "      <td>fcca183903b7</td>\n",
       "      <td>619746</td>\n",
       "      <td>onset</td>\n",
       "      <td>0.100996</td>\n",
       "    </tr>\n",
       "  </tbody>\n",
       "</table>\n",
       "<p>415001 rows × 4 columns</p>\n",
       "</div>"
      ],
      "text/plain": [
       "           series_id    step   event     score\n",
       "0       03d92c9f6f8a      30  wakeup  0.119386\n",
       "1       03d92c9f6f8a      42  wakeup  0.123000\n",
       "2       03d92c9f6f8a      54  wakeup  0.123484\n",
       "3       03d92c9f6f8a      66  wakeup  0.120225\n",
       "4       03d92c9f6f8a      78  wakeup  0.115870\n",
       "...              ...     ...     ...       ...\n",
       "414996  fcca183903b7  619698   onset  0.143950\n",
       "414997  fcca183903b7  619710   onset  0.133418\n",
       "414998  fcca183903b7  619722   onset  0.122847\n",
       "414999  fcca183903b7  619734   onset  0.111910\n",
       "415000  fcca183903b7  619746   onset  0.100996\n",
       "\n",
       "[415001 rows x 4 columns]"
      ]
     },
     "execution_count": 14,
     "metadata": {},
     "output_type": "execute_result"
    }
   ],
   "source": [
    "train"
   ]
  },
  {
   "cell_type": "code",
   "execution_count": null,
   "metadata": {},
   "outputs": [],
   "source": []
  },
  {
   "cell_type": "code",
   "execution_count": 15,
   "metadata": {},
   "outputs": [
    {
     "name": "stdout",
     "output_type": "stream",
     "text": [
      "fold: 0\n",
      "score: 0.7408\n"
     ]
    }
   ],
   "source": [
    "sub[\"fold\"] = sub[\"series_id\"].map(cv_split.set_index(\"series_id\")[\"fold\"])\n",
    "sub.loc[sub[\"fold\"].isin([0, 1, 2]), \"fold\"] = 0\n",
    "sub.loc[sub[\"fold\"].isin([3, 4]), \"fold\"] = 1\n",
    "\n",
    "for fold, df in sub.groupby(\"fold\"):\n",
    "    # スコア計算\n",
    "    labels = pd.read_csv(f\"{CFG['dataset']['competition_dir']}/train_events.csv\").dropna()\n",
    "    labels = labels[labels[\"series_id\"].isin(df[\"series_id\"].unique())]\n",
    "    score, ap_table = compute_comptetition_metric(labels, df)\n",
    "\n",
    "    print(f\"fold: {fold}\")\n",
    "    print(f\"score: {score:.4f}\")"
   ]
  },
  {
   "cell_type": "code",
   "execution_count": null,
   "metadata": {},
   "outputs": [],
   "source": []
  },
  {
   "cell_type": "code",
   "execution_count": null,
   "metadata": {},
   "outputs": [],
   "source": []
  }
 ],
 "metadata": {
  "kernelspec": {
   "display_name": "base",
   "language": "python",
   "name": "python3"
  },
  "language_info": {
   "codemirror_mode": {
    "name": "ipython",
    "version": 3
   },
   "file_extension": ".py",
   "mimetype": "text/x-python",
   "name": "python",
   "nbconvert_exporter": "python",
   "pygments_lexer": "ipython3",
   "version": "3.10.10"
  },
  "orig_nbformat": 4
 },
 "nbformat": 4,
 "nbformat_minor": 2
}
