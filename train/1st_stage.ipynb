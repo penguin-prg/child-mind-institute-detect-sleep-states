{
 "cells": [
  {
   "cell_type": "code",
   "execution_count": 1,
   "metadata": {},
   "outputs": [
    {
     "name": "stderr",
     "output_type": "stream",
     "text": [
      "2023-10-01 03:42:42.685456: I tensorflow/core/platform/cpu_feature_guard.cc:193] This TensorFlow binary is optimized with oneAPI Deep Neural Network Library (oneDNN) to use the following CPU instructions in performance-critical operations:  AVX2 AVX_VNNI FMA\n",
      "To enable them in other operations, rebuild TensorFlow with the appropriate compiler flags.\n",
      "2023-10-01 03:42:42.771458: I tensorflow/core/util/port.cc:104] oneDNN custom operations are on. You may see slightly different numerical results due to floating-point round-off errors from different computation orders. To turn them off, set the environment variable `TF_ENABLE_ONEDNN_OPTS=0`.\n",
      "2023-10-01 03:42:43.246552: W tensorflow/compiler/xla/stream_executor/platform/default/dso_loader.cc:64] Could not load dynamic library 'libnvinfer.so.7'; dlerror: libnvinfer.so.7: cannot open shared object file: No such file or directory; LD_LIBRARY_PATH: /usr/local/cuda/lib64:/usr/local/cuda/lib:/usr/local/lib/x86_64-linux-gnu:/usr/local/nvidia/lib:/usr/local/nvidia/lib64:/usr/local/nvidia/lib:/usr/local/nvidia/lib64:/opt/conda/lib\n",
      "2023-10-01 03:42:43.246630: W tensorflow/compiler/xla/stream_executor/platform/default/dso_loader.cc:64] Could not load dynamic library 'libnvinfer_plugin.so.7'; dlerror: libnvinfer_plugin.so.7: cannot open shared object file: No such file or directory; LD_LIBRARY_PATH: /usr/local/cuda/lib64:/usr/local/cuda/lib:/usr/local/lib/x86_64-linux-gnu:/usr/local/nvidia/lib:/usr/local/nvidia/lib64:/usr/local/nvidia/lib:/usr/local/nvidia/lib64:/opt/conda/lib\n",
      "2023-10-01 03:42:43.246635: W tensorflow/compiler/tf2tensorrt/utils/py_utils.cc:38] TF-TRT Warning: Cannot dlopen some TensorRT libraries. If you would like to use Nvidia GPU with TensorRT, please make sure the missing libraries mentioned above are installed properly.\n"
     ]
    },
    {
     "name": "stdout",
     "output_type": "stream",
     "text": [
      "exp_047\n"
     ]
    }
   ],
   "source": [
    "import numpy as np\n",
    "import pandas as pd\n",
    "import yaml\n",
    "import sys\n",
    "import os\n",
    "import pickle\n",
    "from glob import glob\n",
    "from pathlib import Path\n",
    "import pickle\n",
    "import warnings\n",
    "warnings.filterwarnings('ignore')\n",
    "\n",
    "sys.path.append('/kaggle/src')\n",
    "from utils.xgb import fit_xgb\n",
    "from utils.metric import compute_comptetition_metric\n",
    "from utils.postprocess import post_process\n",
    "from utils.set_seed import seed_base\n",
    "from feature_engineering.stage1 import generate_1st_stage_features\n",
    "\n",
    "PACKAGE_DIR = Path(\"/kaggle/src\")\n",
    "CFG = yaml.safe_load(open(PACKAGE_DIR / \"config.yaml\", \"r\"))\n",
    "print(CFG[\"1st_stage\"][\"execution\"][\"exp_id\"])\n",
    "\n",
    "CFG[\"output_dir\"] = f\"/kaggle/output/{CFG['1st_stage']['execution']['exp_id']}\"\n",
    "!rm -r {CFG[\"output_dir\"]}\n",
    "os.makedirs(CFG[\"output_dir\"], exist_ok=True)\n",
    "\n",
    "seed_base(CFG[\"env\"][\"seed\"])"
   ]
  },
  {
   "cell_type": "code",
   "execution_count": 2,
   "metadata": {},
   "outputs": [
    {
     "name": "stderr",
     "output_type": "stream",
     "text": [
      "generate features: 100%|██████████| 277/277 [06:37<00:00,  1.44s/it]\n"
     ]
    },
    {
     "data": {
      "text/html": [
       "<div>\n",
       "<style scoped>\n",
       "    .dataframe tbody tr th:only-of-type {\n",
       "        vertical-align: middle;\n",
       "    }\n",
       "\n",
       "    .dataframe tbody tr th {\n",
       "        vertical-align: top;\n",
       "    }\n",
       "\n",
       "    .dataframe thead th {\n",
       "        text-align: right;\n",
       "    }\n",
       "</style>\n",
       "<table border=\"1\" class=\"dataframe\">\n",
       "  <thead>\n",
       "    <tr style=\"text-align: right;\">\n",
       "      <th></th>\n",
       "      <th>anglez_diff_abs</th>\n",
       "      <th>anglez_diff_abs_rolling_max_10</th>\n",
       "      <th>anglez_diff_abs_rolling_max_100</th>\n",
       "      <th>anglez_diff_abs_rolling_max_1000</th>\n",
       "      <th>anglez_diff_abs_rolling_max_50</th>\n",
       "      <th>anglez_diff_abs_rolling_mean_10</th>\n",
       "      <th>anglez_diff_abs_rolling_mean_100</th>\n",
       "      <th>anglez_diff_abs_rolling_mean_1000</th>\n",
       "      <th>anglez_diff_abs_rolling_mean_50</th>\n",
       "      <th>anglez_diff_abs_rolling_median_10</th>\n",
       "      <th>...</th>\n",
       "      <th>enmo_rolling_square_mean_50</th>\n",
       "      <th>enmo_rolling_std_10</th>\n",
       "      <th>enmo_rolling_std_100</th>\n",
       "      <th>enmo_rolling_std_1000</th>\n",
       "      <th>enmo_rolling_std_50</th>\n",
       "      <th>total_seconds</th>\n",
       "      <th>target</th>\n",
       "      <th>step</th>\n",
       "      <th>series_id</th>\n",
       "      <th>fold</th>\n",
       "    </tr>\n",
       "  </thead>\n",
       "  <tbody>\n",
       "    <tr>\n",
       "      <th>0</th>\n",
       "      <td>0.006461</td>\n",
       "      <td>0.043200</td>\n",
       "      <td>NaN</td>\n",
       "      <td>NaN</td>\n",
       "      <td>NaN</td>\n",
       "      <td>0.007771</td>\n",
       "      <td>NaN</td>\n",
       "      <td>NaN</td>\n",
       "      <td>NaN</td>\n",
       "      <td>0.000428</td>\n",
       "      <td>...</td>\n",
       "      <td>NaN</td>\n",
       "      <td>0.000000</td>\n",
       "      <td>NaN</td>\n",
       "      <td>NaN</td>\n",
       "      <td>NaN</td>\n",
       "      <td>40557.5</td>\n",
       "      <td>1</td>\n",
       "      <td>11.5</td>\n",
       "      <td>af91d9a50547</td>\n",
       "      <td>3</td>\n",
       "    </tr>\n",
       "    <tr>\n",
       "      <th>1</th>\n",
       "      <td>0.000117</td>\n",
       "      <td>0.000833</td>\n",
       "      <td>NaN</td>\n",
       "      <td>NaN</td>\n",
       "      <td>0.047400</td>\n",
       "      <td>0.000192</td>\n",
       "      <td>NaN</td>\n",
       "      <td>NaN</td>\n",
       "      <td>0.002144</td>\n",
       "      <td>0.000004</td>\n",
       "      <td>...</td>\n",
       "      <td>0.000000</td>\n",
       "      <td>0.000000</td>\n",
       "      <td>NaN</td>\n",
       "      <td>NaN</td>\n",
       "      <td>0.000000</td>\n",
       "      <td>40677.5</td>\n",
       "      <td>1</td>\n",
       "      <td>35.5</td>\n",
       "      <td>af91d9a50547</td>\n",
       "      <td>3</td>\n",
       "    </tr>\n",
       "    <tr>\n",
       "      <th>2</th>\n",
       "      <td>0.000767</td>\n",
       "      <td>0.005475</td>\n",
       "      <td>0.5969</td>\n",
       "      <td>NaN</td>\n",
       "      <td>0.457854</td>\n",
       "      <td>0.001198</td>\n",
       "      <td>0.022684</td>\n",
       "      <td>NaN</td>\n",
       "      <td>0.024919</td>\n",
       "      <td>0.000319</td>\n",
       "      <td>...</td>\n",
       "      <td>0.000003</td>\n",
       "      <td>0.000000</td>\n",
       "      <td>0.00146</td>\n",
       "      <td>NaN</td>\n",
       "      <td>0.001634</td>\n",
       "      <td>40797.5</td>\n",
       "      <td>1</td>\n",
       "      <td>59.5</td>\n",
       "      <td>af91d9a50547</td>\n",
       "      <td>3</td>\n",
       "    </tr>\n",
       "    <tr>\n",
       "      <th>3</th>\n",
       "      <td>0.083833</td>\n",
       "      <td>0.347392</td>\n",
       "      <td>0.5969</td>\n",
       "      <td>NaN</td>\n",
       "      <td>0.596900</td>\n",
       "      <td>0.083032</td>\n",
       "      <td>0.025412</td>\n",
       "      <td>NaN</td>\n",
       "      <td>0.042692</td>\n",
       "      <td>0.036481</td>\n",
       "      <td>...</td>\n",
       "      <td>0.000004</td>\n",
       "      <td>0.001924</td>\n",
       "      <td>0.00146</td>\n",
       "      <td>NaN</td>\n",
       "      <td>0.002064</td>\n",
       "      <td>40917.5</td>\n",
       "      <td>1</td>\n",
       "      <td>83.5</td>\n",
       "      <td>af91d9a50547</td>\n",
       "      <td>3</td>\n",
       "    </tr>\n",
       "    <tr>\n",
       "      <th>4</th>\n",
       "      <td>0.014787</td>\n",
       "      <td>0.048846</td>\n",
       "      <td>0.5969</td>\n",
       "      <td>NaN</td>\n",
       "      <td>0.309038</td>\n",
       "      <td>0.012615</td>\n",
       "      <td>0.028460</td>\n",
       "      <td>NaN</td>\n",
       "      <td>0.028898</td>\n",
       "      <td>0.001910</td>\n",
       "      <td>...</td>\n",
       "      <td>0.000001</td>\n",
       "      <td>0.000000</td>\n",
       "      <td>0.00146</td>\n",
       "      <td>NaN</td>\n",
       "      <td>0.000604</td>\n",
       "      <td>41037.5</td>\n",
       "      <td>1</td>\n",
       "      <td>107.5</td>\n",
       "      <td>af91d9a50547</td>\n",
       "      <td>3</td>\n",
       "    </tr>\n",
       "  </tbody>\n",
       "</table>\n",
       "<p>5 rows × 203 columns</p>\n",
       "</div>"
      ],
      "text/plain": [
       "   anglez_diff_abs  anglez_diff_abs_rolling_max_10  \\\n",
       "0         0.006461                        0.043200   \n",
       "1         0.000117                        0.000833   \n",
       "2         0.000767                        0.005475   \n",
       "3         0.083833                        0.347392   \n",
       "4         0.014787                        0.048846   \n",
       "\n",
       "   anglez_diff_abs_rolling_max_100  anglez_diff_abs_rolling_max_1000  \\\n",
       "0                              NaN                               NaN   \n",
       "1                              NaN                               NaN   \n",
       "2                           0.5969                               NaN   \n",
       "3                           0.5969                               NaN   \n",
       "4                           0.5969                               NaN   \n",
       "\n",
       "   anglez_diff_abs_rolling_max_50  anglez_diff_abs_rolling_mean_10  \\\n",
       "0                             NaN                         0.007771   \n",
       "1                        0.047400                         0.000192   \n",
       "2                        0.457854                         0.001198   \n",
       "3                        0.596900                         0.083032   \n",
       "4                        0.309038                         0.012615   \n",
       "\n",
       "   anglez_diff_abs_rolling_mean_100  anglez_diff_abs_rolling_mean_1000  \\\n",
       "0                               NaN                                NaN   \n",
       "1                               NaN                                NaN   \n",
       "2                          0.022684                                NaN   \n",
       "3                          0.025412                                NaN   \n",
       "4                          0.028460                                NaN   \n",
       "\n",
       "   anglez_diff_abs_rolling_mean_50  anglez_diff_abs_rolling_median_10  ...  \\\n",
       "0                              NaN                           0.000428  ...   \n",
       "1                         0.002144                           0.000004  ...   \n",
       "2                         0.024919                           0.000319  ...   \n",
       "3                         0.042692                           0.036481  ...   \n",
       "4                         0.028898                           0.001910  ...   \n",
       "\n",
       "   enmo_rolling_square_mean_50  enmo_rolling_std_10  enmo_rolling_std_100  \\\n",
       "0                          NaN             0.000000                   NaN   \n",
       "1                     0.000000             0.000000                   NaN   \n",
       "2                     0.000003             0.000000               0.00146   \n",
       "3                     0.000004             0.001924               0.00146   \n",
       "4                     0.000001             0.000000               0.00146   \n",
       "\n",
       "   enmo_rolling_std_1000  enmo_rolling_std_50  total_seconds  target   step  \\\n",
       "0                    NaN                  NaN        40557.5       1   11.5   \n",
       "1                    NaN             0.000000        40677.5       1   35.5   \n",
       "2                    NaN             0.001634        40797.5       1   59.5   \n",
       "3                    NaN             0.002064        40917.5       1   83.5   \n",
       "4                    NaN             0.000604        41037.5       1  107.5   \n",
       "\n",
       "      series_id  fold  \n",
       "0  af91d9a50547     3  \n",
       "1  af91d9a50547     3  \n",
       "2  af91d9a50547     3  \n",
       "3  af91d9a50547     3  \n",
       "4  af91d9a50547     3  \n",
       "\n",
       "[5 rows x 203 columns]"
      ]
     },
     "metadata": {},
     "output_type": "display_data"
    },
    {
     "name": "stdout",
     "output_type": "stream",
     "text": [
      "(5331163, 203)\n"
     ]
    }
   ],
   "source": [
    "# 特徴生成\n",
    "files = glob(f\"{CFG['dataset']['step_csv_dir']}/*.csv\")\n",
    "train, features = generate_1st_stage_features(files)\n",
    "\n",
    "# cv splitとマージ\n",
    "cv_split = pd.read_csv(CFG['dataset']['cv_split_path'])\n",
    "train[\"fold\"] = train[\"series_id\"].map(cv_split.set_index(\"series_id\")[\"fold\"])\n",
    "display(train.head(5))\n",
    "print(train.shape)"
   ]
  },
  {
   "cell_type": "code",
   "execution_count": 3,
   "metadata": {},
   "outputs": [
    {
     "name": "stderr",
     "output_type": "stream",
     "text": [
      "\u001b[32m[I 2023-10-01 03:49:44,180]\u001b[0m A new study created in memory with name: no-name-b05d9f88-5b17-4372-857d-a93ad01711a0\u001b[0m\n",
      "\u001b[32m[I 2023-10-01 03:52:15,181]\u001b[0m Trial 0 finished with value: 0.09244305608856712 and parameters: {'max_depth': 5, 'colsample_bytree': 0.7, 'reg_alpha': 0.02, 'reg_lambda': 0.2}. Best is trial 0 with value: 0.09244305608856712.\u001b[0m\n",
      "\u001b[32m[I 2023-10-01 03:55:31,148]\u001b[0m Trial 1 finished with value: 0.09218542563732607 and parameters: {'max_depth': 4, 'colsample_bytree': 0.277057055539128, 'reg_alpha': 126.23934691423631, 'reg_lambda': 0.7442677006551333}. Best is trial 1 with value: 0.09218542563732607.\u001b[0m\n",
      "\u001b[32m[I 2023-10-01 03:58:31,149]\u001b[0m Trial 2 finished with value: 0.09234247607843528 and parameters: {'max_depth': 4, 'colsample_bytree': 0.39569896851093117, 'reg_alpha': 1.416051623766434, 'reg_lambda': 6.735194491802836}. Best is trial 1 with value: 0.09218542563732607.\u001b[0m\n",
      "\u001b[32m[I 2023-10-01 04:01:11,088]\u001b[0m Trial 3 finished with value: 0.09241811207238858 and parameters: {'max_depth': 5, 'colsample_bytree': 0.5963410860860361, 'reg_alpha': 0.047715445298292386, 'reg_lambda': 0.005823885558100911}. Best is trial 1 with value: 0.09218542563732607.\u001b[0m\n",
      "\u001b[32m[I 2023-10-01 04:04:54,569]\u001b[0m Trial 4 finished with value: 0.09228957165179696 and parameters: {'max_depth': 4, 'colsample_bytree': 0.3818060511589836, 'reg_alpha': 34.08915964059179, 'reg_lambda': 581.3608874178009}. Best is trial 1 with value: 0.09218542563732607.\u001b[0m\n",
      "\u001b[32m[I 2023-10-01 04:07:39,484]\u001b[0m Trial 5 finished with value: 0.09233576079566864 and parameters: {'max_depth': 5, 'colsample_bytree': 0.31468430638291306, 'reg_alpha': 0.018080601775623886, 'reg_lambda': 2.7457790988846713}. Best is trial 1 with value: 0.09218542563732607.\u001b[0m\n",
      "\u001b[32m[I 2023-10-01 04:09:53,191]\u001b[0m Trial 6 finished with value: 0.09289765682699981 and parameters: {'max_depth': 7, 'colsample_bytree': 0.6880276881900411, 'reg_alpha': 0.0018039078568271392, 'reg_lambda': 1.903139840565239}. Best is trial 1 with value: 0.09218542563732607.\u001b[0m\n",
      "\u001b[32m[I 2023-10-01 04:13:01,648]\u001b[0m Trial 7 finished with value: 0.09203143201018574 and parameters: {'max_depth': 4, 'colsample_bytree': 0.7516305059875454, 'reg_alpha': 0.008334749333720975, 'reg_lambda': 460.8740782543693}. Best is trial 7 with value: 0.09203143201018574.\u001b[0m\n",
      "\u001b[32m[I 2023-10-01 04:15:27,248]\u001b[0m Trial 8 finished with value: 0.09292868870111749 and parameters: {'max_depth': 9, 'colsample_bytree': 0.6801990976515079, 'reg_alpha': 11.740509450301426, 'reg_lambda': 33.61227124992335}. Best is trial 7 with value: 0.09203143201018574.\u001b[0m\n",
      "\u001b[32m[I 2023-10-01 04:18:40,779]\u001b[0m Trial 9 finished with value: 0.0927868615702733 and parameters: {'max_depth': 3, 'colsample_bytree': 0.2663085649420873, 'reg_alpha': 11.30006101792078, 'reg_lambda': 0.07115787802893492}. Best is trial 7 with value: 0.09203143201018574.\u001b[0m\n",
      "\u001b[32m[I 2023-10-01 04:21:59,787]\u001b[0m Trial 10 finished with value: 0.09198127056666269 and parameters: {'max_depth': 7, 'colsample_bytree': 0.7829621110300026, 'reg_alpha': 823.3819790096533, 'reg_lambda': 711.8143113479924}. Best is trial 10 with value: 0.09198127056666269.\u001b[0m\n",
      "\u001b[32m[I 2023-10-01 04:25:19,689]\u001b[0m Trial 11 finished with value: 0.09202941095034518 and parameters: {'max_depth': 8, 'colsample_bytree': 0.7900244421283028, 'reg_alpha': 578.537744043134, 'reg_lambda': 727.7411190084097}. Best is trial 10 with value: 0.09198127056666269.\u001b[0m\n",
      "\u001b[32m[I 2023-10-01 04:28:14,944]\u001b[0m Trial 12 finished with value: 0.09195202282992142 and parameters: {'max_depth': 8, 'colsample_bytree': 0.772358526973157, 'reg_alpha': 908.2327399457687, 'reg_lambda': 92.34695731256235}. Best is trial 12 with value: 0.09195202282992142.\u001b[0m\n",
      "\u001b[32m[I 2023-10-01 04:31:02,280]\u001b[0m Trial 13 finished with value: 0.09208060047063248 and parameters: {'max_depth': 10, 'colsample_bytree': 0.799854638015808, 'reg_alpha': 972.2117282774801, 'reg_lambda': 59.02605973451012}. Best is trial 12 with value: 0.09195202282992142.\u001b[0m\n",
      "\u001b[32m[I 2023-10-01 04:33:36,804]\u001b[0m Trial 14 finished with value: 0.09177761865483673 and parameters: {'max_depth': 7, 'colsample_bytree': 0.5285471105996072, 'reg_alpha': 143.645925537696, 'reg_lambda': 82.32158239714461}. Best is trial 14 with value: 0.09177761865483673.\u001b[0m\n",
      "\u001b[32m[I 2023-10-01 04:36:09,673]\u001b[0m Trial 15 finished with value: 0.09200577095104623 and parameters: {'max_depth': 8, 'colsample_bytree': 0.5737498231944893, 'reg_alpha': 110.1300716433179, 'reg_lambda': 37.022848896261436}. Best is trial 14 with value: 0.09177761865483673.\u001b[0m\n",
      "\u001b[32m[I 2023-10-01 04:38:56,780]\u001b[0m Trial 16 finished with value: 0.09200904705415693 and parameters: {'max_depth': 6, 'colsample_bytree': 0.47201621778104896, 'reg_alpha': 174.94320040465112, 'reg_lambda': 108.50113958086095}. Best is trial 14 with value: 0.09177761865483673.\u001b[0m\n",
      "\u001b[32m[I 2023-10-01 04:41:17,116]\u001b[0m Trial 17 finished with value: 0.09378522958816286 and parameters: {'max_depth': 9, 'colsample_bytree': 0.5829710451028189, 'reg_alpha': 3.469508790293643, 'reg_lambda': 8.179687841610924}. Best is trial 14 with value: 0.09177761865483673.\u001b[0m\n",
      "\u001b[32m[I 2023-10-01 04:43:42,872]\u001b[0m Trial 18 finished with value: 0.09194830521730221 and parameters: {'max_depth': 8, 'colsample_bytree': 0.47071790350625187, 'reg_alpha': 30.61363784063159, 'reg_lambda': 144.90469462721825}. Best is trial 14 with value: 0.09177761865483673.\u001b[0m\n",
      "\u001b[32m[I 2023-10-01 04:46:24,589]\u001b[0m Trial 19 finished with value: 0.09197544035879295 and parameters: {'max_depth': 6, 'colsample_bytree': 0.20586257516293294, 'reg_alpha': 29.83361785012587, 'reg_lambda': 12.521053972494844}. Best is trial 14 with value: 0.09177761865483673.\u001b[0m\n",
      "\u001b[32m[I 2023-10-01 04:49:01,722]\u001b[0m Trial 20 finished with value: 0.0924201763633764 and parameters: {'max_depth': 10, 'colsample_bytree': 0.4891259895817676, 'reg_alpha': 0.2724633507172822, 'reg_lambda': 213.91495396985826}. Best is trial 14 with value: 0.09177761865483673.\u001b[0m\n",
      "\u001b[32m[I 2023-10-01 04:51:54,755]\u001b[0m Trial 21 finished with value: 0.09171831852784688 and parameters: {'max_depth': 8, 'colsample_bytree': 0.5359511089596323, 'reg_alpha': 324.24387196907566, 'reg_lambda': 127.71367358316711}. Best is trial 21 with value: 0.09171831852784688.\u001b[0m\n",
      "\u001b[32m[I 2023-10-01 04:54:27,589]\u001b[0m Trial 22 finished with value: 0.09176777213889391 and parameters: {'max_depth': 7, 'colsample_bytree': 0.5323134072360429, 'reg_alpha': 176.0869910323018, 'reg_lambda': 174.59951766606838}. Best is trial 21 with value: 0.09171831852784688.\u001b[0m\n",
      "\u001b[32m[I 2023-10-01 04:57:21,613]\u001b[0m Trial 23 finished with value: 0.09193522531290055 and parameters: {'max_depth': 7, 'colsample_bytree': 0.5363025189056437, 'reg_alpha': 240.4506586865342, 'reg_lambda': 27.94881764055933}. Best is trial 21 with value: 0.09171831852784688.\u001b[0m\n",
      "\u001b[32m[I 2023-10-01 05:00:11,056]\u001b[0m Trial 24 finished with value: 0.09190076710678308 and parameters: {'max_depth': 9, 'colsample_bytree': 0.5333514557062783, 'reg_alpha': 234.8369922632848, 'reg_lambda': 221.59439764415012}. Best is trial 21 with value: 0.09171831852784688.\u001b[0m\n",
      "\u001b[32m[I 2023-10-01 05:03:04,235]\u001b[0m Trial 25 finished with value: 0.09181846517078845 and parameters: {'max_depth': 6, 'colsample_bytree': 0.4428291435351304, 'reg_alpha': 68.13195693505469, 'reg_lambda': 18.850161628929463}. Best is trial 21 with value: 0.09171831852784688.\u001b[0m\n",
      "\u001b[32m[I 2023-10-01 05:06:07,826]\u001b[0m Trial 26 finished with value: 0.09201279820376906 and parameters: {'max_depth': 7, 'colsample_bytree': 0.6270162609427243, 'reg_alpha': 332.87387229153205, 'reg_lambda': 70.48444033963659}. Best is trial 21 with value: 0.09171831852784688.\u001b[0m\n",
      "\u001b[32m[I 2023-10-01 05:09:04,422]\u001b[0m Trial 27 finished with value: 0.09177866289021416 and parameters: {'max_depth': 8, 'colsample_bytree': 0.5155654161959005, 'reg_alpha': 51.72897076857466, 'reg_lambda': 259.7572559990669}. Best is trial 21 with value: 0.09171831852784688.\u001b[0m\n",
      "\u001b[32m[I 2023-10-01 05:12:38,329]\u001b[0m Trial 28 finished with value: 0.0918703451600403 and parameters: {'max_depth': 6, 'colsample_bytree': 0.5428214690491003, 'reg_alpha': 245.36365673405336, 'reg_lambda': 820.4215481324466}. Best is trial 21 with value: 0.09171831852784688.\u001b[0m\n",
      "\u001b[32m[I 2023-10-01 05:15:17,273]\u001b[0m Trial 29 finished with value: 0.09255279570808066 and parameters: {'max_depth': 9, 'colsample_bytree': 0.6337597419193817, 'reg_alpha': 12.267180872513785, 'reg_lambda': 70.78715717984673}. Best is trial 21 with value: 0.09171831852784688.\u001b[0m\n",
      "\u001b[32m[I 2023-10-01 05:17:56,491]\u001b[0m Trial 30 finished with value: 0.09177208951492434 and parameters: {'max_depth': 7, 'colsample_bytree': 0.43268051606200897, 'reg_alpha': 83.3319619215495, 'reg_lambda': 228.0048918428466}. Best is trial 21 with value: 0.09171831852784688.\u001b[0m\n",
      "\u001b[32m[I 2023-10-01 05:20:37,885]\u001b[0m Trial 31 finished with value: 0.09190641900771535 and parameters: {'max_depth': 7, 'colsample_bytree': 0.44822021515425897, 'reg_alpha': 88.43690331591577, 'reg_lambda': 233.40987897819153}. Best is trial 21 with value: 0.09171831852784688.\u001b[0m\n",
      "\u001b[32m[I 2023-10-01 05:23:50,675]\u001b[0m Trial 32 finished with value: 0.09188217998822018 and parameters: {'max_depth': 7, 'colsample_bytree': 0.5082110202726483, 'reg_alpha': 402.2460868790066, 'reg_lambda': 312.1685752130863}. Best is trial 21 with value: 0.09171831852784688.\u001b[0m\n",
      "\u001b[32m[I 2023-10-01 05:26:28,731]\u001b[0m Trial 33 finished with value: 0.09200926965822268 and parameters: {'max_depth': 8, 'colsample_bytree': 0.41769124696426907, 'reg_alpha': 129.02118128584692, 'reg_lambda': 17.85217055508929}. Best is trial 21 with value: 0.09171831852784688.\u001b[0m\n",
      "\u001b[32m[I 2023-10-01 05:29:46,353]\u001b[0m Trial 34 finished with value: 0.09188423875800754 and parameters: {'max_depth': 6, 'colsample_bytree': 0.5643819988315346, 'reg_alpha': 359.7777783834398, 'reg_lambda': 136.02328062397348}. Best is trial 21 with value: 0.09171831852784688.\u001b[0m\n",
      "\u001b[32m[I 2023-10-01 05:32:26,779]\u001b[0m Trial 35 finished with value: 0.09164721812596648 and parameters: {'max_depth': 5, 'colsample_bytree': 0.5114898188075785, 'reg_alpha': 89.72945045237135, 'reg_lambda': 5.947071392227853}. Best is trial 35 with value: 0.09164721812596648.\u001b[0m\n",
      "\u001b[32m[I 2023-10-01 05:35:11,501]\u001b[0m Trial 36 finished with value: 0.09186969306104398 and parameters: {'max_depth': 5, 'colsample_bytree': 0.375105050808494, 'reg_alpha': 58.07270713457186, 'reg_lambda': 6.506627802284888}. Best is trial 35 with value: 0.09164721812596648.\u001b[0m\n"
     ]
    },
    {
     "ename": "",
     "evalue": "",
     "output_type": "error",
     "traceback": [
      "\u001b[1;31mThe Kernel crashed while executing code in the the current cell or a previous cell. Please review the code in the cell(s) to identify a possible cause of the failure. Click <a href='https://aka.ms/vscodeJupyterKernelCrash'>here</a> for more info. View Jupyter <a href='command:jupyter.viewOutput'>log</a> for further details."
     ]
    }
   ],
   "source": [
    "# tuning\n",
    "import optuna\n",
    "from sklearn.metrics import log_loss\n",
    "\n",
    "def objective(trial):\n",
    "    CFG[\"1st_stage\"][\"xgboost\"][\"learning_rate\"] = 0.1\n",
    "    CFG[\"1st_stage\"][\"xgboost\"][\"max_depth\"] = trial.suggest_int('max_depth', 3, 10)\n",
    "    CFG[\"1st_stage\"][\"xgboost\"][\"colsample_bytree\"] = trial.suggest_uniform('colsample_bytree', 0.2, 0.8)\n",
    "    CFG[\"1st_stage\"][\"xgboost\"][\"reg_alpha\"] = trial.suggest_loguniform('reg_alpha', 1e-3, 1e3)\n",
    "    CFG[\"1st_stage\"][\"xgboost\"][\"reg_lambda\"] = trial.suggest_loguniform('reg_lambda', 1e-3, 1e3)\n",
    "\n",
    "    trn_oof, models = fit_xgb(\n",
    "        X=train, \n",
    "        y=train[\"target\"], \n",
    "        folds=train[\"fold\"].astype(int), \n",
    "        features=features.all_features(),\n",
    "        params=CFG[\"1st_stage\"][\"xgboost\"], \n",
    "        es_rounds=100,\n",
    "        verbose=False,\n",
    "        log=False,\n",
    "    )\n",
    "    train[\"oof\"] = trn_oof\n",
    "    score = log_loss(train['target'], train[\"oof\"])\n",
    "    return score\n",
    "\n",
    "# 最適化\n",
    "study = optuna.create_study(direction='minimize')\n",
    "study.enqueue_trial({\n",
    "    'max_depth': 5,\n",
    "    'colsample_bytree': 0.7,\n",
    "    'reg_alpha': 0.02,\n",
    "    'reg_lambda': 0.2,\n",
    "})\n",
    "study.optimize(objective, n_trials=100)\n",
    "\n",
    "# 結果\n",
    "print(f'best_params: {study.best_params}')\n",
    "print(f'best_value: {study.best_value}')\n",
    "display(study.trials_dataframe().sort_values(\n",
    "    \"value\", ascending=False).head(10))\n",
    "study.trials_dataframe().to_csv(os.path.join(CFG[\"output_dir\"], \"xgb_optuna_result.csv\"), index=False)\n",
    "\n",
    "# 割り当て\n",
    "CFG[\"1st_stage\"][\"xgboost\"][\"learning_rate\"] = 0.01\n",
    "CFG[\"1st_stage\"][\"xgboost\"][\"max_depth\"] = study.best_params[\"max_depth\"]\n",
    "CFG[\"1st_stage\"][\"xgboost\"][\"colsample_bytree\"] = study.best_params[\"colsample_bytree\"]\n",
    "CFG[\"1st_stage\"][\"xgboost\"][\"reg_alpha\"] = study.best_params[\"reg_alpha\"]\n",
    "CFG[\"1st_stage\"][\"xgboost\"][\"reg_lambda\"] = study.best_params[\"reg_lambda\"]"
   ]
  },
  {
   "cell_type": "code",
   "execution_count": null,
   "metadata": {},
   "outputs": [
    {
     "name": "stderr",
     "output_type": "stream",
     "text": [
      "  0%|          | 0/5 [00:00<?, ?it/s]"
     ]
    },
    {
     "name": "stdout",
     "output_type": "stream",
     "text": [
      "== fold 0 ==\n",
      "[0]\teval-logloss:0.61107\n",
      "[100]\teval-logloss:0.09862\n",
      "[197]\teval-logloss:0.09901\n"
     ]
    },
    {
     "name": "stderr",
     "output_type": "stream",
     "text": [
      " 20%|██        | 1/5 [00:32<02:10, 32.60s/it]"
     ]
    },
    {
     "name": "stdout",
     "output_type": "stream",
     "text": [
      "== fold 1 ==\n",
      "[0]\teval-logloss:0.61144\n",
      "[100]\teval-logloss:0.08143\n",
      "[200]\teval-logloss:0.08167\n",
      "[231]\teval-logloss:0.08174\n"
     ]
    },
    {
     "name": "stderr",
     "output_type": "stream",
     "text": [
      " 40%|████      | 2/5 [01:02<01:33, 31.03s/it]"
     ]
    },
    {
     "name": "stdout",
     "output_type": "stream",
     "text": [
      "== fold 2 ==\n",
      "[0]\teval-logloss:0.61098\n",
      "[100]\teval-logloss:0.08480\n",
      "[200]\teval-logloss:0.08403\n",
      "[300]\teval-logloss:0.08427\n",
      "[320]\teval-logloss:0.08447\n"
     ]
    },
    {
     "name": "stderr",
     "output_type": "stream",
     "text": [
      " 60%|██████    | 3/5 [01:36<01:04, 32.18s/it]"
     ]
    },
    {
     "name": "stdout",
     "output_type": "stream",
     "text": [
      "== fold 3 ==\n",
      "[0]\teval-logloss:0.61126\n",
      "[100]\teval-logloss:0.09344\n",
      "[200]\teval-logloss:0.09207\n",
      "[276]\teval-logloss:0.09270\n"
     ]
    },
    {
     "name": "stderr",
     "output_type": "stream",
     "text": [
      " 80%|████████  | 4/5 [02:07<00:31, 31.74s/it]"
     ]
    },
    {
     "name": "stdout",
     "output_type": "stream",
     "text": [
      "== fold 4 ==\n",
      "[0]\teval-logloss:0.61197\n",
      "[100]\teval-logloss:0.10467\n",
      "[200]\teval-logloss:0.10409\n",
      "[284]\teval-logloss:0.10402\n"
     ]
    },
    {
     "name": "stderr",
     "output_type": "stream",
     "text": [
      "100%|██████████| 5/5 [02:37<00:00, 31.48s/it]\n"
     ]
    }
   ],
   "source": [
    "# 学習\n",
    "trn_oof, models = fit_xgb(\n",
    "    X=train, \n",
    "    y=train[\"target\"], \n",
    "    folds=train[\"fold\"].astype(int), \n",
    "    features=features.all_features(),\n",
    "    params=CFG[\"1st_stage\"][\"xgboost\"], \n",
    "    es_rounds=100,\n",
    ")\n",
    "train[\"oof\"] = trn_oof\n",
    "train = train.drop(columns=features.all_features())\n",
    "train = train.sort_values([\"series_id\", \"step\"]).reset_index(drop=True)\n",
    "\n",
    "# 保存\n",
    "for i, model in enumerate(models):\n",
    "    model.save_model(os.path.join(CFG[\"output_dir\"], f'xgb_fold{i}.model'))\n",
    "with open(os.path.join(CFG[\"output_dir\"], \"features.pkl\"), \"wb\") as f:\n",
    "    pickle.dump(features, f)\n",
    "train.to_csv(os.path.join(CFG[\"output_dir\"], \"oof.csv\"), index=False)"
   ]
  },
  {
   "cell_type": "code",
   "execution_count": null,
   "metadata": {},
   "outputs": [
    {
     "name": "stderr",
     "output_type": "stream",
     "text": [
      "post process: 100%|██████████| 277/277 [00:46<00:00,  5.98it/s]\n"
     ]
    },
    {
     "name": "stdout",
     "output_type": "stream",
     "text": [
      "score: 0.5143\n"
     ]
    },
    {
     "data": {
      "text/plain": [
       "event   tolerance\n",
       "onset   12           0.007410\n",
       "        36           0.063323\n",
       "        60           0.180587\n",
       "        90           0.356458\n",
       "        120          0.539562\n",
       "        150          0.616559\n",
       "        180          0.676332\n",
       "        240          0.729481\n",
       "        300          0.763573\n",
       "        360          0.778655\n",
       "wakeup  12           0.025611\n",
       "        36           0.183351\n",
       "        60           0.365586\n",
       "        90           0.530580\n",
       "        120          0.618199\n",
       "        150          0.685890\n",
       "        180          0.730202\n",
       "        240          0.787793\n",
       "        300          0.813421\n",
       "        360          0.832656\n",
       "dtype: float64"
      ]
     },
     "metadata": {},
     "output_type": "display_data"
    }
   ],
   "source": [
    "# 後処理\n",
    "sub = post_process(train)\n",
    "sub.to_csv(os.path.join(CFG[\"output_dir\"], \"submission.csv\"), index=False)\n",
    "\n",
    "# スコア計算\n",
    "labels = pd.read_csv(f\"{CFG['dataset']['competition_dir']}/train_events.csv\").dropna()\n",
    "score, ap_table = compute_comptetition_metric(labels, sub)\n",
    "print(f\"score: {score:.4f}\")\n",
    "display(ap_table)"
   ]
  },
  {
   "cell_type": "code",
   "execution_count": null,
   "metadata": {},
   "outputs": [
    {
     "name": "stdout",
     "output_type": "stream",
     "text": [
      "recall: 0.9729\n",
      "next_cand_size: 21062664.0\n"
     ]
    }
   ],
   "source": [
    "# 次の候補を決定\n",
    "next_cand_size = 0\n",
    "count = 0\n",
    "next_dict = {}\n",
    "for series_id, train_df in train.groupby(\"series_id\"):\n",
    "    train_df = train_df[(train_df[\"oof\"] >= 0.1) & (train_df[\"oof\"] <= 0.9)]\n",
    "    sub_df = sub[(sub[\"series_id\"] == series_id)]\n",
    "    label_df = labels[labels[\"series_id\"] == series_id]\n",
    "    pred_steps = train_df[\"step\"].values\n",
    "    sub_steps = sub_df[\"step\"].values\n",
    "    label_steps = label_df[\"step\"].values\n",
    "\n",
    "    if len(train_df) == 0:\n",
    "        continue\n",
    "    next_cand = np.zeros(int(max(max(pred_steps if len(pred_steps) > 0 else [0]), max(sub_steps if len(sub_steps) > 0 else [0]))) + CFG[\"feature\"][\"agg_freq\"])\n",
    "    for sub_step in sub_steps:\n",
    "        next_cand[int(sub_step - CFG[\"feature\"][\"agg_freq\"] * 10): int(sub_step + CFG[\"feature\"][\"agg_freq\"] * 10)] = 1\n",
    "    for pred_step in pred_steps:\n",
    "        next_cand[int(pred_step - CFG[\"feature\"][\"agg_freq\"] * 10): int(pred_step + CFG[\"feature\"][\"agg_freq\"] * 10)] = 1\n",
    "    next_cand_size += np.sum(next_cand)\n",
    "    next_dict[series_id] = np.where(next_cand)[0]\n",
    "\n",
    "    for label_step in label_steps:\n",
    "        if label_step < next_cand.shape[0]:\n",
    "            count += next_cand[int(label_step)]\n",
    "    \n",
    "recall = count / len(labels)\n",
    "print(f\"recall: {recall:.4f}\")\n",
    "print(f\"next_cand_size: {next_cand_size}\")\n",
    "\n",
    "with open(f\"{CFG['output_dir']}/next_cands.pkl\", \"wb\") as f:\n",
    "    pickle.dump(next_dict, f)"
   ]
  },
  {
   "cell_type": "code",
   "execution_count": null,
   "metadata": {},
   "outputs": [],
   "source": []
  }
 ],
 "metadata": {
  "kernelspec": {
   "display_name": "base",
   "language": "python",
   "name": "python3"
  },
  "language_info": {
   "codemirror_mode": {
    "name": "ipython",
    "version": 3
   },
   "file_extension": ".py",
   "mimetype": "text/x-python",
   "name": "python",
   "nbconvert_exporter": "python",
   "pygments_lexer": "ipython3",
   "version": "3.10.10"
  },
  "orig_nbformat": 4
 },
 "nbformat": 4,
 "nbformat_minor": 2
}
