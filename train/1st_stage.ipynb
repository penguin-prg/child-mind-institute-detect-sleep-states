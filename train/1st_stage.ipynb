{
 "cells": [
  {
   "cell_type": "code",
   "execution_count": 1,
   "metadata": {},
   "outputs": [
    {
     "name": "stderr",
     "output_type": "stream",
     "text": [
      "2023-09-30 06:05:23.523582: I tensorflow/core/platform/cpu_feature_guard.cc:193] This TensorFlow binary is optimized with oneAPI Deep Neural Network Library (oneDNN) to use the following CPU instructions in performance-critical operations:  AVX2 AVX_VNNI FMA\n",
      "To enable them in other operations, rebuild TensorFlow with the appropriate compiler flags.\n",
      "2023-09-30 06:05:23.921566: I tensorflow/core/util/port.cc:104] oneDNN custom operations are on. You may see slightly different numerical results due to floating-point round-off errors from different computation orders. To turn them off, set the environment variable `TF_ENABLE_ONEDNN_OPTS=0`.\n",
      "2023-09-30 06:05:25.167814: W tensorflow/compiler/xla/stream_executor/platform/default/dso_loader.cc:64] Could not load dynamic library 'libnvinfer.so.7'; dlerror: libnvinfer.so.7: cannot open shared object file: No such file or directory; LD_LIBRARY_PATH: /usr/local/cuda/lib64:/usr/local/cuda/lib:/usr/local/lib/x86_64-linux-gnu:/usr/local/nvidia/lib:/usr/local/nvidia/lib64:/usr/local/nvidia/lib:/usr/local/nvidia/lib64:/opt/conda/lib\n",
      "2023-09-30 06:05:25.168313: W tensorflow/compiler/xla/stream_executor/platform/default/dso_loader.cc:64] Could not load dynamic library 'libnvinfer_plugin.so.7'; dlerror: libnvinfer_plugin.so.7: cannot open shared object file: No such file or directory; LD_LIBRARY_PATH: /usr/local/cuda/lib64:/usr/local/cuda/lib:/usr/local/lib/x86_64-linux-gnu:/usr/local/nvidia/lib:/usr/local/nvidia/lib64:/usr/local/nvidia/lib:/usr/local/nvidia/lib64:/opt/conda/lib\n",
      "2023-09-30 06:05:25.168321: W tensorflow/compiler/tf2tensorrt/utils/py_utils.cc:38] TF-TRT Warning: Cannot dlopen some TensorRT libraries. If you would like to use Nvidia GPU with TensorRT, please make sure the missing libraries mentioned above are installed properly.\n"
     ]
    },
    {
     "name": "stdout",
     "output_type": "stream",
     "text": [
      "exp_043\n"
     ]
    }
   ],
   "source": [
    "import numpy as np\n",
    "import pandas as pd\n",
    "import yaml\n",
    "import sys\n",
    "import os\n",
    "import pickle\n",
    "from glob import glob\n",
    "from pathlib import Path\n",
    "import pickle\n",
    "import warnings\n",
    "warnings.filterwarnings('ignore')\n",
    "\n",
    "sys.path.append('/kaggle/src')\n",
    "from utils.xgb import fit_xgb\n",
    "from utils.metric import compute_comptetition_metric\n",
    "from utils.postprocess import post_process\n",
    "from utils.set_seed import seed_base\n",
    "from feature_engineering.stage1 import generate_1st_stage_features\n",
    "\n",
    "PACKAGE_DIR = Path(\"/kaggle/src\")\n",
    "CFG = yaml.safe_load(open(PACKAGE_DIR / \"config.yaml\", \"r\"))\n",
    "print(CFG[\"1st_stage\"][\"execution\"][\"exp_id\"])\n",
    "\n",
    "CFG[\"output_dir\"] = f\"/kaggle/output/{CFG['1st_stage']['execution']['exp_id']}\"\n",
    "!rm -r {CFG[\"output_dir\"]}\n",
    "os.makedirs(CFG[\"output_dir\"], exist_ok=True)\n",
    "\n",
    "seed_base(CFG[\"env\"][\"seed\"])"
   ]
  },
  {
   "cell_type": "code",
   "execution_count": 2,
   "metadata": {},
   "outputs": [
    {
     "name": "stderr",
     "output_type": "stream",
     "text": [
      "generate features: 100%|██████████| 277/277 [07:13<00:00,  1.56s/it]\n"
     ]
    },
    {
     "data": {
      "text/html": [
       "<div>\n",
       "<style scoped>\n",
       "    .dataframe tbody tr th:only-of-type {\n",
       "        vertical-align: middle;\n",
       "    }\n",
       "\n",
       "    .dataframe tbody tr th {\n",
       "        vertical-align: top;\n",
       "    }\n",
       "\n",
       "    .dataframe thead th {\n",
       "        text-align: right;\n",
       "    }\n",
       "</style>\n",
       "<table border=\"1\" class=\"dataframe\">\n",
       "  <thead>\n",
       "    <tr style=\"text-align: right;\">\n",
       "      <th></th>\n",
       "      <th>anglez_diff_abs</th>\n",
       "      <th>anglez_diff_abs_rolling_max_10</th>\n",
       "      <th>anglez_diff_abs_rolling_max_100</th>\n",
       "      <th>anglez_diff_abs_rolling_max_1000</th>\n",
       "      <th>anglez_diff_abs_rolling_max_50</th>\n",
       "      <th>anglez_diff_abs_rolling_mean_10</th>\n",
       "      <th>anglez_diff_abs_rolling_mean_100</th>\n",
       "      <th>anglez_diff_abs_rolling_mean_1000</th>\n",
       "      <th>anglez_diff_abs_rolling_mean_50</th>\n",
       "      <th>anglez_diff_abs_rolling_median_10</th>\n",
       "      <th>...</th>\n",
       "      <th>enmo_rolling_square_mean_50</th>\n",
       "      <th>enmo_rolling_std_10</th>\n",
       "      <th>enmo_rolling_std_100</th>\n",
       "      <th>enmo_rolling_std_1000</th>\n",
       "      <th>enmo_rolling_std_50</th>\n",
       "      <th>total_seconds</th>\n",
       "      <th>target</th>\n",
       "      <th>step</th>\n",
       "      <th>series_id</th>\n",
       "      <th>fold</th>\n",
       "    </tr>\n",
       "  </thead>\n",
       "  <tbody>\n",
       "    <tr>\n",
       "      <th>0</th>\n",
       "      <td>0.006461</td>\n",
       "      <td>0.043200</td>\n",
       "      <td>NaN</td>\n",
       "      <td>NaN</td>\n",
       "      <td>NaN</td>\n",
       "      <td>0.007771</td>\n",
       "      <td>NaN</td>\n",
       "      <td>NaN</td>\n",
       "      <td>NaN</td>\n",
       "      <td>0.000428</td>\n",
       "      <td>...</td>\n",
       "      <td>NaN</td>\n",
       "      <td>0.000000</td>\n",
       "      <td>NaN</td>\n",
       "      <td>NaN</td>\n",
       "      <td>NaN</td>\n",
       "      <td>40557.5</td>\n",
       "      <td>1</td>\n",
       "      <td>11.5</td>\n",
       "      <td>af91d9a50547</td>\n",
       "      <td>3</td>\n",
       "    </tr>\n",
       "    <tr>\n",
       "      <th>1</th>\n",
       "      <td>0.000117</td>\n",
       "      <td>0.000833</td>\n",
       "      <td>NaN</td>\n",
       "      <td>NaN</td>\n",
       "      <td>0.047400</td>\n",
       "      <td>0.000192</td>\n",
       "      <td>NaN</td>\n",
       "      <td>NaN</td>\n",
       "      <td>0.002144</td>\n",
       "      <td>0.000004</td>\n",
       "      <td>...</td>\n",
       "      <td>0.000000</td>\n",
       "      <td>0.000000</td>\n",
       "      <td>NaN</td>\n",
       "      <td>NaN</td>\n",
       "      <td>0.000000</td>\n",
       "      <td>40677.5</td>\n",
       "      <td>1</td>\n",
       "      <td>35.5</td>\n",
       "      <td>af91d9a50547</td>\n",
       "      <td>3</td>\n",
       "    </tr>\n",
       "    <tr>\n",
       "      <th>2</th>\n",
       "      <td>0.000767</td>\n",
       "      <td>0.005475</td>\n",
       "      <td>0.5969</td>\n",
       "      <td>NaN</td>\n",
       "      <td>0.457854</td>\n",
       "      <td>0.001198</td>\n",
       "      <td>0.022684</td>\n",
       "      <td>NaN</td>\n",
       "      <td>0.024919</td>\n",
       "      <td>0.000319</td>\n",
       "      <td>...</td>\n",
       "      <td>0.000003</td>\n",
       "      <td>0.000000</td>\n",
       "      <td>0.00146</td>\n",
       "      <td>NaN</td>\n",
       "      <td>0.001634</td>\n",
       "      <td>40797.5</td>\n",
       "      <td>1</td>\n",
       "      <td>59.5</td>\n",
       "      <td>af91d9a50547</td>\n",
       "      <td>3</td>\n",
       "    </tr>\n",
       "    <tr>\n",
       "      <th>3</th>\n",
       "      <td>0.083833</td>\n",
       "      <td>0.347392</td>\n",
       "      <td>0.5969</td>\n",
       "      <td>NaN</td>\n",
       "      <td>0.596900</td>\n",
       "      <td>0.083032</td>\n",
       "      <td>0.025412</td>\n",
       "      <td>NaN</td>\n",
       "      <td>0.042692</td>\n",
       "      <td>0.036481</td>\n",
       "      <td>...</td>\n",
       "      <td>0.000004</td>\n",
       "      <td>0.001924</td>\n",
       "      <td>0.00146</td>\n",
       "      <td>NaN</td>\n",
       "      <td>0.002064</td>\n",
       "      <td>40917.5</td>\n",
       "      <td>1</td>\n",
       "      <td>83.5</td>\n",
       "      <td>af91d9a50547</td>\n",
       "      <td>3</td>\n",
       "    </tr>\n",
       "    <tr>\n",
       "      <th>4</th>\n",
       "      <td>0.014787</td>\n",
       "      <td>0.048846</td>\n",
       "      <td>0.5969</td>\n",
       "      <td>NaN</td>\n",
       "      <td>0.309038</td>\n",
       "      <td>0.012615</td>\n",
       "      <td>0.028460</td>\n",
       "      <td>NaN</td>\n",
       "      <td>0.028898</td>\n",
       "      <td>0.001910</td>\n",
       "      <td>...</td>\n",
       "      <td>0.000001</td>\n",
       "      <td>0.000000</td>\n",
       "      <td>0.00146</td>\n",
       "      <td>NaN</td>\n",
       "      <td>0.000604</td>\n",
       "      <td>41037.5</td>\n",
       "      <td>1</td>\n",
       "      <td>107.5</td>\n",
       "      <td>af91d9a50547</td>\n",
       "      <td>3</td>\n",
       "    </tr>\n",
       "  </tbody>\n",
       "</table>\n",
       "<p>5 rows × 203 columns</p>\n",
       "</div>"
      ],
      "text/plain": [
       "   anglez_diff_abs  anglez_diff_abs_rolling_max_10  \\\n",
       "0         0.006461                        0.043200   \n",
       "1         0.000117                        0.000833   \n",
       "2         0.000767                        0.005475   \n",
       "3         0.083833                        0.347392   \n",
       "4         0.014787                        0.048846   \n",
       "\n",
       "   anglez_diff_abs_rolling_max_100  anglez_diff_abs_rolling_max_1000  \\\n",
       "0                              NaN                               NaN   \n",
       "1                              NaN                               NaN   \n",
       "2                           0.5969                               NaN   \n",
       "3                           0.5969                               NaN   \n",
       "4                           0.5969                               NaN   \n",
       "\n",
       "   anglez_diff_abs_rolling_max_50  anglez_diff_abs_rolling_mean_10  \\\n",
       "0                             NaN                         0.007771   \n",
       "1                        0.047400                         0.000192   \n",
       "2                        0.457854                         0.001198   \n",
       "3                        0.596900                         0.083032   \n",
       "4                        0.309038                         0.012615   \n",
       "\n",
       "   anglez_diff_abs_rolling_mean_100  anglez_diff_abs_rolling_mean_1000  \\\n",
       "0                               NaN                                NaN   \n",
       "1                               NaN                                NaN   \n",
       "2                          0.022684                                NaN   \n",
       "3                          0.025412                                NaN   \n",
       "4                          0.028460                                NaN   \n",
       "\n",
       "   anglez_diff_abs_rolling_mean_50  anglez_diff_abs_rolling_median_10  ...  \\\n",
       "0                              NaN                           0.000428  ...   \n",
       "1                         0.002144                           0.000004  ...   \n",
       "2                         0.024919                           0.000319  ...   \n",
       "3                         0.042692                           0.036481  ...   \n",
       "4                         0.028898                           0.001910  ...   \n",
       "\n",
       "   enmo_rolling_square_mean_50  enmo_rolling_std_10  enmo_rolling_std_100  \\\n",
       "0                          NaN             0.000000                   NaN   \n",
       "1                     0.000000             0.000000                   NaN   \n",
       "2                     0.000003             0.000000               0.00146   \n",
       "3                     0.000004             0.001924               0.00146   \n",
       "4                     0.000001             0.000000               0.00146   \n",
       "\n",
       "   enmo_rolling_std_1000  enmo_rolling_std_50  total_seconds  target   step  \\\n",
       "0                    NaN                  NaN        40557.5       1   11.5   \n",
       "1                    NaN             0.000000        40677.5       1   35.5   \n",
       "2                    NaN             0.001634        40797.5       1   59.5   \n",
       "3                    NaN             0.002064        40917.5       1   83.5   \n",
       "4                    NaN             0.000604        41037.5       1  107.5   \n",
       "\n",
       "      series_id  fold  \n",
       "0  af91d9a50547     3  \n",
       "1  af91d9a50547     3  \n",
       "2  af91d9a50547     3  \n",
       "3  af91d9a50547     3  \n",
       "4  af91d9a50547     3  \n",
       "\n",
       "[5 rows x 203 columns]"
      ]
     },
     "metadata": {},
     "output_type": "display_data"
    },
    {
     "name": "stdout",
     "output_type": "stream",
     "text": [
      "(5331163, 203)\n"
     ]
    }
   ],
   "source": [
    "# 特徴生成\n",
    "files = glob(f\"{CFG['dataset']['step_csv_dir']}/*.csv\")\n",
    "train, features = generate_1st_stage_features(files)\n",
    "\n",
    "# cv splitとマージ\n",
    "cv_split = pd.read_csv(CFG['dataset']['cv_split_path'])\n",
    "train[\"fold\"] = train[\"series_id\"].map(cv_split.set_index(\"series_id\")[\"fold\"])\n",
    "display(train.head(5))\n",
    "print(train.shape)"
   ]
  },
  {
   "cell_type": "code",
   "execution_count": 3,
   "metadata": {},
   "outputs": [
    {
     "name": "stderr",
     "output_type": "stream",
     "text": [
      "  0%|          | 0/5 [00:00<?, ?it/s]"
     ]
    },
    {
     "name": "stdout",
     "output_type": "stream",
     "text": [
      "== fold 0 ==\n",
      "[0]\teval-logloss:0.61107\n",
      "[100]\teval-logloss:0.09862\n",
      "[197]\teval-logloss:0.09901\n"
     ]
    },
    {
     "name": "stderr",
     "output_type": "stream",
     "text": [
      " 20%|██        | 1/5 [00:32<02:10, 32.60s/it]"
     ]
    },
    {
     "name": "stdout",
     "output_type": "stream",
     "text": [
      "== fold 1 ==\n",
      "[0]\teval-logloss:0.61144\n",
      "[100]\teval-logloss:0.08143\n",
      "[200]\teval-logloss:0.08167\n",
      "[231]\teval-logloss:0.08174\n"
     ]
    },
    {
     "name": "stderr",
     "output_type": "stream",
     "text": [
      " 40%|████      | 2/5 [01:02<01:33, 31.03s/it]"
     ]
    },
    {
     "name": "stdout",
     "output_type": "stream",
     "text": [
      "== fold 2 ==\n",
      "[0]\teval-logloss:0.61098\n",
      "[100]\teval-logloss:0.08480\n",
      "[200]\teval-logloss:0.08403\n",
      "[300]\teval-logloss:0.08427\n",
      "[320]\teval-logloss:0.08447\n"
     ]
    },
    {
     "name": "stderr",
     "output_type": "stream",
     "text": [
      " 60%|██████    | 3/5 [01:36<01:04, 32.18s/it]"
     ]
    },
    {
     "name": "stdout",
     "output_type": "stream",
     "text": [
      "== fold 3 ==\n",
      "[0]\teval-logloss:0.61126\n",
      "[100]\teval-logloss:0.09344\n",
      "[200]\teval-logloss:0.09207\n",
      "[276]\teval-logloss:0.09270\n"
     ]
    },
    {
     "name": "stderr",
     "output_type": "stream",
     "text": [
      " 80%|████████  | 4/5 [02:07<00:31, 31.74s/it]"
     ]
    },
    {
     "name": "stdout",
     "output_type": "stream",
     "text": [
      "== fold 4 ==\n",
      "[0]\teval-logloss:0.61197\n",
      "[100]\teval-logloss:0.10467\n",
      "[200]\teval-logloss:0.10409\n",
      "[284]\teval-logloss:0.10402\n"
     ]
    },
    {
     "name": "stderr",
     "output_type": "stream",
     "text": [
      "100%|██████████| 5/5 [02:37<00:00, 31.48s/it]\n"
     ]
    }
   ],
   "source": [
    "# 学習\n",
    "trn_oof, models = fit_xgb(\n",
    "    X=train, \n",
    "    y=train[\"target\"], \n",
    "    folds=train[\"fold\"].astype(int), \n",
    "    features=features.all_features(),\n",
    "    params=CFG[\"1st_stage\"][\"xgboost\"], \n",
    "    es_rounds=100,\n",
    ")\n",
    "train[\"oof\"] = trn_oof\n",
    "train = train.drop(columns=features.all_features())\n",
    "train = train.sort_values([\"series_id\", \"step\"]).reset_index(drop=True)\n",
    "\n",
    "# 保存\n",
    "for i, model in enumerate(models):\n",
    "    model.save_model(os.path.join(CFG[\"output_dir\"], f'xgb_fold{i}.model'))\n",
    "with open(os.path.join(CFG[\"output_dir\"], \"features.pkl\"), \"wb\") as f:\n",
    "    pickle.dump(features, f)\n",
    "train.to_csv(os.path.join(CFG[\"output_dir\"], \"oof.csv\"), index=False)"
   ]
  },
  {
   "cell_type": "code",
   "execution_count": 4,
   "metadata": {},
   "outputs": [
    {
     "name": "stderr",
     "output_type": "stream",
     "text": [
      "post process: 100%|██████████| 277/277 [00:46<00:00,  5.98it/s]\n"
     ]
    },
    {
     "name": "stdout",
     "output_type": "stream",
     "text": [
      "score: 0.5143\n"
     ]
    },
    {
     "data": {
      "text/plain": [
       "event   tolerance\n",
       "onset   12           0.007410\n",
       "        36           0.063323\n",
       "        60           0.180587\n",
       "        90           0.356458\n",
       "        120          0.539562\n",
       "        150          0.616559\n",
       "        180          0.676332\n",
       "        240          0.729481\n",
       "        300          0.763573\n",
       "        360          0.778655\n",
       "wakeup  12           0.025611\n",
       "        36           0.183351\n",
       "        60           0.365586\n",
       "        90           0.530580\n",
       "        120          0.618199\n",
       "        150          0.685890\n",
       "        180          0.730202\n",
       "        240          0.787793\n",
       "        300          0.813421\n",
       "        360          0.832656\n",
       "dtype: float64"
      ]
     },
     "metadata": {},
     "output_type": "display_data"
    }
   ],
   "source": [
    "# 後処理\n",
    "sub = post_process(train)\n",
    "sub.to_csv(os.path.join(CFG[\"output_dir\"], \"submission.csv\"), index=False)\n",
    "\n",
    "# スコア計算\n",
    "labels = pd.read_csv(f\"{CFG['dataset']['competition_dir']}/train_events.csv\").dropna()\n",
    "score, ap_table = compute_comptetition_metric(labels, sub)\n",
    "print(f\"score: {score:.4f}\")\n",
    "display(ap_table)"
   ]
  },
  {
   "cell_type": "code",
   "execution_count": 5,
   "metadata": {},
   "outputs": [
    {
     "name": "stdout",
     "output_type": "stream",
     "text": [
      "recall: 0.9729\n",
      "next_cand_size: 21062664.0\n"
     ]
    }
   ],
   "source": [
    "# 次の候補を決定\n",
    "next_cand_size = 0\n",
    "count = 0\n",
    "next_dict = {}\n",
    "for series_id, train_df in train.groupby(\"series_id\"):\n",
    "    train_df = train_df[(train_df[\"oof\"] >= 0.1) & (train_df[\"oof\"] <= 0.9)]\n",
    "    sub_df = sub[(sub[\"series_id\"] == series_id)]\n",
    "    label_df = labels[labels[\"series_id\"] == series_id]\n",
    "    pred_steps = train_df[\"step\"].values\n",
    "    sub_steps = sub_df[\"step\"].values\n",
    "    label_steps = label_df[\"step\"].values\n",
    "\n",
    "    if len(train_df) == 0:\n",
    "        continue\n",
    "    next_cand = np.zeros(int(max(max(pred_steps if len(pred_steps) > 0 else [0]), max(sub_steps if len(sub_steps) > 0 else [0]))) + CFG[\"feature\"][\"agg_freq\"])\n",
    "    for sub_step in sub_steps:\n",
    "        next_cand[int(sub_step - CFG[\"feature\"][\"agg_freq\"] * 10): int(sub_step + CFG[\"feature\"][\"agg_freq\"] * 10)] = 1\n",
    "    for pred_step in pred_steps:\n",
    "        next_cand[int(pred_step - CFG[\"feature\"][\"agg_freq\"] * 10): int(pred_step + CFG[\"feature\"][\"agg_freq\"] * 10)] = 1\n",
    "    next_cand_size += np.sum(next_cand)\n",
    "    next_dict[series_id] = np.where(next_cand)[0]\n",
    "\n",
    "    for label_step in label_steps:\n",
    "        if label_step < next_cand.shape[0]:\n",
    "            count += next_cand[int(label_step)]\n",
    "    \n",
    "recall = count / len(labels)\n",
    "print(f\"recall: {recall:.4f}\")\n",
    "print(f\"next_cand_size: {next_cand_size}\")\n",
    "\n",
    "with open(f\"{CFG['output_dir']}/next_cands.pkl\", \"wb\") as f:\n",
    "    pickle.dump(next_dict, f)"
   ]
  },
  {
   "cell_type": "code",
   "execution_count": null,
   "metadata": {},
   "outputs": [],
   "source": []
  }
 ],
 "metadata": {
  "kernelspec": {
   "display_name": "base",
   "language": "python",
   "name": "python3"
  },
  "language_info": {
   "codemirror_mode": {
    "name": "ipython",
    "version": 3
   },
   "file_extension": ".py",
   "mimetype": "text/x-python",
   "name": "python",
   "nbconvert_exporter": "python",
   "pygments_lexer": "ipython3",
   "version": "3.10.10"
  },
  "orig_nbformat": 4
 },
 "nbformat": 4,
 "nbformat_minor": 2
}
