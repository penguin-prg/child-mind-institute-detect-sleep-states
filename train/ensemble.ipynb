{
 "cells": [
  {
   "cell_type": "code",
   "execution_count": 1,
   "metadata": {},
   "outputs": [
    {
     "name": "stderr",
     "output_type": "stream",
     "text": [
      "2023-10-22 06:34:59.392050: I tensorflow/core/platform/cpu_feature_guard.cc:193] This TensorFlow binary is optimized with oneAPI Deep Neural Network Library (oneDNN) to use the following CPU instructions in performance-critical operations:  AVX2 AVX_VNNI FMA\n",
      "To enable them in other operations, rebuild TensorFlow with the appropriate compiler flags.\n",
      "2023-10-22 06:34:59.539212: I tensorflow/core/util/port.cc:104] oneDNN custom operations are on. You may see slightly different numerical results due to floating-point round-off errors from different computation orders. To turn them off, set the environment variable `TF_ENABLE_ONEDNN_OPTS=0`.\n",
      "2023-10-22 06:35:00.067854: W tensorflow/compiler/xla/stream_executor/platform/default/dso_loader.cc:64] Could not load dynamic library 'libnvinfer.so.7'; dlerror: libnvinfer.so.7: cannot open shared object file: No such file or directory; LD_LIBRARY_PATH: /usr/local/cuda/lib64:/usr/local/cuda/lib:/usr/local/lib/x86_64-linux-gnu:/usr/local/nvidia/lib:/usr/local/nvidia/lib64:/usr/local/nvidia/lib:/usr/local/nvidia/lib64:/opt/conda/lib\n",
      "2023-10-22 06:35:00.067976: W tensorflow/compiler/xla/stream_executor/platform/default/dso_loader.cc:64] Could not load dynamic library 'libnvinfer_plugin.so.7'; dlerror: libnvinfer_plugin.so.7: cannot open shared object file: No such file or directory; LD_LIBRARY_PATH: /usr/local/cuda/lib64:/usr/local/cuda/lib:/usr/local/lib/x86_64-linux-gnu:/usr/local/nvidia/lib:/usr/local/nvidia/lib64:/usr/local/nvidia/lib:/usr/local/nvidia/lib64:/opt/conda/lib\n",
      "2023-10-22 06:35:00.067981: W tensorflow/compiler/tf2tensorrt/utils/py_utils.cc:38] TF-TRT Warning: Cannot dlopen some TensorRT libraries. If you would like to use Nvidia GPU with TensorRT, please make sure the missing libraries mentioned above are installed properly.\n"
     ]
    },
    {
     "name": "stdout",
     "output_type": "stream",
     "text": [
      "exp_084\n"
     ]
    }
   ],
   "source": [
    "import pandas as pd\n",
    "import yaml\n",
    "import sys\n",
    "import os\n",
    "from glob import glob\n",
    "from pathlib import Path\n",
    "from tqdm import tqdm\n",
    "import gc\n",
    "import pickle\n",
    "\n",
    "import warnings\n",
    "warnings.filterwarnings('ignore')\n",
    "\n",
    "sys.path.append('/kaggle/src')\n",
    "from utils.xgb import fit_xgb\n",
    "from utils.metric import compute_comptetition_metric\n",
    "from utils.postprocess import dynamic_range_nms\n",
    "from utils.set_seed import seed_base\n",
    "from feature_engineering.stage2 import generate_2nd_stage_features\n",
    "\n",
    "PACKAGE_DIR = Path(\"/kaggle/src\")\n",
    "CFG = yaml.safe_load(open(PACKAGE_DIR / \"config.yaml\", \"r\"))\n",
    "print(CFG[\"ensemble\"][\"execution\"][\"exp_id\"])\n",
    "\n",
    "CFG[\"output_dir\"] = f\"/kaggle/output/{CFG['ensemble']['execution']['exp_id']}\"\n",
    "!rm -r {CFG[\"output_dir\"]}\n",
    "os.makedirs(CFG[\"output_dir\"], exist_ok=True)\n",
    "\n",
    "seed_base(CFG[\"env\"][\"seed\"])"
   ]
  },
  {
   "cell_type": "code",
   "execution_count": 2,
   "metadata": {},
   "outputs": [
    {
     "data": {
      "text/html": [
       "<div>\n",
       "<style scoped>\n",
       "    .dataframe tbody tr th:only-of-type {\n",
       "        vertical-align: middle;\n",
       "    }\n",
       "\n",
       "    .dataframe tbody tr th {\n",
       "        vertical-align: top;\n",
       "    }\n",
       "\n",
       "    .dataframe thead th {\n",
       "        text-align: right;\n",
       "    }\n",
       "</style>\n",
       "<table border=\"1\" class=\"dataframe\">\n",
       "  <thead>\n",
       "    <tr style=\"text-align: right;\">\n",
       "      <th></th>\n",
       "      <th>series_id</th>\n",
       "      <th>step</th>\n",
       "      <th>score</th>\n",
       "      <th>event</th>\n",
       "    </tr>\n",
       "  </thead>\n",
       "  <tbody>\n",
       "    <tr>\n",
       "      <th>0</th>\n",
       "      <td>038441c925bb</td>\n",
       "      <td>4739</td>\n",
       "      <td>-0.022457</td>\n",
       "      <td>wakeup</td>\n",
       "    </tr>\n",
       "    <tr>\n",
       "      <th>1</th>\n",
       "      <td>038441c925bb</td>\n",
       "      <td>4739</td>\n",
       "      <td>1.558079</td>\n",
       "      <td>onset</td>\n",
       "    </tr>\n",
       "    <tr>\n",
       "      <th>2</th>\n",
       "      <td>038441c925bb</td>\n",
       "      <td>4763</td>\n",
       "      <td>-0.013400</td>\n",
       "      <td>wakeup</td>\n",
       "    </tr>\n",
       "    <tr>\n",
       "      <th>3</th>\n",
       "      <td>038441c925bb</td>\n",
       "      <td>4763</td>\n",
       "      <td>1.819209</td>\n",
       "      <td>onset</td>\n",
       "    </tr>\n",
       "    <tr>\n",
       "      <th>4</th>\n",
       "      <td>038441c925bb</td>\n",
       "      <td>4787</td>\n",
       "      <td>0.000080</td>\n",
       "      <td>wakeup</td>\n",
       "    </tr>\n",
       "  </tbody>\n",
       "</table>\n",
       "</div>"
      ],
      "text/plain": [
       "      series_id  step     score   event\n",
       "0  038441c925bb  4739 -0.022457  wakeup\n",
       "1  038441c925bb  4739  1.558079   onset\n",
       "2  038441c925bb  4763 -0.013400  wakeup\n",
       "3  038441c925bb  4763  1.819209   onset\n",
       "4  038441c925bb  4787  0.000080  wakeup"
      ]
     },
     "execution_count": 2,
     "metadata": {},
     "output_type": "execute_result"
    }
   ],
   "source": [
    "oof_2nd = pd.read_csv(f'/kaggle/output/{CFG[\"2nd_stage\"][\"execution\"][\"best_exp_id\"]}/oof.csv')\n",
    "oof_2nd.head()"
   ]
  },
  {
   "cell_type": "code",
   "execution_count": 3,
   "metadata": {},
   "outputs": [
    {
     "data": {
      "text/html": [
       "<div>\n",
       "<style scoped>\n",
       "    .dataframe tbody tr th:only-of-type {\n",
       "        vertical-align: middle;\n",
       "    }\n",
       "\n",
       "    .dataframe tbody tr th {\n",
       "        vertical-align: top;\n",
       "    }\n",
       "\n",
       "    .dataframe thead th {\n",
       "        text-align: right;\n",
       "    }\n",
       "</style>\n",
       "<table border=\"1\" class=\"dataframe\">\n",
       "  <thead>\n",
       "    <tr style=\"text-align: right;\">\n",
       "      <th></th>\n",
       "      <th>series_id</th>\n",
       "      <th>step</th>\n",
       "      <th>wakeup_oof</th>\n",
       "      <th>onset_oof</th>\n",
       "    </tr>\n",
       "  </thead>\n",
       "  <tbody>\n",
       "    <tr>\n",
       "      <th>0</th>\n",
       "      <td>05e1944c3818</td>\n",
       "      <td>6</td>\n",
       "      <td>0.001423</td>\n",
       "      <td>0.000193</td>\n",
       "    </tr>\n",
       "    <tr>\n",
       "      <th>1</th>\n",
       "      <td>05e1944c3818</td>\n",
       "      <td>18</td>\n",
       "      <td>0.001385</td>\n",
       "      <td>0.000224</td>\n",
       "    </tr>\n",
       "    <tr>\n",
       "      <th>2</th>\n",
       "      <td>05e1944c3818</td>\n",
       "      <td>30</td>\n",
       "      <td>0.001297</td>\n",
       "      <td>0.000247</td>\n",
       "    </tr>\n",
       "    <tr>\n",
       "      <th>3</th>\n",
       "      <td>05e1944c3818</td>\n",
       "      <td>42</td>\n",
       "      <td>0.001260</td>\n",
       "      <td>0.000309</td>\n",
       "    </tr>\n",
       "    <tr>\n",
       "      <th>4</th>\n",
       "      <td>05e1944c3818</td>\n",
       "      <td>54</td>\n",
       "      <td>0.001197</td>\n",
       "      <td>0.000346</td>\n",
       "    </tr>\n",
       "  </tbody>\n",
       "</table>\n",
       "</div>"
      ],
      "text/plain": [
       "      series_id  step  wakeup_oof  onset_oof\n",
       "0  05e1944c3818     6    0.001423   0.000193\n",
       "1  05e1944c3818    18    0.001385   0.000224\n",
       "2  05e1944c3818    30    0.001297   0.000247\n",
       "3  05e1944c3818    42    0.001260   0.000309\n",
       "4  05e1944c3818    54    0.001197   0.000346"
      ]
     },
     "execution_count": 3,
     "metadata": {},
     "output_type": "execute_result"
    }
   ],
   "source": [
    "oof_gru = pd.read_parquet(f'/kaggle/output/{CFG[\"patch_model\"][\"execution\"][\"best_exp_id\"]}/oof.parquet')\n",
    "oof_gru.head()"
   ]
  },
  {
   "cell_type": "code",
   "execution_count": 4,
   "metadata": {},
   "outputs": [
    {
     "name": "stderr",
     "output_type": "stream",
     "text": [
      "100%|██████████| 277/277 [01:49<00:00,  2.54it/s]\n"
     ]
    },
    {
     "data": {
      "text/plain": [
       "0"
      ]
     },
     "execution_count": 4,
     "metadata": {},
     "output_type": "execute_result"
    }
   ],
   "source": [
    "wakeup_2nd = oof_2nd[oof_2nd[\"event\"]==\"wakeup\"]\n",
    "onset_2nd = oof_2nd[oof_2nd[\"event\"]==\"onset\"]\n",
    "dfs = []\n",
    "for seires_id, df in tqdm(oof_gru.groupby(\"series_id\")):\n",
    "    df2 = oof_2nd[oof_2nd[\"series_id\"]==seires_id]\n",
    "    max_step = max(df[\"step\"].max(), df2[\"step\"].max())\n",
    "    base = pd.DataFrame({\"series_id\": [seires_id]*max_step, \"step\": range(max_step)})\n",
    "    df = base.merge(df, on=[\"series_id\", \"step\"], how=\"left\")\n",
    "    df[\"onset_oof\"] = df[\"onset_oof\"].interpolate(method=\"linear\", direction=\"both\").fillna(0)\n",
    "    df[\"wakeup_oof\"] = df[\"wakeup_oof\"].interpolate(method=\"linear\", direction=\"both\").fillna(0)\n",
    "\n",
    "    df2 = wakeup_2nd[wakeup_2nd[\"series_id\"]==seires_id]\n",
    "    df[\"wakeup_oof_2nd\"] = df[\"step\"].map(df2.set_index(\"step\")[\"score\"]).interpolate(method=\"linear\", direction=\"both\", limit=12*10).fillna(0)\n",
    "    df2 = onset_2nd[onset_2nd[\"series_id\"]==seires_id]\n",
    "    df[\"onset_oof_2nd\"] = df[\"step\"].map(df2.set_index(\"step\")[\"score\"]).interpolate(method=\"linear\", direction=\"both\", limit=12*10).fillna(0)\n",
    "\n",
    "    df[\"wakeup_oof\"] = df[\"wakeup_oof_2nd\"] * 0.3 + df[\"wakeup_oof\"] * 0.7\n",
    "    df[\"onset_oof\"] = df[\"onset_oof_2nd\"] * 0.3 + df[\"onset_oof\"] * 0.7\n",
    "    df = df[[\"series_id\", \"step\", \"wakeup_oof\", \"onset_oof\"]].reset_index(drop=True)\n",
    "    dfs.append(df)\n",
    "oof_df = pd.concat(dfs)\n",
    "del dfs\n",
    "gc.collect()"
   ]
  },
  {
   "cell_type": "code",
   "execution_count": 5,
   "metadata": {},
   "outputs": [
    {
     "data": {
      "text/plain": [
       "12782795"
      ]
     },
     "execution_count": 5,
     "metadata": {},
     "output_type": "execute_result"
    },
    {
     "data": {
      "image/png": "[encoded data removed]",
      "text/plain": [
       "<Figure size 640x480 with 1 Axes>"
      ]
     },
     "metadata": {},
     "output_type": "display_data"
    }
   ],
   "source": [
    "dfs = []\n",
    "df = oof_df[[\"series_id\", \"step\", \"wakeup_oof\"]]\n",
    "df = df[df[\"wakeup_oof\"] > 0.1]\n",
    "df[\"event\"] = \"wakeup\"\n",
    "df[\"score\"] = df[\"wakeup_oof\"]\n",
    "dfs.append(df[['series_id', 'step', 'event', 'score']])\n",
    "\n",
    "df = oof_df[[\"series_id\", \"step\", \"onset_oof\"]]\n",
    "df = df[df[\"onset_oof\"] > 0.1]\n",
    "df[\"event\"] = \"onset\"\n",
    "df[\"score\"] = df[\"onset_oof\"]\n",
    "dfs.append(df[['series_id', 'step', 'event', 'score']])\n",
    "\n",
    "train = pd.concat(dfs).reset_index(drop=True)\n",
    "train[\"score\"].hist()\n",
    "len(train)"
   ]
  },
  {
   "cell_type": "code",
   "execution_count": 6,
   "metadata": {},
   "outputs": [
    {
     "name": "stderr",
     "output_type": "stream",
     "text": [
      "100%|██████████| 277/277 [00:16<00:00, 16.93it/s]\n"
     ]
    }
   ],
   "source": [
    "from multiprocessing import Pool\n",
    "\n",
    "groups = [group for _, group in train.groupby(\"series_id\")]\n",
    "with Pool(30) as p:  \n",
    "    results = list(tqdm(p.imap(dynamic_range_nms, groups), total=len(groups)))\n",
    "sub = pd.concat(results)\n",
    "sub[\"score\"] = sub[\"reduced_score\"]"
   ]
  },
  {
   "cell_type": "code",
   "execution_count": 7,
   "metadata": {},
   "outputs": [
    {
     "name": "stdout",
     "output_type": "stream",
     "text": [
      "score: 0.7812\n"
     ]
    },
    {
     "data": {
      "text/plain": [
       "event   tolerance\n",
       "onset   12           0.232289\n",
       "        36           0.639473\n",
       "        60           0.758183\n",
       "        90           0.811824\n",
       "        120          0.858986\n",
       "        150          0.876969\n",
       "        180          0.891394\n",
       "        240          0.903957\n",
       "        300          0.910465\n",
       "        360          0.915927\n",
       "wakeup  12           0.281517\n",
       "        36           0.654254\n",
       "        60           0.754355\n",
       "        90           0.802477\n",
       "        120          0.847927\n",
       "        150          0.868933\n",
       "        180          0.884889\n",
       "        240          0.900016\n",
       "        300          0.911425\n",
       "        360          0.919644\n",
       "dtype: float64"
      ]
     },
     "metadata": {},
     "output_type": "display_data"
    }
   ],
   "source": [
    "# スコア計算\n",
    "labels = pd.read_csv(f\"{CFG['dataset']['competition_dir']}/train_events.csv\").dropna()\n",
    "score, ap_table = compute_comptetition_metric(labels, sub)\n",
    "\n",
    "print(f\"score: {score:.4f}\")\n",
    "display(ap_table)\n",
    "sub.to_csv(os.path.join(CFG[\"output_dir\"], \"submission.csv\"), index=False)"
   ]
  },
  {
   "cell_type": "code",
   "execution_count": null,
   "metadata": {},
   "outputs": [],
   "source": []
  },
  {
   "cell_type": "code",
   "execution_count": null,
   "metadata": {},
   "outputs": [],
   "source": []
  },
  {
   "cell_type": "code",
   "execution_count": null,
   "metadata": {},
   "outputs": [],
   "source": []
  }
 ],
 "metadata": {
  "kernelspec": {
   "display_name": "base",
   "language": "python",
   "name": "python3"
  },
  "language_info": {
   "codemirror_mode": {
    "name": "ipython",
    "version": 3
   },
   "file_extension": ".py",
   "mimetype": "text/x-python",
   "name": "python",
   "nbconvert_exporter": "python",
   "pygments_lexer": "ipython3",
   "version": "3.10.10"
  }
 },
 "nbformat": 4,
 "nbformat_minor": 2
}
