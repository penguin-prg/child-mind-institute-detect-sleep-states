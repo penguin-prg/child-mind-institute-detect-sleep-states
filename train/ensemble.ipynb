{
 "cells": [
  {
   "cell_type": "code",
   "execution_count": 1,
   "metadata": {},
   "outputs": [
    {
     "name": "stderr",
     "output_type": "stream",
     "text": [
      "2023-11-12 19:26:43.690205: I tensorflow/core/platform/cpu_feature_guard.cc:193] This TensorFlow binary is optimized with oneAPI Deep Neural Network Library (oneDNN) to use the following CPU instructions in performance-critical operations:  AVX2 AVX_VNNI FMA\n",
      "To enable them in other operations, rebuild TensorFlow with the appropriate compiler flags.\n",
      "2023-11-12 19:26:44.169904: I tensorflow/core/util/port.cc:104] oneDNN custom operations are on. You may see slightly different numerical results due to floating-point round-off errors from different computation orders. To turn them off, set the environment variable `TF_ENABLE_ONEDNN_OPTS=0`.\n",
      "2023-11-12 19:26:45.828043: W tensorflow/compiler/xla/stream_executor/platform/default/dso_loader.cc:64] Could not load dynamic library 'libnvinfer.so.7'; dlerror: libnvinfer.so.7: cannot open shared object file: No such file or directory; LD_LIBRARY_PATH: /usr/local/cuda/lib64:/usr/local/cuda/lib:/usr/local/lib/x86_64-linux-gnu:/usr/local/nvidia/lib:/usr/local/nvidia/lib64:/usr/local/nvidia/lib:/usr/local/nvidia/lib64:/opt/conda/lib\n",
      "2023-11-12 19:26:45.829116: W tensorflow/compiler/xla/stream_executor/platform/default/dso_loader.cc:64] Could not load dynamic library 'libnvinfer_plugin.so.7'; dlerror: libnvinfer_plugin.so.7: cannot open shared object file: No such file or directory; LD_LIBRARY_PATH: /usr/local/cuda/lib64:/usr/local/cuda/lib:/usr/local/lib/x86_64-linux-gnu:/usr/local/nvidia/lib:/usr/local/nvidia/lib64:/usr/local/nvidia/lib:/usr/local/nvidia/lib64:/opt/conda/lib\n",
      "2023-11-12 19:26:45.829124: W tensorflow/compiler/tf2tensorrt/utils/py_utils.cc:38] TF-TRT Warning: Cannot dlopen some TensorRT libraries. If you would like to use Nvidia GPU with TensorRT, please make sure the missing libraries mentioned above are installed properly.\n"
     ]
    },
    {
     "name": "stdout",
     "output_type": "stream",
     "text": [
      "exp_ensemble\n"
     ]
    }
   ],
   "source": [
    "import pandas as pd\n",
    "import yaml\n",
    "import sys\n",
    "import os\n",
    "from glob import glob\n",
    "from pathlib import Path\n",
    "from tqdm import tqdm\n",
    "import gc\n",
    "import pickle\n",
    "\n",
    "import warnings\n",
    "warnings.filterwarnings('ignore')\n",
    "\n",
    "sys.path.append('/kaggle/src')\n",
    "from utils.metric import compute_comptetition_metric\n",
    "from utils.postprocess import dynamic_range_nms\n",
    "from utils.set_seed import seed_base\n",
    "\n",
    "PACKAGE_DIR = Path(\"/kaggle/src\")\n",
    "CFG = yaml.safe_load(open(PACKAGE_DIR / \"config.yaml\", \"r\"))\n",
    "print(CFG[\"ensemble\"][\"execution\"][\"exp_id\"])\n",
    "\n",
    "CFG[\"output_dir\"] = f\"/kaggle/output/{CFG['ensemble']['execution']['exp_id']}\"\n",
    "!rm -r {CFG[\"output_dir\"]}\n",
    "os.makedirs(CFG[\"output_dir\"], exist_ok=True)\n",
    "\n",
    "seed_base(CFG[\"env\"][\"seed\"])"
   ]
  },
  {
   "cell_type": "code",
   "execution_count": 2,
   "metadata": {},
   "outputs": [
    {
     "data": {
      "text/html": [
       "<div>\n",
       "<style scoped>\n",
       "    .dataframe tbody tr th:only-of-type {\n",
       "        vertical-align: middle;\n",
       "    }\n",
       "\n",
       "    .dataframe tbody tr th {\n",
       "        vertical-align: top;\n",
       "    }\n",
       "\n",
       "    .dataframe thead th {\n",
       "        text-align: right;\n",
       "    }\n",
       "</style>\n",
       "<table border=\"1\" class=\"dataframe\">\n",
       "  <thead>\n",
       "    <tr style=\"text-align: right;\">\n",
       "      <th></th>\n",
       "      <th>series_id</th>\n",
       "      <th>step</th>\n",
       "      <th>score</th>\n",
       "      <th>event</th>\n",
       "    </tr>\n",
       "  </thead>\n",
       "  <tbody>\n",
       "    <tr>\n",
       "      <th>0</th>\n",
       "      <td>038441c925bb</td>\n",
       "      <td>35</td>\n",
       "      <td>-0.013358</td>\n",
       "      <td>wakeup</td>\n",
       "    </tr>\n",
       "    <tr>\n",
       "      <th>1</th>\n",
       "      <td>038441c925bb</td>\n",
       "      <td>35</td>\n",
       "      <td>-0.009278</td>\n",
       "      <td>onset</td>\n",
       "    </tr>\n",
       "    <tr>\n",
       "      <th>2</th>\n",
       "      <td>038441c925bb</td>\n",
       "      <td>131</td>\n",
       "      <td>-0.003097</td>\n",
       "      <td>wakeup</td>\n",
       "    </tr>\n",
       "    <tr>\n",
       "      <th>3</th>\n",
       "      <td>038441c925bb</td>\n",
       "      <td>131</td>\n",
       "      <td>-0.008294</td>\n",
       "      <td>onset</td>\n",
       "    </tr>\n",
       "    <tr>\n",
       "      <th>4</th>\n",
       "      <td>038441c925bb</td>\n",
       "      <td>155</td>\n",
       "      <td>0.000185</td>\n",
       "      <td>wakeup</td>\n",
       "    </tr>\n",
       "  </tbody>\n",
       "</table>\n",
       "</div>"
      ],
      "text/plain": [
       "      series_id  step     score   event\n",
       "0  038441c925bb    35 -0.013358  wakeup\n",
       "1  038441c925bb    35 -0.009278   onset\n",
       "2  038441c925bb   131 -0.003097  wakeup\n",
       "3  038441c925bb   131 -0.008294   onset\n",
       "4  038441c925bb   155  0.000185  wakeup"
      ]
     },
     "execution_count": 2,
     "metadata": {},
     "output_type": "execute_result"
    }
   ],
   "source": [
    "oof_xgb = pd.read_csv(f'/kaggle/output/{CFG[\"xgb_model\"][\"execution\"][\"best_exp_id\"]}/oof.csv')\n",
    "oof_xgb.head()"
   ]
  },
  {
   "cell_type": "code",
   "execution_count": 3,
   "metadata": {},
   "outputs": [
    {
     "data": {
      "text/html": [
       "<div>\n",
       "<style scoped>\n",
       "    .dataframe tbody tr th:only-of-type {\n",
       "        vertical-align: middle;\n",
       "    }\n",
       "\n",
       "    .dataframe tbody tr th {\n",
       "        vertical-align: top;\n",
       "    }\n",
       "\n",
       "    .dataframe thead th {\n",
       "        text-align: right;\n",
       "    }\n",
       "</style>\n",
       "<table border=\"1\" class=\"dataframe\">\n",
       "  <thead>\n",
       "    <tr style=\"text-align: right;\">\n",
       "      <th></th>\n",
       "      <th>series_id</th>\n",
       "      <th>step</th>\n",
       "      <th>score</th>\n",
       "      <th>event</th>\n",
       "    </tr>\n",
       "  </thead>\n",
       "  <tbody>\n",
       "    <tr>\n",
       "      <th>0</th>\n",
       "      <td>038441c925bb</td>\n",
       "      <td>35</td>\n",
       "      <td>-0.023148</td>\n",
       "      <td>wakeup</td>\n",
       "    </tr>\n",
       "    <tr>\n",
       "      <th>1</th>\n",
       "      <td>038441c925bb</td>\n",
       "      <td>35</td>\n",
       "      <td>-0.001725</td>\n",
       "      <td>onset</td>\n",
       "    </tr>\n",
       "    <tr>\n",
       "      <th>2</th>\n",
       "      <td>038441c925bb</td>\n",
       "      <td>131</td>\n",
       "      <td>-0.022953</td>\n",
       "      <td>wakeup</td>\n",
       "    </tr>\n",
       "    <tr>\n",
       "      <th>3</th>\n",
       "      <td>038441c925bb</td>\n",
       "      <td>131</td>\n",
       "      <td>-0.006276</td>\n",
       "      <td>onset</td>\n",
       "    </tr>\n",
       "    <tr>\n",
       "      <th>4</th>\n",
       "      <td>038441c925bb</td>\n",
       "      <td>155</td>\n",
       "      <td>-0.009185</td>\n",
       "      <td>wakeup</td>\n",
       "    </tr>\n",
       "  </tbody>\n",
       "</table>\n",
       "</div>"
      ],
      "text/plain": [
       "      series_id  step     score   event\n",
       "0  038441c925bb    35 -0.023148  wakeup\n",
       "1  038441c925bb    35 -0.001725   onset\n",
       "2  038441c925bb   131 -0.022953  wakeup\n",
       "3  038441c925bb   131 -0.006276   onset\n",
       "4  038441c925bb   155 -0.009185  wakeup"
      ]
     },
     "execution_count": 3,
     "metadata": {},
     "output_type": "execute_result"
    }
   ],
   "source": [
    "oof_lgb = pd.read_csv(f'/kaggle/output/{CFG[\"lgb_model\"][\"execution\"][\"best_exp_id\"]}/oof.csv')\n",
    "oof_lgb.head()"
   ]
  },
  {
   "cell_type": "code",
   "execution_count": 4,
   "metadata": {},
   "outputs": [
    {
     "data": {
      "text/html": [
       "<div>\n",
       "<style scoped>\n",
       "    .dataframe tbody tr th:only-of-type {\n",
       "        vertical-align: middle;\n",
       "    }\n",
       "\n",
       "    .dataframe tbody tr th {\n",
       "        vertical-align: top;\n",
       "    }\n",
       "\n",
       "    .dataframe thead th {\n",
       "        text-align: right;\n",
       "    }\n",
       "</style>\n",
       "<table border=\"1\" class=\"dataframe\">\n",
       "  <thead>\n",
       "    <tr style=\"text-align: right;\">\n",
       "      <th></th>\n",
       "      <th>series_id</th>\n",
       "      <th>step</th>\n",
       "      <th>wakeup_oof</th>\n",
       "      <th>onset_oof</th>\n",
       "    </tr>\n",
       "  </thead>\n",
       "  <tbody>\n",
       "    <tr>\n",
       "      <th>0</th>\n",
       "      <td>05e1944c3818</td>\n",
       "      <td>6</td>\n",
       "      <td>0.004654</td>\n",
       "      <td>0.000332</td>\n",
       "    </tr>\n",
       "    <tr>\n",
       "      <th>1</th>\n",
       "      <td>05e1944c3818</td>\n",
       "      <td>18</td>\n",
       "      <td>0.003008</td>\n",
       "      <td>0.000308</td>\n",
       "    </tr>\n",
       "    <tr>\n",
       "      <th>2</th>\n",
       "      <td>05e1944c3818</td>\n",
       "      <td>30</td>\n",
       "      <td>0.002308</td>\n",
       "      <td>0.000296</td>\n",
       "    </tr>\n",
       "    <tr>\n",
       "      <th>3</th>\n",
       "      <td>05e1944c3818</td>\n",
       "      <td>42</td>\n",
       "      <td>0.001987</td>\n",
       "      <td>0.000282</td>\n",
       "    </tr>\n",
       "    <tr>\n",
       "      <th>4</th>\n",
       "      <td>05e1944c3818</td>\n",
       "      <td>54</td>\n",
       "      <td>0.001864</td>\n",
       "      <td>0.000265</td>\n",
       "    </tr>\n",
       "  </tbody>\n",
       "</table>\n",
       "</div>"
      ],
      "text/plain": [
       "      series_id  step  wakeup_oof  onset_oof\n",
       "0  05e1944c3818     6    0.004654   0.000332\n",
       "1  05e1944c3818    18    0.003008   0.000308\n",
       "2  05e1944c3818    30    0.002308   0.000296\n",
       "3  05e1944c3818    42    0.001987   0.000282\n",
       "4  05e1944c3818    54    0.001864   0.000265"
      ]
     },
     "execution_count": 4,
     "metadata": {},
     "output_type": "execute_result"
    }
   ],
   "source": [
    "oof_gru = pd.read_parquet(f'/kaggle/output/{CFG[\"patch_transformer_gru\"][\"execution\"][\"best_exp_id\"]}/oof.parquet')\n",
    "oof_gru.head()"
   ]
  },
  {
   "cell_type": "code",
   "execution_count": 5,
   "metadata": {},
   "outputs": [
    {
     "data": {
      "text/html": [
       "<div>\n",
       "<style scoped>\n",
       "    .dataframe tbody tr th:only-of-type {\n",
       "        vertical-align: middle;\n",
       "    }\n",
       "\n",
       "    .dataframe tbody tr th {\n",
       "        vertical-align: top;\n",
       "    }\n",
       "\n",
       "    .dataframe thead th {\n",
       "        text-align: right;\n",
       "    }\n",
       "</style>\n",
       "<table border=\"1\" class=\"dataframe\">\n",
       "  <thead>\n",
       "    <tr style=\"text-align: right;\">\n",
       "      <th></th>\n",
       "      <th>series_id</th>\n",
       "      <th>step</th>\n",
       "      <th>wakeup_oof</th>\n",
       "      <th>onset_oof</th>\n",
       "    </tr>\n",
       "  </thead>\n",
       "  <tbody>\n",
       "    <tr>\n",
       "      <th>0</th>\n",
       "      <td>05e1944c3818</td>\n",
       "      <td>6</td>\n",
       "      <td>0.016133</td>\n",
       "      <td>0.000098</td>\n",
       "    </tr>\n",
       "    <tr>\n",
       "      <th>1</th>\n",
       "      <td>05e1944c3818</td>\n",
       "      <td>18</td>\n",
       "      <td>0.014258</td>\n",
       "      <td>0.000090</td>\n",
       "    </tr>\n",
       "    <tr>\n",
       "      <th>2</th>\n",
       "      <td>05e1944c3818</td>\n",
       "      <td>30</td>\n",
       "      <td>0.006009</td>\n",
       "      <td>0.000092</td>\n",
       "    </tr>\n",
       "    <tr>\n",
       "      <th>3</th>\n",
       "      <td>05e1944c3818</td>\n",
       "      <td>42</td>\n",
       "      <td>0.005559</td>\n",
       "      <td>0.000091</td>\n",
       "    </tr>\n",
       "    <tr>\n",
       "      <th>4</th>\n",
       "      <td>05e1944c3818</td>\n",
       "      <td>54</td>\n",
       "      <td>0.005457</td>\n",
       "      <td>0.000100</td>\n",
       "    </tr>\n",
       "  </tbody>\n",
       "</table>\n",
       "</div>"
      ],
      "text/plain": [
       "      series_id  step  wakeup_oof  onset_oof\n",
       "0  05e1944c3818     6    0.016133   0.000098\n",
       "1  05e1944c3818    18    0.014258   0.000090\n",
       "2  05e1944c3818    30    0.006009   0.000092\n",
       "3  05e1944c3818    42    0.005559   0.000091\n",
       "4  05e1944c3818    54    0.005457   0.000100"
      ]
     },
     "execution_count": 5,
     "metadata": {},
     "output_type": "execute_result"
    }
   ],
   "source": [
    "oof_wave = pd.read_parquet(f'/kaggle/output/{CFG[\"patch_wavenet_gru\"][\"execution\"][\"best_exp_id\"]}/oof.parquet')\n",
    "oof_wave.head()"
   ]
  },
  {
   "cell_type": "code",
   "execution_count": 6,
   "metadata": {},
   "outputs": [
    {
     "data": {
      "text/html": [
       "<div>\n",
       "<style scoped>\n",
       "    .dataframe tbody tr th:only-of-type {\n",
       "        vertical-align: middle;\n",
       "    }\n",
       "\n",
       "    .dataframe tbody tr th {\n",
       "        vertical-align: top;\n",
       "    }\n",
       "\n",
       "    .dataframe thead th {\n",
       "        text-align: right;\n",
       "    }\n",
       "</style>\n",
       "<table border=\"1\" class=\"dataframe\">\n",
       "  <thead>\n",
       "    <tr style=\"text-align: right;\">\n",
       "      <th></th>\n",
       "      <th>series_id</th>\n",
       "      <th>step</th>\n",
       "      <th>onset_oof</th>\n",
       "      <th>wakeup_oof</th>\n",
       "    </tr>\n",
       "  </thead>\n",
       "  <tbody>\n",
       "    <tr>\n",
       "      <th>0</th>\n",
       "      <td>05e1944c3818</td>\n",
       "      <td>0</td>\n",
       "      <td>0.033760</td>\n",
       "      <td>0.012846</td>\n",
       "    </tr>\n",
       "    <tr>\n",
       "      <th>1</th>\n",
       "      <td>05e1944c3818</td>\n",
       "      <td>1</td>\n",
       "      <td>0.026779</td>\n",
       "      <td>0.009975</td>\n",
       "    </tr>\n",
       "    <tr>\n",
       "      <th>2</th>\n",
       "      <td>05e1944c3818</td>\n",
       "      <td>2</td>\n",
       "      <td>0.012798</td>\n",
       "      <td>0.004220</td>\n",
       "    </tr>\n",
       "    <tr>\n",
       "      <th>3</th>\n",
       "      <td>05e1944c3818</td>\n",
       "      <td>3</td>\n",
       "      <td>0.005708</td>\n",
       "      <td>0.001657</td>\n",
       "    </tr>\n",
       "    <tr>\n",
       "      <th>4</th>\n",
       "      <td>05e1944c3818</td>\n",
       "      <td>4</td>\n",
       "      <td>0.005488</td>\n",
       "      <td>0.002279</td>\n",
       "    </tr>\n",
       "  </tbody>\n",
       "</table>\n",
       "</div>"
      ],
      "text/plain": [
       "      series_id  step  onset_oof  wakeup_oof\n",
       "0  05e1944c3818     0   0.033760    0.012846\n",
       "1  05e1944c3818     1   0.026779    0.009975\n",
       "2  05e1944c3818     2   0.012798    0.004220\n",
       "3  05e1944c3818     3   0.005708    0.001657\n",
       "4  05e1944c3818     4   0.005488    0.002279"
      ]
     },
     "execution_count": 6,
     "metadata": {},
     "output_type": "execute_result"
    }
   ],
   "source": [
    "oof_tubo_based = pd.read_parquet(f'/kaggle/output/tubo_based/exp019_oof.parquet')\n",
    "oof_tubo_based.head()"
   ]
  },
  {
   "cell_type": "code",
   "execution_count": 7,
   "metadata": {},
   "outputs": [
    {
     "name": "stderr",
     "output_type": "stream",
     "text": [
      "100%|██████████| 277/277 [05:42<00:00,  1.24s/it]\n"
     ]
    },
    {
     "data": {
      "text/plain": [
       "13"
      ]
     },
     "execution_count": 7,
     "metadata": {},
     "output_type": "execute_result"
    }
   ],
   "source": [
    "dfs = []\n",
    "for seires_id, df_tubo_based in tqdm(oof_tubo_based.groupby(\"series_id\")):\n",
    "    df_gru = oof_gru[oof_gru[\"series_id\"]==seires_id]\n",
    "    df_wave = oof_wave[oof_wave[\"series_id\"]==seires_id]\n",
    "    df_xgb = oof_xgb[oof_xgb[\"series_id\"]==seires_id]\n",
    "    df_lgb = oof_lgb[oof_lgb[\"series_id\"]==seires_id]\n",
    "    df = df_tubo_based\n",
    "\n",
    "    # tubo based\n",
    "    df[\"onset_oof_tubo_based\"] = df[\"onset_oof\"]\n",
    "    df[\"wakeup_oof_tubo_based\"] = df[\"wakeup_oof\"]    \n",
    "\n",
    "    # gru\n",
    "    df[\"onset_oof_gru\"] = df[\"step\"].map(df_gru.set_index(\"step\")[\"onset_oof\"]).interpolate(method=\"linear\", direction=\"both\", limit=12*10).fillna(0)\n",
    "    df[\"wakeup_oof_gru\"] = df[\"step\"].map(df_gru.set_index(\"step\")[\"wakeup_oof\"]).interpolate(method=\"linear\", direction=\"both\", limit=12*10).fillna(0)\n",
    "\n",
    "    # wave\n",
    "    df[\"onset_oof_wave\"] = df[\"step\"].map(df_wave.set_index(\"step\")[\"onset_oof\"]).interpolate(method=\"linear\", direction=\"both\", limit=12*10).fillna(0)\n",
    "    df[\"wakeup_oof_wave\"] = df[\"step\"].map(df_wave.set_index(\"step\")[\"wakeup_oof\"]).interpolate(method=\"linear\", direction=\"both\", limit=12*10).fillna(0)\n",
    "\n",
    "    # xgb\n",
    "    xgb_wakeup = df_xgb[df_xgb[\"event\"]==\"wakeup\"]\n",
    "    df[\"wakeup_oof_xgb\"] = df[\"step\"].map(xgb_wakeup.set_index(\"step\")[\"score\"]).interpolate(method=\"linear\", direction=\"both\", limit=12*10).fillna(0)\n",
    "    xgb_onset = df_xgb[df_xgb[\"event\"]==\"onset\"]\n",
    "    df[\"onset_oof_xgb\"] = df[\"step\"].map(xgb_onset.set_index(\"step\")[\"score\"]).interpolate(method=\"linear\", direction=\"both\", limit=12*10).fillna(0)\n",
    "\n",
    "    # lgb\n",
    "    lgb_wakeup = df_lgb[df_lgb[\"event\"]==\"wakeup\"]\n",
    "    df[\"wakeup_oof_lgb\"] = df[\"step\"].map(lgb_wakeup.set_index(\"step\")[\"score\"]).interpolate(method=\"linear\", direction=\"both\", limit=12*10).fillna(0)\n",
    "    lgb_onset = df_lgb[df_lgb[\"event\"]==\"onset\"]\n",
    "    df[\"onset_oof_lgb\"] = df[\"step\"].map(lgb_onset.set_index(\"step\")[\"score\"]).interpolate(method=\"linear\", direction=\"both\", limit=12*10).fillna(0)\n",
    "    \n",
    "    df[\"wakeup_oof\"] = (\n",
    "          df[\"wakeup_oof_gru\"] * 0.25 \n",
    "        + df[\"wakeup_oof_wave\"] * 0.25\n",
    "        + df[\"wakeup_oof_xgb\"] * 0.1 \n",
    "        + df[\"wakeup_oof_lgb\"] * 0.1\n",
    "        + df[\"wakeup_oof_tubo_based\"] * 0.3\n",
    "    )\n",
    "    df[\"onset_oof\"] = (\n",
    "          df[\"onset_oof_gru\"] * 0.25\n",
    "        + df[\"onset_oof_wave\"] * 0.25\n",
    "        + df[\"onset_oof_xgb\"] * 0.1 \n",
    "        + df[\"onset_oof_lgb\"] * 0.1 \n",
    "        + df[\"onset_oof_tubo_based\"] * 0.3\n",
    "    )\n",
    "\n",
    "    # df[\"wakeup_oof\"] = df[\"wakeup_oof_gru\"] * 0.6 + df[\"wakeup_oof_xgb\"] * 0.2 + df[\"wakeup_oof_lgb\"] * 0.2 * df[\"wakeup_oof_tubo_based\"] * 0\n",
    "    # df[\"onset_oof\"] = df[\"onset_oof_gru\"] * 0.6 + df[\"onset_oof_xgb\"] * 0.2 + df[\"onset_oof_lgb\"] * 0.2 * df[\"onset_oof_tubo_based\"] * 0\n",
    "\n",
    "    df = df[[\"series_id\", \"step\", \"wakeup_oof\", \"onset_oof\"]].reset_index(drop=True)\n",
    "    dfs.append(df)\n",
    "oof_df = pd.concat(dfs)\n",
    "oof_df = oof_df[oof_df[\"step\"] % 12 == 6]\n",
    "oof_df.to_csv(f'{CFG[\"output_dir\"]}/oof.csv', index=False)\n",
    "del dfs\n",
    "gc.collect()"
   ]
  },
  {
   "cell_type": "code",
   "execution_count": 8,
   "metadata": {},
   "outputs": [
    {
     "data": {
      "text/plain": [
       "3169086"
      ]
     },
     "execution_count": 8,
     "metadata": {},
     "output_type": "execute_result"
    },
    {
     "data": {
      "image/png": "[encoded data removed]",
      "text/plain": [
       "<Figure size 640x480 with 1 Axes>"
      ]
     },
     "metadata": {},
     "output_type": "display_data"
    }
   ],
   "source": [
    "dfs = []\n",
    "df = oof_df[[\"series_id\", \"step\", \"wakeup_oof\"]]\n",
    "df = df[df[\"wakeup_oof\"] > 0.005]\n",
    "df[\"event\"] = \"wakeup\"\n",
    "df[\"score\"] = df[\"wakeup_oof\"]\n",
    "dfs.append(df[['series_id', 'step', 'event', 'score']])\n",
    "\n",
    "df = oof_df[[\"series_id\", \"step\", \"onset_oof\"]]\n",
    "df = df[df[\"onset_oof\"] > 0.005]\n",
    "df[\"event\"] = \"onset\"\n",
    "df[\"score\"] = df[\"onset_oof\"]\n",
    "dfs.append(df[['series_id', 'step', 'event', 'score']])\n",
    "\n",
    "train = pd.concat(dfs).reset_index(drop=True)\n",
    "train[\"score\"].hist()\n",
    "len(train)"
   ]
  },
  {
   "cell_type": "code",
   "execution_count": 9,
   "metadata": {},
   "outputs": [
    {
     "name": "stderr",
     "output_type": "stream",
     "text": [
      "100%|██████████| 277/277 [00:07<00:00, 35.63it/s]\n"
     ]
    }
   ],
   "source": [
    "from multiprocessing import Pool\n",
    "\n",
    "groups = [group for _, group in train.groupby(\"series_id\")]\n",
    "with Pool(30) as p:  \n",
    "    results = list(tqdm(p.imap(dynamic_range_nms, groups), total=len(groups)))\n",
    "sub = pd.concat(results)\n",
    "sub[\"score\"] = sub[\"reduced_score\"]"
   ]
  },
  {
   "cell_type": "code",
   "execution_count": 10,
   "metadata": {},
   "outputs": [
    {
     "name": "stdout",
     "output_type": "stream",
     "text": [
      "score: 0.8198\n"
     ]
    },
    {
     "data": {
      "text/plain": [
       "event   tolerance\n",
       "onset   12           0.421458\n",
       "        36           0.746207\n",
       "        60           0.817123\n",
       "        90           0.850219\n",
       "        120          0.873552\n",
       "        150          0.883580\n",
       "        180          0.896306\n",
       "        240          0.906048\n",
       "        300          0.911743\n",
       "        360          0.917832\n",
       "wakeup  12           0.415936\n",
       "        36           0.747660\n",
       "        60           0.817369\n",
       "        90           0.843163\n",
       "        120          0.864074\n",
       "        150          0.873606\n",
       "        180          0.885196\n",
       "        240          0.897569\n",
       "        300          0.909277\n",
       "        360          0.917399\n",
       "dtype: float64"
      ]
     },
     "metadata": {},
     "output_type": "display_data"
    }
   ],
   "source": [
    "# スコア計算\n",
    "labels = pd.read_csv(f\"{CFG['dataset']['competition_dir']}/train_events.csv\").dropna()\n",
    "score, ap_table = compute_comptetition_metric(labels, sub)\n",
    "\n",
    "print(f\"score: {score:.4f}\")\n",
    "display(ap_table)\n",
    "sub.to_csv(os.path.join(CFG[\"output_dir\"], \"submission.csv\"), index=False)"
   ]
  },
  {
   "cell_type": "code",
   "execution_count": null,
   "metadata": {},
   "outputs": [],
   "source": []
  },
  {
   "cell_type": "code",
   "execution_count": null,
   "metadata": {},
   "outputs": [],
   "source": []
  },
  {
   "cell_type": "code",
   "execution_count": null,
   "metadata": {},
   "outputs": [],
   "source": []
  }
 ],
 "metadata": {
  "kernelspec": {
   "display_name": "base",
   "language": "python",
   "name": "python3"
  },
  "language_info": {
   "codemirror_mode": {
    "name": "ipython",
    "version": 3
   },
   "file_extension": ".py",
   "mimetype": "text/x-python",
   "name": "python",
   "nbconvert_exporter": "python",
   "pygments_lexer": "ipython3",
   "version": "3.10.10"
  }
 },
 "nbformat": 4,
 "nbformat_minor": 2
}
