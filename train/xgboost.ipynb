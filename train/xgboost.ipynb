{
 "cells": [
  {
   "cell_type": "code",
   "execution_count": 1,
   "metadata": {},
   "outputs": [
    {
     "name": "stderr",
     "output_type": "stream",
     "text": [
      "2023-11-15 14:36:55.752888: I tensorflow/core/platform/cpu_feature_guard.cc:193] This TensorFlow binary is optimized with oneAPI Deep Neural Network Library (oneDNN) to use the following CPU instructions in performance-critical operations:  AVX2 AVX_VNNI FMA\n",
      "To enable them in other operations, rebuild TensorFlow with the appropriate compiler flags.\n",
      "2023-11-15 14:36:56.164532: I tensorflow/core/util/port.cc:104] oneDNN custom operations are on. You may see slightly different numerical results due to floating-point round-off errors from different computation orders. To turn them off, set the environment variable `TF_ENABLE_ONEDNN_OPTS=0`.\n",
      "2023-11-15 14:36:57.346224: W tensorflow/compiler/xla/stream_executor/platform/default/dso_loader.cc:64] Could not load dynamic library 'libnvinfer.so.7'; dlerror: libnvinfer.so.7: cannot open shared object file: No such file or directory; LD_LIBRARY_PATH: /usr/local/cuda/lib64:/usr/local/cuda/lib:/usr/local/lib/x86_64-linux-gnu:/usr/local/nvidia/lib:/usr/local/nvidia/lib64:/usr/local/nvidia/lib:/usr/local/nvidia/lib64:/opt/conda/lib\n",
      "2023-11-15 14:36:57.346570: W tensorflow/compiler/xla/stream_executor/platform/default/dso_loader.cc:64] Could not load dynamic library 'libnvinfer_plugin.so.7'; dlerror: libnvinfer_plugin.so.7: cannot open shared object file: No such file or directory; LD_LIBRARY_PATH: /usr/local/cuda/lib64:/usr/local/cuda/lib:/usr/local/lib/x86_64-linux-gnu:/usr/local/nvidia/lib:/usr/local/nvidia/lib64:/usr/local/nvidia/lib:/usr/local/nvidia/lib64:/opt/conda/lib\n",
      "2023-11-15 14:36:57.346664: W tensorflow/compiler/tf2tensorrt/utils/py_utils.cc:38] TF-TRT Warning: Cannot dlopen some TensorRT libraries. If you would like to use Nvidia GPU with TensorRT, please make sure the missing libraries mentioned above are installed properly.\n"
     ]
    },
    {
     "name": "stdout",
     "output_type": "stream",
     "text": [
      "exp_138\n"
     ]
    }
   ],
   "source": [
    "import pandas as pd\n",
    "import yaml\n",
    "import sys\n",
    "import os\n",
    "from glob import glob\n",
    "from pathlib import Path\n",
    "import gc\n",
    "import pickle\n",
    "\n",
    "import warnings\n",
    "warnings.filterwarnings('ignore')\n",
    "\n",
    "sys.path.append('/kaggle/src')\n",
    "from utils.xgb import fit_xgb\n",
    "from utils.metric import compute_comptetition_metric\n",
    "from utils.set_seed import seed_base\n",
    "from feature_engineering.fe_xgb import generate_features\n",
    "\n",
    "MODEL_NAME = \"xgb_model\"\n",
    "PACKAGE_DIR = Path(\"/kaggle/src\")\n",
    "CFG = yaml.safe_load(open(PACKAGE_DIR / \"config.yaml\", \"r\"))\n",
    "print(CFG[MODEL_NAME][\"execution\"][\"exp_id\"])\n",
    "\n",
    "CFG[\"output_dir\"] = f\"/kaggle/output/{CFG[MODEL_NAME]['execution']['exp_id']}\"\n",
    "!rm -r {CFG[\"output_dir\"]}\n",
    "os.makedirs(CFG[\"output_dir\"], exist_ok=True)\n",
    "\n",
    "seed_base(CFG[\"env\"][\"seed\"])"
   ]
  },
  {
   "cell_type": "code",
   "execution_count": 2,
   "metadata": {},
   "outputs": [
    {
     "name": "stderr",
     "output_type": "stream",
     "text": [
      "generate features: 100%|██████████| 277/277 [13:13<00:00,  2.86s/it]\n"
     ]
    },
    {
     "data": {
      "text/html": [
       "<div>\n",
       "<style scoped>\n",
       "    .dataframe tbody tr th:only-of-type {\n",
       "        vertical-align: middle;\n",
       "    }\n",
       "\n",
       "    .dataframe tbody tr th {\n",
       "        vertical-align: top;\n",
       "    }\n",
       "\n",
       "    .dataframe thead th {\n",
       "        text-align: right;\n",
       "    }\n",
       "</style>\n",
       "<table border=\"1\" class=\"dataframe\">\n",
       "  <thead>\n",
       "    <tr style=\"text-align: right;\">\n",
       "      <th></th>\n",
       "      <th>anglez</th>\n",
       "      <th>anglez_diff_abs</th>\n",
       "      <th>anglez_diff_abs_clip5</th>\n",
       "      <th>anglez_mean</th>\n",
       "      <th>enmo</th>\n",
       "      <th>enmo_diff_abs</th>\n",
       "      <th>enmo_mean</th>\n",
       "      <th>minutes</th>\n",
       "      <th>onset_oof</th>\n",
       "      <th>onset_oof_diff_abs</th>\n",
       "      <th>...</th>\n",
       "      <th>wakeup_oof_rolling_median_100_shift_1000</th>\n",
       "      <th>enmo_rolling_square_mean_100_shift_1000</th>\n",
       "      <th>anglez_diff_abs_clip5_rolling_square_mean_100_shift_1000</th>\n",
       "      <th>enmo_std_rolling_square_mean_100_shift_1000</th>\n",
       "      <th>anglez_diff_abs_clip5_std_rolling_square_mean_100_shift_1000</th>\n",
       "      <th>same_count_rolling_square_mean_100_shift_1000</th>\n",
       "      <th>onset_oof_rolling_square_mean_100_shift_1000</th>\n",
       "      <th>wakeup_oof_rolling_square_mean_100_shift_1000</th>\n",
       "      <th>reduce_step</th>\n",
       "      <th>fold</th>\n",
       "    </tr>\n",
       "  </thead>\n",
       "  <tbody>\n",
       "    <tr>\n",
       "      <th>27</th>\n",
       "      <td>-88.1875</td>\n",
       "      <td>0.085938</td>\n",
       "      <td>0.085938</td>\n",
       "      <td>-12.085938</td>\n",
       "      <td>0.029175</td>\n",
       "      <td>0.000293</td>\n",
       "      <td>0.030487</td>\n",
       "      <td>597.5</td>\n",
       "      <td>0.000102</td>\n",
       "      <td>4.172325e-07</td>\n",
       "      <td>...</td>\n",
       "      <td>NaN</td>\n",
       "      <td>NaN</td>\n",
       "      <td>NaN</td>\n",
       "      <td>NaN</td>\n",
       "      <td>NaN</td>\n",
       "      <td>NaN</td>\n",
       "      <td>NaN</td>\n",
       "      <td>NaN</td>\n",
       "      <td>659</td>\n",
       "      <td>3</td>\n",
       "    </tr>\n",
       "    <tr>\n",
       "      <th>28</th>\n",
       "      <td>-88.5000</td>\n",
       "      <td>0.101562</td>\n",
       "      <td>0.101562</td>\n",
       "      <td>-7.546875</td>\n",
       "      <td>0.029114</td>\n",
       "      <td>0.000434</td>\n",
       "      <td>0.051453</td>\n",
       "      <td>717.5</td>\n",
       "      <td>0.000112</td>\n",
       "      <td>3.576279e-07</td>\n",
       "      <td>...</td>\n",
       "      <td>NaN</td>\n",
       "      <td>NaN</td>\n",
       "      <td>NaN</td>\n",
       "      <td>NaN</td>\n",
       "      <td>NaN</td>\n",
       "      <td>NaN</td>\n",
       "      <td>NaN</td>\n",
       "      <td>NaN</td>\n",
       "      <td>683</td>\n",
       "      <td>3</td>\n",
       "    </tr>\n",
       "    <tr>\n",
       "      <th>29</th>\n",
       "      <td>-89.2500</td>\n",
       "      <td>0.052094</td>\n",
       "      <td>0.052094</td>\n",
       "      <td>-10.070312</td>\n",
       "      <td>0.029861</td>\n",
       "      <td>0.000266</td>\n",
       "      <td>0.104065</td>\n",
       "      <td>837.5</td>\n",
       "      <td>0.000122</td>\n",
       "      <td>4.768372e-07</td>\n",
       "      <td>...</td>\n",
       "      <td>NaN</td>\n",
       "      <td>NaN</td>\n",
       "      <td>NaN</td>\n",
       "      <td>NaN</td>\n",
       "      <td>NaN</td>\n",
       "      <td>NaN</td>\n",
       "      <td>NaN</td>\n",
       "      <td>NaN</td>\n",
       "      <td>707</td>\n",
       "      <td>3</td>\n",
       "    </tr>\n",
       "    <tr>\n",
       "      <th>30</th>\n",
       "      <td>-87.4375</td>\n",
       "      <td>0.151001</td>\n",
       "      <td>0.151001</td>\n",
       "      <td>-0.726562</td>\n",
       "      <td>0.029465</td>\n",
       "      <td>0.000533</td>\n",
       "      <td>0.095032</td>\n",
       "      <td>957.5</td>\n",
       "      <td>0.000140</td>\n",
       "      <td>9.536743e-07</td>\n",
       "      <td>...</td>\n",
       "      <td>NaN</td>\n",
       "      <td>NaN</td>\n",
       "      <td>NaN</td>\n",
       "      <td>NaN</td>\n",
       "      <td>NaN</td>\n",
       "      <td>NaN</td>\n",
       "      <td>NaN</td>\n",
       "      <td>NaN</td>\n",
       "      <td>731</td>\n",
       "      <td>3</td>\n",
       "    </tr>\n",
       "    <tr>\n",
       "      <th>31</th>\n",
       "      <td>-86.2500</td>\n",
       "      <td>0.174438</td>\n",
       "      <td>0.174438</td>\n",
       "      <td>-5.722656</td>\n",
       "      <td>0.030289</td>\n",
       "      <td>0.001756</td>\n",
       "      <td>0.092041</td>\n",
       "      <td>1078.0</td>\n",
       "      <td>0.000154</td>\n",
       "      <td>9.536743e-07</td>\n",
       "      <td>...</td>\n",
       "      <td>NaN</td>\n",
       "      <td>NaN</td>\n",
       "      <td>NaN</td>\n",
       "      <td>NaN</td>\n",
       "      <td>NaN</td>\n",
       "      <td>NaN</td>\n",
       "      <td>NaN</td>\n",
       "      <td>NaN</td>\n",
       "      <td>755</td>\n",
       "      <td>3</td>\n",
       "    </tr>\n",
       "  </tbody>\n",
       "</table>\n",
       "<p>5 rows × 2279 columns</p>\n",
       "</div>"
      ],
      "text/plain": [
       "     anglez  anglez_diff_abs  anglez_diff_abs_clip5  anglez_mean      enmo  \\\n",
       "27 -88.1875         0.085938               0.085938   -12.085938  0.029175   \n",
       "28 -88.5000         0.101562               0.101562    -7.546875  0.029114   \n",
       "29 -89.2500         0.052094               0.052094   -10.070312  0.029861   \n",
       "30 -87.4375         0.151001               0.151001    -0.726562  0.029465   \n",
       "31 -86.2500         0.174438               0.174438    -5.722656  0.030289   \n",
       "\n",
       "    enmo_diff_abs  enmo_mean  minutes  onset_oof  onset_oof_diff_abs  ...  \\\n",
       "27       0.000293   0.030487    597.5   0.000102        4.172325e-07  ...   \n",
       "28       0.000434   0.051453    717.5   0.000112        3.576279e-07  ...   \n",
       "29       0.000266   0.104065    837.5   0.000122        4.768372e-07  ...   \n",
       "30       0.000533   0.095032    957.5   0.000140        9.536743e-07  ...   \n",
       "31       0.001756   0.092041   1078.0   0.000154        9.536743e-07  ...   \n",
       "\n",
       "    wakeup_oof_rolling_median_100_shift_1000  \\\n",
       "27                                       NaN   \n",
       "28                                       NaN   \n",
       "29                                       NaN   \n",
       "30                                       NaN   \n",
       "31                                       NaN   \n",
       "\n",
       "    enmo_rolling_square_mean_100_shift_1000  \\\n",
       "27                                      NaN   \n",
       "28                                      NaN   \n",
       "29                                      NaN   \n",
       "30                                      NaN   \n",
       "31                                      NaN   \n",
       "\n",
       "    anglez_diff_abs_clip5_rolling_square_mean_100_shift_1000  \\\n",
       "27                                                NaN          \n",
       "28                                                NaN          \n",
       "29                                                NaN          \n",
       "30                                                NaN          \n",
       "31                                                NaN          \n",
       "\n",
       "    enmo_std_rolling_square_mean_100_shift_1000  \\\n",
       "27                                          NaN   \n",
       "28                                          NaN   \n",
       "29                                          NaN   \n",
       "30                                          NaN   \n",
       "31                                          NaN   \n",
       "\n",
       "    anglez_diff_abs_clip5_std_rolling_square_mean_100_shift_1000  \\\n",
       "27                                                NaN              \n",
       "28                                                NaN              \n",
       "29                                                NaN              \n",
       "30                                                NaN              \n",
       "31                                                NaN              \n",
       "\n",
       "    same_count_rolling_square_mean_100_shift_1000  \\\n",
       "27                                            NaN   \n",
       "28                                            NaN   \n",
       "29                                            NaN   \n",
       "30                                            NaN   \n",
       "31                                            NaN   \n",
       "\n",
       "    onset_oof_rolling_square_mean_100_shift_1000  \\\n",
       "27                                           NaN   \n",
       "28                                           NaN   \n",
       "29                                           NaN   \n",
       "30                                           NaN   \n",
       "31                                           NaN   \n",
       "\n",
       "    wakeup_oof_rolling_square_mean_100_shift_1000  reduce_step  fold  \n",
       "27                                            NaN          659     3  \n",
       "28                                            NaN          683     3  \n",
       "29                                            NaN          707     3  \n",
       "30                                            NaN          731     3  \n",
       "31                                            NaN          755     3  \n",
       "\n",
       "[5 rows x 2279 columns]"
      ]
     },
     "metadata": {},
     "output_type": "display_data"
    },
    {
     "data": {
      "text/plain": [
       "(471955, 2279)"
      ]
     },
     "execution_count": 2,
     "metadata": {},
     "output_type": "execute_result"
    }
   ],
   "source": [
    "# 特徴生成\n",
    "files = glob(f\"{CFG['dataset']['step_csv_dir']}/*.parquet\")\n",
    "train, features = generate_features(files)\n",
    "\n",
    "# cv splitとマージ\n",
    "cv_split = pd.read_csv(CFG['dataset']['cv_split_path'])\n",
    "train[\"fold\"] = train[\"series_id\"].map(cv_split.set_index(\"series_id\")[\"fold\"])\n",
    "display(train.head(5))\n",
    "train.shape"
   ]
  },
  {
   "cell_type": "code",
   "execution_count": 3,
   "metadata": {},
   "outputs": [
    {
     "name": "stderr",
     "output_type": "stream",
     "text": [
      "  0%|          | 0/5 [00:00<?, ?it/s]"
     ]
    },
    {
     "name": "stdout",
     "output_type": "stream",
     "text": [
      "== fold 0 ==\n",
      "[0]\teval-rmse:1.54607\n",
      "[100]\teval-rmse:1.08600\n",
      "[200]\teval-rmse:0.97673\n",
      "[300]\teval-rmse:0.94655\n",
      "[400]\teval-rmse:0.93742\n",
      "[500]\teval-rmse:0.93380\n",
      "[600]\teval-rmse:0.93173\n",
      "[700]\teval-rmse:0.93065\n",
      "[800]\teval-rmse:0.93009\n",
      "[900]\teval-rmse:0.92956\n",
      "[1000]\teval-rmse:0.92927\n",
      "[1100]\teval-rmse:0.92907\n",
      "[1200]\teval-rmse:0.92890\n",
      "[1300]\teval-rmse:0.92875\n",
      "[1400]\teval-rmse:0.92871\n",
      "[1500]\teval-rmse:0.92847\n",
      "[1600]\teval-rmse:0.92832\n",
      "[1700]\teval-rmse:0.92838\n",
      "[1800]\teval-rmse:0.92837\n",
      "[1839]\teval-rmse:0.92841\n"
     ]
    },
    {
     "name": "stderr",
     "output_type": "stream",
     "text": [
      " 20%|██        | 1/5 [02:32<10:11, 152.85s/it]"
     ]
    },
    {
     "name": "stdout",
     "output_type": "stream",
     "text": [
      "== fold 1 ==\n",
      "[0]\teval-rmse:1.53484\n",
      "[100]\teval-rmse:1.06435\n",
      "[200]\teval-rmse:0.97718\n",
      "[300]\teval-rmse:0.96213\n",
      "[400]\teval-rmse:0.95918\n",
      "[500]\teval-rmse:0.95842\n",
      "[600]\teval-rmse:0.95782\n",
      "[700]\teval-rmse:0.95723\n",
      "[800]\teval-rmse:0.95651\n",
      "[900]\teval-rmse:0.95591\n",
      "[1000]\teval-rmse:0.95547\n",
      "[1100]\teval-rmse:0.95520\n",
      "[1200]\teval-rmse:0.95493\n",
      "[1300]\teval-rmse:0.95462\n",
      "[1400]\teval-rmse:0.95450\n",
      "[1500]\teval-rmse:0.95427\n",
      "[1600]\teval-rmse:0.95411\n",
      "[1700]\teval-rmse:0.95402\n",
      "[1800]\teval-rmse:0.95394\n",
      "[1900]\teval-rmse:0.95380\n",
      "[2000]\teval-rmse:0.95369\n",
      "[2100]\teval-rmse:0.95356\n",
      "[2200]\teval-rmse:0.95348\n",
      "[2300]\teval-rmse:0.95353\n",
      "[2381]\teval-rmse:0.95353\n"
     ]
    },
    {
     "name": "stderr",
     "output_type": "stream",
     "text": [
      " 40%|████      | 2/5 [05:45<08:49, 176.38s/it]"
     ]
    },
    {
     "name": "stdout",
     "output_type": "stream",
     "text": [
      "== fold 2 ==\n",
      "[0]\teval-rmse:1.59479\n",
      "[100]\teval-rmse:1.12884\n",
      "[200]\teval-rmse:1.04813\n",
      "[300]\teval-rmse:1.03387\n",
      "[400]\teval-rmse:1.02912\n",
      "[500]\teval-rmse:1.02658\n",
      "[600]\teval-rmse:1.02540\n",
      "[700]\teval-rmse:1.02493\n",
      "[800]\teval-rmse:1.02433\n",
      "[900]\teval-rmse:1.02403\n",
      "[1000]\teval-rmse:1.02380\n",
      "[1100]\teval-rmse:1.02360\n",
      "[1200]\teval-rmse:1.02333\n",
      "[1300]\teval-rmse:1.02331\n",
      "[1400]\teval-rmse:1.02334\n",
      "[1500]\teval-rmse:1.02324\n",
      "[1600]\teval-rmse:1.02322\n",
      "[1700]\teval-rmse:1.02305\n",
      "[1800]\teval-rmse:1.02294\n",
      "[1900]\teval-rmse:1.02281\n",
      "[2000]\teval-rmse:1.02273\n",
      "[2100]\teval-rmse:1.02274\n",
      "[2200]\teval-rmse:1.02286\n",
      "[2227]\teval-rmse:1.02283\n"
     ]
    },
    {
     "name": "stderr",
     "output_type": "stream",
     "text": [
      " 60%|██████    | 3/5 [08:50<06:00, 180.07s/it]"
     ]
    },
    {
     "name": "stdout",
     "output_type": "stream",
     "text": [
      "== fold 3 ==\n",
      "[0]\teval-rmse:1.57076\n",
      "[100]\teval-rmse:1.10747\n",
      "[200]\teval-rmse:1.00664\n",
      "[300]\teval-rmse:0.98351\n",
      "[400]\teval-rmse:0.97826\n",
      "[500]\teval-rmse:0.97625\n",
      "[600]\teval-rmse:0.97527\n",
      "[700]\teval-rmse:0.97441\n",
      "[800]\teval-rmse:0.97414\n",
      "[900]\teval-rmse:0.97378\n",
      "[1000]\teval-rmse:0.97353\n",
      "[1100]\teval-rmse:0.97315\n",
      "[1200]\teval-rmse:0.97252\n",
      "[1300]\teval-rmse:0.97238\n",
      "[1400]\teval-rmse:0.97223\n",
      "[1500]\teval-rmse:0.97195\n",
      "[1600]\teval-rmse:0.97160\n",
      "[1700]\teval-rmse:0.97144\n",
      "[1800]\teval-rmse:0.97125\n",
      "[1900]\teval-rmse:0.97126\n",
      "[2000]\teval-rmse:0.97134\n",
      "[2100]\teval-rmse:0.97127\n",
      "[2200]\teval-rmse:0.97113\n",
      "[2300]\teval-rmse:0.97111\n",
      "[2400]\teval-rmse:0.97100\n",
      "[2500]\teval-rmse:0.97110\n",
      "[2572]\teval-rmse:0.97111\n"
     ]
    },
    {
     "name": "stderr",
     "output_type": "stream",
     "text": [
      " 80%|████████  | 4/5 [12:14<03:09, 189.85s/it]"
     ]
    },
    {
     "name": "stdout",
     "output_type": "stream",
     "text": [
      "== fold 4 ==\n",
      "[0]\teval-rmse:1.58985\n",
      "[100]\teval-rmse:1.09245\n",
      "[200]\teval-rmse:0.99835\n",
      "[300]\teval-rmse:0.98281\n",
      "[400]\teval-rmse:0.97968\n",
      "[500]\teval-rmse:0.97865\n",
      "[600]\teval-rmse:0.97854\n",
      "[700]\teval-rmse:0.97839\n",
      "[800]\teval-rmse:0.97840\n",
      "[900]\teval-rmse:0.97833\n",
      "[1000]\teval-rmse:0.97829\n",
      "[1074]\teval-rmse:0.97832\n"
     ]
    },
    {
     "name": "stderr",
     "output_type": "stream",
     "text": [
      "100%|██████████| 5/5 [13:47<00:00, 165.40s/it]\n",
      "  0%|          | 0/5 [00:00<?, ?it/s]"
     ]
    },
    {
     "name": "stdout",
     "output_type": "stream",
     "text": [
      "== fold 0 ==\n",
      "[0]\teval-rmse:1.54550\n",
      "[100]\teval-rmse:1.05204\n",
      "[200]\teval-rmse:0.94473\n",
      "[300]\teval-rmse:0.92165\n",
      "[400]\teval-rmse:0.91562\n",
      "[500]\teval-rmse:0.91323\n",
      "[600]\teval-rmse:0.91253\n",
      "[700]\teval-rmse:0.91260\n",
      "[800]\teval-rmse:0.91278\n",
      "[802]\teval-rmse:0.91278\n"
     ]
    },
    {
     "name": "stderr",
     "output_type": "stream",
     "text": [
      " 20%|██        | 1/5 [01:10<04:42, 70.58s/it]"
     ]
    },
    {
     "name": "stdout",
     "output_type": "stream",
     "text": [
      "== fold 1 ==\n",
      "[0]\teval-rmse:1.53416\n",
      "[100]\teval-rmse:1.03138\n",
      "[200]\teval-rmse:0.92659\n",
      "[300]\teval-rmse:0.90398\n",
      "[400]\teval-rmse:0.89809\n",
      "[500]\teval-rmse:0.89559\n",
      "[600]\teval-rmse:0.89401\n",
      "[700]\teval-rmse:0.89350\n",
      "[800]\teval-rmse:0.89290\n",
      "[900]\teval-rmse:0.89255\n",
      "[1000]\teval-rmse:0.89224\n",
      "[1100]\teval-rmse:0.89206\n",
      "[1200]\teval-rmse:0.89178\n",
      "[1300]\teval-rmse:0.89163\n",
      "[1400]\teval-rmse:0.89151\n",
      "[1500]\teval-rmse:0.89149\n",
      "[1600]\teval-rmse:0.89147\n",
      "[1700]\teval-rmse:0.89145\n",
      "[1800]\teval-rmse:0.89146\n",
      "[1830]\teval-rmse:0.89150\n"
     ]
    },
    {
     "name": "stderr",
     "output_type": "stream",
     "text": [
      " 40%|████      | 2/5 [03:40<05:51, 117.12s/it]"
     ]
    },
    {
     "name": "stdout",
     "output_type": "stream",
     "text": [
      "== fold 2 ==\n",
      "[0]\teval-rmse:1.59517\n",
      "[100]\teval-rmse:1.17465\n",
      "[200]\teval-rmse:1.08112\n",
      "[300]\teval-rmse:1.05587\n",
      "[400]\teval-rmse:1.04808\n",
      "[500]\teval-rmse:1.04418\n",
      "[600]\teval-rmse:1.04292\n",
      "[700]\teval-rmse:1.04311\n",
      "[773]\teval-rmse:1.04309\n"
     ]
    },
    {
     "name": "stderr",
     "output_type": "stream",
     "text": [
      " 60%|██████    | 3/5 [04:48<03:09, 94.93s/it] "
     ]
    },
    {
     "name": "stdout",
     "output_type": "stream",
     "text": [
      "== fold 3 ==\n",
      "[0]\teval-rmse:1.56281\n",
      "[100]\teval-rmse:1.10743\n",
      "[200]\teval-rmse:1.02262\n",
      "[300]\teval-rmse:1.00794\n",
      "[400]\teval-rmse:1.00566\n",
      "[500]\teval-rmse:1.00550\n",
      "[600]\teval-rmse:1.00529\n",
      "[700]\teval-rmse:1.00510\n",
      "[800]\teval-rmse:1.00484\n",
      "[900]\teval-rmse:1.00478\n",
      "[1000]\teval-rmse:1.00485\n",
      "[1085]\teval-rmse:1.00491\n"
     ]
    },
    {
     "name": "stderr",
     "output_type": "stream",
     "text": [
      " 80%|████████  | 4/5 [06:21<01:34, 94.20s/it]"
     ]
    },
    {
     "name": "stdout",
     "output_type": "stream",
     "text": [
      "== fold 4 ==\n",
      "[0]\teval-rmse:1.58600\n",
      "[100]\teval-rmse:1.13193\n",
      "[200]\teval-rmse:1.04315\n",
      "[300]\teval-rmse:1.02326\n",
      "[400]\teval-rmse:1.01856\n",
      "[500]\teval-rmse:1.01700\n",
      "[600]\teval-rmse:1.01645\n",
      "[700]\teval-rmse:1.01627\n",
      "[800]\teval-rmse:1.01619\n",
      "[900]\teval-rmse:1.01614\n",
      "[1000]\teval-rmse:1.01618\n",
      "[1100]\teval-rmse:1.01614\n",
      "[1200]\teval-rmse:1.01622\n",
      "[1300]\teval-rmse:1.01603\n",
      "[1400]\teval-rmse:1.01615\n",
      "[1497]\teval-rmse:1.01610\n"
     ]
    },
    {
     "name": "stderr",
     "output_type": "stream",
     "text": [
      "100%|██████████| 5/5 [08:23<00:00, 100.77s/it]\n"
     ]
    }
   ],
   "source": [
    "# 学習\n",
    "dfs = []\n",
    "for event in [\"wakeup\", \"onset\"]:\n",
    "    trn_oof, models = fit_xgb(\n",
    "        X=train, \n",
    "        y=train[f\"{event}_target\"], \n",
    "        folds=train[\"fold\"].astype(int), \n",
    "        features=features.all_features(),\n",
    "        params=CFG[MODEL_NAME][\"xgboost\"], \n",
    "        es_rounds=200,\n",
    "    )\n",
    "    train[\"score\"] = trn_oof\n",
    "    train[\"event\"] = event\n",
    "    dfs.append(train[[\"series_id\", \"step\", \"score\", \"event\"]])\n",
    "\n",
    "    # 保存\n",
    "    for i, model in enumerate(models):\n",
    "        model.save_model(os.path.join(CFG[\"output_dir\"], f'xgb_{event}_fold_{i}.model'))\n",
    "del train\n",
    "gc.collect()\n",
    "train = pd.concat(dfs, axis=0)\n",
    "train[\"step\"] = train[\"step\"].astype(int)\n",
    "train = train.sort_values([\"series_id\", \"step\"]).reset_index(drop=True)\n",
    "\n",
    "\n",
    "with open(os.path.join(CFG[\"output_dir\"], \"features.pkl\"), \"wb\") as f:\n",
    "    pickle.dump(features, f)\n",
    "train.to_csv(os.path.join(CFG[\"output_dir\"], \"oof.csv\"), index=False)"
   ]
  },
  {
   "cell_type": "markdown",
   "metadata": {},
   "source": [
    "## Dynamic-Range NMS"
   ]
  },
  {
   "cell_type": "code",
   "execution_count": 4,
   "metadata": {},
   "outputs": [
    {
     "data": {
      "text/plain": [
       "<AxesSubplot: >"
      ]
     },
     "execution_count": 4,
     "metadata": {},
     "output_type": "execute_result"
    },
    {
     "data": {
      "image/png": "[encoded data removed]",
      "text/plain": [
       "<Figure size 640x480 with 1 Axes>"
      ]
     },
     "metadata": {},
     "output_type": "display_data"
    }
   ],
   "source": [
    "train = train[train[\"score\"] > 0.005]\n",
    "train[\"score\"].hist()"
   ]
  },
  {
   "cell_type": "code",
   "execution_count": 5,
   "metadata": {},
   "outputs": [
    {
     "name": "stderr",
     "output_type": "stream",
     "text": [
      "100%|██████████| 277/277 [00:05<00:00, 51.25it/s]\n"
     ]
    }
   ],
   "source": [
    "from utils.postprocess import dynamic_range_nms\n",
    "from multiprocessing import Pool\n",
    "from tqdm import tqdm\n",
    "\n",
    "train[\"step\"] = train[\"step\"].astype(int)\n",
    "\n",
    "groups = [group for _, group in train.groupby(\"series_id\")]\n",
    "with Pool(30) as p:  \n",
    "    results = list(tqdm(p.imap(dynamic_range_nms, groups), total=len(groups)))\n",
    "sub = pd.concat(results)\n",
    "sub[\"score\"] = sub[\"reduced_score\"]"
   ]
  },
  {
   "cell_type": "code",
   "execution_count": 6,
   "metadata": {},
   "outputs": [
    {
     "name": "stdout",
     "output_type": "stream",
     "text": [
      "score: 0.7964\n"
     ]
    },
    {
     "data": {
      "text/plain": [
       "event   tolerance\n",
       "onset   12           0.310222\n",
       "        36           0.711488\n",
       "        60           0.797291\n",
       "        90           0.839200\n",
       "        120          0.854720\n",
       "        150          0.866866\n",
       "        180          0.877041\n",
       "        240          0.889488\n",
       "        300          0.895389\n",
       "        360          0.901688\n",
       "wakeup  12           0.278617\n",
       "        36           0.732723\n",
       "        60           0.810244\n",
       "        90           0.839945\n",
       "        120          0.858416\n",
       "        150          0.870347\n",
       "        180          0.879978\n",
       "        240          0.894629\n",
       "        300          0.905367\n",
       "        360          0.914596\n",
       "dtype: float64"
      ]
     },
     "metadata": {},
     "output_type": "display_data"
    }
   ],
   "source": [
    "# スコア計算\n",
    "labels = pd.read_csv(f\"{CFG['dataset']['competition_dir']}/train_events.csv\").dropna()\n",
    "score, ap_table = compute_comptetition_metric(labels, sub)\n",
    "\n",
    "print(f\"score: {score:.4f}\")\n",
    "display(ap_table)\n",
    "sub.to_csv(os.path.join(CFG[\"output_dir\"], \"submission_after_nms.csv\"), index=False)"
   ]
  },
  {
   "cell_type": "code",
   "execution_count": null,
   "metadata": {},
   "outputs": [],
   "source": []
  },
  {
   "cell_type": "code",
   "execution_count": null,
   "metadata": {},
   "outputs": [],
   "source": []
  }
 ],
 "metadata": {
  "kernelspec": {
   "display_name": "base",
   "language": "python",
   "name": "python3"
  },
  "language_info": {
   "codemirror_mode": {
    "name": "ipython",
    "version": 3
   },
   "file_extension": ".py",
   "mimetype": "text/x-python",
   "name": "python",
   "nbconvert_exporter": "python",
   "pygments_lexer": "ipython3",
   "version": "3.10.10"
  },
  "orig_nbformat": 4
 },
 "nbformat": 4,
 "nbformat_minor": 2
}
