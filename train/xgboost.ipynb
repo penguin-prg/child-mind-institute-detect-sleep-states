{
 "cells": [
  {
   "cell_type": "code",
   "execution_count": 1,
   "metadata": {},
   "outputs": [
    {
     "name": "stderr",
     "output_type": "stream",
     "text": [
      "2023-11-01 05:07:04.640936: I tensorflow/core/platform/cpu_feature_guard.cc:193] This TensorFlow binary is optimized with oneAPI Deep Neural Network Library (oneDNN) to use the following CPU instructions in performance-critical operations:  AVX2 AVX_VNNI FMA\n",
      "To enable them in other operations, rebuild TensorFlow with the appropriate compiler flags.\n",
      "2023-11-01 05:07:04.702506: I tensorflow/core/util/port.cc:104] oneDNN custom operations are on. You may see slightly different numerical results due to floating-point round-off errors from different computation orders. To turn them off, set the environment variable `TF_ENABLE_ONEDNN_OPTS=0`.\n",
      "2023-11-01 05:07:05.116196: W tensorflow/compiler/xla/stream_executor/platform/default/dso_loader.cc:64] Could not load dynamic library 'libnvinfer.so.7'; dlerror: libnvinfer.so.7: cannot open shared object file: No such file or directory; LD_LIBRARY_PATH: /usr/local/cuda/lib64:/usr/local/cuda/lib:/usr/local/lib/x86_64-linux-gnu:/usr/local/nvidia/lib:/usr/local/nvidia/lib64:/usr/local/nvidia/lib:/usr/local/nvidia/lib64:/opt/conda/lib\n",
      "2023-11-01 05:07:05.116262: W tensorflow/compiler/xla/stream_executor/platform/default/dso_loader.cc:64] Could not load dynamic library 'libnvinfer_plugin.so.7'; dlerror: libnvinfer_plugin.so.7: cannot open shared object file: No such file or directory; LD_LIBRARY_PATH: /usr/local/cuda/lib64:/usr/local/cuda/lib:/usr/local/lib/x86_64-linux-gnu:/usr/local/nvidia/lib:/usr/local/nvidia/lib64:/usr/local/nvidia/lib:/usr/local/nvidia/lib64:/opt/conda/lib\n",
      "2023-11-01 05:07:05.116267: W tensorflow/compiler/tf2tensorrt/utils/py_utils.cc:38] TF-TRT Warning: Cannot dlopen some TensorRT libraries. If you would like to use Nvidia GPU with TensorRT, please make sure the missing libraries mentioned above are installed properly.\n"
     ]
    },
    {
     "name": "stdout",
     "output_type": "stream",
     "text": [
      "exp_113\n",
      "rm: cannot remove '/kaggle/output/exp_113': No such file or directory\n"
     ]
    }
   ],
   "source": [
    "import pandas as pd\n",
    "import yaml\n",
    "import sys\n",
    "import os\n",
    "from glob import glob\n",
    "from pathlib import Path\n",
    "import gc\n",
    "import pickle\n",
    "\n",
    "import warnings\n",
    "warnings.filterwarnings('ignore')\n",
    "\n",
    "sys.path.append('/kaggle/src')\n",
    "from utils.xgb import fit_xgb\n",
    "from utils.metric import compute_comptetition_metric\n",
    "from utils.postprocess import post_process\n",
    "from utils.set_seed import seed_base\n",
    "from feature_engineering.fe_xgb import generate_features\n",
    "\n",
    "MODEL_NAME = \"xgb_model\"\n",
    "PACKAGE_DIR = Path(\"/kaggle/src\")\n",
    "CFG = yaml.safe_load(open(PACKAGE_DIR / \"config.yaml\", \"r\"))\n",
    "print(CFG[MODEL_NAME][\"execution\"][\"exp_id\"])\n",
    "\n",
    "CFG[\"output_dir\"] = f\"/kaggle/output/{CFG[MODEL_NAME]['execution']['exp_id']}\"\n",
    "!rm -r {CFG[\"output_dir\"]}\n",
    "os.makedirs(CFG[\"output_dir\"], exist_ok=True)\n",
    "\n",
    "seed_base(CFG[\"env\"][\"seed\"])"
   ]
  },
  {
   "cell_type": "code",
   "execution_count": 2,
   "metadata": {},
   "outputs": [
    {
     "name": "stderr",
     "output_type": "stream",
     "text": [
      "generate features: 100%|██████████| 277/277 [04:26<00:00,  1.04it/s]\n"
     ]
    },
    {
     "data": {
      "text/html": [
       "<div>\n",
       "<style scoped>\n",
       "    .dataframe tbody tr th:only-of-type {\n",
       "        vertical-align: middle;\n",
       "    }\n",
       "\n",
       "    .dataframe tbody tr th {\n",
       "        vertical-align: top;\n",
       "    }\n",
       "\n",
       "    .dataframe thead th {\n",
       "        text-align: right;\n",
       "    }\n",
       "</style>\n",
       "<table border=\"1\" class=\"dataframe\">\n",
       "  <thead>\n",
       "    <tr style=\"text-align: right;\">\n",
       "      <th></th>\n",
       "      <th>anglez</th>\n",
       "      <th>anglez_diff_abs</th>\n",
       "      <th>anglez_diff_abs_clip5</th>\n",
       "      <th>anglez_mean</th>\n",
       "      <th>enmo</th>\n",
       "      <th>enmo_diff_abs</th>\n",
       "      <th>enmo_mean</th>\n",
       "      <th>minutes</th>\n",
       "      <th>same_count</th>\n",
       "      <th>total_seconds</th>\n",
       "      <th>...</th>\n",
       "      <th>enmo_rolling_median_100_shift_1000</th>\n",
       "      <th>anglez_diff_abs_clip5_rolling_median_100_shift_1000</th>\n",
       "      <th>enmo_std_rolling_median_100_shift_1000</th>\n",
       "      <th>anglez_diff_abs_clip5_std_rolling_median_100_shift_1000</th>\n",
       "      <th>enmo_rolling_square_mean_100_shift_1000</th>\n",
       "      <th>anglez_diff_abs_clip5_rolling_square_mean_100_shift_1000</th>\n",
       "      <th>enmo_std_rolling_square_mean_100_shift_1000</th>\n",
       "      <th>anglez_diff_abs_clip5_std_rolling_square_mean_100_shift_1000</th>\n",
       "      <th>reduce_step</th>\n",
       "      <th>fold</th>\n",
       "    </tr>\n",
       "  </thead>\n",
       "  <tbody>\n",
       "    <tr>\n",
       "      <th>926</th>\n",
       "      <td>21.070280</td>\n",
       "      <td>21.889490</td>\n",
       "      <td>4.451904</td>\n",
       "      <td>-20.794807</td>\n",
       "      <td>0.027129</td>\n",
       "      <td>0.014742</td>\n",
       "      <td>0.037067</td>\n",
       "      <td>477.5</td>\n",
       "      <td>0.0</td>\n",
       "      <td>68877.5</td>\n",
       "      <td>...</td>\n",
       "      <td>NaN</td>\n",
       "      <td>NaN</td>\n",
       "      <td>NaN</td>\n",
       "      <td>NaN</td>\n",
       "      <td>NaN</td>\n",
       "      <td>NaN</td>\n",
       "      <td>NaN</td>\n",
       "      <td>NaN</td>\n",
       "      <td>22235</td>\n",
       "      <td>3</td>\n",
       "    </tr>\n",
       "    <tr>\n",
       "      <th>927</th>\n",
       "      <td>-2.156629</td>\n",
       "      <td>17.598087</td>\n",
       "      <td>3.993946</td>\n",
       "      <td>-21.465599</td>\n",
       "      <td>0.091583</td>\n",
       "      <td>0.079287</td>\n",
       "      <td>0.072814</td>\n",
       "      <td>597.5</td>\n",
       "      <td>0.0</td>\n",
       "      <td>68997.5</td>\n",
       "      <td>...</td>\n",
       "      <td>NaN</td>\n",
       "      <td>NaN</td>\n",
       "      <td>NaN</td>\n",
       "      <td>NaN</td>\n",
       "      <td>NaN</td>\n",
       "      <td>NaN</td>\n",
       "      <td>NaN</td>\n",
       "      <td>NaN</td>\n",
       "      <td>22259</td>\n",
       "      <td>3</td>\n",
       "    </tr>\n",
       "    <tr>\n",
       "      <th>928</th>\n",
       "      <td>6.870979</td>\n",
       "      <td>16.874817</td>\n",
       "      <td>4.571238</td>\n",
       "      <td>-17.906569</td>\n",
       "      <td>0.048471</td>\n",
       "      <td>0.023354</td>\n",
       "      <td>0.085562</td>\n",
       "      <td>717.5</td>\n",
       "      <td>0.0</td>\n",
       "      <td>69117.5</td>\n",
       "      <td>...</td>\n",
       "      <td>NaN</td>\n",
       "      <td>NaN</td>\n",
       "      <td>NaN</td>\n",
       "      <td>NaN</td>\n",
       "      <td>NaN</td>\n",
       "      <td>NaN</td>\n",
       "      <td>NaN</td>\n",
       "      <td>NaN</td>\n",
       "      <td>22283</td>\n",
       "      <td>3</td>\n",
       "    </tr>\n",
       "    <tr>\n",
       "      <th>929</th>\n",
       "      <td>11.430203</td>\n",
       "      <td>8.910088</td>\n",
       "      <td>3.756421</td>\n",
       "      <td>-5.006313</td>\n",
       "      <td>0.029496</td>\n",
       "      <td>0.013204</td>\n",
       "      <td>0.031394</td>\n",
       "      <td>837.5</td>\n",
       "      <td>0.0</td>\n",
       "      <td>69237.5</td>\n",
       "      <td>...</td>\n",
       "      <td>NaN</td>\n",
       "      <td>NaN</td>\n",
       "      <td>NaN</td>\n",
       "      <td>NaN</td>\n",
       "      <td>NaN</td>\n",
       "      <td>NaN</td>\n",
       "      <td>NaN</td>\n",
       "      <td>NaN</td>\n",
       "      <td>22307</td>\n",
       "      <td>3</td>\n",
       "    </tr>\n",
       "    <tr>\n",
       "      <th>930</th>\n",
       "      <td>10.291650</td>\n",
       "      <td>2.129946</td>\n",
       "      <td>1.981583</td>\n",
       "      <td>-21.022831</td>\n",
       "      <td>0.003008</td>\n",
       "      <td>0.001954</td>\n",
       "      <td>0.058677</td>\n",
       "      <td>957.5</td>\n",
       "      <td>0.0</td>\n",
       "      <td>69357.5</td>\n",
       "      <td>...</td>\n",
       "      <td>NaN</td>\n",
       "      <td>NaN</td>\n",
       "      <td>NaN</td>\n",
       "      <td>NaN</td>\n",
       "      <td>NaN</td>\n",
       "      <td>NaN</td>\n",
       "      <td>NaN</td>\n",
       "      <td>NaN</td>\n",
       "      <td>22331</td>\n",
       "      <td>3</td>\n",
       "    </tr>\n",
       "  </tbody>\n",
       "</table>\n",
       "<p>5 rows × 1307 columns</p>\n",
       "</div>"
      ],
      "text/plain": [
       "        anglez  anglez_diff_abs  anglez_diff_abs_clip5  anglez_mean      enmo  \\\n",
       "926  21.070280        21.889490               4.451904   -20.794807  0.027129   \n",
       "927  -2.156629        17.598087               3.993946   -21.465599  0.091583   \n",
       "928   6.870979        16.874817               4.571238   -17.906569  0.048471   \n",
       "929  11.430203         8.910088               3.756421    -5.006313  0.029496   \n",
       "930  10.291650         2.129946               1.981583   -21.022831  0.003008   \n",
       "\n",
       "     enmo_diff_abs  enmo_mean  minutes  same_count  total_seconds  ...  \\\n",
       "926       0.014742   0.037067    477.5         0.0        68877.5  ...   \n",
       "927       0.079287   0.072814    597.5         0.0        68997.5  ...   \n",
       "928       0.023354   0.085562    717.5         0.0        69117.5  ...   \n",
       "929       0.013204   0.031394    837.5         0.0        69237.5  ...   \n",
       "930       0.001954   0.058677    957.5         0.0        69357.5  ...   \n",
       "\n",
       "     enmo_rolling_median_100_shift_1000  \\\n",
       "926                                 NaN   \n",
       "927                                 NaN   \n",
       "928                                 NaN   \n",
       "929                                 NaN   \n",
       "930                                 NaN   \n",
       "\n",
       "     anglez_diff_abs_clip5_rolling_median_100_shift_1000  \\\n",
       "926                                                NaN     \n",
       "927                                                NaN     \n",
       "928                                                NaN     \n",
       "929                                                NaN     \n",
       "930                                                NaN     \n",
       "\n",
       "     enmo_std_rolling_median_100_shift_1000  \\\n",
       "926                                     NaN   \n",
       "927                                     NaN   \n",
       "928                                     NaN   \n",
       "929                                     NaN   \n",
       "930                                     NaN   \n",
       "\n",
       "     anglez_diff_abs_clip5_std_rolling_median_100_shift_1000  \\\n",
       "926                                                NaN         \n",
       "927                                                NaN         \n",
       "928                                                NaN         \n",
       "929                                                NaN         \n",
       "930                                                NaN         \n",
       "\n",
       "     enmo_rolling_square_mean_100_shift_1000  \\\n",
       "926                                      NaN   \n",
       "927                                      NaN   \n",
       "928                                      NaN   \n",
       "929                                      NaN   \n",
       "930                                      NaN   \n",
       "\n",
       "     anglez_diff_abs_clip5_rolling_square_mean_100_shift_1000  \\\n",
       "926                                                NaN          \n",
       "927                                                NaN          \n",
       "928                                                NaN          \n",
       "929                                                NaN          \n",
       "930                                                NaN          \n",
       "\n",
       "     enmo_std_rolling_square_mean_100_shift_1000  \\\n",
       "926                                          NaN   \n",
       "927                                          NaN   \n",
       "928                                          NaN   \n",
       "929                                          NaN   \n",
       "930                                          NaN   \n",
       "\n",
       "     anglez_diff_abs_clip5_std_rolling_square_mean_100_shift_1000  \\\n",
       "926                                                NaN              \n",
       "927                                                NaN              \n",
       "928                                                NaN              \n",
       "929                                                NaN              \n",
       "930                                                NaN              \n",
       "\n",
       "     reduce_step  fold  \n",
       "926        22235     3  \n",
       "927        22259     3  \n",
       "928        22283     3  \n",
       "929        22307     3  \n",
       "930        22331     3  \n",
       "\n",
       "[5 rows x 1307 columns]"
      ]
     },
     "metadata": {},
     "output_type": "display_data"
    },
    {
     "data": {
      "text/plain": [
       "(494843, 1307)"
      ]
     },
     "execution_count": 2,
     "metadata": {},
     "output_type": "execute_result"
    }
   ],
   "source": [
    "# 特徴生成\n",
    "files = glob(f\"{CFG['dataset']['step_csv_dir']}/*.parquet\")\n",
    "train, features = generate_features(files)\n",
    "\n",
    "# cv splitとマージ\n",
    "cv_split = pd.read_csv(CFG['dataset']['cv_split_path'])\n",
    "train[\"fold\"] = train[\"series_id\"].map(cv_split.set_index(\"series_id\")[\"fold\"])\n",
    "display(train.head(5))\n",
    "train.shape"
   ]
  },
  {
   "cell_type": "code",
   "execution_count": 3,
   "metadata": {},
   "outputs": [
    {
     "name": "stderr",
     "output_type": "stream",
     "text": [
      "  0%|          | 0/5 [00:00<?, ?it/s]"
     ]
    },
    {
     "name": "stdout",
     "output_type": "stream",
     "text": [
      "== fold 0 ==\n",
      "[0]\teval-rmse:2.26589\n",
      "[100]\teval-rmse:1.40762\n",
      "[200]\teval-rmse:1.20935\n",
      "[300]\teval-rmse:1.16242\n",
      "[400]\teval-rmse:1.14806\n",
      "[500]\teval-rmse:1.14296\n",
      "[600]\teval-rmse:1.14058\n",
      "[700]\teval-rmse:1.13884\n",
      "[800]\teval-rmse:1.13769\n",
      "[900]\teval-rmse:1.13701\n",
      "[1000]\teval-rmse:1.13641\n",
      "[1100]\teval-rmse:1.13606\n",
      "[1200]\teval-rmse:1.13538\n",
      "[1300]\teval-rmse:1.13494\n",
      "[1400]\teval-rmse:1.13480\n",
      "[1500]\teval-rmse:1.13465\n",
      "[1600]\teval-rmse:1.13428\n",
      "[1700]\teval-rmse:1.13414\n",
      "[1800]\teval-rmse:1.13383\n",
      "[1864]\teval-rmse:1.13387\n"
     ]
    },
    {
     "name": "stderr",
     "output_type": "stream",
     "text": [
      " 20%|██        | 1/5 [01:19<05:16, 79.03s/it]"
     ]
    },
    {
     "name": "stdout",
     "output_type": "stream",
     "text": [
      "== fold 1 ==\n",
      "[0]\teval-rmse:2.39246\n",
      "[100]\teval-rmse:1.49524\n",
      "[200]\teval-rmse:1.28239\n",
      "[300]\teval-rmse:1.23192\n",
      "[400]\teval-rmse:1.21704\n",
      "[500]\teval-rmse:1.21154\n",
      "[600]\teval-rmse:1.20902\n",
      "[700]\teval-rmse:1.20780\n",
      "[800]\teval-rmse:1.20647\n",
      "[900]\teval-rmse:1.20587\n",
      "[1000]\teval-rmse:1.20542\n",
      "[1100]\teval-rmse:1.20497\n",
      "[1200]\teval-rmse:1.20488\n",
      "[1300]\teval-rmse:1.20446\n",
      "[1400]\teval-rmse:1.20412\n",
      "[1500]\teval-rmse:1.20362\n",
      "[1600]\teval-rmse:1.20358\n",
      "[1700]\teval-rmse:1.20341\n",
      "[1800]\teval-rmse:1.20317\n",
      "[1900]\teval-rmse:1.20278\n",
      "[2000]\teval-rmse:1.20236\n",
      "[2100]\teval-rmse:1.20216\n",
      "[2149]\teval-rmse:1.20224\n"
     ]
    },
    {
     "name": "stderr",
     "output_type": "stream",
     "text": [
      " 40%|████      | 2/5 [02:46<04:12, 84.11s/it]"
     ]
    },
    {
     "name": "stdout",
     "output_type": "stream",
     "text": [
      "== fold 2 ==\n",
      "[0]\teval-rmse:2.34467\n",
      "[100]\teval-rmse:1.50492\n",
      "[200]\teval-rmse:1.30033\n",
      "[300]\teval-rmse:1.25173\n",
      "[400]\teval-rmse:1.23765\n",
      "[500]\teval-rmse:1.23238\n",
      "[600]\teval-rmse:1.23017\n",
      "[700]\teval-rmse:1.22880\n",
      "[800]\teval-rmse:1.22779\n",
      "[900]\teval-rmse:1.22704\n",
      "[1000]\teval-rmse:1.22670\n",
      "[1100]\teval-rmse:1.22616\n",
      "[1200]\teval-rmse:1.22601\n",
      "[1300]\teval-rmse:1.22599\n",
      "[1400]\teval-rmse:1.22562\n",
      "[1500]\teval-rmse:1.22579\n",
      "[1514]\teval-rmse:1.22587\n"
     ]
    },
    {
     "name": "stderr",
     "output_type": "stream",
     "text": [
      " 60%|██████    | 3/5 [03:50<02:29, 74.85s/it]"
     ]
    },
    {
     "name": "stdout",
     "output_type": "stream",
     "text": [
      "== fold 3 ==\n",
      "[0]\teval-rmse:2.28641\n",
      "[100]\teval-rmse:1.40414\n",
      "[200]\teval-rmse:1.18844\n",
      "[300]\teval-rmse:1.13768\n",
      "[400]\teval-rmse:1.12346\n",
      "[500]\teval-rmse:1.11914\n",
      "[600]\teval-rmse:1.11666\n",
      "[700]\teval-rmse:1.11527\n",
      "[800]\teval-rmse:1.11448\n",
      "[900]\teval-rmse:1.11361\n",
      "[1000]\teval-rmse:1.11336\n",
      "[1100]\teval-rmse:1.11296\n",
      "[1200]\teval-rmse:1.11274\n",
      "[1300]\teval-rmse:1.11273\n",
      "[1400]\teval-rmse:1.11258\n",
      "[1500]\teval-rmse:1.11252\n",
      "[1600]\teval-rmse:1.11261\n",
      "[1613]\teval-rmse:1.11254\n"
     ]
    },
    {
     "name": "stderr",
     "output_type": "stream",
     "text": [
      " 80%|████████  | 4/5 [04:56<01:11, 71.30s/it]"
     ]
    },
    {
     "name": "stdout",
     "output_type": "stream",
     "text": [
      "== fold 4 ==\n",
      "[0]\teval-rmse:2.26721\n",
      "[100]\teval-rmse:1.43197\n",
      "[200]\teval-rmse:1.23487\n",
      "[300]\teval-rmse:1.18890\n",
      "[400]\teval-rmse:1.17606\n",
      "[500]\teval-rmse:1.17017\n",
      "[600]\teval-rmse:1.16768\n",
      "[700]\teval-rmse:1.16619\n",
      "[800]\teval-rmse:1.16546\n",
      "[900]\teval-rmse:1.16514\n",
      "[1000]\teval-rmse:1.16493\n",
      "[1100]\teval-rmse:1.16494\n",
      "[1118]\teval-rmse:1.16489\n"
     ]
    },
    {
     "name": "stderr",
     "output_type": "stream",
     "text": [
      "100%|██████████| 5/5 [05:45<00:00, 69.01s/it]\n",
      "  0%|          | 0/5 [00:00<?, ?it/s]"
     ]
    },
    {
     "name": "stdout",
     "output_type": "stream",
     "text": [
      "== fold 0 ==\n",
      "[0]\teval-rmse:2.27003\n",
      "[100]\teval-rmse:1.42913\n",
      "[200]\teval-rmse:1.22360\n",
      "[300]\teval-rmse:1.17362\n",
      "[400]\teval-rmse:1.15661\n",
      "[500]\teval-rmse:1.15057\n",
      "[600]\teval-rmse:1.14630\n",
      "[700]\teval-rmse:1.14418\n",
      "[800]\teval-rmse:1.14329\n",
      "[900]\teval-rmse:1.14227\n",
      "[1000]\teval-rmse:1.14164\n",
      "[1100]\teval-rmse:1.14102\n",
      "[1200]\teval-rmse:1.14039\n",
      "[1300]\teval-rmse:1.13985\n",
      "[1400]\teval-rmse:1.13927\n",
      "[1500]\teval-rmse:1.13873\n",
      "[1600]\teval-rmse:1.13850\n",
      "[1677]\teval-rmse:1.13853\n"
     ]
    },
    {
     "name": "stderr",
     "output_type": "stream",
     "text": [
      " 20%|██        | 1/5 [01:06<04:25, 66.43s/it]"
     ]
    },
    {
     "name": "stdout",
     "output_type": "stream",
     "text": [
      "== fold 1 ==\n",
      "[0]\teval-rmse:2.38901\n",
      "[100]\teval-rmse:1.49442\n",
      "[200]\teval-rmse:1.27167\n",
      "[300]\teval-rmse:1.21176\n",
      "[400]\teval-rmse:1.19054\n",
      "[500]\teval-rmse:1.18131\n",
      "[600]\teval-rmse:1.17797\n",
      "[700]\teval-rmse:1.17597\n",
      "[800]\teval-rmse:1.17399\n",
      "[900]\teval-rmse:1.17304\n",
      "[1000]\teval-rmse:1.17228\n",
      "[1100]\teval-rmse:1.17183\n",
      "[1200]\teval-rmse:1.17152\n",
      "[1300]\teval-rmse:1.17096\n",
      "[1400]\teval-rmse:1.17038\n",
      "[1500]\teval-rmse:1.16987\n",
      "[1600]\teval-rmse:1.16956\n",
      "[1700]\teval-rmse:1.16905\n",
      "[1800]\teval-rmse:1.16880\n",
      "[1900]\teval-rmse:1.16846\n",
      "[2000]\teval-rmse:1.16811\n",
      "[2100]\teval-rmse:1.16789\n",
      "[2200]\teval-rmse:1.16795\n",
      "[2270]\teval-rmse:1.16793\n"
     ]
    },
    {
     "name": "stderr",
     "output_type": "stream",
     "text": [
      " 40%|████      | 2/5 [02:35<03:59, 80.00s/it]"
     ]
    },
    {
     "name": "stdout",
     "output_type": "stream",
     "text": [
      "== fold 2 ==\n",
      "[0]\teval-rmse:2.33201\n",
      "[100]\teval-rmse:1.48435\n",
      "[200]\teval-rmse:1.26581\n",
      "[300]\teval-rmse:1.21260\n",
      "[400]\teval-rmse:1.19391\n",
      "[500]\teval-rmse:1.18808\n",
      "[600]\teval-rmse:1.18533\n",
      "[700]\teval-rmse:1.18356\n",
      "[800]\teval-rmse:1.18207\n",
      "[900]\teval-rmse:1.18078\n",
      "[1000]\teval-rmse:1.17966\n",
      "[1100]\teval-rmse:1.17921\n",
      "[1200]\teval-rmse:1.17856\n",
      "[1300]\teval-rmse:1.17827\n",
      "[1400]\teval-rmse:1.17777\n",
      "[1500]\teval-rmse:1.17754\n",
      "[1600]\teval-rmse:1.17715\n",
      "[1691]\teval-rmse:1.17716\n"
     ]
    },
    {
     "name": "stderr",
     "output_type": "stream",
     "text": [
      " 60%|██████    | 3/5 [03:43<02:29, 74.51s/it]"
     ]
    },
    {
     "name": "stdout",
     "output_type": "stream",
     "text": [
      "== fold 3 ==\n",
      "[0]\teval-rmse:2.28031\n",
      "[100]\teval-rmse:1.45530\n",
      "[200]\teval-rmse:1.27543\n",
      "[300]\teval-rmse:1.23666\n",
      "[400]\teval-rmse:1.22417\n",
      "[500]\teval-rmse:1.21834\n",
      "[600]\teval-rmse:1.21612\n",
      "[700]\teval-rmse:1.21493\n",
      "[800]\teval-rmse:1.21400\n",
      "[900]\teval-rmse:1.21348\n",
      "[1000]\teval-rmse:1.21295\n",
      "[1067]\teval-rmse:1.21304\n"
     ]
    },
    {
     "name": "stderr",
     "output_type": "stream",
     "text": [
      " 80%|████████  | 4/5 [04:30<01:03, 63.48s/it]"
     ]
    },
    {
     "name": "stdout",
     "output_type": "stream",
     "text": [
      "== fold 4 ==\n",
      "[0]\teval-rmse:2.25906\n",
      "[100]\teval-rmse:1.46414\n",
      "[200]\teval-rmse:1.28971\n",
      "[300]\teval-rmse:1.24761\n",
      "[400]\teval-rmse:1.23311\n",
      "[500]\teval-rmse:1.22660\n",
      "[600]\teval-rmse:1.22323\n",
      "[700]\teval-rmse:1.22136\n",
      "[800]\teval-rmse:1.21994\n",
      "[900]\teval-rmse:1.21880\n",
      "[1000]\teval-rmse:1.21836\n",
      "[1100]\teval-rmse:1.21757\n",
      "[1200]\teval-rmse:1.21707\n",
      "[1300]\teval-rmse:1.21689\n",
      "[1400]\teval-rmse:1.21664\n",
      "[1500]\teval-rmse:1.21614\n",
      "[1600]\teval-rmse:1.21600\n",
      "[1700]\teval-rmse:1.21580\n",
      "[1795]\teval-rmse:1.21582\n"
     ]
    },
    {
     "name": "stderr",
     "output_type": "stream",
     "text": [
      "100%|██████████| 5/5 [05:40<00:00, 68.08s/it]\n"
     ]
    }
   ],
   "source": [
    "# 学習\n",
    "dfs = []\n",
    "for event in [\"wakeup\", \"onset\"]:\n",
    "    trn_oof, models = fit_xgb(\n",
    "        X=train, \n",
    "        y=train[f\"{event}_target\"], \n",
    "        folds=train[\"fold\"].astype(int), \n",
    "        features=features.all_features(),\n",
    "        params=CFG[MODEL_NAME][\"xgboost\"], \n",
    "        es_rounds=100,\n",
    "    )\n",
    "    train[\"score\"] = trn_oof\n",
    "    train[\"event\"] = event\n",
    "    dfs.append(train[[\"series_id\", \"step\", \"score\", \"event\"]])\n",
    "\n",
    "    # 保存\n",
    "    for i, model in enumerate(models):\n",
    "        model.save_model(os.path.join(CFG[\"output_dir\"], f'xgb_{event}_fold_{i}.model'))\n",
    "del train\n",
    "gc.collect()\n",
    "train = pd.concat(dfs, axis=0)\n",
    "train[\"step\"] = train[\"step\"].astype(int)\n",
    "train = train.sort_values([\"series_id\", \"step\"]).reset_index(drop=True)\n",
    "\n",
    "\n",
    "with open(os.path.join(CFG[\"output_dir\"], \"features.pkl\"), \"wb\") as f:\n",
    "    pickle.dump(features, f)\n",
    "train.to_csv(os.path.join(CFG[\"output_dir\"], \"oof.csv\"), index=False)"
   ]
  },
  {
   "cell_type": "markdown",
   "metadata": {},
   "source": [
    "## Dynamic-Range NMS"
   ]
  },
  {
   "cell_type": "code",
   "execution_count": 4,
   "metadata": {},
   "outputs": [
    {
     "data": {
      "text/plain": [
       "<AxesSubplot: >"
      ]
     },
     "execution_count": 4,
     "metadata": {},
     "output_type": "execute_result"
    },
    {
     "data": {
      "image/png": "[encoded data removed]",
      "text/plain": [
       "<Figure size 640x480 with 1 Axes>"
      ]
     },
     "metadata": {},
     "output_type": "display_data"
    }
   ],
   "source": [
    "train = train[train[\"score\"] > 0.1]\n",
    "train[\"score\"].hist()"
   ]
  },
  {
   "cell_type": "code",
   "execution_count": 5,
   "metadata": {},
   "outputs": [
    {
     "name": "stderr",
     "output_type": "stream",
     "text": [
      "100%|██████████| 277/277 [00:09<00:00, 28.03it/s]\n"
     ]
    }
   ],
   "source": [
    "from utils.postprocess import dynamic_range_nms\n",
    "from multiprocessing import Pool\n",
    "from tqdm import tqdm\n",
    "\n",
    "train[\"step\"] = train[\"step\"].astype(int)\n",
    "\n",
    "groups = [group for _, group in train.groupby(\"series_id\")]\n",
    "with Pool(30) as p:  \n",
    "    results = list(tqdm(p.imap(dynamic_range_nms, groups), total=len(groups)))\n",
    "sub = pd.concat(results)\n",
    "sub[\"score\"] = sub[\"reduced_score\"]"
   ]
  },
  {
   "cell_type": "code",
   "execution_count": 6,
   "metadata": {},
   "outputs": [
    {
     "name": "stdout",
     "output_type": "stream",
     "text": [
      "score: 0.7626\n"
     ]
    },
    {
     "data": {
      "text/plain": [
       "event   tolerance\n",
       "onset   12           0.179373\n",
       "        36           0.588780\n",
       "        60           0.744407\n",
       "        90           0.813341\n",
       "        120          0.841439\n",
       "        150          0.861333\n",
       "        180          0.874904\n",
       "        240          0.892609\n",
       "        300          0.899436\n",
       "        360          0.906157\n",
       "wakeup  12           0.168701\n",
       "        36           0.606809\n",
       "        60           0.750931\n",
       "        90           0.811991\n",
       "        120          0.841698\n",
       "        150          0.863652\n",
       "        180          0.879275\n",
       "        240          0.897451\n",
       "        300          0.909346\n",
       "        360          0.919880\n",
       "dtype: float64"
      ]
     },
     "metadata": {},
     "output_type": "display_data"
    }
   ],
   "source": [
    "# スコア計算\n",
    "labels = pd.read_csv(f\"{CFG['dataset']['competition_dir']}/train_events.csv\").dropna()\n",
    "score, ap_table = compute_comptetition_metric(labels, sub)\n",
    "\n",
    "print(f\"score: {score:.4f}\")\n",
    "display(ap_table)\n",
    "sub.to_csv(os.path.join(CFG[\"output_dir\"], \"submission_after_nms.csv\"), index=False)"
   ]
  },
  {
   "cell_type": "code",
   "execution_count": null,
   "metadata": {},
   "outputs": [],
   "source": []
  },
  {
   "cell_type": "code",
   "execution_count": null,
   "metadata": {},
   "outputs": [],
   "source": []
  }
 ],
 "metadata": {
  "kernelspec": {
   "display_name": "base",
   "language": "python",
   "name": "python3"
  },
  "language_info": {
   "codemirror_mode": {
    "name": "ipython",
    "version": 3
   },
   "file_extension": ".py",
   "mimetype": "text/x-python",
   "name": "python",
   "nbconvert_exporter": "python",
   "pygments_lexer": "ipython3",
   "version": "3.10.10"
  },
  "orig_nbformat": 4
 },
 "nbformat": 4,
 "nbformat_minor": 2
}
