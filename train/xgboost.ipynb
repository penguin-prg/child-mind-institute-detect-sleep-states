{
 "cells": [
  {
   "cell_type": "code",
   "execution_count": 1,
   "metadata": {},
   "outputs": [
    {
     "name": "stderr",
     "output_type": "stream",
     "text": [
      "2023-11-02 17:15:49.953786: I tensorflow/core/platform/cpu_feature_guard.cc:193] This TensorFlow binary is optimized with oneAPI Deep Neural Network Library (oneDNN) to use the following CPU instructions in performance-critical operations:  AVX2 AVX_VNNI FMA\n",
      "To enable them in other operations, rebuild TensorFlow with the appropriate compiler flags.\n",
      "2023-11-02 17:15:50.367650: I tensorflow/core/util/port.cc:104] oneDNN custom operations are on. You may see slightly different numerical results due to floating-point round-off errors from different computation orders. To turn them off, set the environment variable `TF_ENABLE_ONEDNN_OPTS=0`.\n",
      "2023-11-02 17:15:51.496530: W tensorflow/compiler/xla/stream_executor/platform/default/dso_loader.cc:64] Could not load dynamic library 'libnvinfer.so.7'; dlerror: libnvinfer.so.7: cannot open shared object file: No such file or directory; LD_LIBRARY_PATH: /usr/local/cuda/lib64:/usr/local/cuda/lib:/usr/local/lib/x86_64-linux-gnu:/usr/local/nvidia/lib:/usr/local/nvidia/lib64:/usr/local/nvidia/lib:/usr/local/nvidia/lib64:/opt/conda/lib\n",
      "2023-11-02 17:15:51.496696: W tensorflow/compiler/xla/stream_executor/platform/default/dso_loader.cc:64] Could not load dynamic library 'libnvinfer_plugin.so.7'; dlerror: libnvinfer_plugin.so.7: cannot open shared object file: No such file or directory; LD_LIBRARY_PATH: /usr/local/cuda/lib64:/usr/local/cuda/lib:/usr/local/lib/x86_64-linux-gnu:/usr/local/nvidia/lib:/usr/local/nvidia/lib64:/usr/local/nvidia/lib:/usr/local/nvidia/lib64:/opt/conda/lib\n",
      "2023-11-02 17:15:51.496702: W tensorflow/compiler/tf2tensorrt/utils/py_utils.cc:38] TF-TRT Warning: Cannot dlopen some TensorRT libraries. If you would like to use Nvidia GPU with TensorRT, please make sure the missing libraries mentioned above are installed properly.\n"
     ]
    },
    {
     "name": "stdout",
     "output_type": "stream",
     "text": [
      "exp_114\n"
     ]
    }
   ],
   "source": [
    "import pandas as pd\n",
    "import yaml\n",
    "import sys\n",
    "import os\n",
    "from glob import glob\n",
    "from pathlib import Path\n",
    "import gc\n",
    "import pickle\n",
    "\n",
    "import warnings\n",
    "warnings.filterwarnings('ignore')\n",
    "\n",
    "sys.path.append('/kaggle/src')\n",
    "from utils.xgb import fit_xgb\n",
    "from utils.metric import compute_comptetition_metric\n",
    "from utils.postprocess import post_process\n",
    "from utils.set_seed import seed_base\n",
    "from feature_engineering.fe_xgb import generate_features\n",
    "\n",
    "MODEL_NAME = \"xgb_model\"\n",
    "PACKAGE_DIR = Path(\"/kaggle/src\")\n",
    "CFG = yaml.safe_load(open(PACKAGE_DIR / \"config.yaml\", \"r\"))\n",
    "print(CFG[MODEL_NAME][\"execution\"][\"exp_id\"])\n",
    "\n",
    "CFG[\"output_dir\"] = f\"/kaggle/output/{CFG[MODEL_NAME]['execution']['exp_id']}\"\n",
    "!rm -r {CFG[\"output_dir\"]}\n",
    "os.makedirs(CFG[\"output_dir\"], exist_ok=True)\n",
    "\n",
    "seed_base(CFG[\"env\"][\"seed\"])"
   ]
  },
  {
   "cell_type": "code",
   "execution_count": 2,
   "metadata": {},
   "outputs": [
    {
     "name": "stderr",
     "output_type": "stream",
     "text": [
      "generate features: 100%|██████████| 277/277 [04:12<00:00,  1.10it/s]\n"
     ]
    },
    {
     "data": {
      "text/html": [
       "<div>\n",
       "<style scoped>\n",
       "    .dataframe tbody tr th:only-of-type {\n",
       "        vertical-align: middle;\n",
       "    }\n",
       "\n",
       "    .dataframe tbody tr th {\n",
       "        vertical-align: top;\n",
       "    }\n",
       "\n",
       "    .dataframe thead th {\n",
       "        text-align: right;\n",
       "    }\n",
       "</style>\n",
       "<table border=\"1\" class=\"dataframe\">\n",
       "  <thead>\n",
       "    <tr style=\"text-align: right;\">\n",
       "      <th></th>\n",
       "      <th>anglez</th>\n",
       "      <th>anglez_diff_abs</th>\n",
       "      <th>anglez_diff_abs_clip5</th>\n",
       "      <th>anglez_mean</th>\n",
       "      <th>enmo</th>\n",
       "      <th>enmo_diff_abs</th>\n",
       "      <th>enmo_mean</th>\n",
       "      <th>minutes</th>\n",
       "      <th>same_count</th>\n",
       "      <th>total_seconds</th>\n",
       "      <th>...</th>\n",
       "      <th>enmo_rolling_median_100_shift_1000</th>\n",
       "      <th>anglez_diff_abs_clip5_rolling_median_100_shift_1000</th>\n",
       "      <th>enmo_std_rolling_median_100_shift_1000</th>\n",
       "      <th>anglez_diff_abs_clip5_std_rolling_median_100_shift_1000</th>\n",
       "      <th>enmo_rolling_square_mean_100_shift_1000</th>\n",
       "      <th>anglez_diff_abs_clip5_rolling_square_mean_100_shift_1000</th>\n",
       "      <th>enmo_std_rolling_square_mean_100_shift_1000</th>\n",
       "      <th>anglez_diff_abs_clip5_std_rolling_square_mean_100_shift_1000</th>\n",
       "      <th>reduce_step</th>\n",
       "      <th>fold</th>\n",
       "    </tr>\n",
       "  </thead>\n",
       "  <tbody>\n",
       "    <tr>\n",
       "      <th>926</th>\n",
       "      <td>21.070280</td>\n",
       "      <td>21.889490</td>\n",
       "      <td>4.451904</td>\n",
       "      <td>-20.794807</td>\n",
       "      <td>0.027129</td>\n",
       "      <td>0.014742</td>\n",
       "      <td>0.037067</td>\n",
       "      <td>477.5</td>\n",
       "      <td>0.0</td>\n",
       "      <td>68877.5</td>\n",
       "      <td>...</td>\n",
       "      <td>NaN</td>\n",
       "      <td>NaN</td>\n",
       "      <td>NaN</td>\n",
       "      <td>NaN</td>\n",
       "      <td>NaN</td>\n",
       "      <td>NaN</td>\n",
       "      <td>NaN</td>\n",
       "      <td>NaN</td>\n",
       "      <td>22235</td>\n",
       "      <td>3</td>\n",
       "    </tr>\n",
       "    <tr>\n",
       "      <th>927</th>\n",
       "      <td>-2.156629</td>\n",
       "      <td>17.598087</td>\n",
       "      <td>3.993946</td>\n",
       "      <td>-21.465599</td>\n",
       "      <td>0.091583</td>\n",
       "      <td>0.079287</td>\n",
       "      <td>0.072814</td>\n",
       "      <td>597.5</td>\n",
       "      <td>0.0</td>\n",
       "      <td>68997.5</td>\n",
       "      <td>...</td>\n",
       "      <td>NaN</td>\n",
       "      <td>NaN</td>\n",
       "      <td>NaN</td>\n",
       "      <td>NaN</td>\n",
       "      <td>NaN</td>\n",
       "      <td>NaN</td>\n",
       "      <td>NaN</td>\n",
       "      <td>NaN</td>\n",
       "      <td>22259</td>\n",
       "      <td>3</td>\n",
       "    </tr>\n",
       "    <tr>\n",
       "      <th>928</th>\n",
       "      <td>6.870979</td>\n",
       "      <td>16.874817</td>\n",
       "      <td>4.571238</td>\n",
       "      <td>-17.906569</td>\n",
       "      <td>0.048471</td>\n",
       "      <td>0.023354</td>\n",
       "      <td>0.085562</td>\n",
       "      <td>717.5</td>\n",
       "      <td>0.0</td>\n",
       "      <td>69117.5</td>\n",
       "      <td>...</td>\n",
       "      <td>NaN</td>\n",
       "      <td>NaN</td>\n",
       "      <td>NaN</td>\n",
       "      <td>NaN</td>\n",
       "      <td>NaN</td>\n",
       "      <td>NaN</td>\n",
       "      <td>NaN</td>\n",
       "      <td>NaN</td>\n",
       "      <td>22283</td>\n",
       "      <td>3</td>\n",
       "    </tr>\n",
       "    <tr>\n",
       "      <th>929</th>\n",
       "      <td>11.430203</td>\n",
       "      <td>8.910088</td>\n",
       "      <td>3.756421</td>\n",
       "      <td>-5.006313</td>\n",
       "      <td>0.029496</td>\n",
       "      <td>0.013204</td>\n",
       "      <td>0.031394</td>\n",
       "      <td>837.5</td>\n",
       "      <td>0.0</td>\n",
       "      <td>69237.5</td>\n",
       "      <td>...</td>\n",
       "      <td>NaN</td>\n",
       "      <td>NaN</td>\n",
       "      <td>NaN</td>\n",
       "      <td>NaN</td>\n",
       "      <td>NaN</td>\n",
       "      <td>NaN</td>\n",
       "      <td>NaN</td>\n",
       "      <td>NaN</td>\n",
       "      <td>22307</td>\n",
       "      <td>3</td>\n",
       "    </tr>\n",
       "    <tr>\n",
       "      <th>930</th>\n",
       "      <td>10.291650</td>\n",
       "      <td>2.129946</td>\n",
       "      <td>1.981583</td>\n",
       "      <td>-21.022831</td>\n",
       "      <td>0.003008</td>\n",
       "      <td>0.001954</td>\n",
       "      <td>0.058677</td>\n",
       "      <td>957.5</td>\n",
       "      <td>0.0</td>\n",
       "      <td>69357.5</td>\n",
       "      <td>...</td>\n",
       "      <td>NaN</td>\n",
       "      <td>NaN</td>\n",
       "      <td>NaN</td>\n",
       "      <td>NaN</td>\n",
       "      <td>NaN</td>\n",
       "      <td>NaN</td>\n",
       "      <td>NaN</td>\n",
       "      <td>NaN</td>\n",
       "      <td>22331</td>\n",
       "      <td>3</td>\n",
       "    </tr>\n",
       "  </tbody>\n",
       "</table>\n",
       "<p>5 rows × 1307 columns</p>\n",
       "</div>"
      ],
      "text/plain": [
       "        anglez  anglez_diff_abs  anglez_diff_abs_clip5  anglez_mean      enmo  \\\n",
       "926  21.070280        21.889490               4.451904   -20.794807  0.027129   \n",
       "927  -2.156629        17.598087               3.993946   -21.465599  0.091583   \n",
       "928   6.870979        16.874817               4.571238   -17.906569  0.048471   \n",
       "929  11.430203         8.910088               3.756421    -5.006313  0.029496   \n",
       "930  10.291650         2.129946               1.981583   -21.022831  0.003008   \n",
       "\n",
       "     enmo_diff_abs  enmo_mean  minutes  same_count  total_seconds  ...  \\\n",
       "926       0.014742   0.037067    477.5         0.0        68877.5  ...   \n",
       "927       0.079287   0.072814    597.5         0.0        68997.5  ...   \n",
       "928       0.023354   0.085562    717.5         0.0        69117.5  ...   \n",
       "929       0.013204   0.031394    837.5         0.0        69237.5  ...   \n",
       "930       0.001954   0.058677    957.5         0.0        69357.5  ...   \n",
       "\n",
       "     enmo_rolling_median_100_shift_1000  \\\n",
       "926                                 NaN   \n",
       "927                                 NaN   \n",
       "928                                 NaN   \n",
       "929                                 NaN   \n",
       "930                                 NaN   \n",
       "\n",
       "     anglez_diff_abs_clip5_rolling_median_100_shift_1000  \\\n",
       "926                                                NaN     \n",
       "927                                                NaN     \n",
       "928                                                NaN     \n",
       "929                                                NaN     \n",
       "930                                                NaN     \n",
       "\n",
       "     enmo_std_rolling_median_100_shift_1000  \\\n",
       "926                                     NaN   \n",
       "927                                     NaN   \n",
       "928                                     NaN   \n",
       "929                                     NaN   \n",
       "930                                     NaN   \n",
       "\n",
       "     anglez_diff_abs_clip5_std_rolling_median_100_shift_1000  \\\n",
       "926                                                NaN         \n",
       "927                                                NaN         \n",
       "928                                                NaN         \n",
       "929                                                NaN         \n",
       "930                                                NaN         \n",
       "\n",
       "     enmo_rolling_square_mean_100_shift_1000  \\\n",
       "926                                      NaN   \n",
       "927                                      NaN   \n",
       "928                                      NaN   \n",
       "929                                      NaN   \n",
       "930                                      NaN   \n",
       "\n",
       "     anglez_diff_abs_clip5_rolling_square_mean_100_shift_1000  \\\n",
       "926                                                NaN          \n",
       "927                                                NaN          \n",
       "928                                                NaN          \n",
       "929                                                NaN          \n",
       "930                                                NaN          \n",
       "\n",
       "     enmo_std_rolling_square_mean_100_shift_1000  \\\n",
       "926                                          NaN   \n",
       "927                                          NaN   \n",
       "928                                          NaN   \n",
       "929                                          NaN   \n",
       "930                                          NaN   \n",
       "\n",
       "     anglez_diff_abs_clip5_std_rolling_square_mean_100_shift_1000  \\\n",
       "926                                                NaN              \n",
       "927                                                NaN              \n",
       "928                                                NaN              \n",
       "929                                                NaN              \n",
       "930                                                NaN              \n",
       "\n",
       "     reduce_step  fold  \n",
       "926        22235     3  \n",
       "927        22259     3  \n",
       "928        22283     3  \n",
       "929        22307     3  \n",
       "930        22331     3  \n",
       "\n",
       "[5 rows x 1307 columns]"
      ]
     },
     "metadata": {},
     "output_type": "display_data"
    },
    {
     "data": {
      "text/plain": [
       "(494843, 1307)"
      ]
     },
     "execution_count": 2,
     "metadata": {},
     "output_type": "execute_result"
    }
   ],
   "source": [
    "# 特徴生成\n",
    "files = glob(f\"{CFG['dataset']['step_csv_dir_5min']}/*.parquet\")\n",
    "train, features = generate_features(files)\n",
    "\n",
    "# cv splitとマージ\n",
    "cv_split = pd.read_csv(CFG['dataset']['cv_split_path'])\n",
    "train[\"fold\"] = train[\"series_id\"].map(cv_split.set_index(\"series_id\")[\"fold\"])\n",
    "display(train.head(5))\n",
    "train.shape"
   ]
  },
  {
   "cell_type": "code",
   "execution_count": 3,
   "metadata": {},
   "outputs": [
    {
     "name": "stderr",
     "output_type": "stream",
     "text": [
      "  0%|          | 0/5 [00:00<?, ?it/s]"
     ]
    },
    {
     "name": "stdout",
     "output_type": "stream",
     "text": [
      "== fold 0 ==\n",
      "[0]\teval-rmse:1.00808\n",
      "[100]\teval-rmse:0.75315\n",
      "[200]\teval-rmse:0.68848\n",
      "[300]\teval-rmse:0.67052\n",
      "[400]\teval-rmse:0.66456\n",
      "[500]\teval-rmse:0.66215\n",
      "[600]\teval-rmse:0.66085\n",
      "[700]\teval-rmse:0.65982\n",
      "[800]\teval-rmse:0.65920\n",
      "[900]\teval-rmse:0.65853\n",
      "[1000]\teval-rmse:0.65826\n",
      "[1100]\teval-rmse:0.65805\n",
      "[1200]\teval-rmse:0.65779\n",
      "[1300]\teval-rmse:0.65762\n",
      "[1400]\teval-rmse:0.65745\n",
      "[1500]\teval-rmse:0.65735\n",
      "[1600]\teval-rmse:0.65732\n",
      "[1700]\teval-rmse:0.65721\n",
      "[1800]\teval-rmse:0.65710\n",
      "[1900]\teval-rmse:0.65705\n",
      "[2000]\teval-rmse:0.65695\n",
      "[2100]\teval-rmse:0.65690\n",
      "[2200]\teval-rmse:0.65689\n",
      "[2263]\teval-rmse:0.65690\n"
     ]
    },
    {
     "name": "stderr",
     "output_type": "stream",
     "text": [
      " 20%|██        | 1/5 [01:24<05:36, 84.24s/it]"
     ]
    },
    {
     "name": "stdout",
     "output_type": "stream",
     "text": [
      "== fold 1 ==\n",
      "[0]\teval-rmse:1.05342\n",
      "[100]\teval-rmse:0.80789\n",
      "[200]\teval-rmse:0.74664\n",
      "[300]\teval-rmse:0.72989\n",
      "[400]\teval-rmse:0.72299\n",
      "[500]\teval-rmse:0.72004\n",
      "[600]\teval-rmse:0.71852\n",
      "[700]\teval-rmse:0.71768\n",
      "[800]\teval-rmse:0.71697\n",
      "[900]\teval-rmse:0.71639\n",
      "[1000]\teval-rmse:0.71596\n",
      "[1100]\teval-rmse:0.71571\n",
      "[1200]\teval-rmse:0.71543\n",
      "[1300]\teval-rmse:0.71511\n",
      "[1400]\teval-rmse:0.71502\n",
      "[1500]\teval-rmse:0.71482\n",
      "[1600]\teval-rmse:0.71470\n",
      "[1700]\teval-rmse:0.71446\n",
      "[1800]\teval-rmse:0.71428\n",
      "[1900]\teval-rmse:0.71422\n",
      "[2000]\teval-rmse:0.71407\n",
      "[2100]\teval-rmse:0.71405\n",
      "[2200]\teval-rmse:0.71387\n",
      "[2300]\teval-rmse:0.71381\n",
      "[2400]\teval-rmse:0.71378\n",
      "[2467]\teval-rmse:0.71376\n"
     ]
    },
    {
     "name": "stderr",
     "output_type": "stream",
     "text": [
      " 40%|████      | 2/5 [02:54<04:23, 87.68s/it]"
     ]
    },
    {
     "name": "stdout",
     "output_type": "stream",
     "text": [
      "== fold 2 ==\n",
      "[0]\teval-rmse:1.03625\n",
      "[100]\teval-rmse:0.79690\n",
      "[200]\teval-rmse:0.73816\n",
      "[300]\teval-rmse:0.72138\n",
      "[400]\teval-rmse:0.71516\n",
      "[500]\teval-rmse:0.71291\n",
      "[600]\teval-rmse:0.71137\n",
      "[700]\teval-rmse:0.71054\n",
      "[800]\teval-rmse:0.71001\n",
      "[900]\teval-rmse:0.70966\n",
      "[1000]\teval-rmse:0.70939\n",
      "[1100]\teval-rmse:0.70913\n",
      "[1200]\teval-rmse:0.70902\n",
      "[1300]\teval-rmse:0.70883\n",
      "[1400]\teval-rmse:0.70855\n",
      "[1500]\teval-rmse:0.70848\n",
      "[1555]\teval-rmse:0.70846\n"
     ]
    },
    {
     "name": "stderr",
     "output_type": "stream",
     "text": [
      " 60%|██████    | 3/5 [03:53<02:29, 74.58s/it]"
     ]
    },
    {
     "name": "stdout",
     "output_type": "stream",
     "text": [
      "== fold 3 ==\n",
      "[0]\teval-rmse:1.01567\n",
      "[100]\teval-rmse:0.76332\n",
      "[200]\teval-rmse:0.70137\n",
      "[300]\teval-rmse:0.68578\n",
      "[400]\teval-rmse:0.68025\n",
      "[500]\teval-rmse:0.67789\n",
      "[600]\teval-rmse:0.67670\n",
      "[700]\teval-rmse:0.67579\n",
      "[800]\teval-rmse:0.67542\n",
      "[900]\teval-rmse:0.67520\n",
      "[1000]\teval-rmse:0.67512\n",
      "[1100]\teval-rmse:0.67495\n",
      "[1200]\teval-rmse:0.67503\n",
      "[1220]\teval-rmse:0.67503\n"
     ]
    },
    {
     "name": "stderr",
     "output_type": "stream",
     "text": [
      " 80%|████████  | 4/5 [04:41<01:04, 64.20s/it]"
     ]
    },
    {
     "name": "stdout",
     "output_type": "stream",
     "text": [
      "== fold 4 ==\n",
      "[0]\teval-rmse:1.00877\n",
      "[100]\teval-rmse:0.76466\n",
      "[200]\teval-rmse:0.70492\n",
      "[300]\teval-rmse:0.68934\n",
      "[400]\teval-rmse:0.68418\n",
      "[500]\teval-rmse:0.68192\n",
      "[600]\teval-rmse:0.68098\n",
      "[700]\teval-rmse:0.68038\n",
      "[800]\teval-rmse:0.67991\n",
      "[900]\teval-rmse:0.67944\n",
      "[1000]\teval-rmse:0.67925\n",
      "[1100]\teval-rmse:0.67903\n",
      "[1200]\teval-rmse:0.67899\n",
      "[1247]\teval-rmse:0.67896\n"
     ]
    },
    {
     "name": "stderr",
     "output_type": "stream",
     "text": [
      "100%|██████████| 5/5 [05:30<00:00, 66.15s/it]\n",
      "  0%|          | 0/5 [00:00<?, ?it/s]"
     ]
    },
    {
     "name": "stdout",
     "output_type": "stream",
     "text": [
      "== fold 0 ==\n",
      "[0]\teval-rmse:1.00943\n",
      "[100]\teval-rmse:0.74483\n",
      "[200]\teval-rmse:0.68042\n",
      "[300]\teval-rmse:0.66432\n",
      "[400]\teval-rmse:0.65908\n",
      "[500]\teval-rmse:0.65692\n",
      "[600]\teval-rmse:0.65597\n",
      "[700]\teval-rmse:0.65557\n",
      "[800]\teval-rmse:0.65534\n",
      "[900]\teval-rmse:0.65502\n",
      "[1000]\teval-rmse:0.65488\n",
      "[1100]\teval-rmse:0.65473\n",
      "[1200]\teval-rmse:0.65451\n",
      "[1300]\teval-rmse:0.65443\n",
      "[1400]\teval-rmse:0.65438\n",
      "[1481]\teval-rmse:0.65438\n"
     ]
    },
    {
     "name": "stderr",
     "output_type": "stream",
     "text": [
      " 20%|██        | 1/5 [00:55<03:42, 55.52s/it]"
     ]
    },
    {
     "name": "stdout",
     "output_type": "stream",
     "text": [
      "== fold 1 ==\n",
      "[0]\teval-rmse:1.05139\n",
      "[100]\teval-rmse:0.78233\n",
      "[200]\teval-rmse:0.71072\n",
      "[300]\teval-rmse:0.69103\n",
      "[400]\teval-rmse:0.68365\n",
      "[500]\teval-rmse:0.67964\n",
      "[600]\teval-rmse:0.67808\n",
      "[700]\teval-rmse:0.67729\n",
      "[800]\teval-rmse:0.67676\n",
      "[900]\teval-rmse:0.67627\n",
      "[1000]\teval-rmse:0.67582\n",
      "[1100]\teval-rmse:0.67560\n",
      "[1200]\teval-rmse:0.67533\n",
      "[1300]\teval-rmse:0.67518\n",
      "[1400]\teval-rmse:0.67508\n",
      "[1500]\teval-rmse:0.67497\n",
      "[1600]\teval-rmse:0.67494\n",
      "[1700]\teval-rmse:0.67492\n",
      "[1800]\teval-rmse:0.67494\n",
      "[1831]\teval-rmse:0.67493\n"
     ]
    },
    {
     "name": "stderr",
     "output_type": "stream",
     "text": [
      " 40%|████      | 2/5 [02:05<03:12, 64.16s/it]"
     ]
    },
    {
     "name": "stdout",
     "output_type": "stream",
     "text": [
      "== fold 2 ==\n",
      "[0]\teval-rmse:1.03211\n",
      "[100]\teval-rmse:0.78209\n",
      "[200]\teval-rmse:0.71957\n",
      "[300]\teval-rmse:0.70213\n",
      "[400]\teval-rmse:0.69588\n",
      "[500]\teval-rmse:0.69397\n",
      "[600]\teval-rmse:0.69285\n",
      "[700]\teval-rmse:0.69238\n",
      "[800]\teval-rmse:0.69206\n",
      "[900]\teval-rmse:0.69194\n",
      "[1000]\teval-rmse:0.69174\n",
      "[1100]\teval-rmse:0.69156\n",
      "[1200]\teval-rmse:0.69149\n",
      "[1300]\teval-rmse:0.69139\n",
      "[1400]\teval-rmse:0.69134\n",
      "[1500]\teval-rmse:0.69124\n",
      "[1600]\teval-rmse:0.69111\n",
      "[1700]\teval-rmse:0.69102\n",
      "[1800]\teval-rmse:0.69100\n",
      "[1803]\teval-rmse:0.69100\n"
     ]
    },
    {
     "name": "stderr",
     "output_type": "stream",
     "text": [
      " 60%|██████    | 3/5 [03:12<02:10, 65.27s/it]"
     ]
    },
    {
     "name": "stdout",
     "output_type": "stream",
     "text": [
      "== fold 3 ==\n",
      "[0]\teval-rmse:1.01360\n",
      "[100]\teval-rmse:0.76660\n",
      "[200]\teval-rmse:0.71159\n",
      "[300]\teval-rmse:0.69908\n",
      "[400]\teval-rmse:0.69595\n",
      "[500]\teval-rmse:0.69454\n",
      "[600]\teval-rmse:0.69392\n",
      "[700]\teval-rmse:0.69373\n",
      "[800]\teval-rmse:0.69349\n",
      "[900]\teval-rmse:0.69339\n",
      "[1000]\teval-rmse:0.69323\n",
      "[1100]\teval-rmse:0.69316\n",
      "[1200]\teval-rmse:0.69306\n",
      "[1300]\teval-rmse:0.69301\n",
      "[1400]\teval-rmse:0.69297\n",
      "[1500]\teval-rmse:0.69293\n",
      "[1600]\teval-rmse:0.69296\n",
      "[1636]\teval-rmse:0.69296\n"
     ]
    },
    {
     "name": "stderr",
     "output_type": "stream",
     "text": [
      " 80%|████████  | 4/5 [04:13<01:03, 63.79s/it]"
     ]
    },
    {
     "name": "stdout",
     "output_type": "stream",
     "text": [
      "== fold 4 ==\n",
      "[0]\teval-rmse:1.00563\n",
      "[100]\teval-rmse:0.76297\n",
      "[200]\teval-rmse:0.70600\n",
      "[300]\teval-rmse:0.69225\n",
      "[400]\teval-rmse:0.68791\n",
      "[500]\teval-rmse:0.68594\n",
      "[600]\teval-rmse:0.68489\n",
      "[700]\teval-rmse:0.68442\n",
      "[800]\teval-rmse:0.68406\n",
      "[900]\teval-rmse:0.68377\n",
      "[1000]\teval-rmse:0.68355\n",
      "[1100]\teval-rmse:0.68334\n",
      "[1200]\teval-rmse:0.68318\n",
      "[1300]\teval-rmse:0.68302\n",
      "[1400]\teval-rmse:0.68292\n",
      "[1500]\teval-rmse:0.68289\n",
      "[1600]\teval-rmse:0.68281\n",
      "[1700]\teval-rmse:0.68287\n",
      "[1724]\teval-rmse:0.68286\n"
     ]
    },
    {
     "name": "stderr",
     "output_type": "stream",
     "text": [
      "100%|██████████| 5/5 [05:16<00:00, 63.28s/it]\n"
     ]
    }
   ],
   "source": [
    "# 学習\n",
    "dfs = []\n",
    "for event in [\"wakeup\", \"onset\"]:\n",
    "    trn_oof, models = fit_xgb(\n",
    "        X=train, \n",
    "        y=train[f\"{event}_target\"], \n",
    "        folds=train[\"fold\"].astype(int), \n",
    "        features=features.all_features(),\n",
    "        params=CFG[MODEL_NAME][\"xgboost\"], \n",
    "        es_rounds=100,\n",
    "    )\n",
    "    train[\"score\"] = trn_oof\n",
    "    train[\"event\"] = event\n",
    "    dfs.append(train[[\"series_id\", \"step\", \"score\", \"event\"]])\n",
    "\n",
    "    # 保存\n",
    "    for i, model in enumerate(models):\n",
    "        model.save_model(os.path.join(CFG[\"output_dir\"], f'xgb_{event}_fold_{i}.model'))\n",
    "del train\n",
    "gc.collect()\n",
    "train = pd.concat(dfs, axis=0)\n",
    "train[\"step\"] = train[\"step\"].astype(int)\n",
    "train = train.sort_values([\"series_id\", \"step\"]).reset_index(drop=True)\n",
    "\n",
    "\n",
    "with open(os.path.join(CFG[\"output_dir\"], \"features.pkl\"), \"wb\") as f:\n",
    "    pickle.dump(features, f)\n",
    "train.to_csv(os.path.join(CFG[\"output_dir\"], \"oof.csv\"), index=False)"
   ]
  },
  {
   "cell_type": "markdown",
   "metadata": {},
   "source": [
    "## Dynamic-Range NMS"
   ]
  },
  {
   "cell_type": "code",
   "execution_count": 4,
   "metadata": {},
   "outputs": [
    {
     "data": {
      "text/plain": [
       "<AxesSubplot: >"
      ]
     },
     "execution_count": 4,
     "metadata": {},
     "output_type": "execute_result"
    },
    {
     "data": {
      "image/png": "[encoded data removed]",
      "text/plain": [
       "<Figure size 640x480 with 1 Axes>"
      ]
     },
     "metadata": {},
     "output_type": "display_data"
    }
   ],
   "source": [
    "train = train[train[\"score\"] > 0.1]\n",
    "train[\"score\"].hist()"
   ]
  },
  {
   "cell_type": "code",
   "execution_count": 5,
   "metadata": {},
   "outputs": [
    {
     "name": "stderr",
     "output_type": "stream",
     "text": [
      "100%|██████████| 277/277 [00:06<00:00, 42.72it/s]\n"
     ]
    }
   ],
   "source": [
    "from utils.postprocess import dynamic_range_nms\n",
    "from multiprocessing import Pool\n",
    "from tqdm import tqdm\n",
    "\n",
    "train[\"step\"] = train[\"step\"].astype(int)\n",
    "\n",
    "groups = [group for _, group in train.groupby(\"series_id\")]\n",
    "with Pool(30) as p:  \n",
    "    results = list(tqdm(p.imap(dynamic_range_nms, groups), total=len(groups)))\n",
    "sub = pd.concat(results)\n",
    "sub[\"score\"] = sub[\"reduced_score\"]"
   ]
  },
  {
   "cell_type": "code",
   "execution_count": 6,
   "metadata": {},
   "outputs": [
    {
     "name": "stdout",
     "output_type": "stream",
     "text": [
      "score: 0.7698\n"
     ]
    },
    {
     "data": {
      "text/plain": [
       "event   tolerance\n",
       "onset   12           0.331479\n",
       "        36           0.672353\n",
       "        60           0.745789\n",
       "        90           0.790468\n",
       "        120          0.813532\n",
       "        150          0.836535\n",
       "        180          0.850685\n",
       "        240          0.868434\n",
       "        300          0.877195\n",
       "        360          0.884352\n",
       "wakeup  12           0.281459\n",
       "        36           0.696254\n",
       "        60           0.760261\n",
       "        90           0.796238\n",
       "        120          0.822978\n",
       "        150          0.840979\n",
       "        180          0.854714\n",
       "        240          0.877670\n",
       "        300          0.891429\n",
       "        360          0.903673\n",
       "dtype: float64"
      ]
     },
     "metadata": {},
     "output_type": "display_data"
    }
   ],
   "source": [
    "# スコア計算\n",
    "labels = pd.read_csv(f\"{CFG['dataset']['competition_dir']}/train_events.csv\").dropna()\n",
    "score, ap_table = compute_comptetition_metric(labels, sub)\n",
    "\n",
    "print(f\"score: {score:.4f}\")\n",
    "display(ap_table)\n",
    "sub.to_csv(os.path.join(CFG[\"output_dir\"], \"submission_after_nms.csv\"), index=False)"
   ]
  },
  {
   "cell_type": "code",
   "execution_count": null,
   "metadata": {},
   "outputs": [],
   "source": []
  },
  {
   "cell_type": "code",
   "execution_count": null,
   "metadata": {},
   "outputs": [],
   "source": []
  }
 ],
 "metadata": {
  "kernelspec": {
   "display_name": "base",
   "language": "python",
   "name": "python3"
  },
  "language_info": {
   "codemirror_mode": {
    "name": "ipython",
    "version": 3
   },
   "file_extension": ".py",
   "mimetype": "text/x-python",
   "name": "python",
   "nbconvert_exporter": "python",
   "pygments_lexer": "ipython3",
   "version": "3.10.10"
  },
  "orig_nbformat": 4
 },
 "nbformat": 4,
 "nbformat_minor": 2
}
