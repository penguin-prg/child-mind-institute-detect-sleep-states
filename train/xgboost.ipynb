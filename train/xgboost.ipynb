{
 "cells": [
  {
   "cell_type": "code",
   "execution_count": 1,
   "metadata": {},
   "outputs": [
    {
     "name": "stderr",
     "output_type": "stream",
     "text": [
      "2023-11-05 14:53:02.455630: I tensorflow/core/platform/cpu_feature_guard.cc:193] This TensorFlow binary is optimized with oneAPI Deep Neural Network Library (oneDNN) to use the following CPU instructions in performance-critical operations:  AVX2 AVX_VNNI FMA\n",
      "To enable them in other operations, rebuild TensorFlow with the appropriate compiler flags.\n",
      "2023-11-05 14:53:02.523297: I tensorflow/core/util/port.cc:104] oneDNN custom operations are on. You may see slightly different numerical results due to floating-point round-off errors from different computation orders. To turn them off, set the environment variable `TF_ENABLE_ONEDNN_OPTS=0`.\n",
      "2023-11-05 14:53:02.965970: W tensorflow/compiler/xla/stream_executor/platform/default/dso_loader.cc:64] Could not load dynamic library 'libnvinfer.so.7'; dlerror: libnvinfer.so.7: cannot open shared object file: No such file or directory; LD_LIBRARY_PATH: /usr/local/cuda/lib64:/usr/local/cuda/lib:/usr/local/lib/x86_64-linux-gnu:/usr/local/nvidia/lib:/usr/local/nvidia/lib64:/usr/local/nvidia/lib:/usr/local/nvidia/lib64:/opt/conda/lib\n",
      "2023-11-05 14:53:02.966073: W tensorflow/compiler/xla/stream_executor/platform/default/dso_loader.cc:64] Could not load dynamic library 'libnvinfer_plugin.so.7'; dlerror: libnvinfer_plugin.so.7: cannot open shared object file: No such file or directory; LD_LIBRARY_PATH: /usr/local/cuda/lib64:/usr/local/cuda/lib:/usr/local/lib/x86_64-linux-gnu:/usr/local/nvidia/lib:/usr/local/nvidia/lib64:/usr/local/nvidia/lib:/usr/local/nvidia/lib64:/opt/conda/lib\n",
      "2023-11-05 14:53:02.966078: W tensorflow/compiler/tf2tensorrt/utils/py_utils.cc:38] TF-TRT Warning: Cannot dlopen some TensorRT libraries. If you would like to use Nvidia GPU with TensorRT, please make sure the missing libraries mentioned above are installed properly.\n"
     ]
    },
    {
     "name": "stdout",
     "output_type": "stream",
     "text": [
      "exp_116\n"
     ]
    }
   ],
   "source": [
    "import pandas as pd\n",
    "import yaml\n",
    "import sys\n",
    "import os\n",
    "from glob import glob\n",
    "from pathlib import Path\n",
    "import gc\n",
    "import pickle\n",
    "\n",
    "import warnings\n",
    "warnings.filterwarnings('ignore')\n",
    "\n",
    "sys.path.append('/kaggle/src')\n",
    "from utils.xgb import fit_xgb\n",
    "from utils.metric import compute_comptetition_metric\n",
    "from utils.set_seed import seed_base\n",
    "from feature_engineering.fe_xgb import generate_features\n",
    "\n",
    "MODEL_NAME = \"xgb_model\"\n",
    "PACKAGE_DIR = Path(\"/kaggle/src\")\n",
    "CFG = yaml.safe_load(open(PACKAGE_DIR / \"config.yaml\", \"r\"))\n",
    "print(CFG[MODEL_NAME][\"execution\"][\"exp_id\"])\n",
    "\n",
    "CFG[\"output_dir\"] = f\"/kaggle/output/{CFG[MODEL_NAME]['execution']['exp_id']}\"\n",
    "!rm -r {CFG[\"output_dir\"]}\n",
    "os.makedirs(CFG[\"output_dir\"], exist_ok=True)\n",
    "\n",
    "seed_base(CFG[\"env\"][\"seed\"])"
   ]
  },
  {
   "cell_type": "code",
   "execution_count": 2,
   "metadata": {},
   "outputs": [
    {
     "name": "stderr",
     "output_type": "stream",
     "text": [
      "generate features: 100%|██████████| 277/277 [04:21<00:00,  1.06it/s]\n"
     ]
    },
    {
     "data": {
      "text/html": [
       "<div>\n",
       "<style scoped>\n",
       "    .dataframe tbody tr th:only-of-type {\n",
       "        vertical-align: middle;\n",
       "    }\n",
       "\n",
       "    .dataframe tbody tr th {\n",
       "        vertical-align: top;\n",
       "    }\n",
       "\n",
       "    .dataframe thead th {\n",
       "        text-align: right;\n",
       "    }\n",
       "</style>\n",
       "<table border=\"1\" class=\"dataframe\">\n",
       "  <thead>\n",
       "    <tr style=\"text-align: right;\">\n",
       "      <th></th>\n",
       "      <th>anglez</th>\n",
       "      <th>anglez_diff_abs</th>\n",
       "      <th>anglez_diff_abs_clip5</th>\n",
       "      <th>anglez_mean</th>\n",
       "      <th>enmo</th>\n",
       "      <th>enmo_diff_abs</th>\n",
       "      <th>enmo_mean</th>\n",
       "      <th>minutes</th>\n",
       "      <th>same_count</th>\n",
       "      <th>total_seconds</th>\n",
       "      <th>...</th>\n",
       "      <th>enmo_rolling_median_100_shift_1000</th>\n",
       "      <th>anglez_diff_abs_clip5_rolling_median_100_shift_1000</th>\n",
       "      <th>enmo_std_rolling_median_100_shift_1000</th>\n",
       "      <th>anglez_diff_abs_clip5_std_rolling_median_100_shift_1000</th>\n",
       "      <th>enmo_rolling_square_mean_100_shift_1000</th>\n",
       "      <th>anglez_diff_abs_clip5_rolling_square_mean_100_shift_1000</th>\n",
       "      <th>enmo_std_rolling_square_mean_100_shift_1000</th>\n",
       "      <th>anglez_diff_abs_clip5_std_rolling_square_mean_100_shift_1000</th>\n",
       "      <th>reduce_step</th>\n",
       "      <th>fold</th>\n",
       "    </tr>\n",
       "  </thead>\n",
       "  <tbody>\n",
       "    <tr>\n",
       "      <th>0</th>\n",
       "      <td>-86.521141</td>\n",
       "      <td>0.484678</td>\n",
       "      <td>0.484678</td>\n",
       "      <td>-11.018268</td>\n",
       "      <td>0.028438</td>\n",
       "      <td>0.001370</td>\n",
       "      <td>0.049629</td>\n",
       "      <td>957.5</td>\n",
       "      <td>0.0</td>\n",
       "      <td>44157.5</td>\n",
       "      <td>...</td>\n",
       "      <td>NaN</td>\n",
       "      <td>NaN</td>\n",
       "      <td>NaN</td>\n",
       "      <td>NaN</td>\n",
       "      <td>NaN</td>\n",
       "      <td>NaN</td>\n",
       "      <td>NaN</td>\n",
       "      <td>NaN</td>\n",
       "      <td>11</td>\n",
       "      <td>3</td>\n",
       "    </tr>\n",
       "    <tr>\n",
       "      <th>1</th>\n",
       "      <td>-87.261871</td>\n",
       "      <td>0.062595</td>\n",
       "      <td>0.062595</td>\n",
       "      <td>-10.602463</td>\n",
       "      <td>0.028079</td>\n",
       "      <td>0.000292</td>\n",
       "      <td>0.032782</td>\n",
       "      <td>1077.5</td>\n",
       "      <td>0.0</td>\n",
       "      <td>44277.5</td>\n",
       "      <td>...</td>\n",
       "      <td>NaN</td>\n",
       "      <td>NaN</td>\n",
       "      <td>NaN</td>\n",
       "      <td>NaN</td>\n",
       "      <td>NaN</td>\n",
       "      <td>NaN</td>\n",
       "      <td>NaN</td>\n",
       "      <td>NaN</td>\n",
       "      <td>35</td>\n",
       "      <td>3</td>\n",
       "    </tr>\n",
       "    <tr>\n",
       "      <th>18</th>\n",
       "      <td>-89.950226</td>\n",
       "      <td>0.048220</td>\n",
       "      <td>0.048220</td>\n",
       "      <td>-5.167186</td>\n",
       "      <td>0.028175</td>\n",
       "      <td>0.000229</td>\n",
       "      <td>0.047287</td>\n",
       "      <td>3117.5</td>\n",
       "      <td>0.0</td>\n",
       "      <td>46317.5</td>\n",
       "      <td>...</td>\n",
       "      <td>NaN</td>\n",
       "      <td>NaN</td>\n",
       "      <td>NaN</td>\n",
       "      <td>NaN</td>\n",
       "      <td>NaN</td>\n",
       "      <td>NaN</td>\n",
       "      <td>NaN</td>\n",
       "      <td>NaN</td>\n",
       "      <td>443</td>\n",
       "      <td>3</td>\n",
       "    </tr>\n",
       "    <tr>\n",
       "      <th>19</th>\n",
       "      <td>-89.891479</td>\n",
       "      <td>0.075483</td>\n",
       "      <td>0.075483</td>\n",
       "      <td>-4.354149</td>\n",
       "      <td>0.028121</td>\n",
       "      <td>0.000196</td>\n",
       "      <td>0.030720</td>\n",
       "      <td>3237.5</td>\n",
       "      <td>0.0</td>\n",
       "      <td>46437.5</td>\n",
       "      <td>...</td>\n",
       "      <td>NaN</td>\n",
       "      <td>NaN</td>\n",
       "      <td>NaN</td>\n",
       "      <td>NaN</td>\n",
       "      <td>NaN</td>\n",
       "      <td>NaN</td>\n",
       "      <td>NaN</td>\n",
       "      <td>NaN</td>\n",
       "      <td>467</td>\n",
       "      <td>3</td>\n",
       "    </tr>\n",
       "    <tr>\n",
       "      <th>20</th>\n",
       "      <td>-90.000000</td>\n",
       "      <td>0.000000</td>\n",
       "      <td>0.000000</td>\n",
       "      <td>-5.594111</td>\n",
       "      <td>0.028292</td>\n",
       "      <td>0.000242</td>\n",
       "      <td>0.024401</td>\n",
       "      <td>3357.5</td>\n",
       "      <td>0.0</td>\n",
       "      <td>46557.5</td>\n",
       "      <td>...</td>\n",
       "      <td>NaN</td>\n",
       "      <td>NaN</td>\n",
       "      <td>NaN</td>\n",
       "      <td>NaN</td>\n",
       "      <td>NaN</td>\n",
       "      <td>NaN</td>\n",
       "      <td>NaN</td>\n",
       "      <td>NaN</td>\n",
       "      <td>491</td>\n",
       "      <td>3</td>\n",
       "    </tr>\n",
       "  </tbody>\n",
       "</table>\n",
       "<p>5 rows × 1307 columns</p>\n",
       "</div>"
      ],
      "text/plain": [
       "       anglez  anglez_diff_abs  anglez_diff_abs_clip5  anglez_mean      enmo  \\\n",
       "0  -86.521141         0.484678               0.484678   -11.018268  0.028438   \n",
       "1  -87.261871         0.062595               0.062595   -10.602463  0.028079   \n",
       "18 -89.950226         0.048220               0.048220    -5.167186  0.028175   \n",
       "19 -89.891479         0.075483               0.075483    -4.354149  0.028121   \n",
       "20 -90.000000         0.000000               0.000000    -5.594111  0.028292   \n",
       "\n",
       "    enmo_diff_abs  enmo_mean  minutes  same_count  total_seconds  ...  \\\n",
       "0        0.001370   0.049629    957.5         0.0        44157.5  ...   \n",
       "1        0.000292   0.032782   1077.5         0.0        44277.5  ...   \n",
       "18       0.000229   0.047287   3117.5         0.0        46317.5  ...   \n",
       "19       0.000196   0.030720   3237.5         0.0        46437.5  ...   \n",
       "20       0.000242   0.024401   3357.5         0.0        46557.5  ...   \n",
       "\n",
       "    enmo_rolling_median_100_shift_1000  \\\n",
       "0                                  NaN   \n",
       "1                                  NaN   \n",
       "18                                 NaN   \n",
       "19                                 NaN   \n",
       "20                                 NaN   \n",
       "\n",
       "    anglez_diff_abs_clip5_rolling_median_100_shift_1000  \\\n",
       "0                                                 NaN     \n",
       "1                                                 NaN     \n",
       "18                                                NaN     \n",
       "19                                                NaN     \n",
       "20                                                NaN     \n",
       "\n",
       "    enmo_std_rolling_median_100_shift_1000  \\\n",
       "0                                      NaN   \n",
       "1                                      NaN   \n",
       "18                                     NaN   \n",
       "19                                     NaN   \n",
       "20                                     NaN   \n",
       "\n",
       "    anglez_diff_abs_clip5_std_rolling_median_100_shift_1000  \\\n",
       "0                                                 NaN         \n",
       "1                                                 NaN         \n",
       "18                                                NaN         \n",
       "19                                                NaN         \n",
       "20                                                NaN         \n",
       "\n",
       "    enmo_rolling_square_mean_100_shift_1000  \\\n",
       "0                                       NaN   \n",
       "1                                       NaN   \n",
       "18                                      NaN   \n",
       "19                                      NaN   \n",
       "20                                      NaN   \n",
       "\n",
       "    anglez_diff_abs_clip5_rolling_square_mean_100_shift_1000  \\\n",
       "0                                                 NaN          \n",
       "1                                                 NaN          \n",
       "18                                                NaN          \n",
       "19                                                NaN          \n",
       "20                                                NaN          \n",
       "\n",
       "    enmo_std_rolling_square_mean_100_shift_1000  \\\n",
       "0                                           NaN   \n",
       "1                                           NaN   \n",
       "18                                          NaN   \n",
       "19                                          NaN   \n",
       "20                                          NaN   \n",
       "\n",
       "    anglez_diff_abs_clip5_std_rolling_square_mean_100_shift_1000  reduce_step  \\\n",
       "0                                                 NaN                      11   \n",
       "1                                                 NaN                      35   \n",
       "18                                                NaN                     443   \n",
       "19                                                NaN                     467   \n",
       "20                                                NaN                     491   \n",
       "\n",
       "    fold  \n",
       "0      3  \n",
       "1      3  \n",
       "18     3  \n",
       "19     3  \n",
       "20     3  \n",
       "\n",
       "[5 rows x 1307 columns]"
      ]
     },
     "metadata": {},
     "output_type": "display_data"
    },
    {
     "data": {
      "text/plain": [
       "(537520, 1307)"
      ]
     },
     "execution_count": 2,
     "metadata": {},
     "output_type": "execute_result"
    }
   ],
   "source": [
    "# 特徴生成\n",
    "files = glob(f\"{CFG['dataset']['step_csv_dir']}/*.parquet\")\n",
    "train, features = generate_features(files)\n",
    "\n",
    "# cv splitとマージ\n",
    "cv_split = pd.read_csv(CFG['dataset']['cv_split_path'])\n",
    "train[\"fold\"] = train[\"series_id\"].map(cv_split.set_index(\"series_id\")[\"fold\"])\n",
    "display(train.head(5))\n",
    "train.shape"
   ]
  },
  {
   "cell_type": "code",
   "execution_count": 3,
   "metadata": {},
   "outputs": [
    {
     "name": "stderr",
     "output_type": "stream",
     "text": [
      "  0%|          | 0/5 [00:00<?, ?it/s]"
     ]
    },
    {
     "name": "stdout",
     "output_type": "stream",
     "text": [
      "== fold 0 ==\n",
      "[0]\teval-rmse:1.59480\n",
      "[100]\teval-rmse:1.18449\n",
      "[200]\teval-rmse:1.07363\n",
      "[300]\teval-rmse:1.04068\n",
      "[400]\teval-rmse:1.02866\n",
      "[500]\teval-rmse:1.02412\n",
      "[600]\teval-rmse:1.02201\n",
      "[700]\teval-rmse:1.02080\n",
      "[800]\teval-rmse:1.01965\n",
      "[900]\teval-rmse:1.01872\n",
      "[1000]\teval-rmse:1.01794\n",
      "[1100]\teval-rmse:1.01738\n",
      "[1200]\teval-rmse:1.01683\n",
      "[1300]\teval-rmse:1.01658\n",
      "[1400]\teval-rmse:1.01621\n",
      "[1500]\teval-rmse:1.01592\n",
      "[1600]\teval-rmse:1.01554\n",
      "[1700]\teval-rmse:1.01544\n",
      "[1800]\teval-rmse:1.01542\n",
      "[1900]\teval-rmse:1.01526\n",
      "[2000]\teval-rmse:1.01510\n",
      "[2100]\teval-rmse:1.01497\n",
      "[2200]\teval-rmse:1.01488\n",
      "[2300]\teval-rmse:1.01473\n",
      "[2400]\teval-rmse:1.01469\n",
      "[2500]\teval-rmse:1.01460\n",
      "[2600]\teval-rmse:1.01460\n",
      "[2650]\teval-rmse:1.01472\n"
     ]
    },
    {
     "name": "stderr",
     "output_type": "stream",
     "text": [
      " 20%|██        | 1/5 [01:50<07:23, 110.99s/it]"
     ]
    },
    {
     "name": "stdout",
     "output_type": "stream",
     "text": [
      "== fold 1 ==\n",
      "[0]\teval-rmse:1.42558\n",
      "[100]\teval-rmse:1.07449\n",
      "[200]\teval-rmse:0.98590\n",
      "[300]\teval-rmse:0.95858\n",
      "[400]\teval-rmse:0.94707\n",
      "[500]\teval-rmse:0.94159\n",
      "[600]\teval-rmse:0.93919\n",
      "[700]\teval-rmse:0.93750\n",
      "[800]\teval-rmse:0.93657\n",
      "[900]\teval-rmse:0.93577\n",
      "[1000]\teval-rmse:0.93506\n",
      "[1100]\teval-rmse:0.93427\n",
      "[1200]\teval-rmse:0.93344\n",
      "[1300]\teval-rmse:0.93292\n",
      "[1400]\teval-rmse:0.93240\n",
      "[1500]\teval-rmse:0.93185\n",
      "[1600]\teval-rmse:0.93141\n",
      "[1700]\teval-rmse:0.93099\n",
      "[1800]\teval-rmse:0.93067\n",
      "[1900]\teval-rmse:0.93034\n",
      "[2000]\teval-rmse:0.93004\n",
      "[2100]\teval-rmse:0.92982\n",
      "[2200]\teval-rmse:0.92958\n",
      "[2300]\teval-rmse:0.92947\n",
      "[2400]\teval-rmse:0.92934\n",
      "[2500]\teval-rmse:0.92909\n",
      "[2600]\teval-rmse:0.92895\n",
      "[2700]\teval-rmse:0.92877\n",
      "[2800]\teval-rmse:0.92869\n",
      "[2900]\teval-rmse:0.92843\n",
      "[3000]\teval-rmse:0.92830\n",
      "[3100]\teval-rmse:0.92819\n",
      "[3200]\teval-rmse:0.92808\n",
      "[3300]\teval-rmse:0.92807\n",
      "[3400]\teval-rmse:0.92807\n",
      "[3500]\teval-rmse:0.92790\n",
      "[3600]\teval-rmse:0.92798\n",
      "[3700]\teval-rmse:0.92798\n",
      "[3739]\teval-rmse:0.92799\n"
     ]
    },
    {
     "name": "stderr",
     "output_type": "stream",
     "text": [
      " 40%|████      | 2/5 [04:12<06:26, 128.92s/it]"
     ]
    },
    {
     "name": "stdout",
     "output_type": "stream",
     "text": [
      "== fold 2 ==\n",
      "[0]\teval-rmse:1.42290\n",
      "[100]\teval-rmse:1.08524\n",
      "[200]\teval-rmse:0.99690\n",
      "[300]\teval-rmse:0.96967\n",
      "[400]\teval-rmse:0.95917\n",
      "[500]\teval-rmse:0.95447\n",
      "[600]\teval-rmse:0.95210\n",
      "[700]\teval-rmse:0.95052\n",
      "[800]\teval-rmse:0.94962\n",
      "[900]\teval-rmse:0.94900\n",
      "[1000]\teval-rmse:0.94847\n",
      "[1100]\teval-rmse:0.94804\n",
      "[1200]\teval-rmse:0.94765\n",
      "[1300]\teval-rmse:0.94726\n",
      "[1400]\teval-rmse:0.94694\n",
      "[1500]\teval-rmse:0.94672\n",
      "[1600]\teval-rmse:0.94640\n",
      "[1700]\teval-rmse:0.94633\n",
      "[1800]\teval-rmse:0.94626\n",
      "[1900]\teval-rmse:0.94608\n",
      "[2000]\teval-rmse:0.94588\n",
      "[2100]\teval-rmse:0.94570\n",
      "[2200]\teval-rmse:0.94544\n",
      "[2300]\teval-rmse:0.94537\n",
      "[2400]\teval-rmse:0.94527\n",
      "[2500]\teval-rmse:0.94524\n",
      "[2600]\teval-rmse:0.94512\n",
      "[2700]\teval-rmse:0.94523\n",
      "[2800]\teval-rmse:0.94530\n",
      "[2802]\teval-rmse:0.94529\n"
     ]
    },
    {
     "name": "stderr",
     "output_type": "stream",
     "text": [
      " 60%|██████    | 3/5 [05:59<03:58, 119.08s/it]"
     ]
    },
    {
     "name": "stdout",
     "output_type": "stream",
     "text": [
      "== fold 3 ==\n",
      "[0]\teval-rmse:1.54770\n",
      "[100]\teval-rmse:1.15370\n",
      "[200]\teval-rmse:1.04928\n",
      "[300]\teval-rmse:1.02022\n",
      "[400]\teval-rmse:1.01033\n",
      "[500]\teval-rmse:1.00602\n",
      "[600]\teval-rmse:1.00351\n",
      "[700]\teval-rmse:1.00226\n",
      "[800]\teval-rmse:1.00141\n",
      "[900]\teval-rmse:1.00088\n",
      "[1000]\teval-rmse:1.00039\n",
      "[1100]\teval-rmse:1.00008\n",
      "[1200]\teval-rmse:0.99978\n",
      "[1300]\teval-rmse:0.99964\n",
      "[1400]\teval-rmse:0.99963\n",
      "[1500]\teval-rmse:0.99960\n",
      "[1600]\teval-rmse:0.99980\n",
      "[1643]\teval-rmse:0.99977\n"
     ]
    },
    {
     "name": "stderr",
     "output_type": "stream",
     "text": [
      " 80%|████████  | 4/5 [07:10<01:39, 99.89s/it] "
     ]
    },
    {
     "name": "stdout",
     "output_type": "stream",
     "text": [
      "== fold 4 ==\n",
      "[0]\teval-rmse:1.44215\n",
      "[100]\teval-rmse:1.08645\n",
      "[200]\teval-rmse:0.99379\n",
      "[300]\teval-rmse:0.96629\n",
      "[400]\teval-rmse:0.95709\n",
      "[500]\teval-rmse:0.95340\n",
      "[600]\teval-rmse:0.95142\n",
      "[700]\teval-rmse:0.95034\n",
      "[800]\teval-rmse:0.94970\n",
      "[900]\teval-rmse:0.94917\n",
      "[1000]\teval-rmse:0.94889\n",
      "[1100]\teval-rmse:0.94867\n",
      "[1200]\teval-rmse:0.94842\n",
      "[1300]\teval-rmse:0.94828\n",
      "[1400]\teval-rmse:0.94809\n",
      "[1500]\teval-rmse:0.94787\n",
      "[1600]\teval-rmse:0.94768\n",
      "[1700]\teval-rmse:0.94749\n",
      "[1800]\teval-rmse:0.94728\n",
      "[1900]\teval-rmse:0.94711\n",
      "[2000]\teval-rmse:0.94691\n",
      "[2100]\teval-rmse:0.94684\n",
      "[2200]\teval-rmse:0.94669\n",
      "[2300]\teval-rmse:0.94675\n",
      "[2396]\teval-rmse:0.94678\n"
     ]
    },
    {
     "name": "stderr",
     "output_type": "stream",
     "text": [
      "100%|██████████| 5/5 [08:44<00:00, 104.99s/it]\n",
      "  0%|          | 0/5 [00:00<?, ?it/s]"
     ]
    },
    {
     "name": "stdout",
     "output_type": "stream",
     "text": [
      "== fold 0 ==\n",
      "[0]\teval-rmse:1.60124\n",
      "[100]\teval-rmse:1.18389\n",
      "[200]\teval-rmse:1.07224\n",
      "[300]\teval-rmse:1.04070\n",
      "[400]\teval-rmse:1.02975\n",
      "[500]\teval-rmse:1.02511\n",
      "[600]\teval-rmse:1.02286\n",
      "[700]\teval-rmse:1.02200\n",
      "[800]\teval-rmse:1.02113\n",
      "[900]\teval-rmse:1.02066\n",
      "[1000]\teval-rmse:1.02029\n",
      "[1100]\teval-rmse:1.02007\n",
      "[1200]\teval-rmse:1.01993\n",
      "[1300]\teval-rmse:1.01990\n",
      "[1400]\teval-rmse:1.01964\n",
      "[1500]\teval-rmse:1.01960\n",
      "[1600]\teval-rmse:1.01951\n",
      "[1700]\teval-rmse:1.01948\n",
      "[1800]\teval-rmse:1.01943\n",
      "[1900]\teval-rmse:1.01941\n",
      "[2000]\teval-rmse:1.01935\n",
      "[2100]\teval-rmse:1.01943\n",
      "[2187]\teval-rmse:1.01941\n"
     ]
    },
    {
     "name": "stderr",
     "output_type": "stream",
     "text": [
      " 20%|██        | 1/5 [01:26<05:44, 86.23s/it]"
     ]
    },
    {
     "name": "stdout",
     "output_type": "stream",
     "text": [
      "== fold 1 ==\n",
      "[0]\teval-rmse:1.42519\n",
      "[100]\teval-rmse:1.04207\n",
      "[200]\teval-rmse:0.93764\n",
      "[300]\teval-rmse:0.90554\n",
      "[400]\teval-rmse:0.89270\n",
      "[500]\teval-rmse:0.88613\n",
      "[600]\teval-rmse:0.88359\n",
      "[700]\teval-rmse:0.88238\n",
      "[800]\teval-rmse:0.88157\n",
      "[900]\teval-rmse:0.88087\n",
      "[1000]\teval-rmse:0.88036\n",
      "[1100]\teval-rmse:0.88018\n",
      "[1200]\teval-rmse:0.87996\n",
      "[1300]\teval-rmse:0.87955\n",
      "[1400]\teval-rmse:0.87925\n",
      "[1500]\teval-rmse:0.87903\n",
      "[1600]\teval-rmse:0.87888\n",
      "[1700]\teval-rmse:0.87880\n",
      "[1800]\teval-rmse:0.87871\n",
      "[1900]\teval-rmse:0.87863\n",
      "[2000]\teval-rmse:0.87856\n",
      "[2100]\teval-rmse:0.87857\n",
      "[2200]\teval-rmse:0.87863\n",
      "[2247]\teval-rmse:0.87865\n"
     ]
    },
    {
     "name": "stderr",
     "output_type": "stream",
     "text": [
      " 40%|████      | 2/5 [02:54<04:22, 87.65s/it]"
     ]
    },
    {
     "name": "stdout",
     "output_type": "stream",
     "text": [
      "== fold 2 ==\n",
      "[0]\teval-rmse:1.42033\n",
      "[100]\teval-rmse:1.07193\n",
      "[200]\teval-rmse:0.97869\n",
      "[300]\teval-rmse:0.94947\n",
      "[400]\teval-rmse:0.93885\n",
      "[500]\teval-rmse:0.93405\n",
      "[600]\teval-rmse:0.93120\n",
      "[700]\teval-rmse:0.92976\n",
      "[800]\teval-rmse:0.92884\n",
      "[900]\teval-rmse:0.92795\n",
      "[1000]\teval-rmse:0.92727\n",
      "[1100]\teval-rmse:0.92701\n",
      "[1200]\teval-rmse:0.92669\n",
      "[1300]\teval-rmse:0.92653\n",
      "[1400]\teval-rmse:0.92646\n",
      "[1500]\teval-rmse:0.92636\n",
      "[1600]\teval-rmse:0.92632\n",
      "[1700]\teval-rmse:0.92618\n",
      "[1800]\teval-rmse:0.92612\n",
      "[1900]\teval-rmse:0.92600\n",
      "[2000]\teval-rmse:0.92593\n",
      "[2100]\teval-rmse:0.92592\n",
      "[2200]\teval-rmse:0.92574\n",
      "[2300]\teval-rmse:0.92574\n",
      "[2400]\teval-rmse:0.92585\n",
      "[2500]\teval-rmse:0.92567\n",
      "[2600]\teval-rmse:0.92570\n",
      "[2700]\teval-rmse:0.92563\n",
      "[2800]\teval-rmse:0.92557\n",
      "[2900]\teval-rmse:0.92556\n",
      "[3000]\teval-rmse:0.92556\n",
      "[3100]\teval-rmse:0.92566\n",
      "[3167]\teval-rmse:0.92568\n"
     ]
    },
    {
     "name": "stderr",
     "output_type": "stream",
     "text": [
      " 60%|██████    | 3/5 [04:53<03:23, 101.63s/it]"
     ]
    },
    {
     "name": "stdout",
     "output_type": "stream",
     "text": [
      "== fold 3 ==\n",
      "[0]\teval-rmse:1.54295\n",
      "[100]\teval-rmse:1.16274\n",
      "[200]\teval-rmse:1.07195\n",
      "[300]\teval-rmse:1.04908\n",
      "[400]\teval-rmse:1.04121\n",
      "[500]\teval-rmse:1.03772\n",
      "[600]\teval-rmse:1.03633\n",
      "[700]\teval-rmse:1.03557\n",
      "[800]\teval-rmse:1.03523\n",
      "[900]\teval-rmse:1.03488\n",
      "[1000]\teval-rmse:1.03490\n",
      "[1100]\teval-rmse:1.03482\n",
      "[1200]\teval-rmse:1.03486\n",
      "[1251]\teval-rmse:1.03485\n"
     ]
    },
    {
     "name": "stderr",
     "output_type": "stream",
     "text": [
      " 80%|████████  | 4/5 [05:47<01:22, 82.77s/it] "
     ]
    },
    {
     "name": "stdout",
     "output_type": "stream",
     "text": [
      "== fold 4 ==\n",
      "[0]\teval-rmse:1.43841\n",
      "[100]\teval-rmse:1.08183\n",
      "[200]\teval-rmse:0.99571\n",
      "[300]\teval-rmse:0.97295\n",
      "[400]\teval-rmse:0.96572\n",
      "[500]\teval-rmse:0.96205\n",
      "[600]\teval-rmse:0.95992\n",
      "[700]\teval-rmse:0.95898\n",
      "[800]\teval-rmse:0.95808\n",
      "[900]\teval-rmse:0.95756\n",
      "[1000]\teval-rmse:0.95714\n",
      "[1100]\teval-rmse:0.95677\n",
      "[1200]\teval-rmse:0.95647\n",
      "[1300]\teval-rmse:0.95613\n",
      "[1400]\teval-rmse:0.95583\n",
      "[1500]\teval-rmse:0.95559\n",
      "[1600]\teval-rmse:0.95533\n",
      "[1700]\teval-rmse:0.95497\n",
      "[1800]\teval-rmse:0.95479\n",
      "[1900]\teval-rmse:0.95472\n",
      "[2000]\teval-rmse:0.95457\n",
      "[2100]\teval-rmse:0.95457\n",
      "[2200]\teval-rmse:0.95438\n",
      "[2300]\teval-rmse:0.95432\n",
      "[2400]\teval-rmse:0.95424\n",
      "[2500]\teval-rmse:0.95410\n",
      "[2600]\teval-rmse:0.95408\n",
      "[2700]\teval-rmse:0.95398\n",
      "[2800]\teval-rmse:0.95393\n",
      "[2900]\teval-rmse:0.95392\n",
      "[3000]\teval-rmse:0.95394\n",
      "[3100]\teval-rmse:0.95397\n",
      "[3135]\teval-rmse:0.95399\n"
     ]
    },
    {
     "name": "stderr",
     "output_type": "stream",
     "text": [
      "100%|██████████| 5/5 [07:43<00:00, 92.64s/it]\n"
     ]
    }
   ],
   "source": [
    "# 学習\n",
    "dfs = []\n",
    "for event in [\"wakeup\", \"onset\"]:\n",
    "    trn_oof, models = fit_xgb(\n",
    "        X=train, \n",
    "        y=train[f\"{event}_target\"], \n",
    "        folds=train[\"fold\"].astype(int), \n",
    "        features=features.all_features(),\n",
    "        params=CFG[MODEL_NAME][\"xgboost\"], \n",
    "        es_rounds=200,\n",
    "    )\n",
    "    train[\"score\"] = trn_oof\n",
    "    train[\"event\"] = event\n",
    "    dfs.append(train[[\"series_id\", \"step\", \"score\", \"event\"]])\n",
    "\n",
    "    # 保存\n",
    "    for i, model in enumerate(models):\n",
    "        model.save_model(os.path.join(CFG[\"output_dir\"], f'xgb_{event}_fold_{i}.model'))\n",
    "del train\n",
    "gc.collect()\n",
    "train = pd.concat(dfs, axis=0)\n",
    "train[\"step\"] = train[\"step\"].astype(int)\n",
    "train = train.sort_values([\"series_id\", \"step\"]).reset_index(drop=True)\n",
    "\n",
    "\n",
    "with open(os.path.join(CFG[\"output_dir\"], \"features.pkl\"), \"wb\") as f:\n",
    "    pickle.dump(features, f)\n",
    "train.to_csv(os.path.join(CFG[\"output_dir\"], \"oof.csv\"), index=False)"
   ]
  },
  {
   "cell_type": "markdown",
   "metadata": {},
   "source": [
    "## Dynamic-Range NMS"
   ]
  },
  {
   "cell_type": "code",
   "execution_count": 4,
   "metadata": {},
   "outputs": [
    {
     "data": {
      "text/plain": [
       "<AxesSubplot: >"
      ]
     },
     "execution_count": 4,
     "metadata": {},
     "output_type": "execute_result"
    },
    {
     "data": {
      "image/png": "[encoded data removed]",
      "text/plain": [
       "<Figure size 640x480 with 1 Axes>"
      ]
     },
     "metadata": {},
     "output_type": "display_data"
    }
   ],
   "source": [
    "train = train[train[\"score\"] > 0.005]\n",
    "train[\"score\"].hist()"
   ]
  },
  {
   "cell_type": "code",
   "execution_count": 5,
   "metadata": {},
   "outputs": [
    {
     "name": "stderr",
     "output_type": "stream",
     "text": [
      "100%|██████████| 277/277 [00:07<00:00, 37.16it/s]\n"
     ]
    }
   ],
   "source": [
    "from utils.postprocess import dynamic_range_nms\n",
    "from multiprocessing import Pool\n",
    "from tqdm import tqdm\n",
    "\n",
    "train[\"step\"] = train[\"step\"].astype(int)\n",
    "\n",
    "groups = [group for _, group in train.groupby(\"series_id\")]\n",
    "with Pool(30) as p:  \n",
    "    results = list(tqdm(p.imap(dynamic_range_nms, groups), total=len(groups)))\n",
    "sub = pd.concat(results)\n",
    "sub[\"score\"] = sub[\"reduced_score\"]"
   ]
  },
  {
   "cell_type": "code",
   "execution_count": 6,
   "metadata": {},
   "outputs": [
    {
     "name": "stdout",
     "output_type": "stream",
     "text": [
      "score: 0.7742\n"
     ]
    },
    {
     "data": {
      "text/plain": [
       "event   tolerance\n",
       "onset   12           0.260540\n",
       "        36           0.668111\n",
       "        60           0.767135\n",
       "        90           0.812435\n",
       "        120          0.834705\n",
       "        150          0.851091\n",
       "        180          0.862080\n",
       "        240          0.877687\n",
       "        300          0.884532\n",
       "        360          0.889889\n",
       "wakeup  12           0.219216\n",
       "        36           0.689269\n",
       "        60           0.774846\n",
       "        90           0.818201\n",
       "        120          0.842282\n",
       "        150          0.860085\n",
       "        180          0.871771\n",
       "        240          0.889322\n",
       "        300          0.899936\n",
       "        360          0.910303\n",
       "dtype: float64"
      ]
     },
     "metadata": {},
     "output_type": "display_data"
    }
   ],
   "source": [
    "# スコア計算\n",
    "labels = pd.read_csv(f\"{CFG['dataset']['competition_dir']}/train_events.csv\").dropna()\n",
    "score, ap_table = compute_comptetition_metric(labels, sub)\n",
    "\n",
    "print(f\"score: {score:.4f}\")\n",
    "display(ap_table)\n",
    "sub.to_csv(os.path.join(CFG[\"output_dir\"], \"submission_after_nms.csv\"), index=False)"
   ]
  },
  {
   "cell_type": "code",
   "execution_count": null,
   "metadata": {},
   "outputs": [],
   "source": []
  },
  {
   "cell_type": "code",
   "execution_count": null,
   "metadata": {},
   "outputs": [],
   "source": []
  }
 ],
 "metadata": {
  "kernelspec": {
   "display_name": "base",
   "language": "python",
   "name": "python3"
  },
  "language_info": {
   "codemirror_mode": {
    "name": "ipython",
    "version": 3
   },
   "file_extension": ".py",
   "mimetype": "text/x-python",
   "name": "python",
   "nbconvert_exporter": "python",
   "pygments_lexer": "ipython3",
   "version": "3.10.10"
  },
  "orig_nbformat": 4
 },
 "nbformat": 4,
 "nbformat_minor": 2
}
