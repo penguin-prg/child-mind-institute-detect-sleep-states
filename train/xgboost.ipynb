{
 "cells": [
  {
   "cell_type": "code",
   "execution_count": 1,
   "metadata": {},
   "outputs": [
    {
     "name": "stderr",
     "output_type": "stream",
     "text": [
      "2023-10-30 11:32:51.342830: I tensorflow/core/platform/cpu_feature_guard.cc:193] This TensorFlow binary is optimized with oneAPI Deep Neural Network Library (oneDNN) to use the following CPU instructions in performance-critical operations:  AVX2 AVX_VNNI FMA\n",
      "To enable them in other operations, rebuild TensorFlow with the appropriate compiler flags.\n",
      "2023-10-30 11:32:51.411564: I tensorflow/core/util/port.cc:104] oneDNN custom operations are on. You may see slightly different numerical results due to floating-point round-off errors from different computation orders. To turn them off, set the environment variable `TF_ENABLE_ONEDNN_OPTS=0`.\n",
      "2023-10-30 11:32:51.851286: W tensorflow/compiler/xla/stream_executor/platform/default/dso_loader.cc:64] Could not load dynamic library 'libnvinfer.so.7'; dlerror: libnvinfer.so.7: cannot open shared object file: No such file or directory; LD_LIBRARY_PATH: /usr/local/cuda/lib64:/usr/local/cuda/lib:/usr/local/lib/x86_64-linux-gnu:/usr/local/nvidia/lib:/usr/local/nvidia/lib64:/usr/local/nvidia/lib:/usr/local/nvidia/lib64:/opt/conda/lib\n",
      "2023-10-30 11:32:51.851355: W tensorflow/compiler/xla/stream_executor/platform/default/dso_loader.cc:64] Could not load dynamic library 'libnvinfer_plugin.so.7'; dlerror: libnvinfer_plugin.so.7: cannot open shared object file: No such file or directory; LD_LIBRARY_PATH: /usr/local/cuda/lib64:/usr/local/cuda/lib:/usr/local/lib/x86_64-linux-gnu:/usr/local/nvidia/lib:/usr/local/nvidia/lib64:/usr/local/nvidia/lib:/usr/local/nvidia/lib64:/opt/conda/lib\n",
      "2023-10-30 11:32:51.851360: W tensorflow/compiler/tf2tensorrt/utils/py_utils.cc:38] TF-TRT Warning: Cannot dlopen some TensorRT libraries. If you would like to use Nvidia GPU with TensorRT, please make sure the missing libraries mentioned above are installed properly.\n"
     ]
    },
    {
     "name": "stdout",
     "output_type": "stream",
     "text": [
      "exp_107\n"
     ]
    }
   ],
   "source": [
    "import pandas as pd\n",
    "import yaml\n",
    "import sys\n",
    "import os\n",
    "from glob import glob\n",
    "from pathlib import Path\n",
    "import gc\n",
    "import pickle\n",
    "\n",
    "import warnings\n",
    "warnings.filterwarnings('ignore')\n",
    "\n",
    "sys.path.append('/kaggle/src')\n",
    "from utils.xgb import fit_xgb\n",
    "from utils.metric import compute_comptetition_metric\n",
    "from utils.postprocess import post_process\n",
    "from utils.set_seed import seed_base\n",
    "from feature_engineering.fe_xgb import generate_features\n",
    "\n",
    "MODEL_NAME = \"xgb_model\"\n",
    "PACKAGE_DIR = Path(\"/kaggle/src\")\n",
    "CFG = yaml.safe_load(open(PACKAGE_DIR / \"config.yaml\", \"r\"))\n",
    "print(CFG[MODEL_NAME][\"execution\"][\"exp_id\"])\n",
    "\n",
    "CFG[\"output_dir\"] = f\"/kaggle/output/{CFG[MODEL_NAME]['execution']['exp_id']}\"\n",
    "!rm -r {CFG[\"output_dir\"]}\n",
    "os.makedirs(CFG[\"output_dir\"], exist_ok=True)\n",
    "\n",
    "seed_base(CFG[\"env\"][\"seed\"])"
   ]
  },
  {
   "cell_type": "code",
   "execution_count": 2,
   "metadata": {},
   "outputs": [
    {
     "name": "stderr",
     "output_type": "stream",
     "text": [
      "generate features: 100%|██████████| 277/277 [04:13<00:00,  1.09it/s]\n"
     ]
    },
    {
     "data": {
      "text/html": [
       "<div>\n",
       "<style scoped>\n",
       "    .dataframe tbody tr th:only-of-type {\n",
       "        vertical-align: middle;\n",
       "    }\n",
       "\n",
       "    .dataframe tbody tr th {\n",
       "        vertical-align: top;\n",
       "    }\n",
       "\n",
       "    .dataframe thead th {\n",
       "        text-align: right;\n",
       "    }\n",
       "</style>\n",
       "<table border=\"1\" class=\"dataframe\">\n",
       "  <thead>\n",
       "    <tr style=\"text-align: right;\">\n",
       "      <th></th>\n",
       "      <th>anglez</th>\n",
       "      <th>anglez_diff_abs</th>\n",
       "      <th>anglez_diff_abs_clip5</th>\n",
       "      <th>anglez_mean</th>\n",
       "      <th>enmo</th>\n",
       "      <th>enmo_diff_abs</th>\n",
       "      <th>enmo_mean</th>\n",
       "      <th>minutes</th>\n",
       "      <th>same_count</th>\n",
       "      <th>total_seconds</th>\n",
       "      <th>...</th>\n",
       "      <th>enmo_rolling_median_100_shift_1000</th>\n",
       "      <th>anglez_diff_abs_clip5_rolling_median_100_shift_1000</th>\n",
       "      <th>enmo_std_rolling_median_100_shift_1000</th>\n",
       "      <th>anglez_diff_abs_clip5_std_rolling_median_100_shift_1000</th>\n",
       "      <th>enmo_rolling_square_mean_100_shift_1000</th>\n",
       "      <th>anglez_diff_abs_clip5_rolling_square_mean_100_shift_1000</th>\n",
       "      <th>enmo_std_rolling_square_mean_100_shift_1000</th>\n",
       "      <th>anglez_diff_abs_clip5_std_rolling_square_mean_100_shift_1000</th>\n",
       "      <th>reduce_step</th>\n",
       "      <th>fold</th>\n",
       "    </tr>\n",
       "  </thead>\n",
       "  <tbody>\n",
       "    <tr>\n",
       "      <th>26</th>\n",
       "      <td>-88.176750</td>\n",
       "      <td>0.061158</td>\n",
       "      <td>0.061158</td>\n",
       "      <td>-5.381793</td>\n",
       "      <td>0.029067</td>\n",
       "      <td>0.000238</td>\n",
       "      <td>0.043929</td>\n",
       "      <td>477.5</td>\n",
       "      <td>0.0</td>\n",
       "      <td>47277.5</td>\n",
       "      <td>...</td>\n",
       "      <td>NaN</td>\n",
       "      <td>NaN</td>\n",
       "      <td>NaN</td>\n",
       "      <td>NaN</td>\n",
       "      <td>NaN</td>\n",
       "      <td>NaN</td>\n",
       "      <td>NaN</td>\n",
       "      <td>NaN</td>\n",
       "      <td>635</td>\n",
       "      <td>3</td>\n",
       "    </tr>\n",
       "    <tr>\n",
       "      <th>27</th>\n",
       "      <td>-88.181526</td>\n",
       "      <td>0.078712</td>\n",
       "      <td>0.078712</td>\n",
       "      <td>-12.090329</td>\n",
       "      <td>0.029175</td>\n",
       "      <td>0.000292</td>\n",
       "      <td>0.030480</td>\n",
       "      <td>597.5</td>\n",
       "      <td>0.0</td>\n",
       "      <td>47397.5</td>\n",
       "      <td>...</td>\n",
       "      <td>NaN</td>\n",
       "      <td>NaN</td>\n",
       "      <td>NaN</td>\n",
       "      <td>NaN</td>\n",
       "      <td>NaN</td>\n",
       "      <td>NaN</td>\n",
       "      <td>NaN</td>\n",
       "      <td>NaN</td>\n",
       "      <td>659</td>\n",
       "      <td>3</td>\n",
       "    </tr>\n",
       "    <tr>\n",
       "      <th>28</th>\n",
       "      <td>-88.507393</td>\n",
       "      <td>0.106242</td>\n",
       "      <td>0.106242</td>\n",
       "      <td>-7.547437</td>\n",
       "      <td>0.029108</td>\n",
       "      <td>0.000433</td>\n",
       "      <td>0.051443</td>\n",
       "      <td>717.5</td>\n",
       "      <td>0.0</td>\n",
       "      <td>47517.5</td>\n",
       "      <td>...</td>\n",
       "      <td>NaN</td>\n",
       "      <td>NaN</td>\n",
       "      <td>NaN</td>\n",
       "      <td>NaN</td>\n",
       "      <td>NaN</td>\n",
       "      <td>NaN</td>\n",
       "      <td>NaN</td>\n",
       "      <td>NaN</td>\n",
       "      <td>683</td>\n",
       "      <td>3</td>\n",
       "    </tr>\n",
       "    <tr>\n",
       "      <th>29</th>\n",
       "      <td>-89.259064</td>\n",
       "      <td>0.057546</td>\n",
       "      <td>0.057546</td>\n",
       "      <td>-10.070161</td>\n",
       "      <td>0.029858</td>\n",
       "      <td>0.000262</td>\n",
       "      <td>0.104063</td>\n",
       "      <td>837.5</td>\n",
       "      <td>0.0</td>\n",
       "      <td>47637.5</td>\n",
       "      <td>...</td>\n",
       "      <td>NaN</td>\n",
       "      <td>NaN</td>\n",
       "      <td>NaN</td>\n",
       "      <td>NaN</td>\n",
       "      <td>NaN</td>\n",
       "      <td>NaN</td>\n",
       "      <td>NaN</td>\n",
       "      <td>NaN</td>\n",
       "      <td>707</td>\n",
       "      <td>3</td>\n",
       "    </tr>\n",
       "    <tr>\n",
       "      <th>30</th>\n",
       "      <td>-87.457848</td>\n",
       "      <td>0.147454</td>\n",
       "      <td>0.147454</td>\n",
       "      <td>-0.726222</td>\n",
       "      <td>0.029458</td>\n",
       "      <td>0.000533</td>\n",
       "      <td>0.095024</td>\n",
       "      <td>957.5</td>\n",
       "      <td>0.0</td>\n",
       "      <td>47757.5</td>\n",
       "      <td>...</td>\n",
       "      <td>NaN</td>\n",
       "      <td>NaN</td>\n",
       "      <td>NaN</td>\n",
       "      <td>NaN</td>\n",
       "      <td>NaN</td>\n",
       "      <td>NaN</td>\n",
       "      <td>NaN</td>\n",
       "      <td>NaN</td>\n",
       "      <td>731</td>\n",
       "      <td>3</td>\n",
       "    </tr>\n",
       "  </tbody>\n",
       "</table>\n",
       "<p>5 rows × 1307 columns</p>\n",
       "</div>"
      ],
      "text/plain": [
       "       anglez  anglez_diff_abs  anglez_diff_abs_clip5  anglez_mean      enmo  \\\n",
       "26 -88.176750         0.061158               0.061158    -5.381793  0.029067   \n",
       "27 -88.181526         0.078712               0.078712   -12.090329  0.029175   \n",
       "28 -88.507393         0.106242               0.106242    -7.547437  0.029108   \n",
       "29 -89.259064         0.057546               0.057546   -10.070161  0.029858   \n",
       "30 -87.457848         0.147454               0.147454    -0.726222  0.029458   \n",
       "\n",
       "    enmo_diff_abs  enmo_mean  minutes  same_count  total_seconds  ...  \\\n",
       "26       0.000238   0.043929    477.5         0.0        47277.5  ...   \n",
       "27       0.000292   0.030480    597.5         0.0        47397.5  ...   \n",
       "28       0.000433   0.051443    717.5         0.0        47517.5  ...   \n",
       "29       0.000262   0.104063    837.5         0.0        47637.5  ...   \n",
       "30       0.000533   0.095024    957.5         0.0        47757.5  ...   \n",
       "\n",
       "    enmo_rolling_median_100_shift_1000  \\\n",
       "26                                 NaN   \n",
       "27                                 NaN   \n",
       "28                                 NaN   \n",
       "29                                 NaN   \n",
       "30                                 NaN   \n",
       "\n",
       "    anglez_diff_abs_clip5_rolling_median_100_shift_1000  \\\n",
       "26                                                NaN     \n",
       "27                                                NaN     \n",
       "28                                                NaN     \n",
       "29                                                NaN     \n",
       "30                                                NaN     \n",
       "\n",
       "    enmo_std_rolling_median_100_shift_1000  \\\n",
       "26                                     NaN   \n",
       "27                                     NaN   \n",
       "28                                     NaN   \n",
       "29                                     NaN   \n",
       "30                                     NaN   \n",
       "\n",
       "    anglez_diff_abs_clip5_std_rolling_median_100_shift_1000  \\\n",
       "26                                                NaN         \n",
       "27                                                NaN         \n",
       "28                                                NaN         \n",
       "29                                                NaN         \n",
       "30                                                NaN         \n",
       "\n",
       "    enmo_rolling_square_mean_100_shift_1000  \\\n",
       "26                                      NaN   \n",
       "27                                      NaN   \n",
       "28                                      NaN   \n",
       "29                                      NaN   \n",
       "30                                      NaN   \n",
       "\n",
       "    anglez_diff_abs_clip5_rolling_square_mean_100_shift_1000  \\\n",
       "26                                                NaN          \n",
       "27                                                NaN          \n",
       "28                                                NaN          \n",
       "29                                                NaN          \n",
       "30                                                NaN          \n",
       "\n",
       "    enmo_std_rolling_square_mean_100_shift_1000  \\\n",
       "26                                          NaN   \n",
       "27                                          NaN   \n",
       "28                                          NaN   \n",
       "29                                          NaN   \n",
       "30                                          NaN   \n",
       "\n",
       "    anglez_diff_abs_clip5_std_rolling_square_mean_100_shift_1000  reduce_step  \\\n",
       "26                                                NaN                     635   \n",
       "27                                                NaN                     659   \n",
       "28                                                NaN                     683   \n",
       "29                                                NaN                     707   \n",
       "30                                                NaN                     731   \n",
       "\n",
       "    fold  \n",
       "26     3  \n",
       "27     3  \n",
       "28     3  \n",
       "29     3  \n",
       "30     3  \n",
       "\n",
       "[5 rows x 1307 columns]"
      ]
     },
     "metadata": {},
     "output_type": "display_data"
    },
    {
     "data": {
      "text/plain": [
       "(528794, 1307)"
      ]
     },
     "execution_count": 2,
     "metadata": {},
     "output_type": "execute_result"
    }
   ],
   "source": [
    "# 特徴生成\n",
    "files = glob(f\"{CFG['dataset']['step_csv_dir']}/*.parquet\")\n",
    "train, features = generate_features(files)\n",
    "\n",
    "# cv splitとマージ\n",
    "cv_split = pd.read_csv(CFG['dataset']['cv_split_path'])\n",
    "train[\"fold\"] = train[\"series_id\"].map(cv_split.set_index(\"series_id\")[\"fold\"])\n",
    "display(train.head(5))\n",
    "train.shape"
   ]
  },
  {
   "cell_type": "code",
   "execution_count": 3,
   "metadata": {},
   "outputs": [
    {
     "name": "stderr",
     "output_type": "stream",
     "text": [
      "  0%|          | 0/5 [00:00<?, ?it/s]"
     ]
    },
    {
     "name": "stdout",
     "output_type": "stream",
     "text": [
      "== fold 0 ==\n",
      "[0]\teval-rmse:2.16151\n",
      "[100]\teval-rmse:1.37061\n",
      "[200]\teval-rmse:1.17546\n",
      "[300]\teval-rmse:1.12491\n",
      "[400]\teval-rmse:1.11033\n",
      "[500]\teval-rmse:1.10404\n",
      "[600]\teval-rmse:1.10102\n",
      "[700]\teval-rmse:1.09952\n",
      "[800]\teval-rmse:1.09810\n",
      "[900]\teval-rmse:1.09721\n",
      "[1000]\teval-rmse:1.09620\n",
      "[1100]\teval-rmse:1.09538\n",
      "[1200]\teval-rmse:1.09484\n",
      "[1300]\teval-rmse:1.09423\n",
      "[1400]\teval-rmse:1.09367\n",
      "[1500]\teval-rmse:1.09356\n",
      "[1542]\teval-rmse:1.09362\n"
     ]
    },
    {
     "name": "stderr",
     "output_type": "stream",
     "text": [
      " 20%|██        | 1/5 [01:07<04:31, 67.95s/it]"
     ]
    },
    {
     "name": "stdout",
     "output_type": "stream",
     "text": [
      "== fold 1 ==\n",
      "[0]\teval-rmse:2.27888\n",
      "[100]\teval-rmse:1.45225\n",
      "[200]\teval-rmse:1.25009\n",
      "[300]\teval-rmse:1.19949\n",
      "[400]\teval-rmse:1.18180\n",
      "[500]\teval-rmse:1.17337\n",
      "[600]\teval-rmse:1.16912\n",
      "[700]\teval-rmse:1.16683\n",
      "[800]\teval-rmse:1.16545\n",
      "[900]\teval-rmse:1.16402\n",
      "[1000]\teval-rmse:1.16293\n",
      "[1100]\teval-rmse:1.16203\n",
      "[1200]\teval-rmse:1.16161\n",
      "[1300]\teval-rmse:1.16099\n",
      "[1400]\teval-rmse:1.16056\n",
      "[1500]\teval-rmse:1.16041\n",
      "[1600]\teval-rmse:1.16003\n",
      "[1700]\teval-rmse:1.15965\n",
      "[1800]\teval-rmse:1.15933\n",
      "[1900]\teval-rmse:1.15897\n",
      "[2000]\teval-rmse:1.15853\n",
      "[2100]\teval-rmse:1.15824\n",
      "[2200]\teval-rmse:1.15784\n",
      "[2300]\teval-rmse:1.15771\n",
      "[2400]\teval-rmse:1.15740\n",
      "[2500]\teval-rmse:1.15704\n",
      "[2600]\teval-rmse:1.15668\n",
      "[2700]\teval-rmse:1.15634\n",
      "[2800]\teval-rmse:1.15622\n",
      "[2900]\teval-rmse:1.15641\n",
      "[2903]\teval-rmse:1.15641\n"
     ]
    },
    {
     "name": "stderr",
     "output_type": "stream",
     "text": [
      " 40%|████      | 2/5 [03:03<04:47, 95.92s/it]"
     ]
    },
    {
     "name": "stdout",
     "output_type": "stream",
     "text": [
      "== fold 2 ==\n",
      "[0]\teval-rmse:2.21747\n",
      "[100]\teval-rmse:1.44719\n",
      "[200]\teval-rmse:1.24927\n",
      "[300]\teval-rmse:1.19945\n",
      "[400]\teval-rmse:1.18418\n",
      "[500]\teval-rmse:1.17707\n",
      "[600]\teval-rmse:1.17396\n",
      "[700]\teval-rmse:1.17196\n",
      "[800]\teval-rmse:1.17059\n",
      "[900]\teval-rmse:1.16951\n",
      "[1000]\teval-rmse:1.16849\n",
      "[1100]\teval-rmse:1.16806\n",
      "[1200]\teval-rmse:1.16740\n",
      "[1300]\teval-rmse:1.16705\n",
      "[1400]\teval-rmse:1.16664\n",
      "[1500]\teval-rmse:1.16636\n",
      "[1600]\teval-rmse:1.16621\n",
      "[1700]\teval-rmse:1.16597\n",
      "[1800]\teval-rmse:1.16581\n",
      "[1900]\teval-rmse:1.16569\n",
      "[2000]\teval-rmse:1.16559\n",
      "[2057]\teval-rmse:1.16565\n"
     ]
    },
    {
     "name": "stderr",
     "output_type": "stream",
     "text": [
      " 60%|██████    | 3/5 [04:26<03:00, 90.06s/it]"
     ]
    },
    {
     "name": "stdout",
     "output_type": "stream",
     "text": [
      "== fold 3 ==\n",
      "[0]\teval-rmse:2.25017\n",
      "[100]\teval-rmse:1.42469\n",
      "[200]\teval-rmse:1.22667\n",
      "[300]\teval-rmse:1.18551\n",
      "[400]\teval-rmse:1.17236\n",
      "[500]\teval-rmse:1.16980\n",
      "[600]\teval-rmse:1.16751\n",
      "[700]\teval-rmse:1.16543\n",
      "[800]\teval-rmse:1.16346\n",
      "[900]\teval-rmse:1.16243\n",
      "[1000]\teval-rmse:1.16225\n",
      "[1100]\teval-rmse:1.16244\n",
      "[1115]\teval-rmse:1.16244\n"
     ]
    },
    {
     "name": "stderr",
     "output_type": "stream",
     "text": [
      " 80%|████████  | 4/5 [05:17<01:14, 74.57s/it]"
     ]
    },
    {
     "name": "stdout",
     "output_type": "stream",
     "text": [
      "== fold 4 ==\n",
      "[0]\teval-rmse:2.28654\n",
      "[100]\teval-rmse:1.46701\n",
      "[200]\teval-rmse:1.26449\n",
      "[300]\teval-rmse:1.20951\n",
      "[400]\teval-rmse:1.19206\n",
      "[500]\teval-rmse:1.18386\n",
      "[600]\teval-rmse:1.17922\n",
      "[700]\teval-rmse:1.17719\n",
      "[800]\teval-rmse:1.17537\n",
      "[900]\teval-rmse:1.17397\n",
      "[1000]\teval-rmse:1.17344\n",
      "[1100]\teval-rmse:1.17322\n",
      "[1200]\teval-rmse:1.17322\n",
      "[1300]\teval-rmse:1.17292\n",
      "[1400]\teval-rmse:1.17282\n",
      "[1500]\teval-rmse:1.17262\n",
      "[1600]\teval-rmse:1.17218\n",
      "[1700]\teval-rmse:1.17204\n",
      "[1800]\teval-rmse:1.17211\n",
      "[1814]\teval-rmse:1.17206\n"
     ]
    },
    {
     "name": "stderr",
     "output_type": "stream",
     "text": [
      "100%|██████████| 5/5 [06:31<00:00, 78.35s/it]\n",
      "  0%|          | 0/5 [00:00<?, ?it/s]"
     ]
    },
    {
     "name": "stdout",
     "output_type": "stream",
     "text": [
      "== fold 0 ==\n",
      "[0]\teval-rmse:2.15698\n",
      "[100]\teval-rmse:1.37786\n",
      "[200]\teval-rmse:1.18614\n",
      "[300]\teval-rmse:1.13642\n",
      "[400]\teval-rmse:1.11920\n",
      "[500]\teval-rmse:1.11214\n",
      "[600]\teval-rmse:1.10881\n",
      "[700]\teval-rmse:1.10711\n",
      "[800]\teval-rmse:1.10574\n",
      "[900]\teval-rmse:1.10495\n",
      "[1000]\teval-rmse:1.10445\n",
      "[1100]\teval-rmse:1.10408\n",
      "[1200]\teval-rmse:1.10365\n",
      "[1300]\teval-rmse:1.10328\n",
      "[1400]\teval-rmse:1.10299\n",
      "[1500]\teval-rmse:1.10273\n",
      "[1600]\teval-rmse:1.10256\n",
      "[1700]\teval-rmse:1.10239\n",
      "[1800]\teval-rmse:1.10238\n",
      "[1872]\teval-rmse:1.10259\n"
     ]
    },
    {
     "name": "stderr",
     "output_type": "stream",
     "text": [
      " 20%|██        | 1/5 [01:13<04:53, 73.33s/it]"
     ]
    },
    {
     "name": "stdout",
     "output_type": "stream",
     "text": [
      "== fold 1 ==\n",
      "[0]\teval-rmse:2.27821\n",
      "[100]\teval-rmse:1.45028\n",
      "[200]\teval-rmse:1.24101\n",
      "[300]\teval-rmse:1.18193\n",
      "[400]\teval-rmse:1.16086\n",
      "[500]\teval-rmse:1.15110\n",
      "[600]\teval-rmse:1.14675\n",
      "[700]\teval-rmse:1.14388\n",
      "[800]\teval-rmse:1.14200\n",
      "[900]\teval-rmse:1.13998\n",
      "[1000]\teval-rmse:1.13795\n",
      "[1100]\teval-rmse:1.13634\n",
      "[1200]\teval-rmse:1.13553\n",
      "[1300]\teval-rmse:1.13446\n",
      "[1400]\teval-rmse:1.13388\n",
      "[1500]\teval-rmse:1.13332\n",
      "[1600]\teval-rmse:1.13264\n",
      "[1700]\teval-rmse:1.13264\n",
      "[1800]\teval-rmse:1.13205\n",
      "[1900]\teval-rmse:1.13210\n",
      "[1903]\teval-rmse:1.13210\n"
     ]
    },
    {
     "name": "stderr",
     "output_type": "stream",
     "text": [
      " 40%|████      | 2/5 [02:31<03:49, 76.38s/it]"
     ]
    },
    {
     "name": "stdout",
     "output_type": "stream",
     "text": [
      "== fold 2 ==\n",
      "[0]\teval-rmse:2.21662\n",
      "[100]\teval-rmse:1.44748\n",
      "[200]\teval-rmse:1.25429\n",
      "[300]\teval-rmse:1.20100\n",
      "[400]\teval-rmse:1.18306\n",
      "[500]\teval-rmse:1.17406\n",
      "[600]\teval-rmse:1.17021\n",
      "[700]\teval-rmse:1.16691\n",
      "[800]\teval-rmse:1.16502\n",
      "[900]\teval-rmse:1.16321\n",
      "[1000]\teval-rmse:1.16231\n",
      "[1100]\teval-rmse:1.16154\n",
      "[1200]\teval-rmse:1.16131\n",
      "[1300]\teval-rmse:1.16022\n",
      "[1400]\teval-rmse:1.15958\n",
      "[1500]\teval-rmse:1.15920\n",
      "[1600]\teval-rmse:1.15907\n",
      "[1700]\teval-rmse:1.15900\n",
      "[1800]\teval-rmse:1.15865\n",
      "[1900]\teval-rmse:1.15831\n",
      "[2000]\teval-rmse:1.15767\n",
      "[2100]\teval-rmse:1.15759\n",
      "[2200]\teval-rmse:1.15755\n",
      "[2244]\teval-rmse:1.15762\n"
     ]
    },
    {
     "name": "stderr",
     "output_type": "stream",
     "text": [
      " 60%|██████    | 3/5 [03:59<02:43, 81.66s/it]"
     ]
    },
    {
     "name": "stdout",
     "output_type": "stream",
     "text": [
      "== fold 3 ==\n",
      "[0]\teval-rmse:2.24815\n",
      "[100]\teval-rmse:1.46679\n",
      "[200]\teval-rmse:1.29079\n",
      "[300]\teval-rmse:1.24952\n",
      "[400]\teval-rmse:1.24004\n",
      "[500]\teval-rmse:1.23481\n",
      "[600]\teval-rmse:1.23228\n",
      "[700]\teval-rmse:1.23077\n",
      "[800]\teval-rmse:1.22937\n",
      "[900]\teval-rmse:1.22895\n",
      "[959]\teval-rmse:1.22898\n"
     ]
    },
    {
     "name": "stderr",
     "output_type": "stream",
     "text": [
      " 80%|████████  | 4/5 [04:44<01:07, 67.18s/it]"
     ]
    },
    {
     "name": "stdout",
     "output_type": "stream",
     "text": [
      "== fold 4 ==\n",
      "[0]\teval-rmse:2.28290\n",
      "[100]\teval-rmse:1.49660\n",
      "[200]\teval-rmse:1.31310\n",
      "[300]\teval-rmse:1.26799\n",
      "[400]\teval-rmse:1.25365\n",
      "[500]\teval-rmse:1.24685\n",
      "[600]\teval-rmse:1.24329\n",
      "[700]\teval-rmse:1.24061\n",
      "[800]\teval-rmse:1.23895\n",
      "[900]\teval-rmse:1.23766\n",
      "[1000]\teval-rmse:1.23643\n",
      "[1100]\teval-rmse:1.23524\n",
      "[1200]\teval-rmse:1.23412\n",
      "[1300]\teval-rmse:1.23332\n",
      "[1400]\teval-rmse:1.23284\n",
      "[1500]\teval-rmse:1.23269\n",
      "[1600]\teval-rmse:1.23250\n",
      "[1700]\teval-rmse:1.23240\n",
      "[1800]\teval-rmse:1.23202\n",
      "[1900]\teval-rmse:1.23217\n",
      "[1957]\teval-rmse:1.23213\n"
     ]
    },
    {
     "name": "stderr",
     "output_type": "stream",
     "text": [
      "100%|██████████| 5/5 [06:02<00:00, 72.58s/it]\n"
     ]
    }
   ],
   "source": [
    "# 学習\n",
    "dfs = []\n",
    "for event in [\"wakeup\", \"onset\"]:\n",
    "    trn_oof, models = fit_xgb(\n",
    "        X=train, \n",
    "        y=train[f\"{event}_target\"], \n",
    "        folds=train[\"fold\"].astype(int), \n",
    "        features=features.all_features(),\n",
    "        params=CFG[MODEL_NAME][\"xgboost\"], \n",
    "        es_rounds=100,\n",
    "    )\n",
    "    train[\"score\"] = trn_oof\n",
    "    train[\"event\"] = event\n",
    "    dfs.append(train[[\"series_id\", \"step\", \"score\", \"event\"]])\n",
    "\n",
    "    # 保存\n",
    "    for i, model in enumerate(models):\n",
    "        model.save_model(os.path.join(CFG[\"output_dir\"], f'xgb_{event}_fold_{i}.model'))\n",
    "del train\n",
    "gc.collect()\n",
    "train = pd.concat(dfs, axis=0)\n",
    "train[\"step\"] = train[\"step\"].astype(int)\n",
    "train = train.sort_values([\"series_id\", \"step\"]).reset_index(drop=True)\n",
    "\n",
    "\n",
    "with open(os.path.join(CFG[\"output_dir\"], \"features.pkl\"), \"wb\") as f:\n",
    "    pickle.dump(features, f)\n",
    "train.to_csv(os.path.join(CFG[\"output_dir\"], \"oof.csv\"), index=False)"
   ]
  },
  {
   "cell_type": "markdown",
   "metadata": {},
   "source": [
    "## Dynamic-Range NMS"
   ]
  },
  {
   "cell_type": "code",
   "execution_count": 4,
   "metadata": {},
   "outputs": [
    {
     "data": {
      "text/plain": [
       "<AxesSubplot: >"
      ]
     },
     "execution_count": 4,
     "metadata": {},
     "output_type": "execute_result"
    },
    {
     "data": {
      "image/png": "[encoded data removed]",
      "text/plain": [
       "<Figure size 640x480 with 1 Axes>"
      ]
     },
     "metadata": {},
     "output_type": "display_data"
    }
   ],
   "source": [
    "train = train[train[\"score\"] > 0.1]\n",
    "train[\"score\"].hist()"
   ]
  },
  {
   "cell_type": "code",
   "execution_count": 5,
   "metadata": {},
   "outputs": [
    {
     "name": "stderr",
     "output_type": "stream",
     "text": [
      "100%|██████████| 277/277 [00:10<00:00, 26.33it/s]\n"
     ]
    }
   ],
   "source": [
    "from utils.postprocess import dynamic_range_nms\n",
    "from multiprocessing import Pool\n",
    "from tqdm import tqdm\n",
    "\n",
    "train[\"step\"] = train[\"step\"].astype(int)\n",
    "\n",
    "groups = [group for _, group in train.groupby(\"series_id\")]\n",
    "with Pool(30) as p:  \n",
    "    results = list(tqdm(p.imap(dynamic_range_nms, groups), total=len(groups)))\n",
    "sub = pd.concat(results)\n",
    "sub[\"score\"] = sub[\"reduced_score\"]"
   ]
  },
  {
   "cell_type": "code",
   "execution_count": 6,
   "metadata": {},
   "outputs": [
    {
     "name": "stdout",
     "output_type": "stream",
     "text": [
      "score: 0.7596\n"
     ]
    },
    {
     "data": {
      "text/plain": [
       "event   tolerance\n",
       "onset   12           0.178169\n",
       "        36           0.580136\n",
       "        60           0.742076\n",
       "        90           0.809568\n",
       "        120          0.839797\n",
       "        150          0.860157\n",
       "        180          0.872227\n",
       "        240          0.890556\n",
       "        300          0.897970\n",
       "        360          0.904774\n",
       "wakeup  12           0.166878\n",
       "        36           0.603432\n",
       "        60           0.742452\n",
       "        90           0.806996\n",
       "        120          0.838603\n",
       "        150          0.862046\n",
       "        180          0.876924\n",
       "        240          0.895305\n",
       "        300          0.907110\n",
       "        360          0.917441\n",
       "dtype: float64"
      ]
     },
     "metadata": {},
     "output_type": "display_data"
    }
   ],
   "source": [
    "# スコア計算\n",
    "labels = pd.read_csv(f\"{CFG['dataset']['competition_dir']}/train_events.csv\").dropna()\n",
    "score, ap_table = compute_comptetition_metric(labels, sub)\n",
    "\n",
    "print(f\"score: {score:.4f}\")\n",
    "display(ap_table)\n",
    "sub.to_csv(os.path.join(CFG[\"output_dir\"], \"submission_after_nms.csv\"), index=False)"
   ]
  },
  {
   "cell_type": "code",
   "execution_count": null,
   "metadata": {},
   "outputs": [],
   "source": []
  },
  {
   "cell_type": "code",
   "execution_count": null,
   "metadata": {},
   "outputs": [],
   "source": []
  }
 ],
 "metadata": {
  "kernelspec": {
   "display_name": "base",
   "language": "python",
   "name": "python3"
  },
  "language_info": {
   "codemirror_mode": {
    "name": "ipython",
    "version": 3
   },
   "file_extension": ".py",
   "mimetype": "text/x-python",
   "name": "python",
   "nbconvert_exporter": "python",
   "pygments_lexer": "ipython3",
   "version": "3.10.10"
  },
  "orig_nbformat": 4
 },
 "nbformat": 4,
 "nbformat_minor": 2
}
