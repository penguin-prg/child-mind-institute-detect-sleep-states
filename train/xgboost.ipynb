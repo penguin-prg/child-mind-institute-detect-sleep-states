{
 "cells": [
  {
   "cell_type": "code",
   "execution_count": 1,
   "metadata": {},
   "outputs": [
    {
     "name": "stderr",
     "output_type": "stream",
     "text": [
      "2023-11-03 00:46:32.260552: I tensorflow/core/platform/cpu_feature_guard.cc:193] This TensorFlow binary is optimized with oneAPI Deep Neural Network Library (oneDNN) to use the following CPU instructions in performance-critical operations:  AVX2 AVX_VNNI FMA\n",
      "To enable them in other operations, rebuild TensorFlow with the appropriate compiler flags.\n",
      "2023-11-03 00:46:32.324497: I tensorflow/core/util/port.cc:104] oneDNN custom operations are on. You may see slightly different numerical results due to floating-point round-off errors from different computation orders. To turn them off, set the environment variable `TF_ENABLE_ONEDNN_OPTS=0`.\n",
      "2023-11-03 00:46:32.737856: W tensorflow/compiler/xla/stream_executor/platform/default/dso_loader.cc:64] Could not load dynamic library 'libnvinfer.so.7'; dlerror: libnvinfer.so.7: cannot open shared object file: No such file or directory; LD_LIBRARY_PATH: /usr/local/cuda/lib64:/usr/local/cuda/lib:/usr/local/lib/x86_64-linux-gnu:/usr/local/nvidia/lib:/usr/local/nvidia/lib64:/usr/local/nvidia/lib:/usr/local/nvidia/lib64:/opt/conda/lib\n",
      "2023-11-03 00:46:32.737916: W tensorflow/compiler/xla/stream_executor/platform/default/dso_loader.cc:64] Could not load dynamic library 'libnvinfer_plugin.so.7'; dlerror: libnvinfer_plugin.so.7: cannot open shared object file: No such file or directory; LD_LIBRARY_PATH: /usr/local/cuda/lib64:/usr/local/cuda/lib:/usr/local/lib/x86_64-linux-gnu:/usr/local/nvidia/lib:/usr/local/nvidia/lib64:/usr/local/nvidia/lib:/usr/local/nvidia/lib64:/opt/conda/lib\n",
      "2023-11-03 00:46:32.737919: W tensorflow/compiler/tf2tensorrt/utils/py_utils.cc:38] TF-TRT Warning: Cannot dlopen some TensorRT libraries. If you would like to use Nvidia GPU with TensorRT, please make sure the missing libraries mentioned above are installed properly.\n"
     ]
    },
    {
     "name": "stdout",
     "output_type": "stream",
     "text": [
      "exp_115\n"
     ]
    }
   ],
   "source": [
    "import pandas as pd\n",
    "import yaml\n",
    "import sys\n",
    "import os\n",
    "from glob import glob\n",
    "from pathlib import Path\n",
    "import gc\n",
    "import pickle\n",
    "\n",
    "import warnings\n",
    "warnings.filterwarnings('ignore')\n",
    "\n",
    "sys.path.append('/kaggle/src')\n",
    "from utils.xgb import fit_xgb\n",
    "from utils.metric import compute_comptetition_metric\n",
    "from utils.set_seed import seed_base\n",
    "from feature_engineering.fe_xgb import generate_features\n",
    "\n",
    "MODEL_NAME = \"xgb_model\"\n",
    "PACKAGE_DIR = Path(\"/kaggle/src\")\n",
    "CFG = yaml.safe_load(open(PACKAGE_DIR / \"config.yaml\", \"r\"))\n",
    "print(CFG[MODEL_NAME][\"execution\"][\"exp_id\"])\n",
    "\n",
    "CFG[\"output_dir\"] = f\"/kaggle/output/{CFG[MODEL_NAME]['execution']['exp_id']}\"\n",
    "!rm -r {CFG[\"output_dir\"]}\n",
    "os.makedirs(CFG[\"output_dir\"], exist_ok=True)\n",
    "\n",
    "seed_base(CFG[\"env\"][\"seed\"])"
   ]
  },
  {
   "cell_type": "code",
   "execution_count": 2,
   "metadata": {},
   "outputs": [
    {
     "name": "stderr",
     "output_type": "stream",
     "text": [
      "generate features: 100%|██████████| 277/277 [04:17<00:00,  1.08it/s]\n"
     ]
    },
    {
     "data": {
      "text/html": [
       "<div>\n",
       "<style scoped>\n",
       "    .dataframe tbody tr th:only-of-type {\n",
       "        vertical-align: middle;\n",
       "    }\n",
       "\n",
       "    .dataframe tbody tr th {\n",
       "        vertical-align: top;\n",
       "    }\n",
       "\n",
       "    .dataframe thead th {\n",
       "        text-align: right;\n",
       "    }\n",
       "</style>\n",
       "<table border=\"1\" class=\"dataframe\">\n",
       "  <thead>\n",
       "    <tr style=\"text-align: right;\">\n",
       "      <th></th>\n",
       "      <th>anglez</th>\n",
       "      <th>anglez_diff_abs</th>\n",
       "      <th>anglez_diff_abs_clip5</th>\n",
       "      <th>anglez_mean</th>\n",
       "      <th>enmo</th>\n",
       "      <th>enmo_diff_abs</th>\n",
       "      <th>enmo_mean</th>\n",
       "      <th>minutes</th>\n",
       "      <th>same_count</th>\n",
       "      <th>total_seconds</th>\n",
       "      <th>...</th>\n",
       "      <th>enmo_rolling_median_100_shift_1000</th>\n",
       "      <th>anglez_diff_abs_clip5_rolling_median_100_shift_1000</th>\n",
       "      <th>enmo_std_rolling_median_100_shift_1000</th>\n",
       "      <th>anglez_diff_abs_clip5_std_rolling_median_100_shift_1000</th>\n",
       "      <th>enmo_rolling_square_mean_100_shift_1000</th>\n",
       "      <th>anglez_diff_abs_clip5_rolling_square_mean_100_shift_1000</th>\n",
       "      <th>enmo_std_rolling_square_mean_100_shift_1000</th>\n",
       "      <th>anglez_diff_abs_clip5_std_rolling_square_mean_100_shift_1000</th>\n",
       "      <th>reduce_step</th>\n",
       "      <th>fold</th>\n",
       "    </tr>\n",
       "  </thead>\n",
       "  <tbody>\n",
       "    <tr>\n",
       "      <th>926</th>\n",
       "      <td>21.070280</td>\n",
       "      <td>21.889490</td>\n",
       "      <td>4.451904</td>\n",
       "      <td>-20.794807</td>\n",
       "      <td>0.027129</td>\n",
       "      <td>0.014742</td>\n",
       "      <td>0.037067</td>\n",
       "      <td>477.5</td>\n",
       "      <td>0.0</td>\n",
       "      <td>68877.5</td>\n",
       "      <td>...</td>\n",
       "      <td>NaN</td>\n",
       "      <td>NaN</td>\n",
       "      <td>NaN</td>\n",
       "      <td>NaN</td>\n",
       "      <td>NaN</td>\n",
       "      <td>NaN</td>\n",
       "      <td>NaN</td>\n",
       "      <td>NaN</td>\n",
       "      <td>22235</td>\n",
       "      <td>3</td>\n",
       "    </tr>\n",
       "    <tr>\n",
       "      <th>927</th>\n",
       "      <td>-2.156629</td>\n",
       "      <td>17.598087</td>\n",
       "      <td>3.993946</td>\n",
       "      <td>-21.465599</td>\n",
       "      <td>0.091583</td>\n",
       "      <td>0.079287</td>\n",
       "      <td>0.072814</td>\n",
       "      <td>597.5</td>\n",
       "      <td>0.0</td>\n",
       "      <td>68997.5</td>\n",
       "      <td>...</td>\n",
       "      <td>NaN</td>\n",
       "      <td>NaN</td>\n",
       "      <td>NaN</td>\n",
       "      <td>NaN</td>\n",
       "      <td>NaN</td>\n",
       "      <td>NaN</td>\n",
       "      <td>NaN</td>\n",
       "      <td>NaN</td>\n",
       "      <td>22259</td>\n",
       "      <td>3</td>\n",
       "    </tr>\n",
       "    <tr>\n",
       "      <th>928</th>\n",
       "      <td>6.870979</td>\n",
       "      <td>16.874817</td>\n",
       "      <td>4.571238</td>\n",
       "      <td>-17.906569</td>\n",
       "      <td>0.048471</td>\n",
       "      <td>0.023354</td>\n",
       "      <td>0.085562</td>\n",
       "      <td>717.5</td>\n",
       "      <td>0.0</td>\n",
       "      <td>69117.5</td>\n",
       "      <td>...</td>\n",
       "      <td>NaN</td>\n",
       "      <td>NaN</td>\n",
       "      <td>NaN</td>\n",
       "      <td>NaN</td>\n",
       "      <td>NaN</td>\n",
       "      <td>NaN</td>\n",
       "      <td>NaN</td>\n",
       "      <td>NaN</td>\n",
       "      <td>22283</td>\n",
       "      <td>3</td>\n",
       "    </tr>\n",
       "    <tr>\n",
       "      <th>929</th>\n",
       "      <td>11.430203</td>\n",
       "      <td>8.910088</td>\n",
       "      <td>3.756421</td>\n",
       "      <td>-5.006313</td>\n",
       "      <td>0.029496</td>\n",
       "      <td>0.013204</td>\n",
       "      <td>0.031394</td>\n",
       "      <td>837.5</td>\n",
       "      <td>0.0</td>\n",
       "      <td>69237.5</td>\n",
       "      <td>...</td>\n",
       "      <td>NaN</td>\n",
       "      <td>NaN</td>\n",
       "      <td>NaN</td>\n",
       "      <td>NaN</td>\n",
       "      <td>NaN</td>\n",
       "      <td>NaN</td>\n",
       "      <td>NaN</td>\n",
       "      <td>NaN</td>\n",
       "      <td>22307</td>\n",
       "      <td>3</td>\n",
       "    </tr>\n",
       "    <tr>\n",
       "      <th>930</th>\n",
       "      <td>10.291650</td>\n",
       "      <td>2.129946</td>\n",
       "      <td>1.981583</td>\n",
       "      <td>-21.022831</td>\n",
       "      <td>0.003008</td>\n",
       "      <td>0.001954</td>\n",
       "      <td>0.058677</td>\n",
       "      <td>957.5</td>\n",
       "      <td>0.0</td>\n",
       "      <td>69357.5</td>\n",
       "      <td>...</td>\n",
       "      <td>NaN</td>\n",
       "      <td>NaN</td>\n",
       "      <td>NaN</td>\n",
       "      <td>NaN</td>\n",
       "      <td>NaN</td>\n",
       "      <td>NaN</td>\n",
       "      <td>NaN</td>\n",
       "      <td>NaN</td>\n",
       "      <td>22331</td>\n",
       "      <td>3</td>\n",
       "    </tr>\n",
       "  </tbody>\n",
       "</table>\n",
       "<p>5 rows × 1307 columns</p>\n",
       "</div>"
      ],
      "text/plain": [
       "        anglez  anglez_diff_abs  anglez_diff_abs_clip5  anglez_mean      enmo  \\\n",
       "926  21.070280        21.889490               4.451904   -20.794807  0.027129   \n",
       "927  -2.156629        17.598087               3.993946   -21.465599  0.091583   \n",
       "928   6.870979        16.874817               4.571238   -17.906569  0.048471   \n",
       "929  11.430203         8.910088               3.756421    -5.006313  0.029496   \n",
       "930  10.291650         2.129946               1.981583   -21.022831  0.003008   \n",
       "\n",
       "     enmo_diff_abs  enmo_mean  minutes  same_count  total_seconds  ...  \\\n",
       "926       0.014742   0.037067    477.5         0.0        68877.5  ...   \n",
       "927       0.079287   0.072814    597.5         0.0        68997.5  ...   \n",
       "928       0.023354   0.085562    717.5         0.0        69117.5  ...   \n",
       "929       0.013204   0.031394    837.5         0.0        69237.5  ...   \n",
       "930       0.001954   0.058677    957.5         0.0        69357.5  ...   \n",
       "\n",
       "     enmo_rolling_median_100_shift_1000  \\\n",
       "926                                 NaN   \n",
       "927                                 NaN   \n",
       "928                                 NaN   \n",
       "929                                 NaN   \n",
       "930                                 NaN   \n",
       "\n",
       "     anglez_diff_abs_clip5_rolling_median_100_shift_1000  \\\n",
       "926                                                NaN     \n",
       "927                                                NaN     \n",
       "928                                                NaN     \n",
       "929                                                NaN     \n",
       "930                                                NaN     \n",
       "\n",
       "     enmo_std_rolling_median_100_shift_1000  \\\n",
       "926                                     NaN   \n",
       "927                                     NaN   \n",
       "928                                     NaN   \n",
       "929                                     NaN   \n",
       "930                                     NaN   \n",
       "\n",
       "     anglez_diff_abs_clip5_std_rolling_median_100_shift_1000  \\\n",
       "926                                                NaN         \n",
       "927                                                NaN         \n",
       "928                                                NaN         \n",
       "929                                                NaN         \n",
       "930                                                NaN         \n",
       "\n",
       "     enmo_rolling_square_mean_100_shift_1000  \\\n",
       "926                                      NaN   \n",
       "927                                      NaN   \n",
       "928                                      NaN   \n",
       "929                                      NaN   \n",
       "930                                      NaN   \n",
       "\n",
       "     anglez_diff_abs_clip5_rolling_square_mean_100_shift_1000  \\\n",
       "926                                                NaN          \n",
       "927                                                NaN          \n",
       "928                                                NaN          \n",
       "929                                                NaN          \n",
       "930                                                NaN          \n",
       "\n",
       "     enmo_std_rolling_square_mean_100_shift_1000  \\\n",
       "926                                          NaN   \n",
       "927                                          NaN   \n",
       "928                                          NaN   \n",
       "929                                          NaN   \n",
       "930                                          NaN   \n",
       "\n",
       "     anglez_diff_abs_clip5_std_rolling_square_mean_100_shift_1000  \\\n",
       "926                                                NaN              \n",
       "927                                                NaN              \n",
       "928                                                NaN              \n",
       "929                                                NaN              \n",
       "930                                                NaN              \n",
       "\n",
       "     reduce_step  fold  \n",
       "926        22235     3  \n",
       "927        22259     3  \n",
       "928        22283     3  \n",
       "929        22307     3  \n",
       "930        22331     3  \n",
       "\n",
       "[5 rows x 1307 columns]"
      ]
     },
     "metadata": {},
     "output_type": "display_data"
    },
    {
     "data": {
      "text/plain": [
       "(494843, 1307)"
      ]
     },
     "execution_count": 2,
     "metadata": {},
     "output_type": "execute_result"
    }
   ],
   "source": [
    "# 特徴生成\n",
    "files = glob(f\"{CFG['dataset']['step_csv_dir_10min']}/*.parquet\")\n",
    "train, features = generate_features(files)\n",
    "\n",
    "# cv splitとマージ\n",
    "cv_split = pd.read_csv(CFG['dataset']['cv_split_path'])\n",
    "train[\"fold\"] = train[\"series_id\"].map(cv_split.set_index(\"series_id\")[\"fold\"])\n",
    "display(train.head(5))\n",
    "train.shape"
   ]
  },
  {
   "cell_type": "code",
   "execution_count": 3,
   "metadata": {},
   "outputs": [
    {
     "name": "stderr",
     "output_type": "stream",
     "text": [
      "  0%|          | 0/5 [00:00<?, ?it/s]"
     ]
    },
    {
     "name": "stdout",
     "output_type": "stream",
     "text": [
      "== fold 0 ==\n",
      "[0]\teval-rmse:1.36308\n",
      "[100]\teval-rmse:0.97641\n",
      "[200]\teval-rmse:0.87793\n",
      "[300]\teval-rmse:0.85110\n",
      "[400]\teval-rmse:0.84264\n",
      "[500]\teval-rmse:0.83884\n",
      "[600]\teval-rmse:0.83737\n",
      "[700]\teval-rmse:0.83638\n",
      "[800]\teval-rmse:0.83562\n",
      "[900]\teval-rmse:0.83517\n",
      "[1000]\teval-rmse:0.83478\n",
      "[1100]\teval-rmse:0.83422\n",
      "[1200]\teval-rmse:0.83389\n",
      "[1300]\teval-rmse:0.83370\n",
      "[1400]\teval-rmse:0.83351\n",
      "[1500]\teval-rmse:0.83344\n",
      "[1600]\teval-rmse:0.83327\n",
      "[1700]\teval-rmse:0.83316\n",
      "[1800]\teval-rmse:0.83299\n",
      "[1900]\teval-rmse:0.83290\n",
      "[2000]\teval-rmse:0.83278\n",
      "[2100]\teval-rmse:0.83260\n",
      "[2200]\teval-rmse:0.83255\n",
      "[2300]\teval-rmse:0.83253\n",
      "[2400]\teval-rmse:0.83256\n",
      "[2427]\teval-rmse:0.83256\n"
     ]
    },
    {
     "name": "stderr",
     "output_type": "stream",
     "text": [
      " 20%|██        | 1/5 [01:33<06:14, 93.61s/it]"
     ]
    },
    {
     "name": "stdout",
     "output_type": "stream",
     "text": [
      "== fold 1 ==\n",
      "[0]\teval-rmse:1.43277\n",
      "[100]\teval-rmse:1.04741\n",
      "[200]\teval-rmse:0.95154\n",
      "[300]\teval-rmse:0.92611\n",
      "[400]\teval-rmse:0.91679\n",
      "[500]\teval-rmse:0.91247\n",
      "[600]\teval-rmse:0.91040\n",
      "[700]\teval-rmse:0.90899\n",
      "[800]\teval-rmse:0.90772\n",
      "[900]\teval-rmse:0.90689\n",
      "[1000]\teval-rmse:0.90612\n",
      "[1100]\teval-rmse:0.90551\n",
      "[1200]\teval-rmse:0.90512\n",
      "[1300]\teval-rmse:0.90457\n",
      "[1400]\teval-rmse:0.90416\n",
      "[1500]\teval-rmse:0.90403\n",
      "[1600]\teval-rmse:0.90368\n",
      "[1700]\teval-rmse:0.90336\n",
      "[1800]\teval-rmse:0.90285\n",
      "[1900]\teval-rmse:0.90258\n",
      "[2000]\teval-rmse:0.90229\n",
      "[2100]\teval-rmse:0.90202\n",
      "[2200]\teval-rmse:0.90190\n",
      "[2300]\teval-rmse:0.90173\n",
      "[2400]\teval-rmse:0.90167\n",
      "[2500]\teval-rmse:0.90150\n",
      "[2600]\teval-rmse:0.90136\n",
      "[2700]\teval-rmse:0.90121\n",
      "[2800]\teval-rmse:0.90112\n",
      "[2900]\teval-rmse:0.90098\n",
      "[3000]\teval-rmse:0.90086\n",
      "[3100]\teval-rmse:0.90077\n",
      "[3200]\teval-rmse:0.90052\n",
      "[3300]\teval-rmse:0.90058\n",
      "[3400]\teval-rmse:0.90051\n",
      "[3500]\teval-rmse:0.90038\n",
      "[3600]\teval-rmse:0.90022\n",
      "[3700]\teval-rmse:0.90011\n",
      "[3800]\teval-rmse:0.90011\n",
      "[3900]\teval-rmse:0.90005\n",
      "[4000]\teval-rmse:0.90016\n",
      "[4100]\teval-rmse:0.90019\n",
      "[4103]\teval-rmse:0.90019\n"
     ]
    },
    {
     "name": "stderr",
     "output_type": "stream",
     "text": [
      " 40%|████      | 2/5 [04:03<06:19, 126.60s/it]"
     ]
    },
    {
     "name": "stdout",
     "output_type": "stream",
     "text": [
      "== fold 2 ==\n",
      "[0]\teval-rmse:1.40630\n",
      "[100]\teval-rmse:1.04342\n",
      "[200]\teval-rmse:0.95184\n",
      "[300]\teval-rmse:0.92774\n",
      "[400]\teval-rmse:0.91930\n",
      "[500]\teval-rmse:0.91585\n",
      "[600]\teval-rmse:0.91414\n",
      "[700]\teval-rmse:0.91285\n",
      "[800]\teval-rmse:0.91190\n",
      "[900]\teval-rmse:0.91120\n",
      "[1000]\teval-rmse:0.91076\n",
      "[1100]\teval-rmse:0.91053\n",
      "[1200]\teval-rmse:0.91030\n",
      "[1300]\teval-rmse:0.91013\n",
      "[1400]\teval-rmse:0.91003\n",
      "[1500]\teval-rmse:0.90983\n",
      "[1600]\teval-rmse:0.90974\n",
      "[1700]\teval-rmse:0.90969\n",
      "[1800]\teval-rmse:0.90965\n",
      "[1900]\teval-rmse:0.90957\n",
      "[2000]\teval-rmse:0.90938\n",
      "[2100]\teval-rmse:0.90931\n",
      "[2200]\teval-rmse:0.90928\n",
      "[2300]\teval-rmse:0.90912\n",
      "[2400]\teval-rmse:0.90898\n",
      "[2500]\teval-rmse:0.90896\n",
      "[2600]\teval-rmse:0.90898\n",
      "[2700]\teval-rmse:0.90895\n",
      "[2800]\teval-rmse:0.90889\n",
      "[2900]\teval-rmse:0.90877\n",
      "[3000]\teval-rmse:0.90880\n",
      "[3100]\teval-rmse:0.90874\n",
      "[3112]\teval-rmse:0.90876\n"
     ]
    },
    {
     "name": "stderr",
     "output_type": "stream",
     "text": [
      " 60%|██████    | 3/5 [05:55<04:00, 120.20s/it]"
     ]
    },
    {
     "name": "stdout",
     "output_type": "stream",
     "text": [
      "== fold 3 ==\n",
      "[0]\teval-rmse:1.37422\n",
      "[100]\teval-rmse:0.98599\n",
      "[200]\teval-rmse:0.88828\n",
      "[300]\teval-rmse:0.86376\n",
      "[400]\teval-rmse:0.85682\n",
      "[500]\teval-rmse:0.85409\n",
      "[600]\teval-rmse:0.85227\n",
      "[700]\teval-rmse:0.85133\n",
      "[800]\teval-rmse:0.85090\n",
      "[900]\teval-rmse:0.85072\n",
      "[1000]\teval-rmse:0.85032\n",
      "[1100]\teval-rmse:0.85001\n",
      "[1200]\teval-rmse:0.84981\n",
      "[1300]\teval-rmse:0.84957\n",
      "[1400]\teval-rmse:0.84948\n",
      "[1500]\teval-rmse:0.84928\n",
      "[1600]\teval-rmse:0.84917\n",
      "[1700]\teval-rmse:0.84902\n",
      "[1800]\teval-rmse:0.84891\n",
      "[1900]\teval-rmse:0.84884\n",
      "[2000]\teval-rmse:0.84884\n",
      "[2100]\teval-rmse:0.84870\n",
      "[2200]\teval-rmse:0.84877\n",
      "[2300]\teval-rmse:0.84893\n",
      "[2328]\teval-rmse:0.84891\n"
     ]
    },
    {
     "name": "stderr",
     "output_type": "stream",
     "text": [
      " 80%|████████  | 4/5 [07:23<01:47, 107.18s/it]"
     ]
    },
    {
     "name": "stdout",
     "output_type": "stream",
     "text": [
      "== fold 4 ==\n",
      "[0]\teval-rmse:1.36382\n",
      "[100]\teval-rmse:0.99144\n",
      "[200]\teval-rmse:0.89939\n",
      "[300]\teval-rmse:0.87569\n",
      "[400]\teval-rmse:0.86746\n",
      "[500]\teval-rmse:0.86414\n",
      "[600]\teval-rmse:0.86252\n",
      "[700]\teval-rmse:0.86176\n",
      "[800]\teval-rmse:0.86128\n",
      "[900]\teval-rmse:0.86090\n",
      "[1000]\teval-rmse:0.86047\n",
      "[1100]\teval-rmse:0.86039\n",
      "[1200]\teval-rmse:0.86029\n",
      "[1300]\teval-rmse:0.86008\n",
      "[1400]\teval-rmse:0.86010\n",
      "[1500]\teval-rmse:0.86013\n",
      "[1546]\teval-rmse:0.86014\n"
     ]
    },
    {
     "name": "stderr",
     "output_type": "stream",
     "text": [
      "100%|██████████| 5/5 [08:22<00:00, 100.58s/it]\n",
      "  0%|          | 0/5 [00:00<?, ?it/s]"
     ]
    },
    {
     "name": "stdout",
     "output_type": "stream",
     "text": [
      "== fold 0 ==\n",
      "[0]\teval-rmse:1.36497\n",
      "[100]\teval-rmse:0.96814\n",
      "[200]\teval-rmse:0.86754\n",
      "[300]\teval-rmse:0.84028\n",
      "[400]\teval-rmse:0.83088\n",
      "[500]\teval-rmse:0.82694\n",
      "[600]\teval-rmse:0.82491\n",
      "[700]\teval-rmse:0.82391\n",
      "[800]\teval-rmse:0.82311\n",
      "[900]\teval-rmse:0.82253\n",
      "[1000]\teval-rmse:0.82207\n",
      "[1100]\teval-rmse:0.82167\n",
      "[1200]\teval-rmse:0.82136\n",
      "[1300]\teval-rmse:0.82115\n",
      "[1400]\teval-rmse:0.82098\n",
      "[1500]\teval-rmse:0.82099\n",
      "[1600]\teval-rmse:0.82076\n",
      "[1700]\teval-rmse:0.82066\n",
      "[1800]\teval-rmse:0.82055\n",
      "[1900]\teval-rmse:0.82056\n",
      "[2000]\teval-rmse:0.82049\n",
      "[2100]\teval-rmse:0.82045\n",
      "[2200]\teval-rmse:0.82039\n",
      "[2300]\teval-rmse:0.82049\n",
      "[2376]\teval-rmse:0.82059\n"
     ]
    },
    {
     "name": "stderr",
     "output_type": "stream",
     "text": [
      " 20%|██        | 1/5 [01:25<05:42, 85.57s/it]"
     ]
    },
    {
     "name": "stdout",
     "output_type": "stream",
     "text": [
      "== fold 1 ==\n",
      "[0]\teval-rmse:1.43012\n",
      "[100]\teval-rmse:1.01877\n",
      "[200]\teval-rmse:0.90816\n",
      "[300]\teval-rmse:0.87664\n",
      "[400]\teval-rmse:0.86424\n",
      "[500]\teval-rmse:0.85829\n",
      "[600]\teval-rmse:0.85545\n",
      "[700]\teval-rmse:0.85415\n",
      "[800]\teval-rmse:0.85311\n",
      "[900]\teval-rmse:0.85232\n",
      "[1000]\teval-rmse:0.85163\n",
      "[1100]\teval-rmse:0.85099\n",
      "[1200]\teval-rmse:0.85044\n",
      "[1300]\teval-rmse:0.85016\n",
      "[1400]\teval-rmse:0.84990\n",
      "[1500]\teval-rmse:0.84968\n",
      "[1600]\teval-rmse:0.84946\n",
      "[1700]\teval-rmse:0.84922\n",
      "[1800]\teval-rmse:0.84901\n",
      "[1900]\teval-rmse:0.84865\n",
      "[2000]\teval-rmse:0.84856\n",
      "[2100]\teval-rmse:0.84834\n",
      "[2200]\teval-rmse:0.84818\n",
      "[2300]\teval-rmse:0.84817\n",
      "[2400]\teval-rmse:0.84807\n",
      "[2500]\teval-rmse:0.84813\n",
      "[2600]\teval-rmse:0.84807\n",
      "[2700]\teval-rmse:0.84816\n",
      "[2781]\teval-rmse:0.84814\n"
     ]
    },
    {
     "name": "stderr",
     "output_type": "stream",
     "text": [
      " 40%|████      | 2/5 [03:07<04:46, 95.36s/it]"
     ]
    },
    {
     "name": "stdout",
     "output_type": "stream",
     "text": [
      "== fold 2 ==\n",
      "[0]\teval-rmse:1.39970\n",
      "[100]\teval-rmse:1.01715\n",
      "[200]\teval-rmse:0.91818\n",
      "[300]\teval-rmse:0.89165\n",
      "[400]\teval-rmse:0.88107\n",
      "[500]\teval-rmse:0.87705\n",
      "[600]\teval-rmse:0.87519\n",
      "[700]\teval-rmse:0.87412\n",
      "[800]\teval-rmse:0.87358\n",
      "[900]\teval-rmse:0.87312\n",
      "[1000]\teval-rmse:0.87284\n",
      "[1100]\teval-rmse:0.87266\n",
      "[1200]\teval-rmse:0.87253\n",
      "[1300]\teval-rmse:0.87237\n",
      "[1400]\teval-rmse:0.87242\n",
      "[1500]\teval-rmse:0.87245\n",
      "[1505]\teval-rmse:0.87245\n"
     ]
    },
    {
     "name": "stderr",
     "output_type": "stream",
     "text": [
      " 60%|██████    | 3/5 [04:06<02:37, 78.78s/it]"
     ]
    },
    {
     "name": "stdout",
     "output_type": "stream",
     "text": [
      "== fold 3 ==\n",
      "[0]\teval-rmse:1.37146\n",
      "[100]\teval-rmse:0.99940\n",
      "[200]\teval-rmse:0.91606\n",
      "[300]\teval-rmse:0.89691\n",
      "[400]\teval-rmse:0.89089\n",
      "[500]\teval-rmse:0.88854\n",
      "[600]\teval-rmse:0.88707\n",
      "[700]\teval-rmse:0.88637\n",
      "[800]\teval-rmse:0.88583\n",
      "[900]\teval-rmse:0.88551\n",
      "[1000]\teval-rmse:0.88511\n",
      "[1100]\teval-rmse:0.88466\n",
      "[1200]\teval-rmse:0.88432\n",
      "[1300]\teval-rmse:0.88417\n",
      "[1400]\teval-rmse:0.88401\n",
      "[1500]\teval-rmse:0.88401\n",
      "[1600]\teval-rmse:0.88396\n",
      "[1700]\teval-rmse:0.88382\n",
      "[1800]\teval-rmse:0.88372\n",
      "[1900]\teval-rmse:0.88353\n",
      "[2000]\teval-rmse:0.88348\n",
      "[2100]\teval-rmse:0.88340\n",
      "[2200]\teval-rmse:0.88341\n",
      "[2300]\teval-rmse:0.88335\n",
      "[2400]\teval-rmse:0.88334\n",
      "[2500]\teval-rmse:0.88336\n",
      "[2559]\teval-rmse:0.88341\n"
     ]
    },
    {
     "name": "stderr",
     "output_type": "stream",
     "text": [
      " 80%|████████  | 4/5 [05:39<01:24, 84.38s/it]"
     ]
    },
    {
     "name": "stdout",
     "output_type": "stream",
     "text": [
      "== fold 4 ==\n",
      "[0]\teval-rmse:1.35901\n",
      "[100]\teval-rmse:0.99446\n",
      "[200]\teval-rmse:0.90749\n",
      "[300]\teval-rmse:0.88552\n",
      "[400]\teval-rmse:0.87795\n",
      "[500]\teval-rmse:0.87474\n",
      "[600]\teval-rmse:0.87241\n",
      "[700]\teval-rmse:0.87130\n",
      "[800]\teval-rmse:0.87028\n",
      "[900]\teval-rmse:0.86979\n",
      "[1000]\teval-rmse:0.86945\n",
      "[1100]\teval-rmse:0.86903\n",
      "[1200]\teval-rmse:0.86883\n",
      "[1300]\teval-rmse:0.86863\n",
      "[1400]\teval-rmse:0.86830\n",
      "[1500]\teval-rmse:0.86802\n",
      "[1600]\teval-rmse:0.86789\n",
      "[1700]\teval-rmse:0.86784\n",
      "[1800]\teval-rmse:0.86775\n",
      "[1900]\teval-rmse:0.86772\n",
      "[2000]\teval-rmse:0.86774\n",
      "[2045]\teval-rmse:0.86774\n"
     ]
    },
    {
     "name": "stderr",
     "output_type": "stream",
     "text": [
      "100%|██████████| 5/5 [06:54<00:00, 82.96s/it]\n"
     ]
    }
   ],
   "source": [
    "# 学習\n",
    "dfs = []\n",
    "for event in [\"wakeup\", \"onset\"]:\n",
    "    trn_oof, models = fit_xgb(\n",
    "        X=train, \n",
    "        y=train[f\"{event}_target\"], \n",
    "        folds=train[\"fold\"].astype(int), \n",
    "        features=features.all_features(),\n",
    "        params=CFG[MODEL_NAME][\"xgboost\"], \n",
    "        es_rounds=200,\n",
    "    )\n",
    "    train[\"score\"] = trn_oof\n",
    "    train[\"event\"] = event\n",
    "    dfs.append(train[[\"series_id\", \"step\", \"score\", \"event\"]])\n",
    "\n",
    "    # 保存\n",
    "    for i, model in enumerate(models):\n",
    "        model.save_model(os.path.join(CFG[\"output_dir\"], f'xgb_{event}_fold_{i}.model'))\n",
    "del train\n",
    "gc.collect()\n",
    "train = pd.concat(dfs, axis=0)\n",
    "train[\"step\"] = train[\"step\"].astype(int)\n",
    "train = train.sort_values([\"series_id\", \"step\"]).reset_index(drop=True)\n",
    "\n",
    "\n",
    "with open(os.path.join(CFG[\"output_dir\"], \"features.pkl\"), \"wb\") as f:\n",
    "    pickle.dump(features, f)\n",
    "train.to_csv(os.path.join(CFG[\"output_dir\"], \"oof.csv\"), index=False)"
   ]
  },
  {
   "cell_type": "markdown",
   "metadata": {},
   "source": [
    "## Dynamic-Range NMS"
   ]
  },
  {
   "cell_type": "code",
   "execution_count": 4,
   "metadata": {},
   "outputs": [
    {
     "data": {
      "text/plain": [
       "<AxesSubplot: >"
      ]
     },
     "execution_count": 4,
     "metadata": {},
     "output_type": "execute_result"
    },
    {
     "data": {
      "image/png": "[encoded data removed]",
      "text/plain": [
       "<Figure size 640x480 with 1 Axes>"
      ]
     },
     "metadata": {},
     "output_type": "display_data"
    }
   ],
   "source": [
    "train = train[train[\"score\"] > 0.005]\n",
    "train[\"score\"].hist()"
   ]
  },
  {
   "cell_type": "code",
   "execution_count": 5,
   "metadata": {},
   "outputs": [
    {
     "name": "stderr",
     "output_type": "stream",
     "text": [
      "100%|██████████| 277/277 [00:05<00:00, 53.15it/s]\n"
     ]
    }
   ],
   "source": [
    "from utils.postprocess import dynamic_range_nms\n",
    "from multiprocessing import Pool\n",
    "from tqdm import tqdm\n",
    "\n",
    "train[\"step\"] = train[\"step\"].astype(int)\n",
    "\n",
    "groups = [group for _, group in train.groupby(\"series_id\")]\n",
    "with Pool(30) as p:  \n",
    "    results = list(tqdm(p.imap(dynamic_range_nms, groups), total=len(groups)))\n",
    "sub = pd.concat(results)\n",
    "sub[\"score\"] = sub[\"reduced_score\"]"
   ]
  },
  {
   "cell_type": "code",
   "execution_count": 6,
   "metadata": {},
   "outputs": [
    {
     "name": "stdout",
     "output_type": "stream",
     "text": [
      "score: 0.7774\n"
     ]
    },
    {
     "data": {
      "text/plain": [
       "event   tolerance\n",
       "onset   12           0.248765\n",
       "        36           0.681784\n",
       "        60           0.781788\n",
       "        90           0.826954\n",
       "        120          0.843019\n",
       "        150          0.856541\n",
       "        180          0.864695\n",
       "        240          0.878636\n",
       "        300          0.883858\n",
       "        360          0.889003\n",
       "wakeup  12           0.201538\n",
       "        36           0.697592\n",
       "        60           0.788280\n",
       "        90           0.827982\n",
       "        120          0.850027\n",
       "        150          0.863028\n",
       "        180          0.872524\n",
       "        240          0.886943\n",
       "        300          0.896910\n",
       "        360          0.907403\n",
       "dtype: float64"
      ]
     },
     "metadata": {},
     "output_type": "display_data"
    }
   ],
   "source": [
    "# スコア計算\n",
    "labels = pd.read_csv(f\"{CFG['dataset']['competition_dir']}/train_events.csv\").dropna()\n",
    "score, ap_table = compute_comptetition_metric(labels, sub)\n",
    "\n",
    "print(f\"score: {score:.4f}\")\n",
    "display(ap_table)\n",
    "sub.to_csv(os.path.join(CFG[\"output_dir\"], \"submission_after_nms.csv\"), index=False)"
   ]
  },
  {
   "cell_type": "code",
   "execution_count": null,
   "metadata": {},
   "outputs": [],
   "source": []
  },
  {
   "cell_type": "code",
   "execution_count": null,
   "metadata": {},
   "outputs": [],
   "source": []
  }
 ],
 "metadata": {
  "kernelspec": {
   "display_name": "base",
   "language": "python",
   "name": "python3"
  },
  "language_info": {
   "codemirror_mode": {
    "name": "ipython",
    "version": 3
   },
   "file_extension": ".py",
   "mimetype": "text/x-python",
   "name": "python",
   "nbconvert_exporter": "python",
   "pygments_lexer": "ipython3",
   "version": "3.10.10"
  },
  "orig_nbformat": 4
 },
 "nbformat": 4,
 "nbformat_minor": 2
}
