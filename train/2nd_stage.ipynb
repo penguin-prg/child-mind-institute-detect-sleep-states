{
 "cells": [
  {
   "cell_type": "code",
   "execution_count": 1,
   "metadata": {},
   "outputs": [
    {
     "name": "stderr",
     "output_type": "stream",
     "text": [
      "2023-10-22 06:03:35.238867: I tensorflow/core/platform/cpu_feature_guard.cc:193] This TensorFlow binary is optimized with oneAPI Deep Neural Network Library (oneDNN) to use the following CPU instructions in performance-critical operations:  AVX2 AVX_VNNI FMA\n",
      "To enable them in other operations, rebuild TensorFlow with the appropriate compiler flags.\n",
      "2023-10-22 06:03:35.310142: I tensorflow/core/util/port.cc:104] oneDNN custom operations are on. You may see slightly different numerical results due to floating-point round-off errors from different computation orders. To turn them off, set the environment variable `TF_ENABLE_ONEDNN_OPTS=0`.\n",
      "2023-10-22 06:03:35.772552: W tensorflow/compiler/xla/stream_executor/platform/default/dso_loader.cc:64] Could not load dynamic library 'libnvinfer.so.7'; dlerror: libnvinfer.so.7: cannot open shared object file: No such file or directory; LD_LIBRARY_PATH: /usr/local/cuda/lib64:/usr/local/cuda/lib:/usr/local/lib/x86_64-linux-gnu:/usr/local/nvidia/lib:/usr/local/nvidia/lib64:/usr/local/nvidia/lib:/usr/local/nvidia/lib64:/opt/conda/lib\n",
      "2023-10-22 06:03:35.772635: W tensorflow/compiler/xla/stream_executor/platform/default/dso_loader.cc:64] Could not load dynamic library 'libnvinfer_plugin.so.7'; dlerror: libnvinfer_plugin.so.7: cannot open shared object file: No such file or directory; LD_LIBRARY_PATH: /usr/local/cuda/lib64:/usr/local/cuda/lib:/usr/local/lib/x86_64-linux-gnu:/usr/local/nvidia/lib:/usr/local/nvidia/lib64:/usr/local/nvidia/lib:/usr/local/nvidia/lib64:/opt/conda/lib\n",
      "2023-10-22 06:03:35.772640: W tensorflow/compiler/tf2tensorrt/utils/py_utils.cc:38] TF-TRT Warning: Cannot dlopen some TensorRT libraries. If you would like to use Nvidia GPU with TensorRT, please make sure the missing libraries mentioned above are installed properly.\n"
     ]
    },
    {
     "name": "stdout",
     "output_type": "stream",
     "text": [
      "exp_095\n"
     ]
    }
   ],
   "source": [
    "import pandas as pd\n",
    "import yaml\n",
    "import sys\n",
    "import os\n",
    "from glob import glob\n",
    "from pathlib import Path\n",
    "import gc\n",
    "import pickle\n",
    "\n",
    "import warnings\n",
    "warnings.filterwarnings('ignore')\n",
    "\n",
    "sys.path.append('/kaggle/src')\n",
    "from utils.xgb import fit_xgb\n",
    "from utils.metric import compute_comptetition_metric\n",
    "from utils.postprocess import post_process\n",
    "from utils.set_seed import seed_base\n",
    "from feature_engineering.stage2 import generate_2nd_stage_features\n",
    "\n",
    "PACKAGE_DIR = Path(\"/kaggle/src\")\n",
    "CFG = yaml.safe_load(open(PACKAGE_DIR / \"config.yaml\", \"r\"))\n",
    "print(CFG[\"2nd_stage\"][\"execution\"][\"exp_id\"])\n",
    "\n",
    "CFG[\"output_dir\"] = f\"/kaggle/output/{CFG['2nd_stage']['execution']['exp_id']}\"\n",
    "!rm -r {CFG[\"output_dir\"]}\n",
    "os.makedirs(CFG[\"output_dir\"], exist_ok=True)\n",
    "\n",
    "seed_base(CFG[\"env\"][\"seed\"])"
   ]
  },
  {
   "cell_type": "code",
   "execution_count": 2,
   "metadata": {},
   "outputs": [
    {
     "name": "stderr",
     "output_type": "stream",
     "text": [
      "generate features: 100%|██████████| 277/277 [02:12<00:00,  2.09it/s]\n"
     ]
    },
    {
     "data": {
      "text/html": [
       "<div>\n",
       "<style scoped>\n",
       "    .dataframe tbody tr th:only-of-type {\n",
       "        vertical-align: middle;\n",
       "    }\n",
       "\n",
       "    .dataframe tbody tr th {\n",
       "        vertical-align: top;\n",
       "    }\n",
       "\n",
       "    .dataframe thead th {\n",
       "        text-align: right;\n",
       "    }\n",
       "</style>\n",
       "<table border=\"1\" class=\"dataframe\">\n",
       "  <thead>\n",
       "    <tr style=\"text-align: right;\">\n",
       "      <th></th>\n",
       "      <th>anglez</th>\n",
       "      <th>anglez_diff_abs</th>\n",
       "      <th>anglez_mean</th>\n",
       "      <th>enmo</th>\n",
       "      <th>enmo_diff_abs</th>\n",
       "      <th>enmo_mean</th>\n",
       "      <th>minutes</th>\n",
       "      <th>same_count</th>\n",
       "      <th>total_seconds</th>\n",
       "      <th>target</th>\n",
       "      <th>...</th>\n",
       "      <th>anglez_rolling_median_100_shift_1000</th>\n",
       "      <th>enmo_rolling_median_100_shift_1000</th>\n",
       "      <th>anglez_diff_abs_rolling_median_100_shift_1000</th>\n",
       "      <th>enmo_diff_abs_rolling_median_100_shift_1000</th>\n",
       "      <th>anglez_rolling_square_mean_100_shift_1000</th>\n",
       "      <th>enmo_rolling_square_mean_100_shift_1000</th>\n",
       "      <th>anglez_diff_abs_rolling_square_mean_100_shift_1000</th>\n",
       "      <th>enmo_diff_abs_rolling_square_mean_100_shift_1000</th>\n",
       "      <th>reduce_step</th>\n",
       "      <th>fold</th>\n",
       "    </tr>\n",
       "  </thead>\n",
       "  <tbody>\n",
       "    <tr>\n",
       "      <th>622</th>\n",
       "      <td>-1.160092</td>\n",
       "      <td>5.391342</td>\n",
       "      <td>-1.160092</td>\n",
       "      <td>0.049821</td>\n",
       "      <td>0.022942</td>\n",
       "      <td>0.049822</td>\n",
       "      <td>1797.5</td>\n",
       "      <td>6.5</td>\n",
       "      <td>32397.5</td>\n",
       "      <td>1</td>\n",
       "      <td>...</td>\n",
       "      <td>NaN</td>\n",
       "      <td>NaN</td>\n",
       "      <td>NaN</td>\n",
       "      <td>NaN</td>\n",
       "      <td>NaN</td>\n",
       "      <td>NaN</td>\n",
       "      <td>NaN</td>\n",
       "      <td>NaN</td>\n",
       "      <td>14939</td>\n",
       "      <td>3</td>\n",
       "    </tr>\n",
       "    <tr>\n",
       "      <th>623</th>\n",
       "      <td>-6.169150</td>\n",
       "      <td>4.236796</td>\n",
       "      <td>-6.169149</td>\n",
       "      <td>0.026333</td>\n",
       "      <td>0.008512</td>\n",
       "      <td>0.026335</td>\n",
       "      <td>117.5</td>\n",
       "      <td>0.0</td>\n",
       "      <td>32517.5</td>\n",
       "      <td>1</td>\n",
       "      <td>...</td>\n",
       "      <td>NaN</td>\n",
       "      <td>NaN</td>\n",
       "      <td>NaN</td>\n",
       "      <td>NaN</td>\n",
       "      <td>NaN</td>\n",
       "      <td>NaN</td>\n",
       "      <td>NaN</td>\n",
       "      <td>NaN</td>\n",
       "      <td>14963</td>\n",
       "      <td>3</td>\n",
       "    </tr>\n",
       "    <tr>\n",
       "      <th>624</th>\n",
       "      <td>-14.701716</td>\n",
       "      <td>3.183992</td>\n",
       "      <td>-14.701717</td>\n",
       "      <td>0.033279</td>\n",
       "      <td>0.007212</td>\n",
       "      <td>0.033278</td>\n",
       "      <td>237.5</td>\n",
       "      <td>0.0</td>\n",
       "      <td>32637.5</td>\n",
       "      <td>1</td>\n",
       "      <td>...</td>\n",
       "      <td>NaN</td>\n",
       "      <td>NaN</td>\n",
       "      <td>NaN</td>\n",
       "      <td>NaN</td>\n",
       "      <td>NaN</td>\n",
       "      <td>NaN</td>\n",
       "      <td>NaN</td>\n",
       "      <td>NaN</td>\n",
       "      <td>14987</td>\n",
       "      <td>3</td>\n",
       "    </tr>\n",
       "    <tr>\n",
       "      <th>625</th>\n",
       "      <td>-12.253108</td>\n",
       "      <td>3.600733</td>\n",
       "      <td>-12.253112</td>\n",
       "      <td>0.057471</td>\n",
       "      <td>0.028133</td>\n",
       "      <td>0.057472</td>\n",
       "      <td>357.5</td>\n",
       "      <td>0.0</td>\n",
       "      <td>32757.5</td>\n",
       "      <td>1</td>\n",
       "      <td>...</td>\n",
       "      <td>NaN</td>\n",
       "      <td>NaN</td>\n",
       "      <td>NaN</td>\n",
       "      <td>NaN</td>\n",
       "      <td>NaN</td>\n",
       "      <td>NaN</td>\n",
       "      <td>NaN</td>\n",
       "      <td>NaN</td>\n",
       "      <td>15011</td>\n",
       "      <td>3</td>\n",
       "    </tr>\n",
       "    <tr>\n",
       "      <th>626</th>\n",
       "      <td>-6.187904</td>\n",
       "      <td>3.673754</td>\n",
       "      <td>-6.187906</td>\n",
       "      <td>0.049892</td>\n",
       "      <td>0.030817</td>\n",
       "      <td>0.049891</td>\n",
       "      <td>477.5</td>\n",
       "      <td>0.0</td>\n",
       "      <td>32877.5</td>\n",
       "      <td>1</td>\n",
       "      <td>...</td>\n",
       "      <td>NaN</td>\n",
       "      <td>NaN</td>\n",
       "      <td>NaN</td>\n",
       "      <td>NaN</td>\n",
       "      <td>NaN</td>\n",
       "      <td>NaN</td>\n",
       "      <td>NaN</td>\n",
       "      <td>NaN</td>\n",
       "      <td>15035</td>\n",
       "      <td>3</td>\n",
       "    </tr>\n",
       "  </tbody>\n",
       "</table>\n",
       "<p>5 rows × 856 columns</p>\n",
       "</div>"
      ],
      "text/plain": [
       "        anglez  anglez_diff_abs  anglez_mean      enmo  enmo_diff_abs  \\\n",
       "622  -1.160092         5.391342    -1.160092  0.049821       0.022942   \n",
       "623  -6.169150         4.236796    -6.169149  0.026333       0.008512   \n",
       "624 -14.701716         3.183992   -14.701717  0.033279       0.007212   \n",
       "625 -12.253108         3.600733   -12.253112  0.057471       0.028133   \n",
       "626  -6.187904         3.673754    -6.187906  0.049892       0.030817   \n",
       "\n",
       "     enmo_mean  minutes  same_count  total_seconds  target  ...  \\\n",
       "622   0.049822   1797.5         6.5        32397.5       1  ...   \n",
       "623   0.026335    117.5         0.0        32517.5       1  ...   \n",
       "624   0.033278    237.5         0.0        32637.5       1  ...   \n",
       "625   0.057472    357.5         0.0        32757.5       1  ...   \n",
       "626   0.049891    477.5         0.0        32877.5       1  ...   \n",
       "\n",
       "     anglez_rolling_median_100_shift_1000  enmo_rolling_median_100_shift_1000  \\\n",
       "622                                   NaN                                 NaN   \n",
       "623                                   NaN                                 NaN   \n",
       "624                                   NaN                                 NaN   \n",
       "625                                   NaN                                 NaN   \n",
       "626                                   NaN                                 NaN   \n",
       "\n",
       "     anglez_diff_abs_rolling_median_100_shift_1000  \\\n",
       "622                                            NaN   \n",
       "623                                            NaN   \n",
       "624                                            NaN   \n",
       "625                                            NaN   \n",
       "626                                            NaN   \n",
       "\n",
       "    enmo_diff_abs_rolling_median_100_shift_1000  \\\n",
       "622                                         NaN   \n",
       "623                                         NaN   \n",
       "624                                         NaN   \n",
       "625                                         NaN   \n",
       "626                                         NaN   \n",
       "\n",
       "     anglez_rolling_square_mean_100_shift_1000  \\\n",
       "622                                        NaN   \n",
       "623                                        NaN   \n",
       "624                                        NaN   \n",
       "625                                        NaN   \n",
       "626                                        NaN   \n",
       "\n",
       "     enmo_rolling_square_mean_100_shift_1000  \\\n",
       "622                                      NaN   \n",
       "623                                      NaN   \n",
       "624                                      NaN   \n",
       "625                                      NaN   \n",
       "626                                      NaN   \n",
       "\n",
       "     anglez_diff_abs_rolling_square_mean_100_shift_1000  \\\n",
       "622                                                NaN    \n",
       "623                                                NaN    \n",
       "624                                                NaN    \n",
       "625                                                NaN    \n",
       "626                                                NaN    \n",
       "\n",
       "     enmo_diff_abs_rolling_square_mean_100_shift_1000  reduce_step  fold  \n",
       "622                                               NaN        14939     3  \n",
       "623                                               NaN        14963     3  \n",
       "624                                               NaN        14987     3  \n",
       "625                                               NaN        15011     3  \n",
       "626                                               NaN        15035     3  \n",
       "\n",
       "[5 rows x 856 columns]"
      ]
     },
     "metadata": {},
     "output_type": "display_data"
    },
    {
     "data": {
      "text/plain": [
       "(877617, 856)"
      ]
     },
     "execution_count": 2,
     "metadata": {},
     "output_type": "execute_result"
    }
   ],
   "source": [
    "# 特徴生成\n",
    "files = glob(f\"{CFG['dataset']['step_csv_dir']}/*.parquet\")\n",
    "train, features = generate_2nd_stage_features(files)\n",
    "\n",
    "# cv splitとマージ\n",
    "cv_split = pd.read_csv(CFG['dataset']['cv_split_path'])\n",
    "train[\"fold\"] = train[\"series_id\"].map(cv_split.set_index(\"series_id\")[\"fold\"])\n",
    "display(train.head(5))\n",
    "train.shape"
   ]
  },
  {
   "cell_type": "code",
   "execution_count": 3,
   "metadata": {},
   "outputs": [
    {
     "name": "stderr",
     "output_type": "stream",
     "text": [
      "  0%|          | 0/5 [00:00<?, ?it/s]"
     ]
    },
    {
     "name": "stdout",
     "output_type": "stream",
     "text": [
      "== fold 0 ==\n",
      "[0]\teval-rmse:1.81851\n",
      "[100]\teval-rmse:1.15416\n",
      "[200]\teval-rmse:0.99097\n",
      "[300]\teval-rmse:0.94895\n",
      "[400]\teval-rmse:0.93496\n",
      "[500]\teval-rmse:0.92970\n",
      "[600]\teval-rmse:0.92807\n",
      "[700]\teval-rmse:0.92620\n",
      "[800]\teval-rmse:0.92469\n",
      "[900]\teval-rmse:0.92388\n",
      "[1000]\teval-rmse:0.92271\n",
      "[1100]\teval-rmse:0.92208\n",
      "[1200]\teval-rmse:0.92147\n",
      "[1300]\teval-rmse:0.92101\n",
      "[1400]\teval-rmse:0.92065\n",
      "[1500]\teval-rmse:0.92020\n",
      "[1600]\teval-rmse:0.91979\n",
      "[1700]\teval-rmse:0.91954\n",
      "[1800]\teval-rmse:0.91924\n",
      "[1900]\teval-rmse:0.91907\n",
      "[2000]\teval-rmse:0.91871\n",
      "[2100]\teval-rmse:0.91854\n",
      "[2184]\teval-rmse:0.91862\n"
     ]
    },
    {
     "name": "stderr",
     "output_type": "stream",
     "text": [
      " 20%|██        | 1/5 [01:32<06:10, 92.73s/it]"
     ]
    },
    {
     "name": "stdout",
     "output_type": "stream",
     "text": [
      "== fold 1 ==\n",
      "[0]\teval-rmse:1.70192\n",
      "[100]\teval-rmse:1.10017\n",
      "[200]\teval-rmse:0.95334\n",
      "[300]\teval-rmse:0.91519\n",
      "[400]\teval-rmse:0.89939\n",
      "[500]\teval-rmse:0.89208\n",
      "[600]\teval-rmse:0.88893\n",
      "[700]\teval-rmse:0.88684\n",
      "[800]\teval-rmse:0.88531\n",
      "[900]\teval-rmse:0.88396\n",
      "[1000]\teval-rmse:0.88257\n",
      "[1100]\teval-rmse:0.88165\n",
      "[1200]\teval-rmse:0.88059\n",
      "[1300]\teval-rmse:0.87989\n",
      "[1400]\teval-rmse:0.87921\n",
      "[1500]\teval-rmse:0.87877\n",
      "[1600]\teval-rmse:0.87817\n",
      "[1700]\teval-rmse:0.87770\n",
      "[1800]\teval-rmse:0.87730\n",
      "[1900]\teval-rmse:0.87707\n",
      "[2000]\teval-rmse:0.87672\n",
      "[2100]\teval-rmse:0.87638\n",
      "[2200]\teval-rmse:0.87582\n",
      "[2300]\teval-rmse:0.87550\n",
      "[2400]\teval-rmse:0.87534\n",
      "[2500]\teval-rmse:0.87531\n",
      "[2600]\teval-rmse:0.87501\n",
      "[2700]\teval-rmse:0.87501\n",
      "[2800]\teval-rmse:0.87483\n",
      "[2900]\teval-rmse:0.87469\n",
      "[2975]\teval-rmse:0.87474\n"
     ]
    },
    {
     "name": "stderr",
     "output_type": "stream",
     "text": [
      " 40%|████      | 2/5 [03:33<05:27, 109.07s/it]"
     ]
    },
    {
     "name": "stdout",
     "output_type": "stream",
     "text": [
      "== fold 2 ==\n",
      "[0]\teval-rmse:1.73993\n",
      "[100]\teval-rmse:1.12748\n",
      "[200]\teval-rmse:0.97795\n",
      "[300]\teval-rmse:0.93702\n",
      "[400]\teval-rmse:0.92307\n",
      "[500]\teval-rmse:0.91691\n",
      "[600]\teval-rmse:0.91478\n",
      "[700]\teval-rmse:0.91372\n",
      "[800]\teval-rmse:0.91293\n",
      "[900]\teval-rmse:0.91211\n",
      "[1000]\teval-rmse:0.91116\n",
      "[1100]\teval-rmse:0.91047\n",
      "[1200]\teval-rmse:0.90991\n",
      "[1300]\teval-rmse:0.90932\n",
      "[1400]\teval-rmse:0.90879\n",
      "[1500]\teval-rmse:0.90850\n",
      "[1600]\teval-rmse:0.90826\n",
      "[1700]\teval-rmse:0.90817\n",
      "[1800]\teval-rmse:0.90800\n",
      "[1900]\teval-rmse:0.90783\n",
      "[2000]\teval-rmse:0.90781\n",
      "[2100]\teval-rmse:0.90768\n",
      "[2182]\teval-rmse:0.90770\n"
     ]
    },
    {
     "name": "stderr",
     "output_type": "stream",
     "text": [
      " 60%|██████    | 3/5 [05:04<03:21, 100.95s/it]"
     ]
    },
    {
     "name": "stdout",
     "output_type": "stream",
     "text": [
      "== fold 3 ==\n",
      "[0]\teval-rmse:1.71284\n",
      "[100]\teval-rmse:1.08291\n",
      "[200]\teval-rmse:0.92674\n",
      "[300]\teval-rmse:0.88440\n",
      "[400]\teval-rmse:0.87068\n",
      "[500]\teval-rmse:0.86553\n",
      "[600]\teval-rmse:0.86427\n",
      "[700]\teval-rmse:0.86393\n",
      "[800]\teval-rmse:0.86331\n",
      "[900]\teval-rmse:0.86273\n",
      "[1000]\teval-rmse:0.86251\n",
      "[1100]\teval-rmse:0.86202\n",
      "[1200]\teval-rmse:0.86135\n",
      "[1300]\teval-rmse:0.86118\n",
      "[1400]\teval-rmse:0.86106\n",
      "[1500]\teval-rmse:0.86099\n",
      "[1600]\teval-rmse:0.86068\n",
      "[1700]\teval-rmse:0.86053\n",
      "[1800]\teval-rmse:0.86027\n",
      "[1900]\teval-rmse:0.86027\n",
      "[1923]\teval-rmse:0.86028\n"
     ]
    },
    {
     "name": "stderr",
     "output_type": "stream",
     "text": [
      " 80%|████████  | 4/5 [06:24<01:32, 92.67s/it] "
     ]
    },
    {
     "name": "stdout",
     "output_type": "stream",
     "text": [
      "== fold 4 ==\n",
      "[0]\teval-rmse:1.78935\n",
      "[100]\teval-rmse:1.13905\n",
      "[200]\teval-rmse:0.97923\n",
      "[300]\teval-rmse:0.93808\n",
      "[400]\teval-rmse:0.92632\n",
      "[500]\teval-rmse:0.92204\n",
      "[600]\teval-rmse:0.92062\n",
      "[700]\teval-rmse:0.91933\n",
      "[800]\teval-rmse:0.91837\n",
      "[900]\teval-rmse:0.91759\n",
      "[1000]\teval-rmse:0.91702\n",
      "[1100]\teval-rmse:0.91641\n",
      "[1200]\teval-rmse:0.91592\n",
      "[1300]\teval-rmse:0.91568\n",
      "[1400]\teval-rmse:0.91545\n",
      "[1500]\teval-rmse:0.91529\n",
      "[1600]\teval-rmse:0.91524\n",
      "[1664]\teval-rmse:0.91524\n"
     ]
    },
    {
     "name": "stderr",
     "output_type": "stream",
     "text": [
      "100%|██████████| 5/5 [07:34<00:00, 90.95s/it]\n",
      "  0%|          | 0/5 [00:00<?, ?it/s]"
     ]
    },
    {
     "name": "stdout",
     "output_type": "stream",
     "text": [
      "== fold 0 ==\n",
      "[0]\teval-rmse:1.81548\n",
      "[100]\teval-rmse:1.17429\n",
      "[200]\teval-rmse:1.00568\n",
      "[300]\teval-rmse:0.95620\n",
      "[400]\teval-rmse:0.93814\n",
      "[500]\teval-rmse:0.93156\n",
      "[600]\teval-rmse:0.92787\n",
      "[700]\teval-rmse:0.92633\n",
      "[800]\teval-rmse:0.92528\n",
      "[900]\teval-rmse:0.92476\n",
      "[1000]\teval-rmse:0.92434\n",
      "[1100]\teval-rmse:0.92394\n",
      "[1200]\teval-rmse:0.92352\n",
      "[1300]\teval-rmse:0.92331\n",
      "[1400]\teval-rmse:0.92327\n",
      "[1500]\teval-rmse:0.92320\n",
      "[1600]\teval-rmse:0.92307\n",
      "[1672]\teval-rmse:0.92322\n"
     ]
    },
    {
     "name": "stderr",
     "output_type": "stream",
     "text": [
      " 20%|██        | 1/5 [01:10<04:43, 70.99s/it]"
     ]
    },
    {
     "name": "stdout",
     "output_type": "stream",
     "text": [
      "== fold 1 ==\n",
      "[0]\teval-rmse:1.69808\n",
      "[100]\teval-rmse:1.11169\n",
      "[200]\teval-rmse:0.95968\n",
      "[300]\teval-rmse:0.91281\n",
      "[400]\teval-rmse:0.89440\n",
      "[500]\teval-rmse:0.88660\n",
      "[600]\teval-rmse:0.88279\n",
      "[700]\teval-rmse:0.88071\n",
      "[800]\teval-rmse:0.87868\n",
      "[900]\teval-rmse:0.87700\n",
      "[1000]\teval-rmse:0.87618\n",
      "[1100]\teval-rmse:0.87548\n",
      "[1200]\teval-rmse:0.87442\n",
      "[1300]\teval-rmse:0.87392\n",
      "[1400]\teval-rmse:0.87339\n",
      "[1500]\teval-rmse:0.87307\n",
      "[1600]\teval-rmse:0.87253\n",
      "[1700]\teval-rmse:0.87214\n",
      "[1800]\teval-rmse:0.87211\n",
      "[1900]\teval-rmse:0.87187\n",
      "[2000]\teval-rmse:0.87164\n",
      "[2075]\teval-rmse:0.87169\n"
     ]
    },
    {
     "name": "stderr",
     "output_type": "stream",
     "text": [
      " 40%|████      | 2/5 [02:38<04:01, 80.61s/it]"
     ]
    },
    {
     "name": "stdout",
     "output_type": "stream",
     "text": [
      "== fold 2 ==\n",
      "[0]\teval-rmse:1.74181\n",
      "[100]\teval-rmse:1.17102\n",
      "[200]\teval-rmse:1.01868\n",
      "[300]\teval-rmse:0.96857\n",
      "[400]\teval-rmse:0.94692\n",
      "[500]\teval-rmse:0.93760\n",
      "[600]\teval-rmse:0.93275\n",
      "[700]\teval-rmse:0.92869\n",
      "[800]\teval-rmse:0.92609\n",
      "[900]\teval-rmse:0.92415\n",
      "[1000]\teval-rmse:0.92306\n",
      "[1100]\teval-rmse:0.92202\n",
      "[1200]\teval-rmse:0.92102\n",
      "[1300]\teval-rmse:0.92005\n",
      "[1400]\teval-rmse:0.91909\n",
      "[1500]\teval-rmse:0.91849\n",
      "[1600]\teval-rmse:0.91792\n",
      "[1700]\teval-rmse:0.91757\n",
      "[1800]\teval-rmse:0.91737\n",
      "[1900]\teval-rmse:0.91715\n",
      "[2000]\teval-rmse:0.91704\n",
      "[2100]\teval-rmse:0.91705\n",
      "[2106]\teval-rmse:0.91706\n"
     ]
    },
    {
     "name": "stderr",
     "output_type": "stream",
     "text": [
      " 60%|██████    | 3/5 [04:05<02:47, 83.83s/it]"
     ]
    },
    {
     "name": "stdout",
     "output_type": "stream",
     "text": [
      "== fold 3 ==\n",
      "[0]\teval-rmse:1.70748\n",
      "[100]\teval-rmse:1.12433\n",
      "[200]\teval-rmse:0.97707\n",
      "[300]\teval-rmse:0.93687\n",
      "[400]\teval-rmse:0.92337\n",
      "[500]\teval-rmse:0.91822\n",
      "[600]\teval-rmse:0.91473\n",
      "[700]\teval-rmse:0.91302\n",
      "[800]\teval-rmse:0.91174\n",
      "[900]\teval-rmse:0.91102\n",
      "[1000]\teval-rmse:0.91051\n",
      "[1100]\teval-rmse:0.91024\n",
      "[1200]\teval-rmse:0.90989\n",
      "[1300]\teval-rmse:0.90969\n",
      "[1400]\teval-rmse:0.90960\n",
      "[1500]\teval-rmse:0.90943\n",
      "[1570]\teval-rmse:0.90959\n"
     ]
    },
    {
     "name": "stderr",
     "output_type": "stream",
     "text": [
      " 80%|████████  | 4/5 [05:13<01:17, 77.34s/it]"
     ]
    },
    {
     "name": "stdout",
     "output_type": "stream",
     "text": [
      "== fold 4 ==\n",
      "[0]\teval-rmse:1.77996\n",
      "[100]\teval-rmse:1.18069\n",
      "[200]\teval-rmse:1.02860\n",
      "[300]\teval-rmse:0.98617\n",
      "[400]\teval-rmse:0.97091\n",
      "[500]\teval-rmse:0.96454\n",
      "[600]\teval-rmse:0.96123\n",
      "[700]\teval-rmse:0.95909\n",
      "[800]\teval-rmse:0.95749\n",
      "[900]\teval-rmse:0.95615\n",
      "[1000]\teval-rmse:0.95525\n",
      "[1100]\teval-rmse:0.95453\n",
      "[1200]\teval-rmse:0.95413\n",
      "[1300]\teval-rmse:0.95387\n",
      "[1400]\teval-rmse:0.95358\n",
      "[1500]\teval-rmse:0.95307\n",
      "[1600]\teval-rmse:0.95253\n",
      "[1700]\teval-rmse:0.95209\n",
      "[1800]\teval-rmse:0.95176\n",
      "[1900]\teval-rmse:0.95144\n",
      "[2000]\teval-rmse:0.95126\n",
      "[2100]\teval-rmse:0.95097\n",
      "[2200]\teval-rmse:0.95070\n",
      "[2300]\teval-rmse:0.95065\n",
      "[2400]\teval-rmse:0.95068\n",
      "[2455]\teval-rmse:0.95069\n"
     ]
    },
    {
     "name": "stderr",
     "output_type": "stream",
     "text": [
      "100%|██████████| 5/5 [06:51<00:00, 82.33s/it]\n"
     ]
    }
   ],
   "source": [
    "# 学習\n",
    "dfs = []\n",
    "for event in [\"wakeup\", \"onset\"]:\n",
    "    trn_oof, models = fit_xgb(\n",
    "        X=train, \n",
    "        y=train[f\"{event}_target\"], \n",
    "        folds=train[\"fold\"].astype(int), \n",
    "        features=features.all_features(),\n",
    "        params=CFG[\"2nd_stage\"][\"xgboost\"], \n",
    "        es_rounds=100,\n",
    "    )\n",
    "    train[\"score\"] = trn_oof\n",
    "    train[\"event\"] = event\n",
    "    dfs.append(train[[\"series_id\", \"step\", \"score\", \"event\"]])\n",
    "\n",
    "    # 保存\n",
    "    for i, model in enumerate(models):\n",
    "        model.save_model(os.path.join(CFG[\"output_dir\"], f'xgb_{event}_fold_{i}.model'))\n",
    "del train\n",
    "gc.collect()\n",
    "train = pd.concat(dfs, axis=0)\n",
    "train[\"step\"] = train[\"step\"].astype(int)\n",
    "train = train.sort_values([\"series_id\", \"step\"]).reset_index(drop=True)\n",
    "\n",
    "\n",
    "with open(os.path.join(CFG[\"output_dir\"], \"features.pkl\"), \"wb\") as f:\n",
    "    pickle.dump(features, f)\n",
    "train.to_csv(os.path.join(CFG[\"output_dir\"], \"oof.csv\"), index=False)"
   ]
  },
  {
   "cell_type": "markdown",
   "metadata": {},
   "source": [
    "## Dynamic-Range NMS"
   ]
  },
  {
   "cell_type": "code",
   "execution_count": 4,
   "metadata": {},
   "outputs": [
    {
     "data": {
      "text/plain": [
       "<AxesSubplot: >"
      ]
     },
     "execution_count": 4,
     "metadata": {},
     "output_type": "execute_result"
    },
    {
     "data": {
      "image/png": "[encoded data removed]",
      "text/plain": [
       "<Figure size 640x480 with 1 Axes>"
      ]
     },
     "metadata": {},
     "output_type": "display_data"
    }
   ],
   "source": [
    "train = train[train[\"score\"] > 0.1]\n",
    "train[\"score\"].hist()"
   ]
  },
  {
   "cell_type": "code",
   "execution_count": 5,
   "metadata": {},
   "outputs": [
    {
     "name": "stderr",
     "output_type": "stream",
     "text": [
      "100%|██████████| 277/277 [00:06<00:00, 45.33it/s]\n"
     ]
    }
   ],
   "source": [
    "from utils.postprocess import dynamic_range_nms\n",
    "from multiprocessing import Pool\n",
    "from tqdm import tqdm\n",
    "\n",
    "train[\"step\"] = train[\"step\"].astype(int)\n",
    "\n",
    "groups = [group for _, group in train.groupby(\"series_id\")]\n",
    "with Pool(30) as p:  \n",
    "    results = list(tqdm(p.imap(dynamic_range_nms, groups), total=len(groups)))\n",
    "sub = pd.concat(results)\n",
    "sub[\"score\"] = sub[\"reduced_score\"]"
   ]
  },
  {
   "cell_type": "code",
   "execution_count": 6,
   "metadata": {},
   "outputs": [
    {
     "name": "stdout",
     "output_type": "stream",
     "text": [
      "score: 0.7340\n"
     ]
    },
    {
     "data": {
      "text/plain": [
       "event   tolerance\n",
       "onset   12           0.132748\n",
       "        36           0.504688\n",
       "        60           0.695458\n",
       "        90           0.791913\n",
       "        120          0.828158\n",
       "        150          0.848888\n",
       "        180          0.861126\n",
       "        240          0.876992\n",
       "        300          0.884006\n",
       "        360          0.890247\n",
       "wakeup  12           0.105385\n",
       "        36           0.497060\n",
       "        60           0.700309\n",
       "        90           0.784993\n",
       "        120          0.833454\n",
       "        150          0.861159\n",
       "        180          0.873960\n",
       "        240          0.892582\n",
       "        300          0.903500\n",
       "        360          0.912548\n",
       "dtype: float64"
      ]
     },
     "metadata": {},
     "output_type": "display_data"
    }
   ],
   "source": [
    "# スコア計算\n",
    "labels = pd.read_csv(f\"{CFG['dataset']['competition_dir']}/train_events.csv\").dropna()\n",
    "score, ap_table = compute_comptetition_metric(labels, sub)\n",
    "\n",
    "print(f\"score: {score:.4f}\")\n",
    "display(ap_table)\n",
    "sub.to_csv(os.path.join(CFG[\"output_dir\"], \"submission_after_nms.csv\"), index=False)"
   ]
  },
  {
   "cell_type": "code",
   "execution_count": null,
   "metadata": {},
   "outputs": [],
   "source": []
  },
  {
   "cell_type": "code",
   "execution_count": null,
   "metadata": {},
   "outputs": [],
   "source": []
  }
 ],
 "metadata": {
  "kernelspec": {
   "display_name": "base",
   "language": "python",
   "name": "python3"
  },
  "language_info": {
   "codemirror_mode": {
    "name": "ipython",
    "version": 3
   },
   "file_extension": ".py",
   "mimetype": "text/x-python",
   "name": "python",
   "nbconvert_exporter": "python",
   "pygments_lexer": "ipython3",
   "version": "3.10.10"
  },
  "orig_nbformat": 4
 },
 "nbformat": 4,
 "nbformat_minor": 2
}
