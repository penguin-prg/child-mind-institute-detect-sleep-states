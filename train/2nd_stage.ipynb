{
 "cells": [
  {
   "cell_type": "code",
   "execution_count": 1,
   "metadata": {},
   "outputs": [
    {
     "name": "stderr",
     "output_type": "stream",
     "text": [
      "2023-10-01 16:25:00.003501: I tensorflow/core/platform/cpu_feature_guard.cc:193] This TensorFlow binary is optimized with oneAPI Deep Neural Network Library (oneDNN) to use the following CPU instructions in performance-critical operations:  AVX2 AVX_VNNI FMA\n",
      "To enable them in other operations, rebuild TensorFlow with the appropriate compiler flags.\n",
      "2023-10-01 16:25:00.239423: I tensorflow/core/util/port.cc:104] oneDNN custom operations are on. You may see slightly different numerical results due to floating-point round-off errors from different computation orders. To turn them off, set the environment variable `TF_ENABLE_ONEDNN_OPTS=0`.\n",
      "2023-10-01 16:25:01.375584: W tensorflow/compiler/xla/stream_executor/platform/default/dso_loader.cc:64] Could not load dynamic library 'libnvinfer.so.7'; dlerror: libnvinfer.so.7: cannot open shared object file: No such file or directory; LD_LIBRARY_PATH: /usr/local/cuda/lib64:/usr/local/cuda/lib:/usr/local/lib/x86_64-linux-gnu:/usr/local/nvidia/lib:/usr/local/nvidia/lib64:/usr/local/nvidia/lib:/usr/local/nvidia/lib64:/opt/conda/lib\n",
      "2023-10-01 16:25:01.375803: W tensorflow/compiler/xla/stream_executor/platform/default/dso_loader.cc:64] Could not load dynamic library 'libnvinfer_plugin.so.7'; dlerror: libnvinfer_plugin.so.7: cannot open shared object file: No such file or directory; LD_LIBRARY_PATH: /usr/local/cuda/lib64:/usr/local/cuda/lib:/usr/local/lib/x86_64-linux-gnu:/usr/local/nvidia/lib:/usr/local/nvidia/lib64:/usr/local/nvidia/lib:/usr/local/nvidia/lib64:/opt/conda/lib\n",
      "2023-10-01 16:25:01.375808: W tensorflow/compiler/tf2tensorrt/utils/py_utils.cc:38] TF-TRT Warning: Cannot dlopen some TensorRT libraries. If you would like to use Nvidia GPU with TensorRT, please make sure the missing libraries mentioned above are installed properly.\n"
     ]
    },
    {
     "name": "stdout",
     "output_type": "stream",
     "text": [
      "exp_051\n",
      "rm: cannot remove '/kaggle/output/exp_051': No such file or directory\n"
     ]
    }
   ],
   "source": [
    "import pandas as pd\n",
    "import yaml\n",
    "import sys\n",
    "import os\n",
    "from glob import glob\n",
    "from pathlib import Path\n",
    "import pickle\n",
    "\n",
    "import warnings\n",
    "warnings.filterwarnings('ignore')\n",
    "\n",
    "sys.path.append('/kaggle/src')\n",
    "from utils.xgb import fit_xgb\n",
    "from utils.metric import compute_comptetition_metric\n",
    "from utils.postprocess import post_process\n",
    "from utils.set_seed import seed_base\n",
    "from feature_engineering.stage2 import generate_2nd_stage_features\n",
    "\n",
    "PACKAGE_DIR = Path(\"/kaggle/src\")\n",
    "CFG = yaml.safe_load(open(PACKAGE_DIR / \"config.yaml\", \"r\"))\n",
    "print(CFG[\"2nd_stage\"][\"execution\"][\"exp_id\"])\n",
    "\n",
    "CFG[\"output_dir\"] = f\"/kaggle/output/{CFG['2nd_stage']['execution']['exp_id']}\"\n",
    "!rm -r {CFG[\"output_dir\"]}\n",
    "os.makedirs(CFG[\"output_dir\"], exist_ok=True)\n",
    "\n",
    "seed_base(CFG[\"env\"][\"seed\"])"
   ]
  },
  {
   "cell_type": "code",
   "execution_count": 2,
   "metadata": {},
   "outputs": [
    {
     "name": "stderr",
     "output_type": "stream",
     "text": [
      "generate features: 100%|██████████| 277/277 [07:44<00:00,  1.68s/it]\n"
     ]
    },
    {
     "data": {
      "text/html": [
       "<div>\n",
       "<style scoped>\n",
       "    .dataframe tbody tr th:only-of-type {\n",
       "        vertical-align: middle;\n",
       "    }\n",
       "\n",
       "    .dataframe tbody tr th {\n",
       "        vertical-align: top;\n",
       "    }\n",
       "\n",
       "    .dataframe thead th {\n",
       "        text-align: right;\n",
       "    }\n",
       "</style>\n",
       "<table border=\"1\" class=\"dataframe\">\n",
       "  <thead>\n",
       "    <tr style=\"text-align: right;\">\n",
       "      <th></th>\n",
       "      <th>anglez_diff_abs</th>\n",
       "      <th>anglez_diff_abs_rolling_max_10</th>\n",
       "      <th>anglez_diff_abs_rolling_max_100</th>\n",
       "      <th>anglez_diff_abs_rolling_max_1000</th>\n",
       "      <th>anglez_diff_abs_rolling_max_50</th>\n",
       "      <th>anglez_diff_abs_rolling_mean_10</th>\n",
       "      <th>anglez_diff_abs_rolling_mean_100</th>\n",
       "      <th>anglez_diff_abs_rolling_mean_1000</th>\n",
       "      <th>anglez_diff_abs_rolling_mean_50</th>\n",
       "      <th>anglez_diff_abs_rolling_median_10</th>\n",
       "      <th>...</th>\n",
       "      <th>anglez_mean_rolling_median_1000_shift_434</th>\n",
       "      <th>enmo_mean_rolling_median_1000_shift_434</th>\n",
       "      <th>anglez_rolling_square_mean_1000_shift_434</th>\n",
       "      <th>enmo_rolling_square_mean_1000_shift_434</th>\n",
       "      <th>anglez_diff_abs_rolling_square_mean_1000_shift_434</th>\n",
       "      <th>enmo_diff_abs_rolling_square_mean_1000_shift_434</th>\n",
       "      <th>anglez_mean_rolling_square_mean_1000_shift_434</th>\n",
       "      <th>enmo_mean_rolling_square_mean_1000_shift_434</th>\n",
       "      <th>reduce_step</th>\n",
       "      <th>fold</th>\n",
       "    </tr>\n",
       "  </thead>\n",
       "  <tbody>\n",
       "    <tr>\n",
       "      <th>296</th>\n",
       "      <td>11.684900</td>\n",
       "      <td>36.994174</td>\n",
       "      <td>51.115900</td>\n",
       "      <td>84.6226</td>\n",
       "      <td>51.115900</td>\n",
       "      <td>11.261071</td>\n",
       "      <td>12.183105</td>\n",
       "      <td>7.862673</td>\n",
       "      <td>12.517113</td>\n",
       "      <td>8.006350</td>\n",
       "      <td>...</td>\n",
       "      <td>NaN</td>\n",
       "      <td>NaN</td>\n",
       "      <td>NaN</td>\n",
       "      <td>NaN</td>\n",
       "      <td>NaN</td>\n",
       "      <td>NaN</td>\n",
       "      <td>NaN</td>\n",
       "      <td>NaN</td>\n",
       "      <td>6819</td>\n",
       "      <td>3</td>\n",
       "    </tr>\n",
       "    <tr>\n",
       "      <th>297</th>\n",
       "      <td>13.075613</td>\n",
       "      <td>30.996570</td>\n",
       "      <td>51.115900</td>\n",
       "      <td>84.6226</td>\n",
       "      <td>44.529509</td>\n",
       "      <td>13.301110</td>\n",
       "      <td>12.761695</td>\n",
       "      <td>7.463610</td>\n",
       "      <td>12.094577</td>\n",
       "      <td>12.030083</td>\n",
       "      <td>...</td>\n",
       "      <td>NaN</td>\n",
       "      <td>NaN</td>\n",
       "      <td>NaN</td>\n",
       "      <td>NaN</td>\n",
       "      <td>NaN</td>\n",
       "      <td>NaN</td>\n",
       "      <td>NaN</td>\n",
       "      <td>NaN</td>\n",
       "      <td>6842</td>\n",
       "      <td>3</td>\n",
       "    </tr>\n",
       "    <tr>\n",
       "      <th>298</th>\n",
       "      <td>12.413470</td>\n",
       "      <td>33.371791</td>\n",
       "      <td>45.949874</td>\n",
       "      <td>84.6226</td>\n",
       "      <td>39.665117</td>\n",
       "      <td>12.084873</td>\n",
       "      <td>11.926955</td>\n",
       "      <td>7.082522</td>\n",
       "      <td>12.905041</td>\n",
       "      <td>8.490039</td>\n",
       "      <td>...</td>\n",
       "      <td>NaN</td>\n",
       "      <td>NaN</td>\n",
       "      <td>NaN</td>\n",
       "      <td>NaN</td>\n",
       "      <td>NaN</td>\n",
       "      <td>NaN</td>\n",
       "      <td>NaN</td>\n",
       "      <td>NaN</td>\n",
       "      <td>6865</td>\n",
       "      <td>3</td>\n",
       "    </tr>\n",
       "    <tr>\n",
       "      <th>299</th>\n",
       "      <td>13.615730</td>\n",
       "      <td>30.516778</td>\n",
       "      <td>43.971200</td>\n",
       "      <td>84.6226</td>\n",
       "      <td>37.958600</td>\n",
       "      <td>12.941608</td>\n",
       "      <td>13.244629</td>\n",
       "      <td>6.773975</td>\n",
       "      <td>11.794722</td>\n",
       "      <td>11.172298</td>\n",
       "      <td>...</td>\n",
       "      <td>NaN</td>\n",
       "      <td>NaN</td>\n",
       "      <td>NaN</td>\n",
       "      <td>NaN</td>\n",
       "      <td>NaN</td>\n",
       "      <td>NaN</td>\n",
       "      <td>NaN</td>\n",
       "      <td>NaN</td>\n",
       "      <td>6888</td>\n",
       "      <td>3</td>\n",
       "    </tr>\n",
       "    <tr>\n",
       "      <th>300</th>\n",
       "      <td>9.200848</td>\n",
       "      <td>28.272274</td>\n",
       "      <td>49.273557</td>\n",
       "      <td>84.6226</td>\n",
       "      <td>43.971200</td>\n",
       "      <td>10.714105</td>\n",
       "      <td>13.011863</td>\n",
       "      <td>6.424168</td>\n",
       "      <td>13.524268</td>\n",
       "      <td>8.659978</td>\n",
       "      <td>...</td>\n",
       "      <td>NaN</td>\n",
       "      <td>NaN</td>\n",
       "      <td>NaN</td>\n",
       "      <td>NaN</td>\n",
       "      <td>NaN</td>\n",
       "      <td>NaN</td>\n",
       "      <td>NaN</td>\n",
       "      <td>NaN</td>\n",
       "      <td>6911</td>\n",
       "      <td>3</td>\n",
       "    </tr>\n",
       "  </tbody>\n",
       "</table>\n",
       "<p>5 rows × 1380 columns</p>\n",
       "</div>"
      ],
      "text/plain": [
       "     anglez_diff_abs  anglez_diff_abs_rolling_max_10  \\\n",
       "296        11.684900                       36.994174   \n",
       "297        13.075613                       30.996570   \n",
       "298        12.413470                       33.371791   \n",
       "299        13.615730                       30.516778   \n",
       "300         9.200848                       28.272274   \n",
       "\n",
       "     anglez_diff_abs_rolling_max_100  anglez_diff_abs_rolling_max_1000  \\\n",
       "296                        51.115900                           84.6226   \n",
       "297                        51.115900                           84.6226   \n",
       "298                        45.949874                           84.6226   \n",
       "299                        43.971200                           84.6226   \n",
       "300                        49.273557                           84.6226   \n",
       "\n",
       "     anglez_diff_abs_rolling_max_50  anglez_diff_abs_rolling_mean_10  \\\n",
       "296                       51.115900                        11.261071   \n",
       "297                       44.529509                        13.301110   \n",
       "298                       39.665117                        12.084873   \n",
       "299                       37.958600                        12.941608   \n",
       "300                       43.971200                        10.714105   \n",
       "\n",
       "     anglez_diff_abs_rolling_mean_100  anglez_diff_abs_rolling_mean_1000  \\\n",
       "296                         12.183105                           7.862673   \n",
       "297                         12.761695                           7.463610   \n",
       "298                         11.926955                           7.082522   \n",
       "299                         13.244629                           6.773975   \n",
       "300                         13.011863                           6.424168   \n",
       "\n",
       "     anglez_diff_abs_rolling_mean_50  anglez_diff_abs_rolling_median_10  ...  \\\n",
       "296                        12.517113                           8.006350  ...   \n",
       "297                        12.094577                          12.030083  ...   \n",
       "298                        12.905041                           8.490039  ...   \n",
       "299                        11.794722                          11.172298  ...   \n",
       "300                        13.524268                           8.659978  ...   \n",
       "\n",
       "     anglez_mean_rolling_median_1000_shift_434  \\\n",
       "296                                        NaN   \n",
       "297                                        NaN   \n",
       "298                                        NaN   \n",
       "299                                        NaN   \n",
       "300                                        NaN   \n",
       "\n",
       "     enmo_mean_rolling_median_1000_shift_434  \\\n",
       "296                                      NaN   \n",
       "297                                      NaN   \n",
       "298                                      NaN   \n",
       "299                                      NaN   \n",
       "300                                      NaN   \n",
       "\n",
       "     anglez_rolling_square_mean_1000_shift_434  \\\n",
       "296                                        NaN   \n",
       "297                                        NaN   \n",
       "298                                        NaN   \n",
       "299                                        NaN   \n",
       "300                                        NaN   \n",
       "\n",
       "     enmo_rolling_square_mean_1000_shift_434  \\\n",
       "296                                      NaN   \n",
       "297                                      NaN   \n",
       "298                                      NaN   \n",
       "299                                      NaN   \n",
       "300                                      NaN   \n",
       "\n",
       "     anglez_diff_abs_rolling_square_mean_1000_shift_434  \\\n",
       "296                                                NaN    \n",
       "297                                                NaN    \n",
       "298                                                NaN    \n",
       "299                                                NaN    \n",
       "300                                                NaN    \n",
       "\n",
       "     enmo_diff_abs_rolling_square_mean_1000_shift_434  \\\n",
       "296                                               NaN   \n",
       "297                                               NaN   \n",
       "298                                               NaN   \n",
       "299                                               NaN   \n",
       "300                                               NaN   \n",
       "\n",
       "     anglez_mean_rolling_square_mean_1000_shift_434  \\\n",
       "296                                             NaN   \n",
       "297                                             NaN   \n",
       "298                                             NaN   \n",
       "299                                             NaN   \n",
       "300                                             NaN   \n",
       "\n",
       "     enmo_mean_rolling_square_mean_1000_shift_434  reduce_step  fold  \n",
       "296                                           NaN         6819     3  \n",
       "297                                           NaN         6842     3  \n",
       "298                                           NaN         6865     3  \n",
       "299                                           NaN         6888     3  \n",
       "300                                           NaN         6911     3  \n",
       "\n",
       "[5 rows x 1380 columns]"
      ]
     },
     "metadata": {},
     "output_type": "display_data"
    },
    {
     "data": {
      "text/plain": [
       "(906229, 1380)"
      ]
     },
     "execution_count": 2,
     "metadata": {},
     "output_type": "execute_result"
    }
   ],
   "source": [
    "# 特徴生成\n",
    "files = glob(f\"{CFG['dataset']['step_csv_dir']}/*.csv\")\n",
    "train, features = generate_2nd_stage_features(files)\n",
    "\n",
    "# cv splitとマージ\n",
    "cv_split = pd.read_csv(CFG['dataset']['cv_split_path'])\n",
    "train[\"fold\"] = train[\"series_id\"].map(cv_split.set_index(\"series_id\")[\"fold\"])\n",
    "display(train.head(5))\n",
    "train.shape"
   ]
  },
  {
   "cell_type": "code",
   "execution_count": 3,
   "metadata": {},
   "outputs": [
    {
     "name": "stderr",
     "output_type": "stream",
     "text": [
      "  0%|          | 0/5 [00:00<?, ?it/s]"
     ]
    },
    {
     "name": "stdout",
     "output_type": "stream",
     "text": [
      "== fold 0 ==\n",
      "[0]\teval-logloss:0.64444\n",
      "[100]\teval-logloss:0.26741\n",
      "[200]\teval-logloss:0.26579\n",
      "[289]\teval-logloss:0.26751\n"
     ]
    },
    {
     "name": "stderr",
     "output_type": "stream",
     "text": [
      " 20%|██        | 1/5 [00:36<02:26, 36.62s/it]"
     ]
    },
    {
     "name": "stdout",
     "output_type": "stream",
     "text": [
      "== fold 1 ==\n",
      "[0]\teval-logloss:0.64618\n",
      "[100]\teval-logloss:0.24401\n",
      "[200]\teval-logloss:0.23945\n",
      "[300]\teval-logloss:0.23975\n",
      "[314]\teval-logloss:0.23998\n"
     ]
    },
    {
     "name": "stderr",
     "output_type": "stream",
     "text": [
      " 40%|████      | 2/5 [01:17<01:57, 39.03s/it]"
     ]
    },
    {
     "name": "stdout",
     "output_type": "stream",
     "text": [
      "== fold 2 ==\n",
      "[0]\teval-logloss:0.64387\n",
      "[100]\teval-logloss:0.24775\n",
      "[200]\teval-logloss:0.23929\n",
      "[300]\teval-logloss:0.23774\n",
      "[400]\teval-logloss:0.23751\n",
      "[467]\teval-logloss:0.23898\n"
     ]
    },
    {
     "name": "stderr",
     "output_type": "stream",
     "text": [
      " 60%|██████    | 3/5 [02:05<01:26, 43.00s/it]"
     ]
    },
    {
     "name": "stdout",
     "output_type": "stream",
     "text": [
      "== fold 3 ==\n",
      "[0]\teval-logloss:0.64755\n",
      "[100]\teval-logloss:0.26093\n",
      "[200]\teval-logloss:0.25628\n",
      "[300]\teval-logloss:0.25588\n",
      "[358]\teval-logloss:0.25626\n"
     ]
    },
    {
     "name": "stderr",
     "output_type": "stream",
     "text": [
      " 80%|████████  | 4/5 [02:45<00:42, 42.06s/it]"
     ]
    },
    {
     "name": "stdout",
     "output_type": "stream",
     "text": [
      "== fold 4 ==\n",
      "[0]\teval-logloss:0.64632\n",
      "[100]\teval-logloss:0.30694\n",
      "[166]\teval-logloss:0.30544\n"
     ]
    },
    {
     "name": "stderr",
     "output_type": "stream",
     "text": [
      "100%|██████████| 5/5 [03:10<00:00, 38.16s/it]\n"
     ]
    }
   ],
   "source": [
    "# 学習\n",
    "trn_oof, models = fit_xgb(\n",
    "    X=train, \n",
    "    y=train[\"target\"], \n",
    "    folds=train[\"fold\"].astype(int), \n",
    "    features=features.all_features(),\n",
    "    params=CFG[\"2nd_stage\"][\"xgboost\"], \n",
    "    es_rounds=100,\n",
    ")\n",
    "train[\"oof\"] = trn_oof\n",
    "train = train.drop(columns=list(set(features.all_features()) - set([\"minutes\"])))\n",
    "train = train.sort_values([\"series_id\", \"step\"]).reset_index(drop=True)\n",
    "\n",
    "# nanは1st stageの結果を使う\n",
    "cand_path = os.path.join(\"/kaggle/output\", CFG[\"1st_stage\"][\"execution\"][\"best_exp_id\"], \"oof.csv\")\n",
    "last_train = pd.read_csv(cand_path).rename(columns={\"oof\": \"oof_1st\"})\n",
    "train = last_train[[\"series_id\", \"oof_1st\", \"step\"]].merge(\n",
    "    train[[\"series_id\", \"oof\", \"step\", \"minutes\"]], \n",
    "    on=[\"series_id\", \"step\"], \n",
    "    how=\"left\")\n",
    "train[\"oof\"] = train[\"oof\"].fillna(train[\"oof_1st\"])\n",
    "train = train.sort_values([\"series_id\", \"step\"]).reset_index(drop=True)\n",
    "\n",
    "# 保存\n",
    "for i, model in enumerate(models):\n",
    "    model.save_model(os.path.join(CFG[\"output_dir\"], f'xgb_fold{i}.model'))\n",
    "with open(os.path.join(CFG[\"output_dir\"], \"features.pkl\"), \"wb\") as f:\n",
    "    pickle.dump(features, f)\n",
    "train.to_csv(os.path.join(CFG[\"output_dir\"], \"oof.csv\"), index=False)"
   ]
  },
  {
   "cell_type": "code",
   "execution_count": 4,
   "metadata": {},
   "outputs": [
    {
     "name": "stderr",
     "output_type": "stream",
     "text": [
      "post process: 100%|██████████| 277/277 [00:48<00:00,  5.73it/s]\n"
     ]
    },
    {
     "name": "stdout",
     "output_type": "stream",
     "text": [
      "score: 0.6321\n"
     ]
    },
    {
     "data": {
      "text/plain": [
       "event   tolerance\n",
       "onset   12           0.027006\n",
       "        36           0.255948\n",
       "        60           0.475076\n",
       "        90           0.620108\n",
       "        120          0.705362\n",
       "        150          0.757580\n",
       "        180          0.786737\n",
       "        240          0.816764\n",
       "        300          0.841402\n",
       "        360          0.851437\n",
       "wakeup  12           0.084483\n",
       "        36           0.363847\n",
       "        60           0.534821\n",
       "        90           0.656585\n",
       "        120          0.720839\n",
       "        150          0.766094\n",
       "        180          0.798265\n",
       "        240          0.836974\n",
       "        300          0.863222\n",
       "        360          0.879370\n",
       "dtype: float64"
      ]
     },
     "metadata": {},
     "output_type": "display_data"
    }
   ],
   "source": [
    "# 後処理\n",
    "sub = post_process(train)\n",
    "sub = sub.merge(train[[\"series_id\", \"step\", \"minutes\"]].rename(columns={\"step\": \"key_step\"}), on=[\"series_id\", \"key_step\"], how=\"left\")\n",
    "sub.to_csv(os.path.join(CFG[\"output_dir\"], \"submission.csv\"), index=False)\n",
    "\n",
    "# スコア計算\n",
    "labels = pd.read_csv(f\"{CFG['dataset']['competition_dir']}/train_events.csv\").dropna()\n",
    "score, ap_table = compute_comptetition_metric(labels, sub)\n",
    "print(f\"score: {score:.4f}\")\n",
    "display(ap_table)"
   ]
  },
  {
   "cell_type": "code",
   "execution_count": null,
   "metadata": {},
   "outputs": [],
   "source": []
  }
 ],
 "metadata": {
  "kernelspec": {
   "display_name": "base",
   "language": "python",
   "name": "python3"
  },
  "language_info": {
   "codemirror_mode": {
    "name": "ipython",
    "version": 3
   },
   "file_extension": ".py",
   "mimetype": "text/x-python",
   "name": "python",
   "nbconvert_exporter": "python",
   "pygments_lexer": "ipython3",
   "version": "3.10.10"
  },
  "orig_nbformat": 4
 },
 "nbformat": 4,
 "nbformat_minor": 2
}
