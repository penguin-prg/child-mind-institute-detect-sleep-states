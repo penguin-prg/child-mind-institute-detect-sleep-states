{
 "cells": [
  {
   "cell_type": "code",
   "execution_count": 1,
   "metadata": {},
   "outputs": [
    {
     "name": "stderr",
     "output_type": "stream",
     "text": [
      "2023-10-22 07:35:17.203207: I tensorflow/core/platform/cpu_feature_guard.cc:193] This TensorFlow binary is optimized with oneAPI Deep Neural Network Library (oneDNN) to use the following CPU instructions in performance-critical operations:  AVX2 AVX_VNNI FMA\n",
      "To enable them in other operations, rebuild TensorFlow with the appropriate compiler flags.\n",
      "2023-10-22 07:35:17.554806: I tensorflow/core/util/port.cc:104] oneDNN custom operations are on. You may see slightly different numerical results due to floating-point round-off errors from different computation orders. To turn them off, set the environment variable `TF_ENABLE_ONEDNN_OPTS=0`.\n",
      "2023-10-22 07:35:18.678064: W tensorflow/compiler/xla/stream_executor/platform/default/dso_loader.cc:64] Could not load dynamic library 'libnvinfer.so.7'; dlerror: libnvinfer.so.7: cannot open shared object file: No such file or directory; LD_LIBRARY_PATH: /usr/local/cuda/lib64:/usr/local/cuda/lib:/usr/local/lib/x86_64-linux-gnu:/usr/local/nvidia/lib:/usr/local/nvidia/lib64:/usr/local/nvidia/lib:/usr/local/nvidia/lib64:/opt/conda/lib\n",
      "2023-10-22 07:35:18.678411: W tensorflow/compiler/xla/stream_executor/platform/default/dso_loader.cc:64] Could not load dynamic library 'libnvinfer_plugin.so.7'; dlerror: libnvinfer_plugin.so.7: cannot open shared object file: No such file or directory; LD_LIBRARY_PATH: /usr/local/cuda/lib64:/usr/local/cuda/lib:/usr/local/lib/x86_64-linux-gnu:/usr/local/nvidia/lib:/usr/local/nvidia/lib64:/usr/local/nvidia/lib:/usr/local/nvidia/lib64:/opt/conda/lib\n",
      "2023-10-22 07:35:18.678421: W tensorflow/compiler/tf2tensorrt/utils/py_utils.cc:38] TF-TRT Warning: Cannot dlopen some TensorRT libraries. If you would like to use Nvidia GPU with TensorRT, please make sure the missing libraries mentioned above are installed properly.\n"
     ]
    },
    {
     "name": "stdout",
     "output_type": "stream",
     "text": [
      "exp_096\n"
     ]
    }
   ],
   "source": [
    "import pandas as pd\n",
    "import yaml\n",
    "import sys\n",
    "import os\n",
    "from glob import glob\n",
    "from pathlib import Path\n",
    "import gc\n",
    "import pickle\n",
    "\n",
    "import warnings\n",
    "warnings.filterwarnings('ignore')\n",
    "\n",
    "sys.path.append('/kaggle/src')\n",
    "from utils.xgb import fit_xgb\n",
    "from utils.metric import compute_comptetition_metric\n",
    "from utils.postprocess import post_process\n",
    "from utils.set_seed import seed_base\n",
    "from feature_engineering.stage2 import generate_2nd_stage_features\n",
    "\n",
    "PACKAGE_DIR = Path(\"/kaggle/src\")\n",
    "CFG = yaml.safe_load(open(PACKAGE_DIR / \"config.yaml\", \"r\"))\n",
    "print(CFG[\"2nd_stage\"][\"execution\"][\"exp_id\"])\n",
    "\n",
    "CFG[\"output_dir\"] = f\"/kaggle/output/{CFG['2nd_stage']['execution']['exp_id']}\"\n",
    "!rm -r {CFG[\"output_dir\"]}\n",
    "os.makedirs(CFG[\"output_dir\"], exist_ok=True)\n",
    "\n",
    "seed_base(CFG[\"env\"][\"seed\"])"
   ]
  },
  {
   "cell_type": "code",
   "execution_count": 2,
   "metadata": {},
   "outputs": [
    {
     "name": "stderr",
     "output_type": "stream",
     "text": [
      "generate features: 100%|██████████| 277/277 [03:14<00:00,  1.43it/s]\n"
     ]
    },
    {
     "data": {
      "text/html": [
       "<div>\n",
       "<style scoped>\n",
       "    .dataframe tbody tr th:only-of-type {\n",
       "        vertical-align: middle;\n",
       "    }\n",
       "\n",
       "    .dataframe tbody tr th {\n",
       "        vertical-align: top;\n",
       "    }\n",
       "\n",
       "    .dataframe thead th {\n",
       "        text-align: right;\n",
       "    }\n",
       "</style>\n",
       "<table border=\"1\" class=\"dataframe\">\n",
       "  <thead>\n",
       "    <tr style=\"text-align: right;\">\n",
       "      <th></th>\n",
       "      <th>anglez</th>\n",
       "      <th>anglez_diff_abs</th>\n",
       "      <th>anglez_diff_abs_clip5</th>\n",
       "      <th>anglez_mean</th>\n",
       "      <th>enmo</th>\n",
       "      <th>enmo_diff_abs</th>\n",
       "      <th>enmo_mean</th>\n",
       "      <th>minutes</th>\n",
       "      <th>same_count</th>\n",
       "      <th>total_seconds</th>\n",
       "      <th>...</th>\n",
       "      <th>anglez_diff_abs_rolling_max_100_shift_1000</th>\n",
       "      <th>anglez_diff_abs_clip5_rolling_max_100_shift_1000</th>\n",
       "      <th>enmo_rolling_median_100_shift_1000</th>\n",
       "      <th>anglez_diff_abs_rolling_median_100_shift_1000</th>\n",
       "      <th>anglez_diff_abs_clip5_rolling_median_100_shift_1000</th>\n",
       "      <th>enmo_rolling_square_mean_100_shift_1000</th>\n",
       "      <th>anglez_diff_abs_rolling_square_mean_100_shift_1000</th>\n",
       "      <th>anglez_diff_abs_clip5_rolling_square_mean_100_shift_1000</th>\n",
       "      <th>reduce_step</th>\n",
       "      <th>fold</th>\n",
       "    </tr>\n",
       "  </thead>\n",
       "  <tbody>\n",
       "    <tr>\n",
       "      <th>622</th>\n",
       "      <td>-1.160092</td>\n",
       "      <td>5.391342</td>\n",
       "      <td>3.805200</td>\n",
       "      <td>-1.160092</td>\n",
       "      <td>0.049821</td>\n",
       "      <td>0.022942</td>\n",
       "      <td>0.049822</td>\n",
       "      <td>1797.5</td>\n",
       "      <td>6.5</td>\n",
       "      <td>32397.5</td>\n",
       "      <td>...</td>\n",
       "      <td>NaN</td>\n",
       "      <td>NaN</td>\n",
       "      <td>NaN</td>\n",
       "      <td>NaN</td>\n",
       "      <td>NaN</td>\n",
       "      <td>NaN</td>\n",
       "      <td>NaN</td>\n",
       "      <td>NaN</td>\n",
       "      <td>14939</td>\n",
       "      <td>3</td>\n",
       "    </tr>\n",
       "    <tr>\n",
       "      <th>623</th>\n",
       "      <td>-6.169150</td>\n",
       "      <td>4.236796</td>\n",
       "      <td>2.998800</td>\n",
       "      <td>-6.169149</td>\n",
       "      <td>0.026333</td>\n",
       "      <td>0.008512</td>\n",
       "      <td>0.026335</td>\n",
       "      <td>117.5</td>\n",
       "      <td>0.0</td>\n",
       "      <td>32517.5</td>\n",
       "      <td>...</td>\n",
       "      <td>NaN</td>\n",
       "      <td>NaN</td>\n",
       "      <td>NaN</td>\n",
       "      <td>NaN</td>\n",
       "      <td>NaN</td>\n",
       "      <td>NaN</td>\n",
       "      <td>NaN</td>\n",
       "      <td>NaN</td>\n",
       "      <td>14963</td>\n",
       "      <td>3</td>\n",
       "    </tr>\n",
       "    <tr>\n",
       "      <th>624</th>\n",
       "      <td>-14.701716</td>\n",
       "      <td>3.183992</td>\n",
       "      <td>2.853704</td>\n",
       "      <td>-14.701717</td>\n",
       "      <td>0.033279</td>\n",
       "      <td>0.007212</td>\n",
       "      <td>0.033278</td>\n",
       "      <td>237.5</td>\n",
       "      <td>0.0</td>\n",
       "      <td>32637.5</td>\n",
       "      <td>...</td>\n",
       "      <td>NaN</td>\n",
       "      <td>NaN</td>\n",
       "      <td>NaN</td>\n",
       "      <td>NaN</td>\n",
       "      <td>NaN</td>\n",
       "      <td>NaN</td>\n",
       "      <td>NaN</td>\n",
       "      <td>NaN</td>\n",
       "      <td>14987</td>\n",
       "      <td>3</td>\n",
       "    </tr>\n",
       "    <tr>\n",
       "      <th>625</th>\n",
       "      <td>-12.253108</td>\n",
       "      <td>3.600733</td>\n",
       "      <td>3.046375</td>\n",
       "      <td>-12.253112</td>\n",
       "      <td>0.057471</td>\n",
       "      <td>0.028133</td>\n",
       "      <td>0.057472</td>\n",
       "      <td>357.5</td>\n",
       "      <td>0.0</td>\n",
       "      <td>32757.5</td>\n",
       "      <td>...</td>\n",
       "      <td>NaN</td>\n",
       "      <td>NaN</td>\n",
       "      <td>NaN</td>\n",
       "      <td>NaN</td>\n",
       "      <td>NaN</td>\n",
       "      <td>NaN</td>\n",
       "      <td>NaN</td>\n",
       "      <td>NaN</td>\n",
       "      <td>15011</td>\n",
       "      <td>3</td>\n",
       "    </tr>\n",
       "    <tr>\n",
       "      <th>626</th>\n",
       "      <td>-6.187904</td>\n",
       "      <td>3.673754</td>\n",
       "      <td>2.645983</td>\n",
       "      <td>-6.187906</td>\n",
       "      <td>0.049892</td>\n",
       "      <td>0.030817</td>\n",
       "      <td>0.049891</td>\n",
       "      <td>477.5</td>\n",
       "      <td>0.0</td>\n",
       "      <td>32877.5</td>\n",
       "      <td>...</td>\n",
       "      <td>NaN</td>\n",
       "      <td>NaN</td>\n",
       "      <td>NaN</td>\n",
       "      <td>NaN</td>\n",
       "      <td>NaN</td>\n",
       "      <td>NaN</td>\n",
       "      <td>NaN</td>\n",
       "      <td>NaN</td>\n",
       "      <td>15035</td>\n",
       "      <td>3</td>\n",
       "    </tr>\n",
       "  </tbody>\n",
       "</table>\n",
       "<p>5 rows × 977 columns</p>\n",
       "</div>"
      ],
      "text/plain": [
       "        anglez  anglez_diff_abs  anglez_diff_abs_clip5  anglez_mean      enmo  \\\n",
       "622  -1.160092         5.391342               3.805200    -1.160092  0.049821   \n",
       "623  -6.169150         4.236796               2.998800    -6.169149  0.026333   \n",
       "624 -14.701716         3.183992               2.853704   -14.701717  0.033279   \n",
       "625 -12.253108         3.600733               3.046375   -12.253112  0.057471   \n",
       "626  -6.187904         3.673754               2.645983    -6.187906  0.049892   \n",
       "\n",
       "     enmo_diff_abs  enmo_mean  minutes  same_count  total_seconds  ...  \\\n",
       "622       0.022942   0.049822   1797.5         6.5        32397.5  ...   \n",
       "623       0.008512   0.026335    117.5         0.0        32517.5  ...   \n",
       "624       0.007212   0.033278    237.5         0.0        32637.5  ...   \n",
       "625       0.028133   0.057472    357.5         0.0        32757.5  ...   \n",
       "626       0.030817   0.049891    477.5         0.0        32877.5  ...   \n",
       "\n",
       "     anglez_diff_abs_rolling_max_100_shift_1000  \\\n",
       "622                                         NaN   \n",
       "623                                         NaN   \n",
       "624                                         NaN   \n",
       "625                                         NaN   \n",
       "626                                         NaN   \n",
       "\n",
       "     anglez_diff_abs_clip5_rolling_max_100_shift_1000  \\\n",
       "622                                               NaN   \n",
       "623                                               NaN   \n",
       "624                                               NaN   \n",
       "625                                               NaN   \n",
       "626                                               NaN   \n",
       "\n",
       "     enmo_rolling_median_100_shift_1000  \\\n",
       "622                                 NaN   \n",
       "623                                 NaN   \n",
       "624                                 NaN   \n",
       "625                                 NaN   \n",
       "626                                 NaN   \n",
       "\n",
       "     anglez_diff_abs_rolling_median_100_shift_1000  \\\n",
       "622                                            NaN   \n",
       "623                                            NaN   \n",
       "624                                            NaN   \n",
       "625                                            NaN   \n",
       "626                                            NaN   \n",
       "\n",
       "    anglez_diff_abs_clip5_rolling_median_100_shift_1000  \\\n",
       "622                                                NaN    \n",
       "623                                                NaN    \n",
       "624                                                NaN    \n",
       "625                                                NaN    \n",
       "626                                                NaN    \n",
       "\n",
       "     enmo_rolling_square_mean_100_shift_1000  \\\n",
       "622                                      NaN   \n",
       "623                                      NaN   \n",
       "624                                      NaN   \n",
       "625                                      NaN   \n",
       "626                                      NaN   \n",
       "\n",
       "     anglez_diff_abs_rolling_square_mean_100_shift_1000  \\\n",
       "622                                                NaN    \n",
       "623                                                NaN    \n",
       "624                                                NaN    \n",
       "625                                                NaN    \n",
       "626                                                NaN    \n",
       "\n",
       "     anglez_diff_abs_clip5_rolling_square_mean_100_shift_1000  reduce_step  \\\n",
       "622                                                NaN               14939   \n",
       "623                                                NaN               14963   \n",
       "624                                                NaN               14987   \n",
       "625                                                NaN               15011   \n",
       "626                                                NaN               15035   \n",
       "\n",
       "     fold  \n",
       "622     3  \n",
       "623     3  \n",
       "624     3  \n",
       "625     3  \n",
       "626     3  \n",
       "\n",
       "[5 rows x 977 columns]"
      ]
     },
     "metadata": {},
     "output_type": "display_data"
    },
    {
     "data": {
      "text/plain": [
       "(877617, 977)"
      ]
     },
     "execution_count": 2,
     "metadata": {},
     "output_type": "execute_result"
    }
   ],
   "source": [
    "# 特徴生成\n",
    "files = glob(f\"{CFG['dataset']['step_csv_dir']}/*.parquet\")\n",
    "train, features = generate_2nd_stage_features(files)\n",
    "\n",
    "# cv splitとマージ\n",
    "cv_split = pd.read_csv(CFG['dataset']['cv_split_path'])\n",
    "train[\"fold\"] = train[\"series_id\"].map(cv_split.set_index(\"series_id\")[\"fold\"])\n",
    "display(train.head(5))\n",
    "train.shape"
   ]
  },
  {
   "cell_type": "code",
   "execution_count": 3,
   "metadata": {},
   "outputs": [
    {
     "name": "stderr",
     "output_type": "stream",
     "text": [
      "  0%|          | 0/5 [00:00<?, ?it/s]"
     ]
    },
    {
     "name": "stdout",
     "output_type": "stream",
     "text": [
      "== fold 0 ==\n",
      "[0]\teval-rmse:1.81784\n",
      "[100]\teval-rmse:1.11649\n",
      "[200]\teval-rmse:0.95453\n",
      "[300]\teval-rmse:0.91999\n",
      "[400]\teval-rmse:0.90918\n",
      "[500]\teval-rmse:0.90546\n",
      "[600]\teval-rmse:0.90380\n",
      "[700]\teval-rmse:0.90246\n",
      "[800]\teval-rmse:0.90119\n",
      "[900]\teval-rmse:0.90041\n",
      "[1000]\teval-rmse:0.89974\n",
      "[1100]\teval-rmse:0.89936\n",
      "[1200]\teval-rmse:0.89901\n",
      "[1300]\teval-rmse:0.89864\n",
      "[1400]\teval-rmse:0.89846\n",
      "[1500]\teval-rmse:0.89835\n",
      "[1600]\teval-rmse:0.89821\n",
      "[1700]\teval-rmse:0.89814\n",
      "[1800]\teval-rmse:0.89800\n",
      "[1900]\teval-rmse:0.89778\n",
      "[2000]\teval-rmse:0.89771\n",
      "[2100]\teval-rmse:0.89771\n",
      "[2200]\teval-rmse:0.89768\n",
      "[2275]\teval-rmse:0.89766\n"
     ]
    },
    {
     "name": "stderr",
     "output_type": "stream",
     "text": [
      " 20%|██        | 1/5 [01:46<07:04, 106.15s/it]"
     ]
    },
    {
     "name": "stdout",
     "output_type": "stream",
     "text": [
      "== fold 1 ==\n",
      "[0]\teval-rmse:1.70126\n",
      "[100]\teval-rmse:1.06781\n",
      "[200]\teval-rmse:0.92147\n",
      "[300]\teval-rmse:0.88535\n",
      "[400]\teval-rmse:0.87273\n",
      "[500]\teval-rmse:0.86729\n",
      "[600]\teval-rmse:0.86418\n",
      "[700]\teval-rmse:0.86219\n",
      "[800]\teval-rmse:0.86030\n",
      "[900]\teval-rmse:0.85887\n",
      "[1000]\teval-rmse:0.85769\n",
      "[1100]\teval-rmse:0.85674\n",
      "[1200]\teval-rmse:0.85608\n",
      "[1300]\teval-rmse:0.85539\n",
      "[1400]\teval-rmse:0.85501\n",
      "[1500]\teval-rmse:0.85428\n",
      "[1600]\teval-rmse:0.85392\n",
      "[1700]\teval-rmse:0.85343\n",
      "[1800]\teval-rmse:0.85292\n",
      "[1900]\teval-rmse:0.85266\n",
      "[2000]\teval-rmse:0.85248\n",
      "[2100]\teval-rmse:0.85215\n",
      "[2200]\teval-rmse:0.85222\n",
      "[2212]\teval-rmse:0.85219\n"
     ]
    },
    {
     "name": "stderr",
     "output_type": "stream",
     "text": [
      " 40%|████      | 2/5 [03:28<05:11, 103.86s/it]"
     ]
    },
    {
     "name": "stdout",
     "output_type": "stream",
     "text": [
      "== fold 2 ==\n",
      "[0]\teval-rmse:1.73939\n",
      "[100]\teval-rmse:1.10493\n",
      "[200]\teval-rmse:0.95678\n",
      "[300]\teval-rmse:0.91964\n",
      "[400]\teval-rmse:0.90823\n",
      "[500]\teval-rmse:0.90334\n",
      "[600]\teval-rmse:0.90147\n",
      "[700]\teval-rmse:0.90013\n",
      "[800]\teval-rmse:0.89905\n",
      "[900]\teval-rmse:0.89830\n",
      "[1000]\teval-rmse:0.89729\n",
      "[1100]\teval-rmse:0.89659\n",
      "[1200]\teval-rmse:0.89615\n",
      "[1300]\teval-rmse:0.89568\n",
      "[1400]\teval-rmse:0.89539\n",
      "[1500]\teval-rmse:0.89508\n",
      "[1600]\teval-rmse:0.89499\n",
      "[1700]\teval-rmse:0.89499\n",
      "[1720]\teval-rmse:0.89498\n"
     ]
    },
    {
     "name": "stderr",
     "output_type": "stream",
     "text": [
      " 60%|██████    | 3/5 [04:50<03:07, 93.75s/it] "
     ]
    },
    {
     "name": "stdout",
     "output_type": "stream",
     "text": [
      "== fold 3 ==\n",
      "[0]\teval-rmse:1.71232\n",
      "[100]\teval-rmse:1.04971\n",
      "[200]\teval-rmse:0.88760\n",
      "[300]\teval-rmse:0.84955\n",
      "[400]\teval-rmse:0.83856\n",
      "[500]\teval-rmse:0.83497\n",
      "[600]\teval-rmse:0.83424\n",
      "[700]\teval-rmse:0.83344\n",
      "[800]\teval-rmse:0.83266\n",
      "[900]\teval-rmse:0.83239\n",
      "[1000]\teval-rmse:0.83218\n",
      "[1100]\teval-rmse:0.83201\n",
      "[1200]\teval-rmse:0.83184\n",
      "[1300]\teval-rmse:0.83172\n",
      "[1400]\teval-rmse:0.83161\n",
      "[1500]\teval-rmse:0.83139\n",
      "[1578]\teval-rmse:0.83141\n"
     ]
    },
    {
     "name": "stderr",
     "output_type": "stream",
     "text": [
      " 80%|████████  | 4/5 [06:07<01:27, 87.12s/it]"
     ]
    },
    {
     "name": "stdout",
     "output_type": "stream",
     "text": [
      "== fold 4 ==\n",
      "[0]\teval-rmse:1.78913\n",
      "[100]\teval-rmse:1.12016\n",
      "[200]\teval-rmse:0.96496\n",
      "[300]\teval-rmse:0.92887\n",
      "[400]\teval-rmse:0.91761\n",
      "[500]\teval-rmse:0.91488\n",
      "[600]\teval-rmse:0.91308\n",
      "[700]\teval-rmse:0.91173\n",
      "[800]\teval-rmse:0.91095\n",
      "[900]\teval-rmse:0.91052\n",
      "[1000]\teval-rmse:0.91003\n",
      "[1100]\teval-rmse:0.90966\n",
      "[1200]\teval-rmse:0.90946\n",
      "[1300]\teval-rmse:0.90935\n",
      "[1372]\teval-rmse:0.90934\n"
     ]
    },
    {
     "name": "stderr",
     "output_type": "stream",
     "text": [
      "100%|██████████| 5/5 [07:14<00:00, 86.87s/it]\n",
      "  0%|          | 0/5 [00:00<?, ?it/s]"
     ]
    },
    {
     "name": "stdout",
     "output_type": "stream",
     "text": [
      "== fold 0 ==\n",
      "[0]\teval-rmse:1.81450\n",
      "[100]\teval-rmse:1.12928\n",
      "[200]\teval-rmse:0.96077\n",
      "[300]\teval-rmse:0.91784\n",
      "[400]\teval-rmse:0.90402\n",
      "[500]\teval-rmse:0.89993\n",
      "[600]\teval-rmse:0.89848\n",
      "[700]\teval-rmse:0.89732\n",
      "[800]\teval-rmse:0.89678\n",
      "[900]\teval-rmse:0.89657\n",
      "[1000]\teval-rmse:0.89601\n",
      "[1100]\teval-rmse:0.89563\n",
      "[1200]\teval-rmse:0.89529\n",
      "[1300]\teval-rmse:0.89505\n",
      "[1400]\teval-rmse:0.89470\n",
      "[1500]\teval-rmse:0.89461\n",
      "[1600]\teval-rmse:0.89451\n",
      "[1700]\teval-rmse:0.89430\n",
      "[1800]\teval-rmse:0.89407\n",
      "[1900]\teval-rmse:0.89397\n",
      "[2000]\teval-rmse:0.89370\n",
      "[2100]\teval-rmse:0.89366\n",
      "[2187]\teval-rmse:0.89364\n"
     ]
    },
    {
     "name": "stderr",
     "output_type": "stream",
     "text": [
      " 20%|██        | 1/5 [01:42<06:48, 102.06s/it]"
     ]
    },
    {
     "name": "stdout",
     "output_type": "stream",
     "text": [
      "== fold 1 ==\n",
      "[0]\teval-rmse:1.69721\n",
      "[100]\teval-rmse:1.07488\n",
      "[200]\teval-rmse:0.92559\n",
      "[300]\teval-rmse:0.88312\n",
      "[400]\teval-rmse:0.86735\n",
      "[500]\teval-rmse:0.86062\n",
      "[600]\teval-rmse:0.85770\n",
      "[700]\teval-rmse:0.85595\n",
      "[800]\teval-rmse:0.85473\n",
      "[900]\teval-rmse:0.85376\n",
      "[1000]\teval-rmse:0.85297\n",
      "[1100]\teval-rmse:0.85197\n",
      "[1200]\teval-rmse:0.85124\n",
      "[1300]\teval-rmse:0.85058\n",
      "[1400]\teval-rmse:0.85035\n",
      "[1500]\teval-rmse:0.84991\n",
      "[1600]\teval-rmse:0.84972\n",
      "[1700]\teval-rmse:0.84962\n",
      "[1733]\teval-rmse:0.84958\n"
     ]
    },
    {
     "name": "stderr",
     "output_type": "stream",
     "text": [
      " 40%|████      | 2/5 [03:06<04:34, 91.42s/it] "
     ]
    },
    {
     "name": "stdout",
     "output_type": "stream",
     "text": [
      "== fold 2 ==\n",
      "[0]\teval-rmse:1.74094\n",
      "[100]\teval-rmse:1.12362\n",
      "[200]\teval-rmse:0.97585\n",
      "[300]\teval-rmse:0.93447\n",
      "[400]\teval-rmse:0.92115\n",
      "[500]\teval-rmse:0.91385\n",
      "[600]\teval-rmse:0.91062\n",
      "[700]\teval-rmse:0.90864\n",
      "[800]\teval-rmse:0.90742\n",
      "[900]\teval-rmse:0.90621\n",
      "[1000]\teval-rmse:0.90528\n",
      "[1100]\teval-rmse:0.90483\n",
      "[1200]\teval-rmse:0.90421\n",
      "[1300]\teval-rmse:0.90363\n",
      "[1400]\teval-rmse:0.90307\n",
      "[1500]\teval-rmse:0.90272\n",
      "[1600]\teval-rmse:0.90251\n",
      "[1700]\teval-rmse:0.90217\n",
      "[1800]\teval-rmse:0.90169\n",
      "[1900]\teval-rmse:0.90137\n",
      "[2000]\teval-rmse:0.90125\n",
      "[2100]\teval-rmse:0.90119\n",
      "[2200]\teval-rmse:0.90073\n",
      "[2300]\teval-rmse:0.90072\n",
      "[2400]\teval-rmse:0.90044\n",
      "[2500]\teval-rmse:0.90010\n",
      "[2600]\teval-rmse:0.89993\n",
      "[2700]\teval-rmse:0.89973\n",
      "[2800]\teval-rmse:0.89953\n",
      "[2900]\teval-rmse:0.89934\n",
      "[3000]\teval-rmse:0.89913\n",
      "[3068]\teval-rmse:0.89920\n"
     ]
    },
    {
     "name": "stderr",
     "output_type": "stream",
     "text": [
      " 60%|██████    | 3/5 [05:22<03:44, 112.09s/it]"
     ]
    },
    {
     "name": "stdout",
     "output_type": "stream",
     "text": [
      "== fold 3 ==\n",
      "[0]\teval-rmse:1.70641\n",
      "[100]\teval-rmse:1.08752\n",
      "[200]\teval-rmse:0.94450\n",
      "[300]\teval-rmse:0.91121\n",
      "[400]\teval-rmse:0.90127\n",
      "[500]\teval-rmse:0.89787\n",
      "[600]\teval-rmse:0.89721\n",
      "[700]\teval-rmse:0.89649\n",
      "[800]\teval-rmse:0.89645\n",
      "[844]\teval-rmse:0.89642\n"
     ]
    },
    {
     "name": "stderr",
     "output_type": "stream",
     "text": [
      " 80%|████████  | 4/5 [06:08<01:26, 86.05s/it] "
     ]
    },
    {
     "name": "stdout",
     "output_type": "stream",
     "text": [
      "== fold 4 ==\n",
      "[0]\teval-rmse:1.77911\n",
      "[100]\teval-rmse:1.13990\n",
      "[200]\teval-rmse:0.99239\n",
      "[300]\teval-rmse:0.95550\n",
      "[400]\teval-rmse:0.94258\n",
      "[500]\teval-rmse:0.93725\n",
      "[600]\teval-rmse:0.93506\n",
      "[700]\teval-rmse:0.93296\n",
      "[800]\teval-rmse:0.93177\n",
      "[900]\teval-rmse:0.93086\n",
      "[1000]\teval-rmse:0.93031\n",
      "[1100]\teval-rmse:0.92995\n",
      "[1200]\teval-rmse:0.92960\n",
      "[1300]\teval-rmse:0.92912\n",
      "[1400]\teval-rmse:0.92877\n",
      "[1500]\teval-rmse:0.92834\n",
      "[1600]\teval-rmse:0.92828\n",
      "[1700]\teval-rmse:0.92822\n",
      "[1800]\teval-rmse:0.92807\n",
      "[1900]\teval-rmse:0.92776\n",
      "[1974]\teval-rmse:0.92771\n"
     ]
    },
    {
     "name": "stderr",
     "output_type": "stream",
     "text": [
      "100%|██████████| 5/5 [07:41<00:00, 92.36s/it]\n"
     ]
    }
   ],
   "source": [
    "# 学習\n",
    "dfs = []\n",
    "for event in [\"wakeup\", \"onset\"]:\n",
    "    trn_oof, models = fit_xgb(\n",
    "        X=train, \n",
    "        y=train[f\"{event}_target\"], \n",
    "        folds=train[\"fold\"].astype(int), \n",
    "        features=features.all_features(),\n",
    "        params=CFG[\"2nd_stage\"][\"xgboost\"], \n",
    "        es_rounds=100,\n",
    "    )\n",
    "    train[\"score\"] = trn_oof\n",
    "    train[\"event\"] = event\n",
    "    dfs.append(train[[\"series_id\", \"step\", \"score\", \"event\"]])\n",
    "\n",
    "    # 保存\n",
    "    for i, model in enumerate(models):\n",
    "        model.save_model(os.path.join(CFG[\"output_dir\"], f'xgb_{event}_fold_{i}.model'))\n",
    "del train\n",
    "gc.collect()\n",
    "train = pd.concat(dfs, axis=0)\n",
    "train[\"step\"] = train[\"step\"].astype(int)\n",
    "train = train.sort_values([\"series_id\", \"step\"]).reset_index(drop=True)\n",
    "\n",
    "\n",
    "with open(os.path.join(CFG[\"output_dir\"], \"features.pkl\"), \"wb\") as f:\n",
    "    pickle.dump(features, f)\n",
    "train.to_csv(os.path.join(CFG[\"output_dir\"], \"oof.csv\"), index=False)"
   ]
  },
  {
   "cell_type": "markdown",
   "metadata": {},
   "source": [
    "## Dynamic-Range NMS"
   ]
  },
  {
   "cell_type": "code",
   "execution_count": 4,
   "metadata": {},
   "outputs": [
    {
     "data": {
      "text/plain": [
       "<AxesSubplot: >"
      ]
     },
     "execution_count": 4,
     "metadata": {},
     "output_type": "execute_result"
    },
    {
     "data": {
      "image/png": "[encoded data removed]",
      "text/plain": [
       "<Figure size 640x480 with 1 Axes>"
      ]
     },
     "metadata": {},
     "output_type": "display_data"
    }
   ],
   "source": [
    "train = train[train[\"score\"] > 0.1]\n",
    "train[\"score\"].hist()"
   ]
  },
  {
   "cell_type": "code",
   "execution_count": 5,
   "metadata": {},
   "outputs": [
    {
     "name": "stderr",
     "output_type": "stream",
     "text": [
      "100%|██████████| 277/277 [00:06<00:00, 44.19it/s]\n"
     ]
    }
   ],
   "source": [
    "from utils.postprocess import dynamic_range_nms\n",
    "from multiprocessing import Pool\n",
    "from tqdm import tqdm\n",
    "\n",
    "train[\"step\"] = train[\"step\"].astype(int)\n",
    "\n",
    "groups = [group for _, group in train.groupby(\"series_id\")]\n",
    "with Pool(30) as p:  \n",
    "    results = list(tqdm(p.imap(dynamic_range_nms, groups), total=len(groups)))\n",
    "sub = pd.concat(results)\n",
    "sub[\"score\"] = sub[\"reduced_score\"]"
   ]
  },
  {
   "cell_type": "code",
   "execution_count": 6,
   "metadata": {},
   "outputs": [
    {
     "name": "stdout",
     "output_type": "stream",
     "text": [
      "score: 0.7449\n"
     ]
    },
    {
     "data": {
      "text/plain": [
       "event   tolerance\n",
       "onset   12           0.149125\n",
       "        36           0.547793\n",
       "        60           0.703088\n",
       "        90           0.787806\n",
       "        120          0.827223\n",
       "        150          0.849892\n",
       "        180          0.864039\n",
       "        240          0.879307\n",
       "        300          0.886963\n",
       "        360          0.892803\n",
       "wakeup  12           0.146292\n",
       "        36           0.552066\n",
       "        60           0.720219\n",
       "        90           0.795903\n",
       "        120          0.833481\n",
       "        150          0.865255\n",
       "        180          0.878150\n",
       "        240          0.896186\n",
       "        300          0.906425\n",
       "        360          0.915757\n",
       "dtype: float64"
      ]
     },
     "metadata": {},
     "output_type": "display_data"
    }
   ],
   "source": [
    "# スコア計算\n",
    "labels = pd.read_csv(f\"{CFG['dataset']['competition_dir']}/train_events.csv\").dropna()\n",
    "score, ap_table = compute_comptetition_metric(labels, sub)\n",
    "\n",
    "print(f\"score: {score:.4f}\")\n",
    "display(ap_table)\n",
    "sub.to_csv(os.path.join(CFG[\"output_dir\"], \"submission_after_nms.csv\"), index=False)"
   ]
  },
  {
   "cell_type": "code",
   "execution_count": null,
   "metadata": {},
   "outputs": [],
   "source": []
  },
  {
   "cell_type": "code",
   "execution_count": null,
   "metadata": {},
   "outputs": [],
   "source": []
  }
 ],
 "metadata": {
  "kernelspec": {
   "display_name": "base",
   "language": "python",
   "name": "python3"
  },
  "language_info": {
   "codemirror_mode": {
    "name": "ipython",
    "version": 3
   },
   "file_extension": ".py",
   "mimetype": "text/x-python",
   "name": "python",
   "nbconvert_exporter": "python",
   "pygments_lexer": "ipython3",
   "version": "3.10.10"
  },
  "orig_nbformat": 4
 },
 "nbformat": 4,
 "nbformat_minor": 2
}
