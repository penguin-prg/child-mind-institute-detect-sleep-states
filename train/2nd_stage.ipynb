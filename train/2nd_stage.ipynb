{
 "cells": [
  {
   "cell_type": "code",
   "execution_count": 1,
   "metadata": {},
   "outputs": [
    {
     "name": "stderr",
     "output_type": "stream",
     "text": [
      "2023-10-22 06:48:01.543906: I tensorflow/core/platform/cpu_feature_guard.cc:193] This TensorFlow binary is optimized with oneAPI Deep Neural Network Library (oneDNN) to use the following CPU instructions in performance-critical operations:  AVX2 AVX_VNNI FMA\n",
      "To enable them in other operations, rebuild TensorFlow with the appropriate compiler flags.\n",
      "2023-10-22 06:48:01.618734: I tensorflow/core/util/port.cc:104] oneDNN custom operations are on. You may see slightly different numerical results due to floating-point round-off errors from different computation orders. To turn them off, set the environment variable `TF_ENABLE_ONEDNN_OPTS=0`.\n",
      "2023-10-22 06:48:02.124081: W tensorflow/compiler/xla/stream_executor/platform/default/dso_loader.cc:64] Could not load dynamic library 'libnvinfer.so.7'; dlerror: libnvinfer.so.7: cannot open shared object file: No such file or directory; LD_LIBRARY_PATH: /usr/local/cuda/lib64:/usr/local/cuda/lib:/usr/local/lib/x86_64-linux-gnu:/usr/local/nvidia/lib:/usr/local/nvidia/lib64:/usr/local/nvidia/lib:/usr/local/nvidia/lib64:/opt/conda/lib\n",
      "2023-10-22 06:48:02.124170: W tensorflow/compiler/xla/stream_executor/platform/default/dso_loader.cc:64] Could not load dynamic library 'libnvinfer_plugin.so.7'; dlerror: libnvinfer_plugin.so.7: cannot open shared object file: No such file or directory; LD_LIBRARY_PATH: /usr/local/cuda/lib64:/usr/local/cuda/lib:/usr/local/lib/x86_64-linux-gnu:/usr/local/nvidia/lib:/usr/local/nvidia/lib64:/usr/local/nvidia/lib:/usr/local/nvidia/lib64:/opt/conda/lib\n",
      "2023-10-22 06:48:02.124175: W tensorflow/compiler/tf2tensorrt/utils/py_utils.cc:38] TF-TRT Warning: Cannot dlopen some TensorRT libraries. If you would like to use Nvidia GPU with TensorRT, please make sure the missing libraries mentioned above are installed properly.\n"
     ]
    },
    {
     "name": "stdout",
     "output_type": "stream",
     "text": [
      "exp_095\n"
     ]
    }
   ],
   "source": [
    "import pandas as pd\n",
    "import yaml\n",
    "import sys\n",
    "import os\n",
    "from glob import glob\n",
    "from pathlib import Path\n",
    "import gc\n",
    "import pickle\n",
    "\n",
    "import warnings\n",
    "warnings.filterwarnings('ignore')\n",
    "\n",
    "sys.path.append('/kaggle/src')\n",
    "from utils.xgb import fit_xgb\n",
    "from utils.metric import compute_comptetition_metric\n",
    "from utils.postprocess import post_process\n",
    "from utils.set_seed import seed_base\n",
    "from feature_engineering.stage2 import generate_2nd_stage_features\n",
    "\n",
    "PACKAGE_DIR = Path(\"/kaggle/src\")\n",
    "CFG = yaml.safe_load(open(PACKAGE_DIR / \"config.yaml\", \"r\"))\n",
    "print(CFG[\"2nd_stage\"][\"execution\"][\"exp_id\"])\n",
    "\n",
    "CFG[\"output_dir\"] = f\"/kaggle/output/{CFG['2nd_stage']['execution']['exp_id']}\"\n",
    "!rm -r {CFG[\"output_dir\"]}\n",
    "os.makedirs(CFG[\"output_dir\"], exist_ok=True)\n",
    "\n",
    "seed_base(CFG[\"env\"][\"seed\"])"
   ]
  },
  {
   "cell_type": "code",
   "execution_count": 2,
   "metadata": {},
   "outputs": [
    {
     "name": "stderr",
     "output_type": "stream",
     "text": [
      "generate features: 100%|██████████| 277/277 [02:25<00:00,  1.90it/s]\n"
     ]
    },
    {
     "data": {
      "text/html": [
       "<div>\n",
       "<style scoped>\n",
       "    .dataframe tbody tr th:only-of-type {\n",
       "        vertical-align: middle;\n",
       "    }\n",
       "\n",
       "    .dataframe tbody tr th {\n",
       "        vertical-align: top;\n",
       "    }\n",
       "\n",
       "    .dataframe thead th {\n",
       "        text-align: right;\n",
       "    }\n",
       "</style>\n",
       "<table border=\"1\" class=\"dataframe\">\n",
       "  <thead>\n",
       "    <tr style=\"text-align: right;\">\n",
       "      <th></th>\n",
       "      <th>anglez</th>\n",
       "      <th>anglez_diff_abs</th>\n",
       "      <th>anglez_mean</th>\n",
       "      <th>enmo</th>\n",
       "      <th>enmo_diff_abs</th>\n",
       "      <th>enmo_mean</th>\n",
       "      <th>minutes</th>\n",
       "      <th>same_count</th>\n",
       "      <th>total_seconds</th>\n",
       "      <th>target</th>\n",
       "      <th>...</th>\n",
       "      <th>enmo_rolling_std_100_shift_1000</th>\n",
       "      <th>anglez_diff_abs_rolling_std_100_shift_1000</th>\n",
       "      <th>enmo_rolling_max_100_shift_1000</th>\n",
       "      <th>anglez_diff_abs_rolling_max_100_shift_1000</th>\n",
       "      <th>enmo_rolling_median_100_shift_1000</th>\n",
       "      <th>anglez_diff_abs_rolling_median_100_shift_1000</th>\n",
       "      <th>enmo_rolling_square_mean_100_shift_1000</th>\n",
       "      <th>anglez_diff_abs_rolling_square_mean_100_shift_1000</th>\n",
       "      <th>reduce_step</th>\n",
       "      <th>fold</th>\n",
       "    </tr>\n",
       "  </thead>\n",
       "  <tbody>\n",
       "    <tr>\n",
       "      <th>622</th>\n",
       "      <td>-1.160092</td>\n",
       "      <td>5.391342</td>\n",
       "      <td>-1.160092</td>\n",
       "      <td>0.049821</td>\n",
       "      <td>0.022942</td>\n",
       "      <td>0.049822</td>\n",
       "      <td>1797.5</td>\n",
       "      <td>6.5</td>\n",
       "      <td>32397.5</td>\n",
       "      <td>1</td>\n",
       "      <td>...</td>\n",
       "      <td>NaN</td>\n",
       "      <td>NaN</td>\n",
       "      <td>NaN</td>\n",
       "      <td>NaN</td>\n",
       "      <td>NaN</td>\n",
       "      <td>NaN</td>\n",
       "      <td>NaN</td>\n",
       "      <td>NaN</td>\n",
       "      <td>14939</td>\n",
       "      <td>3</td>\n",
       "    </tr>\n",
       "    <tr>\n",
       "      <th>623</th>\n",
       "      <td>-6.169150</td>\n",
       "      <td>4.236796</td>\n",
       "      <td>-6.169149</td>\n",
       "      <td>0.026333</td>\n",
       "      <td>0.008512</td>\n",
       "      <td>0.026335</td>\n",
       "      <td>117.5</td>\n",
       "      <td>0.0</td>\n",
       "      <td>32517.5</td>\n",
       "      <td>1</td>\n",
       "      <td>...</td>\n",
       "      <td>NaN</td>\n",
       "      <td>NaN</td>\n",
       "      <td>NaN</td>\n",
       "      <td>NaN</td>\n",
       "      <td>NaN</td>\n",
       "      <td>NaN</td>\n",
       "      <td>NaN</td>\n",
       "      <td>NaN</td>\n",
       "      <td>14963</td>\n",
       "      <td>3</td>\n",
       "    </tr>\n",
       "    <tr>\n",
       "      <th>624</th>\n",
       "      <td>-14.701716</td>\n",
       "      <td>3.183992</td>\n",
       "      <td>-14.701717</td>\n",
       "      <td>0.033279</td>\n",
       "      <td>0.007212</td>\n",
       "      <td>0.033278</td>\n",
       "      <td>237.5</td>\n",
       "      <td>0.0</td>\n",
       "      <td>32637.5</td>\n",
       "      <td>1</td>\n",
       "      <td>...</td>\n",
       "      <td>NaN</td>\n",
       "      <td>NaN</td>\n",
       "      <td>NaN</td>\n",
       "      <td>NaN</td>\n",
       "      <td>NaN</td>\n",
       "      <td>NaN</td>\n",
       "      <td>NaN</td>\n",
       "      <td>NaN</td>\n",
       "      <td>14987</td>\n",
       "      <td>3</td>\n",
       "    </tr>\n",
       "    <tr>\n",
       "      <th>625</th>\n",
       "      <td>-12.253108</td>\n",
       "      <td>3.600733</td>\n",
       "      <td>-12.253112</td>\n",
       "      <td>0.057471</td>\n",
       "      <td>0.028133</td>\n",
       "      <td>0.057472</td>\n",
       "      <td>357.5</td>\n",
       "      <td>0.0</td>\n",
       "      <td>32757.5</td>\n",
       "      <td>1</td>\n",
       "      <td>...</td>\n",
       "      <td>NaN</td>\n",
       "      <td>NaN</td>\n",
       "      <td>NaN</td>\n",
       "      <td>NaN</td>\n",
       "      <td>NaN</td>\n",
       "      <td>NaN</td>\n",
       "      <td>NaN</td>\n",
       "      <td>NaN</td>\n",
       "      <td>15011</td>\n",
       "      <td>3</td>\n",
       "    </tr>\n",
       "    <tr>\n",
       "      <th>626</th>\n",
       "      <td>-6.187904</td>\n",
       "      <td>3.673754</td>\n",
       "      <td>-6.187906</td>\n",
       "      <td>0.049892</td>\n",
       "      <td>0.030817</td>\n",
       "      <td>0.049891</td>\n",
       "      <td>477.5</td>\n",
       "      <td>0.0</td>\n",
       "      <td>32877.5</td>\n",
       "      <td>1</td>\n",
       "      <td>...</td>\n",
       "      <td>NaN</td>\n",
       "      <td>NaN</td>\n",
       "      <td>NaN</td>\n",
       "      <td>NaN</td>\n",
       "      <td>NaN</td>\n",
       "      <td>NaN</td>\n",
       "      <td>NaN</td>\n",
       "      <td>NaN</td>\n",
       "      <td>15035</td>\n",
       "      <td>3</td>\n",
       "    </tr>\n",
       "  </tbody>\n",
       "</table>\n",
       "<p>5 rows × 656 columns</p>\n",
       "</div>"
      ],
      "text/plain": [
       "        anglez  anglez_diff_abs  anglez_mean      enmo  enmo_diff_abs  \\\n",
       "622  -1.160092         5.391342    -1.160092  0.049821       0.022942   \n",
       "623  -6.169150         4.236796    -6.169149  0.026333       0.008512   \n",
       "624 -14.701716         3.183992   -14.701717  0.033279       0.007212   \n",
       "625 -12.253108         3.600733   -12.253112  0.057471       0.028133   \n",
       "626  -6.187904         3.673754    -6.187906  0.049892       0.030817   \n",
       "\n",
       "     enmo_mean  minutes  same_count  total_seconds  target  ...  \\\n",
       "622   0.049822   1797.5         6.5        32397.5       1  ...   \n",
       "623   0.026335    117.5         0.0        32517.5       1  ...   \n",
       "624   0.033278    237.5         0.0        32637.5       1  ...   \n",
       "625   0.057472    357.5         0.0        32757.5       1  ...   \n",
       "626   0.049891    477.5         0.0        32877.5       1  ...   \n",
       "\n",
       "     enmo_rolling_std_100_shift_1000  \\\n",
       "622                              NaN   \n",
       "623                              NaN   \n",
       "624                              NaN   \n",
       "625                              NaN   \n",
       "626                              NaN   \n",
       "\n",
       "     anglez_diff_abs_rolling_std_100_shift_1000  \\\n",
       "622                                         NaN   \n",
       "623                                         NaN   \n",
       "624                                         NaN   \n",
       "625                                         NaN   \n",
       "626                                         NaN   \n",
       "\n",
       "     enmo_rolling_max_100_shift_1000  \\\n",
       "622                              NaN   \n",
       "623                              NaN   \n",
       "624                              NaN   \n",
       "625                              NaN   \n",
       "626                              NaN   \n",
       "\n",
       "    anglez_diff_abs_rolling_max_100_shift_1000  \\\n",
       "622                                        NaN   \n",
       "623                                        NaN   \n",
       "624                                        NaN   \n",
       "625                                        NaN   \n",
       "626                                        NaN   \n",
       "\n",
       "     enmo_rolling_median_100_shift_1000  \\\n",
       "622                                 NaN   \n",
       "623                                 NaN   \n",
       "624                                 NaN   \n",
       "625                                 NaN   \n",
       "626                                 NaN   \n",
       "\n",
       "     anglez_diff_abs_rolling_median_100_shift_1000  \\\n",
       "622                                            NaN   \n",
       "623                                            NaN   \n",
       "624                                            NaN   \n",
       "625                                            NaN   \n",
       "626                                            NaN   \n",
       "\n",
       "     enmo_rolling_square_mean_100_shift_1000  \\\n",
       "622                                      NaN   \n",
       "623                                      NaN   \n",
       "624                                      NaN   \n",
       "625                                      NaN   \n",
       "626                                      NaN   \n",
       "\n",
       "     anglez_diff_abs_rolling_square_mean_100_shift_1000  reduce_step  fold  \n",
       "622                                                NaN         14939     3  \n",
       "623                                                NaN         14963     3  \n",
       "624                                                NaN         14987     3  \n",
       "625                                                NaN         15011     3  \n",
       "626                                                NaN         15035     3  \n",
       "\n",
       "[5 rows x 656 columns]"
      ]
     },
     "metadata": {},
     "output_type": "display_data"
    },
    {
     "data": {
      "text/plain": [
       "(877617, 656)"
      ]
     },
     "execution_count": 2,
     "metadata": {},
     "output_type": "execute_result"
    }
   ],
   "source": [
    "# 特徴生成\n",
    "files = glob(f\"{CFG['dataset']['step_csv_dir']}/*.parquet\")\n",
    "train, features = generate_2nd_stage_features(files)\n",
    "\n",
    "# cv splitとマージ\n",
    "cv_split = pd.read_csv(CFG['dataset']['cv_split_path'])\n",
    "train[\"fold\"] = train[\"series_id\"].map(cv_split.set_index(\"series_id\")[\"fold\"])\n",
    "display(train.head(5))\n",
    "train.shape"
   ]
  },
  {
   "cell_type": "code",
   "execution_count": 3,
   "metadata": {},
   "outputs": [
    {
     "name": "stderr",
     "output_type": "stream",
     "text": [
      "  0%|          | 0/5 [00:00<?, ?it/s]"
     ]
    },
    {
     "name": "stdout",
     "output_type": "stream",
     "text": [
      "== fold 0 ==\n",
      "[0]\teval-rmse:1.81851\n",
      "[100]\teval-rmse:1.14279\n",
      "[200]\teval-rmse:0.97987\n",
      "[300]\teval-rmse:0.94004\n",
      "[400]\teval-rmse:0.92467\n",
      "[500]\teval-rmse:0.91909\n",
      "[600]\teval-rmse:0.91637\n",
      "[700]\teval-rmse:0.91429\n",
      "[800]\teval-rmse:0.91275\n",
      "[900]\teval-rmse:0.91142\n",
      "[1000]\teval-rmse:0.91047\n",
      "[1100]\teval-rmse:0.90999\n",
      "[1200]\teval-rmse:0.90934\n",
      "[1300]\teval-rmse:0.90902\n",
      "[1400]\teval-rmse:0.90861\n",
      "[1500]\teval-rmse:0.90829\n",
      "[1600]\teval-rmse:0.90779\n",
      "[1700]\teval-rmse:0.90742\n",
      "[1800]\teval-rmse:0.90714\n",
      "[1900]\teval-rmse:0.90697\n",
      "[2000]\teval-rmse:0.90661\n",
      "[2100]\teval-rmse:0.90633\n",
      "[2200]\teval-rmse:0.90600\n",
      "[2300]\teval-rmse:0.90583\n",
      "[2400]\teval-rmse:0.90562\n",
      "[2500]\teval-rmse:0.90545\n",
      "[2600]\teval-rmse:0.90544\n",
      "[2697]\teval-rmse:0.90543\n"
     ]
    },
    {
     "name": "stderr",
     "output_type": "stream",
     "text": [
      " 20%|██        | 1/5 [01:30<06:01, 90.35s/it]"
     ]
    },
    {
     "name": "stdout",
     "output_type": "stream",
     "text": [
      "== fold 1 ==\n",
      "[0]\teval-rmse:1.70178\n",
      "[100]\teval-rmse:1.08857\n",
      "[200]\teval-rmse:0.94322\n",
      "[300]\teval-rmse:0.90694\n",
      "[400]\teval-rmse:0.89285\n",
      "[500]\teval-rmse:0.88584\n",
      "[600]\teval-rmse:0.88212\n",
      "[700]\teval-rmse:0.87981\n",
      "[800]\teval-rmse:0.87787\n",
      "[900]\teval-rmse:0.87623\n",
      "[1000]\teval-rmse:0.87482\n",
      "[1100]\teval-rmse:0.87373\n",
      "[1200]\teval-rmse:0.87292\n",
      "[1300]\teval-rmse:0.87204\n",
      "[1400]\teval-rmse:0.87117\n",
      "[1500]\teval-rmse:0.87047\n",
      "[1600]\teval-rmse:0.86995\n",
      "[1700]\teval-rmse:0.86971\n",
      "[1800]\teval-rmse:0.86931\n",
      "[1900]\teval-rmse:0.86913\n",
      "[2000]\teval-rmse:0.86888\n",
      "[2100]\teval-rmse:0.86862\n",
      "[2200]\teval-rmse:0.86826\n",
      "[2300]\teval-rmse:0.86806\n",
      "[2400]\teval-rmse:0.86820\n",
      "[2411]\teval-rmse:0.86812\n"
     ]
    },
    {
     "name": "stderr",
     "output_type": "stream",
     "text": [
      " 40%|████      | 2/5 [02:51<04:14, 84.72s/it]"
     ]
    },
    {
     "name": "stdout",
     "output_type": "stream",
     "text": [
      "== fold 2 ==\n",
      "[0]\teval-rmse:1.73979\n",
      "[100]\teval-rmse:1.12019\n",
      "[200]\teval-rmse:0.97315\n",
      "[300]\teval-rmse:0.93537\n",
      "[400]\teval-rmse:0.92173\n",
      "[500]\teval-rmse:0.91586\n",
      "[600]\teval-rmse:0.91260\n",
      "[700]\teval-rmse:0.91029\n",
      "[800]\teval-rmse:0.90864\n",
      "[900]\teval-rmse:0.90712\n",
      "[1000]\teval-rmse:0.90596\n",
      "[1100]\teval-rmse:0.90538\n",
      "[1200]\teval-rmse:0.90480\n",
      "[1300]\teval-rmse:0.90457\n",
      "[1400]\teval-rmse:0.90424\n",
      "[1500]\teval-rmse:0.90412\n",
      "[1565]\teval-rmse:0.90413\n"
     ]
    },
    {
     "name": "stderr",
     "output_type": "stream",
     "text": [
      " 60%|██████    | 3/5 [03:44<02:20, 70.45s/it]"
     ]
    },
    {
     "name": "stdout",
     "output_type": "stream",
     "text": [
      "== fold 3 ==\n",
      "[0]\teval-rmse:1.71261\n",
      "[100]\teval-rmse:1.07180\n",
      "[200]\teval-rmse:0.91558\n",
      "[300]\teval-rmse:0.87581\n",
      "[400]\teval-rmse:0.86405\n",
      "[500]\teval-rmse:0.85910\n",
      "[600]\teval-rmse:0.85754\n",
      "[700]\teval-rmse:0.85681\n",
      "[800]\teval-rmse:0.85555\n",
      "[900]\teval-rmse:0.85514\n",
      "[1000]\teval-rmse:0.85482\n",
      "[1100]\teval-rmse:0.85481\n",
      "[1176]\teval-rmse:0.85476\n"
     ]
    },
    {
     "name": "stderr",
     "output_type": "stream",
     "text": [
      " 80%|████████  | 4/5 [04:27<00:59, 59.44s/it]"
     ]
    },
    {
     "name": "stdout",
     "output_type": "stream",
     "text": [
      "== fold 4 ==\n",
      "[0]\teval-rmse:1.78939\n",
      "[100]\teval-rmse:1.13296\n",
      "[200]\teval-rmse:0.97573\n",
      "[300]\teval-rmse:0.93634\n",
      "[400]\teval-rmse:0.92398\n",
      "[500]\teval-rmse:0.92001\n",
      "[600]\teval-rmse:0.91776\n",
      "[700]\teval-rmse:0.91605\n",
      "[800]\teval-rmse:0.91505\n",
      "[900]\teval-rmse:0.91428\n",
      "[1000]\teval-rmse:0.91331\n",
      "[1100]\teval-rmse:0.91305\n",
      "[1200]\teval-rmse:0.91289\n",
      "[1300]\teval-rmse:0.91286\n",
      "[1367]\teval-rmse:0.91288\n"
     ]
    },
    {
     "name": "stderr",
     "output_type": "stream",
     "text": [
      "100%|██████████| 5/5 [05:14<00:00, 62.88s/it]\n",
      "  0%|          | 0/5 [00:00<?, ?it/s]"
     ]
    },
    {
     "name": "stdout",
     "output_type": "stream",
     "text": [
      "== fold 0 ==\n",
      "[0]\teval-rmse:1.81522\n",
      "[100]\teval-rmse:1.15368\n",
      "[200]\teval-rmse:0.98074\n",
      "[300]\teval-rmse:0.93132\n",
      "[400]\teval-rmse:0.91405\n",
      "[500]\teval-rmse:0.90871\n",
      "[600]\teval-rmse:0.90614\n",
      "[700]\teval-rmse:0.90481\n",
      "[800]\teval-rmse:0.90420\n",
      "[900]\teval-rmse:0.90359\n",
      "[1000]\teval-rmse:0.90304\n",
      "[1100]\teval-rmse:0.90271\n",
      "[1200]\teval-rmse:0.90232\n",
      "[1300]\teval-rmse:0.90215\n",
      "[1400]\teval-rmse:0.90205\n",
      "[1500]\teval-rmse:0.90189\n",
      "[1600]\teval-rmse:0.90173\n",
      "[1700]\teval-rmse:0.90140\n",
      "[1800]\teval-rmse:0.90134\n",
      "[1900]\teval-rmse:0.90123\n",
      "[2000]\teval-rmse:0.90107\n",
      "[2100]\teval-rmse:0.90093\n",
      "[2200]\teval-rmse:0.90093\n",
      "[2240]\teval-rmse:0.90093\n"
     ]
    },
    {
     "name": "stderr",
     "output_type": "stream",
     "text": [
      " 20%|██        | 1/5 [01:13<04:54, 73.70s/it]"
     ]
    },
    {
     "name": "stdout",
     "output_type": "stream",
     "text": [
      "== fold 1 ==\n",
      "[0]\teval-rmse:1.69779\n",
      "[100]\teval-rmse:1.09549\n",
      "[200]\teval-rmse:0.94382\n",
      "[300]\teval-rmse:0.90066\n",
      "[400]\teval-rmse:0.88314\n",
      "[500]\teval-rmse:0.87643\n",
      "[600]\teval-rmse:0.87230\n",
      "[700]\teval-rmse:0.87028\n",
      "[800]\teval-rmse:0.86875\n",
      "[900]\teval-rmse:0.86783\n",
      "[1000]\teval-rmse:0.86687\n",
      "[1100]\teval-rmse:0.86633\n",
      "[1200]\teval-rmse:0.86575\n",
      "[1300]\teval-rmse:0.86555\n",
      "[1400]\teval-rmse:0.86518\n",
      "[1500]\teval-rmse:0.86496\n",
      "[1600]\teval-rmse:0.86467\n",
      "[1700]\teval-rmse:0.86457\n",
      "[1800]\teval-rmse:0.86421\n",
      "[1900]\teval-rmse:0.86389\n",
      "[2000]\teval-rmse:0.86365\n",
      "[2100]\teval-rmse:0.86341\n",
      "[2191]\teval-rmse:0.86356\n"
     ]
    },
    {
     "name": "stderr",
     "output_type": "stream",
     "text": [
      " 40%|████      | 2/5 [02:29<03:44, 74.67s/it]"
     ]
    },
    {
     "name": "stdout",
     "output_type": "stream",
     "text": [
      "== fold 2 ==\n",
      "[0]\teval-rmse:1.74183\n",
      "[100]\teval-rmse:1.14957\n",
      "[200]\teval-rmse:0.99511\n",
      "[300]\teval-rmse:0.94984\n",
      "[400]\teval-rmse:0.93346\n",
      "[500]\teval-rmse:0.92409\n",
      "[600]\teval-rmse:0.91942\n",
      "[700]\teval-rmse:0.91652\n",
      "[800]\teval-rmse:0.91491\n",
      "[900]\teval-rmse:0.91331\n",
      "[1000]\teval-rmse:0.91226\n",
      "[1100]\teval-rmse:0.91137\n",
      "[1200]\teval-rmse:0.91066\n",
      "[1300]\teval-rmse:0.90984\n",
      "[1400]\teval-rmse:0.90913\n",
      "[1500]\teval-rmse:0.90828\n",
      "[1600]\teval-rmse:0.90762\n",
      "[1700]\teval-rmse:0.90711\n",
      "[1800]\teval-rmse:0.90676\n",
      "[1900]\teval-rmse:0.90639\n",
      "[2000]\teval-rmse:0.90608\n",
      "[2100]\teval-rmse:0.90573\n",
      "[2200]\teval-rmse:0.90569\n",
      "[2232]\teval-rmse:0.90584\n"
     ]
    },
    {
     "name": "stderr",
     "output_type": "stream",
     "text": [
      " 60%|██████    | 3/5 [03:44<02:29, 74.91s/it]"
     ]
    },
    {
     "name": "stdout",
     "output_type": "stream",
     "text": [
      "== fold 3 ==\n",
      "[0]\teval-rmse:1.70716\n",
      "[100]\teval-rmse:1.11064\n",
      "[200]\teval-rmse:0.96561\n",
      "[300]\teval-rmse:0.92883\n",
      "[400]\teval-rmse:0.91671\n",
      "[500]\teval-rmse:0.91302\n",
      "[600]\teval-rmse:0.91193\n",
      "[700]\teval-rmse:0.91126\n",
      "[800]\teval-rmse:0.91060\n",
      "[900]\teval-rmse:0.91020\n",
      "[1000]\teval-rmse:0.90993\n",
      "[1100]\teval-rmse:0.90986\n",
      "[1200]\teval-rmse:0.90959\n",
      "[1300]\teval-rmse:0.90951\n",
      "[1400]\teval-rmse:0.90948\n",
      "[1411]\teval-rmse:0.90946\n"
     ]
    },
    {
     "name": "stderr",
     "output_type": "stream",
     "text": [
      " 80%|████████  | 4/5 [04:34<01:05, 65.16s/it]"
     ]
    },
    {
     "name": "stdout",
     "output_type": "stream",
     "text": [
      "== fold 4 ==\n",
      "[0]\teval-rmse:1.77980\n",
      "[100]\teval-rmse:1.16273\n",
      "[200]\teval-rmse:1.00933\n",
      "[300]\teval-rmse:0.96817\n",
      "[400]\teval-rmse:0.95312\n",
      "[500]\teval-rmse:0.94709\n",
      "[600]\teval-rmse:0.94375\n",
      "[700]\teval-rmse:0.94163\n",
      "[800]\teval-rmse:0.94027\n",
      "[900]\teval-rmse:0.93905\n",
      "[1000]\teval-rmse:0.93802\n",
      "[1100]\teval-rmse:0.93764\n",
      "[1200]\teval-rmse:0.93747\n",
      "[1300]\teval-rmse:0.93709\n",
      "[1400]\teval-rmse:0.93675\n",
      "[1500]\teval-rmse:0.93663\n",
      "[1600]\teval-rmse:0.93654\n",
      "[1656]\teval-rmse:0.93661\n"
     ]
    },
    {
     "name": "stderr",
     "output_type": "stream",
     "text": [
      "100%|██████████| 5/5 [05:31<00:00, 66.28s/it]\n"
     ]
    }
   ],
   "source": [
    "# 学習\n",
    "dfs = []\n",
    "for event in [\"wakeup\", \"onset\"]:\n",
    "    trn_oof, models = fit_xgb(\n",
    "        X=train, \n",
    "        y=train[f\"{event}_target\"], \n",
    "        folds=train[\"fold\"].astype(int), \n",
    "        features=features.all_features(),\n",
    "        params=CFG[\"2nd_stage\"][\"xgboost\"], \n",
    "        es_rounds=100,\n",
    "    )\n",
    "    train[\"score\"] = trn_oof\n",
    "    train[\"event\"] = event\n",
    "    dfs.append(train[[\"series_id\", \"step\", \"score\", \"event\"]])\n",
    "\n",
    "    # 保存\n",
    "    for i, model in enumerate(models):\n",
    "        model.save_model(os.path.join(CFG[\"output_dir\"], f'xgb_{event}_fold_{i}.model'))\n",
    "del train\n",
    "gc.collect()\n",
    "train = pd.concat(dfs, axis=0)\n",
    "train[\"step\"] = train[\"step\"].astype(int)\n",
    "train = train.sort_values([\"series_id\", \"step\"]).reset_index(drop=True)\n",
    "\n",
    "\n",
    "with open(os.path.join(CFG[\"output_dir\"], \"features.pkl\"), \"wb\") as f:\n",
    "    pickle.dump(features, f)\n",
    "train.to_csv(os.path.join(CFG[\"output_dir\"], \"oof.csv\"), index=False)"
   ]
  },
  {
   "cell_type": "markdown",
   "metadata": {},
   "source": [
    "## Dynamic-Range NMS"
   ]
  },
  {
   "cell_type": "code",
   "execution_count": 4,
   "metadata": {},
   "outputs": [
    {
     "data": {
      "text/plain": [
       "<AxesSubplot: >"
      ]
     },
     "execution_count": 4,
     "metadata": {},
     "output_type": "execute_result"
    },
    {
     "data": {
      "image/png": "[encoded data removed]",
      "text/plain": [
       "<Figure size 640x480 with 1 Axes>"
      ]
     },
     "metadata": {},
     "output_type": "display_data"
    }
   ],
   "source": [
    "train = train[train[\"score\"] > 0.1]\n",
    "train[\"score\"].hist()"
   ]
  },
  {
   "cell_type": "code",
   "execution_count": 5,
   "metadata": {},
   "outputs": [
    {
     "name": "stderr",
     "output_type": "stream",
     "text": [
      "100%|██████████| 277/277 [00:06<00:00, 45.93it/s]\n"
     ]
    }
   ],
   "source": [
    "from utils.postprocess import dynamic_range_nms\n",
    "from multiprocessing import Pool\n",
    "from tqdm import tqdm\n",
    "\n",
    "train[\"step\"] = train[\"step\"].astype(int)\n",
    "\n",
    "groups = [group for _, group in train.groupby(\"series_id\")]\n",
    "with Pool(30) as p:  \n",
    "    results = list(tqdm(p.imap(dynamic_range_nms, groups), total=len(groups)))\n",
    "sub = pd.concat(results)\n",
    "sub[\"score\"] = sub[\"reduced_score\"]"
   ]
  },
  {
   "cell_type": "code",
   "execution_count": 6,
   "metadata": {},
   "outputs": [
    {
     "name": "stdout",
     "output_type": "stream",
     "text": [
      "score: 0.7401\n"
     ]
    },
    {
     "data": {
      "text/plain": [
       "event   tolerance\n",
       "onset   12           0.148754\n",
       "        36           0.538287\n",
       "        60           0.700465\n",
       "        90           0.782339\n",
       "        120          0.821340\n",
       "        150          0.846527\n",
       "        180          0.860743\n",
       "        240          0.876657\n",
       "        300          0.883388\n",
       "        360          0.888009\n",
       "wakeup  12           0.139680\n",
       "        36           0.533994\n",
       "        60           0.716806\n",
       "        90           0.792223\n",
       "        120          0.831524\n",
       "        150          0.859062\n",
       "        180          0.873262\n",
       "        240          0.892800\n",
       "        300          0.903264\n",
       "        360          0.913430\n",
       "dtype: float64"
      ]
     },
     "metadata": {},
     "output_type": "display_data"
    }
   ],
   "source": [
    "# スコア計算\n",
    "labels = pd.read_csv(f\"{CFG['dataset']['competition_dir']}/train_events.csv\").dropna()\n",
    "score, ap_table = compute_comptetition_metric(labels, sub)\n",
    "\n",
    "print(f\"score: {score:.4f}\")\n",
    "display(ap_table)\n",
    "sub.to_csv(os.path.join(CFG[\"output_dir\"], \"submission_after_nms.csv\"), index=False)"
   ]
  },
  {
   "cell_type": "code",
   "execution_count": null,
   "metadata": {},
   "outputs": [],
   "source": []
  },
  {
   "cell_type": "code",
   "execution_count": null,
   "metadata": {},
   "outputs": [],
   "source": []
  }
 ],
 "metadata": {
  "kernelspec": {
   "display_name": "base",
   "language": "python",
   "name": "python3"
  },
  "language_info": {
   "codemirror_mode": {
    "name": "ipython",
    "version": 3
   },
   "file_extension": ".py",
   "mimetype": "text/x-python",
   "name": "python",
   "nbconvert_exporter": "python",
   "pygments_lexer": "ipython3",
   "version": "3.10.10"
  },
  "orig_nbformat": 4
 },
 "nbformat": 4,
 "nbformat_minor": 2
}
