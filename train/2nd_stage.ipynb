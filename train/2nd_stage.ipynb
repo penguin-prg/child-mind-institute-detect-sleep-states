{
 "cells": [
  {
   "cell_type": "code",
   "execution_count": 1,
   "metadata": {},
   "outputs": [
    {
     "name": "stderr",
     "output_type": "stream",
     "text": [
      "2023-10-22 08:28:27.338730: I tensorflow/core/platform/cpu_feature_guard.cc:193] This TensorFlow binary is optimized with oneAPI Deep Neural Network Library (oneDNN) to use the following CPU instructions in performance-critical operations:  AVX2 AVX_VNNI FMA\n",
      "To enable them in other operations, rebuild TensorFlow with the appropriate compiler flags.\n",
      "2023-10-22 08:28:27.536994: I tensorflow/core/util/port.cc:104] oneDNN custom operations are on. You may see slightly different numerical results due to floating-point round-off errors from different computation orders. To turn them off, set the environment variable `TF_ENABLE_ONEDNN_OPTS=0`.\n",
      "2023-10-22 08:28:28.533827: W tensorflow/compiler/xla/stream_executor/platform/default/dso_loader.cc:64] Could not load dynamic library 'libnvinfer.so.7'; dlerror: libnvinfer.so.7: cannot open shared object file: No such file or directory; LD_LIBRARY_PATH: /usr/local/cuda/lib64:/usr/local/cuda/lib:/usr/local/lib/x86_64-linux-gnu:/usr/local/nvidia/lib:/usr/local/nvidia/lib64:/usr/local/nvidia/lib:/usr/local/nvidia/lib64:/opt/conda/lib\n",
      "2023-10-22 08:28:28.533943: W tensorflow/compiler/xla/stream_executor/platform/default/dso_loader.cc:64] Could not load dynamic library 'libnvinfer_plugin.so.7'; dlerror: libnvinfer_plugin.so.7: cannot open shared object file: No such file or directory; LD_LIBRARY_PATH: /usr/local/cuda/lib64:/usr/local/cuda/lib:/usr/local/lib/x86_64-linux-gnu:/usr/local/nvidia/lib:/usr/local/nvidia/lib64:/usr/local/nvidia/lib:/usr/local/nvidia/lib64:/opt/conda/lib\n",
      "2023-10-22 08:28:28.533951: W tensorflow/compiler/tf2tensorrt/utils/py_utils.cc:38] TF-TRT Warning: Cannot dlopen some TensorRT libraries. If you would like to use Nvidia GPU with TensorRT, please make sure the missing libraries mentioned above are installed properly.\n"
     ]
    },
    {
     "name": "stdout",
     "output_type": "stream",
     "text": [
      "exp_097\n"
     ]
    }
   ],
   "source": [
    "import pandas as pd\n",
    "import yaml\n",
    "import sys\n",
    "import os\n",
    "from glob import glob\n",
    "from pathlib import Path\n",
    "import gc\n",
    "import pickle\n",
    "\n",
    "import warnings\n",
    "warnings.filterwarnings('ignore')\n",
    "\n",
    "sys.path.append('/kaggle/src')\n",
    "from utils.xgb import fit_xgb\n",
    "from utils.metric import compute_comptetition_metric\n",
    "from utils.postprocess import post_process\n",
    "from utils.set_seed import seed_base\n",
    "from feature_engineering.stage2 import generate_2nd_stage_features\n",
    "\n",
    "PACKAGE_DIR = Path(\"/kaggle/src\")\n",
    "CFG = yaml.safe_load(open(PACKAGE_DIR / \"config.yaml\", \"r\"))\n",
    "print(CFG[\"2nd_stage\"][\"execution\"][\"exp_id\"])\n",
    "\n",
    "CFG[\"output_dir\"] = f\"/kaggle/output/{CFG['2nd_stage']['execution']['exp_id']}\"\n",
    "!rm -r {CFG[\"output_dir\"]}\n",
    "os.makedirs(CFG[\"output_dir\"], exist_ok=True)\n",
    "\n",
    "seed_base(CFG[\"env\"][\"seed\"])"
   ]
  },
  {
   "cell_type": "code",
   "execution_count": 2,
   "metadata": {},
   "outputs": [
    {
     "name": "stderr",
     "output_type": "stream",
     "text": [
      "generate features: 100%|██████████| 277/277 [04:14<00:00,  1.09it/s]\n"
     ]
    },
    {
     "data": {
      "text/html": [
       "<div>\n",
       "<style scoped>\n",
       "    .dataframe tbody tr th:only-of-type {\n",
       "        vertical-align: middle;\n",
       "    }\n",
       "\n",
       "    .dataframe tbody tr th {\n",
       "        vertical-align: top;\n",
       "    }\n",
       "\n",
       "    .dataframe thead th {\n",
       "        text-align: right;\n",
       "    }\n",
       "</style>\n",
       "<table border=\"1\" class=\"dataframe\">\n",
       "  <thead>\n",
       "    <tr style=\"text-align: right;\">\n",
       "      <th></th>\n",
       "      <th>anglez</th>\n",
       "      <th>anglez_diff_abs</th>\n",
       "      <th>anglez_diff_abs_clip5</th>\n",
       "      <th>anglez_mean</th>\n",
       "      <th>enmo</th>\n",
       "      <th>enmo_diff_abs</th>\n",
       "      <th>enmo_mean</th>\n",
       "      <th>minutes</th>\n",
       "      <th>same_count</th>\n",
       "      <th>total_seconds</th>\n",
       "      <th>...</th>\n",
       "      <th>enmo_rolling_median_100_shift_1000</th>\n",
       "      <th>anglez_diff_abs_clip5_rolling_median_100_shift_1000</th>\n",
       "      <th>enmo_std_rolling_median_100_shift_1000</th>\n",
       "      <th>anglez_diff_abs_clip5_std_rolling_median_100_shift_1000</th>\n",
       "      <th>enmo_rolling_square_mean_100_shift_1000</th>\n",
       "      <th>anglez_diff_abs_clip5_rolling_square_mean_100_shift_1000</th>\n",
       "      <th>enmo_std_rolling_square_mean_100_shift_1000</th>\n",
       "      <th>anglez_diff_abs_clip5_std_rolling_square_mean_100_shift_1000</th>\n",
       "      <th>reduce_step</th>\n",
       "      <th>fold</th>\n",
       "    </tr>\n",
       "  </thead>\n",
       "  <tbody>\n",
       "    <tr>\n",
       "      <th>622</th>\n",
       "      <td>-1.160092</td>\n",
       "      <td>5.391342</td>\n",
       "      <td>3.805200</td>\n",
       "      <td>-1.160092</td>\n",
       "      <td>0.049821</td>\n",
       "      <td>0.022942</td>\n",
       "      <td>0.049822</td>\n",
       "      <td>1797.5</td>\n",
       "      <td>6.5</td>\n",
       "      <td>32397.5</td>\n",
       "      <td>...</td>\n",
       "      <td>NaN</td>\n",
       "      <td>NaN</td>\n",
       "      <td>NaN</td>\n",
       "      <td>NaN</td>\n",
       "      <td>NaN</td>\n",
       "      <td>NaN</td>\n",
       "      <td>NaN</td>\n",
       "      <td>NaN</td>\n",
       "      <td>14939</td>\n",
       "      <td>3</td>\n",
       "    </tr>\n",
       "    <tr>\n",
       "      <th>623</th>\n",
       "      <td>-6.169150</td>\n",
       "      <td>4.236796</td>\n",
       "      <td>2.998800</td>\n",
       "      <td>-6.169149</td>\n",
       "      <td>0.026333</td>\n",
       "      <td>0.008512</td>\n",
       "      <td>0.026335</td>\n",
       "      <td>117.5</td>\n",
       "      <td>0.0</td>\n",
       "      <td>32517.5</td>\n",
       "      <td>...</td>\n",
       "      <td>NaN</td>\n",
       "      <td>NaN</td>\n",
       "      <td>NaN</td>\n",
       "      <td>NaN</td>\n",
       "      <td>NaN</td>\n",
       "      <td>NaN</td>\n",
       "      <td>NaN</td>\n",
       "      <td>NaN</td>\n",
       "      <td>14963</td>\n",
       "      <td>3</td>\n",
       "    </tr>\n",
       "    <tr>\n",
       "      <th>624</th>\n",
       "      <td>-14.701716</td>\n",
       "      <td>3.183992</td>\n",
       "      <td>2.853704</td>\n",
       "      <td>-14.701717</td>\n",
       "      <td>0.033279</td>\n",
       "      <td>0.007212</td>\n",
       "      <td>0.033278</td>\n",
       "      <td>237.5</td>\n",
       "      <td>0.0</td>\n",
       "      <td>32637.5</td>\n",
       "      <td>...</td>\n",
       "      <td>NaN</td>\n",
       "      <td>NaN</td>\n",
       "      <td>NaN</td>\n",
       "      <td>NaN</td>\n",
       "      <td>NaN</td>\n",
       "      <td>NaN</td>\n",
       "      <td>NaN</td>\n",
       "      <td>NaN</td>\n",
       "      <td>14987</td>\n",
       "      <td>3</td>\n",
       "    </tr>\n",
       "    <tr>\n",
       "      <th>625</th>\n",
       "      <td>-12.253108</td>\n",
       "      <td>3.600733</td>\n",
       "      <td>3.046375</td>\n",
       "      <td>-12.253112</td>\n",
       "      <td>0.057471</td>\n",
       "      <td>0.028133</td>\n",
       "      <td>0.057472</td>\n",
       "      <td>357.5</td>\n",
       "      <td>0.0</td>\n",
       "      <td>32757.5</td>\n",
       "      <td>...</td>\n",
       "      <td>NaN</td>\n",
       "      <td>NaN</td>\n",
       "      <td>NaN</td>\n",
       "      <td>NaN</td>\n",
       "      <td>NaN</td>\n",
       "      <td>NaN</td>\n",
       "      <td>NaN</td>\n",
       "      <td>NaN</td>\n",
       "      <td>15011</td>\n",
       "      <td>3</td>\n",
       "    </tr>\n",
       "    <tr>\n",
       "      <th>626</th>\n",
       "      <td>-6.187904</td>\n",
       "      <td>3.673754</td>\n",
       "      <td>2.645983</td>\n",
       "      <td>-6.187906</td>\n",
       "      <td>0.049892</td>\n",
       "      <td>0.030817</td>\n",
       "      <td>0.049891</td>\n",
       "      <td>477.5</td>\n",
       "      <td>0.0</td>\n",
       "      <td>32877.5</td>\n",
       "      <td>...</td>\n",
       "      <td>NaN</td>\n",
       "      <td>NaN</td>\n",
       "      <td>NaN</td>\n",
       "      <td>NaN</td>\n",
       "      <td>NaN</td>\n",
       "      <td>NaN</td>\n",
       "      <td>NaN</td>\n",
       "      <td>NaN</td>\n",
       "      <td>15035</td>\n",
       "      <td>3</td>\n",
       "    </tr>\n",
       "  </tbody>\n",
       "</table>\n",
       "<p>5 rows × 1307 columns</p>\n",
       "</div>"
      ],
      "text/plain": [
       "        anglez  anglez_diff_abs  anglez_diff_abs_clip5  anglez_mean      enmo  \\\n",
       "622  -1.160092         5.391342               3.805200    -1.160092  0.049821   \n",
       "623  -6.169150         4.236796               2.998800    -6.169149  0.026333   \n",
       "624 -14.701716         3.183992               2.853704   -14.701717  0.033279   \n",
       "625 -12.253108         3.600733               3.046375   -12.253112  0.057471   \n",
       "626  -6.187904         3.673754               2.645983    -6.187906  0.049892   \n",
       "\n",
       "     enmo_diff_abs  enmo_mean  minutes  same_count  total_seconds  ...  \\\n",
       "622       0.022942   0.049822   1797.5         6.5        32397.5  ...   \n",
       "623       0.008512   0.026335    117.5         0.0        32517.5  ...   \n",
       "624       0.007212   0.033278    237.5         0.0        32637.5  ...   \n",
       "625       0.028133   0.057472    357.5         0.0        32757.5  ...   \n",
       "626       0.030817   0.049891    477.5         0.0        32877.5  ...   \n",
       "\n",
       "     enmo_rolling_median_100_shift_1000  \\\n",
       "622                                 NaN   \n",
       "623                                 NaN   \n",
       "624                                 NaN   \n",
       "625                                 NaN   \n",
       "626                                 NaN   \n",
       "\n",
       "     anglez_diff_abs_clip5_rolling_median_100_shift_1000  \\\n",
       "622                                                NaN     \n",
       "623                                                NaN     \n",
       "624                                                NaN     \n",
       "625                                                NaN     \n",
       "626                                                NaN     \n",
       "\n",
       "     enmo_std_rolling_median_100_shift_1000  \\\n",
       "622                                     NaN   \n",
       "623                                     NaN   \n",
       "624                                     NaN   \n",
       "625                                     NaN   \n",
       "626                                     NaN   \n",
       "\n",
       "     anglez_diff_abs_clip5_std_rolling_median_100_shift_1000  \\\n",
       "622                                                NaN         \n",
       "623                                                NaN         \n",
       "624                                                NaN         \n",
       "625                                                NaN         \n",
       "626                                                NaN         \n",
       "\n",
       "     enmo_rolling_square_mean_100_shift_1000  \\\n",
       "622                                      NaN   \n",
       "623                                      NaN   \n",
       "624                                      NaN   \n",
       "625                                      NaN   \n",
       "626                                      NaN   \n",
       "\n",
       "     anglez_diff_abs_clip5_rolling_square_mean_100_shift_1000  \\\n",
       "622                                                NaN          \n",
       "623                                                NaN          \n",
       "624                                                NaN          \n",
       "625                                                NaN          \n",
       "626                                                NaN          \n",
       "\n",
       "     enmo_std_rolling_square_mean_100_shift_1000  \\\n",
       "622                                          NaN   \n",
       "623                                          NaN   \n",
       "624                                          NaN   \n",
       "625                                          NaN   \n",
       "626                                          NaN   \n",
       "\n",
       "     anglez_diff_abs_clip5_std_rolling_square_mean_100_shift_1000  \\\n",
       "622                                                NaN              \n",
       "623                                                NaN              \n",
       "624                                                NaN              \n",
       "625                                                NaN              \n",
       "626                                                NaN              \n",
       "\n",
       "     reduce_step  fold  \n",
       "622        14939     3  \n",
       "623        14963     3  \n",
       "624        14987     3  \n",
       "625        15011     3  \n",
       "626        15035     3  \n",
       "\n",
       "[5 rows x 1307 columns]"
      ]
     },
     "metadata": {},
     "output_type": "display_data"
    },
    {
     "data": {
      "text/plain": [
       "(877617, 1307)"
      ]
     },
     "execution_count": 2,
     "metadata": {},
     "output_type": "execute_result"
    }
   ],
   "source": [
    "# 特徴生成\n",
    "files = glob(f\"{CFG['dataset']['step_csv_dir']}/*.parquet\")\n",
    "train, features = generate_2nd_stage_features(files)\n",
    "\n",
    "# cv splitとマージ\n",
    "cv_split = pd.read_csv(CFG['dataset']['cv_split_path'])\n",
    "train[\"fold\"] = train[\"series_id\"].map(cv_split.set_index(\"series_id\")[\"fold\"])\n",
    "display(train.head(5))\n",
    "train.shape"
   ]
  },
  {
   "cell_type": "code",
   "execution_count": 3,
   "metadata": {},
   "outputs": [
    {
     "name": "stderr",
     "output_type": "stream",
     "text": [
      "  0%|          | 0/5 [00:00<?, ?it/s]"
     ]
    },
    {
     "name": "stdout",
     "output_type": "stream",
     "text": [
      "== fold 0 ==\n",
      "[0]\teval-rmse:1.81779\n",
      "[100]\teval-rmse:1.11492\n",
      "[200]\teval-rmse:0.95008\n",
      "[300]\teval-rmse:0.91386\n",
      "[400]\teval-rmse:0.90396\n",
      "[500]\teval-rmse:0.89988\n",
      "[600]\teval-rmse:0.89797\n",
      "[700]\teval-rmse:0.89710\n",
      "[800]\teval-rmse:0.89650\n",
      "[900]\teval-rmse:0.89621\n",
      "[1000]\teval-rmse:0.89592\n",
      "[1100]\teval-rmse:0.89573\n",
      "[1200]\teval-rmse:0.89543\n",
      "[1300]\teval-rmse:0.89540\n",
      "[1400]\teval-rmse:0.89522\n",
      "[1469]\teval-rmse:0.89520\n"
     ]
    },
    {
     "name": "stderr",
     "output_type": "stream",
     "text": [
      " 20%|██        | 1/5 [01:35<06:21, 95.39s/it]"
     ]
    },
    {
     "name": "stdout",
     "output_type": "stream",
     "text": [
      "== fold 1 ==\n",
      "[0]\teval-rmse:1.70114\n",
      "[100]\teval-rmse:1.06166\n",
      "[200]\teval-rmse:0.91217\n",
      "[300]\teval-rmse:0.87486\n",
      "[400]\teval-rmse:0.86379\n",
      "[500]\teval-rmse:0.85752\n",
      "[600]\teval-rmse:0.85321\n",
      "[700]\teval-rmse:0.85129\n",
      "[800]\teval-rmse:0.85042\n",
      "[900]\teval-rmse:0.84964\n",
      "[1000]\teval-rmse:0.84909\n",
      "[1100]\teval-rmse:0.84838\n",
      "[1200]\teval-rmse:0.84800\n",
      "[1300]\teval-rmse:0.84752\n",
      "[1400]\teval-rmse:0.84712\n",
      "[1500]\teval-rmse:0.84685\n",
      "[1600]\teval-rmse:0.84654\n",
      "[1700]\teval-rmse:0.84619\n",
      "[1800]\teval-rmse:0.84581\n",
      "[1900]\teval-rmse:0.84561\n",
      "[2000]\teval-rmse:0.84533\n",
      "[2100]\teval-rmse:0.84524\n",
      "[2200]\teval-rmse:0.84488\n",
      "[2300]\teval-rmse:0.84481\n",
      "[2400]\teval-rmse:0.84467\n",
      "[2500]\teval-rmse:0.84447\n",
      "[2600]\teval-rmse:0.84430\n",
      "[2700]\teval-rmse:0.84425\n",
      "[2800]\teval-rmse:0.84417\n",
      "[2890]\teval-rmse:0.84422\n"
     ]
    },
    {
     "name": "stderr",
     "output_type": "stream",
     "text": [
      " 40%|████      | 2/5 [04:17<06:43, 134.35s/it]"
     ]
    },
    {
     "name": "stdout",
     "output_type": "stream",
     "text": [
      "== fold 2 ==\n",
      "[0]\teval-rmse:1.73929\n",
      "[100]\teval-rmse:1.09668\n",
      "[200]\teval-rmse:0.94416\n",
      "[300]\teval-rmse:0.90534\n",
      "[400]\teval-rmse:0.89454\n",
      "[500]\teval-rmse:0.89008\n",
      "[600]\teval-rmse:0.88766\n",
      "[700]\teval-rmse:0.88640\n",
      "[800]\teval-rmse:0.88569\n",
      "[900]\teval-rmse:0.88527\n",
      "[1000]\teval-rmse:0.88497\n",
      "[1100]\teval-rmse:0.88469\n",
      "[1200]\teval-rmse:0.88447\n",
      "[1300]\teval-rmse:0.88432\n",
      "[1400]\teval-rmse:0.88404\n",
      "[1500]\teval-rmse:0.88392\n",
      "[1561]\teval-rmse:0.88394\n"
     ]
    },
    {
     "name": "stderr",
     "output_type": "stream",
     "text": [
      " 60%|██████    | 3/5 [05:52<03:53, 116.76s/it]"
     ]
    },
    {
     "name": "stdout",
     "output_type": "stream",
     "text": [
      "== fold 3 ==\n",
      "[0]\teval-rmse:1.71213\n",
      "[100]\teval-rmse:1.04315\n",
      "[200]\teval-rmse:0.87735\n",
      "[300]\teval-rmse:0.83774\n",
      "[400]\teval-rmse:0.82763\n",
      "[500]\teval-rmse:0.82459\n",
      "[600]\teval-rmse:0.82299\n",
      "[700]\teval-rmse:0.82187\n",
      "[800]\teval-rmse:0.82121\n",
      "[900]\teval-rmse:0.82077\n",
      "[1000]\teval-rmse:0.82055\n",
      "[1100]\teval-rmse:0.82032\n",
      "[1200]\teval-rmse:0.82008\n",
      "[1300]\teval-rmse:0.81987\n",
      "[1400]\teval-rmse:0.81958\n",
      "[1500]\teval-rmse:0.81954\n",
      "[1600]\teval-rmse:0.81969\n",
      "[1603]\teval-rmse:0.81970\n"
     ]
    },
    {
     "name": "stderr",
     "output_type": "stream",
     "text": [
      " 80%|████████  | 4/5 [07:28<01:48, 108.55s/it]"
     ]
    },
    {
     "name": "stdout",
     "output_type": "stream",
     "text": [
      "== fold 4 ==\n",
      "[0]\teval-rmse:1.78905\n",
      "[100]\teval-rmse:1.11822\n",
      "[200]\teval-rmse:0.95941\n",
      "[300]\teval-rmse:0.92229\n",
      "[400]\teval-rmse:0.91145\n",
      "[500]\teval-rmse:0.90719\n",
      "[600]\teval-rmse:0.90522\n",
      "[700]\teval-rmse:0.90404\n",
      "[800]\teval-rmse:0.90334\n",
      "[900]\teval-rmse:0.90282\n",
      "[1000]\teval-rmse:0.90213\n",
      "[1100]\teval-rmse:0.90181\n",
      "[1200]\teval-rmse:0.90157\n",
      "[1300]\teval-rmse:0.90138\n",
      "[1400]\teval-rmse:0.90110\n",
      "[1500]\teval-rmse:0.90109\n",
      "[1600]\teval-rmse:0.90086\n",
      "[1700]\teval-rmse:0.90087\n",
      "[1711]\teval-rmse:0.90089\n"
     ]
    },
    {
     "name": "stderr",
     "output_type": "stream",
     "text": [
      "100%|██████████| 5/5 [09:10<00:00, 110.00s/it]\n",
      "  0%|          | 0/5 [00:00<?, ?it/s]"
     ]
    },
    {
     "name": "stdout",
     "output_type": "stream",
     "text": [
      "== fold 0 ==\n",
      "[0]\teval-rmse:1.81476\n",
      "[100]\teval-rmse:1.13042\n",
      "[200]\teval-rmse:0.96515\n",
      "[300]\teval-rmse:0.92553\n",
      "[400]\teval-rmse:0.91318\n",
      "[500]\teval-rmse:0.90828\n",
      "[600]\teval-rmse:0.90560\n",
      "[700]\teval-rmse:0.90448\n",
      "[800]\teval-rmse:0.90403\n",
      "[900]\teval-rmse:0.90355\n",
      "[1000]\teval-rmse:0.90300\n",
      "[1100]\teval-rmse:0.90232\n",
      "[1200]\teval-rmse:0.90183\n",
      "[1300]\teval-rmse:0.90128\n",
      "[1400]\teval-rmse:0.90098\n",
      "[1500]\teval-rmse:0.90076\n",
      "[1600]\teval-rmse:0.90034\n",
      "[1700]\teval-rmse:0.90008\n",
      "[1800]\teval-rmse:0.89977\n",
      "[1900]\teval-rmse:0.89962\n",
      "[2000]\teval-rmse:0.89950\n",
      "[2100]\teval-rmse:0.89939\n",
      "[2200]\teval-rmse:0.89934\n",
      "[2233]\teval-rmse:0.89935\n"
     ]
    },
    {
     "name": "stderr",
     "output_type": "stream",
     "text": [
      " 20%|██        | 1/5 [02:09<08:38, 129.65s/it]"
     ]
    },
    {
     "name": "stdout",
     "output_type": "stream",
     "text": [
      "== fold 1 ==\n",
      "[0]\teval-rmse:1.69713\n",
      "[100]\teval-rmse:1.06895\n",
      "[200]\teval-rmse:0.91875\n",
      "[300]\teval-rmse:0.87931\n",
      "[400]\teval-rmse:0.86464\n",
      "[500]\teval-rmse:0.85858\n",
      "[600]\teval-rmse:0.85524\n",
      "[700]\teval-rmse:0.85327\n",
      "[800]\teval-rmse:0.85224\n",
      "[900]\teval-rmse:0.85129\n",
      "[1000]\teval-rmse:0.85028\n",
      "[1100]\teval-rmse:0.84968\n",
      "[1200]\teval-rmse:0.84938\n",
      "[1300]\teval-rmse:0.84908\n",
      "[1400]\teval-rmse:0.84853\n",
      "[1500]\teval-rmse:0.84847\n",
      "[1600]\teval-rmse:0.84825\n",
      "[1700]\teval-rmse:0.84792\n",
      "[1800]\teval-rmse:0.84780\n",
      "[1900]\teval-rmse:0.84764\n",
      "[2000]\teval-rmse:0.84744\n",
      "[2100]\teval-rmse:0.84743\n",
      "[2183]\teval-rmse:0.84749\n"
     ]
    },
    {
     "name": "stderr",
     "output_type": "stream",
     "text": [
      " 40%|████      | 2/5 [04:18<06:27, 129.17s/it]"
     ]
    },
    {
     "name": "stdout",
     "output_type": "stream",
     "text": [
      "== fold 2 ==\n",
      "[0]\teval-rmse:1.74098\n",
      "[100]\teval-rmse:1.12118\n",
      "[200]\teval-rmse:0.97383\n",
      "[300]\teval-rmse:0.93226\n",
      "[400]\teval-rmse:0.91657\n",
      "[500]\teval-rmse:0.90990\n",
      "[600]\teval-rmse:0.90671\n",
      "[700]\teval-rmse:0.90397\n",
      "[800]\teval-rmse:0.90229\n",
      "[900]\teval-rmse:0.90145\n",
      "[1000]\teval-rmse:0.90056\n",
      "[1100]\teval-rmse:0.89990\n",
      "[1200]\teval-rmse:0.89928\n",
      "[1300]\teval-rmse:0.89827\n",
      "[1400]\teval-rmse:0.89740\n",
      "[1500]\teval-rmse:0.89705\n",
      "[1600]\teval-rmse:0.89663\n",
      "[1700]\teval-rmse:0.89605\n",
      "[1800]\teval-rmse:0.89569\n",
      "[1900]\teval-rmse:0.89548\n",
      "[2000]\teval-rmse:0.89513\n",
      "[2100]\teval-rmse:0.89473\n",
      "[2200]\teval-rmse:0.89453\n",
      "[2300]\teval-rmse:0.89431\n",
      "[2400]\teval-rmse:0.89412\n",
      "[2500]\teval-rmse:0.89390\n",
      "[2598]\teval-rmse:0.89398\n"
     ]
    },
    {
     "name": "stderr",
     "output_type": "stream",
     "text": [
      " 60%|██████    | 3/5 [06:46<04:35, 137.73s/it]"
     ]
    },
    {
     "name": "stdout",
     "output_type": "stream",
     "text": [
      "== fold 3 ==\n",
      "[0]\teval-rmse:1.70653\n",
      "[100]\teval-rmse:1.08502\n",
      "[200]\teval-rmse:0.94108\n",
      "[300]\teval-rmse:0.90786\n",
      "[400]\teval-rmse:0.89858\n",
      "[500]\teval-rmse:0.89399\n",
      "[600]\teval-rmse:0.89171\n",
      "[700]\teval-rmse:0.89025\n",
      "[800]\teval-rmse:0.88943\n",
      "[900]\teval-rmse:0.88898\n",
      "[1000]\teval-rmse:0.88873\n",
      "[1100]\teval-rmse:0.88815\n",
      "[1200]\teval-rmse:0.88776\n",
      "[1300]\teval-rmse:0.88746\n",
      "[1400]\teval-rmse:0.88751\n",
      "[1444]\teval-rmse:0.88760\n"
     ]
    },
    {
     "name": "stderr",
     "output_type": "stream",
     "text": [
      " 80%|████████  | 4/5 [08:15<01:58, 118.64s/it]"
     ]
    },
    {
     "name": "stdout",
     "output_type": "stream",
     "text": [
      "== fold 4 ==\n",
      "[0]\teval-rmse:1.77918\n",
      "[100]\teval-rmse:1.13837\n",
      "[200]\teval-rmse:0.98939\n",
      "[300]\teval-rmse:0.95276\n",
      "[400]\teval-rmse:0.93958\n",
      "[500]\teval-rmse:0.93327\n",
      "[600]\teval-rmse:0.92992\n",
      "[700]\teval-rmse:0.92766\n",
      "[800]\teval-rmse:0.92594\n",
      "[900]\teval-rmse:0.92459\n",
      "[1000]\teval-rmse:0.92366\n",
      "[1100]\teval-rmse:0.92301\n",
      "[1200]\teval-rmse:0.92250\n",
      "[1300]\teval-rmse:0.92183\n",
      "[1400]\teval-rmse:0.92128\n",
      "[1500]\teval-rmse:0.92094\n",
      "[1600]\teval-rmse:0.92062\n",
      "[1660]\teval-rmse:0.92060\n"
     ]
    },
    {
     "name": "stderr",
     "output_type": "stream",
     "text": [
      "100%|██████████| 5/5 [09:57<00:00, 119.49s/it]\n"
     ]
    }
   ],
   "source": [
    "# 学習\n",
    "dfs = []\n",
    "for event in [\"wakeup\", \"onset\"]:\n",
    "    trn_oof, models = fit_xgb(\n",
    "        X=train, \n",
    "        y=train[f\"{event}_target\"], \n",
    "        folds=train[\"fold\"].astype(int), \n",
    "        features=features.all_features(),\n",
    "        params=CFG[\"2nd_stage\"][\"xgboost\"], \n",
    "        es_rounds=100,\n",
    "    )\n",
    "    train[\"score\"] = trn_oof\n",
    "    train[\"event\"] = event\n",
    "    dfs.append(train[[\"series_id\", \"step\", \"score\", \"event\"]])\n",
    "\n",
    "    # 保存\n",
    "    for i, model in enumerate(models):\n",
    "        model.save_model(os.path.join(CFG[\"output_dir\"], f'xgb_{event}_fold_{i}.model'))\n",
    "del train\n",
    "gc.collect()\n",
    "train = pd.concat(dfs, axis=0)\n",
    "train[\"step\"] = train[\"step\"].astype(int)\n",
    "train = train.sort_values([\"series_id\", \"step\"]).reset_index(drop=True)\n",
    "\n",
    "\n",
    "with open(os.path.join(CFG[\"output_dir\"], \"features.pkl\"), \"wb\") as f:\n",
    "    pickle.dump(features, f)\n",
    "train.to_csv(os.path.join(CFG[\"output_dir\"], \"oof.csv\"), index=False)"
   ]
  },
  {
   "cell_type": "markdown",
   "metadata": {},
   "source": [
    "## Dynamic-Range NMS"
   ]
  },
  {
   "cell_type": "code",
   "execution_count": 4,
   "metadata": {},
   "outputs": [
    {
     "data": {
      "text/plain": [
       "<AxesSubplot: >"
      ]
     },
     "execution_count": 4,
     "metadata": {},
     "output_type": "execute_result"
    },
    {
     "data": {
      "image/png": "[encoded data removed]",
      "text/plain": [
       "<Figure size 640x480 with 1 Axes>"
      ]
     },
     "metadata": {},
     "output_type": "display_data"
    }
   ],
   "source": [
    "train = train[train[\"score\"] > 0.1]\n",
    "train[\"score\"].hist()"
   ]
  },
  {
   "cell_type": "code",
   "execution_count": 5,
   "metadata": {},
   "outputs": [
    {
     "name": "stderr",
     "output_type": "stream",
     "text": [
      "100%|██████████| 277/277 [00:06<00:00, 45.94it/s]\n"
     ]
    }
   ],
   "source": [
    "from utils.postprocess import dynamic_range_nms\n",
    "from multiprocessing import Pool\n",
    "from tqdm import tqdm\n",
    "\n",
    "train[\"step\"] = train[\"step\"].astype(int)\n",
    "\n",
    "groups = [group for _, group in train.groupby(\"series_id\")]\n",
    "with Pool(30) as p:  \n",
    "    results = list(tqdm(p.imap(dynamic_range_nms, groups), total=len(groups)))\n",
    "sub = pd.concat(results)\n",
    "sub[\"score\"] = sub[\"reduced_score\"]"
   ]
  },
  {
   "cell_type": "code",
   "execution_count": 6,
   "metadata": {},
   "outputs": [
    {
     "name": "stdout",
     "output_type": "stream",
     "text": [
      "score: 0.7503\n"
     ]
    },
    {
     "data": {
      "text/plain": [
       "event   tolerance\n",
       "onset   12           0.162181\n",
       "        36           0.558555\n",
       "        60           0.714681\n",
       "        90           0.793505\n",
       "        120          0.829453\n",
       "        150          0.851710\n",
       "        180          0.863887\n",
       "        240          0.880498\n",
       "        300          0.888274\n",
       "        360          0.893372\n",
       "wakeup  12           0.149551\n",
       "        36           0.588709\n",
       "        60           0.735179\n",
       "        90           0.800305\n",
       "        120          0.838733\n",
       "        150          0.864030\n",
       "        180          0.878087\n",
       "        240          0.894712\n",
       "        300          0.905307\n",
       "        360          0.914524\n",
       "dtype: float64"
      ]
     },
     "metadata": {},
     "output_type": "display_data"
    }
   ],
   "source": [
    "# スコア計算\n",
    "labels = pd.read_csv(f\"{CFG['dataset']['competition_dir']}/train_events.csv\").dropna()\n",
    "score, ap_table = compute_comptetition_metric(labels, sub)\n",
    "\n",
    "print(f\"score: {score:.4f}\")\n",
    "display(ap_table)\n",
    "sub.to_csv(os.path.join(CFG[\"output_dir\"], \"submission_after_nms.csv\"), index=False)"
   ]
  },
  {
   "cell_type": "code",
   "execution_count": null,
   "metadata": {},
   "outputs": [],
   "source": []
  },
  {
   "cell_type": "code",
   "execution_count": null,
   "metadata": {},
   "outputs": [],
   "source": []
  }
 ],
 "metadata": {
  "kernelspec": {
   "display_name": "base",
   "language": "python",
   "name": "python3"
  },
  "language_info": {
   "codemirror_mode": {
    "name": "ipython",
    "version": 3
   },
   "file_extension": ".py",
   "mimetype": "text/x-python",
   "name": "python",
   "nbconvert_exporter": "python",
   "pygments_lexer": "ipython3",
   "version": "3.10.10"
  },
  "orig_nbformat": 4
 },
 "nbformat": 4,
 "nbformat_minor": 2
}
