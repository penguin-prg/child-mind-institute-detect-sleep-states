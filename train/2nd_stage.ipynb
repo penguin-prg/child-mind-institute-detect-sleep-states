{
 "cells": [
  {
   "cell_type": "code",
   "execution_count": 1,
   "metadata": {},
   "outputs": [
    {
     "name": "stderr",
     "output_type": "stream",
     "text": [
      "2023-09-30 06:17:41.562802: I tensorflow/core/platform/cpu_feature_guard.cc:193] This TensorFlow binary is optimized with oneAPI Deep Neural Network Library (oneDNN) to use the following CPU instructions in performance-critical operations:  AVX2 AVX_VNNI FMA\n",
      "To enable them in other operations, rebuild TensorFlow with the appropriate compiler flags.\n",
      "2023-09-30 06:17:41.991127: I tensorflow/core/util/port.cc:104] oneDNN custom operations are on. You may see slightly different numerical results due to floating-point round-off errors from different computation orders. To turn them off, set the environment variable `TF_ENABLE_ONEDNN_OPTS=0`.\n",
      "2023-09-30 06:17:43.348950: W tensorflow/compiler/xla/stream_executor/platform/default/dso_loader.cc:64] Could not load dynamic library 'libnvinfer.so.7'; dlerror: libnvinfer.so.7: cannot open shared object file: No such file or directory; LD_LIBRARY_PATH: /usr/local/cuda/lib64:/usr/local/cuda/lib:/usr/local/lib/x86_64-linux-gnu:/usr/local/nvidia/lib:/usr/local/nvidia/lib64:/usr/local/nvidia/lib:/usr/local/nvidia/lib64:/opt/conda/lib\n",
      "2023-09-30 06:17:43.349424: W tensorflow/compiler/xla/stream_executor/platform/default/dso_loader.cc:64] Could not load dynamic library 'libnvinfer_plugin.so.7'; dlerror: libnvinfer_plugin.so.7: cannot open shared object file: No such file or directory; LD_LIBRARY_PATH: /usr/local/cuda/lib64:/usr/local/cuda/lib:/usr/local/lib/x86_64-linux-gnu:/usr/local/nvidia/lib:/usr/local/nvidia/lib64:/usr/local/nvidia/lib:/usr/local/nvidia/lib64:/opt/conda/lib\n",
      "2023-09-30 06:17:43.349432: W tensorflow/compiler/tf2tensorrt/utils/py_utils.cc:38] TF-TRT Warning: Cannot dlopen some TensorRT libraries. If you would like to use Nvidia GPU with TensorRT, please make sure the missing libraries mentioned above are installed properly.\n"
     ]
    },
    {
     "name": "stdout",
     "output_type": "stream",
     "text": [
      "exp_044\n"
     ]
    }
   ],
   "source": [
    "import pandas as pd\n",
    "import yaml\n",
    "import sys\n",
    "import os\n",
    "from glob import glob\n",
    "from pathlib import Path\n",
    "import pickle\n",
    "\n",
    "import warnings\n",
    "warnings.filterwarnings('ignore')\n",
    "\n",
    "sys.path.append('/kaggle/src')\n",
    "from utils.xgb import fit_xgb\n",
    "from utils.metric import compute_comptetition_metric\n",
    "from utils.postprocess import post_process\n",
    "from utils.set_seed import seed_base\n",
    "from feature_engineering.stage2 import generate_2nd_stage_features\n",
    "\n",
    "PACKAGE_DIR = Path(\"/kaggle/src\")\n",
    "CFG = yaml.safe_load(open(PACKAGE_DIR / \"config.yaml\", \"r\"))\n",
    "print(CFG[\"2nd_stage\"][\"execution\"][\"exp_id\"])\n",
    "\n",
    "CFG[\"output_dir\"] = f\"/kaggle/output/{CFG['2nd_stage']['execution']['exp_id']}\"\n",
    "!rm -r {CFG[\"output_dir\"]}\n",
    "os.makedirs(CFG[\"output_dir\"], exist_ok=True)\n",
    "\n",
    "seed_base(CFG[\"env\"][\"seed\"])"
   ]
  },
  {
   "cell_type": "code",
   "execution_count": 2,
   "metadata": {},
   "outputs": [
    {
     "name": "stderr",
     "output_type": "stream",
     "text": [
      "generate features: 100%|██████████| 277/277 [08:02<00:00,  1.74s/it]\n"
     ]
    },
    {
     "data": {
      "text/html": [
       "<div>\n",
       "<style scoped>\n",
       "    .dataframe tbody tr th:only-of-type {\n",
       "        vertical-align: middle;\n",
       "    }\n",
       "\n",
       "    .dataframe tbody tr th {\n",
       "        vertical-align: top;\n",
       "    }\n",
       "\n",
       "    .dataframe thead th {\n",
       "        text-align: right;\n",
       "    }\n",
       "</style>\n",
       "<table border=\"1\" class=\"dataframe\">\n",
       "  <thead>\n",
       "    <tr style=\"text-align: right;\">\n",
       "      <th></th>\n",
       "      <th>anglez_diff_abs</th>\n",
       "      <th>anglez_diff_abs_rolling_max_10</th>\n",
       "      <th>anglez_diff_abs_rolling_max_100</th>\n",
       "      <th>anglez_diff_abs_rolling_max_1000</th>\n",
       "      <th>anglez_diff_abs_rolling_max_50</th>\n",
       "      <th>anglez_diff_abs_rolling_mean_10</th>\n",
       "      <th>anglez_diff_abs_rolling_mean_100</th>\n",
       "      <th>anglez_diff_abs_rolling_mean_1000</th>\n",
       "      <th>anglez_diff_abs_rolling_mean_50</th>\n",
       "      <th>anglez_diff_abs_rolling_median_10</th>\n",
       "      <th>...</th>\n",
       "      <th>anglez_mean_rolling_median_1000_shift_416</th>\n",
       "      <th>enmo_mean_rolling_median_1000_shift_416</th>\n",
       "      <th>anglez_rolling_square_mean_1000_shift_416</th>\n",
       "      <th>enmo_rolling_square_mean_1000_shift_416</th>\n",
       "      <th>anglez_diff_abs_rolling_square_mean_1000_shift_416</th>\n",
       "      <th>enmo_diff_abs_rolling_square_mean_1000_shift_416</th>\n",
       "      <th>anglez_mean_rolling_square_mean_1000_shift_416</th>\n",
       "      <th>enmo_mean_rolling_square_mean_1000_shift_416</th>\n",
       "      <th>reduce_step</th>\n",
       "      <th>fold</th>\n",
       "    </tr>\n",
       "  </thead>\n",
       "  <tbody>\n",
       "    <tr>\n",
       "      <th>283</th>\n",
       "      <td>16.702658</td>\n",
       "      <td>38.064583</td>\n",
       "      <td>51.115900</td>\n",
       "      <td>84.6226</td>\n",
       "      <td>51.115900</td>\n",
       "      <td>15.962638</td>\n",
       "      <td>11.263916</td>\n",
       "      <td>8.043460</td>\n",
       "      <td>12.792510</td>\n",
       "      <td>14.257165</td>\n",
       "      <td>...</td>\n",
       "      <td>NaN</td>\n",
       "      <td>NaN</td>\n",
       "      <td>NaN</td>\n",
       "      <td>NaN</td>\n",
       "      <td>NaN</td>\n",
       "      <td>NaN</td>\n",
       "      <td>NaN</td>\n",
       "      <td>NaN</td>\n",
       "      <td>6803</td>\n",
       "      <td>3</td>\n",
       "    </tr>\n",
       "    <tr>\n",
       "      <th>284</th>\n",
       "      <td>7.195825</td>\n",
       "      <td>28.564683</td>\n",
       "      <td>51.115900</td>\n",
       "      <td>84.6226</td>\n",
       "      <td>51.115900</td>\n",
       "      <td>8.541195</td>\n",
       "      <td>12.527601</td>\n",
       "      <td>7.737612</td>\n",
       "      <td>12.364961</td>\n",
       "      <td>6.165692</td>\n",
       "      <td>...</td>\n",
       "      <td>NaN</td>\n",
       "      <td>NaN</td>\n",
       "      <td>NaN</td>\n",
       "      <td>NaN</td>\n",
       "      <td>NaN</td>\n",
       "      <td>NaN</td>\n",
       "      <td>NaN</td>\n",
       "      <td>NaN</td>\n",
       "      <td>6827</td>\n",
       "      <td>3</td>\n",
       "    </tr>\n",
       "    <tr>\n",
       "      <th>285</th>\n",
       "      <td>16.351179</td>\n",
       "      <td>34.583987</td>\n",
       "      <td>51.115900</td>\n",
       "      <td>84.6226</td>\n",
       "      <td>40.295400</td>\n",
       "      <td>15.494380</td>\n",
       "      <td>12.499973</td>\n",
       "      <td>7.288104</td>\n",
       "      <td>12.204054</td>\n",
       "      <td>14.248077</td>\n",
       "      <td>...</td>\n",
       "      <td>NaN</td>\n",
       "      <td>NaN</td>\n",
       "      <td>NaN</td>\n",
       "      <td>NaN</td>\n",
       "      <td>NaN</td>\n",
       "      <td>NaN</td>\n",
       "      <td>NaN</td>\n",
       "      <td>NaN</td>\n",
       "      <td>6851</td>\n",
       "      <td>3</td>\n",
       "    </tr>\n",
       "    <tr>\n",
       "      <th>286</th>\n",
       "      <td>10.855896</td>\n",
       "      <td>32.284983</td>\n",
       "      <td>42.890471</td>\n",
       "      <td>84.6226</td>\n",
       "      <td>38.495083</td>\n",
       "      <td>10.967216</td>\n",
       "      <td>12.269771</td>\n",
       "      <td>6.938846</td>\n",
       "      <td>12.743385</td>\n",
       "      <td>6.737581</td>\n",
       "      <td>...</td>\n",
       "      <td>NaN</td>\n",
       "      <td>NaN</td>\n",
       "      <td>NaN</td>\n",
       "      <td>NaN</td>\n",
       "      <td>NaN</td>\n",
       "      <td>NaN</td>\n",
       "      <td>NaN</td>\n",
       "      <td>NaN</td>\n",
       "      <td>6875</td>\n",
       "      <td>3</td>\n",
       "    </tr>\n",
       "    <tr>\n",
       "      <th>287</th>\n",
       "      <td>11.523954</td>\n",
       "      <td>27.963821</td>\n",
       "      <td>43.971200</td>\n",
       "      <td>84.6226</td>\n",
       "      <td>41.090162</td>\n",
       "      <td>12.171813</td>\n",
       "      <td>13.303702</td>\n",
       "      <td>6.618652</td>\n",
       "      <td>12.236429</td>\n",
       "      <td>10.896129</td>\n",
       "      <td>...</td>\n",
       "      <td>NaN</td>\n",
       "      <td>NaN</td>\n",
       "      <td>NaN</td>\n",
       "      <td>NaN</td>\n",
       "      <td>NaN</td>\n",
       "      <td>NaN</td>\n",
       "      <td>NaN</td>\n",
       "      <td>NaN</td>\n",
       "      <td>6899</td>\n",
       "      <td>3</td>\n",
       "    </tr>\n",
       "  </tbody>\n",
       "</table>\n",
       "<p>5 rows × 1380 columns</p>\n",
       "</div>"
      ],
      "text/plain": [
       "     anglez_diff_abs  anglez_diff_abs_rolling_max_10  \\\n",
       "283        16.702658                       38.064583   \n",
       "284         7.195825                       28.564683   \n",
       "285        16.351179                       34.583987   \n",
       "286        10.855896                       32.284983   \n",
       "287        11.523954                       27.963821   \n",
       "\n",
       "     anglez_diff_abs_rolling_max_100  anglez_diff_abs_rolling_max_1000  \\\n",
       "283                        51.115900                           84.6226   \n",
       "284                        51.115900                           84.6226   \n",
       "285                        51.115900                           84.6226   \n",
       "286                        42.890471                           84.6226   \n",
       "287                        43.971200                           84.6226   \n",
       "\n",
       "     anglez_diff_abs_rolling_max_50  anglez_diff_abs_rolling_mean_10  \\\n",
       "283                       51.115900                        15.962638   \n",
       "284                       51.115900                         8.541195   \n",
       "285                       40.295400                        15.494380   \n",
       "286                       38.495083                        10.967216   \n",
       "287                       41.090162                        12.171813   \n",
       "\n",
       "     anglez_diff_abs_rolling_mean_100  anglez_diff_abs_rolling_mean_1000  \\\n",
       "283                         11.263916                           8.043460   \n",
       "284                         12.527601                           7.737612   \n",
       "285                         12.499973                           7.288104   \n",
       "286                         12.269771                           6.938846   \n",
       "287                         13.303702                           6.618652   \n",
       "\n",
       "     anglez_diff_abs_rolling_mean_50  anglez_diff_abs_rolling_median_10  ...  \\\n",
       "283                        12.792510                          14.257165  ...   \n",
       "284                        12.364961                           6.165692  ...   \n",
       "285                        12.204054                          14.248077  ...   \n",
       "286                        12.743385                           6.737581  ...   \n",
       "287                        12.236429                          10.896129  ...   \n",
       "\n",
       "     anglez_mean_rolling_median_1000_shift_416  \\\n",
       "283                                        NaN   \n",
       "284                                        NaN   \n",
       "285                                        NaN   \n",
       "286                                        NaN   \n",
       "287                                        NaN   \n",
       "\n",
       "     enmo_mean_rolling_median_1000_shift_416  \\\n",
       "283                                      NaN   \n",
       "284                                      NaN   \n",
       "285                                      NaN   \n",
       "286                                      NaN   \n",
       "287                                      NaN   \n",
       "\n",
       "     anglez_rolling_square_mean_1000_shift_416  \\\n",
       "283                                        NaN   \n",
       "284                                        NaN   \n",
       "285                                        NaN   \n",
       "286                                        NaN   \n",
       "287                                        NaN   \n",
       "\n",
       "     enmo_rolling_square_mean_1000_shift_416  \\\n",
       "283                                      NaN   \n",
       "284                                      NaN   \n",
       "285                                      NaN   \n",
       "286                                      NaN   \n",
       "287                                      NaN   \n",
       "\n",
       "     anglez_diff_abs_rolling_square_mean_1000_shift_416  \\\n",
       "283                                                NaN    \n",
       "284                                                NaN    \n",
       "285                                                NaN    \n",
       "286                                                NaN    \n",
       "287                                                NaN    \n",
       "\n",
       "     enmo_diff_abs_rolling_square_mean_1000_shift_416  \\\n",
       "283                                               NaN   \n",
       "284                                               NaN   \n",
       "285                                               NaN   \n",
       "286                                               NaN   \n",
       "287                                               NaN   \n",
       "\n",
       "     anglez_mean_rolling_square_mean_1000_shift_416  \\\n",
       "283                                             NaN   \n",
       "284                                             NaN   \n",
       "285                                             NaN   \n",
       "286                                             NaN   \n",
       "287                                             NaN   \n",
       "\n",
       "     enmo_mean_rolling_square_mean_1000_shift_416  reduce_step  fold  \n",
       "283                                           NaN         6803     3  \n",
       "284                                           NaN         6827     3  \n",
       "285                                           NaN         6851     3  \n",
       "286                                           NaN         6875     3  \n",
       "287                                           NaN         6899     3  \n",
       "\n",
       "[5 rows x 1380 columns]"
      ]
     },
     "metadata": {},
     "output_type": "display_data"
    },
    {
     "data": {
      "text/plain": [
       "(877617, 1380)"
      ]
     },
     "execution_count": 2,
     "metadata": {},
     "output_type": "execute_result"
    }
   ],
   "source": [
    "# 特徴生成\n",
    "files = glob(f\"{CFG['dataset']['step_csv_dir']}/*.csv\")\n",
    "train, features = generate_2nd_stage_features(files)\n",
    "\n",
    "# cv splitとマージ\n",
    "cv_split = pd.read_csv(CFG['dataset']['cv_split_path'])\n",
    "train[\"fold\"] = train[\"series_id\"].map(cv_split.set_index(\"series_id\")[\"fold\"])\n",
    "display(train.head(5))\n",
    "train.shape"
   ]
  },
  {
   "cell_type": "code",
   "execution_count": 3,
   "metadata": {},
   "outputs": [
    {
     "name": "stderr",
     "output_type": "stream",
     "text": [
      "  0%|          | 0/5 [00:00<?, ?it/s]"
     ]
    },
    {
     "name": "stdout",
     "output_type": "stream",
     "text": [
      "== fold 0 ==\n",
      "[0]\teval-logloss:0.64149\n",
      "[100]\teval-logloss:0.26274\n",
      "[200]\teval-logloss:0.26046\n",
      "[258]\teval-logloss:0.26073\n"
     ]
    },
    {
     "name": "stderr",
     "output_type": "stream",
     "text": [
      " 20%|██        | 1/5 [00:32<02:11, 32.82s/it]"
     ]
    },
    {
     "name": "stdout",
     "output_type": "stream",
     "text": [
      "== fold 1 ==\n",
      "[0]\teval-logloss:0.64230\n",
      "[100]\teval-logloss:0.24628\n",
      "[200]\teval-logloss:0.24169\n",
      "[300]\teval-logloss:0.24443\n",
      "[317]\teval-logloss:0.24385\n"
     ]
    },
    {
     "name": "stderr",
     "output_type": "stream",
     "text": [
      " 40%|████      | 2/5 [01:06<01:40, 33.41s/it]"
     ]
    },
    {
     "name": "stdout",
     "output_type": "stream",
     "text": [
      "== fold 2 ==\n",
      "[0]\teval-logloss:0.64207\n",
      "[100]\teval-logloss:0.24844\n",
      "[200]\teval-logloss:0.23924\n",
      "[300]\teval-logloss:0.23895\n",
      "[366]\teval-logloss:0.23891\n"
     ]
    },
    {
     "name": "stderr",
     "output_type": "stream",
     "text": [
      " 60%|██████    | 3/5 [01:42<01:09, 34.64s/it]"
     ]
    },
    {
     "name": "stdout",
     "output_type": "stream",
     "text": [
      "== fold 3 ==\n",
      "[0]\teval-logloss:0.64678\n",
      "[100]\teval-logloss:0.25801\n",
      "[200]\teval-logloss:0.25550\n",
      "[300]\teval-logloss:0.25771\n",
      "[307]\teval-logloss:0.25772\n"
     ]
    },
    {
     "name": "stderr",
     "output_type": "stream",
     "text": [
      " 80%|████████  | 4/5 [02:18<00:34, 35.00s/it]"
     ]
    },
    {
     "name": "stdout",
     "output_type": "stream",
     "text": [
      "== fold 4 ==\n",
      "[0]\teval-logloss:0.64456\n",
      "[100]\teval-logloss:0.30335\n",
      "[200]\teval-logloss:0.30245\n",
      "[256]\teval-logloss:0.30406\n"
     ]
    },
    {
     "name": "stderr",
     "output_type": "stream",
     "text": [
      "100%|██████████| 5/5 [02:50<00:00, 34.01s/it]\n"
     ]
    }
   ],
   "source": [
    "# 学習\n",
    "trn_oof, models = fit_xgb(\n",
    "    X=train, \n",
    "    y=train[\"target\"], \n",
    "    folds=train[\"fold\"].astype(int), \n",
    "    features=features.all_features(),\n",
    "    params=CFG[\"2nd_stage\"][\"xgboost\"], \n",
    "    es_rounds=100,\n",
    ")\n",
    "train[\"oof\"] = trn_oof\n",
    "train = train.drop(columns=list(set(features.all_features()) - set([\"minutes\"])))\n",
    "train = train.sort_values([\"series_id\", \"step\"]).reset_index(drop=True)\n",
    "\n",
    "# nanは1st stageの結果を使う\n",
    "cand_path = os.path.join(\"/kaggle/output\", CFG[\"1st_stage\"][\"execution\"][\"best_exp_id\"], \"oof.csv\")\n",
    "last_train = pd.read_csv(cand_path).rename(columns={\"oof\": \"oof_1st\"})\n",
    "train = last_train[[\"series_id\", \"oof_1st\", \"step\"]].merge(\n",
    "    train[[\"series_id\", \"oof\", \"step\", \"minutes\"]], \n",
    "    on=[\"series_id\", \"step\"], \n",
    "    how=\"left\")\n",
    "train[\"oof\"] = train[\"oof\"].fillna(train[\"oof_1st\"])\n",
    "train = train.sort_values([\"series_id\", \"step\"]).reset_index(drop=True)\n",
    "\n",
    "# 保存\n",
    "for i, model in enumerate(models):\n",
    "    model.save_model(os.path.join(CFG[\"output_dir\"], f'xgb_fold{i}.model'))\n",
    "with open(os.path.join(CFG[\"output_dir\"], \"features.pkl\"), \"wb\") as f:\n",
    "    pickle.dump(features, f)\n",
    "train.to_csv(os.path.join(CFG[\"output_dir\"], \"oof.csv\"), index=False)"
   ]
  },
  {
   "cell_type": "code",
   "execution_count": 4,
   "metadata": {},
   "outputs": [
    {
     "name": "stderr",
     "output_type": "stream",
     "text": [
      "post process: 100%|██████████| 277/277 [00:46<00:00,  5.98it/s]\n"
     ]
    },
    {
     "name": "stdout",
     "output_type": "stream",
     "text": [
      "score: 0.6445\n"
     ]
    },
    {
     "data": {
      "text/plain": [
       "event   tolerance\n",
       "onset   12           0.059275\n",
       "        36           0.328763\n",
       "        60           0.515234\n",
       "        90           0.636371\n",
       "        120          0.717173\n",
       "        150          0.757794\n",
       "        180          0.788101\n",
       "        240          0.823117\n",
       "        300          0.845200\n",
       "        360          0.854514\n",
       "wakeup  12           0.091472\n",
       "        36           0.382547\n",
       "        60           0.540376\n",
       "        90           0.664446\n",
       "        120          0.726033\n",
       "        150          0.767801\n",
       "        180          0.797469\n",
       "        240          0.843693\n",
       "        300          0.867589\n",
       "        360          0.882284\n",
       "dtype: float64"
      ]
     },
     "metadata": {},
     "output_type": "display_data"
    }
   ],
   "source": [
    "# 後処理\n",
    "sub = post_process(train)\n",
    "sub = sub.merge(train[[\"series_id\", \"step\", \"minutes\"]].rename(columns={\"step\": \"key_step\"}), on=[\"series_id\", \"key_step\"], how=\"left\")\n",
    "sub.to_csv(os.path.join(CFG[\"output_dir\"], \"submission.csv\"), index=False)\n",
    "\n",
    "# スコア計算\n",
    "labels = pd.read_csv(f\"{CFG['dataset']['competition_dir']}/train_events.csv\").dropna()\n",
    "score, ap_table = compute_comptetition_metric(labels, sub)\n",
    "print(f\"score: {score:.4f}\")\n",
    "display(ap_table)"
   ]
  },
  {
   "cell_type": "code",
   "execution_count": null,
   "metadata": {},
   "outputs": [],
   "source": []
  }
 ],
 "metadata": {
  "kernelspec": {
   "display_name": "base",
   "language": "python",
   "name": "python3"
  },
  "language_info": {
   "codemirror_mode": {
    "name": "ipython",
    "version": 3
   },
   "file_extension": ".py",
   "mimetype": "text/x-python",
   "name": "python",
   "nbconvert_exporter": "python",
   "pygments_lexer": "ipython3",
   "version": "3.10.10"
  },
  "orig_nbformat": 4
 },
 "nbformat": 4,
 "nbformat_minor": 2
}
