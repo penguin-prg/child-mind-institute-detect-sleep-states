{
 "cells": [
  {
   "cell_type": "code",
   "execution_count": 1,
   "metadata": {},
   "outputs": [
    {
     "name": "stderr",
     "output_type": "stream",
     "text": [
      "2023-10-12 19:25:58.182145: I tensorflow/core/platform/cpu_feature_guard.cc:193] This TensorFlow binary is optimized with oneAPI Deep Neural Network Library (oneDNN) to use the following CPU instructions in performance-critical operations:  AVX2 AVX_VNNI FMA\n",
      "To enable them in other operations, rebuild TensorFlow with the appropriate compiler flags.\n",
      "2023-10-12 19:25:58.615163: I tensorflow/core/util/port.cc:104] oneDNN custom operations are on. You may see slightly different numerical results due to floating-point round-off errors from different computation orders. To turn them off, set the environment variable `TF_ENABLE_ONEDNN_OPTS=0`.\n",
      "2023-10-12 19:26:00.122881: W tensorflow/compiler/xla/stream_executor/platform/default/dso_loader.cc:64] Could not load dynamic library 'libnvinfer.so.7'; dlerror: libnvinfer.so.7: cannot open shared object file: No such file or directory; LD_LIBRARY_PATH: /usr/local/cuda/lib64:/usr/local/cuda/lib:/usr/local/lib/x86_64-linux-gnu:/usr/local/nvidia/lib:/usr/local/nvidia/lib64:/usr/local/nvidia/lib:/usr/local/nvidia/lib64:/opt/conda/lib\n",
      "2023-10-12 19:26:00.123325: W tensorflow/compiler/xla/stream_executor/platform/default/dso_loader.cc:64] Could not load dynamic library 'libnvinfer_plugin.so.7'; dlerror: libnvinfer_plugin.so.7: cannot open shared object file: No such file or directory; LD_LIBRARY_PATH: /usr/local/cuda/lib64:/usr/local/cuda/lib:/usr/local/lib/x86_64-linux-gnu:/usr/local/nvidia/lib:/usr/local/nvidia/lib64:/usr/local/nvidia/lib:/usr/local/nvidia/lib64:/opt/conda/lib\n",
      "2023-10-12 19:26:00.123331: W tensorflow/compiler/tf2tensorrt/utils/py_utils.cc:38] TF-TRT Warning: Cannot dlopen some TensorRT libraries. If you would like to use Nvidia GPU with TensorRT, please make sure the missing libraries mentioned above are installed properly.\n"
     ]
    },
    {
     "name": "stdout",
     "output_type": "stream",
     "text": [
      "exp_080\n"
     ]
    }
   ],
   "source": [
    "import pandas as pd\n",
    "import yaml\n",
    "import sys\n",
    "import os\n",
    "from glob import glob\n",
    "from pathlib import Path\n",
    "import gc\n",
    "import pickle\n",
    "\n",
    "import warnings\n",
    "warnings.filterwarnings('ignore')\n",
    "\n",
    "sys.path.append('/kaggle/src')\n",
    "from utils.xgb import fit_xgb\n",
    "from utils.metric import compute_comptetition_metric\n",
    "from utils.postprocess import post_process\n",
    "from utils.set_seed import seed_base\n",
    "from feature_engineering.stage2 import generate_2nd_stage_features\n",
    "\n",
    "PACKAGE_DIR = Path(\"/kaggle/src\")\n",
    "CFG = yaml.safe_load(open(PACKAGE_DIR / \"config.yaml\", \"r\"))\n",
    "print(CFG[\"2nd_stage\"][\"execution\"][\"exp_id\"])\n",
    "\n",
    "CFG[\"output_dir\"] = f\"/kaggle/output/{CFG['2nd_stage']['execution']['exp_id']}\"\n",
    "!rm -r {CFG[\"output_dir\"]}\n",
    "os.makedirs(CFG[\"output_dir\"], exist_ok=True)\n",
    "\n",
    "seed_base(CFG[\"env\"][\"seed\"])"
   ]
  },
  {
   "cell_type": "code",
   "execution_count": 2,
   "metadata": {},
   "outputs": [
    {
     "name": "stderr",
     "output_type": "stream",
     "text": [
      "generate features: 100%|██████████| 277/277 [07:47<00:00,  1.69s/it]\n"
     ]
    },
    {
     "data": {
      "text/html": [
       "<div>\n",
       "<style scoped>\n",
       "    .dataframe tbody tr th:only-of-type {\n",
       "        vertical-align: middle;\n",
       "    }\n",
       "\n",
       "    .dataframe tbody tr th {\n",
       "        vertical-align: top;\n",
       "    }\n",
       "\n",
       "    .dataframe thead th {\n",
       "        text-align: right;\n",
       "    }\n",
       "</style>\n",
       "<table border=\"1\" class=\"dataframe\">\n",
       "  <thead>\n",
       "    <tr style=\"text-align: right;\">\n",
       "      <th></th>\n",
       "      <th>anglez_diff_abs</th>\n",
       "      <th>anglez_diff_abs_rolling_max_10</th>\n",
       "      <th>anglez_diff_abs_rolling_max_100</th>\n",
       "      <th>anglez_diff_abs_rolling_max_1000</th>\n",
       "      <th>anglez_diff_abs_rolling_max_50</th>\n",
       "      <th>anglez_diff_abs_rolling_mean_10</th>\n",
       "      <th>anglez_diff_abs_rolling_mean_100</th>\n",
       "      <th>anglez_diff_abs_rolling_mean_1000</th>\n",
       "      <th>anglez_diff_abs_rolling_mean_50</th>\n",
       "      <th>anglez_diff_abs_rolling_median_10</th>\n",
       "      <th>...</th>\n",
       "      <th>anglez_mean_rolling_median_1000_shift_416</th>\n",
       "      <th>enmo_mean_rolling_median_1000_shift_416</th>\n",
       "      <th>anglez_rolling_square_mean_1000_shift_416</th>\n",
       "      <th>enmo_rolling_square_mean_1000_shift_416</th>\n",
       "      <th>anglez_diff_abs_rolling_square_mean_1000_shift_416</th>\n",
       "      <th>enmo_diff_abs_rolling_square_mean_1000_shift_416</th>\n",
       "      <th>anglez_mean_rolling_square_mean_1000_shift_416</th>\n",
       "      <th>enmo_mean_rolling_square_mean_1000_shift_416</th>\n",
       "      <th>reduce_step</th>\n",
       "      <th>fold</th>\n",
       "    </tr>\n",
       "  </thead>\n",
       "  <tbody>\n",
       "    <tr>\n",
       "      <th>283</th>\n",
       "      <td>16.702658</td>\n",
       "      <td>38.064583</td>\n",
       "      <td>51.115900</td>\n",
       "      <td>84.6226</td>\n",
       "      <td>51.115900</td>\n",
       "      <td>15.962638</td>\n",
       "      <td>11.263916</td>\n",
       "      <td>8.043460</td>\n",
       "      <td>12.792510</td>\n",
       "      <td>14.257165</td>\n",
       "      <td>...</td>\n",
       "      <td>NaN</td>\n",
       "      <td>NaN</td>\n",
       "      <td>NaN</td>\n",
       "      <td>NaN</td>\n",
       "      <td>NaN</td>\n",
       "      <td>NaN</td>\n",
       "      <td>NaN</td>\n",
       "      <td>NaN</td>\n",
       "      <td>6803</td>\n",
       "      <td>3</td>\n",
       "    </tr>\n",
       "    <tr>\n",
       "      <th>284</th>\n",
       "      <td>7.195825</td>\n",
       "      <td>28.564683</td>\n",
       "      <td>51.115900</td>\n",
       "      <td>84.6226</td>\n",
       "      <td>51.115900</td>\n",
       "      <td>8.541195</td>\n",
       "      <td>12.527601</td>\n",
       "      <td>7.737612</td>\n",
       "      <td>12.364961</td>\n",
       "      <td>6.165692</td>\n",
       "      <td>...</td>\n",
       "      <td>NaN</td>\n",
       "      <td>NaN</td>\n",
       "      <td>NaN</td>\n",
       "      <td>NaN</td>\n",
       "      <td>NaN</td>\n",
       "      <td>NaN</td>\n",
       "      <td>NaN</td>\n",
       "      <td>NaN</td>\n",
       "      <td>6827</td>\n",
       "      <td>3</td>\n",
       "    </tr>\n",
       "    <tr>\n",
       "      <th>285</th>\n",
       "      <td>16.351179</td>\n",
       "      <td>34.583987</td>\n",
       "      <td>51.115900</td>\n",
       "      <td>84.6226</td>\n",
       "      <td>40.295400</td>\n",
       "      <td>15.494380</td>\n",
       "      <td>12.499973</td>\n",
       "      <td>7.288104</td>\n",
       "      <td>12.204054</td>\n",
       "      <td>14.248077</td>\n",
       "      <td>...</td>\n",
       "      <td>NaN</td>\n",
       "      <td>NaN</td>\n",
       "      <td>NaN</td>\n",
       "      <td>NaN</td>\n",
       "      <td>NaN</td>\n",
       "      <td>NaN</td>\n",
       "      <td>NaN</td>\n",
       "      <td>NaN</td>\n",
       "      <td>6851</td>\n",
       "      <td>3</td>\n",
       "    </tr>\n",
       "    <tr>\n",
       "      <th>286</th>\n",
       "      <td>10.855896</td>\n",
       "      <td>32.284983</td>\n",
       "      <td>42.890471</td>\n",
       "      <td>84.6226</td>\n",
       "      <td>38.495083</td>\n",
       "      <td>10.967216</td>\n",
       "      <td>12.269771</td>\n",
       "      <td>6.938846</td>\n",
       "      <td>12.743385</td>\n",
       "      <td>6.737581</td>\n",
       "      <td>...</td>\n",
       "      <td>NaN</td>\n",
       "      <td>NaN</td>\n",
       "      <td>NaN</td>\n",
       "      <td>NaN</td>\n",
       "      <td>NaN</td>\n",
       "      <td>NaN</td>\n",
       "      <td>NaN</td>\n",
       "      <td>NaN</td>\n",
       "      <td>6875</td>\n",
       "      <td>3</td>\n",
       "    </tr>\n",
       "    <tr>\n",
       "      <th>287</th>\n",
       "      <td>11.523954</td>\n",
       "      <td>27.963821</td>\n",
       "      <td>43.971200</td>\n",
       "      <td>84.6226</td>\n",
       "      <td>41.090162</td>\n",
       "      <td>12.171813</td>\n",
       "      <td>13.303702</td>\n",
       "      <td>6.618652</td>\n",
       "      <td>12.236429</td>\n",
       "      <td>10.896129</td>\n",
       "      <td>...</td>\n",
       "      <td>NaN</td>\n",
       "      <td>NaN</td>\n",
       "      <td>NaN</td>\n",
       "      <td>NaN</td>\n",
       "      <td>NaN</td>\n",
       "      <td>NaN</td>\n",
       "      <td>NaN</td>\n",
       "      <td>NaN</td>\n",
       "      <td>6899</td>\n",
       "      <td>3</td>\n",
       "    </tr>\n",
       "  </tbody>\n",
       "</table>\n",
       "<p>5 rows × 1382 columns</p>\n",
       "</div>"
      ],
      "text/plain": [
       "     anglez_diff_abs  anglez_diff_abs_rolling_max_10  \\\n",
       "283        16.702658                       38.064583   \n",
       "284         7.195825                       28.564683   \n",
       "285        16.351179                       34.583987   \n",
       "286        10.855896                       32.284983   \n",
       "287        11.523954                       27.963821   \n",
       "\n",
       "     anglez_diff_abs_rolling_max_100  anglez_diff_abs_rolling_max_1000  \\\n",
       "283                        51.115900                           84.6226   \n",
       "284                        51.115900                           84.6226   \n",
       "285                        51.115900                           84.6226   \n",
       "286                        42.890471                           84.6226   \n",
       "287                        43.971200                           84.6226   \n",
       "\n",
       "     anglez_diff_abs_rolling_max_50  anglez_diff_abs_rolling_mean_10  \\\n",
       "283                       51.115900                        15.962638   \n",
       "284                       51.115900                         8.541195   \n",
       "285                       40.295400                        15.494380   \n",
       "286                       38.495083                        10.967216   \n",
       "287                       41.090162                        12.171813   \n",
       "\n",
       "     anglez_diff_abs_rolling_mean_100  anglez_diff_abs_rolling_mean_1000  \\\n",
       "283                         11.263916                           8.043460   \n",
       "284                         12.527601                           7.737612   \n",
       "285                         12.499973                           7.288104   \n",
       "286                         12.269771                           6.938846   \n",
       "287                         13.303702                           6.618652   \n",
       "\n",
       "     anglez_diff_abs_rolling_mean_50  anglez_diff_abs_rolling_median_10  ...  \\\n",
       "283                        12.792510                          14.257165  ...   \n",
       "284                        12.364961                           6.165692  ...   \n",
       "285                        12.204054                          14.248077  ...   \n",
       "286                        12.743385                           6.737581  ...   \n",
       "287                        12.236429                          10.896129  ...   \n",
       "\n",
       "     anglez_mean_rolling_median_1000_shift_416  \\\n",
       "283                                        NaN   \n",
       "284                                        NaN   \n",
       "285                                        NaN   \n",
       "286                                        NaN   \n",
       "287                                        NaN   \n",
       "\n",
       "     enmo_mean_rolling_median_1000_shift_416  \\\n",
       "283                                      NaN   \n",
       "284                                      NaN   \n",
       "285                                      NaN   \n",
       "286                                      NaN   \n",
       "287                                      NaN   \n",
       "\n",
       "     anglez_rolling_square_mean_1000_shift_416  \\\n",
       "283                                        NaN   \n",
       "284                                        NaN   \n",
       "285                                        NaN   \n",
       "286                                        NaN   \n",
       "287                                        NaN   \n",
       "\n",
       "     enmo_rolling_square_mean_1000_shift_416  \\\n",
       "283                                      NaN   \n",
       "284                                      NaN   \n",
       "285                                      NaN   \n",
       "286                                      NaN   \n",
       "287                                      NaN   \n",
       "\n",
       "     anglez_diff_abs_rolling_square_mean_1000_shift_416  \\\n",
       "283                                                NaN    \n",
       "284                                                NaN    \n",
       "285                                                NaN    \n",
       "286                                                NaN    \n",
       "287                                                NaN    \n",
       "\n",
       "     enmo_diff_abs_rolling_square_mean_1000_shift_416  \\\n",
       "283                                               NaN   \n",
       "284                                               NaN   \n",
       "285                                               NaN   \n",
       "286                                               NaN   \n",
       "287                                               NaN   \n",
       "\n",
       "     anglez_mean_rolling_square_mean_1000_shift_416  \\\n",
       "283                                             NaN   \n",
       "284                                             NaN   \n",
       "285                                             NaN   \n",
       "286                                             NaN   \n",
       "287                                             NaN   \n",
       "\n",
       "     enmo_mean_rolling_square_mean_1000_shift_416  reduce_step  fold  \n",
       "283                                           NaN         6803     3  \n",
       "284                                           NaN         6827     3  \n",
       "285                                           NaN         6851     3  \n",
       "286                                           NaN         6875     3  \n",
       "287                                           NaN         6899     3  \n",
       "\n",
       "[5 rows x 1382 columns]"
      ]
     },
     "metadata": {},
     "output_type": "display_data"
    },
    {
     "data": {
      "text/plain": [
       "(877617, 1382)"
      ]
     },
     "execution_count": 2,
     "metadata": {},
     "output_type": "execute_result"
    }
   ],
   "source": [
    "# 特徴生成\n",
    "files = glob(f\"{CFG['dataset']['step_csv_dir']}/*.csv\")\n",
    "train, features = generate_2nd_stage_features(files)\n",
    "\n",
    "# cv splitとマージ\n",
    "cv_split = pd.read_csv(CFG['dataset']['cv_split_path'])\n",
    "train[\"fold\"] = train[\"series_id\"].map(cv_split.set_index(\"series_id\")[\"fold\"])\n",
    "display(train.head(5))\n",
    "train.shape"
   ]
  },
  {
   "cell_type": "code",
   "execution_count": 3,
   "metadata": {},
   "outputs": [
    {
     "name": "stderr",
     "output_type": "stream",
     "text": [
      "  0%|          | 0/5 [00:00<?, ?it/s]"
     ]
    },
    {
     "name": "stdout",
     "output_type": "stream",
     "text": [
      "== fold 0 ==\n",
      "[0]\teval-rmse:1.72168\n",
      "[100]\teval-rmse:0.95520\n",
      "[200]\teval-rmse:0.95274\n",
      "[300]\teval-rmse:0.95204\n",
      "[400]\teval-rmse:0.95065\n",
      "[500]\teval-rmse:0.95213\n",
      "[531]\teval-rmse:0.95294\n"
     ]
    },
    {
     "name": "stderr",
     "output_type": "stream",
     "text": [
      " 20%|██        | 1/5 [00:49<03:17, 49.35s/it]"
     ]
    },
    {
     "name": "stdout",
     "output_type": "stream",
     "text": [
      "== fold 1 ==\n",
      "[0]\teval-rmse:1.61245\n",
      "[100]\teval-rmse:0.91567\n",
      "[200]\teval-rmse:0.91145\n",
      "[300]\teval-rmse:0.91544\n"
     ]
    },
    {
     "name": "stderr",
     "output_type": "stream",
     "text": [
      " 40%|████      | 2/5 [01:27<02:07, 42.53s/it]"
     ]
    },
    {
     "name": "stdout",
     "output_type": "stream",
     "text": [
      "== fold 2 ==\n",
      "[0]\teval-rmse:1.64923\n",
      "[100]\teval-rmse:0.95364\n",
      "[200]\teval-rmse:0.95302\n",
      "[234]\teval-rmse:0.95335\n"
     ]
    },
    {
     "name": "stderr",
     "output_type": "stream",
     "text": [
      " 60%|██████    | 3/5 [01:59<01:16, 38.11s/it]"
     ]
    },
    {
     "name": "stdout",
     "output_type": "stream",
     "text": [
      "== fold 3 ==\n",
      "[0]\teval-rmse:1.62008\n",
      "[100]\teval-rmse:0.89580\n",
      "[200]\teval-rmse:0.89335\n",
      "[241]\teval-rmse:0.89506\n"
     ]
    },
    {
     "name": "stderr",
     "output_type": "stream",
     "text": [
      " 80%|████████  | 4/5 [02:31<00:35, 35.39s/it]"
     ]
    },
    {
     "name": "stdout",
     "output_type": "stream",
     "text": [
      "== fold 4 ==\n",
      "[0]\teval-rmse:1.69496\n",
      "[100]\teval-rmse:0.95964\n",
      "[200]\teval-rmse:0.96164\n",
      "[227]\teval-rmse:0.96294\n"
     ]
    },
    {
     "name": "stderr",
     "output_type": "stream",
     "text": [
      "100%|██████████| 5/5 [02:59<00:00, 35.95s/it]\n",
      "  0%|          | 0/5 [00:00<?, ?it/s]"
     ]
    },
    {
     "name": "stdout",
     "output_type": "stream",
     "text": [
      "== fold 0 ==\n",
      "[0]\teval-rmse:1.72312\n",
      "[100]\teval-rmse:0.95091\n",
      "[200]\teval-rmse:0.94745\n",
      "[300]\teval-rmse:0.94750\n",
      "[310]\teval-rmse:0.94761\n"
     ]
    },
    {
     "name": "stderr",
     "output_type": "stream",
     "text": [
      " 20%|██        | 1/5 [00:30<02:01, 30.26s/it]"
     ]
    },
    {
     "name": "stdout",
     "output_type": "stream",
     "text": [
      "== fold 1 ==\n",
      "[0]\teval-rmse:1.61064\n",
      "[100]\teval-rmse:0.92324\n",
      "[200]\teval-rmse:0.92537\n",
      "[221]\teval-rmse:0.92876\n"
     ]
    },
    {
     "name": "stderr",
     "output_type": "stream",
     "text": [
      " 40%|████      | 2/5 [01:02<01:34, 31.65s/it]"
     ]
    },
    {
     "name": "stdout",
     "output_type": "stream",
     "text": [
      "== fold 2 ==\n",
      "[0]\teval-rmse:1.65728\n",
      "[100]\teval-rmse:0.95606\n",
      "[191]\teval-rmse:0.95673\n"
     ]
    },
    {
     "name": "stderr",
     "output_type": "stream",
     "text": [
      " 60%|██████    | 3/5 [01:32<01:01, 30.68s/it]"
     ]
    },
    {
     "name": "stdout",
     "output_type": "stream",
     "text": [
      "== fold 3 ==\n",
      "[0]\teval-rmse:1.62209\n",
      "[100]\teval-rmse:0.94921\n",
      "[181]\teval-rmse:0.95035\n"
     ]
    },
    {
     "name": "stderr",
     "output_type": "stream",
     "text": [
      " 80%|████████  | 4/5 [02:03<00:30, 30.91s/it]"
     ]
    },
    {
     "name": "stdout",
     "output_type": "stream",
     "text": [
      "== fold 4 ==\n",
      "[0]\teval-rmse:1.68978\n",
      "[100]\teval-rmse:0.97304\n",
      "[200]\teval-rmse:0.97111\n",
      "[300]\teval-rmse:0.96992\n",
      "[400]\teval-rmse:0.97034\n",
      "[417]\teval-rmse:0.97075\n"
     ]
    },
    {
     "name": "stderr",
     "output_type": "stream",
     "text": [
      "100%|██████████| 5/5 [02:51<00:00, 34.28s/it]\n"
     ]
    }
   ],
   "source": [
    "# 学習\n",
    "dfs = []\n",
    "for event in [\"wakeup\", \"onset\"]:\n",
    "    trn_oof, models = fit_xgb(\n",
    "        X=train, \n",
    "        y=train[f\"{event}_target\"], \n",
    "        folds=train[\"fold\"].astype(int), \n",
    "        features=features.all_features(),\n",
    "        params=CFG[\"2nd_stage\"][\"xgboost\"], \n",
    "        es_rounds=100,\n",
    "    )\n",
    "    train[\"score\"] = trn_oof\n",
    "    train[\"event\"] = event\n",
    "    dfs.append(train[[\"series_id\", \"step\", \"score\", \"event\"]])\n",
    "del train\n",
    "gc.collect()\n",
    "train = pd.concat(dfs, axis=0)\n",
    "train[\"step\"] = train[\"step\"].astype(int)\n",
    "train = train.sort_values([\"series_id\", \"step\"]).reset_index(drop=True)\n",
    "\n",
    "# 保存\n",
    "for i, model in enumerate(models):\n",
    "    model.save_model(os.path.join(CFG[\"output_dir\"], f'xgb_fold{i}.model'))\n",
    "with open(os.path.join(CFG[\"output_dir\"], \"features.pkl\"), \"wb\") as f:\n",
    "    pickle.dump(features, f)\n",
    "train.to_csv(os.path.join(CFG[\"output_dir\"], \"oof.csv\"), index=False)"
   ]
  },
  {
   "cell_type": "markdown",
   "metadata": {},
   "source": [
    "## Dynamic-Range NMS"
   ]
  },
  {
   "cell_type": "code",
   "execution_count": 4,
   "metadata": {},
   "outputs": [
    {
     "data": {
      "text/plain": [
       "<AxesSubplot: >"
      ]
     },
     "execution_count": 4,
     "metadata": {},
     "output_type": "execute_result"
    },
    {
     "data": {
      "image/png": "[encoded data removed]",
      "text/plain": [
       "<Figure size 640x480 with 1 Axes>"
      ]
     },
     "metadata": {},
     "output_type": "display_data"
    }
   ],
   "source": [
    "train[\"score\"].hist()"
   ]
  },
  {
   "cell_type": "code",
   "execution_count": 5,
   "metadata": {},
   "outputs": [],
   "source": [
    "train = train[train[\"score\"] > 0.1]"
   ]
  },
  {
   "cell_type": "code",
   "execution_count": 6,
   "metadata": {},
   "outputs": [
    {
     "name": "stderr",
     "output_type": "stream",
     "text": [
      "100%|██████████| 277/277 [33:29<00:00,  7.26s/it]  \n"
     ]
    }
   ],
   "source": [
    "import scipy\n",
    "from multiprocessing import Pool\n",
    "from tqdm import tqdm\n",
    "import numpy as np\n",
    "\n",
    "score2range = scipy.interpolate.interp1d([-100, 0, 1, 2, 3, 4, 5, 6, 7, 8, 9, 10, 100], [0, 0, 12, 36, 60, 90, 120, 150, 180, 240, 300, 360, 360])\n",
    "range2score = scipy.interpolate.interp1d([0, 12, 36, 60, 90, 120, 150, 180, 240, 300, 360], [0, 1, 2, 3, 4, 5, 6, 7, 8, 9, 10])\n",
    "score2range(1.5)\n",
    "\n",
    "def process_group(df):\n",
    "    dfs = []\n",
    "    df = df.sort_values(\"score\", ascending=False).reset_index(drop=True)\n",
    "    used = np.zeros(len(df))\n",
    "    reduce_rate = np.ones(df[\"step\"].max() + 500)\n",
    "    for _ in range(len(df)):\n",
    "        best_score = -1e10\n",
    "        best_idx = -1\n",
    "        best_step = -1\n",
    "        best_row = -1\n",
    "        for i, row in df.iterrows():\n",
    "            if used[i]:\n",
    "                continue\n",
    "            score = row[\"score\"] / reduce_rate[row[\"step\"]]\n",
    "            if score > best_score:\n",
    "                best_score = score\n",
    "                best_idx = i\n",
    "                best_step = row[\"step\"]\n",
    "                row[\"reduced_score\"] = score\n",
    "                best_row = row\n",
    "        dfs.append(best_row)\n",
    "        used[best_idx] = True\n",
    "\n",
    "        range_ = score2range(best_score)\n",
    "        for r in range(1, int(range_)):\n",
    "            reduce = range2score(range_ - r) + 1\n",
    "            reduce_rate[best_step + r] = max(reduce_rate[best_step + r], reduce)\n",
    "            if best_step - r >= 0:\n",
    "                reduce_rate[best_step - r] = max(reduce_rate[best_step - r], reduce)\n",
    "    return dfs\n",
    "\n",
    "groups = [group for _, group in train.groupby(\"series_id\")]\n",
    "with Pool(30) as p:  \n",
    "    results = list(tqdm(p.imap(process_group, groups), total=len(groups)))\n",
    "all_results = [item for sublist in results for item in sublist]\n",
    "sub = pd.DataFrame(all_results)\n",
    "sub[\"score\"] = sub[\"reduced_score\"]"
   ]
  },
  {
   "cell_type": "code",
   "execution_count": 7,
   "metadata": {},
   "outputs": [
    {
     "name": "stdout",
     "output_type": "stream",
     "text": [
      "score: 0.7125\n"
     ]
    },
    {
     "data": {
      "text/plain": [
       "event   tolerance\n",
       "onset   12           0.110789\n",
       "        36           0.465851\n",
       "        60           0.679687\n",
       "        90           0.777703\n",
       "        120          0.810383\n",
       "        150          0.825383\n",
       "        180          0.834987\n",
       "        240          0.844375\n",
       "        300          0.851741\n",
       "        360          0.857183\n",
       "wakeup  12           0.119775\n",
       "        36           0.506401\n",
       "        60           0.696915\n",
       "        90           0.783156\n",
       "        120          0.815126\n",
       "        150          0.827777\n",
       "        180          0.841412\n",
       "        240          0.855677\n",
       "        300          0.868081\n",
       "        360          0.877395\n",
       "dtype: float64"
      ]
     },
     "metadata": {},
     "output_type": "display_data"
    }
   ],
   "source": [
    "# スコア計算\n",
    "labels = pd.read_csv(f\"{CFG['dataset']['competition_dir']}/train_events.csv\").dropna()\n",
    "score, ap_table = compute_comptetition_metric(labels, sub)\n",
    "print(f\"score: {score:.4f}\")\n",
    "display(ap_table)\n",
    "sub.to_csv(os.path.join(CFG[\"output_dir\"], \"submission_after_nms.csv\"), index=False)"
   ]
  },
  {
   "cell_type": "code",
   "execution_count": null,
   "metadata": {},
   "outputs": [],
   "source": []
  },
  {
   "cell_type": "code",
   "execution_count": null,
   "metadata": {},
   "outputs": [],
   "source": []
  }
 ],
 "metadata": {
  "kernelspec": {
   "display_name": "base",
   "language": "python",
   "name": "python3"
  },
  "language_info": {
   "codemirror_mode": {
    "name": "ipython",
    "version": 3
   },
   "file_extension": ".py",
   "mimetype": "text/x-python",
   "name": "python",
   "nbconvert_exporter": "python",
   "pygments_lexer": "ipython3",
   "version": "3.10.10"
  },
  "orig_nbformat": 4
 },
 "nbformat": 4,
 "nbformat_minor": 2
}
